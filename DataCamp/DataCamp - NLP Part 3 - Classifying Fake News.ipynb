{
 "cells": [
  {
   "cell_type": "markdown",
   "metadata": {},
   "source": [
    "<font color = blue size=5><b> 3. Named-entity recognition</font>"
   ]
  },
  {
   "cell_type": "markdown",
   "metadata": {},
   "source": [
    "<font color = green size=3><b> 3.1 NER with NLTK</font>\n",
    "- Named Entity recognition is a NLP task used to identify important named entities in the text\n",
    " - people, place, organization\n",
    " - dates, states, works of art\n",
    " - ... and many more!\n",
    "- NER can be used alongside topic identifiation, or on its own!\n",
    "\n",
    "**NLTK and the Stanford CoreNLP library**\n",
    "- integrated into python via nltk\n",
    "- java based\n",
    "- you can also used it on its own without nltk\n",
    "- great support for NER as well as coreference and depenency trees!\n",
    "\n",
    "**TASKS: NER with NLTK**\n",
    "- Tokenize article into sentences.\n",
    "- Tokenize each sentence in sentences into words using a list comprehension.\n",
    "- Inside a list comprehension, tag each tokenized sentence into parts of speech using nltk.pos_tag().\n",
    "- Chunk each tagged sentence into named-entity chunks using nltk.ne_chunk_sents(). Along with pos_sentences, specify the additional keyword argument binary=True.\n",
    "- Loop over each sentence and each chunk, and test whether it is a named-entity chunk by testing if it has the attribute label, and if the chunk.label() is equal to \"NE\". If so, print that chunk.\n",
    "\n",
    "**HINT**\n",
    "- Use nltk.sent_tokenize() to tokenize article into sentences.\n",
    "- Use nltk.word_tokenize() with sent as the argument as the output expression of your list comprehension to tokenize each sentence into words.\n",
    "- Similar to how you created token_sentences, use nltk.pos_tag() to create pos_sentences.\n",
    "- To chunk each tagged sentence into named-entity chunks, use the nltk.ne_chunk_sents() function with two arguments: the parts of speech tagged sentences, as well as binary=True.\n",
    "- Inside the nested for loop, check whether chunk.label() equals \"NE\". If it does, print that chunk."
   ]
  },
  {
   "cell_type": "code",
   "execution_count": 1,
   "metadata": {
    "collapsed": true
   },
   "outputs": [],
   "source": [
    "article = '\\ufeffThe taxi-hailing company Uber brings into very sharp focus the question of whether corporations can be said to have a moral character. If any human being were to behave with the single-minded and ruthless greed of the company, we would consider them sociopathic. Uber wanted to know as much as possible about the people who use its service, and those who don’t. It has an arrangement with unroll.me, a company which offered a free service for unsubscribing from junk mail, to buy the contacts unroll.me customers had had with rival taxi companies. Even if their email was notionally anonymised, this use of it was not something the users had bargained for. Beyond that, it keeps track of the phones that have been used to summon its services even after the original owner has sold them, attempting this with Apple’s phones even thought it is forbidden by the company.\\r\\n\\r\\n\\r\\nUber has also tweaked its software so that regulatory agencies that the company regarded as hostile would, when they tried to hire a driver, be given false reports about the location of its cars. Uber management booked and then cancelled rides with a rival taxi-hailing company which took their vehicles out of circulation. Uber deny this was the intention. The punishment for this behaviour was negligible. Uber promised not to use this “greyball” software against law enforcement – one wonders what would happen to someone carrying a knife who promised never to stab a policeman with it. Travis Kalanick of Uber got a personal dressing down from Tim Cook, who runs Apple, but the company did not prohibit the use of the app. Too much money was at stake for that.\\r\\n\\r\\n\\r\\nMillions of people around the world value the cheapness and convenience of Uber’s rides too much to care about the lack of drivers’ rights or pay. Many of the users themselves are not much richer than the drivers. The “sharing economy” encourages the insecure and exploited to exploit others equally insecure to the profit of a tiny clique of billionaires. Silicon Valley’s culture seems hostile to humane and democratic values. The outgoing CEO of Yahoo, Marissa Mayer, who is widely judged to have been a failure, is likely to get a $186m payout. This may not be a cause for panic, any more than the previous hero worship should have been a cause for euphoria. Yet there’s an urgent political task to tame these companies, to ensure they are punished when they break the law, that they pay their taxes fairly and that they behave responsibly.'"
   ]
  },
  {
   "cell_type": "code",
   "execution_count": 2,
   "metadata": {},
   "outputs": [
    {
     "name": "stdout",
     "output_type": "stream",
     "text": [
      "20\n"
     ]
    },
    {
     "data": {
      "text/plain": [
       "'\\ufeffThe taxi-hailing company Uber brings into very sharp focus the question of whether corporations can be said to have a moral character.'"
      ]
     },
     "execution_count": 2,
     "metadata": {},
     "output_type": "execute_result"
    }
   ],
   "source": [
    "import nltk\n",
    "\n",
    "# Tokenize the article into sentences: sentences\n",
    "sentences = nltk.sent_tokenize(article)\n",
    "print(len(sentences))\n",
    "sentences[0]"
   ]
  },
  {
   "cell_type": "code",
   "execution_count": 3,
   "metadata": {},
   "outputs": [
    {
     "name": "stdout",
     "output_type": "stream",
     "text": [
      "20\n"
     ]
    },
    {
     "data": {
      "text/plain": [
       "['\\ufeffThe',\n",
       " 'taxi-hailing',\n",
       " 'company',\n",
       " 'Uber',\n",
       " 'brings',\n",
       " 'into',\n",
       " 'very',\n",
       " 'sharp',\n",
       " 'focus',\n",
       " 'the']"
      ]
     },
     "execution_count": 3,
     "metadata": {},
     "output_type": "execute_result"
    }
   ],
   "source": [
    "# Tokenize each sentence into words: token_sentences\n",
    "token_sentences = [nltk.word_tokenize(sent) for sent in sentences]\n",
    "print(len(token_sentences))\n",
    "token_sentences[0][0:10]"
   ]
  },
  {
   "cell_type": "code",
   "execution_count": 4,
   "metadata": {},
   "outputs": [
    {
     "name": "stdout",
     "output_type": "stream",
     "text": [
      "20\n"
     ]
    },
    {
     "data": {
      "text/plain": [
       "[('\\ufeffThe', 'JJ'),\n",
       " ('taxi-hailing', 'JJ'),\n",
       " ('company', 'NN'),\n",
       " ('Uber', 'NNP'),\n",
       " ('brings', 'VBZ'),\n",
       " ('into', 'IN'),\n",
       " ('very', 'RB'),\n",
       " ('sharp', 'JJ'),\n",
       " ('focus', 'VB'),\n",
       " ('the', 'DT')]"
      ]
     },
     "execution_count": 4,
     "metadata": {},
     "output_type": "execute_result"
    }
   ],
   "source": [
    "# Tag each tokenized sentence into parts of speech: pos_sentences\n",
    "pos_sentences = [nltk.pos_tag(sent) for sent in token_sentences]\n",
    "print(len(pos_sentences))\n",
    "pos_sentences[0][0:10]"
   ]
  },
  {
   "cell_type": "code",
   "execution_count": 5,
   "metadata": {},
   "outputs": [
    {
     "data": {
      "text/plain": [
       "<generator object ParserI.parse_sents.<locals>.<genexpr> at 0x0000019D58E222B0>"
      ]
     },
     "execution_count": 5,
     "metadata": {},
     "output_type": "execute_result"
    }
   ],
   "source": [
    "# Create the named entity chunks: chunked_sentences\n",
    "chunked_sentences = nltk.ne_chunk_sents(pos_sentences, binary=True)\n",
    "chunked_sentences"
   ]
  },
  {
   "cell_type": "code",
   "execution_count": 6,
   "metadata": {},
   "outputs": [
    {
     "name": "stdout",
     "output_type": "stream",
     "text": [
      "(NE Uber/NNP)\n",
      "(NE Beyond/NN)\n",
      "(NE Apple/NNP)\n",
      "(NE Uber/NNP)\n",
      "(NE Uber/NNP)\n",
      "(NE Travis/NNP Kalanick/NNP)\n",
      "(NE Tim/NNP Cook/NNP)\n",
      "(NE Apple/NNP)\n",
      "(NE Silicon/NNP Valley/NNP)\n",
      "(NE CEO/NNP)\n",
      "(NE Yahoo/NNP)\n",
      "(NE Marissa/NNP Mayer/NNP)\n",
      "<generator object ParserI.parse_sents.<locals>.<genexpr> at 0x0000019D58E222B0>\n"
     ]
    }
   ],
   "source": [
    "# Test for stems of the tree with 'NE' tags\n",
    "for sent in chunked_sentences:\n",
    "    for chunk in sent:\n",
    "        #use  python function \"hasattr()\" to check if an object has the attribute 'label'\n",
    "        #I beleive only chunks classified as 'NE' have the attribute 'label'\n",
    "        if hasattr(chunk, \"label\") and chunk.label() == \"NE\":\n",
    "            print(chunk)  \n",
    "\n",
    "print(chunked_sentences)"
   ]
  },
  {
   "cell_type": "markdown",
   "metadata": {},
   "source": [
    "**TASK: Charting practice**\n",
    "\n",
    "In this exercise, you'll use some extracted named entities and their groupings from a series of newspaper articles to chart the diversity of named entity types in the articles.\n",
    "\n",
    "You'll use a defaultdict called ner_categories, with keys representing every named entity group type, and values to count the number of each different named entity type. You have a chunked sentence list called chunked_sentences similar to the last exercise, but this time with non-binary category names.\n",
    "\n",
    "You can use hasattr() to determine if each chunk has a 'label' and then simply use the chunk's .label() method as the dictionary key.\n",
    "\n",
    "**INSTRUCTIONS**\n",
    "- Create a defaultdict called ner_categories, with the default type set to int.\n",
    "- Fill up the dictionary with values for each of the keys. Remember, the keys will represent the label().\n",
    "    - In the outer for loop, iterate over chunked_sentences, using sent as your iterator variable.\n",
    "    - In the inner for loop, iterate over sent. If the condition is true, increment the value of each key by 1.\n",
    "- For the pie chart labels, create a list called labels from the keys of ner_categories, which can be accessed using .keys().\n",
    "- Use a list comprehension to create a list called values, using the .get() method on ner_categories to compute the values of each label l.\n",
    "- Use plt.pie() to create a pie chart for each of the NER categories. Along with values and labels=labels, pass the extra keyword arguments autopct='%1.1f%%' and startangle=140 to add percentages to the chart and rotate the initial start angle.\n",
    "- Display your pie chart. Was the distribution what you expected?\n",
    "\n",
    "**HINT**\n",
    "- Use defaultdict(int) to create ner_categories.\n",
    "- If the condition inside the nested for loop is true, increment ner_categories[chunk.label()].\n",
    "- Use the .keys() method on ner_categories to access its keys.\n",
    "- Use the .get() method on ner_categories with l as the argument to compute the values.\n",
    "- Use plt.pie() with the arguments specified in the instructions to create the pie chart. Then, use plt.show() to display it."
   ]
  },
  {
   "cell_type": "code",
   "execution_count": 7,
   "metadata": {
    "collapsed": true
   },
   "outputs": [],
   "source": [
    "#manually import some (about one tenth) of the trees\n",
    "#the whole dataset is too big!\n",
    "from nltk.tree import *\n",
    "chunked_sentences = [Tree('S', [('\\ufeffImage', 'NN'), ('copyright', 'NN'), Tree('ORGANIZATION', [('EPA', 'NNP'), ('Image', 'NNP')]), ('caption', 'NN'), ('Uber', 'NNP'), ('has', 'VBZ'), ('been', 'VBN'), ('criticised', 'VBN'), ('many', 'JJ'), ('times', 'NNS'), ('over', 'IN'), ('the', 'DT'), ('way', 'NN'), ('it', 'PRP'), ('runs', 'VBZ'), ('its', 'PRP$'), ('business', 'NN'), ('Ride-sharing', 'JJ'), ('firm', 'NN'), ('Uber', 'NNP'), ('is', 'VBZ'), ('facing', 'VBG'), ('a', 'DT'), ('criminal', 'JJ'), ('investigation', 'NN'), ('by', 'IN'), ('the', 'DT'), Tree('GPE', [('US', 'JJ')]), ('government', 'NN'), ('.', '.')]),\n",
    " Tree('S', [('The', 'DT'), ('scrutiny', 'NN'), ('has', 'VBZ'), ('started', 'VBN'), ('because', 'IN'), ('the', 'DT'), ('firm', 'NN'), ('is', 'VBZ'), ('accused', 'VBN'), ('of', 'IN'), ('using', 'VBG'), ('``', '``'), ('secret', 'JJ'), (\"''\", \"''\"), ('software', 'NN'), ('that', 'WDT'), ('let', 'VBD'), ('it', 'PRP'), ('operate', 'VB'), ('in', 'IN'), ('regions', 'NNS'), ('where', 'WRB'), ('it', 'PRP'), ('was', 'VBD'), ('banned', 'VBN'), ('or', 'CC'), ('restricted', 'VBN'), ('.', '.')]),\n",
    " Tree('S', [('The', 'DT'), ('software', 'NN'), (',', ','), ('called', 'VBN'), ('``', '``'), ('greyball', 'NN'), (\"''\", \"''\"), (',', ','), ('helped', 'VBD'), ('it', 'PRP'), ('identify', 'VB'), ('officials', 'NNS'), ('seeking', 'VBG'), ('to', 'TO'), ('stop', 'VB'), ('the', 'DT'), ('service', 'NN'), ('running', 'VBG'), ('.', '.')]),\n",
    " Tree('S', [('A', 'DT'), ('spokesman', 'NN'), ('for', 'IN'), Tree('PERSON', [('Uber', 'NNP')]), ('declined', 'VBD'), ('to', 'TO'), ('comment', 'VB'), ('on', 'IN'), ('the', 'DT'), ('investigation', 'NN'), (',', ','), ('reported', 'VBD'), ('the', 'DT'), Tree('ORGANIZATION', [('Reuters', 'NNPS')]), ('news', 'NN'), ('agency', 'NN'), ('.', '.')]),\n",
    " Tree('S', [('It', 'PRP'), ('is', 'VBZ'), ('claimed', 'VBN'), ('greyball', 'NN'), ('was', 'VBD'), ('used', 'VBN'), ('in', 'IN'), ('several', 'JJ'), ('areas', 'NNS'), (',', ','), ('including', 'VBG'), Tree('GPE', [('Portland', 'NNP')]), (',', ','), Tree('GPE', [('Oregon', 'NNP')]), (',', ','), ('where', 'WRB'), ('the', 'DT'), ('ride', 'NN'), ('service', 'NN'), ('was', 'VBD'), ('still', 'RB'), ('seeking', 'VBG'), ('official', 'JJ'), ('approval', 'NN'), ('to', 'TO'), ('operate', 'VB'), ('.', '.')]),\n",
    " Tree('S', [('Bookings', 'NNS'), ('blocked', 'VBN'), ('In', 'IN'), ('those', 'DT'), ('areas', 'NNS'), (',', ','), ('transport', 'NN'), ('regulation', 'NN'), ('officials', 'NNS'), ('posed', 'VBD'), ('as', 'IN'), ('passengers', 'NNS'), ('in', 'IN'), ('a', 'DT'), ('bid', 'NN'), ('to', 'TO'), ('prove', 'VB'), ('that', 'IN'), ('the', 'DT'), ('company', 'NN'), ('was', 'VBD'), ('operating', 'VBG'), ('illegally', 'RB'), ('.', '.')]),\n",
    " Tree('S', [Tree('GPE', [('Greyball', 'NNP')]), ('worked', 'VBD'), ('out', 'RP'), ('who', 'WP'), ('the', 'DT'), ('officials', 'NNS'), ('were', 'VBD'), ('and', 'CC'), ('blocked', 'VBD'), ('them', 'PRP'), ('from', 'IN'), ('booking', 'VBG'), ('rides', 'NNS'), ('with', 'IN'), ('the', 'DT'), ('company', 'NN'), (\"'s\", 'POS'), ('drivers', 'NNS'), ('.', '.')]),\n",
    " Tree('S', [('In', 'IN'), ('a', 'DT'), ('letter', 'NN'), ('sent', 'VBN'), ('last', 'JJ'), ('week', 'NN'), ('to', 'TO'), ('transport', 'VB'), ('regulators', 'NNS'), ('in', 'IN'), Tree('GPE', [('Portland', 'NNP')]), (',', ','), Tree('PERSON', [('Uber', 'NNP')]), ('said', 'VBD'), ('it', 'PRP'), ('used', 'VBD'), ('the', 'DT'), ('greyball', 'NN'), ('software', 'NN'), ('``', '``'), ('exceedingly', 'RB'), ('sparingly', 'RB'), (\"''\", \"''\"), ('in', 'IN'), ('the', 'DT'), ('city', 'NN'), ('and', 'CC'), ('had', 'VBD'), ('not', 'RB'), ('used', 'VBN'), ('it', 'PRP'), ('since', 'IN'), ('April', 'NNP'), ('2015', 'CD'), ('when', 'WRB'), ('it', 'PRP'), ('was', 'VBD'), ('granted', 'VBN'), ('permission', 'NN'), ('to', 'TO'), ('operate', 'VB'), ('.', '.')]),\n",
    " Tree('S', [('Uber', 'NNP'), (\"'s\", 'POS'), ('use', 'NN'), ('of', 'IN'), ('the', 'DT'), ('software', 'NN'), ('was', 'VBD'), ('revealed', 'VBN'), ('by', 'IN'), ('the', 'DT'), Tree('GPE', [('New', 'NNP'), ('York', 'NNP'), ('Times', 'NNP')]), ('earlier', 'RBR'), ('this', 'DT'), ('year', 'NN'), ('.', '.')]),\n",
    " Tree('S', [('Uber', 'NNP'), ('defended', 'VBD'), ('its', 'PRP$'), ('use', 'NN'), ('in', 'IN'), ('a', 'DT'), ('blog', 'NN'), ('saying', 'VBG'), ('the', 'DT'), ('software', 'NN'), ('helped', 'VBD'), ('it', 'PRP'), ('work', 'VB'), ('out', 'RP'), ('if', 'IN'), ('a', 'DT'), ('ride', 'NN'), ('request', 'NN'), ('was', 'VBD'), ('legitimate', 'JJ'), ('.', '.')]),\n",
    " Tree('S', [('It', 'PRP'), ('helped', 'VBD'), ('Uber', 'NNP'), ('limit', 'NN'), ('fraud', 'NN'), ('and', 'CC'), ('protect', 'NN'), ('drivers', 'NNS'), ('from', 'IN'), ('harm', 'NN'), (',', ','), ('it', 'PRP'), ('added', 'VBD'), ('.', '.')]),\n",
    " Tree('S', [('It', 'PRP'), ('is', 'VBZ'), ('not', 'RB'), ('clear', 'JJ'), ('what', 'WP'), ('sanctions', 'VBZ'), ('Uber', 'NNP'), ('will', 'MD'), ('face', 'VB'), ('if', 'IN'), ('the', 'DT'), ('investigation', 'NN'), ('finds', 'VBZ'), ('that', 'IN'), ('it', 'PRP'), ('did', 'VBD'), ('act', 'VB'), ('illegally', 'RB'), ('.', '.')]),\n",
    " Tree('S', [('The', 'DT'), ('criminal', 'JJ'), ('inquiry', 'NN'), ('comes', 'VBZ'), ('at', 'IN'), ('a', 'DT'), ('difficult', 'JJ'), ('time', 'NN'), ('for', 'IN'), ('Uber', 'NNP'), ('which', 'WDT'), ('has', 'VBZ'), ('faced', 'VBN'), ('criticism', 'NN'), ('on', 'IN'), ('many', 'JJ'), ('fronts', 'NNS'), ('.', '.')]),\n",
    " Tree('S', [('It', 'PRP'), ('is', 'VBZ'), ('currently', 'RB'), ('fighting', 'VBG'), ('a', 'DT'), ('lawsuit', 'NN'), ('from', 'IN'), ('Google-backed', 'JJ'), ('self-driving', 'JJ'), ('car', 'NN'), ('firm', 'NN'), ('Waymo.Despite', 'NNP'), ('all', 'PDT'), ('the', 'DT'), ('current', 'JJ'), ('hype', 'NN'), ('about', 'IN'), ('the', 'DT'), ('rise', 'NN'), ('of', 'IN'), ('voice-assisted', 'JJ'), ('devices', 'NNS'), ('using', 'VBG'), Tree('PERSON', [('Alexa', 'NNP')]), ('and', 'CC'), Tree('PERSON', [('Siri', 'NNP')]), (',', ','), ('linguistics', 'VBZ'), ('researcher', 'JJR'), Tree('PERSON', [('Rachael', 'NNP'), ('Tatman', 'NNP')]), ('found', 'VBD'), ('people', 'NNS'), ('complaining', 'VBG'), ('on', 'IN'), ('social', 'JJ'), ('media', 'NNS'), ('that', 'IN'), ('the', 'DT'), ('technology', 'NN'), ('still', 'RB'), ('doesn’t', 'JJ'), ('understand', 'VBP'), ('them', 'PRP'), ('.', '.')]),\n",
    " Tree('S', [('That’s', 'NNP'), ('especially', 'RB'), ('true', 'JJ'), ('with', 'IN'), ('regional', 'JJ'), ('accents', 'NNS'), ('of', 'IN'), ('people', 'NNS'), ('who', 'WP'), ('live', 'VBP'), ('in', 'IN'), ('the', 'DT'), Tree('LOCATION', [('South', 'NNP')]), ('or', 'CC'), ('are', 'VBP'), ('from', 'IN'), ('countries', 'NNS'), ('like', 'IN'), Tree('ORGANIZATION', [('New', 'NNP'), ('Zealand', 'NNP')]), (',', ','), Tree('PERSON', [('Tatman', 'NNP')]), ('said', 'VBD'), ('last', 'JJ'), ('week', 'NN'), ('during', 'IN'), ('a', 'DT'), ('conference', 'NN'), ('in', 'IN'), Tree('GPE', [('San', 'NNP'), ('Francisco', 'NNP')]), ('.', '.')]),\n",
    " Tree('S', [('“So', 'NN'), ('this', 'DT'), ('is', 'VBZ'), ('the', 'DT'), ('whatever', 'NN'), ('the', 'DT'), ('opposite', 'NN'), ('of', 'IN'), ('delight', 'NN'), ('is', 'VBZ'), ('as', 'IN'), ('a', 'DT'), ('user', 'NN'), ('experience', 'NN'), (',', ','), ('”', 'NNP'), ('she', 'PRP'), ('said', 'VBD'), ('.', '.')]),\n",
    " Tree('S', [('“People', 'NNS'), ('are', 'VBP'), ('so', 'RB'), ('upset', 'JJ'), ('that', 'IN'), ('they’re', 'VBZ'), ('going', 'VBG'), ('on', 'IN'), Tree('PERSON', [('Twitter', 'NNP')]), ('and', 'CC'), ('yelling', 'VBG'), ('about', 'IN'), ('it.”', 'JJ'), Tree('PERSON', [('Tatman', 'NNP')]), (',', ','), ('a', 'DT'), ('doctoral', 'JJ'), ('candidate', 'NN'), ('with', 'IN'), ('the', 'DT'), Tree('ORGANIZATION', [('University', 'NNP')]), ('of', 'IN'), ('Washington’s', 'NNP'), ('linguistics', 'NNS'), ('department', 'NN'), (',', ','), ('was', 'VBD'), ('one', 'CD'), ('of', 'IN'), ('the', 'DT'), ('speakers', 'NNS'), ('at', 'IN'), ('a', 'DT'), ('two-day', 'JJ'), Tree('PERSON', [('Virtual', 'NNP'), ('Assistant', 'NNP'), ('Summit', 'NNP')]), (',', ','), ('which', 'WDT'), ('wrapped', 'VBD'), ('up', 'RP'), ('Friday', 'NNP'), ('at', 'IN'), ('the', 'DT'), Tree('FACILITY', [('Park', 'NNP'), ('Central', 'NNP'), ('Hotel', 'NNP')]), ('.', '.')]),\n",
    " Tree('S', [('The', 'DT'), ('conference', 'NN'), (',', ','), ('and', 'CC'), ('an', 'DT'), ('adjacent', 'JJ'), ('Deep', 'NNP'), ('Learning', 'NNP'), ('Summit', 'NNP'), (',', ','), ('drew', 'VBD'), ('about', 'IN'), ('600', 'CD'), ('people', 'NNS'), ('representing', 'VBG'), ('companies', 'NNS'), ('that', 'WDT'), ('are', 'VBP'), ('working', 'VBG'), ('on', 'IN'), ('advancing', 'VBG'), ('artificial', 'JJ'), ('intelligence', 'NN'), (',', ','), ('machine', 'NN'), ('learning', 'NN'), ('and', 'CC'), ('robotics', 'NNS'), ('.', '.')]),\n",
    " Tree('S', [('Lots', 'NNS'), ('of', 'IN'), ('people', 'NNS'), ('are', 'VBP'), ('already', 'RB'), ('using', 'VBG'), ('those', 'DT'), ('technologies', 'NNS'), ('in', 'IN'), ('programs', 'NNS'), ('like', 'IN'), ('Apple’s', 'NNP'), ('Siri', 'NNP'), ('.', '.')]),\n",
    " Tree('S', [('They', 'PRP'), ('are', 'VBP'), ('moving', 'VBG'), ('beyond', 'IN'), ('mobile', 'JJ'), ('phones', 'NNS'), ('and', 'CC'), ('into', 'IN'), ('smart-home', 'JJ'), ('devices', 'NNS'), ('like', 'IN'), Tree('ORGANIZATION', [('Amazon’s', 'NNP'), ('Echo', 'NNP')]), ('.', '.')]),\n",
    " Tree('S', [('Other', 'JJ'), ('fast-changing', 'JJ'), ('technologies', 'NNS'), ('include', 'VBP'), ('artificial', 'JJ'), ('intelligence', 'NN'), ('and', 'CC'), ('consumer', 'NN'), ('robotics', 'NNS'), (',', ','), ('especially', 'RB'), ('with', 'IN'), ('self-driving', 'JJ'), ('cars', 'NNS'), ('on', 'IN'), ('the', 'DT'), ('horizon', 'NN'), ('.', '.')]),\n",
    " Tree('S', [('But', 'CC'), ('there’s', 'NN'), ('still', 'RB'), ('work', 'VB'), ('to', 'TO'), ('be', 'VB'), ('done', 'VBN'), ('in', 'IN'), ('each', 'DT'), ('of', 'IN'), ('those', 'DT'), ('areas', 'NNS'), (',', ','), ('speakers', 'NNS'), ('said', 'VBD'), ('.', '.')]),\n",
    " Tree('S', [('For', 'IN'), ('example', 'NN'), (',', ','), ('artificial', 'JJ'), ('speech', 'NN'), ('recognition', 'NN'), ('technologies', 'NNS'), ('still', 'RB'), ('fall', 'VBP'), ('short', 'JJ'), ('of', 'IN'), ('the', 'DT'), ('way', 'NN'), ('humans', 'NNS'), ('can', 'MD'), ('quickly', 'RB'), ('learn', 'VB'), ('and', 'CC'), ('discern', 'VB'), ('speech', 'NN'), ('patterns', 'NNS'), ('from', 'IN'), ('each', 'DT'), ('other', 'JJ'), ('in', 'IN'), ('“as', 'JJ'), ('little', 'JJ'), ('as', 'IN'), ('two', 'CD'), ('sentences', 'NNS'), (',', ','), ('”', 'NNP'), Tree('PERSON', [('Tatman', 'NNP')]), ('said', 'VBD'), ('.', '.')]),\n",
    " Tree('S', [('But', 'CC'), ('that’s', 'NN'), ('because', 'IN'), ('humans', 'NNS'), ('take', 'VBP'), ('into', 'IN'), ('account', 'NN'), ('other', 'JJ'), ('factors', 'NNS'), (',', ','), ('such', 'JJ'), ('as', 'IN'), ('the', 'DT'), ('gender', 'NN'), ('of', 'IN'), ('person', 'NN'), ('talking', 'VBG'), ('or', 'CC'), ('whether', 'IN'), ('they’ve', 'JJ'), ('previously', 'RB'), ('met', 'VBN'), ('someone', 'NN'), ('from', 'IN'), ('the', 'DT'), ('the', 'DT'), ('same', 'JJ'), ('region', 'NN'), (',', ','), ('she', 'PRP'), ('said', 'VBD'), ('.', '.')]),\n",
    " Tree('S', [Tree('PERSON', [('Tatman', 'NNP')]), ('examined', 'VBD'), ('YouTube’s', 'NNP'), ('automatic', 'JJ'), ('captioning', 'NN'), ('program', 'NN'), (',', ','), ('which', 'WDT'), ('can', 'MD'), ('translate', 'VB'), ('spoken', 'JJ'), ('words', 'NNS'), ('into', 'IN'), ('text', 'NN'), ('in', 'IN'), ('several', 'JJ'), ('languages', 'NNS'), ('.', '.')]),\n",
    " Tree('S', [('She', 'PRP'), ('found', 'VBD'), ('that', 'IN'), ('more', 'RBR'), ('errors', 'NNS'), ('showed', 'VBD'), ('up', 'RP'), ('in', 'IN'), ('translations', 'NNS'), ('from', 'IN'), ('speakers', 'NNS'), ('who', 'WP'), ('had', 'VBD'), ('a', 'DT'), Tree('GPE', [('Southern', 'JJ')]), ('accent', 'NN'), ('than', 'IN'), ('from', 'IN'), ('people', 'NNS'), ('who', 'WP'), ('lived', 'VBD'), ('in', 'IN'), Tree('GPE', [('California', 'NNP')]), ('.', '.')]),\n",
    " Tree('S', [('“The', 'NN'), Tree('GPE', [('South', 'NNP')]), ('is', 'VBZ'), ('the', 'DT'), ('largest', 'JJS'), ('demographic', 'JJ'), ('region', 'NN'), ('in', 'IN'), ('the', 'DT'), Tree('GPE', [('United', 'NNP'), ('States', 'NNPS')]), (',', ','), ('”', 'NNP'), ('she', 'PRP'), ('said', 'VBD'), ('.', '.')]),\n",
    " Tree('S', [('“If', 'NN'), ('you’re', 'NN'), ('using', 'VBG'), ('a', 'DT'), ('voice-based', 'JJ'), ('virtual', 'JJ'), ('assistant', 'NN'), ('and', 'CC'), ('you', 'PRP'), ('can’t', 'VBP'), ('deal', 'VB'), ('with', 'IN'), Tree('GPE', [('Southern', 'NNP')]), ('speech', 'NN'), (',', ','), ('you’re', 'RB'), ('going', 'VBG'), ('to', 'TO'), ('have', 'VB'), ('problems', 'NNS'), ('reaching', 'VBG'), ('this', 'DT'), ('market.”', 'NN'), ('For', 'IN'), ('businesses', 'NNS'), ('trying', 'VBG'), ('to', 'TO'), ('serve', 'VB'), ('those', 'DT'), ('markets', 'NNS'), (',', ','), ('speech', 'JJ'), ('recognition', 'NN'), ('technology', 'NN'), ('could', 'MD'), ('be', 'VB'), ('crucial', 'JJ'), ('to', 'TO'), ('future', 'JJ'), ('revenue', 'NN'), (',', ','), ('said', 'VBD'), Tree('PERSON', [('Stephen', 'NNP'), ('Scarr', 'NNP')]), (',', ','), Tree('ORGANIZATION', [('CEO', 'NNP')]), ('of', 'IN'), ('search', 'NN'), ('services', 'NNS'), ('Info.com', 'NNP'), ('and', 'CC'), Tree('ORGANIZATION', [('eContext', 'NN')]), ('.', '.')])]"
   ]
  },
  {
   "cell_type": "code",
   "execution_count": 8,
   "metadata": {},
   "outputs": [
    {
     "data": {
      "text/plain": [
       "defaultdict(int,\n",
       "            {'FACILITY': 1,\n",
       "             'GPE': 12,\n",
       "             'LOCATION': 1,\n",
       "             'ORGANIZATION': 7,\n",
       "             'PERSON': 12})"
      ]
     },
     "execution_count": 8,
     "metadata": {},
     "output_type": "execute_result"
    }
   ],
   "source": [
    "from collections import defaultdict\n",
    "import matplotlib.pyplot as plt\n",
    "\n",
    "# Create the defaultdict: ner_categories\n",
    "ner_categories = defaultdict(int)\n",
    "\n",
    "# Create the nested for loop\n",
    "for sent in chunked_sentences:\n",
    "    for chunk in sent:\n",
    "        if hasattr(chunk, 'label'):\n",
    "            ner_categories[chunk.label()] += 1\n",
    "\n",
    "ner_categories"
   ]
  },
  {
   "cell_type": "code",
   "execution_count": 9,
   "metadata": {},
   "outputs": [
    {
     "data": {
      "image/png": "[encoded data removed]",
      "text/plain": [
       "<matplotlib.figure.Figure at 0x19d5a423780>"
      ]
     },
     "metadata": {},
     "output_type": "display_data"
    }
   ],
   "source": [
    "      \n",
    "# Create a list from the dictionary keys for the chart labels: labels\n",
    "labels = list(ner_categories.keys())\n",
    "\n",
    "# Create a list of the values: values\n",
    "values = [ner_categories.get(l) for l in labels]\n",
    "\n",
    "# Create the pie chart\n",
    "plt.pie(values, labels=labels, autopct='%1.1f%%', startangle=140)\n",
    "\n",
    "# Display the chart\n",
    "plt.show()\n"
   ]
  },
  {
   "cell_type": "markdown",
   "metadata": {},
   "source": [
    "<font color = green size=3><b> 3.2 Comparing NLTK with spaCy NER </font>\n",
    "\n",
    "Using the same text you used in the first exercise of this chapter, you'll now see the results using spaCy's NER annotator. How will they compare?\n",
    "\n",
    "The article has been pre-loaded as article. **To minimize execution times, you'll be asked to specify the keyword arguments tagger=False, parser=False, matcher=False when loading the spaCy model, because you only care about the entity in this exercise.**\n",
    "\n",
    "\n",
    "**TASKS:**\n",
    "- Import spacy.\n",
    "- Load the 'en' model using spacy.load(). Specify the additional keyword arguments tagger=False, parser=False, matcher=False.\n",
    "- Create a spacy document object by passing article into nlp().\n",
    "- Using ent as your iterator variable, iterate over the entities of doc and print out the labels (ent.label_) and text (ent.text).\n",
    "\n",
    "**HINT**\n",
    "- Use the import keyword to import the module of interest.\n",
    "- Pass in 'en' to spacy.load(), along with the other keyword arguments specified in the instructions.\n",
    "- Use nlp(article) to create doc.\n",
    "- Iterate over doc.ents, printing the .label_ and .text attributes (in that order) of ent."
   ]
  },
  {
   "cell_type": "code",
   "execution_count": 10,
   "metadata": {
    "collapsed": true
   },
   "outputs": [],
   "source": [
    "article= '\\ufeffThe taxi-hailing company Uber brings into very sharp focus the question of whether corporations can be said to have a moral character. If any human being were to behave with the single-minded and ruthless greed of the company, we would consider them sociopathic. Uber wanted to know as much as possible about the people who use its service, and those who don’t. It has an arrangement with unroll.me, a company which offered a free service for unsubscribing from junk mail, to buy the contacts unroll.me customers had had with rival taxi companies. Even if their email was notionally anonymised, this use of it was not something the users had bargained for. Beyond that, it keeps track of the phones that have been used to summon its services even after the original owner has sold them, attempting this with Apple’s phones even thought it is forbidden by the company.\\r\\n\\r\\n\\r\\nUber has also tweaked its software so that regulatory agencies that the company regarded as hostile would, when they tried to hire a driver, be given false reports about the location of its cars. Uber management booked and then cancelled rides with a rival taxi-hailing company which took their vehicles out of circulation. Uber deny this was the intention. The punishment for this behaviour was negligible. Uber promised not to use this “greyball” software against law enforcement – one wonders what would happen to someone carrying a knife who promised never to stab a policeman with it. Travis Kalanick of Uber got a personal dressing down from Tim Cook, who runs Apple, but the company did not prohibit the use of the app. Too much money was at stake for that.\\r\\n\\r\\n\\r\\nMillions of people around the world value the cheapness and convenience of Uber’s rides too much to care about the lack of drivers’ rights or pay. Many of the users themselves are not much richer than the drivers. The “sharing economy” encourages the insecure and exploited to exploit others equally insecure to the profit of a tiny clique of billionaires. Silicon Valley’s culture seems hostile to humane and democratic values. The outgoing CEO of Yahoo, Marissa Mayer, who is widely judged to have been a failure, is likely to get a $186m payout. This may not be a cause for panic, any more than the previous hero worship should have been a cause for euphoria. Yet there’s an urgent political task to tame these companies, to ensure they are punished when they break the law, that they pay their taxes fairly and that they behave responsibly.'"
   ]
  },
  {
   "cell_type": "code",
   "execution_count": 13,
   "metadata": {},
   "outputs": [
    {
     "name": "stdout",
     "output_type": "stream",
     "text": [
      "ORG Uber\n",
      "ORG Uber\n",
      "ORG Apple\n",
      "ORG Uber\n",
      "ORG Uber\n",
      "PERSON Travis Kalanick\n",
      "ORG Uber\n",
      "PERSON Tim Cook\n",
      "ORG Apple\n",
      "CARDINAL Millions\n",
      "ORG Uber\n",
      "GPE drivers’\n",
      "LOC Silicon Valley’s\n",
      "ORG Yahoo\n",
      "PERSON Marissa Mayer\n",
      "MONEY $186m\n"
     ]
    }
   ],
   "source": [
    "# Import spacy\n",
    "import spacy\n",
    "\n",
    "# Instantiate the English model: nlp\n",
    "nlp = spacy.load('en_core_web_sm', tagger=False, parser=False, matcher=False)\n",
    "\n",
    "# Create a new document: doc\n",
    "doc = nlp(article)\n",
    "\n",
    "# Print all of the found entities and their labels\n",
    "for ent in doc.ents:\n",
    "    print(ent.label_, ent.text)"
   ]
  },
  {
   "cell_type": "markdown",
   "metadata": {
    "collapsed": true
   },
   "source": [
    "<font color = green size=3><b> 3.3 French NER with polyglot I </font>\n",
    "\n",
    "In this exercise and the next, you'll use the polyglot library to identify French entities. \n",
    "\n",
    "**TASKS:**\n",
    "- Create a new Text object called txt.\n",
    "- Iterate over txt.entities and print each entity, ent.\n",
    "- Print the type() of each entity, ent.\n"
   ]
  },
  {
   "cell_type": "code",
   "execution_count": 18,
   "metadata": {
    "collapsed": true
   },
   "outputs": [],
   "source": [
    "article = \"\\ufeffédition abonné\\r\\n\\r\\n\\r\\nDans une tribune au « Monde », l’universitaire Charles Cuvelliez estime que le fantasme d’un remplacement de l’homme par l’algorithme et le robot repose sur un malentendu.\\r\\n\\r\\n\\r\\nLe Monde | 10.05.2017 à 06h44 • Mis à jour le 10.05.2017 à 09h47 | Par Charles Cuvelliez (Professeur à l’Ecole polytechnique de l'université libre de Bruxelles)\\r\\n\\r\\n\\r\\nTRIBUNE. L’usage morbide, par certains, de Facebook Live a amené son fondateur à annoncer précipitamment le recrutement de 3 000 modérateurs supplémentaires. Il est vrai que l’intelligence artificielle (IA) est bien en peine de reconnaître des contenus violents, surtout diffusés en direct.\\r\\n\\r\\n\\r\\nLe quotidien affreux de ces modérateurs, contraints de visionner des horreurs à longueur de journée, mériterait pourtant qu’on les remplace vite par des machines !\\r\\n\\r\\n\\r\\nL’IA ne peut pas tout, mais là où elle peut beaucoup, on la maudit, accusée de détruire nos emplois, de remplacer la convivialité humaine. Ce débat repose sur un malentendu.\\r\\n\\r\\n\\r\\nIl vient d’une définition de l’IA qui n’a, dans la réalité, jamais pu être mise en pratique : en 1955, elle était vue comme la création de programmes informatiques qui, quoi qu’on leur confie, le feraient un jour mieux que les humains. On pensait que toute caractéristique de l’intelligence humaine pourrait un jour être si précisément décrite qu’il suffirait d’une machine pour la simuler. Ce n’est pas vrai.\\r\\n\\r\\n\\r\\nAngoisses infondées\\r\\n\\r\\n\\r\\nComme le dit un récent Livre blanc sur la question (Pourquoi il ne faut pas avoir peur de l’Intelligence arti\\xadficielle, Julien Maldonato, Deloitte, mars 2017), rien ne pourra remplacer un humain dans sa globalité.\\r\\n\\r\\n\\r\\nL’IA, c’est de l’apprentissage automatique doté d’un processus d’ajustement de modèles statistiques à des masses de données, explique l’auteur. Il s’agit d’un apprentissage sur des paramètres pour lesquels une vision humaine n’explique pas pourquoi ils marchent si bien dans un contexte donné.\\r\\n\\r\\n\\r\\nC’est aussi ce que dit le rapport de l’Office parlementaire d’évaluation des choix scientifiques et technologiques (« Pour une intelligence artificielle maîtrisée, utile et démystifiée », 29 mars 2017), pour qui ce côté « boîte noire » explique des angoisses infondées. Ethiquement, se fonder sur l’IA pour des tâches critiques sans bien comprendre le comment...\""
   ]
  },
  {
   "cell_type": "markdown",
   "metadata": {},
   "source": [
    "#### NOTE: Could not get polyglot to function locally, but the code and outputs are below:\n",
    "\n",
    "### Code:\n",
    "\n",
    "    import polyglot\n",
    "\n",
    "    # Create a new text object using Polyglot's Text class: txt\n",
    "    txt = Text(article)\n",
    "\n",
    "    # Print each of the entities found\n",
    "    for ent in txt.entities:\n",
    "        print(ent)\n",
    "\n",
    "    # Print the type of each entity\n",
    "    print(type(ent))\n",
    "    \n",
    "### Output:\n",
    "\n",
    "    <script.py> output:\n",
    "    ['Charles', 'Cuvelliez']\n",
    "    ['Charles', 'Cuvelliez']\n",
    "    ['Bruxelles']\n",
    "    ['l’IA']\n",
    "    ['Julien', 'Maldonato']\n",
    "    ['Deloitte']\n",
    "    ['Ethiquement']\n",
    "    ['l’IA']\n",
    "    ['.']\n",
    "    <class 'polyglot.text.Chunk'>\n",
    "    \n",
    "    \n"
   ]
  },
  {
   "cell_type": "markdown",
   "metadata": {
    "collapsed": true
   },
   "source": [
    "**TASKS:**\n",
    "- Use a list comprehension to create a list of tuples called entities.\n",
    "- The output expression of your list comprehension should be a tuple. Remember to use () to create the tuple.\n",
    "- The first element of each tuple is the entity tag, which you can access using its .tag attribute.\n",
    "- The second element is the full string of the entity text, which you can access using ' '.join(ent).\n",
    "- Your iterator variable should be ent, and you should iterate over all of the entities of the polyglot Text object, txt.\n",
    "\n",
    "### Code:\n",
    "\n",
    "    # Create the list of tuples: entities\n",
    "    entities = [(ent.tag, ' '.join(ent)) for ent in txt.entities]\n",
    "\n",
    "    # Print the entities\n",
    "    print(entities)\n",
    "    \n",
    "### Output:\n",
    "    # Create the list of tuples: entities\n",
    "    entities = [(ent.tag, ' '.join(ent)) for ent in txt.entities]\n",
    "\n",
    "    # Print the entities\n",
    "    print(entities)\n",
    "\n"
   ]
  },
  {
   "cell_type": "markdown",
   "metadata": {},
   "source": [
    "**TASKS:**\n",
    "- Iterate over all of the entities of txt, using ent as your iterator variable.\n",
    "- Check whether the entity contains \"Márquez\" or \"Gabo\". If it does, increment count.\n",
    "- Hit 'Submit Answer' to see what percentage of entities refer to Gabriel García Márquez (aka Gabo).\n",
    "\n",
    "### Code:\n",
    "\n",
    "    # Initialize the count variable: count\n",
    "    count = 0\n",
    "\n",
    "    # Iterate over all the entities\n",
    "    for ent in txt.entities:\n",
    "        # Check whether the entity contains 'Márquez' or 'Gabo'\n",
    "        if \"Márquez\" in ent or \"Gabo\" in ent:\n",
    "            # Increment count\n",
    "            count += 1\n",
    "\n",
    "    # Print count\n",
    "    print(count)\n",
    "\n",
    "    # Calculate the percentage of entities that refer to \"Gabo\": percentage\n",
    "    percentage = count * 1.0 / len(txt.entities)\n",
    "    print(percentage)\n",
    "\n",
    "    \n",
    "### Output:\n",
    "    <script.py> output:\n",
    "        29\n",
    "        0.29591836734693877"
   ]
  },
  {
   "cell_type": "markdown",
   "metadata": {},
   "source": [
    "**TASKS:**\n",
    "- Use a set comprehension to create a set of spacy entities, keeping only the text. The document object is available as doc. The text can be accessed using the .text attribute of each entity.\n",
    "- Use the set method .intersection() to find the entities that are in both spacy_ents and poly_ents.\n",
    "- Calculate the number of entities not included in the new ensemble set of entities. You can do this by calculating the length of the union of spacy_ents and poly_ents (which can be computed using the .union() method) and then subtracting the length of ensemble_ents\n",
    "\n",
    "### Code:\n",
    "\n",
    "    # Create a set of spaCy entities keeping only their text: spacy_ents\n",
    "    spacy_ents = {e.text for e in doc.ents} \n",
    "\n",
    "    # Create a set of the intersection between the spacy and polyglot entities: ensemble_ents\n",
    "    ensemble_ents = spacy_ents.intersection(poly_ents)\n",
    "\n",
    "    # Print the common entities\n",
    "    print(ensemble_ents)\n",
    "\n",
    "    # Calculate the number of entities not included in the new ensemble set of entities: num_left_out\n",
    "    num_left_out = len(spacy_ents.union(poly_ents)) - len(ensemble_ents)\n",
    "    print(num_left_out)\n",
    "\n",
    "    \n",
    "### Output:\n",
    "    <script.py> output:\n",
    "        {'Fink', 'Darwin', 'Lombroso', 'Thomas Clarkson', '”', 'Jason Friedenfelds', 'Chuck Close', 'Tobias Weyand', 'Ilya Kostrikov', 'Georg Christoph Lichtenberg', 'Ilya Sutskever', 'Charina Choi', 'Josiah Nott', 'England', 'William Shakespeare', 'Caucasian', 'Samuel Morton', 'Swiss', 'CNN', 'Temple University', 'Manning', 'Israeli', 'Plato', 'Ernst Haeckel', 'Naples', 'Tal Hassner', 'George Gliddon', 'Howard', 'James Weidmann', '“', 'Nixon', 'Stephen Jay Gould', 'Zhang', 'Italy', 'Liaoning', 'Zhang’s', 'Geoffrey Hinton', 'China', 'Isaac Newton', 'Francis Galton', 'Byron', 'Marco Polo', 'Gil Levi', 'Guangdong', 'Gliddon', 'Mike Burton', 'Giuseppe Villella', 'Clarkson', 'California', 'Australia', 'Atlanta', 'Wu', 'Alex Krizhevsky', 'Pieter Camper', 'Papuans', 'Jiangsu', 'Nazi', 'Cesare Lombroso', 'Brian Holtz', 'Kathryn Hume', 'Alison Lentz', 'Stockholm', 'John Howard', 'Pavia', 'Roberts', 'Google'}\n",
    "        250\n"
   ]
  }
 ],
 "metadata": {
  "kernelspec": {
   "display_name": "Python 3",
   "language": "python",
   "name": "python3"
  },
  "language_info": {
   "codemirror_mode": {
    "name": "ipython",
    "version": 3
   },
   "file_extension": ".py",
   "mimetype": "text/x-python",
   "name": "python",
   "nbconvert_exporter": "python",
   "pygments_lexer": "ipython3",
   "version": "3.6.3"
  }
 },
 "nbformat": 4,
 "nbformat_minor": 2
}
