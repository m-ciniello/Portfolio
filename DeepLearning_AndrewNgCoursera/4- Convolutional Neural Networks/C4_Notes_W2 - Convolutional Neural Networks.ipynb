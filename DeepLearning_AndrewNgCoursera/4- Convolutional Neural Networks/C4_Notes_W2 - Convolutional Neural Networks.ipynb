{
 "cells": [
  {
   "cell_type": "markdown",
   "metadata": {},
   "source": [
    "**C4_Notes_W2 - Convolutional Neural Networks**\n",
    "\n",
    "This is the forth course of the deep learning specialization at [Coursera](https://www.coursera.org/specializations/deep-learning) which is moderated by [DeepLearning.ai](http://deeplearning.ai/). The course is taught by Andrew Ng.\n",
    "\n",
    "**Week 2: Deep Convolutional Models Case Studies**\n",
    "\n",
    "Learn about the practical tricks and methods used in deep CNNs straight from the research papers.\n",
    "\n",
    "  * [1. Why look at case studies?](#why-look-at-case-studies)\n",
    "  * [2. Classic networks](#classic-networks)\n",
    "  * [3. Residual Networks (ResNets)](#residual-networks-resnets)\n",
    "  * [4. Why ResNets work](#why-resnets-work)\n",
    "  * [5. Network in Network and 1×1 convolutions](#network-in-network-and-1-X-1-convolutions)\n",
    "  * [6. Inception network motivation](#inception-network-motivation)\n",
    "  * [7. Inception network (GoogleNet)](#inception-network-googlenet)\n",
    "  * [8. Using Open-Source Implementation](#using-open-source-implementation)\n",
    "  * [9. Transfer Learning](#transfer-learning)\n",
    "  * [10. Data Augmentation](#data-augmentation)\n",
    "  * [11. State of Computer Vision](#state-of-computer-vision)\n"
   ]
  },
  {
   "cell_type": "markdown",
   "metadata": {},
   "source": [
    "# Why look at case studies?\n",
    "<a id='face-recognition'></a>\n",
    "\n",
    "- We learned about Conv layer, pooling layer, and fully connected layers. It turns out that computer vision researchers spent the past few years on how to put these layers together.\n",
    "- To get some intuitions you have to see the examples that has been made.\n",
    "- Some neural networks architecture that works well in some tasks can also work well in other tasks.\n",
    "- Here are some classical CNN networks:\n",
    "  - **LeNet-5**\n",
    "  - **AlexNet**\n",
    "  - **VGG**\n",
    "- The best CNN architecture that won the last ImageNet competition is called **ResNet** and it has 152 layers!\n",
    "- There are also an architecture called **Inception** that was made by Google that are very useful to learn and apply to your tasks.\n",
    "- Reading and trying the mentioned models can boost you and give you a lot of ideas to solve your task.\n"
   ]
  },
  {
   "cell_type": "markdown",
   "metadata": {
    "toc-hr-collapsed": true
   },
   "source": [
    "# Classic networks\n",
    "\n",
    "- In this section we will talk about classic networks which are **LeNet-5**, **AlexNet**, and **VGG**."
   ]
  },
  {
   "cell_type": "markdown",
   "metadata": {},
   "source": [
    "## LeNet-5\n",
    "\n",
    "  - The goal for this model was to identify handwritten digits in a `32x32x1` gray image. Here are the drawing of it:\n",
    "   ![](Images/05.png)\n",
    "  - This model was published in 1998. The last layer wasn't using softmax back then.\n",
    "  - Note that back then, people didn't use padding, so with each filter the size of the next layer shrinks\n",
    "  - It has ABOUT 60k parameters.\n",
    "  - The dimensions of the image decreases as the number of channels increases.\n",
    "  - `Conv ==> Pool ==> Conv ==> Pool ==> FC ==> FC ==> softmax` this type of arrangement is quite common.\n",
    "  - The activation function used in the paper was Sigmoid and Tanh. Modern implementation uses RELU in most of the cases.\n",
    "  - [[LeCun et al., 1998. Gradient-based learning applied to document recognition]](http://ieeexplore.ieee.org/document/726791/?reload=true)\n",
    "\n"
   ]
  },
  {
   "cell_type": "markdown",
   "metadata": {},
   "source": [
    "## AlexNet\n",
    "\n",
    "  - Named after Alex Krizhevsky who was the first author of this paper. The other authors includes Jeoffery Hinton.\n",
    "  - The goal for the model was the ImageNet challenge which classifies images into 1000 classes. Here are the drawing of the model:\n",
    "![](Images/06.png)\n",
    "\n",
    "  - Summary:\n",
    "    - ```\n",
    "      Conv => Max-pool => Conv => Max-pool => Conv => Conv => Conv => Max-pool ==> Flatten ==> FC ==> FC ==> Softmax\n",
    "      ```\n",
    "      \n",
    "      \n",
    "  - Similar to LeNet-5 but bigger.\n",
    "  - Has 60 Million parameter compared to 60k parameter of LeNet-5.\n",
    "  - It used the RELU activation function.\n",
    "  - The original paper contains Multiple GPUs and Local Response normalization (RN).\n",
    "    - Multiple GPUs were used because the GPUs were not so fast back then.\n",
    "    - Researchers proved that Local Response normalization doesn't help much so for now don't bother yourself for understanding or implementing it. \n",
    "\n",
    "  - This paper convinced the computer vision researchers that deep learning is so important.\n",
    "  - [[Krizhevsky et al., 2012. ImageNet classification with deep convolutional neural networks]](https://papers.nips.cc/paper/4824-imagenet-classification-with-deep-convolutional-neural-networks.pdf)\n",
    "\n"
   ]
  },
  {
   "cell_type": "markdown",
   "metadata": {
    "toc-hr-collapsed": false
   },
   "source": [
    "## VGG-16\n",
    "\n",
    "  - A modification for AlexNet.\n",
    "  - The 16 in VGG-16 means that it has 16 layers!!!\n",
    "  - Instead of having a lot of hyperparameters lets have some simpler network.\n",
    "  - Focus on having only these blocks(all filters are as follows):\n",
    "    - CONV = 3 X 3 filter, s = 1, same  \n",
    "    - MAX-POOL = 2 X 2 , s = 2\n",
    "  - Here are the architecture:\n",
    "![](Images/07.png)\n",
    "  - Note that \\[CONV 64\\] X2 means that there are TWO 3X3 layers, each with 64 filters.\n",
    "  - The number of filters DOUBLES on every stack of layers... from 64, to 128, to 256, to 512\n",
    "  - This network is large even by modern standards. It has around 138 million parameters.\n",
    "    - Most of the parameters are in the fully connected layers.\n",
    "  - It has a total memory of 96MB per image for only forward propagation!\n",
    "    - Most memory are in the earlier layers.\n",
    "  - Number of filters increases from 64 to 128 to 256 to 512. 512 was made twice.\n",
    "  - Pooling was the only one who is responsible for shrinking the dimensions.\n",
    "  - There are another version called **VGG-19** which is a bigger version. But most people uses the VGG-16 instead of the VGG-19 because it does the same.\n",
    "  - VGG paper is attractive it tries to make some rules regarding using CNNs.\n",
    "  - [[Simonyan & Zisserman 2015. Very deep convolutional networks for large-scale image recognition]](https://arxiv.org/abs/1409.1556)\n"
   ]
  },
  {
   "cell_type": "markdown",
   "metadata": {
    "toc-hr-collapsed": true
   },
   "source": [
    "# Residual Networks (ResNets)\n",
    "\n",
    "- Very, very deep NNs are difficult to train because of vanishing and exploding gradients problems.\n",
    "- In this section we will learn about skip connection which makes you take the activation from one layer and suddenly feed it to another layer even much deeper in NN which allows you to train large NNs even with layers greater than 100."
   ]
  },
  {
   "cell_type": "code",
   "execution_count": null,
   "metadata": {},
   "outputs": [],
   "source": []
  },
  {
   "cell_type": "markdown",
   "metadata": {},
   "source": [
    "## Residual block\n",
    "- In plain NNets, the progression from layers to layer goes as follows:\n",
    "    - Layer 1: `z[1] = W[1]*a[0] + b[1]  --> a[1] = RELU(z[1])`\n",
    "    - Layer 2: `z[2] = W[2]*a[1] + b[2]  --> a[2] = RELU(z[2])`\n",
    "    - Layer 3: `z[3] = W[3]*a[2] + b[3]  --> a[3] = RELU(z[3])`\n",
    "    - ...\n",
    "    - Layer n: `z[n] = W[n]*a[n-1] + b[n]  --> a[n] = RELU(z[n])`\n",
    "- So for `a[0]` to get all the way to `layer [n]`, it needs to go through a bunch of steps in between, which may cause the exploding or vanishing gradient issue!!!\n",
    "- So to address this, we add `a[0]` (or whatever layer we choose) to an activation layer further down the chain (it is added before the non-linearity is applied):\n",
    "![](Images/08.png)\n",
    "- ResNets are built out of these Residual blocks.\n",
    "- They add a shortcut/skip connection before the second activation.\n",
    "- The authors of this block find that you can train a deeper NNs using stacking this block. \n",
    "- The way you build a residual network is taking many of these residual blocks and stacking them together!\n",
    "- [[He et al., 2015. Deep residual networks for image recognition]](https://arxiv.org/abs/1512.03385)"
   ]
  },
  {
   "cell_type": "markdown",
   "metadata": {},
   "source": [
    "## Residual Network\n",
    "- Are a NN that consists of some Residual blocks.\n",
    "![](Images/09.png)\n",
    "- These networks can go deeper without hurting the performance. \n",
    "- In the normal NN - Plain networks - the theory tell us that if we go deeper we will get a better solution to our problem, but because of the vanishing and exploding gradients problems the performance of the network suffers as it goes deeper. Thanks to Residual Network we can go deeper as we want now.\n",
    "![](Images/10.png)\n",
    "- On the left is the normal NN and on the right are the ResNet. As you can see the performance of ResNet increases as the network goes deeper.\n",
    "- In some cases going deeper won't effect the performance and that depends on the problem on your hand.\n",
    "- Some people are trying to train 1000 layer now which isn't used in practice. \n",
    "- [He et al., 2015. Deep residual networks for image recognition]"
   ]
  },
  {
   "cell_type": "markdown",
   "metadata": {},
   "source": [
    "## Why ResNets work\n",
    "\n",
    "- Lets see some example that illustrates why resNet work.\n",
    "![](images/crazy_pic.png)\n",
    "  - We have a big NN as the following:\n",
    "\n",
    "    - `X --> Big NN --> a[l]`\n",
    "\n",
    "  - Lets add two layers to this network as a residual block:\n",
    "\n",
    "    - `X --> Big NN --> a[l] --> Layer1 --> Layer2 --> a[l+2]`\n",
    "    - And a`[l]` has a direct connection to `a[l+2]`\n",
    "\n",
    "  - Suppose we are using RELU activations.\n",
    "\n",
    "  - Then:\n",
    "\n",
    "    - ```\n",
    "      a[l+2] = g( z[l+2] + a[l] )\n",
    "      \t   = g( W[l+2] a[l+1] + b[l+2] + a[l] )\n",
    "      ```\n",
    "\n",
    "  - Then if we are using L2 regularization for example, `W[l+2]` will be zero. Lets say that `b[l+2]` will be zero too.\n",
    "\n",
    "  - Then `a[l+2] = g( a[l] ) = a[l]` with no negative values.\n",
    "\n",
    "  - This show that identity function is easy for a residual block to learn. And that why it can train deeper NNs.\n",
    "\n",
    "  - Also that the two layers we added doesn't hurt the performance of big NN we made.\n",
    "\n",
    "  - Hint: dimensions of z[l+2] and a[l] have to be the same in resNets. In case they have different dimensions what we put a matrix parameters (Which can be learned or fixed)\n",
    "\n",
    "    - `a[l+2] = g( z[l+2] + ws * a[l] ) # The added Ws should make the dimentions equal`\n",
    "    - ws also can be a zero padding.\n",
    " \n",
    "\n",
    "- Using a skip-connection helps the gradient to backpropagate and thus helps you to train deeper networks\n",
    "\n",
    "- Lets take a look at ResNet on images.\n",
    "\n",
    "  - Here are the architecture of **ResNet-34**:\n",
    "![](Images/resNet.jpg)\n",
    "  - All the 3x3 Conv are same Convs. \n",
    "  - Note that each layers use SAME padding, that way when you add `a[n]` to `a[n+s]`, they will have the same dimensions (THE DIMENSIONS OF THE MATRIX IS PRESERVED AS YOU MOVE THROUGHOUT THE NETWORK)\n",
    "  - Keep it simple in design of the network.\n",
    "  - spatial size /2 => # filters x2\n",
    "  - No FC layers, No dropout is used.\n",
    "  - Two main types of blocks are used in a ResNet, depending mainly on whether the input/output dimensions are same or different. You are going to implement both of them.\n",
    "  - The dotted lines is the case when the dimensions are different. To solve then they down-sample the input by 2 and then pad zeros to match the two dimensions. There's another trick which is called bottleneck which we will explore later."
   ]
  },
  {
   "cell_type": "markdown",
   "metadata": {},
   "source": [
    "## Spectrum of Depth\n",
    "\n",
    "![](Images/12.png)\n",
    "  - Taken from [icml.cc/2016/tutorials/icml2016_tutorial_deep_residual_networks_kaiminghe.pdf](icml.cc/2016/tutorials/icml2016_tutorial_deep_residual_networks_kaiminghe.pdf)"
   ]
  },
  {
   "cell_type": "markdown",
   "metadata": {},
   "source": [
    "## Residual blocks types:\n",
    "\n",
    "- Identity block:\n",
    "![](Images/16.png)\n",
    "    - Hint the conv is followed by a batch norm `BN` before `RELU`. Dimensions here are same.\n",
    "    - This skip is over 2 layers. The skip connection can jump n connections where n>2\n",
    "    - This drawing represents [Keras](https://keras.io/) layers.\n",
    "- The convolutional block:\n",
    "![](Images/17.png)\n",
    "    - The conv can be bottleneck 1 x 1 conv"
   ]
  },
  {
   "cell_type": "markdown",
   "metadata": {},
   "source": [
    "# Network in Network and 1 X 1 convolutions\n",
    "- A 1 x 1 convolution  - We also call it Network in Network- is so useful in many CNN models.\n",
    "- What does a 1 X 1 convolution do? Isn't it just multiplying by a number?\n",
    "\n",
    "  - Lets first consider an example:\n",
    "    - Input: `6x6x1`\n",
    "    - Conv: `1x1x1` one filter.        `# The 1 x 1 Conv`\n",
    "    - Output: `6x6x1`\n",
    "    - **THE SHAPE DOES NOT CHANGE (though the outputs will because of the weights)**\n",
    "  - Another example:\n",
    "    - Input: `6x6x32`\n",
    "    - Conv: `1x1x32` 5 filters.     `# The 1 x 1 Conv`\n",
    "    - Output: `6x6x5`\n",
    "    - You will get the element wise product-sum of each pixel across the 32 layers\n",
    "    - **YOU GET THE PRODUCT OF THE PREVIOUS LAYERS FILTERS FOR EACH PIXEL (multiplied by the weights of the filter)!!!**\n",
    "    \n",
    "![](images/dope_pic2.png)\n",
    "\n",
    "- The Network in Network is proposed in [Lin et al., 2013. Network in network]\n",
    "- It has been used in a lot of modern CNN implementations like ResNet and Inception models.\n",
    "- A 1 x 1 convolution is useful when:\n",
    "\n",
    "  - We want to shrink the number of channels. We also call this feature transformation.\n",
    "    - In the second discussed example above we have shrinked the input from 32 to 5 channels.\n",
    "  - We will later see that by shrinking it we can save a lot of computations.\n",
    "  - If we have specified the number of 1 x 1 Conv filters to be the same as the input number of channels then the output will contain the same number of channels. **Then the 1 x 1 Conv will act like a non linearity and will learn non linearity operator.**\n",
    "  - **This could also be useful for srhinking a word vector... So if you have a matrix of shape (n_obs, vocab, wordvec_len), we can reduce this to (n_obs, vocab, #filters) with a 1X1Xwordvec_len filter**\n",
    "\n",
    "- Replace fully connected layers with 1 x 1 convolutions as Yann LeCun believes they are the same.\n",
    "\n",
    "  - > In Convolutional Nets, there is no such thing as \"fully-connected layers\". There are only convolution layers with 1x1 convolution kernels and a full connection table. [Yann LeCun](https://www.facebook.com/yann.lecun/posts/10152820758292143) \n",
    "\n",
    "- [[Lin et al., 2013. Network in network]](https://arxiv.org/abs/1312.4400)"
   ]
  },
  {
   "cell_type": "markdown",
   "metadata": {
    "toc-hr-collapsed": false
   },
   "source": [
    "# Inception network motivation\n",
    "\n",
    "- When you design a CNN you have to decide all the layers yourself. Will you pick a 3 x 3 Conv or 5 x 5 Conv or maybe a max pooling layer. You have so many choices.\n",
    "- **Inception** lets you use all of them at once!\n",
    "![](Images/13.png)\n",
    "- Note that max-pool use SAME here, so that output dimensions are the same (you don't normally use SAME with maxpool layers)\n",
    "- Input to the inception module are 28 x 28 x 192 and the output are 28 x 28 x 256\n",
    "- We have done all the Convs and pools we might want and will **let the NN learn and decide which it want to use most.**\n",
    "- [[Szegedy et al. 2014. Going deeper with convolutions]](https://arxiv.org/abs/1409.4842)\n",
    "\n",
    "**The problem of computational cost in Inception model:**\n",
    "  - Lets focus just on the 5 x 5 Conv that we have done in the last example.\n",
    "  - There are 32 same filters of 5 x 5, and the input are 28 x 28 x 192.\n",
    "  - Output should be 28 x 28 x 32\n",
    "  - The total number of multiplications needed here are:\n",
    "    - Number of outputs * Filter size * Filter size * Input dimensions\n",
    "    - Which equals: `28 * 28 * 32 * 5 * 5 * 192 = 120 Mil` \n",
    "    - **120 Mil multiply operation** still a problem in the modern day computers.\n",
    "\n",
    "**Using a 1 x 1 convolution we can reduce 120 mil to just 12 mil:**\n",
    "- Using 1 X 1 convolution to reduce computational cost:\n",
    "  - The new architecture are:\n",
    "    - X0 shape is (28, 28, 192)\n",
    "    - We then apply 16 (1 x 1 Convolution)\n",
    "    - That produces X1 of shape (28, 28, 16)\n",
    "      - Note that we have significantly reduced the dimensions into a much smaller intermediate layer **(this is someitmes called a bottleneck layer)**\n",
    "    - Then apply 32  (5 x 5 Convolution)\n",
    "    - That produces X2 of shape (28, 28, 32)\n",
    "  - Now lets calculate the number of multiplications:\n",
    "    - For the first Conv: `28 * 28 * 16 * 1 * 1 * 192 = 2.5 Mil`\n",
    "    - For the second Conv: `28 * 28 * 32 * 5 * 5 * 16 = 10 Mil`\n",
    "    - So the total number are **12.5 Mil approx**. which is so good compared to 120 Mil\n",
    "- A 1 x 1 Conv here is called Bottleneck `BN`.\n",
    "- **Most importantly, it turns out that the 1 x 1 Conv won't hurt the performance as long as you don't make your bottleneck layer too small!!!**\n",
    "\n",
    "![](images/dope_pic3.png)"
   ]
  },
  {
   "cell_type": "markdown",
   "metadata": {},
   "source": [
    "## Inception Architecture\n",
    "- Remember, we put a 1X1 convolution before each main convolutional layer to reduce the dimensions of the layer\n",
    "- Note that an inception model simply **stacks multiple inception modules**. You will find A SINGLE inception module below:\n",
    "\n",
    "![](Images/14.png)\n",
    "\n",
    "![](Images/inception_block1a.png)"
   ]
  },
  {
   "cell_type": "markdown",
   "metadata": {},
   "source": [
    "## GoogleNet\n",
    "\n",
    "- The inception network consist of concatenated blocks of the Inception module.\n",
    "- The name inception was taken from a *meme* image which was taken from **Inception movie**\n",
    "- Here are the full model:\n",
    "  ![](Images/15.png)\n",
    "\n",
    "- Some times a Max-Pool block is used before the inception module to reduce the dimensions of the inputs.\n",
    "\n",
    "**What are those 3 side branches?**\n",
    "- There are a 3 Sofmax branches at different positions to push the network toward its goal... So essentially, the model is **predicting the output at multiple points along the network!**\n",
    "- This helps to ensure that the intermediate features are good enough to learn and make predictions\n",
    "- It turns out that these 3 side softmax branches also have a regulatizing effect on the overall model.\n",
    "- Since the development of the Inception module, the authors and the others have built another versions of this network. Like inception v2, v3, and v4. Also there is a network that has used the inception module and the ResNet together.\n",
    "- [[Szegedy et al., 2014, Going Deeper with Convolutions]](https://arxiv.org/abs/1409.4842)\n"
   ]
  },
  {
   "cell_type": "markdown",
   "metadata": {},
   "source": [
    "# Using Open-Source Implementation\n",
    "\n",
    "- We have learned a lot of NNs and ConvNets architectures.\n",
    "- It turns out that a lot of these NN are difficult to replicated. because there are some details that may not presented on its papers. There are some other reasons like:\n",
    "  - Learning decay.\n",
    "  - Parameter tuning.\n",
    "- A lot of deep learning researchers are opening sourcing their code into Internet on sites like [Github](Github.com).\n",
    "- If you see a research paper and you want to build over it, the first thing you should do is to look for an open source implementation for this paper.\n",
    "- Some advantage of doing this is that you might download the network implementation along with its parameters/weights. The author might have used multiple GPUs and spent some weeks to reach this result and its right in front of you after you download it.\n"
   ]
  },
  {
   "cell_type": "markdown",
   "metadata": {},
   "source": [
    "# Transfer Learning\n",
    "\n",
    "- If you are using a specific NN architecture that has been trained before, you can use this pretrained parameters/weights instead of random initialization to solve your problem.\n",
    "- It can help you boost the performance of the NN.\n",
    "- The pretrained models might have trained on a large datasets like ImageNet, Ms COCO, or pascal and took a lot of time to learn those parameters/weights with optimized hyperparameters. This can save you a lot of time.\n",
    "- Lets see an example:\n",
    "  - Lets say you have a cat classification problem which contains 3 classes Tigger, Misty and neither.\n",
    "  - You don't have much a lot of data to train a NN on these images.\n",
    "  - Andrew recommends to go online and download a good NN with its weights, remove the softmax activation layer and put your own one and make the network learn only the new layer while other layer weights are fixed/frozen.\n",
    "  - Frameworks have options to make the parameters frozen in some layers using `trainable = 0` or `freeze = 0`\n",
    "  - One of the tricks that can speed up your training, is to run the pretrained NN without final softmax layer and get an intermediate representation of your images and save them to disk. And then use these representation to a shallow NN network. This can save you the time needed to run an image through all the layers.\n",
    "    - Its like converting your images into vectors.\n",
    "- Another example:\n",
    "  - What if in the last example you have a lot of pictures for your cats.\n",
    "  - One thing you can do is to freeze few layers from the beginning of the pretrained network and learn the other weights in the network.\n",
    "  - Some other idea is to throw away the layers that aren't frozen and put your own layers there.\n",
    "- Another example:\n",
    "  - If you have enough data, you can fine tune all the layers in your pretrained network but don't random initialize the parameters, leave the learned parameters as it is and learn from there. \n",
    "\n",
    "![](images/dope_pic4.png)"
   ]
  },
  {
   "cell_type": "markdown",
   "metadata": {},
   "source": [
    "# Data Augmentation\n",
    "\n",
    "- If data is increased, your deep NN will perform better. Data augmentation is one of the techniques that deep learning uses to increase the performance of deep NN.\n",
    "- The majority of computer vision applications needs more data right now.\n",
    "- Some data augmentation methods that are used for computer vision tasks includes:\n",
    "  - Mirroring.\n",
    "  - Random cropping.\n",
    "    - The issue with this technique is that you might take a wrong crop.\n",
    "    - The solution is to make your crops big enough.\n",
    "  - Rotation.\n",
    "  - Shearing.\n",
    "  - Local warping.\n",
    "  - Color shifting.\n",
    "    - For example, we add to R, G, and B some distortions that will make the image identified as the same for the human but is different for the computer.\n",
    "    - In practice the added value are pulled from some probability distribution and these shifts are some small.\n",
    "    - Makes your algorithm more robust in changing colors in images. \n",
    "    - There are an algorithm which is called ***PCA color augmentation*** that decides the shifts needed automatically.\n",
    "- Implementing distortions during training:\n",
    "  - You can use a different CPU thread to make you a distorted mini batches while you are training your NN.\n",
    "- Data Augmentation has also some hyperparameters. A good place to start is to find an open source data augmentation implementation and then use it or fine tune these hyperparameters."
   ]
  },
  {
   "cell_type": "markdown",
   "metadata": {
    "toc-hr-collapsed": true
   },
   "source": [
    "# State of Computer Vision\n",
    "\n",
    "- For a specific problem we may have a little data for it or a lots of data.\n",
    "- Speech recognition problems for example has a big amount of data, while image recognition has a medium amount of data and the object detection has a small amount of data nowadays.\n",
    "- If your problem has a large amount of data, researchers are tend to use:\n",
    "  - Simpler algorithms.\n",
    "  - Less hand engineering.\n",
    "- If you don't have that much data people tend to try more hand engineering for the problem \"Hacks\". Like choosing a more complex NN architecture.\n",
    "- Because we haven't got that much data in a lot of computer vision problems, it relies a lot on hand engineering.\n",
    "- We will see in the next chapter that because the object detection has less data, a more complex NN architectures will be presented.\n",
    "- Tips for doing well on benchmarks/winning competitions:\n",
    "  - Ensembling.\n",
    "    - Train several networks independently and average their outputs. Merging down some classifiers.\n",
    "    - After you decide the best architecture for your problem, initialize some of that randomly and train them independently.\n",
    "    - This can give you a push by 2%\n",
    "    - But this will slow down your production by the number of the ensembles. Also it takes more memory as it saves all the models in the memory.\n",
    "    - People use this in competitions but few uses this in a real production.\n",
    "  - Multi-crop at test time.\n",
    "    - Run classifier on multiple versions of test versions and average results.\n",
    "    - There is a technique called 10 crops that uses this.\n",
    "    - This can give you a better result in the production.\n",
    "- Use open source code\n",
    "  - Use architectures of networks published in the literature.\n",
    "  - Use open source implementations if possible.\n",
    "  - Use pretrained models and fine-tune on your dataset."
   ]
  }
 ],
 "metadata": {
  "kernelspec": {
   "display_name": "Python 3",
   "language": "python",
   "name": "python3"
  },
  "language_info": {
   "codemirror_mode": {
    "name": "ipython",
    "version": 3
   },
   "file_extension": ".py",
   "mimetype": "text/x-python",
   "name": "python",
   "nbconvert_exporter": "python",
   "pygments_lexer": "ipython3",
   "version": "3.6.6"
  },
  "toc-autonumbering": true,
  "toc-showcode": false,
  "toc-showmarkdowntxt": true,
  "toc-showtags": false
 },
 "nbformat": 4,
 "nbformat_minor": 2
}
