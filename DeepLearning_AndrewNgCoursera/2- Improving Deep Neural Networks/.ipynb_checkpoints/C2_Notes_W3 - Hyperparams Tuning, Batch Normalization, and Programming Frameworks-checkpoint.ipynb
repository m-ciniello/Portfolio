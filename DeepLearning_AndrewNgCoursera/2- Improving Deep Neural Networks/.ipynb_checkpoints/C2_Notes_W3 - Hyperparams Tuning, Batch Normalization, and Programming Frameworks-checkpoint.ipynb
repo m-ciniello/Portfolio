{
 "cells": [
  {
   "cell_type": "markdown",
   "metadata": {},
   "source": [
    "# C2_Notes_W3 - Hyperparams Tuning, Batch Norm, and Programming Frameworks\n",
    "\n",
    "## Table of contents\n",
    "\n",
    "* [1. Tuning process](#tuning-process)\n",
    "* [2. Using an appropriate scale to pick hyperparameters](#using-an-appropriate-scale-to-pick-hyperparameters)\n",
    "* [3. Hyperparameters tuning in practice: Pandas vs. Caviar](#hyperparameters-tuning-in-practice-pandas-vs-caviar)\n",
    "* [4. Normalizing activations in a network](#normalizing-activations-in-a-network)\n",
    "* [5. Fitting Batch Normalization into a neural network](#fitting-batch-normalization-into-a-neural-network)\n",
    "* [6. Why does Batch normalization work?](#why-does-batch-normalization-work)\n",
    "* [7. Batch normalization at test time](#batch-normalization-at-test-time)\n",
    "* [8. Softmax Regression](#softmax-regression)\n",
    "* [9. Training a Softmax classifier](#training-a-softmax-classifier)\n",
    "* [10. Deep learning frameworks](#deep-learning-frameworks)\n",
    "* [11. TensorFlow](#tensorflow)\n",
    "* [12. Extra Notes](#extra-notes)"
   ]
  },
  {
   "cell_type": "markdown",
   "metadata": {},
   "source": [
    "# 1. Tuning process\n",
    "\n",
    "**We need to tune our hyperparameters to get the best out of them:**\n",
    "- Hyperparameters importance are (as for Andrew Ng):\n",
    "  1. **Learning rate (MOST IMPORTANT)**\n",
    "  2. Mini-batch size.\n",
    "  3. No. of hidden units.\n",
    "  4. No. of layers.\n",
    "  5. Learning rate decay.\n",
    "  6. Regularization lambda.\n",
    "  7. Activation functions.\n",
    "  8. **Adam beta1, beta2, epsilon (Momentum beta (0.9), RMSprop beta(0.99) and epsilon (10^-8))**... These are generally fixed. \n",
    "- Its hard to decide which hyperparameter is the most important in a problem. It depends a lot on your problem.\n",
    "- One of the ways to tune is to sample a grid with `N` hyperparameter settings and then try all settings combinations on your problem.\n",
    "\n",
    "**Try random values, DONT USE A GRID:**\n",
    "- Choose points at random because it is difficult to know in advance which hyperparams are going to be best for your problem. \n",
    "- And generally some hyperparams are more important than others... \n",
    "\n",
    "**You can use COURSE TO FINE sampling scheme:**\n",
    "- When you find some hyperparameters values that give you a better performance - zoom into a smaller region around these values and sample more densely within this space.\n",
    "- These methods can be automated."
   ]
  },
  {
   "cell_type": "markdown",
   "metadata": {},
   "source": [
    "# 2. Using an appropriate scale to pick hyperparameters\n",
    "\n",
    "- Let's say you have a specific range for a hyperparameter from \"a\" to \"b\".\n",
    "- If you are trying to search for a optimal number of layers or neurons, where the hyperparam is an integer within a small range (like 10-20), then you could probably just do a GridSearchCV... cuz there arent that many options here.\n",
    "- **HOWEVER, if you are trying to choose the the appropriate alpha term (from 0.0001 to 0.1) then it's better to search for the right ones using the logarithmic scale rather then in linear scale.**\n",
    "- The reason is, you want your alpha parameter to be ver close to 0.1... an alpha close to 1 is probably not a good alpha. As such, you want to use a logarithmic scale to push the values closer to 0.0001.\n",
    "    - Take the log of the low and high values of your range\n",
    "    - Put these into the following calc:\n",
    "    \n",
    "    - `r = low * np.random.rand() #This will give random value between #log10(low) and log10(high)`\n",
    "    - `dist = 10^r #for a bunch of random values of r. This will give you your dist`\n",
    "  \n",
    "**For example:**\n",
    "  - Calculate: `low_log = log(low)  # e.g. low = 0.0001 then np.log10(0.001) = -4`\n",
    "  - Calculate: `high_log = log(high)  # e.g. high = 1  then np.log10(1) = 0`\n",
    "  - Then:\n",
    "    ```\n",
    "    r = Uniformly sample random value between log_low and low_high \n",
    "    param_value = 10^r\n",
    "    ```\n",
    "**If we want to use the last method on exploring on the \"momentum beta\":**\n",
    "- Beta best range is from 0.9 to 0.999.\n",
    "- You should search for `1 - beta in range 0.001 to 0.1 (1 - 0.9 and 1 - 0.999)` and the use `a = 0.001` and `b = 0.1`. Then:\n",
    "```\n",
    "a_log = -3\n",
    "b_log = -1\n",
    "# This does same thing as above... gets a randomly sampled value between a_log and b_log\n",
    "r = (a_log - b_log) * np.random.rand() + b_log\n",
    "beta = 1 - 10^r   # because 1 - beta = 10^r\n",
    "    ```\n",
    "\n"
   ]
  },
  {
   "cell_type": "code",
   "execution_count": 131,
   "metadata": {},
   "outputs": [
    {
     "data": {
      "image/png": "[encoded data removed]",
      "text/plain": [
       "<matplotlib.figure.Figure at 0x1f092776d68>"
      ]
     },
     "metadata": {},
     "output_type": "display_data"
    }
   ],
   "source": [
    "import numpy as np\n",
    "import matplotlib.pyplot as plt\n",
    "\n",
    "low=0.0001\n",
    "high=1\n",
    "\n",
    "x_normal = np.random.uniform(low=low, high=high, size=(1000,))\n",
    "plt.hist(x_normal,bins=100, alpha=0.3)\n",
    "\n",
    "r = np.log10(low)*np.random.rand(500)\n",
    "x_logn = [10**i for i in r]\n",
    "x_logn\n",
    "plt.hist(x_logn,bins=100, alpha=0.3)\n",
    "\n",
    "\n",
    "plt.show()"
   ]
  },
  {
   "cell_type": "markdown",
   "metadata": {},
   "source": [
    "# 3. Hyperparameters tuning in practice: Pandas vs. Caviar \n",
    "\n",
    "- Intuitions about hyperparameter settings from one application area may or may not transfer to a different one.\n",
    "- If you don't have much computational resources you can use the \"babysitting model\":\n",
    "  - Day 0 you might initialize your parameter as random and then start training.\n",
    "  - Then you watch your learning curve gradually decrease over the day.\n",
    "  - And each day you nudge your parameters a little during training.\n",
    "  - Called panda approach.\n",
    "- If you have enough computational resources, you can run some models in parallel and at the end of the day(s) you check the results.\n",
    "  - Called Caviar approach.\n",
    "\n"
   ]
  },
  {
   "cell_type": "markdown",
   "metadata": {},
   "source": [
    "# 4. Normalizing activations in a network\n",
    "\n",
    "- In the rise of deep learning, one of the most important ideas has been an algorithm called **batch normalization**, created by two researchers, Sergey Ioffe and Christian Szegedy.\n",
    "- Batch Normalization speeds up learning.\n",
    "- Before we normalized input by subtracting the mean and dividing by variance. This helped a lot for the shape of the cost function and for reaching the minimum point faster.\n",
    "- The question is: *for any hidden layer can we normalize `A[l]` to train `W[l]`, `b[l]` faster?* This is what batch normalization is about.\n",
    "- There are some debates in the deep learning literature about whether you should normalize values before the activation function `Z[l]` or after applying the activation function `A[l]`. In practice, normalizing `Z[l]` is done much more often and that is what Andrew Ng presents.\n",
    "- Algorithm:\n",
    "  - Given `Z[l] = [z(1), ..., z(m)]`, i = 1 to m (for each input)\n",
    "  - Compute `mean = 1/m * sum(z[i])`\n",
    "  - Compute `variance = 1/m * sum((z[i] - mean)^2)`\n",
    "  - Then `Z_norm[i] = (z(i) - mean) / np.sqrt(variance + epsilon)` (add `epsilon` for numerical stability if variance = 0)\n",
    "    - Forcing the inputs to a distribution with zero mean and variance of 1.\n",
    " - **Then `Z_tilde[i] = gamma * Z_norm[i] + beta`**. \n",
    "     - Gamma and Beta are the hyperparameters, and are used to make inputs belong to other distribution (with other mean and variance), which the model can learn.\n",
    "     - Making the NN learn the distribution of the outputs.\n",
    "     - _Note:_ if `gamma = sqrt(variance + epsilon)` and `beta = mean` then `Z_tilde[i] = Z_norm[i]`... do the math and see for yourself, its pretty simple!\n",
    "\n"
   ]
  },
  {
   "cell_type": "markdown",
   "metadata": {},
   "source": [
    "# 5. Fitting Batch Normalization into a neural network\n",
    "\n",
    "- Using batch norm in 3 hidden layers NN:\n",
    "    ![](Images/bn.png)\n",
    "- Our NN parameters will be:\n",
    "  - `W[1]`, `b[1]`, ..., `W[L]`, `b[L]`, `beta[1]`, `gamma[1]`, ..., `beta[L]`, `gamma[L]`\n",
    "  - `beta[1]`, `gamma[1]`, ..., `beta[L]`, `gamma[L]` are updated using any optimization algorithms (like GD, RMSprop, Adam)\n",
    "- If you are using a deep learning framework, you won't have to implement batch norm yourself:\n",
    "  - Ex. in Tensorflow you can add this line: `tf.nn.batch-normalization()`\n",
    "- Batch normalization is usually applied with mini-batches.\n",
    "- If we are using batch normalization parameters `b[1]`, ..., `b[L]` doesn't count because they will be eliminated after mean subtraction step, so:\n",
    "  ```\n",
    "  Z[l] = W[l]A[l-1] + b[l] => Z[l] = W[l]A[l-1]\n",
    "  Z_norm[l] = ...\n",
    "  Z_tilde[l] = gamma[l] * Z_norm[l] + beta[l]\n",
    "  ```\n",
    "  - Taking the mean of a constant `b[l]` will eliminate the `b[l]`\n",
    "- So if you are using batch normalization, you can remove b[l] or make it always zero.\n",
    "- So the parameters will be `W[l]`, `beta[l]`, and `alpha[l]`.\n",
    "- Shapes:\n",
    "  - `Z[l]       - (n[l], m)`\n",
    "  - `beta[l]    - (n[l], m)`\n",
    "  - `gamma[l]   - (n[l], m)`\n",
    "\n"
   ]
  },
  {
   "cell_type": "markdown",
   "metadata": {},
   "source": [
    "# 6. Why does Batch normalization work?\n",
    "\n",
    "- The first reason is the same reason as why we normalize X.\n",
    "- The second reason is that batch normalization reduces the problem of input values changing (shifting).\n",
    "- Batch normalization does some regularization:\n",
    "  - Each mini batch is scaled by the mean/variance computed of that mini-batch.\n",
    "  - This adds some noise to the values `Z[l]` within that mini batch. So similar to dropout it adds some noise to each hidden layer's activations.\n",
    "  - This has a slight regularization effect.\n",
    "  - Using bigger size of the mini-batch you are reducing noise and therefore regularization effect.\n",
    "  - Don't rely on batch normalization as a regularization. It's intended for normalization of hidden units, activations and therefore speeding up learning. For regularization use other regularization techniques (L2 or dropout).\n",
    "\n"
   ]
  },
  {
   "cell_type": "markdown",
   "metadata": {},
   "source": [
    "# 7. Batch normalization at test time\n",
    "\n",
    "- When we train a NN with Batch normalization, we compute the mean and the variance of the mini-batch.\n",
    "- In testing we might need to process examples one at a time. The mean and the variance of one example won't make sense.\n",
    "- We have to compute an estimated value of mean and variance to use it in testing time.\n",
    "- We can use the weighted average across the mini-batches.\n",
    "- We will use the estimated values of the mean and variance to test.\n",
    "- This method is also sometimes called \"Running average\".\n",
    "- In practice most often you will use a deep learning framework and it will contain some default implementation of doing such a thing."
   ]
  },
  {
   "cell_type": "markdown",
   "metadata": {},
   "source": [
    "# 8. Softmax Regression\n",
    "\n",
    "- In every example we have used so far we were talking about binary classification.\n",
    "- There are a generalization of logistic regression called Softmax regression that is used for multiclass classification/regression.\n",
    "- For example if we are classifying by classes `dog`, `cat`, `baby chick` and `none of that`\n",
    "  - Dog `class = 1`\n",
    "  - Cat `class = 2`\n",
    "  - Baby chick `class = 3`\n",
    "  - None `class = 0`\n",
    "  - To represent a dog vector `y = [0 1 0 0]`\n",
    "  - To represent a cat vector `y = [0 0 1 0]`\n",
    "  - To represent a baby chick vector `y = [0 0 0 1]`\n",
    "  - To represent a none vector `y = [1 0 0 0]`\n",
    "- Notations:\n",
    "  - `C = no. of classes`\n",
    "  - Range of classes is `(0, ..., C-1)`\n",
    "  - In output layer `Ny = C`\n",
    "- Each of C values in the output layer will contain a probability of the example to belong to each of the classes.\n",
    "- In the last layer we will have to activate the Softmax activation function instead of the sigmoid activation.\n",
    "- Softmax activation equations:\n",
    "  ```\n",
    "  t = e^(Z[L])                      # shape(C, m)\n",
    "  A[L] = e^(Z[L]) / sum(t)          # shape(C, m), sum(t) - sum of t's for each example (shape (1, m))\n",
    "  ``"
   ]
  },
  {
   "cell_type": "markdown",
   "metadata": {},
   "source": [
    "### Remember, log of x where x is between 0 and 1, x{0,1}, will look like the graph below, producing large negative numbers until it gets very close to 1. Log(1) = 0. This is why this works for softmax, as you take the 'negative log' of the probability... so if a class is a 1, and the probability is LOW, then the cost function will increase! For example:\n",
    "- observation x is class 1\n",
    "- predict probability of 0.001\n",
    "- log(0.001) = -6.90\n",
    "- negative log(0.001) = 6.90\n",
    "- Thus adding a large number to the cost! Because we had a low probability for a class 1!!!"
   ]
  },
  {
   "cell_type": "code",
   "execution_count": 50,
   "metadata": {},
   "outputs": [
    {
     "data": {
      "text/plain": [
       "-6.9077552789821368"
      ]
     },
     "execution_count": 50,
     "metadata": {},
     "output_type": "execute_result"
    }
   ],
   "source": [
    "np.log(0.001)"
   ]
  },
  {
   "cell_type": "code",
   "execution_count": 51,
   "metadata": {},
   "outputs": [
    {
     "data": {
      "image/png": "[encoded data removed]",
      "text/plain": [
       "<matplotlib.figure.Figure at 0x167263f69b0>"
      ]
     },
     "metadata": {},
     "output_type": "display_data"
    }
   ],
   "source": [
    "import matplotlib.pyplot as plt\n",
    "x = np.linspace(0.001,1)\n",
    "y = np.log(x)\n",
    "plt.plot(x,y)\n",
    "plt.ylabel('np.Log(X)')\n",
    "plt.xlabel('X')\n",
    "\n",
    "plt.show()\n"
   ]
  },
  {
   "cell_type": "code",
   "execution_count": 61,
   "metadata": {},
   "outputs": [
    {
     "data": {
      "text/plain": [
       "array([ 0.84203357,  0.04192238,  0.00208719,  0.11395685])"
      ]
     },
     "execution_count": 61,
     "metadata": {},
     "output_type": "execute_result"
    }
   ],
   "source": [
    "import numpy as np\n",
    "def softmax(logits):\n",
    "    t = np.exp(logits)\n",
    "    return t/sum(t)\n",
    "\n",
    "softmax([5,2,-1,3])"
   ]
  },
  {
   "cell_type": "code",
   "execution_count": 64,
   "metadata": {},
   "outputs": [
    {
     "data": {
      "text/plain": [
       "1.6094379124341003"
      ]
     },
     "execution_count": 64,
     "metadata": {},
     "output_type": "execute_result"
    }
   ],
   "source": [
    "truth = [0, 1, 0, 0]\n",
    "predict = [0.3, 0.2, 0.1, 0.4]\n",
    "\n",
    "def softmax_loss(truth, predict):\n",
    "    sums=[]\n",
    "    for y, yHat in zip(truth, predict):\n",
    "        # if y is zero, then 0\n",
    "        if y==0:\n",
    "            sums.append(0)\n",
    "        # else take log(yHat)\n",
    "        else:\n",
    "            sums.append(np.log(yHat))  \n",
    "    return -sum(sums)\n",
    "    \n",
    "softmax_loss(truth, predict)"
   ]
  },
  {
   "cell_type": "markdown",
   "metadata": {},
   "source": [
    "# NOTE: Multclass cross entropy is slightly different than binary cross entropy (same idea though!)\n",
    "Taken from: http://ml-cheatsheet.readthedocs.io/en/latest/loss_functions.html\n",
    "\n",
    "Cross-entropy loss, or log loss, **measures the performance of a classification model whose output is a probability value between 0 and 1.** \n",
    "- Cross-entropy loss increases as the predicted probability diverges from the actual label. \n",
    "- So predicting a probability of .012 when the actual observation label is 1 would be bad and result in a high loss value. \n",
    "- A perfect model would have a log loss of 0.\n",
    "\n",
    "The graph above shows the range of possible loss values given a **true observation (isDog = 1)**. \n",
    "- As the predicted probability approaches 1, log loss slowly decreases. \n",
    "- As the predicted probability decreases, however, the log loss increases rapidly. Log loss penalizes both types of errors, but especially those predications that are confident and wrong!\n",
    "\n",
    "Cross-entropy and log loss are slightly different depending on context, but in machine learning when calculating error rates between 0 and 1 they resolve to the same thing.\n",
    "\n",
    "### Math\n",
    "In binary classification, where the number of classes M equals 2, cross-entropy can be calculated as:\n",
    "\n",
    "$-{(y\\log(p) + (1 - y)\\log(1 - p))}$\n",
    "\n",
    "If M>2 (i.e. multiclass classification), we calculate a separate loss for each class label per observation and sum the result.\n",
    "\n",
    "$-\\sum_{c=1}^My_{o,c}\\log(p_{o,c})$\n",
    "\n",
    "- M: number of classes (dog, cat, fish)\n",
    "- log: the natural log\n",
    "- y: binary indicator (0 or 1) if class label c is the correct classification for observation o\n",
    "- p: predicted probability observation o is of class c"
   ]
  },
  {
   "cell_type": "markdown",
   "metadata": {},
   "source": [
    "# 9. Training a Softmax classifier\n",
    "\n",
    "- There's an activation which is called hard max, which gets 1 for the maximum value and zeros for the others.\n",
    "  - If you are using NumPy, its `np.max` over the vertical axis.\n",
    "- The Softmax name came from softening the values and not harding them like hard max.\n",
    "- Softmax is a generalization of logistic activation function to `C` classes. If `C = 2` softmax reduces to logistic regression.\n",
    "- The loss function used with softmax:\n",
    "  ```\n",
    "  L(y, y_hat) = - sum(y[j] * log(y_hat[j])) # j = 0 to C-1\n",
    "  ```\n",
    "- The cost function used with softmax:\n",
    "  ```\n",
    "  J(w[1], b[1], ...) = - 1 / m * (sum(L(y[i], y_hat[i]))) # i = 0 to m\n",
    "  ```\n",
    "- Back propagation with softmax:\n",
    "  ```\n",
    "  dZ[L] = Y_hat - Y\n",
    "  ```\n",
    "- The derivative of softmax is:\n",
    "  ```\n",
    "  Y_hat * (1 - Y_hat)\n",
    "  ```\n",
    "- Example:\n",
    "    ![](Images/07-_softmax.png)"
   ]
  },
  {
   "cell_type": "markdown",
   "metadata": {},
   "source": [
    "# 10. Deep learning frameworks\n",
    "\n",
    "- It's not practical to implement everything from scratch. Our numpy implementations were to know how NN works.\n",
    "- There are many good deep learning frameworks.\n",
    "- Deep learning is now in the phase of doing something with the frameworks and not from scratch to keep on going.\n",
    "- Here are some of the leading deep learning frameworks:\n",
    "  - Caffe/ Caffe2\n",
    "  - CNTK\n",
    "  - DL4j\n",
    "  - Keras\n",
    "  - Lasagne\n",
    "  - mxnet\n",
    "  - PaddlePaddle\n",
    "  - TensorFlow\n",
    "  - Theano\n",
    "  - Torch/Pytorch\n",
    "- These frameworks are getting better month by month. Comparison between them can be found [here](https://en.wikipedia.org/wiki/Comparison_of_deep_learning_software).\n",
    "- How to choose deep learning framework:\n",
    "  - Ease of programming (development and deployment)\n",
    "  - Running speed\n",
    "  - Truly open (open source with good governance)\n",
    "- Programming frameworks can not only shorten your coding time but sometimes also perform optimizations that speed up your code."
   ]
  },
  {
   "cell_type": "markdown",
   "metadata": {},
   "source": [
    "# 11. TensorFlow\n",
    "\n",
    "- In this section we will learn the basic structure of TensorFlow programs.\n",
    "- Lets see how to implement a minimization function:\n",
    "  - Example function: `J(w) = w^2 - 10w + 25`\n",
    "  - The result should be `w = 5` as the function is `(w-5)^2 = 0`\n",
    "  - Code v.1:\n",
    "    ```python\n",
    "    import numpy as np\n",
    "    import tensorflow as tf\n",
    "    \n",
    "    \n",
    "    w = tf.Variable(0, dtype=tf.float32)                 # creating a variable w\n",
    "    cost = tf.add(tf.add(w**2, tf.multiply(-10.0, w)), 25.0)        # can be written as this - cost = w**2 - 10*w + 25\n",
    "    train = tf.train.GradientDescentOptimizer(0.01).minimize(cost)\n",
    "\n",
    "    init = tf.global_variables_initializer()\n",
    "    session = tf.Session()\n",
    "    session.run(init)\n",
    "    session.run(w)    # Runs the definition of w, if you print this it will print zero\n",
    "    session.run(train)\n",
    "\n",
    "    print(\"W after one iteration:\", session.run(w))\n",
    "\n",
    "    for i in range(1000):\n",
    "    \tsession.run(train)\n",
    "\n",
    "    print(\"W after 1000 iterations:\", session.run(w))\n",
    "    ```\n",
    "  - Code v.2 (we feed the inputs to the algorithm through coefficients):\n",
    "\n",
    "    ```python\n",
    "    import numpy as np\n",
    "    import tensorflow as tf\n",
    "    \n",
    "    \n",
    "    coefficients = np.array([[1.], [-10.], [25.]])\n",
    "\n",
    "    x = tf.placeholder(tf.float32, [3, 1])\n",
    "    w = tf.Variable(0, dtype=tf.float32)                 # Creating a variable w\n",
    "    cost = x[0][0]*w**2 + x[1][0]*w + x[2][0]\n",
    "\n",
    "    train = tf.train.GradientDescentOptimizer(0.01).minimize(cost)\n",
    "\n",
    "    init = tf.global_variables_initializer()\n",
    "    session = tf.Session()\n",
    "    session.run(init)\n",
    "    session.run(w)    # Runs the definition of w, if you print this it will print zero\n",
    "    session.run(train, feed_dict={x: coefficients})\n",
    "\n",
    "    print(\"W after one iteration:\", session.run(w))\n",
    "\n",
    "    for i in range(1000):\n",
    "    \tsession.run(train, feed_dict={x: coefficients})\n",
    "\n",
    "    print(\"W after 1000 iterations:\", session.run(w))\n",
    "    ```\n",
    "- In TensorFlow you implement only the forward propagation and TensorFlow will do the backpropagation by itself.\n",
    "- In TensorFlow a placeholder is a variable you can assign a value to later.\n",
    "- If you are using a mini-batch training you should change the `feed_dict={x: coefficients}` to the current mini-batch data.\n",
    "- Almost all TensorFlow programs use this:\n",
    "  ```python\n",
    "  with tf.Session() as session:       # better for cleaning up in case of error/exception\n",
    "  \tsession.run(init)\n",
    "  \tsession.run(w)\n",
    "  ```\n",
    "- In deep learning frameworks there are a lot of things that you can do with one line of code like changing the optimizer.\n",
    "_**Side notes:**_\n",
    "- Writing and running programs in TensorFlow has the following steps:\n",
    "  1. Create Tensors (variables) that are not yet executed/evaluated.\n",
    "  2. Write operations between those Tensors.\n",
    "  3. Initialize your Tensors.\n",
    "  4. Create a Session.\n",
    "  5. Run the Session. This will run the operations you'd written above.\n",
    "- Instead of needing to write code to compute the cost function we know, we can use this line in TensorFlow :\n",
    "  `tf.nn.sigmoid_cross_entropy_with_logits(logits = ...,  labels = ...)`\n",
    "- To initialize weights in NN using TensorFlow use:\n",
    "  ```\n",
    "  W1 = tf.get_variable(\"W1\", [25,12288], initializer = tf.contrib.layers.xavier_initializer(seed = 1))\n",
    "\n",
    "  b1 = tf.get_variable(\"b1\", [25,1], initializer = tf.zeros_initializer())\n",
    "  ```\n",
    "- For 3-layer NN, it is important to note that the forward propagation stops at `Z3`. The reason is that in TensorFlow the last linear layer output is given as input to the function computing the loss. Therefore, you don't need `A3`!\n",
    "- To reset the graph use `tf.reset_default_graph()`\n",
    "\n"
   ]
  },
  {
   "cell_type": "markdown",
   "metadata": {},
   "source": [
    "# 12. Extra Notes\n",
    "\n",
    "- If you want a good papers in deep learning look at the ICLR proceedings (Or NIPS proceedings) and that will give you a really good view of the field.\n",
    "- Who is Yuanqing Lin?\n",
    "  - Head of Baidu research.\n",
    "  - First one to win ImageNet\n",
    "  - Works in PaddlePaddle deep learning platform.\n"
   ]
  }
 ],
 "metadata": {
  "kernelspec": {
   "display_name": "Python 3",
   "language": "python",
   "name": "python3"
  },
  "language_info": {
   "codemirror_mode": {
    "name": "ipython",
    "version": 3
   },
   "file_extension": ".py",
   "mimetype": "text/x-python",
   "name": "python",
   "nbconvert_exporter": "python",
   "pygments_lexer": "ipython3",
   "version": "3.6.3"
  }
 },
 "nbformat": 4,
 "nbformat_minor": 2
}
