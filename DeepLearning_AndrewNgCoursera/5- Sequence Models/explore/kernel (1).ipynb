{
 "cells": [
  {
   "cell_type": "code",
   "execution_count": 47,
   "metadata": {
    "_cell_guid": "b1076dfc-b9ad-4769-8c92-a6c4dae69d19",
    "_uuid": "8f2839f25d086af736a60e9eeb907d3b93b6e0e5"
   },
   "outputs": [
    {
     "name": "stdout",
     "output_type": "stream",
     "text": [
      "['embeddings', 'train.csv', 'sample_submission.csv', 'test.csv']\n"
     ]
    }
   ],
   "source": [
    "# This Python 3 environment comes with many helpful analytics libraries installed\n",
    "# It is defined by the kaggle/python docker image: https://github.com/kaggle/docker-python\n",
    "# For example, here's several helpful packages to load in \n",
    "\n",
    "import numpy as np # linear algebra\n",
    "import pandas as pd # data processing, CSV file I/O (e.g. pd.read_csv)\n",
    "\n",
    "# Input data files are available in the \"../input/\" directory.\n",
    "# For example, running this (by clicking run or pressing Shift+Enter) will list the files in the input directory\n",
    "\n",
    "import os\n",
    "print(os.listdir(\"../input\"))\n",
    "\n",
    "# Any results you write to the current directory are saved as output."
   ]
  },
  {
   "cell_type": "markdown",
   "metadata": {
    "_uuid": "1c3edb10f305d21890eda2a20a03d05e9315eb91"
   },
   "source": [
    "# 1. Data Prep"
   ]
  },
  {
   "cell_type": "code",
   "execution_count": 52,
   "metadata": {
    "_uuid": "6a308a82c3fa78fc270d765cfb4b9cb1dd05aec7"
   },
   "outputs": [
    {
     "name": "stdout",
     "output_type": "stream",
     "text": [
      "(375000,) (375000,)\n"
     ]
    },
    {
     "data": {
      "text/plain": [
       "179"
      ]
     },
     "execution_count": 52,
     "metadata": {},
     "output_type": "execute_result"
    }
   ],
   "source": [
    "from sklearn.model_selection import train_test_split\n",
    "from sklearn.svm import SVC\n",
    "from sklearn.ensemble import RandomForestClassifier\n",
    "from sklearn.metrics import accuracy_score, recall_score, precision_score\n",
    "\n",
    "# LOAD DATA\n",
    "PATH = '../input'\n",
    "df = pd.read_csv(f'{PATH}/train.csv')\n",
    "X, y = df.iloc[:500000,1], df.iloc[:500000,2]\n",
    "X_train, X_test, y_train, y_test = train_test_split(X, y, shuffle=True)\n",
    "print(X_train.shape, y_train.shape)\n",
    "\n",
    "# LOAD STOPWORDS\n",
    "import nltk\n",
    "from nltk.corpus import stopwords\n",
    "stopwords = set(stopwords.words('english'))\n",
    "len(stopwords)"
   ]
  },
  {
   "cell_type": "markdown",
   "metadata": {
    "_uuid": "e54b1dbcd96eec7aa062c854bc96e04372e9defe"
   },
   "source": [
    "# 2. Vectorize"
   ]
  },
  {
   "cell_type": "code",
   "execution_count": 50,
   "metadata": {
    "_uuid": "57e83bc897cdb24a3539de5a24f0c8b451e15aee"
   },
   "outputs": [],
   "source": [
    "from sklearn.pipeline import Pipeline\n",
    "from sklearn.feature_extraction.text import TfidfVectorizer\n",
    "from sklearn.decomposition import PCA, TruncatedSVD\n",
    "vectorizer = TfidfVectorizer(strip_accents=None,lowercase=True, preprocessor=None, tokenizer=None, analyzer='word', \n",
    "                             stop_words=stopwords,token_pattern='(?u)\\\\b\\\\w\\\\w+\\\\b', ngram_range=(1, 3), max_df=1.0, min_df=1,\n",
    "                             max_features=None, vocabulary=None, binary=False, norm='l2', use_idf=True, smooth_idf=True, sublinear_tf=False)\n",
    "\n",
    "# Fit vectorizer\n",
    "vectorizer.fit(X_train)\n",
    "\n",
    "# Transform training and test sets\n",
    "X_train_vect = vectorizer.transform(X_train)\n",
    "X_val_vect = vectorizer.transform(X_test)"
   ]
  },
  {
   "cell_type": "code",
   "execution_count": 53,
   "metadata": {
    "_uuid": "23b5eea6a7ed9a8c87ff1a43813253b10ed8362e"
   },
   "outputs": [
    {
     "data": {
      "text/plain": [
       "(375000, 3009360)"
      ]
     },
     "execution_count": 53,
     "metadata": {},
     "output_type": "execute_result"
    }
   ],
   "source": [
    "X_train_vect.shape"
   ]
  },
  {
   "cell_type": "markdown",
   "metadata": {
    "_uuid": "fc58e7a9228ea10a6e7d9331c7932aa4751b98ca"
   },
   "source": [
    "# 3. Run Models"
   ]
  },
  {
   "cell_type": "markdown",
   "metadata": {
    "_uuid": "72353a64f8dd88a0ea3e68a31deb92806c2c5a44"
   },
   "source": [
    "- **class sklearn.svm.SVC**(C=1.0, kernel=’rbf’, degree=3, gamma=’auto_deprecated’, coef0=0.0, shrinking=True, probability=False, tol=0.001, cache_size=200, class_weight=None, verbose=False, max_iter=-1, decision_function_shape=’ovr’, random_state=None)[source]¶\n",
    "- **class sklearn.ensemble.RandomForestClassifier**(n_estimators=’warn’, criterion=’gini’, max_depth=None, min_samples_split=2, min_samples_leaf=1, min_weight_fraction_leaf=0.0, max_features=’auto’, max_leaf_nodes=None, min_impurity_decrease=0.0, min_impurity_split=None, bootstrap=True, oob_score=False, n_jobs=None, random_state=None, verbose=0, warm_start=False, class_weight=None)\n",
    "- **class sklearn.ensemble.GradientBoostingClassifier**(loss=’deviance’, learning_rate=0.1, n_estimators=100, subsample=1.0, criterion=’friedman_mse’, min_samples_split=2, min_samples_leaf=1, min_weight_fraction_leaf=0.0, max_depth=3, min_impurity_decrease=0.0, min_impurity_split=None, init=None, random_state=None, max_features=None, verbose=0, max_leaf_nodes=None, warm_start=False, presort=’auto’, validation_fraction=0.1, n_iter_no_change=None, tol=0.0001)"
   ]
  },
  {
   "cell_type": "code",
   "execution_count": 45,
   "metadata": {
    "_uuid": "63e14169117636d2255ab97a985974fc94d86a76"
   },
   "outputs": [],
   "source": [
    "from sklearn.svm import SVC\n",
    "from sklearn.ensemble import RandomForestClassifier\n",
    "from sklearn.ensemble import GradientBoostingClassifier\n",
    "from sklearn.metrics import classification_report\n",
    "from time import time\n",
    "\n",
    "class_weights = {0:1,1:5}\n",
    "mod1 = SVC(C=1.0, kernel='rbf', class_weight=class_weights)\n",
    "mod2 = RandomForestClassifier(class_weight=class_weights)\n",
    "mod3 = GradientBoostingClassifier()"
   ]
  },
  {
   "cell_type": "markdown",
   "metadata": {
    "_uuid": "4a6cdaf75d5c99892131a9d9a00aa81f186a848e"
   },
   "source": [
    "## 3.1 SVC"
   ]
  },
  {
   "cell_type": "code",
   "execution_count": null,
   "metadata": {
    "_uuid": "b62e782cbd65ce42b54bd8d520e36eff10e4d054"
   },
   "outputs": [],
   "source": [
    "t0=time()\n",
    "mod1.fit(X_train_vect, y_train)\n",
    "print(\"Training time: {} seconds\".format((time()-t0)/60))"
   ]
  },
  {
   "cell_type": "code",
   "execution_count": null,
   "metadata": {
    "_uuid": "dd14d918424ee3a3a2c8ac0dd837322b079b4388"
   },
   "outputs": [],
   "source": [
    "mod1_preds = mod1.predict(X_test_vect)\n",
    "print(classification_report(y_test,mod1_preds))"
   ]
  },
  {
   "cell_type": "markdown",
   "metadata": {
    "_uuid": "341b53df8ed633b424b3a761ff5514f73a6d60e5"
   },
   "source": [
    "## 3.2 RandomForestClassifier"
   ]
  },
  {
   "cell_type": "code",
   "execution_count": null,
   "metadata": {
    "_uuid": "aa6730f188ddb74be437db555b5db0c3addf5d9b"
   },
   "outputs": [],
   "source": [
    "t0=time()\n",
    "mod2.fit(X_train_vect, y_train)\n",
    "print(\"Training time: {} seconds\".format((time()-t0)/60))"
   ]
  },
  {
   "cell_type": "code",
   "execution_count": null,
   "metadata": {
    "_uuid": "fa6f38b9195d9c4c6f955aef92584eef4a8ecea9"
   },
   "outputs": [],
   "source": [
    "mod2_preds = mod2.predict(X_test_vect)\n",
    "print(classification_report(y_test,y_mod2_preds))"
   ]
  },
  {
   "cell_type": "markdown",
   "metadata": {
    "_uuid": "8948bcc63f652b9f46cba21df449bd57941ba190"
   },
   "source": [
    "## 3.3 GradientBoostingTrees"
   ]
  },
  {
   "cell_type": "code",
   "execution_count": null,
   "metadata": {
    "_uuid": "fbcedca62fbc78899dbe742f9b996ab128a075fc"
   },
   "outputs": [],
   "source": [
    "t0=time()\n",
    "mod3.fit(X_train_vect, y_train)\n",
    "print(\"Training time: {} seconds\".format((time()-t0)/60))"
   ]
  },
  {
   "cell_type": "code",
   "execution_count": null,
   "metadata": {
    "_uuid": "27e8788aa8261a2b45bd8a98e3950ae17022770e"
   },
   "outputs": [],
   "source": [
    "mod3_preds = mod3.predict(X_test_vect)\n",
    "print(classification_report(y_test,mod3_preds))\n"
   ]
  },
  {
   "cell_type": "code",
   "execution_count": null,
   "metadata": {
    "_uuid": "0b31395e194a464d1c01d0244e5f326d170bbf06"
   },
   "outputs": [],
   "source": [
    "#from sklearn.decomposition import TruncatedSVD\n",
    "#svd = TruncatedSVD(algorithm='randomized', n_components=4400, n_iter=7, random_state=42, tol=0.0)\n",
    "#data_reduced = svd.fit(data)\n",
    "#print(svd.explained_variance_ratio_)  # doctest: +ELLIPSIS\n",
    "#print(svd.explained_variance_ratio_.sum())  # doctest: +ELLIPSIS\n",
    "#print(svd.singular_values_)  # doctest: +ELLIPSIS\n"
   ]
  },
  {
   "cell_type": "markdown",
   "metadata": {
    "_uuid": "53b960da8272efd678761276f8c97bb5a0f902c0"
   },
   "source": [
    "# 4. Test data"
   ]
  },
  {
   "cell_type": "code",
   "execution_count": 54,
   "metadata": {
    "_uuid": "189b7d91de7eeea0376f65d37408afb7fad84e79"
   },
   "outputs": [],
   "source": [
    "df_test = pd.read_csv(f'{PATH}/test.csv')\n",
    "X_test_final = df_test['question_text']\n",
    "X_test_final_vect = vectorizer.transform(X_test_final)"
   ]
  },
  {
   "cell_type": "code",
   "execution_count": 56,
   "metadata": {
    "_uuid": "852afa5b0609f2f774d5c4ad1903979a9c5c2ec4"
   },
   "outputs": [
    {
     "data": {
      "text/plain": [
       "(56370, 3009360)"
      ]
     },
     "execution_count": 56,
     "metadata": {},
     "output_type": "execute_result"
    }
   ],
   "source": [
    "X_test_final_vect.shape"
   ]
  }
 ],
 "metadata": {
  "kernelspec": {
   "display_name": "Python 3",
   "language": "python",
   "name": "python3"
  },
  "language_info": {
   "codemirror_mode": {
    "name": "ipython",
    "version": 3
   },
   "file_extension": ".py",
   "mimetype": "text/x-python",
   "name": "python",
   "nbconvert_exporter": "python",
   "pygments_lexer": "ipython3",
   "version": "3.7.0"
  }
 },
 "nbformat": 4,
 "nbformat_minor": 2
}
