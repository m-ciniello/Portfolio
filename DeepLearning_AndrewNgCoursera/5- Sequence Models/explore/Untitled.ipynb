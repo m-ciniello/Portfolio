{
 "cells": [
  {
   "cell_type": "markdown",
   "metadata": {},
   "source": [
    "# C4_Notes_W1 - Convolutional Neural Networks\n",
    "\n",
    "This is the forth course of the deep learning specialization at [Coursera](https://www.coursera.org/specializations/deep-learning) which is moderated by [DeepLearning.ai](http://deeplearning.ai/). The course is taught by Andrew Ng.\n",
    "\n",
    "## Table of contents\n",
    "\n",
    "* [Convolutional Neural Networks](#convolutional-neural-networks)\n",
    "   * [Table of contents](#table-of-contents)\n",
    "   * [Course summary](#course-summary)\n",
    "   * [Foundations of CNNs](#foundations-of-cnns)\n",
    "      * [Computer vision](#computer-vision)\n",
    "      * [Edge detection example](#edge-detection-example)\n",
    "      * [Padding](#padding)\n",
    "      * [Strided convolution](#strided-convolution)\n",
    "      * [Convolutions over volumes](#convolutions-over-volumes)\n",
    "      * [One Layer of a Convolutional Network](#one-layer-of-a-convolutional-network)\n",
    "      * [A simple convolution network example](#a-simple-convolution-network-example)\n",
    "      * [Pooling layers](#pooling-layers)\n",
    "      * [Convolutional neural network example](#convolutional-neural-network-example)\n",
    "      * [Why convolutions?](#why-convolutions)\n"
   ]
  }
 ],
 "metadata": {
  "kernelspec": {
   "display_name": "Python 3",
   "language": "python",
   "name": "python3"
  },
  "language_info": {
   "codemirror_mode": {
    "name": "ipython",
    "version": 3
   },
   "file_extension": ".py",
   "mimetype": "text/x-python",
   "name": "python",
   "nbconvert_exporter": "python",
   "pygments_lexer": "ipython3",
   "version": "3.7.0"
  }
 },
 "nbformat": 4,
 "nbformat_minor": 2
}
