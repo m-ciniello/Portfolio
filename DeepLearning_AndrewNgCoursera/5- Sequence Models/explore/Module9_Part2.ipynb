{
 "cells": [
  {
   "cell_type": "markdown",
   "metadata": {},
   "source": [
    "'----------------------------------------------------------------------------------------------------\n",
    "\n",
    "# Module 9 Part 2: Building Models with Tensorflow"
   ]
  },
  {
   "cell_type": "markdown",
   "metadata": {},
   "source": [
    "- 1 Introduction\n",
    "- 2 Learning Objectives\n",
    "- 3 Reading and Resources\n",
    "- 4 Model Construction\n",
    "    - 4.1 Manual Gradient Descent\n",
    "    - 4.1 Tf.autodiff \n",
    "    - 4.2 tf optimizers\n",
    "- 5 Model Execution\n",
    "    - 5.1 Mini Batch Gradient Descent\n",
    "    - 5.2 Early stopping\n",
    "    - 5.2 Saving & Restoring models\n",
    "- 6 Visualizing Models with Tensorboard"
   ]
  },
  {
   "cell_type": "markdown",
   "metadata": {},
   "source": [
    "# Introduction\n",
    "TBD\n",
    "\n"
   ]
  },
  {
   "cell_type": "markdown",
   "metadata": {},
   "source": [
    "# Learning Outcomes\n",
    "\n",
    "In this module, you will:\n",
    "\n",
    "* TBD"
   ]
  },
  {
   "cell_type": "markdown",
   "metadata": {},
   "source": [
    "# Readings and Resources"
   ]
  },
  {
   "cell_type": "markdown",
   "metadata": {},
   "source": [
    "The majority of the notebook content borrows from the recommended readings. We invite you to further supplement this notebook with the following recommended texts:\n",
    "\n",
    "- TBD\n",
    "- https://jacobbuckman.com/post/tensorflow-the-confusing-parts-1/\n"
   ]
  },
  {
   "cell_type": "markdown",
   "metadata": {},
   "source": [
    "# A simple first model with Tensorflow\n",
    "\n",
    "Tensorflow models are typically a little more cumbersome to implement than the simple sklearn api. However this complexity also allows for more finely tuned models and complex implementation. To begin, it is important to note that tensorflow models are typically split into two parts:\n",
    "\n",
    "1. First part builds a computaiton graph (this is called constructrion phase). \n",
    "    - Setting up the input variables\n",
    "    - Definine the loss function\n",
    "    - Initializing and calling the training_op or optimizer\n",
    "2. Second part runs it (execution phase):\n",
    "    - Looping through the model n epochs\n",
    "    - Updating weights based on using the entire training set or mini-batches\n",
    "    - Prining and storing training/validation loss values periodically for visualization\n",
    "    - Saving the model periodically\n",
    "    \n",
    "We will dive into \n",
    "\n",
    "To get you more familiar with tensorflows functionality, we will start be constructing a graph that manually implements batch gradient descent. Then we will use TensorFlow’s autodiff feature to let TensorFlow compute the gradients automatically. Lastly, we will use a couple of TensorFlow’s out-of-the-box optimizers. \n",
    "\n",
    "\n",
    "Remember, when using Gradient Descent, it is almost always very important to first normalize the input feature vectors, or else training may be much slower (or not converge at all). To do this we will use sklearn `StandardScaler`, however you may use any implementation you like.\n",
    "\n",
    "**The Dataset:**\n",
    "\n",
    "We are going to work with the well-known iris dataset provided by sklearn.datasets to build our first model. Note that using tensorflow for a simple logistic regression like this is somewhat overkill, as the dataset is small and the model is simple. As noted above, the main benefit of TensorFlow is that it is easily distributed and parallelzied, which is really only becomes important with very complex models with massive datasets. That said, we will use this simple example to illustrate the process of developing, executing, and making predictions with a tensorflow model.\n",
    "\n",
    "Let's start by loading in the data:"
   ]
  },
  {
   "cell_type": "code",
   "execution_count": 336,
   "metadata": {},
   "outputs": [
    {
     "name": "stdout",
     "output_type": "stream",
     "text": [
      "X_train: (120, 5)\n",
      "X_val: (30, 5)\n",
      "y_train: (120,)\n",
      "y_val: (30,)\n"
     ]
    }
   ],
   "source": [
    "#load data\n",
    "from sklearn import datasets\n",
    "iris = datasets.load_iris()\n",
    "list(iris.keys())\n",
    "\n",
    "X_iris = iris[\"data\"]  # petal length, petal width\n",
    "y_iris = iris[\"target\"]#.reshape((-1,1))\n",
    "\n",
    "# Normalize the data\n",
    "scaler = StandardScaler()\n",
    "X_iris = scaler.fit_transform(X_iris)\n",
    "\n",
    "# Add bias term\n",
    "X_iris = np.c_[np.ones((X_iris.shape[0],1)), X_iris]\n",
    "\n",
    "# Train test split\n",
    "X_train, X_val, y_train, y_val = train_test_split(X_iris, y_iris, test_size=0.2, shuffle=True)\n",
    "\n",
    "# Print shape of final dataset\n",
    "print(\"X_train:\", X_train.shape)\n",
    "print(\"X_val:\", X_val.shape)\n",
    "print(\"y_train:\", y_train.shape)\n",
    "print(\"y_val:\", y_val.shape)"
   ]
  },
  {
   "cell_type": "markdown",
   "metadata": {},
   "source": [
    "## Manually Processing Gradients\n",
    "\n",
    "For this model, we will simply manually derive the gradients and input the formulas into the graph. Most of the bode below should be fairly self explanatory, as we are simply executing a multi-class softmax regression using using tensorflow's built in matrix manipulation functions. Let's quickly review the main steps in the code:\n",
    "- **STEP 1:** First we simply set some key hyperparameters, including the `learning_rate`, `m` (number of observations), and `n` (number of features) \n",
    "- **STEP 2:** Next we set up our placeholder nodes for the X and y values. Note the use of `None` in the shape argument. **This tells tensorflow that we want to leave this dimension ambiguous when we feed data into our graph so we can enter any number of observations (rows)**. This will become increasingly important when perfoming mini-batch gradient descent (as you will see shortly). In this step we also convert the y values to one hot encoding using `tf.one_hot`\n",
    "- **STEP 3:** Here we set our trainable variables, using `random_normal` initialization. We set the dimensions to `[n, n_classes]` as is standard for softmax regression.\n",
    "- **STEP 4**: Now we calculate the logits, the softmax output (y_proba), and the log loss, all using tensorflow's basic math operations\n",
    "- **STEP 5**: Lastly we calculate the gradients and update the `W` node accordingly using the `tf.assign` function. Remember that a tensorflow variable will persist between runs, as long as the session remains open **(the values are held in the session, NOT the graph)** \n",
    "\n",
    "Note that we set the names of each of our tensorflow objects."
   ]
  },
  {
   "cell_type": "code",
   "execution_count": 396,
   "metadata": {},
   "outputs": [],
   "source": [
    "from tensorflow.initializers import random_normal\n",
    "tf.reset_default_graph()\n",
    "\n",
    "# STEP 1: Set the number of parameters\n",
    "m, n = X_train.shape \n",
    "n_classes = len(np.unique(y_train))\n",
    "learning_rate = 0.01\n",
    "epsilon = 1e-7 # epsilon is added to loss function\n",
    "\n",
    "# STEP 2: Add placeholder nodes for inputs\n",
    "X = tf.placeholder(dtype=tf.float32, shape=(None, n))\n",
    "y = tf.placeholder(dtype=tf.int32, shape=(None))\n",
    "y_one_hot = tf.one_hot(y, n_classes)\n",
    "\n",
    "# STEP 3: Add variable nodes for weights\n",
    "W = tf.get_variable(name='weights', shape=[n, n_classes], initializer=random_normal) #initialize first rand theta\n",
    "\n",
    "# STEP 4: Calculate softmax outputs \n",
    "logits = tf.matmul(X, W)\n",
    "y_proba = tf.exp(logits) / tf.reshape(tf.reduce_sum(tf.exp(logits), axis=-1),(-1,1)) # Sum over last index\n",
    "log_loss = -tf.reduce_mean(tf.reduce_sum(y_one_hot * tf.log(y_proba+epsilon), axis=-1))\n",
    "\n",
    "# STEP 5: Gradient descent calculations\n",
    "error = y_proba - y_one_hot\n",
    "gradients = 1/m * tf.matmul(tf.transpose(X),error)\n",
    "training_op = tf.assign(W, W - learning_rate * gradients)\n",
    "\n",
    "init = tf.global_variables_initializer() #initialize all variables"
   ]
  },
  {
   "cell_type": "markdown",
   "metadata": {},
   "source": [
    "Great, now that our graph is set up, lets run a couple iterations of gradient decent! To do this, we simply **set the number of epochs we want to run our model for**, and loop through the graph re-running the `training_op` each time. This will iteratively recalculate the gradients, and also update the `W` values, thus performing gradient descent. \n",
    "\n",
    "You will also want to save the value of the updated `W` tensor for later so that they can be used to make predictions.\n",
    "\n",
    "Lastly, we will wrap the code in a function so that we can easily re-train future models with a single line of code."
   ]
  },
  {
   "cell_type": "code",
   "execution_count": 395,
   "metadata": {},
   "outputs": [
    {
     "name": "stdout",
     "output_type": "stream",
     "text": [
      "Epoch 0 Train Loss = 1.2740346 Validation Loss = 1.5235271\n",
      "Epoch 250 Train Loss = 0.49557117 Validation Loss = 0.5761351\n",
      "Epoch 500 Train Loss = 0.37633643 Validation Loss = 0.40810668\n",
      "Epoch 750 Train Loss = 0.33446354 Validation Loss = 0.3522386\n",
      "Epoch 1000 Train Loss = 0.30926389 Validation Loss = 0.32322076\n",
      "Epoch 1250 Train Loss = 0.2904952 Validation Loss = 0.3032888\n",
      "Epoch 1500 Train Loss = 0.2751774 Validation Loss = 0.2874471\n",
      "Epoch 1750 Train Loss = 0.26210678 Validation Loss = 0.27396393\n",
      "Epoch 2000 Train Loss = 0.25067726 Validation Loss = 0.262107\n",
      "Epoch 2250 Train Loss = 0.24053055 Validation Loss = 0.2515028\n"
     ]
    },
    {
     "data": {
      "image/png": "[encoded data removed]",
      "text/plain": [
       "<Figure size 432x288 with 1 Axes>"
      ]
     },
     "metadata": {
      "needs_background": "light"
     },
     "output_type": "display_data"
    }
   ],
   "source": [
    "import matplotlib.pyplot as plt\n",
    "\n",
    "def train_model(X_train, y_train, X_val, y_val, epochs=2500, ):\n",
    "    # Open a session\n",
    "    with tf.Session() as sess:\n",
    "        # Initialize variables\n",
    "        sess.run(init)\n",
    "        train_losses = []\n",
    "        val_losses = []\n",
    "        # Loop through the graph for n epochs\n",
    "        for epoch in range(epochs):\n",
    "            # Update weights and save W_update for later!\n",
    "            _, train_loss, W_update = sess.run([training_op, log_loss, W], feed_dict={X:X_train, y:y_train})\n",
    "            # Get validation loss\n",
    "            val_loss = sess.run(log_loss, feed_dict={X:X_val, y:y_val})\n",
    "            # Save incremental loss values for visualization\n",
    "            train_losses.append(train_loss)\n",
    "            val_losses.append(val_loss)\n",
    "            # Print results evey 100 runs\n",
    "            if epoch % 250 == 0:\n",
    "                print(\"Epoch\", epoch, \"Train Loss =\", train_loss, \"Validation Loss =\", val_loss)\n",
    "    # Plot loss values\n",
    "    plt.plot(train_losses, label='training loss')\n",
    "    plt.plot(val_losses, label='validation loss')\n",
    "    plt.legend()\n",
    "    plt.show()\n",
    "    \n",
    "train_model(X_train, y_train, X_val, y_val)"
   ]
  },
  {
   "cell_type": "markdown",
   "metadata": {},
   "source": [
    "Great! Both our training and validation loss decrease steadily. This makes sense as this is simple convex optimizaiton problem.\n",
    "\n",
    "Now let's use our newly trained model to make some predictions. Note that we can't simply open a session and call `sess.run(y_proba, feed_dict={X:X_test)`. First of all, this won't work because we will be trying to run a graph with uninitialized variables. Rememeber that when the session closes after the `with` block ends, the all of the values in the graph are lost. It is for this reason that we specifically called the `W` node and saved it as `W_update` in the session run above. This should result in updated weight values below:"
   ]
  },
  {
   "cell_type": "code",
   "execution_count": 352,
   "metadata": {},
   "outputs": [
    {
     "name": "stdout",
     "output_type": "stream",
     "text": [
      "bias: [-1.1765492  0.8311525 -0.7406013]\n",
      "coefficients: [[-1.573865   -0.51795053 -1.266641  ]\n",
      " [ 0.21403034 -0.9260183   0.12190595]\n",
      " [-1.1375742  -0.4995983   2.2689314 ]\n",
      " [-2.2503598  -0.22541033  1.1074305 ]]\n"
     ]
    }
   ],
   "source": [
    "print('bias:', W_update[0])\n",
    "print('coefficients:', W_update[1:])"
   ]
  },
  {
   "cell_type": "markdown",
   "metadata": {},
   "source": [
    "Now all we have to do is feed these weight values into the our graph using `tf.assign` in a session run, and we can feed in some prediction data. We will also use a confusion matrix here to quickly see how our model is performing. Once again we will wrap this code in a function for easy-made predictions for future models:"
   ]
  },
  {
   "cell_type": "code",
   "execution_count": 364,
   "metadata": {},
   "outputs": [
    {
     "name": "stdout",
     "output_type": "stream",
     "text": [
      "Accuracy: 0.9333333333333333\n",
      "Confusion Matrix:\n",
      " [[50  0  0]\n",
      " [ 0 43  7]\n",
      " [ 0  3 47]]\n"
     ]
    }
   ],
   "source": [
    "from sklearn.metrics import confusion_matrix\n",
    "from sklearn.metrics import accuracy_score\n",
    "\n",
    "def make_predictions(X_test, y_test, W_update=W_update):\n",
    "    \"\"\"Use trained model weights to make predictions\"\"\"\n",
    "    with tf.Session() as sess:\n",
    "        # Note that you could also simple enter 'W:W_update' into the feed_dict argument below \n",
    "        sess.run(tf.assign(W, W_update))\n",
    "        # Feed in the test data and select the high probability as the prediction\n",
    "        predictions = sess.run(tf.argmax(y_proba, axis=-1), feed_dict={X:X_test})\n",
    "    # Show the confusion matrix\n",
    "    print(\"Accuracy:\", accuracy_score(y_test, predictions))\n",
    "    print(\"Confusion Matrix:\\n\",confusion_matrix(y_test, predictions))\n",
    "\n",
    "make_predictions(X_iris, y_iris)"
   ]
  },
  {
   "cell_type": "markdown",
   "metadata": {},
   "source": [
    "## Using tf.autodiff\n",
    "\n",
    "Look at that accuracy! Not bad for a manually derived gradient descnet model. But deriving the gradients for a softmax or linear regression is fairly easy. This is not the case for multi-layer deep neural networks (which we will cover in the next session). **You probably could use symbolic differentiaion to automatically find the equations for the partial derivatives for you, but the resulting code would not necessarily be very efficient.**\n",
    "\n",
    "# V TO HELP WITH THIS\n",
    "To understand why, consider the function f(x)= exp(exp(exp(x))). If you know calculus, you can figure out its derivative f′(x) = exp(x) × exp(exp(x)) × exp(exp(exp(x))). If you code f(x) and f′(x) separately and exactly as they appear, your code will not be as efficient as it could be. A more efficient solution would be to write a function that first computes exp(x), then exp(exp(x)), then exp(exp(exp(x))), and returns all three. This gives you f(x) directly (the third term), and if you need the derivative you can just multiply all three terms and you are done. With the naïve approach you would have had to call the exp function nine times to compute both f(x) and f′(x). With this approach you just need to call it three times.\n",
    "\n",
    "**It gets worse when your function is defined by some arbitrary code. Can you find the equation (or the code) to compute the partial derivatives of the following function? Hint: don’t even try.** \n",
    "\n",
    "    def my_func(a, b):\n",
    "        z = 0\n",
    "        for i in range(100):\n",
    "            z = a * np.cos(z + i) + z * np.sin(b - i)\n",
    "        return z\n",
    "\n",
    "Forutunately, TF's **autodiff** feature comes to the rescue: **it can automatically and efficiently compute the gradients for you.** All you have to do is replace this code:\n",
    "\n",
    "    error = y_proba - y_one_hot\n",
    "    gradients = 1/m * tf.matmul(tf.transpose(X),error)\n",
    "    \n",
    "with the much simpler code below:\n",
    "\n",
    "    gradients = tf.gradients(log_loss,W)[0] \n",
    "\n",
    "Note that we Let's see how this looks in our graph:"
   ]
  },
  {
   "cell_type": "code",
   "execution_count": 389,
   "metadata": {},
   "outputs": [],
   "source": [
    "#################################### Same code as above ####################################\n",
    "tf.reset_default_graph()\n",
    "m, n = X_train.shape \n",
    "n_classes = len(np.unique(y_train))\n",
    "learning_rate = 0.01\n",
    "epsilon = 1e-7 \n",
    "\n",
    "X = tf.placeholder(dtype=tf.float32, shape=(None, n))\n",
    "y = tf.placeholder(dtype=tf.int32, shape=(None))\n",
    "y_one_hot = tf.one_hot(y, n_classes)\n",
    "\n",
    "W = tf.get_variable(name='weights', shape=[n, n_classes], initializer=random_normal)\n",
    "logits = tf.matmul(X, W)\n",
    "y_proba = tf.exp(logits) / tf.reshape(tf.reduce_sum(tf.exp(logits), axis=-1),(-1,1))\n",
    "log_loss = -tf.reduce_mean(tf.reduce_sum(y_one_hot * tf.log(y_proba+epsilon), axis=-1))\n",
    "############################################################################################\n",
    "\n",
    "# Updated code using tf.gradients\n",
    "gradients = tf.gradients(log_loss,W)[0]\n",
    "training_op = tf.assign(W, W - learning_rate * gradients)\n",
    "\n",
    "init = tf.global_variables_initializer() "
   ]
  },
  {
   "cell_type": "markdown",
   "metadata": {},
   "source": [
    "Lets run our train our model and test it out using the `train_model` and `make_predictions` functions we defined above:"
   ]
  },
  {
   "cell_type": "code",
   "execution_count": 390,
   "metadata": {},
   "outputs": [
    {
     "name": "stdout",
     "output_type": "stream",
     "text": [
      "Epoch 0 Train Loss = 1.3706197 Validation Loss = 1.4298096\n",
      "Epoch 250 Train Loss = 0.49090794 Validation Loss = 0.51762146\n",
      "Epoch 500 Train Loss = 0.3955326 Validation Loss = 0.42005444\n",
      "Epoch 750 Train Loss = 0.3526084 Validation Loss = 0.37729663\n",
      "Epoch 1000 Train Loss = 0.32426098 Validation Loss = 0.34904802\n",
      "Epoch 1250 Train Loss = 0.30261526 Validation Loss = 0.32730454\n",
      "Epoch 1500 Train Loss = 0.28495607 Validation Loss = 0.3093898\n",
      "Epoch 1750 Train Loss = 0.27001745 Validation Loss = 0.29408315\n",
      "Epoch 2000 Train Loss = 0.2570921 Validation Loss = 0.28071535\n",
      "Epoch 2250 Train Loss = 0.2457346 Validation Loss = 0.26886967\n"
     ]
    },
    {
     "data": {
      "image/png": "[encoded data removed]",
      "text/plain": [
       "<Figure size 432x288 with 1 Axes>"
      ]
     },
     "metadata": {
      "needs_background": "light"
     },
     "output_type": "display_data"
    },
    {
     "name": "stdout",
     "output_type": "stream",
     "text": [
      "Accuracy: 0.9333333333333333\n",
      "Confusion Matrix:\n",
      " [[50  0  0]\n",
      " [ 0 43  7]\n",
      " [ 0  3 47]]\n"
     ]
    }
   ],
   "source": [
    "# Train model\n",
    "train_model(X_train, y_train, X_val, y_val)\n",
    "# Test Model\n",
    "make_predictions(X_iris, y_iris)"
   ]
  },
  {
   "cell_type": "markdown",
   "metadata": {},
   "source": [
    "Evidently, computing gradients using `tf.gradients` is much easily than manually deriving and consturcting the graph yourself. \n",
    "\n",
    "Below is a list of the **main approaches to computing gradients automatically.** As mentioned above, Tensorflow useses reverse-mode autodiff, which works best (in terms of efficiency and accuracy) when there are a high number of inputs and only few outputs (which is usually the case for most deep learning applications). Reverse-mode autodiff can compute all of the partial derivatives of the outputs with regards to all the inputs in just **n outputs + 1 graph traversals**. \n",
    "\n",
    "<img src='images/c4_m9_p1_graph5.png' style=\"float:left;width:600px;height:400;\">\n",
    "\n",
    "We won't go into the heavy details of how these techniques work, but you are encouraged do so yourself. Aurélien Geron offers an excellent introcution to the topic on his Github, found [here](https://github.com/ageron/handson-ml/blob/master/extra_autodiff.ipynb)."
   ]
  },
  {
   "cell_type": "markdown",
   "metadata": {},
   "source": [
    "## Using `tf.train` optimizers\n",
    "\n",
    "If that wasn't easy enough for you, tensorflow also provides a number of optimizers out of the box, including a Gradient Descent optimizer. This will allow you to replace a your manual `W` paramater update code:\n",
    " \n",
    "    gradients = tf.gradients(log_loss,W)[0] \n",
    "    training_op = tf.assign(W, W - learning_rate * gradients)\n",
    "\n",
    "with the much cleaner `tf.train` optimizer code:\n",
    "\n",
    "    optimizer = tf.train.GradientDescentOptimizer(learning_rate=learning_rate)\n",
    "    training_op = optimizer.minimize(loss=log_loss)\n",
    "\n",
    "Note that we first intialize the optimizer sthen call it using the `minimize` method, passing in the cost function tensor that we would like minimize. \n"
   ]
  },
  {
   "cell_type": "code",
   "execution_count": 392,
   "metadata": {},
   "outputs": [],
   "source": [
    "#################################### Same code as above ####################################\n",
    "tf.reset_default_graph()\n",
    "m, n = X_train.shape \n",
    "n_classes = len(np.unique(y_train))\n",
    "learning_rate = 0.01\n",
    "epsilon = 1e-7 \n",
    "\n",
    "X = tf.placeholder(dtype=tf.float32, shape=(None, n))\n",
    "y = tf.placeholder(dtype=tf.int32, shape=(None))\n",
    "y_one_hot = tf.one_hot(y, n_classes)\n",
    "\n",
    "W = tf.get_variable(name='weights', shape=[n, n_classes], initializer=random_normal)\n",
    "logits = tf.matmul(X, W)\n",
    "y_proba = tf.exp(logits) / tf.reshape(tf.reduce_sum(tf.exp(logits), axis=-1),(-1,1))\n",
    "log_loss = -tf.reduce_mean(tf.reduce_sum(y_one_hot * tf.log(y_proba+epsilon), axis=-1))\n",
    "############################################################################################\n",
    "\n",
    "# Updated code using tf.train\n",
    "optimizer = tf.train.GradientDescentOptimizer(learning_rate=learning_rate)\n",
    "training_op = optimizer.minimize(log_loss)\n",
    "\n",
    "init = tf.global_variables_initializer() "
   ]
  },
  {
   "cell_type": "code",
   "execution_count": 393,
   "metadata": {},
   "outputs": [
    {
     "name": "stdout",
     "output_type": "stream",
     "text": [
      "Epoch 0 Train Loss = 0.7458341 Validation Loss = 0.8414053\n",
      "Epoch 250 Train Loss = 0.5618462 Validation Loss = 0.5773586\n",
      "Epoch 500 Train Loss = 0.49345848 Validation Loss = 0.48946488\n",
      "Epoch 750 Train Loss = 0.44611704 Validation Loss = 0.43759152\n",
      "Epoch 1000 Train Loss = 0.40793115 Validation Loss = 0.3990794\n",
      "Epoch 1250 Train Loss = 0.37568626 Validation Loss = 0.36788952\n",
      "Epoch 1500 Train Loss = 0.34803805 Validation Loss = 0.34178433\n",
      "Epoch 1750 Train Loss = 0.32419997 Validation Loss = 0.31962973\n",
      "Epoch 2000 Train Loss = 0.30358478 Validation Loss = 0.30067784\n",
      "Epoch 2250 Train Loss = 0.285699 Validation Loss = 0.28435484\n"
     ]
    },
    {
     "data": {
      "image/png": "[encoded data removed]",
      "text/plain": [
       "<Figure size 432x288 with 1 Axes>"
      ]
     },
     "metadata": {
      "needs_background": "light"
     },
     "output_type": "display_data"
    },
    {
     "name": "stdout",
     "output_type": "stream",
     "text": [
      "Accuracy: 0.9333333333333333\n",
      "Confusion Matrix:\n",
      " [[50  0  0]\n",
      " [ 0 43  7]\n",
      " [ 0  3 47]]\n"
     ]
    }
   ],
   "source": [
    "# Train model\n",
    "train_model(X_train, y_train, X_val, y_val)\n",
    "# Test Model\n",
    "make_predictions(X_iris, y_iris)"
   ]
  },
  {
   "cell_type": "markdown",
   "metadata": {},
   "source": [
    "**REWRITE:** If you want to use a different type of optimizer, you just need to change one line. **For example, you can\n",
    "use a momentum optimizer (which often converges much faster than Gradient Descent) by defining the optimizer like this:**"
   ]
  },
  {
   "cell_type": "markdown",
   "metadata": {},
   "source": [
    "# Model Execution"
   ]
  },
  {
   "cell_type": "markdown",
   "metadata": {},
   "source": [
    "## Batch Gradient Descent"
   ]
  },
  {
   "cell_type": "markdown",
   "metadata": {},
   "source": [
    "TBD"
   ]
  },
  {
   "cell_type": "markdown",
   "metadata": {},
   "source": [
    "## Mini-Batch Gradient Descent"
   ]
  },
  {
   "cell_type": "markdown",
   "metadata": {},
   "source": [
    "TBD"
   ]
  },
  {
   "cell_type": "markdown",
   "metadata": {},
   "source": [
    "## Saving and restoring models"
   ]
  },
  {
   "cell_type": "markdown",
   "metadata": {},
   "source": [
    "TBD"
   ]
  },
  {
   "cell_type": "markdown",
   "metadata": {},
   "source": [
    "# Visualizing TF Models with Tensorboard"
   ]
  },
  {
   "cell_type": "markdown",
   "metadata": {},
   "source": [
    "## Tensorboard overview and setup"
   ]
  },
  {
   "cell_type": "markdown",
   "metadata": {},
   "source": [
    "TBD"
   ]
  },
  {
   "cell_type": "markdown",
   "metadata": {},
   "source": [
    "## Using Namescores"
   ]
  },
  {
   "cell_type": "markdown",
   "metadata": {},
   "source": [
    "TBD"
   ]
  },
  {
   "cell_type": "code",
   "execution_count": null,
   "metadata": {},
   "outputs": [],
   "source": []
  },
  {
   "cell_type": "code",
   "execution_count": null,
   "metadata": {},
   "outputs": [],
   "source": []
  },
  {
   "cell_type": "code",
   "execution_count": null,
   "metadata": {},
   "outputs": [],
   "source": []
  },
  {
   "cell_type": "code",
   "execution_count": 276,
   "metadata": {},
   "outputs": [
    {
     "data": {
      "text/plain": [
       "<function tensorflow.python.ops.math_ops.argmax(input, axis=None, name=None, dimension=None, output_type=tf.int64)>"
      ]
     },
     "execution_count": 276,
     "metadata": {},
     "output_type": "execute_result"
    }
   ],
   "source": [
    "tf.argmax"
   ]
  },
  {
   "cell_type": "code",
   "execution_count": 280,
   "metadata": {},
   "outputs": [
    {
     "data": {
      "text/plain": [
       "array([[41,  0,  0],\n",
       "       [ 0, 35,  3],\n",
       "       [ 0,  3, 38]], dtype=int64)"
      ]
     },
     "execution_count": 280,
     "metadata": {},
     "output_type": "execute_result"
    }
   ],
   "source": [
    "from sklearn.metrics import confusion_matrix\n",
    "with tf.Session() as sess:\n",
    "    sess.run(tf.assign(W, W_update))\n",
    "    predictions = sess.run(tf.argmax(y_proba, axis=-1), feed_dict={X:X_train})\n",
    "\n",
    "confusion_matrix(y_train, predictions)\n",
    "#plt.show()\n",
    "#predictions.shape"
   ]
  },
  {
   "cell_type": "markdown",
   "metadata": {},
   "source": [
    "# EXTRA INFO: find place to include?"
   ]
  },
  {
   "cell_type": "markdown",
   "metadata": {},
   "source": []
  }
 ],
 "metadata": {
  "kernelspec": {
   "display_name": "Python 3",
   "language": "python",
   "name": "python3"
  },
  "language_info": {
   "codemirror_mode": {
    "name": "ipython",
    "version": 3
   },
   "file_extension": ".py",
   "mimetype": "text/x-python",
   "name": "python",
   "nbconvert_exporter": "python",
   "pygments_lexer": "ipython3",
   "version": "3.6.6"
  },
  "toc": {
   "base_numbering": 1,
   "nav_menu": {},
   "number_sections": true,
   "sideBar": true,
   "skip_h1_title": true,
   "title_cell": "Table of Contents",
   "title_sidebar": "Contents",
   "toc_cell": true,
   "toc_position": {},
   "toc_section_display": true,
   "toc_window_display": true
  },
  "toc-autonumbering": true
 },
 "nbformat": 4,
 "nbformat_minor": 2
}
