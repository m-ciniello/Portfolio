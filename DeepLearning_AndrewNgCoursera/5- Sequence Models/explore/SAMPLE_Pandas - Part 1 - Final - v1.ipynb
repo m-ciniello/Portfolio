{
 "cells": [
  {
   "cell_type": "markdown",
   "metadata": {},
   "source": [
    "'----------------------------------------------------------------------------------------------------\n",
    "\n",
    "# Module 9 Part 1: Intorudction to TensorFlow and Neural Networks"
   ]
  },
  {
   "cell_type": "markdown",
   "metadata": {},
   "source": [
    "- 1 Introduction\n",
    "- 2 Learning Objectives\n",
    "- 3 Reading and Resources\n",
    "- 4 TensorFlow Graphs\n",
    "    - 4.1 Overview of graphs\n",
    "    - 4.2 Building your own graphs\n",
    "    - 4.3 Managing graphs\n",
    "- 5 Linear Regression with TF\n",
    "    - 5.1 Implementing gradient gescent\n",
    "    - 5.2 Manually computing gradients\n",
    "    - 5.3 Using Autodiff\n",
    "- 6 TF Optimizers\n",
    "    - \n",
    "- 7 MiniBatch"
   ]
  },
  {
   "cell_type": "markdown",
   "metadata": {},
   "source": [
    "# Introduction"
   ]
  },
  {
   "cell_type": "markdown",
   "metadata": {},
   "source": [
    "Originally developed by researchers and engineers from the Google Brain team, [**TensorFlow**](https://www.tensorflow.org/) is a very powerful open source library for high performance numerical computation. It is built using highly optimized C++ code and computational graph arhcitecture (which we will cover shortly), allowing for high performance speeds and efficient paraliization that make it extrmely well suited for large scale machine learning applications. Tensorflow has quickly become to tool of choice for many machine learning and deep learning engineers, and is the backbone for popular high level neural network APIs like Keras. \n",
    "\n",
    "There are many reasons tensorflow has become as popular as it is today, but the most important of these is probably the ease with which operations can be parellelized and distributed across multiple CPU or GPUs. This allows the model developer to train massive neural networks (which can have million of parameters) on humongous training sets in a reasonable amount of time by splitting the computations across hundreds of servers."
   ]
  },
  {
   "cell_type": "markdown",
   "metadata": {},
   "source": [
    "# Learning Outcomes\n",
    "\n",
    "In this module, you will:\n",
    "\n",
    "* Become familiar with tensorflow api and it's underlying architecture\n",
    "* Build a simple model in a tensorflow graph and learn how to perform training with various optimizers\n",
    "* Learn how to save model checkpoints and visualize your model's results using tensorboard"
   ]
  },
  {
   "cell_type": "markdown",
   "metadata": {},
   "source": [
    "# Readings and Resources"
   ]
  },
  {
   "cell_type": "markdown",
   "metadata": {},
   "source": [
    "The majority of the notebook content borrows from the recommended readings. We invite you to further supplement this notebook with the following recommended texts:\n",
    "\n",
    "Python Community (2018). *The Python Tutorial*. Retrieved from the following [web page](https://docs.python.org/3/tutorial/index.html).\n",
    "\n",
    "Kuchling A.M. (2018). *Functional Programming HOWTO*. Retrieved from the following Python documentation [web page](https://docs.python.org/3.6/howto/functional.html).\n",
    "\n",
    "https://jacobbuckman.com/post/tensorflow-the-confusing-parts-1/\n"
   ]
  },
  {
   "cell_type": "markdown",
   "metadata": {},
   "source": [
    "# Graphs & Sessions"
   ]
  },
  {
   "cell_type": "markdown",
   "metadata": {},
   "source": [
    "## Graphs\n",
    "\n",
    "Tensorflow's fundemental architecture is based on a certain type of computational abstraction known as a “computation graph”. A copmutational graph, or dataflow graph, essentially represents the computations the user defines in terms of the dependencies between individual tensorflow operations (often called 'ops'). A dataflow graph is composed of two main compoenents:\n",
    "- 1) **Nodes:** these represent units of computation and are typically stored as a set of `tf.Operation` objects (which are basically mathematical operations)\n",
    "- 2) **Edges:** these represent the data consumed or produced by a computation (the input or output of a tf.Operation), and are stored as `tf.Tensor` objects. \n",
    "\n",
    "For example, in a TensorFlow graph, the `tf.matmul` operation would correspond to a single node with two incoming edges (the matrices to be multiplied) and one outgoing edge (the result of the multiplication). The image below represents the graph of a very simple feedforward neural network (which we will cover shortly).  \n",
    "![](images/c4_m9_p1_tensors_flowing.gif)\n",
    "\n",
    "Together, nodes and edges make up the overall **Graph structure,** indicating how individual operations are composed together, **but NOT prescribing how they should be used.** The graph structure is like assembly code: inspecting it can convey some useful information, but it does not contain all of the useful context that source code conveys.\n",
    "\n",
    "When we manipulate Tensorflow with Python, the first thing we do with our Python code is **assemble the computation graph**. Once that is done, the second thing we do is to interact with it (using Tensorflow’s “sessions”, which we will cover shortly). If this sounds confusing, don't worry, it will become clearer once we dive into the code - which we will start doing now! Let's begin by builing a very simple graph. We will start by using three simple operations:\n",
    "- `tf.constant()`: this simply adds a 'constant value' tensor to the graph (a value that does not change)\n",
    "- `tf.variable`: this adds a variable tensor which can be changed based on the calculations in the computation graph (for instance, you would assign the coefficients in a linear regression as a tf.Variable)\n",
    "\n",
    "*NOTE: It’s important to keep in mind that the computation graph does **NOT live inside of your variables; it lives in the global namespace.** When you assign a tensorflow object to a variable in python, that variable merely becomes a pointer to the tensorflow object in the global namespace. You don't have to worry about this for now, but this becomes an important technical detail when working with complicated models and distributed computing systems.*\n",
    "\n",
    "\n",
    "\n"
   ]
  },
  {
   "cell_type": "code",
   "execution_count": 53,
   "metadata": {},
   "outputs": [
    {
     "name": "stdout",
     "output_type": "stream",
     "text": [
      "Tensor(\"add_3:0\", shape=(), dtype=int32)\n"
     ]
    }
   ],
   "source": [
    "# First import tensorflow as tf\n",
    "import tensorflow as tf\n",
    "\n",
    "# Add variables to the graph\n",
    "x = tf.Variable(3, name='x')\n",
    "y = tf.constant(4, name='y')\n",
    "\n",
    "# Join x and y in the graph\n",
    "f = x*x*y+y+2\n",
    "print(f)"
   ]
  },
  {
   "cell_type": "code",
   "execution_count": null,
   "metadata": {},
   "outputs": [],
   "source": []
  },
  {
   "cell_type": "markdown",
   "metadata": {},
   "source": [
    "It is also important to note that **every time we call tf.constant, we create a new node in the graph.** This is true even if the node is functionally identical to an existing node, even if we re-assign a node to the same variable, or even if we don’t assign it to a variable at all."
   ]
  },
  {
   "cell_type": "code",
   "execution_count": 12,
   "metadata": {},
   "outputs": [],
   "source": [
    "for i in range(0,5):\n",
    "    tf.constant(2, name='repeat')"
   ]
  },
  {
   "cell_type": "code",
   "execution_count": 33,
   "metadata": {},
   "outputs": [
    {
     "data": {
      "text/plain": [
       "['variables', 'trainable_variables']"
      ]
     },
     "execution_count": 33,
     "metadata": {},
     "output_type": "execute_result"
    }
   ],
   "source": [
    "tf.get_default_graph().get_all_collection_keys()"
   ]
  },
  {
   "cell_type": "code",
   "execution_count": 49,
   "metadata": {},
   "outputs": [],
   "source": [
    "tf.reset_default_graph()"
   ]
  },
  {
   "cell_type": "code",
   "execution_count": null,
   "metadata": {},
   "outputs": [],
   "source": []
  },
  {
   "cell_type": "code",
   "execution_count": 52,
   "metadata": {},
   "outputs": [
    {
     "name": "stdout",
     "output_type": "stream",
     "text": [
      "Object `tf.get_default_graph().as_graph_def().` not found.\n"
     ]
    }
   ],
   "source": [
    "?tf.get_default_graph().as_graph_def()."
   ]
  },
  {
   "cell_type": "code",
   "execution_count": 41,
   "metadata": {},
   "outputs": [
    {
     "data": {
      "text/plain": [
       "['x', 'y', 'mul', 'mul_1', 'add', 'add_1/y', 'add_1']"
      ]
     },
     "execution_count": 41,
     "metadata": {},
     "output_type": "execute_result"
    }
   ],
   "source": [
    "[n.name for n in tf.get_default_graph().as_graph_def().node]\n"
   ]
  },
  {
   "cell_type": "code",
   "execution_count": 21,
   "metadata": {},
   "outputs": [
    {
     "data": {
      "text/plain": [
       "[<tf.Variable 'x:0' shape=() dtype=int32_ref>,\n",
       " <tf.Variable 'y:0' shape=() dtype=int32_ref>,\n",
       " <tf.Variable 'y_1:0' shape=() dtype=int32_ref>]"
      ]
     },
     "execution_count": 21,
     "metadata": {},
     "output_type": "execute_result"
    }
   ],
   "source": [
    "tf.get_collection('trainable_variables')"
   ]
  },
  {
   "cell_type": "markdown",
   "metadata": {},
   "source": [
    "Note\n"
   ]
  },
  {
   "cell_type": "markdown",
   "metadata": {},
   "source": [
    "Every time we call tf.constant, we create a new node in the graph. This is true even if the node is functionally identical to an existing node, even if we re-assign a node to the same variable, or even if we don’t assign it to a variable at all.\n",
    "\n"
   ]
  },
  {
   "cell_type": "markdown",
   "metadata": {},
   "source": [
    "## Sessions\n",
    "\n",
    "## Overview\n",
    "\n",
    "The role of the session is to handle the memory allocation and optimization that allows us to actually perform the computations specified by a graph. You can think of the computation graph as a “template” for the computations we want to do: it lays out all the steps. In order to make use of the graph, we also need to make a session, which allows us to actually do things; for example, going through the template node-by-node to allocate a bunch of memory for storing computation outputs. In order to do any computation with Tensorflow, you need both a graph and a session.\n",
    "\n",
    "The session contains a pointer to the global graph, which is constantly updated with pointers to all nodes. That means it doesn’t really matter whether you create the session before or after you create the nodes. 2\n",
    "\n",
    "After creating your session object, you can use sess.run(node) to return the value of a node, and Tensorflow performs all computations necessary to determine that value.\n",
    "\n",
    "\n",
    "\n",
    "Note that a `tf.Tensor` object does not hold any values (like, for instance, a numpy array). It simply represents one of the outputs of a `tf.Operation`, and provides a means of computing those values in a TensorFlow `tf.Session`.\n",
    "\n",
    "This class has two primary purposes:\n",
    "\n",
    "A Tensor can be passed as an input to another Operation. This builds a dataflow connection between operations, which enables TensorFlow to execute an entire Graph that represents a large, multi-step computation.\n",
    "\n",
    "After the graph has been launched in a session, the value of the Tensor can be computed by passing it to tf.Session.run. t.eval() is a shortcut for calling tf.get_default_session().run(t).\n"
   ]
  },
  {
   "cell_type": "markdown",
   "metadata": {},
   "source": [
    "## Why use graphs?"
   ]
  },
  {
   "cell_type": "markdown",
   "metadata": {},
   "source": [
    "\n",
    "\n",
    "- **Graph collections:** TensorFlow provides a general mechanism for storing collections of metadata in a `tf.Graph`. The `tf.add_to_collection` function enables you to associate a list of objects with a **key** (where `tf.GraphKeys` defines some of the standard keys), and `tf.get_collection` enables you to look up all objects associated with a key. Many parts of the TensorFlow library use this facility: for example, when you create a `tf.Variable`, it is added by default to collections representing \"global variables\" and \"trainable variables\". When you later come to create a `tf.train.Saver` or `tf.train.Optimizer`, the variables in these collections are used as the default arguments.\n",
    "\n",
    "\n",
    "\n",
    "\n",
    "Dataflow has several advantages that TensorFlow leverages when executing your programs:\n",
    "- **Parallelism:** By using explicit edges to represent dependencies between operations, it is easy for the system to identify operations that can execute in parallel (crucial for complex models like neural networks).\n",
    "- **Distributed execution:** By using explicit edges to represent the values that flow between operations, it is possible for TensorFlow to partition your program across multiple devices (CPUs, GPUs, and TPUs) attached to different machines. TensorFlow automatically inserts the necessary communication and coordination between devices, making the process fairly straightforward. \n",
    "- **Compilation:** TensorFlow's XLA compiler can use the information in your dataflow graph to generate faster code, for example, by fusing together adjacent operations.\n",
    "- **Portability:** The dataflow graph is a language-independent representation of the code in your model. You can build a dataflow graph in Python, store it in a SavedModel, and restore it in a C++ program for low-latency inference (super fast predictions!).\n"
   ]
  },
  {
   "cell_type": "markdown",
   "metadata": {},
   "source": [
    "## What is a tf.Graph?\n",
    "\n",
    "A tf.Graph contains two relevant kinds of information:\n",
    "\n",
    "\n",
    "\n"
   ]
  },
  {
   "cell_type": "markdown",
   "metadata": {},
   "source": [
    "## Building a tf.Graph\n",
    "Most TensorFlow programs start with a dataflow graph construction phase. In this phase, you invoke TensorFlow API functions that construct new tf.Operation (node) and tf.Tensor (edge) objects and add them to a tf.Graph instance. TensorFlow provides a default graph that is an implicit argument to all API functions in the same context. For example:\n",
    "\n",
    "Calling tf.constant(42.0) creates a single tf.Operation that produces the value 42.0, adds it to the default graph, and returns a tf.Tensor that represents the value of the constant.\n",
    "\n",
    "Calling tf.matmul(x, y) creates a single tf.Operation that multiplies the values of tf.Tensor objects x and y, adds it to the default graph, and returns a tf.Tensor that represents the result of the multiplication.\n",
    "\n",
    "Executing v = tf.Variable(0) adds to the graph a tf.Operation that will store a writeable tensor value that persists between tf.Session.run calls. The tf.Variable object wraps this operation, and can be used like a tensor, which will read the current value of the stored value. The tf.Variable object also has methods such as tf.Variable.assign and tf.Variable.assign_add that create tf.Operation objects that, when executed, update the stored value. (See Variables for more information about variables.)\n",
    "\n",
    "Calling tf.train.Optimizer.minimize will add operations and tensors to the default graph that calculates gradients, and return a tf.Operation that, when run, will apply those gradients to a set of variables.\n",
    "\n",
    "Most programs rely solely on the default graph. However, see Dealing with multiple graphs for more advanced use cases. High-level APIs such as the tf.estimator.Estimator API manage the default graph on your behalf, and--for example--may create different graphs for training and evaluation.\n",
    "\n",
    "Note: Calling most functions in the TensorFlow API merely adds operations and tensors to the default graph, but does not perform the actual computation. Instead, you compose these functions until you have a tf.Tensor or tf.Operation that represents the overall computation--such as performing one step of gradient descent--and then pass that object to a tf.Session to perform the computation. See the section \"Executing a graph in a tf.Session\" for more details.\n",
    "\n",
    "\n",
    "NOTE: This guide will be most useful if you intend to use the low-level programming model directly. Higher-level APIs such as tf.estimator.Estimator and Keras hide the details of graphs and sessions from the end user, but this guide may also be useful if you want to understand how these APIs are implemented.\n"
   ]
  },
  {
   "cell_type": "markdown",
   "metadata": {},
   "source": [
    "## Building your own graph"
   ]
  },
  {
   "cell_type": "markdown",
   "metadata": {},
   "source": [
    "USE THIS:\n",
    "https://jacobbuckman.com/post/tensorflow-the-confusing-parts-1/"
   ]
  },
  {
   "cell_type": "markdown",
   "metadata": {},
   "source": [
    "A default Graph is always registered, and accessible by calling tf.get_default_graph. To add an operation to the default graph, simply call one of the functions that defines a new Operation:\n",
    "\n",
    "c = tf.constant(4.0)\n",
    "assert c.graph is tf.get_default_graph()\n",
    "Another typical usage involves the tf.Graph.as_default context manager, which overrides the current default graph for the lifetime of the context:\n",
    "\n",
    "g = tf.Graph()\n",
    "with g.as_default():\n",
    "  # Define operations and tensors in `g`.\n",
    "  c = tf.constant(30.0)\n",
    "  assert c.graph is g\n",
    "Important note: This clas"
   ]
  },
  {
   "cell_type": "markdown",
   "metadata": {},
   "source": [
    "# Session"
   ]
  },
  {
   "cell_type": "markdown",
   "metadata": {},
   "source": [
    "## Overview\n",
    "\n",
    "The role of the session is to handle the memory allocation and optimization that allows us to actually perform the computations specified by a graph. You can think of the computation graph as a “template” for the computations we want to do: it lays out all the steps. In order to make use of the graph, we also need to make a session, which allows us to actually do things; for example, going through the template node-by-node to allocate a bunch of memory for storing computation outputs. In order to do any computation with Tensorflow, you need both a graph and a session.\n",
    "\n",
    "The session contains a pointer to the global graph, which is constantly updated with pointers to all nodes. That means it doesn’t really matter whether you create the session before or after you create the nodes. 2\n",
    "\n",
    "After creating your session object, you can use sess.run(node) to return the value of a node, and Tensorflow performs all computations necessary to determine that value."
   ]
  },
  {
   "cell_type": "markdown",
   "metadata": {},
   "source": [
    "## Running the session\n",
    "\n",
    "...."
   ]
  },
  {
   "cell_type": "markdown",
   "metadata": {},
   "source": [
    "Object-oriented programming (OOP) refers a programming language model which defines \"objects\" containing data and functions that determine what types of operations can be applied to the data. If you are new to OOP, you can familiarize yourselves with the basics by reviewing the following web page on Wikipedia for general understanding of terms and concepts: [Object-Oriented Programming](https://en.wikipedia.org/wiki/Object-oriented_programming). If you are looking for a book explaining the concepts of object-oriented software development, you can get a copy of the classic book [\"Design Patterns: Elements of Reusable Object-Oriented Software\"](https://www.amazon.ca/Design-Patterns-Elements-Reusable-Object-Oriented/dp/0201633612/ref=sr_1_1?s=books&ie=UTF8&qid=1533523480&sr=1-1&dpID=51szD9HC9pL&preST=_SX198_BO1,204,203,200_QL40_&dpSrc=srch) by Erich Gamma, Richard Helm, Ralph Johnson, and John Vlissides."
   ]
  },
  {
   "cell_type": "markdown",
   "metadata": {},
   "source": [
    "At the core of the OOP are the concepts of a **class** which defines the data format and available procedures of an **object**. Any object is an instance of a corresponding class.\n",
    "\n",
    "Here is one of the definitions of classes and objects:\n",
    "> Classes – the definitions for the data format and available procedures for a given type or class of object; may also contain data and procedures (known as class methods) themselves, i.e. classes contain the data members and member functions.\n",
    "\n",
    ">Objects – instances of classes\n",
    "\n",
    "Think of a class as a template or a blueprint for any object created of this class."
   ]
  },
  {
   "cell_type": "markdown",
   "metadata": {},
   "source": [
    "We will use a simple example to explain the concept and components of OOP without writing any code first. For this initial example, we will define a **class Vehicle**. This class can define the following *fields* of a generalized vehicle: \n",
    "- model, \n",
    "- year, \n",
    "- colour, \n",
    "- type, \n",
    "- transmission type.\n",
    "\n",
    "The class would also contain definitions of *functionality* of a vehicle, for example:\n",
    "- EngineStart(), \n",
    "- accelerate(), \n",
    "- EngineStop(), \n",
    "- turn() and others. "
   ]
  },
  {
   "cell_type": "markdown",
   "metadata": {},
   "source": [
    "These functions are called **methods**. Together, fields and methods are called **attributes** of the class.\n",
    "\n",
    "Using this **class**, we can create multiple **objects** of a class Vehicle which will have different combinations and values of the attributes defined by the class. \n",
    "\n",
    "When a new object is created, we say that we create an instance of a class, or **instantiate** a new object."
   ]
  },
  {
   "cell_type": "markdown",
   "metadata": {},
   "source": [
    "### Classes and objects in Python"
   ]
  },
  {
   "cell_type": "markdown",
   "metadata": {},
   "source": [
    "In the next example we will create a class **Book**. It will accept two parameters, an author of the book and its title. The class will have a method which will print out the book description as a single sentence listing the title and author of the book.\n",
    "\n",
    "A class in Python is created using the keyword `class`, then we type the name of the class we want to create, and a colon (:). The class body is indented (usual 4 spaces).\n",
    "\n",
    "Here is the definition of a class `Book`:"
   ]
  },
  {
   "cell_type": "code",
   "execution_count": 13,
   "metadata": {
    "collapsed": true
   },
   "outputs": [],
   "source": [
    "class Book:\n",
    "    def __init__(self, author, title):\n",
    "        self.author = author\n",
    "        self.title = title\n",
    "    def bookdesc(self):\n",
    "        return \"Book '{}' by {}\".format(self.title, self.author)"
   ]
  },
  {
   "cell_type": "markdown",
   "metadata": {},
   "source": [
    "The class `Book` defines two methods, `__init__()` and `bookdesc()`. \n",
    "\n",
    "The name of the method `__init__()` starts and ends with double underscores (often called \"dunder\"), it is one of the so-called magic methods. This method is called automatically every time the new instance of a class is created. This method is call a **constructor** and it **initiates** fields of the class. In our example, method `__init__()` has 3 arguments. The argument `self` is always the first argument of a method `__init__()` and it refers to the object itself, it helps Python to keep track of different instances of the class.\n",
    "\n",
    "The other two arguments of a method `__init__()` are the author name and title of a book. The function will **initialize** the new object by assigning initial values to the object.\n",
    "\n",
    "The second method, `bookdesc()`, will print out the name and title of the book. It also takes `self` as an argument.\n",
    "Let's create some books:"
   ]
  },
  {
   "cell_type": "code",
   "execution_count": 16,
   "metadata": {
    "collapsed": true
   },
   "outputs": [],
   "source": [
    "bookA = Book(\"George R.R. Martin\", \"A Game of Thrones\")"
   ]
  },
  {
   "cell_type": "markdown",
   "metadata": {},
   "source": [
    "Let's explain what Python did when the above line of code was executed:\n",
    "\n",
    "1. Python interpreter has created a new instance of a class Book\n",
    "2. Method `__init__()` was executed automatically. It used the string `\"George R.R. Martin\"` as the value of parameter `author` and string `\"A Game of Thrones\"` as a value of parameter `title` for the method `__init__()`. The code within the function initialized attributes `author` and `title` of a new object. These are called **instance attributes**.\n",
    "3. A new object is assigned to a variable `bookA`. This object has two attributes, `author` and `title`.\n",
    "4. The new object has a method `bookdesc()` which will print out the title and author of a book. This method is called **instance method**.\n",
    "\n",
    "We can check the type of an object:"
   ]
  },
  {
   "cell_type": "code",
   "execution_count": 17,
   "metadata": {},
   "outputs": [
    {
     "data": {
      "text/plain": [
       "__main__.Book"
      ]
     },
     "execution_count": 17,
     "metadata": {},
     "output_type": "execute_result"
    }
   ],
   "source": [
    "type(bookA)"
   ]
  },
  {
   "cell_type": "markdown",
   "metadata": {},
   "source": [
    "Variable `bookA` points to an object of class `Book`.\n",
    "\n",
    "We can check the values of the `title` and `author` instance attributes of this object:"
   ]
  },
  {
   "cell_type": "code",
   "execution_count": 18,
   "metadata": {},
   "outputs": [
    {
     "data": {
      "text/plain": [
       "'George R.R. Martin'"
      ]
     },
     "execution_count": 18,
     "metadata": {},
     "output_type": "execute_result"
    }
   ],
   "source": [
    "bookA.author"
   ]
  },
  {
   "cell_type": "code",
   "execution_count": 19,
   "metadata": {},
   "outputs": [
    {
     "data": {
      "text/plain": [
       "'A Game of Thrones'"
      ]
     },
     "execution_count": 19,
     "metadata": {},
     "output_type": "execute_result"
    }
   ],
   "source": [
    "bookA.title"
   ]
  },
  {
   "cell_type": "markdown",
   "metadata": {},
   "source": [
    "Calling instance method `bookdesc()`:"
   ]
  },
  {
   "cell_type": "code",
   "execution_count": 20,
   "metadata": {},
   "outputs": [
    {
     "data": {
      "text/plain": [
       "\"Book 'A Game of Thrones' by George R.R. Martin\""
      ]
     },
     "execution_count": 20,
     "metadata": {},
     "output_type": "execute_result"
    }
   ],
   "source": [
    "bookA.bookdesc()"
   ]
  },
  {
   "cell_type": "markdown",
   "metadata": {},
   "source": [
    "More information about Python classes can be found in the Python documentation, [Chapter 9, Classes.](https://docs.python.org/3.3/tutorial/classes.html) in The Python Tutorial."
   ]
  },
  {
   "cell_type": "markdown",
   "metadata": {},
   "source": [
    "### Characteristics of Python objects"
   ]
  },
  {
   "cell_type": "markdown",
   "metadata": {},
   "source": [
    "Each object in Python has three characteristics:\n",
    "\n",
    "* Object type, \n",
    "* Object value,\n",
    "* Object identity.\n",
    "\n",
    "**Object type** tells Python what kind of an object it's dealing with. A type could be a string, or a list, or any other type of Python object, including custom-defined objects, like we saw above when we checked the type of the object that the variable `bookA` is pointing to.\n",
    "\n",
    "**Object value** is the data value contained by the object. In the example above, it was the title of the book and name of an author. For an integer, for example, it can be the value of a number.\n",
    "\n",
    "**Object identity** is an identity number for the object. Each distinct object in the computer's memory will have its own identity number."
   ]
  },
  {
   "cell_type": "markdown",
   "metadata": {},
   "source": [
    "To check an identifier of an object, we can use method `id()`. It returns an integer which uniquely identifies an object:"
   ]
  },
  {
   "cell_type": "code",
   "execution_count": 21,
   "metadata": {},
   "outputs": [
    {
     "data": {
      "text/plain": [
       "4529273488"
      ]
     },
     "execution_count": 21,
     "metadata": {},
     "output_type": "execute_result"
    }
   ],
   "source": [
    "id(bookA)"
   ]
  },
  {
   "cell_type": "markdown",
   "metadata": {},
   "source": [
    "The number above is an ID of an object which variable bookA is pointing to. Multiple variables can point to the same object. Let's illustrate this with a simple example. \n",
    "\n",
    "First, we will create a new list object `listobj` of two integers:"
   ]
  },
  {
   "cell_type": "code",
   "execution_count": 14,
   "metadata": {
    "collapsed": true
   },
   "outputs": [],
   "source": [
    "listobjA = [22, 33]"
   ]
  },
  {
   "cell_type": "markdown",
   "metadata": {},
   "source": [
    "This object has a **type** and **id** which we can easily obtain using corresponding methods:"
   ]
  },
  {
   "cell_type": "code",
   "execution_count": 15,
   "metadata": {},
   "outputs": [
    {
     "data": {
      "text/plain": [
       "list"
      ]
     },
     "execution_count": 15,
     "metadata": {},
     "output_type": "execute_result"
    }
   ],
   "source": [
    "type(listobjA)"
   ]
  },
  {
   "cell_type": "code",
   "execution_count": 16,
   "metadata": {},
   "outputs": [
    {
     "data": {
      "text/plain": [
       "4445020488"
      ]
     },
     "execution_count": 16,
     "metadata": {},
     "output_type": "execute_result"
    }
   ],
   "source": [
    "id(listobjA)"
   ]
  },
  {
   "cell_type": "markdown",
   "metadata": {},
   "source": [
    "We can create another variable, `listobjB`, which will point to the same list object `[22, 33]`:"
   ]
  },
  {
   "cell_type": "code",
   "execution_count": 17,
   "metadata": {},
   "outputs": [
    {
     "data": {
      "text/plain": [
       "[22, 33]"
      ]
     },
     "execution_count": 17,
     "metadata": {},
     "output_type": "execute_result"
    }
   ],
   "source": [
    "listobjB = listobjA\n",
    "listobjB"
   ]
  },
  {
   "cell_type": "markdown",
   "metadata": {},
   "source": [
    "We can easily confirm that `listobjB` points to the same list by validating it's `id()`:"
   ]
  },
  {
   "cell_type": "code",
   "execution_count": 18,
   "metadata": {},
   "outputs": [
    {
     "data": {
      "text/plain": [
       "4445020488"
      ]
     },
     "execution_count": 18,
     "metadata": {},
     "output_type": "execute_result"
    }
   ],
   "source": [
    "id(listobjB)"
   ]
  },
  {
   "cell_type": "markdown",
   "metadata": {},
   "source": [
    "And just as we expected, the **`ID`** of `listobjA` and `listobjB` are exactly the same. Another way of confirming that `listobjA` and `listobjB` are pointing to the same object is to use the `is` operator:"
   ]
  },
  {
   "cell_type": "code",
   "execution_count": 19,
   "metadata": {},
   "outputs": [
    {
     "data": {
      "text/plain": [
       "True"
      ]
     },
     "execution_count": 19,
     "metadata": {},
     "output_type": "execute_result"
    }
   ],
   "source": [
    "listobjA is listobjB"
   ]
  },
  {
   "cell_type": "markdown",
   "metadata": {},
   "source": [
    "We can also validate the *equality* of these two objects by using the operator `==` :"
   ]
  },
  {
   "cell_type": "code",
   "execution_count": 20,
   "metadata": {},
   "outputs": [
    {
     "data": {
      "text/plain": [
       "True"
      ]
     },
     "execution_count": 20,
     "metadata": {},
     "output_type": "execute_result"
    }
   ],
   "source": [
    "listobjA == listobjB"
   ]
  },
  {
   "cell_type": "markdown",
   "metadata": {},
   "source": [
    "And we can see from the above that `listobjA` and `listobjB` variables have the same value and are pointing to the same list object. \n",
    "\n",
    "Before we continue, let's create another list object, name it `listobjC` and it will be a copy of `listobjA`. "
   ]
  },
  {
   "cell_type": "code",
   "execution_count": 21,
   "metadata": {
    "collapsed": true
   },
   "outputs": [],
   "source": [
    "listobjC = list(listobjA)"
   ]
  },
  {
   "cell_type": "code",
   "execution_count": 22,
   "metadata": {},
   "outputs": [
    {
     "data": {
      "text/plain": [
       "[22, 33]"
      ]
     },
     "execution_count": 22,
     "metadata": {},
     "output_type": "execute_result"
    }
   ],
   "source": [
    "# We can validate that it has the same value:\n",
    "\n",
    "listobjC"
   ]
  },
  {
   "cell_type": "code",
   "execution_count": 23,
   "metadata": {},
   "outputs": [
    {
     "data": {
      "text/plain": [
       "4445235144"
      ]
     },
     "execution_count": 23,
     "metadata": {},
     "output_type": "execute_result"
    }
   ],
   "source": [
    "# but different ID:\n",
    "\n",
    "id(listobjC)"
   ]
  },
  {
   "cell_type": "code",
   "execution_count": 24,
   "metadata": {},
   "outputs": [
    {
     "data": {
      "text/plain": [
       "False"
      ]
     },
     "execution_count": 24,
     "metadata": {},
     "output_type": "execute_result"
    }
   ],
   "source": [
    "listobjC is listobjA"
   ]
  },
  {
   "cell_type": "code",
   "execution_count": 25,
   "metadata": {},
   "outputs": [
    {
     "data": {
      "text/plain": [
       "True"
      ]
     },
     "execution_count": 25,
     "metadata": {},
     "output_type": "execute_result"
    }
   ],
   "source": [
    "# even though they are equal:\n",
    "\n",
    "listobjC == listobjA"
   ]
  },
  {
   "cell_type": "markdown",
   "metadata": {},
   "source": [
    "Now let's add a third integer, `44`, to the end of the original list object using `append()` function: "
   ]
  },
  {
   "cell_type": "code",
   "execution_count": 26,
   "metadata": {},
   "outputs": [
    {
     "data": {
      "text/plain": [
       "[22, 33, 44]"
      ]
     },
     "execution_count": 26,
     "metadata": {},
     "output_type": "execute_result"
    }
   ],
   "source": [
    "listobjA.append(44)\n",
    "listobjA"
   ]
  },
  {
   "cell_type": "code",
   "execution_count": 27,
   "metadata": {},
   "outputs": [
    {
     "data": {
      "text/plain": [
       "4445020488"
      ]
     },
     "execution_count": 27,
     "metadata": {},
     "output_type": "execute_result"
    }
   ],
   "source": [
    "# The ID of this object didn't change, it is the same object as above:\n",
    "\n",
    "id(listobjA)"
   ]
  },
  {
   "cell_type": "markdown",
   "metadata": {},
   "source": [
    "What happened to `listobjB`? If it was pointing to the same list object as `listobjA`, it should have changed as well. Let's check:"
   ]
  },
  {
   "cell_type": "code",
   "execution_count": 28,
   "metadata": {},
   "outputs": [
    {
     "data": {
      "text/plain": [
       "[22, 33, 44]"
      ]
     },
     "execution_count": 28,
     "metadata": {},
     "output_type": "execute_result"
    }
   ],
   "source": [
    "listobjB"
   ]
  },
  {
   "cell_type": "markdown",
   "metadata": {},
   "source": [
    "And it changed indeed. But what about `listobjC` which we created as a copy of the original list?"
   ]
  },
  {
   "cell_type": "code",
   "execution_count": 29,
   "metadata": {},
   "outputs": [
    {
     "data": {
      "text/plain": [
       "[22, 33]"
      ]
     },
     "execution_count": 29,
     "metadata": {},
     "output_type": "execute_result"
    }
   ],
   "source": [
    "listobjC"
   ]
  },
  {
   "cell_type": "markdown",
   "metadata": {},
   "source": [
    "`listobjC` didn't change because it is a separate object with its own ID.\n",
    "\n",
    "This is a very important concept to remember as you are working with Python objects.\n",
    "\n",
    "We also need to point out that each element within a list object is an object as well. The list object `listobjA` is a container of objects, elements of the list. In our case the elements are integers with individual IDs. Let's check the object ID of each element within a list:"
   ]
  },
  {
   "cell_type": "code",
   "execution_count": 30,
   "metadata": {},
   "outputs": [
    {
     "data": {
      "text/plain": [
       "4410624672"
      ]
     },
     "execution_count": 30,
     "metadata": {},
     "output_type": "execute_result"
    }
   ],
   "source": [
    "id(listobjA[0])"
   ]
  },
  {
   "cell_type": "code",
   "execution_count": 31,
   "metadata": {},
   "outputs": [
    {
     "data": {
      "text/plain": [
       "4410625024"
      ]
     },
     "execution_count": 31,
     "metadata": {},
     "output_type": "execute_result"
    }
   ],
   "source": [
    "id(listobjA[1])"
   ]
  },
  {
   "cell_type": "code",
   "execution_count": 32,
   "metadata": {},
   "outputs": [
    {
     "data": {
      "text/plain": [
       "4410625376"
      ]
     },
     "execution_count": 32,
     "metadata": {},
     "output_type": "execute_result"
    }
   ],
   "source": [
    "id(listobjA[2])"
   ]
  },
  {
   "cell_type": "code",
   "execution_count": 34,
   "metadata": {},
   "outputs": [
    {
     "data": {
      "text/plain": [
       "4410625376"
      ]
     },
     "execution_count": 34,
     "metadata": {},
     "output_type": "execute_result"
    }
   ],
   "source": [
    "# Since listobjB is pointing to the same list object as listobjA, \n",
    "# the object ID of the last, third element, should be the same\n",
    "\n",
    "id(listobjB[2])"
   ]
  },
  {
   "cell_type": "code",
   "execution_count": 36,
   "metadata": {},
   "outputs": [
    {
     "name": "stdout",
     "output_type": "stream",
     "text": [
      "<class 'int'>\n",
      "<class 'list'>\n"
     ]
    }
   ],
   "source": [
    "# List elements are of type `integer`\n",
    "# whereas the list itself is of type `list`\n",
    "\n",
    "print(type(listobjA[2]))\n",
    "print(type(listobjA))"
   ]
  },
  {
   "cell_type": "markdown",
   "metadata": {},
   "source": [
    "### **EXERCISE 1:** Explore Python objects"
   ]
  },
  {
   "cell_type": "markdown",
   "metadata": {},
   "source": [
    "To visually demonstrate this important concept, we will use [**Python Tutor**](http://pythontutor.com/) website which helps to visualize what happens when each line of code is executed - [http://pythontutor.com/live.html#mode=edit](http://pythontutor.com/live.html#mode=edit). \n",
    "\n",
    "We will open the interactive session so that we can see the changes, and reproduce all the steps above. You are encouraged to open the link in a separate browser window and follow along.\n",
    "\n",
    "**NOTE**: If you want to make sure that you see the same visualization as on the screen shots below, please set the following values for the three drop-down lists in the bottom of the screen:\n",
    "- first drop-down: **\"show exited frames (Python)\"**\n",
    "- second drop-down: **\"render all objects on the heap (Python)\"**\n",
    "- third drop-down: **\"draw pointers as arrows [default]\"**. During the exercise, you can also select \"use text labels for pointers\" in this drop-down, it will allow you to see object ID instead of arrows.\n",
    "\n",
    "Refer to the image below:\n",
    "\n",
    "<img src='.\\files\\drop-downs.jpg' width=\"800\" alt=\"Drop-down settings in Python Tutor window\">\n",
    "\n",
    "**Picture 1.** Drop-down settings in Python Tutor window"
   ]
  },
  {
   "cell_type": "markdown",
   "metadata": {},
   "source": [
    "**Step 1 -** Create `listobjA` as a list object with two values: `[22, 33]`\n",
    "\n",
    "<img src='.\\files\\step1.jpg' width=\"700\" height=\"700\" alt=\"List `listobjA` is created\">\n",
    "\n",
    "**Picture 2.** Create list object `listobjA`"
   ]
  },
  {
   "cell_type": "markdown",
   "metadata": {},
   "source": [
    "As you can see in the image above, the list `listobjA` is a container of type `list` with two elements, both elements are integer objects. The visualization also shows indexes for the list elements within a list object. \n",
    "\n",
    "If we change the value of the third drop-down to \"use text labels for pointers\", we will see that the list object itself has an id = `id1` and the list elements have IDs `id2` and `id3`. The tool also shows each element of a list being an independent object of type `int`.\n",
    "\n",
    "<img src='.\\files\\step1_2_.jpg' width=\"700\" height=\"700\" alt=\"List object `listobjA` with object IDs displayed\">\n",
    "\n",
    "**Picture 3.** List object `listobjA` with object IDs displayed\n",
    "\n",
    "**NOTE:** IDs in the code above and IDs generated by the Python Tutor will be always different. For simplicity and demonstration purposes, Python Tutor IDs will start from `id=1` when you refresh the screen and start a new session."
   ]
  },
  {
   "cell_type": "markdown",
   "metadata": {},
   "source": [
    "We will change the value of the third drop-down back to \"draw pointers as arrows [default]\" and continue with the steps in our example.\n",
    "\n",
    "** Step 2** - Create `listobjB` as follows `listobjB = listobjA` in the Python Tutor window. You should see the following result:\n",
    "\n",
    "<img src='.\\files\\step2_createB.jpg'/ width=\"700\" height=\"700\" alt=\"Created `listobjB`\">\n",
    "\n",
    "**Picture 4.** Created `listobjB`\n",
    "\n",
    "As we expected, Python simply created a new variable, `listobjB`, and pointed it to the same list object that `listobjA` is pointing to."
   ]
  },
  {
   "cell_type": "markdown",
   "metadata": {},
   "source": [
    "**Step 3** - In Python Tutor window, create `listobjC` as follows: `listobjC = list(listobjA)`.\n",
    "\n",
    "Here is the result of this step:\n",
    "\n",
    "<img src='./files/step3_createC_1.jpg/' width=\"700\" height=\"700\" alt=\"Create `listobjC`\">\n",
    "\n",
    "**Picture 5.** Create `listobjC`\n",
    "\n",
    "We can note an interesting detail - Python will create a new list object for `listobjC` but it will point to the same list elements, integer objects `22` and `33`. If we switch into \"use text labels for pointers\" view, we can see that an ID for `listobjC` is `id4`:\n",
    "\n",
    "<img src='.\\files\\step3_createC_2.jpg'/ width=\"700\" height=\"700\" alt=\"View object IDs\">\n",
    "\n",
    "\n",
    "**Picture 6.** View object IDs for all objects\n"
   ]
  },
  {
   "cell_type": "markdown",
   "metadata": {},
   "source": [
    "Switching back into the arrow view for next step.\n",
    "\n",
    "**Step 4 -** Add an element with value `44` to the end of `listobjA`\n",
    "\n",
    "<img src='.\\files\\step4_add44toA.jpg' width=\"700\" height=\"700\" alt=\"Modified `listobjA` by adding a new element to the list\">\n",
    "\n",
    "**Picture 7.** Modified `listobjA` by adding a new element to the list\n"
   ]
  },
  {
   "cell_type": "markdown",
   "metadata": {},
   "source": [
    "**Step 5** - If we modify `listobjA` by assigning a list with different values to a variable `listobjA`, will `listobjA`'s ID change? For example, you can do something like this:\n",
    ">`listobjA = [1,2,3,4,5]`\n",
    "\n",
    "You can validate the result either by typing your code below and/or using Python Tutor."
   ]
  },
  {
   "cell_type": "code",
   "execution_count": null,
   "metadata": {
    "collapsed": true
   },
   "outputs": [],
   "source": []
  },
  {
   "cell_type": "code",
   "execution_count": null,
   "metadata": {
    "collapsed": true
   },
   "outputs": [],
   "source": []
  },
  {
   "cell_type": "code",
   "execution_count": null,
   "metadata": {
    "collapsed": true
   },
   "outputs": [],
   "source": []
  },
  {
   "cell_type": "code",
   "execution_count": 40,
   "metadata": {},
   "outputs": [
    {
     "data": {
      "text/plain": [
       "[1, 2, 3, 44, 5]"
      ]
     },
     "execution_count": 40,
     "metadata": {},
     "output_type": "execute_result"
    }
   ],
   "source": [
    "# Solution, part 1 - code\n",
    "\n",
    "listobjA = [1,2,3,44,5]\n",
    "listobjA"
   ]
  },
  {
   "cell_type": "code",
   "execution_count": 41,
   "metadata": {},
   "outputs": [
    {
     "data": {
      "text/plain": [
       "list"
      ]
     },
     "execution_count": 41,
     "metadata": {},
     "output_type": "execute_result"
    }
   ],
   "source": [
    "# checking the type of the object listobjA\n",
    "\n",
    "type(listobjA)"
   ]
  },
  {
   "cell_type": "code",
   "execution_count": 42,
   "metadata": {},
   "outputs": [
    {
     "data": {
      "text/plain": [
       "4445233672"
      ]
     },
     "execution_count": 42,
     "metadata": {},
     "output_type": "execute_result"
    }
   ],
   "source": [
    "# validating an ID for the object listobjA\n",
    "\n",
    "id(listobjA)"
   ]
  },
  {
   "cell_type": "markdown",
   "metadata": {},
   "source": [
    "You can compare the ID with the ID in the beginning of this notebook chapter. You will see that Python created new list object and pointed `listobjA` variable to this new list object which is a container for five integer objects. However, the `listobjB` still points to the same original object, nothing changed for the `listobjB`.\n",
    "\n",
    "Here is a screen shot from Python Tutor to demonstrate the changes:\n",
    "\n",
    "<img src='.\\files\\Task1_modifyA.jpg' width=\"600\" height=\"600\" alt=\"Modified `listobjA`\">\n",
    "\n",
    "**Picture 7.** Modified `listobjA`\n",
    "\n",
    "\n",
    "Here is the [link](https://goo.gl/Fmu47e) to the screen above."
   ]
  },
  {
   "cell_type": "markdown",
   "metadata": {},
   "source": [
    "## More Python"
   ]
  },
  {
   "cell_type": "markdown",
   "metadata": {},
   "source": [
    "In this section, we will cover additional Python functions: `map()` and Lambda function. They will come handy when we start manipulating DataFrame objects in the next section of this module, `pandas`. We will also learn how we can define a function when we do not know in advance how many attributes there will be when the function is called."
   ]
  },
  {
   "cell_type": "markdown",
   "metadata": {},
   "source": [
    "###  `map()` and `lambda` functions"
   ]
  },
  {
   "cell_type": "markdown",
   "metadata": {},
   "source": [
    "It is important to note that in Python, functions can be passed as arguments to another function. Function `map()` usually takes a function as one of the parameters and applies it to the elements of an **iterable** object, which can be list, dictionary, or even a string.\n",
    "\n",
    "Let's define **iterables** and **iterators** in Python. \n",
    "\n",
    "According to the Python's [Glossary of Terms](https://docs.python.org/3.6/glossary.html#term-iterable): **iterable** is \"an object capable of returning its members one at a time.\" In other words, iterable is a Python object we can loop over. Lists, strings, tuples, dictionaries are all examples of iterables. \n",
    "\n",
    "An iterable object has a built-in method `__iter__()` which returns an [**iterator**](https://docs.python.org/3.6/glossary.html#term-iterator) object. An iterator in Python is \"an object representing a stream of data\", it enables iteration over each element within an iterable container. This object returns the data one element at a time with the method `__next__()`. "
   ]
  },
  {
   "cell_type": "markdown",
   "metadata": {},
   "source": [
    "We don't have to explicitly use any of these methods, but when we use, for example, a `for` statement to loop over a list, the `__next__()` method is called automatically to get each item from the iterator:\n",
    "\n",
    ">`for element in [1, 2, 3]:    \n",
    ">     print(element)`\n",
    "\n",
    "See more examples in Python online documentation, chapter [\"9.8. Iterators\"](https://docs.python.org/3/tutorial/classes.html#iterators) of [The Python Tutorial](https://docs.python.org/3/tutorial/index.html) and section [\"Iterators\"](https://docs.python.org/dev/howto/functional.html#iterators) of [\"Python Functional Programming HOWTO\"](https://docs.python.org/dev/howto/functional.html).\n",
    "\n",
    "If you have a list, you might need to loop through the list and apply a calculation defined by a function to each element of a list, or only to certain elements. In the example below, we will square each element of a list using Python function `map()`. \n",
    "\n",
    "Syntax of a function:\n",
    "[`map(function, iterable)`](https://docs.python.org/3/library/functions.html#map). Let's review how this function is used."
   ]
  },
  {
   "cell_type": "code",
   "execution_count": 28,
   "metadata": {},
   "outputs": [
    {
     "data": {
      "text/plain": [
       "[1, 4, 9, 16, 25, 36]"
      ]
     },
     "execution_count": 28,
     "metadata": {},
     "output_type": "execute_result"
    }
   ],
   "source": [
    "# First, we create a custom square_it() function:\n",
    "\n",
    "def square_it(x):\n",
    "    return x * x\n",
    "\n",
    "# Create a list\n",
    "\n",
    "listA = [1, 2, 3, 4, 5, 6]\n",
    "\n",
    "# Now we can use map() function:\n",
    "\n",
    "list(map(square_it, listA))"
   ]
  },
  {
   "cell_type": "markdown",
   "metadata": {},
   "source": [
    "**NOTE:** Function `map()` returns an iterator object. In order to print out the values, we converted this iterator object to a list."
   ]
  },
  {
   "cell_type": "markdown",
   "metadata": {},
   "source": [
    "Function `square_it()` is very short function and can be replaced with the [**lambda function**](https://docs.python.org/dev/howto/functional.html#small-functions-and-the-lambda-expression). It is an anonymous function which does not have a name and thus cannot be reused elsewhere. It can be useful if, for example, we need to pass a simple one-line custom function to the other function. The lambda functions should only be used for very simple functions.\n",
    "\n",
    "We can re-write the code above using the lambda function as follows:"
   ]
  },
  {
   "cell_type": "code",
   "execution_count": 30,
   "metadata": {},
   "outputs": [
    {
     "data": {
      "text/plain": [
       "[1, 4, 9, 16, 25, 36]"
      ]
     },
     "execution_count": 30,
     "metadata": {},
     "output_type": "execute_result"
    }
   ],
   "source": [
    "list(map(lambda x: x * x, listA))"
   ]
  },
  {
   "cell_type": "code",
   "execution_count": 31,
   "metadata": {},
   "outputs": [
    {
     "data": {
      "text/plain": [
       "[2, 4, 6, 8, 10, 12]"
      ]
     },
     "execution_count": 31,
     "metadata": {},
     "output_type": "execute_result"
    }
   ],
   "source": [
    "# another example of using the lambda function:\n",
    "\n",
    "list(map(lambda x: x + x, listA))"
   ]
  },
  {
   "cell_type": "markdown",
   "metadata": {},
   "source": [
    "### Defining arguments for a function"
   ]
  },
  {
   "cell_type": "markdown",
   "metadata": {},
   "source": [
    "While creating a function, we might not know of all possible use cases when the function is going to be used. In order to handle a variable number of arguments during execution, we can define the function using `*args` and `**kwargs` syntax to define arguments.\n",
    "\n",
    "The __single-asterisk `*` keyword__ is used when we need to use a list of arguments of variable length.\n",
    "\n",
    "Here is an example of a function which will take a list of numbers and sum them up:"
   ]
  },
  {
   "cell_type": "code",
   "execution_count": 38,
   "metadata": {
    "collapsed": true
   },
   "outputs": [],
   "source": [
    "def my_sum(*args):\n",
    "    a = 0\n",
    "    for num in args:\n",
    "        a += num\n",
    "    print(a)"
   ]
  },
  {
   "cell_type": "code",
   "execution_count": 39,
   "metadata": {},
   "outputs": [
    {
     "name": "stdout",
     "output_type": "stream",
     "text": [
      "20\n"
     ]
    }
   ],
   "source": [
    "my_sum(4, 6, 10)"
   ]
  },
  {
   "cell_type": "code",
   "execution_count": 40,
   "metadata": {},
   "outputs": [
    {
     "name": "stdout",
     "output_type": "stream",
     "text": [
      "276.9\n"
     ]
    }
   ],
   "source": [
    "my_sum(3, 5.12, 45.78, 100, 123)"
   ]
  },
  {
   "cell_type": "markdown",
   "metadata": {},
   "source": [
    "The __double-asterisk `**` keyword__ is used when we pass a keyword arguments, a dictionary."
   ]
  },
  {
   "cell_type": "code",
   "execution_count": 32,
   "metadata": {},
   "outputs": [
    {
     "name": "stdout",
     "output_type": "stream",
     "text": [
      "a = 1\n"
     ]
    }
   ],
   "source": [
    "def myfunc(**kwargs):\n",
    "    for k,v in kwargs.items():\n",
    "        print (\"%s = %s\" % (k, v))\n",
    "\n",
    "# Using the function with one parameter:\n",
    "myfunc(a=1)"
   ]
  },
  {
   "cell_type": "code",
   "execution_count": 41,
   "metadata": {},
   "outputs": [
    {
     "name": "stdout",
     "output_type": "stream",
     "text": [
      "b = 2\n",
      "a = 1\n"
     ]
    }
   ],
   "source": [
    "# Using 2 parameters\n",
    "\n",
    "myfunc(b=2, a=1)"
   ]
  },
  {
   "cell_type": "markdown",
   "metadata": {},
   "source": [
    "**NOTE:** The arguments don't have to be named `args` and `kwargs`. This is just a naming convention accepted by the community. However, the asterisk(s), `*` and `**`, is what defines the behaviour of the function call. To demonstrate, we can re-write the first function as follows:"
   ]
  },
  {
   "cell_type": "code",
   "execution_count": 42,
   "metadata": {},
   "outputs": [
    {
     "name": "stdout",
     "output_type": "stream",
     "text": [
      "20\n"
     ]
    }
   ],
   "source": [
    "def my_newsum(*listofargs):\n",
    "    a = 0\n",
    "    for num in listofargs:\n",
    "        a += num\n",
    "    print(a)\n",
    "    \n",
    "my_newsum(4, 6, 10)"
   ]
  },
  {
   "cell_type": "markdown",
   "metadata": {},
   "source": [
    "You can read more on [Arbitrary Argument Lists](https://docs.python.org/3/tutorial/controlflow.html#arbitrary-argument-lists) in the Control Flow Tools section of [The Python Tutorial](https://docs.python.org/3/tutorial/index.html) documentation."
   ]
  },
  {
   "cell_type": "code",
   "execution_count": 43,
   "metadata": {},
   "outputs": [
    {
     "name": "stdout",
     "output_type": "stream",
     "text": [
      "args = (1, 2, 3)\n",
      "kwargs =  {'a': 4, 'b': 5}\n"
     ]
    }
   ],
   "source": [
    "def catch_all(*args, **kwargs):\n",
    "    print(\"args =\", args)\n",
    "    print(\"kwargs = \", kwargs)\n",
    "    \n",
    "catch_all(1, 2, 3, a=4, b=5)"
   ]
  },
  {
   "cell_type": "markdown",
   "metadata": {},
   "source": [
    "**End of Part 1.**\n",
    "\n",
    "\n",
    "This notebook makes up one part of this module. Now that you have completed this part, please proceed to the next notebook in this module.\n",
    "\n",
    "If you have any questions, please reach out to your peers using the discussion boards. If you and your peers are unable to come to a suitable conclusion, do not hesitate to reach out to your instructor on the designated discussion board."
   ]
  },
  {
   "cell_type": "markdown",
   "metadata": {},
   "source": [
    "## References"
   ]
  },
  {
   "cell_type": "markdown",
   "metadata": {},
   "source": [
    "VanderPlas, Jake (2017). Basic Python Semantics: Variables and Objects. Everything Is an Object. In _A Whirlwind Tour of Python_. Free book, available at the website: [https://jakevdp.github.io/WhirlwindTourOfPython/03-semantics-variables.html#Everything-Is-an-Object](https://jakevdp.github.io/WhirlwindTourOfPython/03-semantics-variables.html#Everything-Is-an-Object)\n",
    "\n",
    "Wikipedia. (2018). Object-oriented programming. Retrieved from [https://en.wikipedia.org/wiki/Object-oriented_programming](https://en.wikipedia.org/wiki/Object-oriented_programming)\n",
    "\n",
    "Python Documentation. The Python Tutorial. (2018). Chapter 9, Classes. Retrieved from [https://docs.python.org/3.3/tutorial/classes.html](https://docs.python.org/3.3/tutorial/classes.html).\n",
    "\n",
    "Python Tutor Website. (2018) Available at the following URL [http://pythontutor.com/live.html#mode=edit](http://pythontutor.com/live.html#mode=edit)\n",
    "\n",
    "Python Documentation. (2018). Glossary, term _iterable_. Retrieved from [https://docs.python.org/3.6/glossary.html#term-iterable](https://docs.python.org/3.6/glossary.html#term-iterable)\n",
    "\n",
    "Python Documentation. (2018). Glossary, term _iterator_. Retrieved from [https://docs.python.org/3.6/glossary.html#term-iterator](https://docs.python.org/3.6/glossary.html#term-iterator)\n",
    "\n",
    "Python Documentation. The Python Tutorial. (2018). Section 9.8. Iterators. Retrieved from [https://docs.python.org/3/tutorial/classes.html#iterators](https://docs.python.org/3/tutorial/classes.html#iterators)\n",
    "\n",
    "Kuchling, A.M. (2018). Iterators. In _Python Documentation. Python HOWTOs. Functional Programming HOWTO._ Retrieved from [https://docs.python.org/dev/howto/functional.html#iterators](https://docs.python.org/dev/howto/functional.html#iterators)\n",
    "\n",
    "Python Documentation. The Python Standard Library. (2018). Chapter 2. Built-in Functions, `map()` function. Retrieved from [https://docs.python.org/3/library/functions.html#map](https://docs.python.org/3/library/functions.html#map)\n",
    "\n",
    "Kuchling, A.M. (2018). Small functions and the lambda expression. In _Python Documentation. Python HOWTOs. Functional Programming HOWTO._ Retrieved from [https://docs.python.org/dev/howto/functional.html#small-functions-and-the-lambda-expression](https://docs.python.org/dev/howto/functional.html#small-functions-and-the-lambda-expression)\n",
    "\n",
    "Python Documentation. The Python Tutorial. (2018). 4.7.3. Arbitrary Argument Lists. Retrieved from [https://docs.python.org/3/tutorial/controlflow.html#arbitrary-argument-lists](https://docs.python.org/3/tutorial/controlflow.html#arbitrary-argument-lists)"
   ]
  },
  {
   "cell_type": "code",
   "execution_count": null,
   "metadata": {
    "collapsed": true
   },
   "outputs": [],
   "source": []
  }
 ],
 "metadata": {
  "kernelspec": {
   "display_name": "Python 3",
   "language": "python",
   "name": "python3"
  },
  "language_info": {
   "codemirror_mode": {
    "name": "ipython",
    "version": 3
   },
   "file_extension": ".py",
   "mimetype": "text/x-python",
   "name": "python",
   "nbconvert_exporter": "python",
   "pygments_lexer": "ipython3",
   "version": "3.7.0"
  },
  "toc": {
   "base_numbering": 1,
   "nav_menu": {},
   "number_sections": true,
   "sideBar": true,
   "skip_h1_title": true,
   "title_cell": "Table of Contents",
   "title_sidebar": "Contents",
   "toc_cell": true,
   "toc_position": {},
   "toc_section_display": true,
   "toc_window_display": true
  },
  "toc-autonumbering": true
 },
 "nbformat": 4,
 "nbformat_minor": 2
}
