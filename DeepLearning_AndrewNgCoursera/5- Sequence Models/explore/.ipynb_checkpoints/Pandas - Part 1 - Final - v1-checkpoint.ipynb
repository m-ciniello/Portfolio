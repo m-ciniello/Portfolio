{
 "cells": [
  {
   "cell_type": "markdown",
   "metadata": {},
   "source": [
    "# Module 4 Part 1: Object-Oriented Programming with Python and Additional Python Functions"
   ]
  },
  {
   "cell_type": "markdown",
   "metadata": {
    "toc": true
   },
   "source": [
    "<h1>Table of Contents<span class=\"tocSkip\"></span></h1>\n",
    "<div class=\"toc\"><ul class=\"toc-item\"><li><span><a href=\"#Introduction\" data-toc-modified-id=\"Introduction-1\"><span class=\"toc-item-num\">1&nbsp;&nbsp;</span>Introduction</a></span></li><li><span><a href=\"#Learning-Outcomes\" data-toc-modified-id=\"Learning-Outcomes-2\"><span class=\"toc-item-num\">2&nbsp;&nbsp;</span>Learning Outcomes</a></span></li><li><span><a href=\"#Readings-and-Resources\" data-toc-modified-id=\"Readings-and-Resources-3\"><span class=\"toc-item-num\">3&nbsp;&nbsp;</span>Readings and Resources</a></span></li><li><span><a href=\"#OOP\" data-toc-modified-id=\"OOP-4\"><span class=\"toc-item-num\">4&nbsp;&nbsp;</span>OOP</a></span><ul class=\"toc-item\"><li><span><a href=\"#Basics-of-Object-Oriented-Programming\" data-toc-modified-id=\"Basics-of-Object-Oriented-Programming-4.1\"><span class=\"toc-item-num\">4.1&nbsp;&nbsp;</span>Basics of Object-Oriented Programming</a></span></li><li><span><a href=\"#Classes-and-objects-in-Python\" data-toc-modified-id=\"Classes-and-objects-in-Python-4.2\"><span class=\"toc-item-num\">4.2&nbsp;&nbsp;</span>Classes and objects in Python</a></span></li><li><span><a href=\"#Characteristics-of-Python-objects\" data-toc-modified-id=\"Characteristics-of-Python-objects-4.3\"><span class=\"toc-item-num\">4.3&nbsp;&nbsp;</span>Characteristics of Python objects</a></span></li><li><span><a href=\"#EXERCISE-1:-Explore-Python-objects\" data-toc-modified-id=\"EXERCISE-1:-Explore-Python-objects-4.4\"><span class=\"toc-item-num\">4.4&nbsp;&nbsp;</span><strong>EXERCISE 1:</strong> Explore Python objects</a></span></li></ul></li><li><span><a href=\"#More-Python\" data-toc-modified-id=\"More-Python-5\"><span class=\"toc-item-num\">5&nbsp;&nbsp;</span>More Python</a></span><ul class=\"toc-item\"><li><span><a href=\"#map()-and-lambda-functions\" data-toc-modified-id=\"map()-and-lambda-functions-5.1\"><span class=\"toc-item-num\">5.1&nbsp;&nbsp;</span><code>map()</code> and <code>lambda</code> functions</a></span></li><li><span><a href=\"#Defining-arguments-for-a-function\" data-toc-modified-id=\"Defining-arguments-for-a-function-5.2\"><span class=\"toc-item-num\">5.2&nbsp;&nbsp;</span>Defining arguments for a function</a></span></li></ul></li><li><span><a href=\"#References\" data-toc-modified-id=\"References-6\"><span class=\"toc-item-num\">6&nbsp;&nbsp;</span>References</a></span></li></ul></div>"
   ]
  },
  {
   "cell_type": "markdown",
   "metadata": {},
   "source": [
    "## Introduction"
   ]
  },
  {
   "cell_type": "markdown",
   "metadata": {},
   "source": [
    "We will start this module with a quick review of the basics of **Object-Oriented Programming** and how it applies to Python. We will explain the meaning of the statement [\"in Python **everything** is an object.\"](https://jakevdp.github.io/WhirlwindTourOfPython/03-semantics-variables.html) \n",
    "\n",
    "Then, we will review two useful functions, `map()` and `lambda`, that you will use frequently, especially as you learn about **pandas**, Python's implementation of a DataFrame concept which will give you very powerful tools for data handling. "
   ]
  },
  {
   "cell_type": "markdown",
   "metadata": {},
   "source": [
    "## Learning Outcomes"
   ]
  },
  {
   "cell_type": "markdown",
   "metadata": {},
   "source": [
    "By the end of this Module, you will learn the following topics:"
   ]
  },
  {
   "cell_type": "markdown",
   "metadata": {},
   "source": [
    "- Basics of Object-Oriented Programming (OOP) and its implementation in Python\n",
    "- More Python:\n",
    "    - `map()` and `lambda` functions\n",
    "    - Defining arguments for a function\n",
    "- Pandas:\n",
    "    - Introduction to Series\n",
    "    - Basics of pandas, creating a DataFrame\n",
    "    - Reading/writing data from/to a `.csv` file\n",
    "    - Selecting data from the DataFrame by column name(s) or index, slicing and indexing\n",
    "    - Modifying a DataFrame\n",
    "    - Pandas data aggregation and grouping, understanding functions `groupby()`, `stack()/unstack()`, `reset_index()`\n",
    "    - Case Studies to practice pandas"
   ]
  },
  {
   "cell_type": "markdown",
   "metadata": {},
   "source": [
    "This module consists of 3 parts:\n",
    "\n",
    "- **Part 1** - Object-Oriented Programming with Python and Additional Python Functions\n",
    "- **Part 2** - Introduction to pandas\n",
    "- **Part 3** - Modifying a DataFrame, data aggregation and grouping, Case Studies\n",
    "\n",
    "Each part is provided in a separate notebook file. It is recommended that you follow the order of the notebooks."
   ]
  },
  {
   "cell_type": "markdown",
   "metadata": {},
   "source": [
    "## Readings and Resources"
   ]
  },
  {
   "cell_type": "markdown",
   "metadata": {},
   "source": [
    "The majority of the notebook content borrows from the recommended readings. We invite you to further supplement this notebook with the following recommended texts:\n",
    "\n",
    "Python Community (2018). *The Python Tutorial*. Retrieved from the following [web page](https://docs.python.org/3/tutorial/index.html).\n",
    "\n",
    "Kuchling A.M. (2018). *Functional Programming HOWTO*. Retrieved from the following Python documentation [web page](https://docs.python.org/3.6/howto/functional.html)."
   ]
  },
  {
   "cell_type": "markdown",
   "metadata": {},
   "source": [
    "## OOP"
   ]
  },
  {
   "cell_type": "markdown",
   "metadata": {},
   "source": [
    "Before we dive into pandas library and DataFrame structures, let's talk about object-oriented programming (OOP) and specifics of OOP in Python. This will help us to better understand some of the concepts of data manipulation in Python."
   ]
  },
  {
   "cell_type": "markdown",
   "metadata": {},
   "source": [
    "### Basics of Object-Oriented Programming"
   ]
  },
  {
   "cell_type": "markdown",
   "metadata": {},
   "source": [
    "Object-oriented programming (OOP) refers a programming language model which defines \"objects\" containing data and functions that determine what types of operations can be applied to the data. If you are new to OOP, you can familiarize yourselves with the basics by reviewing the following web page on Wikipedia for general understanding of terms and concepts: [Object-Oriented Programming](https://en.wikipedia.org/wiki/Object-oriented_programming). If you are looking for a book explaining the concepts of object-oriented software development, you can get a copy of the classic book [\"Design Patterns: Elements of Reusable Object-Oriented Software\"](https://www.amazon.ca/Design-Patterns-Elements-Reusable-Object-Oriented/dp/0201633612/ref=sr_1_1?s=books&ie=UTF8&qid=1533523480&sr=1-1&dpID=51szD9HC9pL&preST=_SX198_BO1,204,203,200_QL40_&dpSrc=srch) by Erich Gamma, Richard Helm, Ralph Johnson, and John Vlissides."
   ]
  },
  {
   "cell_type": "markdown",
   "metadata": {},
   "source": [
    "At the core of the OOP are the concepts of a **class** which defines the data format and available procedures of an **object**. Any object is an instance of a corresponding class.\n",
    "\n",
    "Here is one of the definitions of classes and objects:\n",
    "> Classes – the definitions for the data format and available procedures for a given type or class of object; may also contain data and procedures (known as class methods) themselves, i.e. classes contain the data members and member functions.\n",
    "\n",
    ">Objects – instances of classes\n",
    "\n",
    "Think of a class as a template or a blueprint for any object created of this class."
   ]
  },
  {
   "cell_type": "markdown",
   "metadata": {},
   "source": [
    "We will use a simple example to explain the concept and components of OOP without writing any code first. For this initial example, we will define a **class Vehicle**. This class can define the following *fields* of a generalized vehicle: \n",
    "- model, \n",
    "- year, \n",
    "- colour, \n",
    "- type, \n",
    "- transmission type.\n",
    "\n",
    "The class would also contain definitions of *functionality* of a vehicle, for example:\n",
    "- EngineStart(), \n",
    "- accelerate(), \n",
    "- EngineStop(), \n",
    "- turn() and others. "
   ]
  },
  {
   "cell_type": "markdown",
   "metadata": {},
   "source": [
    "These functions are called **methods**. Together, fields and methods are called **attributes** of the class.\n",
    "\n",
    "Using this **class**, we can create multiple **objects** of a class Vehicle which will have different combinations and values of the attributes defined by the class. \n",
    "\n",
    "When a new object is created, we say that we create an instance of a class, or **instantiate** a new object."
   ]
  },
  {
   "cell_type": "markdown",
   "metadata": {},
   "source": [
    "### Classes and objects in Python"
   ]
  },
  {
   "cell_type": "markdown",
   "metadata": {},
   "source": [
    "In the next example we will create a class **Book**. It will accept two parameters, an author of the book and its title. The class will have a method which will print out the book description as a single sentence listing the title and author of the book.\n",
    "\n",
    "A class in Python is created using the keyword `class`, then we type the name of the class we want to create, and a colon (:). The class body is indented (usual 4 spaces).\n",
    "\n",
    "Here is the definition of a class `Book`:"
   ]
  },
  {
   "cell_type": "code",
   "execution_count": 13,
   "metadata": {
    "collapsed": true
   },
   "outputs": [],
   "source": [
    "class Book:\n",
    "    def __init__(self, author, title):\n",
    "        self.author = author\n",
    "        self.title = title\n",
    "    def bookdesc(self):\n",
    "        return \"Book '{}' by {}\".format(self.title, self.author)"
   ]
  },
  {
   "cell_type": "markdown",
   "metadata": {},
   "source": [
    "The class `Book` defines two methods, `__init__()` and `bookdesc()`. \n",
    "\n",
    "The name of the method `__init__()` starts and ends with double underscores (often called \"dunder\"), it is one of the so-called magic methods. This method is called automatically every time the new instance of a class is created. This method is call a **constructor** and it **initiates** fields of the class. In our example, method `__init__()` has 3 arguments. The argument `self` is always the first argument of a method `__init__()` and it refers to the object itself, it helps Python to keep track of different instances of the class.\n",
    "\n",
    "The other two arguments of a method `__init__()` are the author name and title of a book. The function will **initialize** the new object by assigning initial values to the object.\n",
    "\n",
    "The second method, `bookdesc()`, will print out the name and title of the book. It also takes `self` as an argument.\n",
    "Let's create some books:"
   ]
  },
  {
   "cell_type": "code",
   "execution_count": 16,
   "metadata": {
    "collapsed": true
   },
   "outputs": [],
   "source": [
    "bookA = Book(\"George R.R. Martin\", \"A Game of Thrones\")"
   ]
  },
  {
   "cell_type": "markdown",
   "metadata": {},
   "source": [
    "Let's explain what Python did when the above line of code was executed:\n",
    "\n",
    "1. Python interpreter has created a new instance of a class Book\n",
    "2. Method `__init__()` was executed automatically. It used the string `\"George R.R. Martin\"` as the value of parameter `author` and string `\"A Game of Thrones\"` as a value of parameter `title` for the method `__init__()`. The code within the function initialized attributes `author` and `title` of a new object. These are called **instance attributes**.\n",
    "3. A new object is assigned to a variable `bookA`. This object has two attributes, `author` and `title`.\n",
    "4. The new object has a method `bookdesc()` which will print out the title and author of a book. This method is called **instance method**.\n",
    "\n",
    "We can check the type of an object:"
   ]
  },
  {
   "cell_type": "code",
   "execution_count": 17,
   "metadata": {},
   "outputs": [
    {
     "data": {
      "text/plain": [
       "__main__.Book"
      ]
     },
     "execution_count": 17,
     "metadata": {},
     "output_type": "execute_result"
    }
   ],
   "source": [
    "type(bookA)"
   ]
  },
  {
   "cell_type": "markdown",
   "metadata": {},
   "source": [
    "Variable `bookA` points to an object of class `Book`.\n",
    "\n",
    "We can check the values of the `title` and `author` instance attributes of this object:"
   ]
  },
  {
   "cell_type": "code",
   "execution_count": 18,
   "metadata": {},
   "outputs": [
    {
     "data": {
      "text/plain": [
       "'George R.R. Martin'"
      ]
     },
     "execution_count": 18,
     "metadata": {},
     "output_type": "execute_result"
    }
   ],
   "source": [
    "bookA.author"
   ]
  },
  {
   "cell_type": "code",
   "execution_count": 19,
   "metadata": {},
   "outputs": [
    {
     "data": {
      "text/plain": [
       "'A Game of Thrones'"
      ]
     },
     "execution_count": 19,
     "metadata": {},
     "output_type": "execute_result"
    }
   ],
   "source": [
    "bookA.title"
   ]
  },
  {
   "cell_type": "markdown",
   "metadata": {},
   "source": [
    "Calling instance method `bookdesc()`:"
   ]
  },
  {
   "cell_type": "code",
   "execution_count": 20,
   "metadata": {},
   "outputs": [
    {
     "data": {
      "text/plain": [
       "\"Book 'A Game of Thrones' by George R.R. Martin\""
      ]
     },
     "execution_count": 20,
     "metadata": {},
     "output_type": "execute_result"
    }
   ],
   "source": [
    "bookA.bookdesc()"
   ]
  },
  {
   "cell_type": "markdown",
   "metadata": {},
   "source": [
    "More information about Python classes can be found in the Python documentation, [Chapter 9, Classes.](https://docs.python.org/3.3/tutorial/classes.html) in The Python Tutorial."
   ]
  },
  {
   "cell_type": "markdown",
   "metadata": {},
   "source": [
    "### Characteristics of Python objects"
   ]
  },
  {
   "cell_type": "markdown",
   "metadata": {},
   "source": [
    "Each object in Python has three characteristics:\n",
    "\n",
    "* Object type, \n",
    "* Object value,\n",
    "* Object identity.\n",
    "\n",
    "**Object type** tells Python what kind of an object it's dealing with. A type could be a string, or a list, or any other type of Python object, including custom-defined objects, like we saw above when we checked the type of the object that the variable `bookA` is pointing to.\n",
    "\n",
    "**Object value** is the data value contained by the object. In the example above, it was the title of the book and name of an author. For an integer, for example, it can be the value of a number.\n",
    "\n",
    "**Object identity** is an identity number for the object. Each distinct object in the computer's memory will have its own identity number."
   ]
  },
  {
   "cell_type": "markdown",
   "metadata": {},
   "source": [
    "To check an identifier of an object, we can use method `id()`. It returns an integer which uniquely identifies an object:"
   ]
  },
  {
   "cell_type": "code",
   "execution_count": 21,
   "metadata": {},
   "outputs": [
    {
     "data": {
      "text/plain": [
       "4529273488"
      ]
     },
     "execution_count": 21,
     "metadata": {},
     "output_type": "execute_result"
    }
   ],
   "source": [
    "id(bookA)"
   ]
  },
  {
   "cell_type": "markdown",
   "metadata": {},
   "source": [
    "The number above is an ID of an object which variable bookA is pointing to. Multiple variables can point to the same object. Let's illustrate this with a simple example. \n",
    "\n",
    "First, we will create a new list object `listobj` of two integers:"
   ]
  },
  {
   "cell_type": "code",
   "execution_count": 14,
   "metadata": {
    "collapsed": true
   },
   "outputs": [],
   "source": [
    "listobjA = [22, 33]"
   ]
  },
  {
   "cell_type": "markdown",
   "metadata": {},
   "source": [
    "This object has a **type** and **id** which we can easily obtain using corresponding methods:"
   ]
  },
  {
   "cell_type": "code",
   "execution_count": 15,
   "metadata": {},
   "outputs": [
    {
     "data": {
      "text/plain": [
       "list"
      ]
     },
     "execution_count": 15,
     "metadata": {},
     "output_type": "execute_result"
    }
   ],
   "source": [
    "type(listobjA)"
   ]
  },
  {
   "cell_type": "code",
   "execution_count": 16,
   "metadata": {},
   "outputs": [
    {
     "data": {
      "text/plain": [
       "4445020488"
      ]
     },
     "execution_count": 16,
     "metadata": {},
     "output_type": "execute_result"
    }
   ],
   "source": [
    "id(listobjA)"
   ]
  },
  {
   "cell_type": "markdown",
   "metadata": {},
   "source": [
    "We can create another variable, `listobjB`, which will point to the same list object `[22, 33]`:"
   ]
  },
  {
   "cell_type": "code",
   "execution_count": 17,
   "metadata": {},
   "outputs": [
    {
     "data": {
      "text/plain": [
       "[22, 33]"
      ]
     },
     "execution_count": 17,
     "metadata": {},
     "output_type": "execute_result"
    }
   ],
   "source": [
    "listobjB = listobjA\n",
    "listobjB"
   ]
  },
  {
   "cell_type": "markdown",
   "metadata": {},
   "source": [
    "We can easily confirm that `listobjB` points to the same list by validating it's `id()`:"
   ]
  },
  {
   "cell_type": "code",
   "execution_count": 18,
   "metadata": {},
   "outputs": [
    {
     "data": {
      "text/plain": [
       "4445020488"
      ]
     },
     "execution_count": 18,
     "metadata": {},
     "output_type": "execute_result"
    }
   ],
   "source": [
    "id(listobjB)"
   ]
  },
  {
   "cell_type": "markdown",
   "metadata": {},
   "source": [
    "And just as we expected, the **`ID`** of `listobjA` and `listobjB` are exactly the same. Another way of confirming that `listobjA` and `listobjB` are pointing to the same object is to use the `is` operator:"
   ]
  },
  {
   "cell_type": "code",
   "execution_count": 19,
   "metadata": {},
   "outputs": [
    {
     "data": {
      "text/plain": [
       "True"
      ]
     },
     "execution_count": 19,
     "metadata": {},
     "output_type": "execute_result"
    }
   ],
   "source": [
    "listobjA is listobjB"
   ]
  },
  {
   "cell_type": "markdown",
   "metadata": {},
   "source": [
    "We can also validate the *equality* of these two objects by using the operator `==` :"
   ]
  },
  {
   "cell_type": "code",
   "execution_count": 20,
   "metadata": {},
   "outputs": [
    {
     "data": {
      "text/plain": [
       "True"
      ]
     },
     "execution_count": 20,
     "metadata": {},
     "output_type": "execute_result"
    }
   ],
   "source": [
    "listobjA == listobjB"
   ]
  },
  {
   "cell_type": "markdown",
   "metadata": {},
   "source": [
    "And we can see from the above that `listobjA` and `listobjB` variables have the same value and are pointing to the same list object. \n",
    "\n",
    "Before we continue, let's create another list object, name it `listobjC` and it will be a copy of `listobjA`. "
   ]
  },
  {
   "cell_type": "code",
   "execution_count": 21,
   "metadata": {
    "collapsed": true
   },
   "outputs": [],
   "source": [
    "listobjC = list(listobjA)"
   ]
  },
  {
   "cell_type": "code",
   "execution_count": 22,
   "metadata": {},
   "outputs": [
    {
     "data": {
      "text/plain": [
       "[22, 33]"
      ]
     },
     "execution_count": 22,
     "metadata": {},
     "output_type": "execute_result"
    }
   ],
   "source": [
    "# We can validate that it has the same value:\n",
    "\n",
    "listobjC"
   ]
  },
  {
   "cell_type": "code",
   "execution_count": 23,
   "metadata": {},
   "outputs": [
    {
     "data": {
      "text/plain": [
       "4445235144"
      ]
     },
     "execution_count": 23,
     "metadata": {},
     "output_type": "execute_result"
    }
   ],
   "source": [
    "# but different ID:\n",
    "\n",
    "id(listobjC)"
   ]
  },
  {
   "cell_type": "code",
   "execution_count": 24,
   "metadata": {},
   "outputs": [
    {
     "data": {
      "text/plain": [
       "False"
      ]
     },
     "execution_count": 24,
     "metadata": {},
     "output_type": "execute_result"
    }
   ],
   "source": [
    "listobjC is listobjA"
   ]
  },
  {
   "cell_type": "code",
   "execution_count": 25,
   "metadata": {},
   "outputs": [
    {
     "data": {
      "text/plain": [
       "True"
      ]
     },
     "execution_count": 25,
     "metadata": {},
     "output_type": "execute_result"
    }
   ],
   "source": [
    "# even though they are equal:\n",
    "\n",
    "listobjC == listobjA"
   ]
  },
  {
   "cell_type": "markdown",
   "metadata": {},
   "source": [
    "Now let's add a third integer, `44`, to the end of the original list object using `append()` function: "
   ]
  },
  {
   "cell_type": "code",
   "execution_count": 26,
   "metadata": {},
   "outputs": [
    {
     "data": {
      "text/plain": [
       "[22, 33, 44]"
      ]
     },
     "execution_count": 26,
     "metadata": {},
     "output_type": "execute_result"
    }
   ],
   "source": [
    "listobjA.append(44)\n",
    "listobjA"
   ]
  },
  {
   "cell_type": "code",
   "execution_count": 27,
   "metadata": {},
   "outputs": [
    {
     "data": {
      "text/plain": [
       "4445020488"
      ]
     },
     "execution_count": 27,
     "metadata": {},
     "output_type": "execute_result"
    }
   ],
   "source": [
    "# The ID of this object didn't change, it is the same object as above:\n",
    "\n",
    "id(listobjA)"
   ]
  },
  {
   "cell_type": "markdown",
   "metadata": {},
   "source": [
    "What happened to `listobjB`? If it was pointing to the same list object as `listobjA`, it should have changed as well. Let's check:"
   ]
  },
  {
   "cell_type": "code",
   "execution_count": 28,
   "metadata": {},
   "outputs": [
    {
     "data": {
      "text/plain": [
       "[22, 33, 44]"
      ]
     },
     "execution_count": 28,
     "metadata": {},
     "output_type": "execute_result"
    }
   ],
   "source": [
    "listobjB"
   ]
  },
  {
   "cell_type": "markdown",
   "metadata": {},
   "source": [
    "And it changed indeed. But what about `listobjC` which we created as a copy of the original list?"
   ]
  },
  {
   "cell_type": "code",
   "execution_count": 29,
   "metadata": {},
   "outputs": [
    {
     "data": {
      "text/plain": [
       "[22, 33]"
      ]
     },
     "execution_count": 29,
     "metadata": {},
     "output_type": "execute_result"
    }
   ],
   "source": [
    "listobjC"
   ]
  },
  {
   "cell_type": "markdown",
   "metadata": {},
   "source": [
    "`listobjC` didn't change because it is a separate object with its own ID.\n",
    "\n",
    "This is a very important concept to remember as you are working with Python objects.\n",
    "\n",
    "We also need to point out that each element within a list object is an object as well. The list object `listobjA` is a container of objects, elements of the list. In our case the elements are integers with individual IDs. Let's check the object ID of each element within a list:"
   ]
  },
  {
   "cell_type": "code",
   "execution_count": 30,
   "metadata": {},
   "outputs": [
    {
     "data": {
      "text/plain": [
       "4410624672"
      ]
     },
     "execution_count": 30,
     "metadata": {},
     "output_type": "execute_result"
    }
   ],
   "source": [
    "id(listobjA[0])"
   ]
  },
  {
   "cell_type": "code",
   "execution_count": 31,
   "metadata": {},
   "outputs": [
    {
     "data": {
      "text/plain": [
       "4410625024"
      ]
     },
     "execution_count": 31,
     "metadata": {},
     "output_type": "execute_result"
    }
   ],
   "source": [
    "id(listobjA[1])"
   ]
  },
  {
   "cell_type": "code",
   "execution_count": 32,
   "metadata": {},
   "outputs": [
    {
     "data": {
      "text/plain": [
       "4410625376"
      ]
     },
     "execution_count": 32,
     "metadata": {},
     "output_type": "execute_result"
    }
   ],
   "source": [
    "id(listobjA[2])"
   ]
  },
  {
   "cell_type": "code",
   "execution_count": 34,
   "metadata": {},
   "outputs": [
    {
     "data": {
      "text/plain": [
       "4410625376"
      ]
     },
     "execution_count": 34,
     "metadata": {},
     "output_type": "execute_result"
    }
   ],
   "source": [
    "# Since listobjB is pointing to the same list object as listobjA, \n",
    "# the object ID of the last, third element, should be the same\n",
    "\n",
    "id(listobjB[2])"
   ]
  },
  {
   "cell_type": "code",
   "execution_count": 36,
   "metadata": {},
   "outputs": [
    {
     "name": "stdout",
     "output_type": "stream",
     "text": [
      "<class 'int'>\n",
      "<class 'list'>\n"
     ]
    }
   ],
   "source": [
    "# List elements are of type `integer`\n",
    "# whereas the list itself is of type `list`\n",
    "\n",
    "print(type(listobjA[2]))\n",
    "print(type(listobjA))"
   ]
  },
  {
   "cell_type": "markdown",
   "metadata": {},
   "source": [
    "### **EXERCISE 1:** Explore Python objects"
   ]
  },
  {
   "cell_type": "markdown",
   "metadata": {},
   "source": [
    "To visually demonstrate this important concept, we will use [**Python Tutor**](http://pythontutor.com/) website which helps to visualize what happens when each line of code is executed - [http://pythontutor.com/live.html#mode=edit](http://pythontutor.com/live.html#mode=edit). \n",
    "\n",
    "We will open the interactive session so that we can see the changes, and reproduce all the steps above. You are encouraged to open the link in a separate browser window and follow along.\n",
    "\n",
    "**NOTE**: If you want to make sure that you see the same visualization as on the screen shots below, please set the following values for the three drop-down lists in the bottom of the screen:\n",
    "- first drop-down: **\"show exited frames (Python)\"**\n",
    "- second drop-down: **\"render all objects on the heap (Python)\"**\n",
    "- third drop-down: **\"draw pointers as arrows [default]\"**. During the exercise, you can also select \"use text labels for pointers\" in this drop-down, it will allow you to see object ID instead of arrows.\n",
    "\n",
    "Refer to the image below:\n",
    "\n",
    "<img src='.\\files\\drop-downs.jpg' width=\"800\" alt=\"Drop-down settings in Python Tutor window\">\n",
    "\n",
    "**Picture 1.** Drop-down settings in Python Tutor window"
   ]
  },
  {
   "cell_type": "markdown",
   "metadata": {},
   "source": [
    "**Step 1 -** Create `listobjA` as a list object with two values: `[22, 33]`\n",
    "\n",
    "<img src='.\\files\\step1.jpg' width=\"700\" height=\"700\" alt=\"List `listobjA` is created\">\n",
    "\n",
    "**Picture 2.** Create list object `listobjA`"
   ]
  },
  {
   "cell_type": "markdown",
   "metadata": {},
   "source": [
    "As you can see in the image above, the list `listobjA` is a container of type `list` with two elements, both elements are integer objects. The visualization also shows indexes for the list elements within a list object. \n",
    "\n",
    "If we change the value of the third drop-down to \"use text labels for pointers\", we will see that the list object itself has an id = `id1` and the list elements have IDs `id2` and `id3`. The tool also shows each element of a list being an independent object of type `int`.\n",
    "\n",
    "<img src='.\\files\\step1_2_.jpg' width=\"700\" height=\"700\" alt=\"List object `listobjA` with object IDs displayed\">\n",
    "\n",
    "**Picture 3.** List object `listobjA` with object IDs displayed\n",
    "\n",
    "**NOTE:** IDs in the code above and IDs generated by the Python Tutor will be always different. For simplicity and demonstration purposes, Python Tutor IDs will start from `id=1` when you refresh the screen and start a new session."
   ]
  },
  {
   "cell_type": "markdown",
   "metadata": {},
   "source": [
    "We will change the value of the third drop-down back to \"draw pointers as arrows [default]\" and continue with the steps in our example.\n",
    "\n",
    "** Step 2** - Create `listobjB` as follows `listobjB = listobjA` in the Python Tutor window. You should see the following result:\n",
    "\n",
    "<img src='.\\files\\step2_createB.jpg'/ width=\"700\" height=\"700\" alt=\"Created `listobjB`\">\n",
    "\n",
    "**Picture 4.** Created `listobjB`\n",
    "\n",
    "As we expected, Python simply created a new variable, `listobjB`, and pointed it to the same list object that `listobjA` is pointing to."
   ]
  },
  {
   "cell_type": "markdown",
   "metadata": {},
   "source": [
    "**Step 3** - In Python Tutor window, create `listobjC` as follows: `listobjC = list(listobjA)`.\n",
    "\n",
    "Here is the result of this step:\n",
    "\n",
    "<img src='./files/step3_createC_1.jpg/' width=\"700\" height=\"700\" alt=\"Create `listobjC`\">\n",
    "\n",
    "**Picture 5.** Create `listobjC`\n",
    "\n",
    "We can note an interesting detail - Python will create a new list object for `listobjC` but it will point to the same list elements, integer objects `22` and `33`. If we switch into \"use text labels for pointers\" view, we can see that an ID for `listobjC` is `id4`:\n",
    "\n",
    "<img src='.\\files\\step3_createC_2.jpg'/ width=\"700\" height=\"700\" alt=\"View object IDs\">\n",
    "\n",
    "\n",
    "**Picture 6.** View object IDs for all objects\n"
   ]
  },
  {
   "cell_type": "markdown",
   "metadata": {},
   "source": [
    "Switching back into the arrow view for next step.\n",
    "\n",
    "**Step 4 -** Add an element with value `44` to the end of `listobjA`\n",
    "\n",
    "<img src='.\\files\\step4_add44toA.jpg' width=\"700\" height=\"700\" alt=\"Modified `listobjA` by adding a new element to the list\">\n",
    "\n",
    "**Picture 7.** Modified `listobjA` by adding a new element to the list\n"
   ]
  },
  {
   "cell_type": "markdown",
   "metadata": {},
   "source": [
    "**Step 5** - If we modify `listobjA` by assigning a list with different values to a variable `listobjA`, will `listobjA`'s ID change? For example, you can do something like this:\n",
    ">`listobjA = [1,2,3,4,5]`\n",
    "\n",
    "You can validate the result either by typing your code below and/or using Python Tutor."
   ]
  },
  {
   "cell_type": "code",
   "execution_count": null,
   "metadata": {
    "collapsed": true
   },
   "outputs": [],
   "source": []
  },
  {
   "cell_type": "code",
   "execution_count": null,
   "metadata": {
    "collapsed": true
   },
   "outputs": [],
   "source": []
  },
  {
   "cell_type": "code",
   "execution_count": null,
   "metadata": {
    "collapsed": true
   },
   "outputs": [],
   "source": []
  },
  {
   "cell_type": "code",
   "execution_count": 40,
   "metadata": {},
   "outputs": [
    {
     "data": {
      "text/plain": [
       "[1, 2, 3, 44, 5]"
      ]
     },
     "execution_count": 40,
     "metadata": {},
     "output_type": "execute_result"
    }
   ],
   "source": [
    "# Solution, part 1 - code\n",
    "\n",
    "listobjA = [1,2,3,44,5]\n",
    "listobjA"
   ]
  },
  {
   "cell_type": "code",
   "execution_count": 41,
   "metadata": {},
   "outputs": [
    {
     "data": {
      "text/plain": [
       "list"
      ]
     },
     "execution_count": 41,
     "metadata": {},
     "output_type": "execute_result"
    }
   ],
   "source": [
    "# checking the type of the object listobjA\n",
    "\n",
    "type(listobjA)"
   ]
  },
  {
   "cell_type": "code",
   "execution_count": 42,
   "metadata": {},
   "outputs": [
    {
     "data": {
      "text/plain": [
       "4445233672"
      ]
     },
     "execution_count": 42,
     "metadata": {},
     "output_type": "execute_result"
    }
   ],
   "source": [
    "# validating an ID for the object listobjA\n",
    "\n",
    "id(listobjA)"
   ]
  },
  {
   "cell_type": "markdown",
   "metadata": {},
   "source": [
    "You can compare the ID with the ID in the beginning of this notebook chapter. You will see that Python created new list object and pointed `listobjA` variable to this new list object which is a container for five integer objects. However, the `listobjB` still points to the same original object, nothing changed for the `listobjB`.\n",
    "\n",
    "Here is a screen shot from Python Tutor to demonstrate the changes:\n",
    "\n",
    "<img src='.\\files\\Task1_modifyA.jpg' width=\"600\" height=\"600\" alt=\"Modified `listobjA`\">\n",
    "\n",
    "**Picture 7.** Modified `listobjA`\n",
    "\n",
    "\n",
    "Here is the [link](https://goo.gl/Fmu47e) to the screen above."
   ]
  },
  {
   "cell_type": "markdown",
   "metadata": {},
   "source": [
    "## More Python"
   ]
  },
  {
   "cell_type": "markdown",
   "metadata": {},
   "source": [
    "In this section, we will cover additional Python functions: `map()` and Lambda function. They will come handy when we start manipulating DataFrame objects in the next section of this module, `pandas`. We will also learn how we can define a function when we do not know in advance how many attributes there will be when the function is called."
   ]
  },
  {
   "cell_type": "markdown",
   "metadata": {},
   "source": [
    "###  `map()` and `lambda` functions"
   ]
  },
  {
   "cell_type": "markdown",
   "metadata": {},
   "source": [
    "It is important to note that in Python, functions can be passed as arguments to another function. Function `map()` usually takes a function as one of the parameters and applies it to the elements of an **iterable** object, which can be list, dictionary, or even a string.\n",
    "\n",
    "Let's define **iterables** and **iterators** in Python. \n",
    "\n",
    "According to the Python's [Glossary of Terms](https://docs.python.org/3.6/glossary.html#term-iterable): **iterable** is \"an object capable of returning its members one at a time.\" In other words, iterable is a Python object we can loop over. Lists, strings, tuples, dictionaries are all examples of iterables. \n",
    "\n",
    "An iterable object has a built-in method `__iter__()` which returns an [**iterator**](https://docs.python.org/3.6/glossary.html#term-iterator) object. An iterator in Python is \"an object representing a stream of data\", it enables iteration over each element within an iterable container. This object returns the data one element at a time with the method `__next__()`. "
   ]
  },
  {
   "cell_type": "markdown",
   "metadata": {},
   "source": [
    "We don't have to explicitly use any of these methods, but when we use, for example, a `for` statement to loop over a list, the `__next__()` method is called automatically to get each item from the iterator:\n",
    "\n",
    ">`for element in [1, 2, 3]:    \n",
    ">     print(element)`\n",
    "\n",
    "See more examples in Python online documentation, chapter [\"9.8. Iterators\"](https://docs.python.org/3/tutorial/classes.html#iterators) of [The Python Tutorial](https://docs.python.org/3/tutorial/index.html) and section [\"Iterators\"](https://docs.python.org/dev/howto/functional.html#iterators) of [\"Python Functional Programming HOWTO\"](https://docs.python.org/dev/howto/functional.html).\n",
    "\n",
    "If you have a list, you might need to loop through the list and apply a calculation defined by a function to each element of a list, or only to certain elements. In the example below, we will square each element of a list using Python function `map()`. \n",
    "\n",
    "Syntax of a function:\n",
    "[`map(function, iterable)`](https://docs.python.org/3/library/functions.html#map). Let's review how this function is used."
   ]
  },
  {
   "cell_type": "code",
   "execution_count": 28,
   "metadata": {},
   "outputs": [
    {
     "data": {
      "text/plain": [
       "[1, 4, 9, 16, 25, 36]"
      ]
     },
     "execution_count": 28,
     "metadata": {},
     "output_type": "execute_result"
    }
   ],
   "source": [
    "# First, we create a custom square_it() function:\n",
    "\n",
    "def square_it(x):\n",
    "    return x * x\n",
    "\n",
    "# Create a list\n",
    "\n",
    "listA = [1, 2, 3, 4, 5, 6]\n",
    "\n",
    "# Now we can use map() function:\n",
    "\n",
    "list(map(square_it, listA))"
   ]
  },
  {
   "cell_type": "markdown",
   "metadata": {},
   "source": [
    "**NOTE:** Function `map()` returns an iterator object. In order to print out the values, we converted this iterator object to a list."
   ]
  },
  {
   "cell_type": "markdown",
   "metadata": {},
   "source": [
    "Function `square_it()` is very short function and can be replaced with the [**lambda function**](https://docs.python.org/dev/howto/functional.html#small-functions-and-the-lambda-expression). It is an anonymous function which does not have a name and thus cannot be reused elsewhere. It can be useful if, for example, we need to pass a simple one-line custom function to the other function. The lambda functions should only be used for very simple functions.\n",
    "\n",
    "We can re-write the code above using the lambda function as follows:"
   ]
  },
  {
   "cell_type": "code",
   "execution_count": 30,
   "metadata": {},
   "outputs": [
    {
     "data": {
      "text/plain": [
       "[1, 4, 9, 16, 25, 36]"
      ]
     },
     "execution_count": 30,
     "metadata": {},
     "output_type": "execute_result"
    }
   ],
   "source": [
    "list(map(lambda x: x * x, listA))"
   ]
  },
  {
   "cell_type": "code",
   "execution_count": 31,
   "metadata": {},
   "outputs": [
    {
     "data": {
      "text/plain": [
       "[2, 4, 6, 8, 10, 12]"
      ]
     },
     "execution_count": 31,
     "metadata": {},
     "output_type": "execute_result"
    }
   ],
   "source": [
    "# another example of using the lambda function:\n",
    "\n",
    "list(map(lambda x: x + x, listA))"
   ]
  },
  {
   "cell_type": "markdown",
   "metadata": {},
   "source": [
    "### Defining arguments for a function"
   ]
  },
  {
   "cell_type": "markdown",
   "metadata": {},
   "source": [
    "While creating a function, we might not know of all possible use cases when the function is going to be used. In order to handle a variable number of arguments during execution, we can define the function using `*args` and `**kwargs` syntax to define arguments.\n",
    "\n",
    "The __single-asterisk `*` keyword__ is used when we need to use a list of arguments of variable length.\n",
    "\n",
    "Here is an example of a function which will take a list of numbers and sum them up:"
   ]
  },
  {
   "cell_type": "code",
   "execution_count": 38,
   "metadata": {
    "collapsed": true
   },
   "outputs": [],
   "source": [
    "def my_sum(*args):\n",
    "    a = 0\n",
    "    for num in args:\n",
    "        a += num\n",
    "    print(a)"
   ]
  },
  {
   "cell_type": "code",
   "execution_count": 39,
   "metadata": {},
   "outputs": [
    {
     "name": "stdout",
     "output_type": "stream",
     "text": [
      "20\n"
     ]
    }
   ],
   "source": [
    "my_sum(4, 6, 10)"
   ]
  },
  {
   "cell_type": "code",
   "execution_count": 40,
   "metadata": {},
   "outputs": [
    {
     "name": "stdout",
     "output_type": "stream",
     "text": [
      "276.9\n"
     ]
    }
   ],
   "source": [
    "my_sum(3, 5.12, 45.78, 100, 123)"
   ]
  },
  {
   "cell_type": "markdown",
   "metadata": {},
   "source": [
    "The __double-asterisk `**` keyword__ is used when we pass a keyword arguments, a dictionary."
   ]
  },
  {
   "cell_type": "code",
   "execution_count": 32,
   "metadata": {},
   "outputs": [
    {
     "name": "stdout",
     "output_type": "stream",
     "text": [
      "a = 1\n"
     ]
    }
   ],
   "source": [
    "def myfunc(**kwargs):\n",
    "    for k,v in kwargs.items():\n",
    "        print (\"%s = %s\" % (k, v))\n",
    "\n",
    "# Using the function with one parameter:\n",
    "myfunc(a=1)"
   ]
  },
  {
   "cell_type": "code",
   "execution_count": 41,
   "metadata": {},
   "outputs": [
    {
     "name": "stdout",
     "output_type": "stream",
     "text": [
      "b = 2\n",
      "a = 1\n"
     ]
    }
   ],
   "source": [
    "# Using 2 parameters\n",
    "\n",
    "myfunc(b=2, a=1)"
   ]
  },
  {
   "cell_type": "markdown",
   "metadata": {},
   "source": [
    "**NOTE:** The arguments don't have to be named `args` and `kwargs`. This is just a naming convention accepted by the community. However, the asterisk(s), `*` and `**`, is what defines the behaviour of the function call. To demonstrate, we can re-write the first function as follows:"
   ]
  },
  {
   "cell_type": "code",
   "execution_count": 42,
   "metadata": {},
   "outputs": [
    {
     "name": "stdout",
     "output_type": "stream",
     "text": [
      "20\n"
     ]
    }
   ],
   "source": [
    "def my_newsum(*listofargs):\n",
    "    a = 0\n",
    "    for num in listofargs:\n",
    "        a += num\n",
    "    print(a)\n",
    "    \n",
    "my_newsum(4, 6, 10)"
   ]
  },
  {
   "cell_type": "markdown",
   "metadata": {},
   "source": [
    "You can read more on [Arbitrary Argument Lists](https://docs.python.org/3/tutorial/controlflow.html#arbitrary-argument-lists) in the Control Flow Tools section of [The Python Tutorial](https://docs.python.org/3/tutorial/index.html) documentation."
   ]
  },
  {
   "cell_type": "code",
   "execution_count": 43,
   "metadata": {},
   "outputs": [
    {
     "name": "stdout",
     "output_type": "stream",
     "text": [
      "args = (1, 2, 3)\n",
      "kwargs =  {'a': 4, 'b': 5}\n"
     ]
    }
   ],
   "source": [
    "def catch_all(*args, **kwargs):\n",
    "    print(\"args =\", args)\n",
    "    print(\"kwargs = \", kwargs)\n",
    "    \n",
    "catch_all(1, 2, 3, a=4, b=5)"
   ]
  },
  {
   "cell_type": "markdown",
   "metadata": {},
   "source": [
    "**End of Part 1.**\n",
    "\n",
    "\n",
    "This notebook makes up one part of this module. Now that you have completed this part, please proceed to the next notebook in this module.\n",
    "\n",
    "If you have any questions, please reach out to your peers using the discussion boards. If you and your peers are unable to come to a suitable conclusion, do not hesitate to reach out to your instructor on the designated discussion board."
   ]
  },
  {
   "cell_type": "markdown",
   "metadata": {},
   "source": [
    "## References"
   ]
  },
  {
   "cell_type": "markdown",
   "metadata": {},
   "source": [
    "VanderPlas, Jake (2017). Basic Python Semantics: Variables and Objects. Everything Is an Object. In _A Whirlwind Tour of Python_. Free book, available at the website: [https://jakevdp.github.io/WhirlwindTourOfPython/03-semantics-variables.html#Everything-Is-an-Object](https://jakevdp.github.io/WhirlwindTourOfPython/03-semantics-variables.html#Everything-Is-an-Object)\n",
    "\n",
    "Wikipedia. (2018). Object-oriented programming. Retrieved from [https://en.wikipedia.org/wiki/Object-oriented_programming](https://en.wikipedia.org/wiki/Object-oriented_programming)\n",
    "\n",
    "Python Documentation. The Python Tutorial. (2018). Chapter 9, Classes. Retrieved from [https://docs.python.org/3.3/tutorial/classes.html](https://docs.python.org/3.3/tutorial/classes.html).\n",
    "\n",
    "Python Tutor Website. (2018) Available at the following URL [http://pythontutor.com/live.html#mode=edit](http://pythontutor.com/live.html#mode=edit)\n",
    "\n",
    "Python Documentation. (2018). Glossary, term _iterable_. Retrieved from [https://docs.python.org/3.6/glossary.html#term-iterable](https://docs.python.org/3.6/glossary.html#term-iterable)\n",
    "\n",
    "Python Documentation. (2018). Glossary, term _iterator_. Retrieved from [https://docs.python.org/3.6/glossary.html#term-iterator](https://docs.python.org/3.6/glossary.html#term-iterator)\n",
    "\n",
    "Python Documentation. The Python Tutorial. (2018). Section 9.8. Iterators. Retrieved from [https://docs.python.org/3/tutorial/classes.html#iterators](https://docs.python.org/3/tutorial/classes.html#iterators)\n",
    "\n",
    "Kuchling, A.M. (2018). Iterators. In _Python Documentation. Python HOWTOs. Functional Programming HOWTO._ Retrieved from [https://docs.python.org/dev/howto/functional.html#iterators](https://docs.python.org/dev/howto/functional.html#iterators)\n",
    "\n",
    "Python Documentation. The Python Standard Library. (2018). Chapter 2. Built-in Functions, `map()` function. Retrieved from [https://docs.python.org/3/library/functions.html#map](https://docs.python.org/3/library/functions.html#map)\n",
    "\n",
    "Kuchling, A.M. (2018). Small functions and the lambda expression. In _Python Documentation. Python HOWTOs. Functional Programming HOWTO._ Retrieved from [https://docs.python.org/dev/howto/functional.html#small-functions-and-the-lambda-expression](https://docs.python.org/dev/howto/functional.html#small-functions-and-the-lambda-expression)\n",
    "\n",
    "Python Documentation. The Python Tutorial. (2018). 4.7.3. Arbitrary Argument Lists. Retrieved from [https://docs.python.org/3/tutorial/controlflow.html#arbitrary-argument-lists](https://docs.python.org/3/tutorial/controlflow.html#arbitrary-argument-lists)"
   ]
  },
  {
   "cell_type": "code",
   "execution_count": null,
   "metadata": {
    "collapsed": true
   },
   "outputs": [],
   "source": []
  }
 ],
 "metadata": {
  "kernelspec": {
   "display_name": "Python 3",
   "language": "python",
   "name": "python3"
  },
  "language_info": {
   "codemirror_mode": {
    "name": "ipython",
    "version": 3
   },
   "file_extension": ".py",
   "mimetype": "text/x-python",
   "name": "python",
   "nbconvert_exporter": "python",
   "pygments_lexer": "ipython3",
   "version": "3.6.6"
  },
  "toc": {
   "base_numbering": 1,
   "nav_menu": {},
   "number_sections": true,
   "sideBar": true,
   "skip_h1_title": true,
   "title_cell": "Table of Contents",
   "title_sidebar": "Contents",
   "toc_cell": true,
   "toc_position": {},
   "toc_section_display": true,
   "toc_window_display": true
  },
  "toc-autonumbering": false
 },
 "nbformat": 4,
 "nbformat_minor": 2
}
