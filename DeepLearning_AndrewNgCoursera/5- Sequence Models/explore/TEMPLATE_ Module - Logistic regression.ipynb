{
 "cells": [
  {
   "cell_type": "markdown",
   "metadata": {},
   "source": [
    "# Module 7: Logistic Regression"
   ]
  },
  {
   "cell_type": "markdown",
   "metadata": {},
   "source": [
    "## Introduction\n",
    "\n",
    "In this module, we will introduce logistic regression and will learn how to fit and how to evaluate logistic regression models. We will discuss the assumptions and limitation of the logistic regression. We will learn how to interpret the output of logistic regression as obtained from most software. Then, we will describe receiver operating characteristics and its importance for logistic regression. "
   ]
  },
  {
   "cell_type": "markdown",
   "metadata": {},
   "source": [
    "## Learning Outcomes\n",
    "\n",
    "In this module, you will:\n",
    "\n",
    "* Become familiar with logistic regression analysis\n",
    "* Understand the assumptions, limitations and strenghts of logistic regression\n",
    "* Learn how to evaluate logistic regression models"
   ]
  },
  {
   "cell_type": "markdown",
   "metadata": {},
   "source": [
    "## Reading and Resources\n",
    "\n",
    "We invite you to further supplement this notebook with the following recommended texts:\n",
    "\n",
    "Diez, D., Barr, C. & Çetinkaya-Rundel, M. (2017). Chapter 8: Multiple and Logistic Regression in *OpenIntro Statistics (3rd Ed.).* https://www.openintro.org/stat/textbook.php?stat_book=os\n"
   ]
  },
  {
   "cell_type": "markdown",
   "metadata": {},
   "source": [
    "## Table of Contents"
   ]
  },
  {
   "cell_type": "markdown",
   "metadata": {},
   "source": [
    "[Logistic Regression](#Logistic_Regression)\n",
    "\n",
    "[Understanding Regression Output from Software](#Understanding_Regression_Output_from_Software)\n",
    "\n",
    "[Evaluation of the Logistic Regression Model](#Evaluation_of_the_Logistic_Regression_Model)\n",
    "\n",
    "[Receiver Operating Characteristic](#Receiver_Operating_Characteristic)\n",
    "\n",
    "[Setting the Discrimination Threshold](#Setting_the_Discrimination_Threshold)"
   ]
  },
  {
   "cell_type": "markdown",
   "metadata": {},
   "source": [
    "<a id=\"Logistic_Regression\"></a>\n",
    "\n",
    "## Logistic Regression"
   ]
  },
  {
   "cell_type": "markdown",
   "metadata": {},
   "source": [
    "<br>\n",
    "\n",
    "In contrast to linear regression analysis that is applied when the response variable is a continuous variable, logistic regression finds its application when the response variable is a categorical variable. Here, we will focus on the most prominent case, which is when the response variable is **binary**. \n",
    "Logistic regression is extremely useful, since *many real-life problems can be reduced to a problem of estimation of the value of a binary variable*. \n",
    "\n",
    "For example:\n",
    "\n",
    " - Is a customer going to buy an item? - Yes, or No\n",
    " - Is an email a spam? - Yes, or No\n",
    " - Does a patient suffer from the disease? - Yes, or No"
   ]
  },
  {
   "cell_type": "markdown",
   "metadata": {},
   "source": [
    "### Introduction to logistic regression"
   ]
  },
  {
   "cell_type": "markdown",
   "metadata": {},
   "source": [
    "<br>\n",
    "\n",
    "In the previous module, we learned that the objective of a regression analysis is to estimate the value of a random variable given that we know the value of an associated variable. \n",
    "\n",
    "In compliance with this, we can say that *logistic regression is a form of regression analysis where the response variable is a **random categorical variable**. \n",
    "\n",
    "Hereafter we will limit ourselves to a case when the response variable is a **binary variable**. \n",
    "\n",
    "The response, $y$ thus takes the value: \n",
    "\n",
    "  - 1 when a certain condition is met with probability $p$\n",
    "  - 0 with probability $1 - p$ when the condition is not met. \n",
    "  \n",
    "The probability $p$ is often denoted as the **\"odds\"**. \n",
    "\n",
    "In logistic regression, the odds are estimated by using a framework, which incorporates the linear regression. This framework can be mathematically formulated as follows:\n",
    "\n",
    "<center>$\\text{Logit}(p_i) = \\beta_0 + \\beta_1 x_{1,i} + \\beta_2 x_{2,i} + \\ldots + \\beta_k x_{k,i}$</center>\n",
    "\n",
    "where:\n",
    "\n",
    "  - $p$ denotes the **odds** of that the $y$ will take value 1\n",
    "  - $x_{1, i}, x_{2, i},\\ldots, x_{1, n}$ are the $i$-th values of the predictors (can be categorical or numerical)\n",
    "  - $\\beta_0$ is the intercept and $\\beta_1, \\beta_2, \\ldots, \\beta_n$ are the regression coefficients\n",
    "  - $\\text{Logit}$, or sometimes also called log-odds, is **the link function** that transforms output of the linear regression into an odds:\n",
    "  \n",
    "  <center>$\\text{Logit}\\,(p) = ln \\frac{p}{1 - p(x)}$</center>\n",
    "  \n",
    "  from which we obtain:\n",
    "  <center>$p = \\frac{1}{1 + e^{\\,\\text{Logit}(p)}}$</center>\n",
    "\n",
    "Estimates of the actual values of $y$ are then derived as follows:\n",
    "\n",
    "\\begin{equation}\n",
    "  \\hat{y}_i =\n",
    "  \\begin{cases}\n",
    "    1 & \\text{if $p_i > p_{th}$}\\,, \\\\\n",
    "    0 & \\text{otherwise}\n",
    "  \\end{cases}\n",
    "\\end{equation}\n",
    "\n",
    "Where $p_{th}$ is **discrimination threshold**. Most of the implementations of the logistic regression use default discrimination threshold equal to $0.5$.\n",
    "\n",
    "**NOTE:** A major (though not the only) reason why logistic regression requires application of the link function is that linear models require the residuals to be normally distributed. Applying the linear regression directly to estimate odds $p$ would thus never be possible."
   ]
  },
  {
   "cell_type": "markdown",
   "metadata": {},
   "source": [
    "<br>\n",
    "\n",
    "A more straightforward explanation would be that logistic regression consists of the application of a linear regression to predict the value of a variable $y'$, called a **latent variable**:\n",
    "\n",
    "<center>$y' = \\beta_0 + \\beta_1 x_{1,i} + \\beta_2 x_{2,i} + \\ldots + \\beta_k x_{k,i}$</center>\n",
    "\n",
    "which is in turn used to estimate $y$ by applying following decisioning:\n",
    "\n",
    "\\begin{equation}\n",
    "  \\hat{y}_i =\n",
    "  \\begin{cases}\n",
    "    1 & \\text{if $y'_i > y'_{th}$}\\,, \\\\\n",
    "    0 & \\text{otherwise}\n",
    "  \\end{cases}\n",
    "\\end{equation}\n",
    "\n",
    "or, even simpler\n",
    "\n",
    "\\begin{equation}\n",
    "  \\hat{y}_i =\n",
    "  \\begin{cases}\n",
    "    1 & \\text{if $\\beta_0 + \\beta_1 x_{1,i} + \\beta_2 x_{2,i} + \\ldots + \\beta_k x_{k,i} > y'_{th}$}\\,, \\\\\n",
    "    0 & \\text{otherwise}\n",
    "  \\end{cases}\n",
    "\\end{equation}\n",
    "\n",
    "where $y'_{th}$ is a discrimination threshold of the latent variable $y'$."
   ]
  },
  {
   "cell_type": "markdown",
   "metadata": {},
   "source": [
    "### Visual interpretation"
   ]
  },
  {
   "cell_type": "markdown",
   "metadata": {},
   "source": [
    "<br>\n",
    "The figure below shows association between the odds $p$ and logit function of odds - $\\text{Logit}\\,(p)$. The assocation between the two is a monotonically increasing sigmoid curve with inflection point located at ($p = 0.5$, $\\text{Logit}\\,(p) = 0$). When the odds are greater than $0.5$, values of $\\text{Logit}\\,(p)$ are positive and predicted response is $\\widehat{y} = 1$. Conversely, when the odds are lower than $0.5$, values of $\\text{Logit}\\,(p)$ are negative and predicted response is $\\widehat{y} = 0$. \n",
    "\n",
    "\n",
    "![title](./logit_function_modif.png \"Visual interpretation\")\n",
    "\n",
    "Image source: Diez et al, (2015)"
   ]
  },
  {
   "cell_type": "markdown",
   "metadata": {},
   "source": [
    "<a id=\"Underlying_Assumptions\"></a>\n",
    "\n",
    "### Underlying assumptions"
   ]
  },
  {
   "cell_type": "markdown",
   "metadata": {},
   "source": [
    "<br>\n",
    "\n",
    "Logistic regression is based on **a different set of assumptions** about the relationship between dependent and independent variables than those of linear regression. Some differences between the two methods are obvious, and stem from the distinct nature of the response variable. These include:\n",
    "\n",
    " - **No requirement of linearity** of the relationship between the response and predictor \n",
    " - **No requirement of homoskedasticity** of the response variable.\n",
    "\n",
    "Other key differences in the underlying assumptions, which are less obvious include:\n",
    "\n",
    "  - The distribution of $\\theta$ is **a Bernoulli distribution**, rather than a Gaussian (normal) distribution.\n",
    "  \n",
    "  - Logistic regression makes **no particular assumptions about the distribution of the model residuals**.\n",
    "  \n",
    "On the other hand, some other assumptions of linear regression hold here too:\n",
    "\n",
    "  - Logistic regression requires the observations to be **independent** of each other.  \n",
    "  - Logistic regression requires there to be little or **no multicollinearity** among the independent variables.\n",
    "  \n",
    "  For more on multicollinearity, see Multicollinearity, (n.d.): https://en.wikipedia.org/wiki/Multicollinearity"
   ]
  },
  {
   "cell_type": "markdown",
   "metadata": {},
   "source": [
    "### Fitting the logistic regression model"
   ]
  },
  {
   "cell_type": "markdown",
   "metadata": {},
   "source": [
    "<br>\n",
    "\n",
    "There is a substantial difference between the methods used to fit linear and logistic regression models: \n",
    "\n",
    "  - The linear regression the model parameters are estimated by **minimizing the sum of squares of model residuals**.\n",
    "  - The logistic regression model parameters are estimated by **maximizing the probability of obtaining the set of observations of binary response $y$**, given the parameter estimates. \n",
    "    \n",
    "This latter procedure is called **maximum likelihood estimation**. \n",
    "\n",
    "If you are interested, its thorough explanation can be found here (Weisstein, E. W., 2018): http://mathworld.wolfram.com/MaximumLikelihood.html. \n",
    "\n",
    "Its application to fiting the logistic regression models is further described here (Czepiel, S.A., 1999): https://czep.net/stat/mlelr.html.\n",
    "\n",
    "<br>\n",
    "\n",
    "#### Newton method\n",
    "\n",
    "The parameters maximizing the likelihood are typically identified through an iterative process called **Newton method**, which starts with a tentative solution - a set of initial parameter estimates of $\\beta$. These estimates are then improved by repetitively applying the following two steps:\n",
    "\n",
    "  1.  Solution revised slightly, to test if it can be improved. \n",
    "  2.  If improved, revised solution is adopted as a candidate solution instead of the previous one. \n",
    "  \n",
    "This process is repeated until no more improvement is made, at which point the process is said to have converged. The resulting set of parameter estimates is then called **optimal**.\n",
    "\n",
    "There are two **important practical consequences** of this approach:\n",
    "\n",
    "  1. Estimation of logistic regression parameters is typically fairly slow (i.e. - requires much more computational time than is the case of linear regression).\n",
    "  2. Accurate estimation of logistic regression parameters requires larger amount of observation as compared to linear regression. **The rule of ten** states (without any scientific rigor) that logistic regression models requires a minimum of about 10 observations per predictor variable.\n"
   ]
  },
  {
   "cell_type": "markdown",
   "metadata": {},
   "source": [
    "## EXERCISE 1:"
   ]
  },
  {
   "cell_type": "markdown",
   "metadata": {},
   "source": [
    "With the dataset provided in the file 'ucla_binary.csv', use logistic regression to estimate whether a student will be admited to the university using the **student's GPA** and **GRE score** along with the **rank** indicating the prestige of the student's undergraduate institution."
   ]
  },
  {
   "cell_type": "code",
   "execution_count": null,
   "metadata": {},
   "outputs": [],
   "source": [
    "# Import libraries\n",
    "import pandas as pd\n",
    "import numpy as np\n",
    "import matplotlib.pyplot as plt\n",
    "\n"
   ]
  },
  {
   "cell_type": "code",
   "execution_count": null,
   "metadata": {},
   "outputs": [],
   "source": [
    "# And some function we will need\n",
    "from statsmodels.discrete.discrete_model import Logit\n",
    "from scipy.special import logit"
   ]
  },
  {
   "cell_type": "code",
   "execution_count": null,
   "metadata": {},
   "outputs": [],
   "source": [
    "# Read the data\n",
    "df = pd.read_csv(\"./ucla_binary.csv\")\n"
   ]
  },
  {
   "cell_type": "code",
   "execution_count": null,
   "metadata": {},
   "outputs": [],
   "source": [
    "# your work here"
   ]
  },
  {
   "cell_type": "code",
   "execution_count": null,
   "metadata": {},
   "outputs": [],
   "source": []
  },
  {
   "cell_type": "code",
   "execution_count": null,
   "metadata": {},
   "outputs": [],
   "source": []
  },
  {
   "cell_type": "markdown",
   "metadata": {},
   "source": [
    "#### Solution"
   ]
  },
  {
   "cell_type": "code",
   "execution_count": null,
   "metadata": {},
   "outputs": [],
   "source": []
  },
  {
   "cell_type": "code",
   "execution_count": null,
   "metadata": {},
   "outputs": [],
   "source": []
  },
  {
   "cell_type": "code",
   "execution_count": null,
   "metadata": {},
   "outputs": [],
   "source": []
  },
  {
   "cell_type": "code",
   "execution_count": null,
   "metadata": {},
   "outputs": [],
   "source": [
    "# Let's take a look on the first few rows\n",
    "df.head()"
   ]
  },
  {
   "cell_type": "code",
   "execution_count": null,
   "metadata": {},
   "outputs": [],
   "source": [
    "# Let's take a look on the statisics across individual columns\n",
    "df.describe()"
   ]
  },
  {
   "cell_type": "code",
   "execution_count": null,
   "metadata": {},
   "outputs": [],
   "source": [
    "# Plot the histograms of the individual columns\n",
    "df.hist(figsize=(7,5))\n",
    "plt.show()"
   ]
  },
  {
   "cell_type": "markdown",
   "metadata": {},
   "source": [
    "Rank is ordinal variable. Here, we will convert to set of dummies which will then be used as a predictors in our logistic regression model."
   ]
  },
  {
   "cell_type": "code",
   "execution_count": null,
   "metadata": {},
   "outputs": [],
   "source": [
    "dummy_ranks = pd.get_dummies(df['rank'], prefix='rank')\n",
    "df = df.join(dummy_ranks)"
   ]
  },
  {
   "cell_type": "markdown",
   "metadata": {},
   "source": [
    "Now we can fit the model"
   ]
  },
  {
   "cell_type": "code",
   "execution_count": null,
   "metadata": {},
   "outputs": [],
   "source": [
    "# Fit the model\n",
    "predictors = ['gpa', 'gre', 'rank_1', 'rank_2', 'rank_3', 'rank_4']\n",
    "m = Logit(df['admit'], df[predictors])\n",
    "m = m.fit()"
   ]
  },
  {
   "cell_type": "markdown",
   "metadata": {},
   "source": [
    "Let's take a look on the resulting regression parameters."
   ]
  },
  {
   "cell_type": "code",
   "execution_count": null,
   "metadata": {},
   "outputs": [],
   "source": [
    "m.params"
   ]
  },
  {
   "cell_type": "markdown",
   "metadata": {},
   "source": [
    "And let's take a look on the model summary. \n",
    "Don't worry about all of the values you see below - the meaning of some of the values will be discussed later."
   ]
  },
  {
   "cell_type": "code",
   "execution_count": null,
   "metadata": {},
   "outputs": [],
   "source": [
    "print(m.summary2())"
   ]
  },
  {
   "cell_type": "markdown",
   "metadata": {},
   "source": [
    "Now, let's derive the estimates of the odds."
   ]
  },
  {
   "cell_type": "code",
   "execution_count": null,
   "metadata": {},
   "outputs": [],
   "source": [
    "df.loc[:, 'p'] = m.predict(df[predictors])"
   ]
  },
  {
   "cell_type": "markdown",
   "metadata": {},
   "source": [
    "We can now plot the relationship between the values of logit(p) and odds (p) along the actual values of the response (admission)."
   ]
  },
  {
   "cell_type": "code",
   "execution_count": null,
   "metadata": {},
   "outputs": [],
   "source": [
    "df = df.sort_values(by = ['p'], axis = 0)\n",
    "plt.plot(logit(df.p), df.p, '--')\n",
    "plt.plot(logit(df.p), df.admit, '+')\n",
    "plt.xlabel('logit(p)')\n",
    "plt.ylabel('p')\n",
    "plt.show()"
   ]
  },
  {
   "cell_type": "markdown",
   "metadata": {},
   "source": [
    "We can also plot the boxplot to see the distribution of the estimated odds for the both value of the actual response."
   ]
  },
  {
   "cell_type": "code",
   "execution_count": null,
   "metadata": {},
   "outputs": [],
   "source": [
    "df.boxplot(column='p', by = 'admit')\n",
    "plt.show()"
   ]
  },
  {
   "cell_type": "markdown",
   "metadata": {},
   "source": [
    "Now we wil derive the binary estimates $\\hat{y}$ of the response $y$."
   ]
  },
  {
   "cell_type": "code",
   "execution_count": null,
   "metadata": {},
   "outputs": [],
   "source": [
    "df.loc[:, 'yhat'] = (df.p > 0.5) * 1\n",
    "df.yhat.value_counts()"
   ]
  },
  {
   "cell_type": "markdown",
   "metadata": {},
   "source": [
    "Now we can create was is called a **confusion matrix** to see how well our estimates match the actual values."
   ]
  },
  {
   "cell_type": "code",
   "execution_count": null,
   "metadata": {},
   "outputs": [],
   "source": [
    "pd.crosstab(df.admit, df.yhat)"
   ]
  },
  {
   "cell_type": "markdown",
   "metadata": {},
   "source": [
    "In the confusion matrix above, we see that we have 254 cases when student was correctly estimated to be not admitted and 30 cases when student was correctly estimated to be admitted. The remaining 97 + 19 estimates were incorrect."
   ]
  },
  {
   "cell_type": "code",
   "execution_count": null,
   "metadata": {},
   "outputs": [],
   "source": [
    "# More straightforward way\n",
    "m.pred_table()"
   ]
  },
  {
   "cell_type": "markdown",
   "metadata": {},
   "source": [
    "---"
   ]
  },
  {
   "cell_type": "markdown",
   "metadata": {},
   "source": [
    "<a id=\"Understanding_Regression_Output_from_Software\"></a>\n",
    "\n",
    "## Understanding Regression Output from Sofware"
   ]
  },
  {
   "cell_type": "markdown",
   "metadata": {},
   "source": [
    "<br>\n",
    "\n",
    "Similar to linear regression, most software provides a standardized summary of the logistic regression analysis. This typically contains several measures for the evaluation of the performed regression. \n",
    "\n",
    "The summary is usually very similar to that of linear regression (discussed in the previous module). However, there are several notable differences. Let's take a look at them.\n"
   ]
  },
  {
   "cell_type": "markdown",
   "metadata": {},
   "source": [
    "We will print summary of the model from the previous exercise."
   ]
  },
  {
   "cell_type": "code",
   "execution_count": null,
   "metadata": {},
   "outputs": [],
   "source": [
    "print (m.summary2())"
   ]
  },
  {
   "cell_type": "markdown",
   "metadata": {},
   "source": [
    "  - **Converged** indicates whether the solver - the algorithm used to find the regression parameters (per default it is a Newton method) converged successfully. In a very plain words, it indicates whether the regression analysis was cussefull, or failed.\n",
    "  \n",
    "  - **No. Iterations** is the number of iterations the solver needed to find he solution.\n",
    "  \n",
    "  - **Pseudo R-squared** is one of the measures for assessment of the model quality. For more details, see following section.\n",
    "  \n",
    "  - **LL-null** is log-likelihood of the null model, i.e. the model without predictors, where $\\text{logit}(p) = \\beta_0$. \n",
    "  \n",
    "  - **Scale** is the scale parameter for the covariance matrix. For more details see Rodríguez, G. (2007) for an example: http://data.princeton.edu/wws509/notes/c3.pdf\n",
    "  \n",
    "  - **z** is the value of the **z-statistic**, which is calculated as:\n",
    " \n",
    " <center>$z_{\\hat{\\beta}} = \\frac{\\hat{\\beta} - \\beta_0}{s.e.(\\hat{\\beta})}$</center>\n",
    " \n",
    " where $\\beta_0$ are null value against which we are testing the coefficient estimate. In this case (and in most cases) they are equal to zero.\n",
    " \n",
    " \n",
    " - **P > $|$z$|$** - is the p-value associated with the given parameter, i.e. the probability that the true value of the given regression parameter is equal to the null value, given the set of observations."
   ]
  },
  {
   "cell_type": "markdown",
   "metadata": {},
   "source": [
    "<a id=\"Evaluation_of_the_Logistic_Regression_Model\"></a>\n",
    "\n",
    "## Evaluation of the Logistic Regression Model"
   ]
  },
  {
   "cell_type": "markdown",
   "metadata": {},
   "source": [
    "<br>\n",
    "\n",
    "As we said before, the response in logistic regression is a categorical variable, which means that $R^2$ and RMSE are not of use here. When evaluating the logistic regression models, we want to assess how well the estimates for $\\hat{y}$ match the actual values of $y$. \n",
    "\n",
    "Here, we describe several measures for evaluation of logistic regression. Many of these are the subject of a much broader topic, know as **evaluation of binary classifiers**. \n",
    "\n",
    "**NOTE:** There are numerous other measures and approaches that are used to assess the logistic regression."
   ]
  },
  {
   "cell_type": "markdown",
   "metadata": {},
   "source": [
    "<br>\n",
    "\n",
    "#### Pseudo R-squared\n",
    "\n",
    "In analogy to the coefficient of determination $R^2$ of the linear regression that measures the amount of variance captured by the model, logistic regression can be evaluated by the pseudo $R^2$. The word pseudo here is meant to highlight the fact that the it is not an actual fraction of variance. There is currently no agreement upon how to formulate the best analogous measure of $R^2$ for logistic regression analysis. Therefore, there are multiple competing measures, commonly denoted as a pseudo $R^2$. \n",
    "\n",
    "The most common formulations include:\n",
    "\n",
    "  - Efron's $R^2$: \n",
    "  \n",
    "    $R^2 = 1 - \\frac{\\sum_i^N (y_i - p_i)^2}{\\sum_i^N (y_i - \\bar{y})^2}$\n",
    "    \n",
    "    where:\n",
    "    \n",
    "      - $y_i$ is the actual value of the $i$-th respone \n",
    "      - $\\bar{y}$ is the mean of the response (i.e. fraction of y = 1)\n",
    "      - $N$ is the number of observations\n",
    "      - $p_i$ is the predicted odds of the $i$-th response\n",
    "      \n",
    "      \n",
    "  - Cox and Snell's $R^2$:\n",
    "  \n",
    "    $R^2 = 1 - \\Bigg(\\frac{L_M}{L_0}\\Bigg)^{\\frac{2}{n}}$\n",
    "    \n",
    "    where:\n",
    "    \n",
    "      - $L_M$ is the log-likelihood of the actual model\n",
    "      - $L_0$ is the log-likelihood of the null model\n",
    "      \n",
    "      \n",
    "  - McFaddends $R^2$:\n",
    "  \n",
    "    $R^2 = 1 - \\Bigg(\\frac{\\text{ln}(L_M)}{\\text{ln}(L_0)}\\Bigg)$\n",
    "    \n",
    "    where:\n",
    "    \n",
    "      - $L_M$ is the log-likelihood of the actual model\n",
    "      - $L_0$ is the log-likelihood of the null model      \n"
   ]
  },
  {
   "cell_type": "markdown",
   "metadata": {},
   "source": [
    "<br>\n",
    "\n",
    "#### Confusion matrix\n",
    "\n",
    "**Confusion matrix** is a matrix comprising two rows and two columns:\n",
    "\n",
    "|                        |  $\\mathbf{\\hat{y} = 0}$ |  $\\mathbf{\\hat{y} = 1}$  |\n",
    "| -----------------------| ------ -----------| ------------------ |\n",
    "| $\\mathbf{y = 0}$       |      **TN**       |        **FP**      |\n",
    "| $\\mathbf{y = 1}$       |      **FN**       |        **TP**      |\n",
    "|                        |\t                 |                    |\n",
    "\n",
    "where:\n",
    "\n",
    " - **TP** (**true positives**) is the number of cases where estimated value and actual value were both equal to 1.\n",
    " - **FP** (**false positives**) is the number of cases where estimated value was qual to 1, while the actual value was equal to 0\n",
    " - **FN** (**false negatives**) is the number of cases where estimated value was qual to 0, while the actual value was equal to 1\n",
    " - **TN**  (**true negaives**) is the number of cases where estimated value and actual value were both equal to 0.\n",
    " \n",
    "An example of a true positive case could be a spam email that was correctly moved to a spam box by the filtering algorithm. Similarly, a true negative case would be a regular email that was not moved to spam.\n",
    " "
   ]
  },
  {
   "cell_type": "markdown",
   "metadata": {},
   "source": [
    "#### Statistical accurracy \n",
    " \n",
    "Naturally, the better the model the greater number of true positives and true negative, while lower the number of false positives and false negatives. This notion can be embedded into a following formula:\n",
    "\n",
    "<center>$\\text{ACC} = \\frac{\\text{TP} + \\text{TN}}{\\text{TP} + \\text{FP} + \\text{FN} + \\text{TN}}$</center>\n",
    "\n",
    "which can be then simplified to:\n",
    "\n",
    "<center>$\\text{ACC} = \\frac{\\text{TP} + \\text{TN}}{N}$</center>\n",
    "\n",
    "where, \n",
    "\n",
    " - ACC is **statistical accuracy** of the model\n",
    " - TP and TN are numbers of true positives and true negates, respectively\n",
    " - FP and FN are numbers of false positives and false negates, respectively\n",
    " - N is the total number of observations\n",
    " \n",
    "\n",
    "The statistical accuracy, or simply **accuracy** of the logistic regression, is the most prominent measure for evaluation of the logistic regression models. The value of accuracy range from 0 to 1, but accuracy is frequently reported as percentage."
   ]
  },
  {
   "cell_type": "markdown",
   "metadata": {},
   "source": [
    "#### A word of caution with statistical accuracy\n",
    "\n",
    "Accuracy can be a very misleading indicator of the logistic regression model, if the number of positive ($y = 1$) and negative cases ($y = 0$) is highly unbalanced. Imagine the cases where out of 100 cases only 5 are positive. Then, even the trivial regression model ($\\beta = 0$) whose estimates $\\widehat{y}$ are always equal zero will achieve 95% accuracy."
   ]
  },
  {
   "cell_type": "markdown",
   "metadata": {},
   "source": [
    "<br>\n",
    "\n",
    "#### Matthews correlation coefficient (MCC)\n",
    "\n",
    "A common alternative to statistical accuracy is **Matthews correlation coefficient (MCC)**, which is defined as:\n",
    "\n",
    "<br>\n",
    "\n",
    "<center>$\\text{MCC} = \\frac{TP \\times TN - FP \\times FN}{\\sqrt{(TP + FP)(TP + FN)(TN + FP)(TN + FN)}}$</center>\n",
    "\n",
    "The advantage of MCC over ACC is its robustness against the unbalanced binary response $y$. Its obvious disadvantage is that it is harder to interpret as compared to ACC."
   ]
  },
  {
   "cell_type": "markdown",
   "metadata": {},
   "source": [
    "<br>\n",
    "\n",
    "#### Precision, recall, specificity and F-score\n",
    "\n",
    "**Precision** (also known as positive predictive value) is the fraction of correct estimates of the all positive estimates:\n",
    "\n",
    "<center>$\\text{Precision} = \\frac{\\text{TP}}{\\text{TP} + \\text{FP}}$</center>\n",
    "\n",
    "**Recall** (also known as true positive rate, or **sensitivity**) is the fraction of correct estimates of the postive response:\n",
    "\n",
    "<center>$\\text{Recall} = \\frac{\\text{TP}}{\\text{TP} + \\text{FN}}$</center>\n",
    "\n",
    "**Specificity** (also known as true negative rate) is the fraction of correct estimates of the negative response:\n",
    "\n",
    "<center>$\\text{Specificity} = \\frac{\\text{TN}}{\\text{TN} + \\text{FP}}$</center>\n",
    "\n",
    "**F1-score** (sometimes called F-measure, or Dice coefficient) is the harmonic mean of the precision and recall:\n",
    "\n",
    "<center>$F_1 = 2\\cdot\\frac{\\text{Precision}\\cdot\\text{Recall}}{\\text{Precision} + \\text{Recall}}$</center>\n",
    "\n",
    "In some cases, we may put more emphasize on either precision, or recall, which can be done as follows:\n",
    "\n",
    "<center>$F_\\beta = (1 + \\beta^2)\\cdot\\frac{\\text{Precision}\\cdot\\text{Recall}}{\\beta^2 \\cdot\\text{Precision} + \\text{Recall}}$</center>\n",
    "\n",
    "where $\\beta$ (non-negative real value) is a weighting factor, which indicate how much importance we give recall over precision ($\\beta$ attaches $\\beta$ times as much importance to recall as precision).\n",
    "\n",
    "\n",
    "**Importantly**, *precision, recall and F-score require only true positives, false positives, false negatives, but not true negatives.* This allows their utilization in cases we have certainity about the response only if positive. This plays an important role some applications (see following example).\n",
    "\n",
    "#### Example: \n",
    "\n",
    "Imagine $y$ is a binary response indicating whether two chemicals react.\n",
    "\n",
    "- $y=1$ indicates the reaction of the two chemicals was experimentally validated\n",
    "- $y=0$ indicates otherwise\n",
    "\n",
    "However, we cannot be sure that the given two chemicals **do not** react, as there is an option that their reaction has never been tested. \n",
    "\n",
    "Accuracy, and MCC, cannot be used here, they require a statistic about true negatives, which in this case cannot be obtained."
   ]
  },
  {
   "cell_type": "markdown",
   "metadata": {},
   "source": [
    "## EXERCISE 2:"
   ]
  },
  {
   "cell_type": "markdown",
   "metadata": {},
   "source": [
    "Evaluate the logistic regression model from the previous exercise using the statistical accuracy, MCC, precision, recall, etc."
   ]
  },
  {
   "cell_type": "code",
   "execution_count": null,
   "metadata": {},
   "outputs": [],
   "source": [
    "#your work here"
   ]
  },
  {
   "cell_type": "code",
   "execution_count": null,
   "metadata": {},
   "outputs": [],
   "source": []
  },
  {
   "cell_type": "code",
   "execution_count": null,
   "metadata": {},
   "outputs": [],
   "source": []
  },
  {
   "cell_type": "code",
   "execution_count": null,
   "metadata": {},
   "outputs": [],
   "source": []
  },
  {
   "cell_type": "markdown",
   "metadata": {},
   "source": [
    "#### Solution"
   ]
  },
  {
   "cell_type": "markdown",
   "metadata": {},
   "source": [
    "Let's begin with the confusion matrix"
   ]
  },
  {
   "cell_type": "code",
   "execution_count": null,
   "metadata": {},
   "outputs": [],
   "source": [
    "conf_mat = m.pred_table()\n",
    "print (conf_mat)"
   ]
  },
  {
   "cell_type": "markdown",
   "metadata": {},
   "source": [
    "Now we can extract the TP, FP, FN and TP"
   ]
  },
  {
   "cell_type": "code",
   "execution_count": null,
   "metadata": {},
   "outputs": [],
   "source": [
    "tn, fp, fn, tp = conf_mat.flatten()\n",
    "print (tn, fp, fn, tp)"
   ]
  },
  {
   "cell_type": "markdown",
   "metadata": {},
   "source": [
    "Finally, we can calculate the accuracy, MCC, etc.."
   ]
  },
  {
   "cell_type": "code",
   "execution_count": null,
   "metadata": {},
   "outputs": [],
   "source": [
    "acc = (tp + tn) / np.sum(conf_mat)\n",
    "print (\"Accuraccy of the model is: %1.2f\" % acc)"
   ]
  },
  {
   "cell_type": "code",
   "execution_count": null,
   "metadata": {},
   "outputs": [],
   "source": [
    "mcc = (tp * tn - fp * fn)/np.sqrt((tp + fp)*(tp + fn)*(tn + fp)*(tn + fn))\n",
    "print (\"Mathews correlation coefficient between the estimates and the true response is: %1.2f\" % mcc)"
   ]
  },
  {
   "cell_type": "code",
   "execution_count": null,
   "metadata": {},
   "outputs": [],
   "source": [
    "prc = tp / (tp + fp)\n",
    "rec = tp / (tp + fn)\n",
    "print (\"Model's precision is %1.2f and it's recall is %1.2f\" % (prc, rec))"
   ]
  },
  {
   "cell_type": "markdown",
   "metadata": {},
   "source": [
    "---"
   ]
  },
  {
   "cell_type": "markdown",
   "metadata": {},
   "source": [
    "<a id=\"Receiver_Operating_Characteristic\"></a>\n",
    "\n",
    "## Receiver Operating Characteristic"
   ]
  },
  {
   "cell_type": "markdown",
   "metadata": {},
   "source": [
    "The **Reciever Operating Characteristic (ROC)** is a graphical, yet very powerful way for evaluation of the logistic regression model. A ROC plot illustrates the relationship between the **true positive rate (TPR)** (**Sensitivity**) and the **false positive rate (FPR)** (1 - **specificity**) at various discrimination threshold settings.\n",
    "\n",
    "For each discrimination threshold, $d_{th}$ we will obtain a different set of estimates $\\widehat{y}$. Sequentialy increasing the discrimination threshold from $0$ to $1$, we will obtain an increasing fraction of $\\widehat{y} = 0$ estimates. \n",
    "\n",
    "For each set of estimates, we calculate the sensitivity and specificity. We can then plot the dependence of sensitivity on 1 - specificity. \n",
    "\n",
    "This way we obtained what is called the **Receiver Operating Characteristics** curve. \n",
    "\n",
    "Typically, the curve look like the Figure below - an arch bending above the identity line (thin diagonal line)."
   ]
  },
  {
   "cell_type": "markdown",
   "metadata": {},
   "source": [
    "Image source: Roccurves.png (2006) https://commons.wikimedia.org/wiki/File:Roccurves.png\n",
    "![title](./ROC_curve.png \"Visual interpretation\")"
   ]
  },
  {
   "cell_type": "markdown",
   "metadata": {},
   "source": [
    "Sensitivity and (1- Specificity) define what is called a **ROC space**. The top-left corner of the ROC space is often referred to as the **error-free point**. This is the point at which both sensitivity and specificity would be equal to 1, i.e. all the estimates would be correct (either true positives or true negatives) and there would be no false positives, nor false negatives. In practice, no ROC curve can achieve the error-free point, but **the closer to the error-free point the ROC curves goes, the better the model.**.\n",
    "\n",
    "  - The model that generates estimates at random is expected to produce ROC curve identical to the identity line. \n",
    "  \n",
    "  \n",
    "  - The model that produces ROC below the identity line is generating estimates that are worse than random. **Note:** estimates of such a consistently bad predictor could simply be inverted to obtain a good predictor.\n",
    "  \n",
    "There are various quantifying parameters summarizing the information comprised in the ROC. \n",
    "\n",
    "These include: **area under ROC curve** and **Youden's J**."
   ]
  },
  {
   "cell_type": "markdown",
   "metadata": {},
   "source": [
    "#### Area Under ROC Curve (AUROC)"
   ]
  },
  {
   "cell_type": "markdown",
   "metadata": {},
   "source": [
    "Integrating the ROC curve we will obtain what is called the **area under the the receiver operating characteristics curve (AUROC)** (often abbreviated simply as area under curve **AUC**, sometime called also c-statitics, or a-prime). \n",
    "\n",
    "*The AUC is equal to the probability that a model will estimate a randomly chosen binary response better than a random estimator.* \n",
    "\n",
    "The greater the AUC value, the better the model. \n",
    "\n",
    "  - The model whose estimates are generated at random is expected to result in $\\text{AUC} = 0.5$ (area under the identity line).\n",
    "  \n",
    "  \n",
    "  - The model that produces the $\\text{AUC} < 0.5$ performs worse than a random estimator.\n",
    "  \n",
    "AUROC is a very powerful measure for evaluation of the discrimination ability of the logistic regression models. *Its advantage over the measures that were decribed previously (MCC, Accuracy, etc.) stems from the fact that it is independent of the particular choice of discrimination threshold and evaluates the model's overall capacity to discriminate between positive and negative responses across all possible thresholds.*."
   ]
  },
  {
   "cell_type": "markdown",
   "metadata": {},
   "source": [
    "#### Youden's J"
   ]
  },
  {
   "cell_type": "markdown",
   "metadata": {},
   "source": [
    "The point on the ROC curve that is closest to the **error-free point** (0,1) is the point *where the sum of sensitivity and specificity is maximimal.* \n",
    "\n",
    "Therefore, the discrimination threshold corresponding to that point is often considered to be the **optimal threshold**. The vertical distance beween this point and the identity line is called **Youden's J**: \n",
    "\n",
    "Image Source: Roc Curve Youden J.png (2014), https://commons.wikimedia.org/wiki/File:ROC_Curve_Youden_J.png\n",
    "![title](./ROC_Curve_Youden_J.png \"Youden J visualisation\")\n",
    "\n",
    "Youden's J is and important measure characterizing *to what extend the sensitivity and specificity of the model can be maximized by optimal choice of the threshold*. \n",
    "\n",
    "Mathematically, Youden's can be expressed by means of sensitivity and specificity as follows:\n",
    "\n",
    "<center>$J = \\text{max}\\{\\text{sensitivity} + \\text{specificity} - 1\\}$</center>"
   ]
  },
  {
   "cell_type": "markdown",
   "metadata": {},
   "source": [
    "#### Point of balance\n",
    "\n",
    "The intercept of the ROC curve with the diagonal line going from top left corner to bottom right corner, indicates the point of the ROC curve where specificity equals sensitivity. The corresponding value of the discrimination threshold is also often considered optimal. The product of specificity and sensitivity is another important measure evaluating the logistic regression model."
   ]
  },
  {
   "cell_type": "markdown",
   "metadata": {},
   "source": [
    "<br>\n",
    "\n",
    "## EXERCISE 3:"
   ]
  },
  {
   "cell_type": "markdown",
   "metadata": {},
   "source": [
    "  - Generate receiver operting characteristics (ROC) of the logistic regression model from the previous exercises. \n",
    "  - Calculate the area under the ROC curve\n",
    "  - Identify the point where model's sensitivity equal its specificity\n",
    "  - Identify the point that maximizes the sum of sensivity and specificity\n",
    "  - Idenfity the point corresponding to the default descrimination threshold ($d_{th} = 0.5$)"
   ]
  },
  {
   "cell_type": "code",
   "execution_count": null,
   "metadata": {},
   "outputs": [],
   "source": [
    "#your work here"
   ]
  },
  {
   "cell_type": "code",
   "execution_count": null,
   "metadata": {},
   "outputs": [],
   "source": []
  },
  {
   "cell_type": "code",
   "execution_count": null,
   "metadata": {},
   "outputs": [],
   "source": []
  },
  {
   "cell_type": "code",
   "execution_count": null,
   "metadata": {},
   "outputs": [],
   "source": []
  },
  {
   "cell_type": "markdown",
   "metadata": {},
   "source": [
    "#### Solution"
   ]
  },
  {
   "cell_type": "markdown",
   "metadata": {},
   "source": [
    "We will first generate the ROC curve. For the set of pre-specified discrimination threshold, we will calculate sensitivity and specificity. \n",
    "\n",
    "We will also calculate the accuracy and MCC which we will use in the following exercise."
   ]
  },
  {
   "cell_type": "code",
   "execution_count": 29,
   "metadata": {},
   "outputs": [
    {
     "name": "stderr",
     "output_type": "stream",
     "text": [
      "/anaconda3/envs/New-Course/lib/python3.6/site-packages/ipykernel_launcher.py:24: RuntimeWarning: invalid value encountered in double_scalars\n"
     ]
    }
   ],
   "source": [
    "# Set discrimination thresholds\n",
    "ths = np.arange(0., 1.0, 0.025)\n",
    "\n",
    "# Containers\n",
    "sensitivity = []\n",
    "specificity = []\n",
    "accuracy = []\n",
    "matthews = []\n",
    "\n",
    "# Main loop\n",
    "for th in ths:\n",
    "    # Generate estimates\n",
    "    conf_mat = m.pred_table(threshold=th)\n",
    "    \n",
    "    # Extract TN, FP, ...\n",
    "    tn, fp, fn, tp = conf_mat.flatten()\n",
    "    \n",
    "    # Calculate sensitivity and specificity\n",
    "    sens = (1. * tp) / (tp + fn)\n",
    "    spec = (1. * tn) / (tn + fp)    \n",
    "    \n",
    "    # Calculate ACC and MCC\n",
    "    acc = (tp + tn) / np.sum(conf_mat)\n",
    "    mcc = (tp * tn - fp * fn)/np.sqrt((tp + fp)*(tp + fn)*(tn + fp)*(tn + fn))    \n",
    "\n",
    "    # Add to containers\n",
    "    sensitivity.append(sens)\n",
    "    specificity.append(spec)\n",
    "    accuracy.append(acc)\n",
    "    matthews.append(mcc)"
   ]
  },
  {
   "cell_type": "code",
   "execution_count": 30,
   "metadata": {},
   "outputs": [],
   "source": [
    "# Bind all the numbers together\n",
    "roc = pd.DataFrame({'discret_thr' : ths, \n",
    "                    'sensitivity' : sensitivity, \n",
    "                    'specificity' : specificity,\n",
    "                    '_specificity' : [1 - x for x in specificity],\n",
    "                    'accuracy' : accuracy, \n",
    "                    'matthews' : matthews})\n",
    "\n",
    "# Sort by 1 - specificity so we can plot it easily\n",
    "roc = roc.sort_values(by = \"_specificity\")"
   ]
  },
  {
   "cell_type": "markdown",
   "metadata": {},
   "source": [
    "Now we can plot the ROC curve."
   ]
  },
  {
   "cell_type": "code",
   "execution_count": 31,
   "metadata": {},
   "outputs": [
    {
     "data": {
      "text/plain": [
       "<matplotlib.legend.Legend at 0x1a1a15f908>"
      ]
     },
     "execution_count": 31,
     "metadata": {},
     "output_type": "execute_result"
    },
    {
     "data": {
      "image/png": "[encoded data removed]",
      "text/plain": [
       "<Figure size 432x288 with 1 Axes>"
      ]
     },
     "metadata": {
      "needs_background": "light"
     },
     "output_type": "display_data"
    }
   ],
   "source": [
    "plt.plot(roc._specificity, roc.sensitivity, label = 'ROC')\n",
    "plt.plot(np.arange(0., 1., 0.01), \n",
    "         np.arange(0., 1., 0.01), \n",
    "         '--')\n",
    "\n",
    "plt.legend(loc = 4)"
   ]
  },
  {
   "cell_type": "markdown",
   "metadata": {},
   "source": [
    "We will calculate the AUC, by integrating the sensitivity as a function of 1 - specificity"
   ]
  },
  {
   "cell_type": "code",
   "execution_count": 33,
   "metadata": {},
   "outputs": [
    {
     "name": "stdout",
     "output_type": "stream",
     "text": [
      "Area under ROC curve = 0.69\n"
     ]
    }
   ],
   "source": [
    "auc = np.trapz(y = roc.sensitivity, x = roc._specificity)\n",
    "print (\"Area under ROC curve = %1.2f\" % auc)"
   ]
  },
  {
   "cell_type": "markdown",
   "metadata": {},
   "source": [
    "We can now identify the threshold corresponding to the balanced sensitivity and specificity as well as the threshold corresponding to the balanced specificity and sensitivity. "
   ]
  },
  {
   "cell_type": "code",
   "execution_count": 36,
   "metadata": {},
   "outputs": [],
   "source": [
    "# Where threshold equal 0.5\n",
    "idx_default_th = np.where(roc.discret_thr == 0.5)[0][0]\n",
    "\n",
    "# Max sum of spec and sens\n",
    "idx_youdensj = np.argmax(roc.sensitivity + roc.specificity)\n",
    "\n",
    " # Ballanced spec and sens\n",
    "idx_ballance = np.argmin(np.abs(roc.sensitivity - roc.specificity))"
   ]
  },
  {
   "cell_type": "markdown",
   "metadata": {},
   "source": [
    "Now we will highlight the point corresponding to the selected thresholds within the ROC curve."
   ]
  },
  {
   "cell_type": "code",
   "execution_count": null,
   "metadata": {},
   "outputs": [],
   "source": [
    "plt.plot(roc._specificity, roc.sensitivity, label = 'ROC')\n",
    "\n",
    "plt.plot(np.arange(0., 1., 0.01), \n",
    "         np.arange(0., 1., 0.01), \n",
    "         '--')\n",
    "\n",
    "plt.plot(roc._specificity[idx_default_th], \n",
    "         roc.sensitivity[idx_default_th], \n",
    "         's', color = 'blue',\n",
    "         label = 'Default')\n",
    "\n",
    "plt.plot(roc._specificity[idx_youdensj], \n",
    "         roc.sensitivity[idx_youdensj], \n",
    "         's', color = 'red',\n",
    "         label = 'Max(Spec. + Sens.)')\n",
    "\n",
    "plt.plot(roc._specificity[idx_ballance], \n",
    "         roc.sensitivity[idx_ballance], \n",
    "         's', color = 'green', \n",
    "         label = 'Spec. = Sens.')\n",
    "\n",
    "\n",
    "plt.legend(loc = 4)\n",
    "plt.xlabel('1 - Specificity')\n",
    "plt.ylabel('Sensitivity')\n",
    "plt.show()"
   ]
  },
  {
   "cell_type": "markdown",
   "metadata": {},
   "source": [
    "Now we can take a look at the confusion matrix at different points of the ROC curve."
   ]
  },
  {
   "cell_type": "code",
   "execution_count": 37,
   "metadata": {},
   "outputs": [
    {
     "data": {
      "text/plain": [
       "array([[216.,  57.],\n",
       "       [ 62.,  65.]])"
      ]
     },
     "execution_count": 37,
     "metadata": {},
     "output_type": "execute_result"
    }
   ],
   "source": [
    "m.pred_table(threshold=roc.discret_thr[idx_youdensj])"
   ]
  },
  {
   "cell_type": "code",
   "execution_count": 38,
   "metadata": {},
   "outputs": [
    {
     "data": {
      "text/plain": [
       "array([[176.,  97.],\n",
       "       [ 48.,  79.]])"
      ]
     },
     "execution_count": 38,
     "metadata": {},
     "output_type": "execute_result"
    }
   ],
   "source": [
    "m.pred_table(threshold=roc.discret_thr[idx_ballance])"
   ]
  },
  {
   "cell_type": "markdown",
   "metadata": {},
   "source": [
    "Finally we can calculate the Youden's J"
   ]
  },
  {
   "cell_type": "code",
   "execution_count": 39,
   "metadata": {},
   "outputs": [
    {
     "name": "stdout",
     "output_type": "stream",
     "text": [
      "Youden's J = 0.30\n"
     ]
    }
   ],
   "source": [
    "J = max(roc.sensitivity + roc.specificity - 1)\n",
    "print ('Youden\\'s J = %1.2f' % J)"
   ]
  },
  {
   "cell_type": "markdown",
   "metadata": {},
   "source": [
    "<a id=\"Setting_the_Discrimination_Threshold\"></a>\n",
    "\n",
    "## Setting the Discrimination Threshold"
   ]
  },
  {
   "cell_type": "markdown",
   "metadata": {},
   "source": [
    "<br>\n",
    "\n",
    "\n",
    "The logistic regression models are always **well calibrated**, which means that *the mean of the predicted odds is equal to mean of the binary response*. \n",
    "\n",
    "Mathematically:\n",
    "\n",
    "\\begin{equation}\n",
    "    \\frac{1}{n} \\sum_i^n p_i = \\frac{1}{n} \\sum_i^n y_i\n",
    "\\end{equation}\n",
    "\n",
    "or, in a more compact form:\n",
    "\n",
    "\\begin{equation}\n",
    "    \\sum^{n}_i p_i - y_i = 0\n",
    "\\end{equation}\n",
    "\n",
    "An important consequence of this fact is that using the default **discrimination threshold** $p_{th} = 0.5$, we may sometimes obtain estimates that are quite off the actual response values and the number of predicted positives ($\\widehat{y} = 1$) can be much lower/higher than the actual number of positives ($y = 1$). In such case, we say that the model is not **discriminative**."
   ]
  },
  {
   "cell_type": "markdown",
   "metadata": {},
   "source": [
    "#### Example\n",
    "\n",
    "We can take a look at the mean of the predicted odds of the model fron the previous exercises and compare it to the mean of the actual response:"
   ]
  },
  {
   "cell_type": "code",
   "execution_count": 40,
   "metadata": {},
   "outputs": [
    {
     "name": "stdout",
     "output_type": "stream",
     "text": [
      "Odds mean: 0.32\n",
      "Response mean: 0.32\n"
     ]
    }
   ],
   "source": [
    "print ('Odds mean: %1.2f' % np.mean(df['p']))\n",
    "print ('Response mean: %1.2f' % np.mean(df['admit']))"
   ]
  },
  {
   "cell_type": "markdown",
   "metadata": {},
   "source": [
    "Now we will compare the number of predicted and true positives:"
   ]
  },
  {
   "cell_type": "code",
   "execution_count": 42,
   "metadata": {},
   "outputs": [
    {
     "name": "stdout",
     "output_type": "stream",
     "text": [
      "Predicted positives #: 49\n",
      "True positives #: 127\n"
     ]
    }
   ],
   "source": [
    "print ('Predicted positives #: %i' % np.sum(df['p'] > 0.5))\n",
    "print ('True positives #: %i' % np.sum(df['admit'] > 0.5))"
   ]
  },
  {
   "cell_type": "markdown",
   "metadata": {},
   "source": [
    "Or, we can take another look at the confusion matrix:"
   ]
  },
  {
   "cell_type": "code",
   "execution_count": 43,
   "metadata": {},
   "outputs": [
    {
     "name": "stdout",
     "output_type": "stream",
     "text": [
      "[[273.   0.]\n",
      " [127.   0.]]\n"
     ]
    }
   ],
   "source": [
    "print (conf_mat)"
   ]
  },
  {
   "cell_type": "code",
   "execution_count": 44,
   "metadata": {},
   "outputs": [
    {
     "data": {
      "text/plain": [
       "array([400.,   0.])"
      ]
     },
     "execution_count": 44,
     "metadata": {},
     "output_type": "execute_result"
    }
   ],
   "source": [
    "# Predicted negatives and positives\n",
    "conf_mat.sum(axis = 0)"
   ]
  },
  {
   "cell_type": "code",
   "execution_count": 45,
   "metadata": {},
   "outputs": [
    {
     "data": {
      "text/plain": [
       "array([273., 127.])"
      ]
     },
     "execution_count": 45,
     "metadata": {},
     "output_type": "execute_result"
    }
   ],
   "source": [
    "# Actual negatives and positives\n",
    "conf_mat.sum(axis = 1)"
   ]
  },
  {
   "cell_type": "markdown",
   "metadata": {},
   "source": [
    "<br>\n",
    "\n",
    "To tackle this issue, we may need to shift the discrimination threshold $p_{th}$ used to derive the estimates $\\hat{y}$:\n",
    "\n",
    "\n",
    "\\begin{equation}\n",
    "  \\widehat{y}_i =\n",
    "  \\begin{cases}\n",
    "    1 & \\text{if $p_i > p_{th}$}\\,, \\\\\n",
    "    0 & \\text{otherwise}\n",
    "  \\end{cases}\n",
    "\\end{equation}\n",
    "\n",
    "Shifting the discrimination threshold, we may improve the discrimination of the model. \n",
    "\n",
    "  - Lowering the threshold $p_{th}$ we are increasing the number of predicted positives ($\\widehat{y} = 1$), while increasing the threshold we are decreasing that number. \n",
    "\n",
    "  - Increasing the number of predicted positives ($\\widehat{y} = 1$) increases the chances of so called **type I error** that is **false positive rate**\n",
    "  \n",
    "  - Decreasing the number of predicted positives ($\\widehat{y} = 1$) increases the chances of so called **type II error** or **false negative rate**. \n",
    "\n",
    "**NOTE:** We must always be very careful when adjusting the discrimination threshold. The discrimination threshold can be set to maximize some of th measures we described above:\n",
    "\n",
    "  - **Maximizing accuracy** - will maximize fraction of the true estimates (TP + TF). This can be very misleading in cases when the response is very unbalanced.\n",
    "  \n",
    "  \n",
    "  - **Maximizing MCC** - will maximize the \"correspondence\" between the estimates and actual response values. \n",
    "  \n",
    "As indicated in the previous section, the discrimination threshold can be set using the **Receiver Operating Characteristic (ROC)** so that the selected threshold:\n",
    "\n",
    "  - **Maximizes the sum sensitivity and specificity** (Youden's J)\n",
    "  \n",
    "  \n",
    "  - **Balances the sensitivity and specificity** (Point of balance)\n",
    "  \n",
    "**NOTE:** maximizing the MCC will also maximize the **sum of sensitivity and specificity**. You can see this easily by comparing the formula of MCC and those for sensitivty and specificity."
   ]
  },
  {
   "cell_type": "markdown",
   "metadata": {},
   "source": [
    "## EXERCISE 4:"
   ]
  },
  {
   "cell_type": "markdown",
   "metadata": {},
   "source": [
    "Using the logistic regression model from the previous exercises:\n",
    "\n",
    "  - Plot the dependence of the accuracy and MCC on the choice of the discrimination threshold\n",
    "  \n",
    "  - Optimize the discrimination threshold to:\n",
    "\n",
    "      - Maximize the statistical accuracy of the model\n",
    "  \n",
    "      - Maximize the MCC of the model\n",
    "  \n",
    "  - Use the ROC to highlight the ROC points that corrspond to the obtained thresholds. How much does the obtained thesholds differ from the ROC points identified in the previous exercises?"
   ]
  },
  {
   "cell_type": "code",
   "execution_count": null,
   "metadata": {},
   "outputs": [],
   "source": [
    "# your work here"
   ]
  },
  {
   "cell_type": "code",
   "execution_count": null,
   "metadata": {},
   "outputs": [],
   "source": []
  },
  {
   "cell_type": "code",
   "execution_count": null,
   "metadata": {},
   "outputs": [],
   "source": []
  },
  {
   "cell_type": "code",
   "execution_count": null,
   "metadata": {},
   "outputs": [],
   "source": []
  },
  {
   "cell_type": "markdown",
   "metadata": {},
   "source": [
    "#### Solution"
   ]
  },
  {
   "cell_type": "code",
   "execution_count": 46,
   "metadata": {},
   "outputs": [
    {
     "data": {
      "image/png": "[encoded data removed]",
      "text/plain": [
       "<Figure size 432x288 with 1 Axes>"
      ]
     },
     "metadata": {
      "needs_background": "light"
     },
     "output_type": "display_data"
    }
   ],
   "source": [
    "plt.plot(roc.discret_thr, roc.accuracy, 'x-')\n",
    "plt.xlabel('Discrimination threshold')\n",
    "plt.ylabel('Accuracy')\n",
    "plt.show()"
   ]
  },
  {
   "cell_type": "code",
   "execution_count": 47,
   "metadata": {},
   "outputs": [
    {
     "data": {
      "image/png": "[encoded data removed]",
      "text/plain": [
       "<Figure size 432x288 with 1 Axes>"
      ]
     },
     "metadata": {
      "needs_background": "light"
     },
     "output_type": "display_data"
    }
   ],
   "source": [
    "plt.plot(roc.discret_thr, roc.matthews, 'x-')\n",
    "plt.xlabel('Discrimination threshold')\n",
    "plt.ylabel('MCC')\n",
    "plt.show()"
   ]
  },
  {
   "cell_type": "markdown",
   "metadata": {},
   "source": [
    "Identify the points of the ROC curve where the obtained accuracy and MCC reach the respective maxima."
   ]
  },
  {
   "cell_type": "code",
   "execution_count": 48,
   "metadata": {},
   "outputs": [],
   "source": [
    "idx_maxacc = np.argmax(roc.accuracy)\n",
    "idx_maxmcc = np.argmax(roc.matthews)"
   ]
  },
  {
   "cell_type": "code",
   "execution_count": 49,
   "metadata": {},
   "outputs": [
    {
     "data": {
      "image/png": "[encoded data removed]",
      "text/plain": [
       "<Figure size 432x288 with 1 Axes>"
      ]
     },
     "metadata": {
      "needs_background": "light"
     },
     "output_type": "display_data"
    }
   ],
   "source": [
    "plt.plot(roc._specificity, roc.sensitivity, label = 'ROC')\n",
    "\n",
    "plt.plot(np.arange(0., 1., 0.01), \n",
    "         np.arange(0., 1., 0.01), \n",
    "         '--')\n",
    "\n",
    "plt.plot(roc._specificity[idx_default_th], \n",
    "         roc.sensitivity[idx_default_th], \n",
    "         's', color = 'blue',\n",
    "         label = 'Default')\n",
    "\n",
    "plt.plot(roc._specificity[idx_youdensj], \n",
    "         roc.sensitivity[idx_youdensj], \n",
    "         's', color = 'red',\n",
    "         label = 'Max(Spec. + Sens.)')\n",
    "\n",
    "plt.plot(roc._specificity[idx_ballance], \n",
    "         roc.sensitivity[idx_ballance], \n",
    "         's', color = 'green', \n",
    "         label = 'Spec. = Sens.')\n",
    "\n",
    "plt.plot(roc._specificity[idx_maxacc], \n",
    "         roc.sensitivity[idx_maxacc], \n",
    "         's', color = 'purple',\n",
    "         label = 'Max. Accuracy')\n",
    "\n",
    "plt.plot(roc._specificity[idx_maxmcc], \n",
    "         roc.sensitivity[idx_maxmcc], \n",
    "         '^', color = 'cyan', \n",
    "         label = 'Max. MCC')\n",
    "\n",
    "plt.legend(loc = 4)\n",
    "plt.xlabel('1 - Specificity')\n",
    "plt.ylabel('Sensitivity')\n",
    "plt.show()"
   ]
  },
  {
   "cell_type": "markdown",
   "metadata": {},
   "source": [
    "As can be seen, the ROC point of maximal accuracy is quite distant from maximal MCC. \n",
    "\n",
    "The maximal MCC is identical to maximum of the sum of specificity and sensitivity. \n",
    "\n",
    "The ROC point of balanced senitivity and specificty differs from both maximal accuracy and maximal MCC. \n",
    "\n",
    "This highlights the fact that the model's discrimination threshold can be optimized in multiple ways."
   ]
  },
  {
   "cell_type": "markdown",
   "metadata": {},
   "source": [
    "\n",
    "---\n",
    "\n",
    "**End of Module.**\n",
    "\n",
    "You have reached the end of this module.\n",
    "\n",
    "If you have any questions, please reach out to your peers using the discussion boards. If you and your peers are unable to come to a suitable conclusion, do not hesitate to reach out to your instructor on the designated discussion board.\n",
    "\n",
    "When you are comfortable with the content, and have practiced to your satisfaction, you may proceed to any related assignments, and to the next module."
   ]
  },
  {
   "cell_type": "markdown",
   "metadata": {},
   "source": [
    "## References"
   ]
  },
  {
   "cell_type": "markdown",
   "metadata": {},
   "source": [
    "\n",
    "Czepiel, S.A. (1999). *Maximum Likelihood Estimation of Logistic Regression Models: Theory and Implementation* Retrieved Dec 11, 2018 from czep.net/stat. \n",
    "\n",
    "Multicollinearity, n.d. Retrieved Dec 11, 2018 from Wikipedia. https://en.wikipedia.org/wiki/Multicollinearity\n",
    "\n",
    "Roccurves.png (2006). Retrieved Dec 11, 2018 from Wikimedia Commons. https://commons.wikimedia.org/wiki/File:Roccurves.png Creative Commons Attribution-Share Alike 3.0 Unported.\n",
    "\n",
    "Roc Curve Youden J.png (2014). Retrieved Dec 11, 2018 from Wikimedia commons. https://commons.wikimedia.org/wiki/File:ROC_Curve_Youden_J.png  Creative Commons Attribution-Share Alike 4.0 International.\n",
    "\n",
    "Rodríguez, G. (2007). Lecture Notes on Generalized Linear Models. Chapter 3: Logit Models for Binary Data http://data.princeton.edu/wws509/notes/\n",
    "\n",
    "Weisstein, E. W. (2018). *Maximum Likelihood.* MathWorld-A Wolfram Web Resource. Retrieved Dec 11, 2018 form http://mathworld.wolfram.com/MaximumLikelihood.html\n",
    "\n",
    "\n",
    "\n"
   ]
  },
  {
   "cell_type": "code",
   "execution_count": null,
   "metadata": {},
   "outputs": [],
   "source": []
  }
 ],
 "metadata": {
  "kernelspec": {
   "display_name": "Python 3",
   "language": "python",
   "name": "python3"
  },
  "language_info": {
   "codemirror_mode": {
    "name": "ipython",
    "version": 3
   },
   "file_extension": ".py",
   "mimetype": "text/x-python",
   "name": "python",
   "nbconvert_exporter": "python",
   "pygments_lexer": "ipython3",
   "version": "3.7.0"
  },
  "toc-autonumbering": true
 },
 "nbformat": 4,
 "nbformat_minor": 2
}
