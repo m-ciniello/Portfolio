{
 "cells": [
  {
   "cell_type": "markdown",
   "metadata": {
    "collapsed": true
   },
   "source": [
    "# Step 1: Import\n",
    "In this project, you'll be working with a data set that contains 80000 board games and their associated review scores. Each row represents a single board game, and has descriptive statistics about the board game, as well as review information. Here are some of the interesting columns:\n",
    "\n",
    "1. name: name of the board game.\n",
    "2. playingtime: the playing time (given by the manufacturer).\n",
    "3. minplaytime: the minimum playing time (given by the manufacturer).\n",
    "4. maxplaytime: the maximum playing time (given by the manufacturer).\n",
    "5. minage: the minimum recommended age to play.\n",
    "6. users_rated: the number of users who rated the game.\n",
    "7. average_rating: the average rating given to the game by users. (0-10)\n",
    "8. total_weights: Number of weights given by users. Read more about what BoardGameGeek considers weights here.\n",
    "9. average_weight: the average of all the subjective weights (0-5).\n",
    "\n",
    "One interesting machine learning task might be to predict average_rating using the other columns. The data set contains quite a few missing values, and rows where there are no reviews. You'll need to remove these as you explore the data to make prediction easier."
   ]
  },
  {
   "cell_type": "code",
   "execution_count": 35,
   "metadata": {},
   "outputs": [
    {
     "name": "stdout",
     "output_type": "stream",
     "text": [
      "id                       0\n",
      "type                     0\n",
      "name                    41\n",
      "yearpublished            3\n",
      "minplayers               3\n",
      "maxplayers               3\n",
      "playingtime              3\n",
      "minplaytime              3\n",
      "maxplaytime              3\n",
      "minage                   3\n",
      "users_rated              0\n",
      "average_rating           0\n",
      "bayes_average_rating     0\n",
      "total_owners             0\n",
      "total_traders            0\n",
      "total_wanters            0\n",
      "total_wishers            0\n",
      "total_comments           0\n",
      "total_weights            0\n",
      "average_weight           0\n",
      "dtype: int64\n"
     ]
    },
    {
     "data": {
      "text/plain": [
       "(81312, 20)"
      ]
     },
     "execution_count": 35,
     "metadata": {},
     "output_type": "execute_result"
    }
   ],
   "source": [
    "import pandas as pd\n",
    "games = pd.read_csv('games.csv')\n",
    "\n",
    "print(games.isnull().sum()) #check for null vals\n",
    "games.shape #check shape"
   ]
  },
  {
   "cell_type": "code",
   "execution_count": 36,
   "metadata": {},
   "outputs": [
    {
     "data": {
      "text/plain": [
       "(56894, 20)"
      ]
     },
     "execution_count": 36,
     "metadata": {},
     "output_type": "execute_result"
    }
   ],
   "source": [
    "games = games.dropna(axis=0) #drop null vals\n",
    "games.isnull().sum() #check for null vals\n",
    "games.shape #check shape\n",
    "\n",
    "games=games[games.users_rated>0] #get rid of rows without ratings\n",
    "games.shape"
   ]
  },
  {
   "cell_type": "markdown",
   "metadata": {},
   "source": [
    "# Step 2: Explore and Pick an Error Metric\n",
    "You want to predict the average_rating column using the other columns, but you'll need to do some data exploration before you're ready to do so. The exploration will help you understand the distribution of average_rating better, as well as select an error metric that you'll use to evaluate the performance of your machine learning model.\n",
    "\n",
    "Instructions:\n",
    "- Become familiar with the distribution of average ratings by generating plots and calculating summary   - statistics. For each of the following, write down your observations in a Markdown cell.\n",
    "  - Generate a histogram of the average ratings.\n",
    "  - Generate a box and whisker plot of the average ratings.\n",
    "  - Calculate the standard deviation.\n",
    "  - Calculating the mean.\n",
    "- Think about what error metric might make sense for this data, and write a markdown cell with your thoughts.\n",
    "\n"
   ]
  },
  {
   "cell_type": "code",
   "execution_count": 37,
   "metadata": {},
   "outputs": [
    {
     "data": {
      "image/png": "[encoded data removed]",
      "text/plain": [
       "<matplotlib.figure.Figure at 0xce7a160>"
      ]
     },
     "metadata": {},
     "output_type": "display_data"
    }
   ],
   "source": [
    "import matplotlib.pyplot as plt\n",
    "%matplotlib inline\n",
    "plt.hist(games[\"average_rating\"])\n",
    "plt.show()"
   ]
  },
  {
   "cell_type": "code",
   "execution_count": 38,
   "metadata": {},
   "outputs": [
    {
     "data": {
      "image/png": "[encoded data removed]",
      "text/plain": [
       "<matplotlib.figure.Figure at 0x8b30f60>"
      ]
     },
     "metadata": {},
     "output_type": "display_data"
    },
    {
     "data": {
      "text/plain": [
       "count    56894.000000\n",
       "mean         6.016113\n",
       "std          1.578830\n",
       "min          1.000000\n",
       "25%          5.000000\n",
       "50%          6.150000\n",
       "75%          7.040000\n",
       "max         10.000000\n",
       "Name: average_rating, dtype: float64"
      ]
     },
     "execution_count": 38,
     "metadata": {},
     "output_type": "execute_result"
    }
   ],
   "source": [
    "fig = plt.figure()\n",
    "ax = fig.add_subplot(111)\n",
    "ax.boxplot(games['average_rating'], labels=['ratings'])\n",
    "ax.set_ylim(-1,11)\n",
    "plt.show()\n",
    "games['average_rating'].describe()"
   ]
  },
  {
   "cell_type": "markdown",
   "metadata": {},
   "source": [
    "# Step 3: Plotting Clusters \n",
    "In this data set, using mean squared error as an error metric makes sense. This is because the data is continuous, and follows a somewhat normal distribution. We'll be able to compare our error to the standard deviation to see how good the model is at predictions.\n",
    "\n",
    "You can look at the data for patterns that may help you develop a machine learning model. One way to look for patterns is to use a clustering algorithm to create clusters, then plot them out.\n",
    "\n",
    "You can first use the sklearn.cluster.KMeans class to fit a k-means clustering model. This class only works with numeric columns, so you have to extract the numeric columns of board_games before passing them into the KMeans.fit() method.\n",
    "\n",
    "To visualize how board games are clustered, we can calculate the row means and row standard deviations and then generate a scatter plot that compares the means against the standard deviations.\n",
    "\n",
    "Use the KMeans class to create clusters.\n",
    "- Initialize the KMeans class with 5 clusters.\n",
    "- Extract the numeric columns of board_games, and assign to the variable numeric_columns.\n",
    "  - Leave out name, type, and id.\n",
    "- Fit the KMeans class to numeric_columns using the fit method.\n",
    "- Extract the labels_ attribute of the KMeans class, and assign to the variable labels.\n",
    "\n",
    "Plot out the cluster assignments.\n",
    "- Use the apply method on numeric_columns with the keyword argument axis set to 1 to find the mean of each row. Assign the result to game_mean.\n",
    "- Use the apply method on numeric_columns with the keyword argument axis set to 1 to find the standard deviation of each row. Assign the result to game_std.\n",
    "- Create a plot using the matplotlib scatter function, with the c keyword argument set to labels, the keyword argument x set to game_mean, and the keyword argument y set to game_std.\n",
    "\n",
    "What do the results tell you? Write up the results in a markdown cell."
   ]
  },
  {
   "cell_type": "code",
   "execution_count": 39,
   "metadata": {},
   "outputs": [
    {
     "data": {
      "text/plain": [
       "KMeans(algorithm='auto', copy_x=True, init='k-means++', max_iter=300,\n",
       "    n_clusters=5, n_init=10, n_jobs=1, precompute_distances='auto',\n",
       "    random_state=None, tol=0.0001, verbose=0)"
      ]
     },
     "execution_count": 39,
     "metadata": {},
     "output_type": "execute_result"
    }
   ],
   "source": [
    "from sklearn.cluster import KMeans\n",
    "\n",
    "clus = KMeans(n_clusters=5)\n",
    "cols = list(games.columns)\n",
    "cols.remove(\"name\")\n",
    "cols.remove(\"id\")\n",
    "cols.remove(\"type\")\n",
    "numeric = games[cols]\n",
    "\n",
    "clus.fit(numeric)"
   ]
  },
  {
   "cell_type": "code",
   "execution_count": 40,
   "metadata": {
    "collapsed": true
   },
   "outputs": [],
   "source": [
    "import numpy\n",
    "game_mean = numeric.apply(numpy.mean, axis=1)\n",
    "game_std = numeric.apply(numpy.std, axis=1)"
   ]
  },
  {
   "cell_type": "code",
   "execution_count": 41,
   "metadata": {},
   "outputs": [
    {
     "data": {
      "text/plain": [
       "<matplotlib.collections.PathCollection at 0xa5a1dd8>"
      ]
     },
     "execution_count": 41,
     "metadata": {},
     "output_type": "execute_result"
    },
    {
     "data": {
      "image/png": "[encoded data removed]",
      "text/plain": [
       "<matplotlib.figure.Figure at 0x8b5c0f0>"
      ]
     },
     "metadata": {},
     "output_type": "display_data"
    }
   ],
   "source": [
    "labels = clus.labels_\n",
    "\n",
    "plt.scatter(x=game_mean, y=game_std, c=labels)"
   ]
  },
  {
   "cell_type": "markdown",
   "metadata": {},
   "source": [
    "It looks like most of the games are similar, but as the game attributes tend to increase in value (such as number of users who rated), there are fewer high quality games. So most games don't get played much, but a few get a lot of players."
   ]
  },
  {
   "cell_type": "markdown",
   "metadata": {},
   "source": [
    "# 4. Finding Correlations\n",
    "Now that you're done some data exploration, you can figure out which columns correlate well with average_rating. This will enable you to remove columns that don't add much predictive power to the model. For example, columns that are uncorrelated with the target won't help a linear regression model. It will also enable you to remove columns that are derived from the target, or otherwise cause overfitting.\n",
    "\n",
    "- Use the DataFrame.corr() method to compute pairwise correlations between only the numeric columns. Assign the result to correlations.\n",
    "- Display the average_rating column of correlations, which shows how much the other columns correlate with the average_rating column.\n",
    "- Do any of the correlations surprise you? Write up your thoughts in a markdown cell.\n",
    "- Remove any columns that seem to be derived from the average_rating. The bayes_average_rating is an example of this.\n",
    "- Remove any columns that don't seem to correlate at all with the average_rating column."
   ]
  },
  {
   "cell_type": "code",
   "execution_count": 42,
   "metadata": {},
   "outputs": [
    {
     "data": {
      "text/plain": [
       "yearpublished           0.108461\n",
       "minplayers             -0.032701\n",
       "maxplayers             -0.008335\n",
       "playingtime             0.048994\n",
       "minplaytime             0.043985\n",
       "maxplaytime             0.048994\n",
       "minage                  0.210049\n",
       "users_rated             0.112564\n",
       "average_rating          1.000000\n",
       "bayes_average_rating    0.231563\n",
       "total_owners            0.137478\n",
       "total_traders           0.119452\n",
       "total_wanters           0.196566\n",
       "total_wishers           0.171375\n",
       "total_comments          0.123714\n",
       "total_weights           0.109691\n",
       "average_weight          0.351081\n",
       "Name: average_rating, dtype: float64"
      ]
     },
     "execution_count": 42,
     "metadata": {},
     "output_type": "execute_result"
    }
   ],
   "source": [
    "correlations = numeric.corr()\n",
    "\n",
    "correlations[\"average_rating\"]"
   ]
  },
  {
   "cell_type": "markdown",
   "metadata": {},
   "source": [
    "# 5. Creating A Model\n",
    "Now that you're done exploring the data, you're ready to create a linear regression model and make predictions for newly created board games.\n",
    "\n",
    "Ordinarily, you'd want to split the data into training and testing sets, train the algorithm on the training set, and test its performance on the test set. In this case, because we haven't covered training and testing sets yet, you'll evaluate the performance of the model on the training set.\n",
    "\n",
    "You'll fit a linear regression model to board_games, using the columns you think should be predictors, and average_rating as the target. You'll then generate predictions using the same predictors you used in the fitting process.\n",
    "\n",
    "Instructions:\n",
    "- Initialize a LinearRegression model, and assign it to the variable reg.\n",
    "- Use the LinearRegression.fit() method to set the predictor columns you want the model to use and set the target column to average_rating.\n",
    "- Use the LinearRegression.predict() method to make predictions using the columns of board_games that you think should be used as predictors.\n",
    "  - The predictors you pass into LinearRegression.predict() should be the same predictors you passed into LinearRegression.fit.\n",
    "  - Assign the result to predictions.\n",
    "- Calculate the error metric that you chose earlier.\n",
    "- Write up what the error value tells you in a markdown cell."
   ]
  },
  {
   "cell_type": "markdown",
   "metadata": {},
   "source": [
    "The yearpublished column is surprisingly highly correlated with average_rating, showing that more recent games tend to be rated more highly. Games for older players (minage is high) tend to be more highly rated. The more \"weighty\" a game is (average_weight is high), the more highly it tends to be rated."
   ]
  },
  {
   "cell_type": "code",
   "execution_count": 43,
   "metadata": {},
   "outputs": [
    {
     "data": {
      "text/plain": [
       "2.093396975833943"
      ]
     },
     "execution_count": 43,
     "metadata": {},
     "output_type": "execute_result"
    }
   ],
   "source": [
    "from sklearn.linear_model import LinearRegression\n",
    "\n",
    "reg = LinearRegression()\n",
    "cols.remove(\"average_rating\")\n",
    "cols.remove(\"bayes_average_rating\")\n",
    "reg.fit(games[cols], games[\"average_rating\"])\n",
    "predictions = reg.predict(games[cols])\n",
    "\n",
    "numpy.mean((predictions - games[\"average_rating\"]) ** 2)"
   ]
  },
  {
   "cell_type": "markdown",
   "metadata": {},
   "source": [
    "The error rate is close to the standard deviation of all board game ratings. This indicates that our model may not have high predictive power. We'll need to dig more into which games were scored well, and which ones weren't."
   ]
  }
 ],
 "metadata": {
  "kernelspec": {
   "display_name": "Python 3",
   "language": "python",
   "name": "python3"
  },
  "language_info": {
   "codemirror_mode": {
    "name": "ipython",
    "version": 3
   },
   "file_extension": ".py",
   "mimetype": "text/x-python",
   "name": "python",
   "nbconvert_exporter": "python",
   "pygments_lexer": "ipython3",
   "version": "3.6.3"
  }
 },
 "nbformat": 4,
 "nbformat_minor": 1
}
