{
 "cells": [
  {
   "cell_type": "markdown",
   "metadata": {},
   "source": [
    "# Multiclass Classification\n",
    "Using Logistic Regression with multiple categories"
   ]
  },
  {
   "cell_type": "markdown",
   "metadata": {},
   "source": [
    "# 1. Intro to the data\n",
    "The dataset we will be working with contains information on various cars. For each car we have information about the technical aspects of the vehicle such as the motor's displacement, the weight of the car, the miles per gallon, and how fast the car accelerates. Using this information we will predict the origin of the vehicle, either North America, Europe, or Asia. We can see, that unlike our previous classification datasets, we have three categories to choose from, making our task slightly more challenging.\n",
    "\n",
    "The dataset is hosted by the University of California Irvine on their machine learning repository. As a side note, the UCI Machine Learning repository contains many small datasets which are useful when getting your hands dirty with machine learning."
   ]
  },
  {
   "cell_type": "code",
   "execution_count": 64,
   "metadata": {},
   "outputs": [
    {
     "name": "stdout",
     "output_type": "stream",
     "text": [
      "    mpg  cylinders  displacement  horsepower  weight  acceleration  year  \\\n",
      "0  18.0          8         307.0         130    3504          12.0    70   \n",
      "1  15.0          8         350.0         165    3693          11.5    70   \n",
      "2  18.0          8         318.0         150    3436          11.0    70   \n",
      "3  16.0          8         304.0         150    3433          12.0    70   \n",
      "4  17.0          8         302.0         140    3449          10.5    70   \n",
      "\n",
      "   origin  \n",
      "0       1  \n",
      "1       1  \n",
      "2       1  \n",
      "3       1  \n",
      "4       1  \n"
     ]
    }
   ],
   "source": [
    "import pandas as pd\n",
    "cars = pd.read_csv('auto.csv')\n",
    "\n",
    "print(cars.head())"
   ]
  },
  {
   "cell_type": "code",
   "execution_count": 65,
   "metadata": {},
   "outputs": [
    {
     "name": "stdout",
     "output_type": "stream",
     "text": [
      "[1 3 2]\n"
     ]
    }
   ],
   "source": [
    "#print out unique values in 'origin' column. These will be the classes. \n",
    "unique_origin = cars['origin'].unique()\n",
    "print(unique_origin)"
   ]
  },
  {
   "cell_type": "markdown",
   "metadata": {},
   "source": [
    "# 2. Dummy Variables\n",
    "For this dataset, categorical variables exist in three columns, cylinders, year, and origin. The cylinders and year columns must be converted to numeric values so we can use them to predict label origin. Even though the column year is a number, we’re going to treat them like categories. **The year 71 is unlikely to relate to the year 70 in the same way those two numbers do numerically, but rather just as two different labels. In these instances, it is always safer to treat discrete values as categorical variables.**\n",
    "\n",
    "We must use dummy variables for columns containing categorical values. Whenever we have more than 2 categories, we need to create more columns to represent the categories. Since we have 5 different categories of cylinders, we could use 3, 4, 5, 6, and 8 to represent the different categories. We can split the column into separate binary columns:\n",
    "\n",
    "- cyl_3 -- Does the car have 3 cylinders? 0 if False, 1 if True.\n",
    "- cyl_4 -- Does the car have 4 cylinders? 0 if False, 1 if True.\n",
    "- cyl_5 -- Does the car have 5 cylinders? 0 if False, 1 if True.\n",
    "- cyl_6 -- Does the car have 6 cylinders? 0 if False, 1 if True.\n",
    "- cyl_8 -- Does the car have 8 cylinders? 0 if False, 1 if True.\n",
    "\n",
    "We can use the **pandas.get_dummies() function to return a Dataframe containing binary columns from the values in the cylinders column.** In addition, if we **set the prefix parameter to cyl,** Pandas will pre-pend the column names to match the style we'd like:\n",
    "     \n",
    "    dummy_df = pd.get_dummies(cars[\"cylinders\"], prefix=\"cylin\")\n",
    "    \n",
    "We then use the pandas.concat() function to add the columns from this Dataframe back to cars:\n",
    "    \n",
    "    cars = pd.concat([cars, dummy_df], axis=1)\n",
    "\n",
    "Now it's your turn! Repeat the same process for the year column.\n",
    "\n",
    "Instructions\n",
    "- Use the pandas.get_dummies() function to create dummy values from the year column.\n",
    "- Use the prefix attribute to prepend year to each of the resulting column names.\n",
    "- Assign the resulting Dataframe to dummy_years.\n",
    "- Use the pandas.concat() function to concatenate the columns from dummy_years to cars.\n",
    "- Use the DataFrame.drop() method to drop the year and cylinders columns from cars.\n",
    "- Display the first 5 rows of the new cars Dataframe to confirm."
   ]
  },
  {
   "cell_type": "code",
   "execution_count": 66,
   "metadata": {},
   "outputs": [
    {
     "name": "stdout",
     "output_type": "stream",
     "text": [
      "    mpg  displacement  horsepower  weight  acceleration  origin  cylin_3  \\\n",
      "0  18.0         307.0         130    3504          12.0       1        0   \n",
      "1  15.0         350.0         165    3693          11.5       1        0   \n",
      "2  18.0         318.0         150    3436          11.0       1        0   \n",
      "3  16.0         304.0         150    3433          12.0       1        0   \n",
      "4  17.0         302.0         140    3449          10.5       1        0   \n",
      "\n",
      "   cylin_4  cylin_5  cylin_6  ...    yr_73  yr_74  yr_75  yr_76  yr_77  yr_78  \\\n",
      "0        0        0        0  ...        0      0      0      0      0      0   \n",
      "1        0        0        0  ...        0      0      0      0      0      0   \n",
      "2        0        0        0  ...        0      0      0      0      0      0   \n",
      "3        0        0        0  ...        0      0      0      0      0      0   \n",
      "4        0        0        0  ...        0      0      0      0      0      0   \n",
      "\n",
      "   yr_79  yr_80  yr_81  yr_82  \n",
      "0      0      0      0      0  \n",
      "1      0      0      0      0  \n",
      "2      0      0      0      0  \n",
      "3      0      0      0      0  \n",
      "4      0      0      0      0  \n",
      "\n",
      "[5 rows x 24 columns]\n"
     ]
    }
   ],
   "source": [
    "#create dummy variables for cylinder column\n",
    "dummy_cylinders = pd.get_dummies(cars['cylinders'],prefix='cylin') \n",
    "cars = pd.concat([cars,dummy_cylinders],axis=1)\n",
    "\n",
    "#create dummy variables for yea column\n",
    "dummy_years = pd.get_dummies(cars['year'],prefix='yr')\n",
    "cars = pd.concat([cars,dummy_years],axis=1)\n",
    "\n",
    "cars=cars.drop('cylinders',axis=1)\n",
    "cars=cars.drop('year',axis=1)\n",
    "\n",
    "print(cars.head())"
   ]
  },
  {
   "cell_type": "markdown",
   "metadata": {},
   "source": [
    "# 3. Multiclass Classification\n",
    "In previous missions, we explored binary classification, where there were only 2 possible categories, or classes. When we have 3 or more categories, we call the problem a multiclass classification problem. There are a few different methods of doing multiclass classification and in this mission, we'll focus on the one-versus-all method.\n",
    "\n",
    "The one-versus-all method is a technique where we choose a single category as the Positive case and group the rest of the categories as the False case. We're essentially splitting the problem into multiple binary classification problems. For each observation, the model will then output the probability of belonging to each category.\n",
    "\n",
    "To start let's split our data into a training and test set. We've randomized the cars Dataframe for you already to start things off and assigned the shuffled Dataframe to shuffled_cars."
   ]
  },
  {
   "cell_type": "code",
   "execution_count": 67,
   "metadata": {
    "collapsed": true
   },
   "outputs": [],
   "source": [
    "#randomize the data set\n",
    "import numpy as np\n",
    "shuffled_rows = np.random.permutation(cars.index)\n",
    "shuffled_cars = cars.iloc[shuffled_rows]\n",
    "\n",
    "#split shuffled_cars into 2 DFs: \n",
    "#1. a train DF with 70% of the observations\n",
    "#2. a test DF with the other 30% of observations\n",
    "highest_train_row = int(cars.shape[0] * .70)\n",
    "train = shuffled_cars.iloc[0:highest_train_row]\n",
    "test = shuffled_cars.iloc[highest_train_row:]\n"
   ]
  },
  {
   "cell_type": "markdown",
   "metadata": {},
   "source": [
    "# 4. Training a Multiclass Logisitic Regression Model\n",
    "In the **one-vs-all approach**, we're essentially converting an n-class (in our case n is 3) classification problem into n binary classification problems. For our case, we'll need to train 3 models:\n",
    "\n",
    "- A model where all cars built in North America are considered Positive (1) and those built in Europe and Asia are considered Negative (0).\n",
    "- A model where all cars built in Europe are considered Positive (1) and those built in North America and Asia are considered Negative (0).\n",
    "- A model where all cars built in Asia are labeled Positive (1) and those built in North America and Europe are considered Negative (0).\n",
    "\n",
    "Each of these models is a binary classification model that will return a probability between 0 and 1. When we apply this model on new data, a probability value will be returned from each model (3 total). For each observation, we choose the label corresponding to the model that predicted the highest probability.\n",
    "\n",
    "We'll use the dummy variables we created from the cylinders and year columns to train 3 models using the LogisticRegression class from scikit-learn.\n",
    "\n",
    "**Instructions**:\n",
    "\n",
    "For each value in unique_origins, train a logistic regression model with the following parameters:\n",
    "- X: Dataframe containing just the cylinder & year binary columns.\n",
    "- y: list (or Series) of Boolean values:\n",
    "  - True if observation's value for origin matches the current iterator variable (this will be treated as 1 by the comp)\n",
    "  - False if observation's value for origin doesn't match the current iterator variable (this will be treated as 0 by the comp)\n",
    "\n",
    "Add each model to the models dictionary with the following structure:\n",
    "- key: origin value (1, 2, or 3),\n",
    "- value: relevant LogistcRegression model instance."
   ]
  },
  {
   "cell_type": "code",
   "execution_count": 68,
   "metadata": {},
   "outputs": [],
   "source": [
    "from sklearn.linear_model import LogisticRegression\n",
    "\n",
    "unique_origins = cars[\"origin\"].unique()\n",
    "unique_origins.sort()\n",
    "\n",
    "\n",
    "models = {}\n",
    "features = [c for c in train.columns if c.startswith(\"cyl\") or c.startswith(\"yr\")]\n",
    "\n",
    "for origin in unique_origins:\n",
    "    model = LogisticRegression()\n",
    "    \n",
    "    X_train = train[features]\n",
    "    y_train = train[\"origin\"] == origin #this will effectively create binary classes, either the origin (1) or not (0)\n",
    "\n",
    "    model.fit(X_train, y_train)\n",
    "    models[origin] = model #put model for particular origin class in the 'models' dictionary"
   ]
  },
  {
   "cell_type": "markdown",
   "metadata": {},
   "source": [
    "# 5. Testing the Models\n",
    "Now that we have a model for each category, we can run our test dataset through the models and evaluate how well they performed.\n",
    "\n",
    "**Instructions:**\n",
    "\n",
    "For each origin value from unique_origins:\n",
    "- Use the LogisticRegression predict_proba function to return the 3 lists of predicted probabilities for the test set and add to the testing_probs Dataframe."
   ]
  },
  {
   "cell_type": "code",
   "execution_count": 69,
   "metadata": {},
   "outputs": [
    {
     "data": {
      "text/html": [
       "<div>\n",
       "<table border=\"1\" class=\"dataframe\">\n",
       "  <thead>\n",
       "    <tr style=\"text-align: right;\">\n",
       "      <th></th>\n",
       "      <th>1</th>\n",
       "      <th>2</th>\n",
       "      <th>3</th>\n",
       "    </tr>\n",
       "  </thead>\n",
       "  <tbody>\n",
       "    <tr>\n",
       "      <th>0</th>\n",
       "      <td>0.968770</td>\n",
       "      <td>0.021399</td>\n",
       "      <td>0.034548</td>\n",
       "    </tr>\n",
       "    <tr>\n",
       "      <th>1</th>\n",
       "      <td>0.881603</td>\n",
       "      <td>0.051132</td>\n",
       "      <td>0.089585</td>\n",
       "    </tr>\n",
       "    <tr>\n",
       "      <th>2</th>\n",
       "      <td>0.278323</td>\n",
       "      <td>0.451925</td>\n",
       "      <td>0.269761</td>\n",
       "    </tr>\n",
       "    <tr>\n",
       "      <th>3</th>\n",
       "      <td>0.366557</td>\n",
       "      <td>0.205820</td>\n",
       "      <td>0.353144</td>\n",
       "    </tr>\n",
       "    <tr>\n",
       "      <th>4</th>\n",
       "      <td>0.955928</td>\n",
       "      <td>0.039920</td>\n",
       "      <td>0.026088</td>\n",
       "    </tr>\n",
       "  </tbody>\n",
       "</table>\n",
       "</div>"
      ],
      "text/plain": [
       "          1         2         3\n",
       "0  0.968770  0.021399  0.034548\n",
       "1  0.881603  0.051132  0.089585\n",
       "2  0.278323  0.451925  0.269761\n",
       "3  0.366557  0.205820  0.353144\n",
       "4  0.955928  0.039920  0.026088"
      ]
     },
     "execution_count": 69,
     "metadata": {},
     "output_type": "execute_result"
    }
   ],
   "source": [
    "testing_probs = pd.DataFrame(columns=unique_origins)\n",
    "\n",
    "for origin in unique_origins:\n",
    "    # Select testing features.\n",
    "    X_test = test[features]   \n",
    "    # Compute probability of observation being in the origin.\n",
    "    testing_probs[origin] = models[origin].predict_proba(X_test)[:,1]\n",
    "\n",
    "testing_probs.head()"
   ]
  },
  {
   "cell_type": "markdown",
   "metadata": {},
   "source": [
    "# 6. Choose the Origin\n",
    "Now that we trained the models and computed the probabilities in each origin we can classify each observation. To classify each observation we want to select the origin with the highest probability of classification for that observation.\n",
    "\n",
    "While each column in our dataframe testing_probs represents an origin we just need to choose the one with the largest probability. We can use the Dataframe **method .idxmax()** to return a Series where each value corresponds to the column or where the maximum value occurs for that observation. We need to make sure to set the axis paramater to 1 since we want to calculate the maximum value across columns. Since each column maps directly to an origin the resulting Series will be the classification from our model.\n",
    "\n",
    "**Instructions:**\n",
    "- Classify each observation in the test set using the testing_probs Dataframe.\n",
    "- Assign the predicted origins to predicted_origins and use the print function to display it.\n"
   ]
  },
  {
   "cell_type": "code",
   "execution_count": 70,
   "metadata": {},
   "outputs": [
    {
     "name": "stdout",
     "output_type": "stream",
     "text": [
      "0    1\n",
      "1    1\n",
      "2    2\n",
      "3    1\n",
      "4    1\n",
      "5    1\n",
      "6    2\n",
      "7    1\n",
      "8    2\n",
      "9    1\n",
      "dtype: int64\n"
     ]
    }
   ],
   "source": [
    "predicted_origins = testing_probs.idxmax(axis=1)\n",
    "print(predicted_origins[0:10])"
   ]
  },
  {
   "cell_type": "markdown",
   "metadata": {},
   "source": [
    "# 7. Conclusion\n",
    "In this mission, we learned the basics of extending logistic regression to work for multi-class classification problems. In the next mission, we'll dive into more intermediate linear regression concepts."
   ]
  }
 ],
 "metadata": {
  "kernelspec": {
   "display_name": "Python 3",
   "language": "python",
   "name": "python3"
  },
  "language_info": {
   "codemirror_mode": {
    "name": "ipython",
    "version": 3
   },
   "file_extension": ".py",
   "mimetype": "text/x-python",
   "name": "python",
   "nbconvert_exporter": "python",
   "pygments_lexer": "ipython3",
   "version": "3.6.3"
  }
 },
 "nbformat": 4,
 "nbformat_minor": 2
}
