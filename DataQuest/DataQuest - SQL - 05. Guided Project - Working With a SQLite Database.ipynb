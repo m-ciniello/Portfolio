{
 "cells": [
  {
   "cell_type": "markdown",
   "metadata": {},
   "source": [
    "# 1. Overview of the Data Set\n",
    "In this project, we'll continue working with the CIA World Factbook, a compendium of facts about countries. The Factbook contains demographic information for each country in the world, including:\n",
    "\n",
    "- population - The population as of 2015\n",
    "- population_growth - The annual population growth rate, as a percentage\n",
    "- area - The total land and water area\n",
    "\n",
    "You can download the Factbook as a SQLite database from GitHub if you want to work with it on your own computer. In this guided project, we'll be working with Python and the SQLite command line tool (SQLite Command Shell) to connect to the database, extract data, and perform analysis on the data."
   ]
  },
  {
   "cell_type": "markdown",
   "metadata": {},
   "source": [
    "# 2. Overview of the SQLite Comman Shell\n",
    "\n",
    "SQLite is a relational database management system that enables us to create databases and query them using SQL syntax. SQLite is simpler than full database systems like MySQL and PostgreSQL. **It's good for cases where ease of use is more important than performance.** <font color = red> Each SQLite database is stored as a single file, making it easy to transport.</font>\n",
    "\n",
    "The Factbook database is in the file factbook.db. The 'db' at the end is a file extension that's short for database.\n",
    "\n",
    "We can open the Factbook database in the SQLite Command Shell by navigating to the same folder as factbook.db, then typing sqlite3 factbook.db on the command line. This enables us to manage the database and run SQL queries.\n",
    "\n",
    "Try it out for yourself!\n"
   ]
  },
  {
   "cell_type": "markdown",
   "metadata": {},
   "source": [
    "**Not sure how to use the SQLite Command shell in python. But its pretty easy to figure out, just follow the instructions!**"
   ]
  },
  {
   "cell_type": "markdown",
   "metadata": {},
   "source": [
    "# 3. Running Queries in the SQLite Command Shell\n",
    "\n",
    "The SQLite Command Shell also allows us to run any valid SQL query. For example, we could run the following:\n",
    "\n",
    "    SELECT * FROM facts;\n",
    "This will show us all of the rows in the facts table.\n",
    "\n",
    "**Instructions**\n",
    "\n",
    "Run some queries in the SQLite Command Shell. Be sure to enter .header on to see the headers for each column.\n",
    "While you should think of your own queries, here are a couple of examples:\n",
    "- SELECT * FROM facts ORDER BY population DESC LIMIT 10;\n",
    "- SELECT * FROM facts ORDER BY area_land ASC LIMIT 10;\n",
    "\n",
    "You may notice that these queries return some strange results, such as Ethiopia having the least land area. The queries also include non-national entities like the European Union and Akrotiri.\n",
    "The data is fairly messy, and some values in the area_land column are missing. Add WHERE area_land != \"\" to the query before the ORDER BY clause to remove the invalid rows. You may also need to try additional filtering.\n",
    "When you're done exploring, you can quit the SQLite Command Shell with .quit."
   ]
  },
  {
   "cell_type": "markdown",
   "metadata": {},
   "source": [
    "# 4. Using Pything with SQLite\n",
    "The sqlite3 library, which comes with Python by default, allows us to connect to SQLite databases. To do this, we open a database connection, then create an object that can run queries.\n",
    "\n",
    "For example, this code will let us connect to factbook.db and select all of the rows:\n",
    "\n",
    "    import sqlite3\n",
    "    conn = sqlite3.connect('factbook.db')\n",
    "  \n",
    "    c = conn.cursor()\n",
    "    c.execute('SELECT * FROM facts;')\n",
    "    \n",
    "    print(c.fetchall())\n",
    "\n",
    "The code above creates a Connection object. We then create a Cursor instance, which can execute queries. Finally, we execute a query and display the results using the print function. To learn more about the sqlite3 library, read the package documentation on the official Python website.\n",
    "\n",
    "**Instructions**\n",
    "\n",
    "- Write code in query.py that selects the 10 least populated countries from the facts table, and then prints the results.\n",
    "- Execute query.py from the command line by running **python query.py.**"
   ]
  },
  {
   "cell_type": "markdown",
   "metadata": {},
   "source": [
    "# 5. Computing Population Projections\n",
    "\n",
    "You can read the results of a SQL query into a pandas dataframe using the read_sql_query function, which the official pandas website documents. The read_sql_query function takes a SQL query string and a connection object, and returns a dataframe containing all of the rows and columns from the query.\n",
    "\n",
    "When pandas reads in columns this way, it automatically uses the column types from the original the database. Blank entries in the database (like the ones in the area_land column) will have NaN values in a dataframe, which means \"Not a Number.\" This is because pandas can't have blanks in numeric columns; it uses NaN to signify invalid or missing values instead.\n",
    "\n",
    "You can learn more about how to work with missing data in the pandas documentation. For now, we'll just use the dropna method with the axis=0 argument, which will drop any rows that have NaN values.\n",
    "\n",
    "**Instructions**\n",
    "\n",
    "Read the facts table into pandas, and then compute the projected population for each country in 2050. Here's a rough outline of the steps you'll need to take:\n",
    "\n",
    "- Create a script called growth.py.\n",
    "- Read facts into a pandas dataframe using read_sql_query.\n",
    "- Filter out any rows that have invalid data. Look for things like the value 0 in the area_land column, which doesn't make sense.\n",
    "- Write a function that takes in a country's initial population and growth rate, and then outputs the final population. The annual population growth (expressed as a percentage) for each country is in the population_growth column, while the initial population is in the population column.\n",
    "    - The formula for compound annual population growth is:\n",
    "    - N=N0e(rt)\n",
    "    - N is the final population, N0 is the initial population, e is a constant value we can access with math.e, r is the rate of annual change, expressed as a decimal (so 1.5 percent should be .015), and t is the number of years we want to project out. Assume that you'll be starting in January 2015 and ending in January 2050, covering a period of 35 years. For example, let's say you have a country with 5000 people and a 4 percent annual growth rate. The formula would be N=5000∗e(.04∗35). Use the apply method on pandas dataframes to compute what the population will be in 2050 for each row in the data. Use the dataframe sort_values method to sort on the 2050 population in descending order. Print the 10 countries that will have the highest populations in 2050."
   ]
  },
  {
   "cell_type": "markdown",
   "metadata": {},
   "source": [
    "# 6. Summing Columns to Compute Total Area\n",
    "\n",
    "We can add up all of the values in a column by using the SUM function in a SQL query. For example, we can calculate the total population with this query:\n",
    "\n",
    "    SELECT SUM(population) from facts;\n",
    "We can also add a WHERE clause, like this:\n",
    "\n",
    "    SELECT SUM(population) from facts WHERE area_land != \"\";\n",
    "\n",
    "**Instructions**\n",
    "\n",
    "Use SQL and Python to compute the ratio of land area to water area that each country claims. Here's a rough outline of the steps you'll need to take:\n",
    "- Write a script called area.py.\n",
    "- Query to get the total of the area_land column.\n",
    "- Query to get the total of the area_water column`.\n",
    "- Divide area_land by area_water and print the result."
   ]
  },
  {
   "cell_type": "code",
   "execution_count": null,
   "metadata": {
    "collapsed": true
   },
   "outputs": [],
   "source": []
  }
 ],
 "metadata": {
  "kernelspec": {
   "display_name": "Python 3",
   "language": "python",
   "name": "python3"
  },
  "language_info": {
   "codemirror_mode": {
    "name": "ipython",
    "version": 3
   },
   "file_extension": ".py",
   "mimetype": "text/x-python",
   "name": "python",
   "nbconvert_exporter": "python",
   "pygments_lexer": "ipython3",
   "version": "3.6.3"
  }
 },
 "nbformat": 4,
 "nbformat_minor": 2
}
