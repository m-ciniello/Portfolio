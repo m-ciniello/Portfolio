{
 "cells": [
  {
   "cell_type": "markdown",
   "metadata": {},
   "source": [
    "# 1. Introduction\n",
    "In the last two missions, we covered the basics of SQL, and explored how to use it to retrieve relevant rows from a database table. In this challenge, you'll practice writing your own SQL queries from scratch.\n",
    "\n",
    "We'll continue to work with the American Community Survey data on college majors and job outcomes. Here's a preview of recent-grads.csv, the data set we'll be working with:\n",
    "![](Picture3.png)\n",
    "\n",
    "We've loaded a subset of the data into a table named recent_grads in a database. The subset contains the 2010-2012 data for recent college grads only. The full table has many more columns (21 to be specific) than the ones displayed above. You can find more details on them at FiveThirtyEight's Github repo.\n",
    "\n",
    "Here are the descriptions for the columns in the preview:\n",
    "\n",
    "- Rank - The major's rank by median earnings\n",
    "- Major_code - The major's code or ID\n",
    "- Major - The name of the major\n",
    "- Major_category - The broader category the major belongs to\n",
    "- Total - The total number of people who studied the major\n",
    "- Sample_size - The sample size (unweighted) of graduates with full time jobs\n",
    "- Men - The number of male graduates\n",
    "- Women - The number of female graduates\n",
    "- ShareWomen - Women as a proportion of the total number of graduates (a number ranging from 0 to 1)\n",
    "- Employed - The number of employed graduates"
   ]
  },
  {
   "cell_type": "markdown",
   "metadata": {},
   "source": [
    "# 2. Use SELECT and LIMIT to filter results\n",
    "\n",
    "In this step, you'll practice using the SELECT and LIMIT statements.\n",
    "\n",
    "**Instructions**\n",
    "\n",
    "Write a query that retrieves the first 20 rows in the table, with only the following columns (in the same order):\n",
    "- College_jobs\n",
    "- Median\n",
    "- Unemployment_rate"
   ]
  },
  {
   "cell_type": "code",
   "execution_count": 4,
   "metadata": {},
   "outputs": [],
   "source": [
    "import sqlite3\n",
    "jobs = sqlite3.connect('jobs.db')\n",
    "c = jobs.cursor()\n",
    "\n",
    "def print_sql(sql_command):\n",
    "    for row in c.execute(sql_command):\n",
    "        print(row)  "
   ]
  },
  {
   "cell_type": "code",
   "execution_count": 7,
   "metadata": {},
   "outputs": [
    {
     "name": "stdout",
     "output_type": "stream",
     "text": [
      "(1534, 110000, 0.018380527)\n",
      "(350, 75000, 0.117241379)\n",
      "(456, 73000, 0.024096386)\n",
      "(529, 70000, 0.050125313)\n",
      "(18314, 65000, 0.061097712)\n",
      "(1142, 65000, 0.177226407)\n",
      "(1768, 62000, 0.095652174)\n",
      "(972, 62000, 0.021167415)\n",
      "(52844, 60000, 0.057342277999999997)\n",
      "(45829, 60000, 0.059173845)\n"
     ]
    }
   ],
   "source": [
    "x='''select College_jobs, Median, Unemployment_rate \n",
    "from recent_grads \n",
    "limit 10;'''\n",
    "\n",
    "print_sql(x)"
   ]
  },
  {
   "cell_type": "markdown",
   "metadata": {},
   "source": [
    "# 3. Use WHERE to filter results\n",
    "\n",
    "In this step, you'll practice using the WHERE SQL statement to express row filtering criteria.\n",
    "\n",
    "**Instructions**\n",
    "\n",
    "Write a query that returns the first five Arts majors. Only include the Major column."
   ]
  },
  {
   "cell_type": "code",
   "execution_count": 11,
   "metadata": {},
   "outputs": [
    {
     "name": "stdout",
     "output_type": "stream",
     "text": [
      "('MISCELLANEOUS FINE ARTS',)\n",
      "('COMMERCIAL ART AND GRAPHIC DESIGN',)\n",
      "('FILM VIDEO AND PHOTOGRAPHIC ARTS',)\n",
      "('MUSIC',)\n",
      "('FINE ARTS',)\n"
     ]
    }
   ],
   "source": [
    "x='''select major \n",
    "from recent_grads \n",
    "where Major_category='Arts' \n",
    "limit 5;'''\n",
    "\n",
    "print_sql(x)"
   ]
  },
  {
   "cell_type": "markdown",
   "metadata": {},
   "source": [
    "# 4. Express Criteria With Operators\n",
    "\n",
    "In this step, you'll practice using SQL's logical operators to express complex criteria.\n",
    "\n",
    "**Instructions**\n",
    "\n",
    "Return all non-engineering majors:\n",
    "- With a median salary less than or equal to 50,000\n",
    "- Or an unemployment rate higher than 6.5%\n",
    "\n",
    "Return only these columns (in the same order):\n",
    "- Major\n",
    "- Total\n",
    "- Median\n",
    "- Unemployment_rate"
   ]
  },
  {
   "cell_type": "code",
   "execution_count": 14,
   "metadata": {},
   "outputs": [
    {
     "name": "stdout",
     "output_type": "stream",
     "text": [
      "('ACTUARIAL SCIENCE', 3777, 62000, 0.095652174)\n",
      "('FOOD SCIENCE', 4361, 53000, 0.09693146)\n",
      "('CONSTRUCTION SERVICES', 18498, 50000, 0.060023041)\n",
      "('OPERATIONS LOGISTICS AND E-COMMERCE', 11732, 50000, 0.047858702999999995)\n",
      "('PUBLIC POLICY', 5978, 50000, 0.128426299)\n"
     ]
    }
   ],
   "source": [
    "x='''select Major,Total,Median,Unemployment_rate \n",
    "from recent_grads \n",
    "where (Major_category != 'Engineering') \n",
    "and (Unemployment_rate > 0.065 or Median <= 50000)\n",
    "limit 5;'''\n",
    "\n",
    "print_sql(x)"
   ]
  },
  {
   "cell_type": "markdown",
   "metadata": {},
   "source": [
    "# 5. Order Your Results\n",
    "\n",
    "In this final step, you'll practice using the ORDER BY statement to customize the ordering of a query's results.\n",
    "\n",
    "**Instructions**\n",
    "\n",
    "Return the first 20 non-engineering majors in reverse alphabetical order.\n",
    "- We're only interested in returning the major names in the results."
   ]
  },
  {
   "cell_type": "code",
   "execution_count": 17,
   "metadata": {},
   "outputs": [
    {
     "name": "stdout",
     "output_type": "stream",
     "text": [
      "('ZOOLOGY',)\n",
      "('VISUAL AND PERFORMING ARTS',)\n",
      "('UNITED STATES HISTORY',)\n",
      "('TREATMENT THERAPY PROFESSIONS',)\n",
      "('TRANSPORTATION SCIENCES AND TECHNOLOGIES',)\n",
      "('THEOLOGY AND RELIGIOUS VOCATIONS',)\n",
      "('TEACHER EDUCATION: MULTIPLE LEVELS',)\n",
      "('STUDIO ARTS',)\n",
      "('STATISTICS AND DECISION SCIENCE',)\n",
      "('SPECIAL NEEDS EDUCATION',)\n"
     ]
    }
   ],
   "source": [
    "x='''select major\n",
    "from recent_grads\n",
    "where Major_category!='Engineering'\n",
    "order by major desc\n",
    "limit 10;'''\n",
    "\n",
    "print_sql(x)"
   ]
  },
  {
   "cell_type": "markdown",
   "metadata": {},
   "source": [
    "# 6. Next Steps\n",
    "In the next mission, we'll walk through how to query a SQLite database from Python. Most companies use a SQL database of some kind to store their data. Learning how to interface with SQL databases from Python will allow you to incorporate more sources into your data science workflow.\n",
    "\n",
    "**LOLOLOLOL ALREADY DOING THIS BITCHESSSSS <font color=blue> WHO DA MAN <font color=red>I DA MAN!**"
   ]
  }
 ],
 "metadata": {
  "kernelspec": {
   "display_name": "Python 3",
   "language": "python",
   "name": "python3"
  },
  "language_info": {
   "codemirror_mode": {
    "name": "ipython",
    "version": 3
   },
   "file_extension": ".py",
   "mimetype": "text/x-python",
   "name": "python",
   "nbconvert_exporter": "python",
   "pygments_lexer": "ipython3",
   "version": "3.6.3"
  }
 },
 "nbformat": 4,
 "nbformat_minor": 2
}
