{
 "cells": [
  {
   "cell_type": "markdown",
   "metadata": {
    "collapsed": true
   },
   "source": [
    "# 1. From Matrices to Vectors\n",
    "\n",
    "In the last mission, we learned how to use an augmented matrix and the row operations that preserve the relationships in a system to solve a system of linear functions. At its core, a matrix is a way to represent a table of numbers. All of the matrices we worked with in the last mission contained 2 rows and 3 columns. Here's the first one that setup our linear system:\n",
    "\n",
    "$\\left[\\begin{array}{rr|r}\n",
    "30 & -1 & -1000 \\\\ \n",
    "50 & -1 & -100\n",
    "\\end{array}\\right]$\n",
    "\n",
    "This is known as a 2x3 matrix (pronounced \"three by two matrix\"). The convention in linear algebra is to specify the number of rows first (2) then the number of columns (3).\n",
    "\n",
    "Each of the rows and columns in this matrix are represented are lists of numbers. A list of numbers is known as a vector. A row from a matrix is known as a row vector, while a column is known as a column vector. Here are the row vectors from the matrix:\n",
    "\n",
    "[30−1−1000]\n",
    "[50−1−100]\n",
    "\n",
    "Here are the column vectors from the matrix:\n",
    "\n",
    "[3050]\n",
    "[−1−1]\n",
    "[−1000−100]\n",
    "\n",
    "In this mission, we'll learn more about column vectors and their associated operations to help us understand certain properties of linear systems. We'll end this mission by justifying the approach we used in the last mission to solve the linear system by connecting a few key ideas from matrices and vectors.\n",
    "\n",
    "We'll start by building some geometric intuition of vectors. Generally, the word vector refers to the column vector (ordered list of elements in a single column) and we'll refer to the column vector that way throughout the rest of this course."
   ]
  },
  {
   "cell_type": "markdown",
   "metadata": {},
   "source": [
    "# 2. Geometric Intuition of vectors\n",
    "\n",
    "Whenever a vector contains 2 or 3 elements, we can visualize it on a coordinate grid. Typically, a vector is visualized on a coordinate grid using arrows, not using coordinates. For a vector containing two elements, the first value describes the x coordinate while the second value describes the y coordinate. Vectors are usually drawn from the origin (0,0) to the point described by the vector:\n",
    "\n",
    "![](vector_geometry.svg)\n",
    "\n",
    "Arrows are used to visualize individual vectors because they emphasize the 2 key properties of a vector -- direction and magnitude. The direction of a vector describes the way its pointing while the magnitude describes its length. In the following diagram, you'll find examples of 2 vectors with the same direction but different magnitude and 2 examples of vectors with the same magnitude but different direction.\n",
    "\n",
    "![](magnitude_direction.svg)\n",
    "\n",
    "We can visualize vectors in matplotlib using the pyplot.quiver() function. This function has 4 required parameters: X, Y, U, V. X and Y correspond to the (x,y) coordinates we want the vector to start at and U and V correspond to the (x,y) coordinates we want the vector to end at. The following code generates an arrow, representing a vector, from (0,0) to (1,2)\n",
    "\n",
    "    plt.quiver(0, 0, 1, 2)\n",
    "We also need to set the angles and scale_units parameters to xy and the scale parameter to 1. Setting angles to 'xy' lets matplotlib know we want the angle of the vector to be between the points we specified. The scale_units and scale parameters lets us specify custom scaling parameters for the vectors. When plotting vectors, we always want to use these 3 values for the parameters:\n",
    "\n",
    "    plt.quiver(0, 0, 1, 2, angles='xy', scale_units='xy', scale=1)\n",
    "\n",
    "Here's what the resulting plot looks like:\n",
    "\n",
    "![](quiver_example.svg)\n",
    "\n",
    "Lastly, we can set the color of each vector using the color parameter and passing in a string.\n",
    "\n",
    "    plt.quiver(0, 0, 1, 2, angles='xy', scale_units='xy', scale=1, color='blue')\n"
   ]
  },
  {
   "cell_type": "code",
   "execution_count": 5,
   "metadata": {
    "collapsed": false
   },
   "outputs": [
    {
     "data": {
      "image/png": "[encoded data removed]",
      "text/plain": [
       "<matplotlib.figure.Figure at 0x8530f98>"
      ]
     },
     "metadata": {},
     "output_type": "display_data"
    }
   ],
   "source": [
    "import matplotlib.pyplot as plt\n",
    "import numpy as np\n",
    "\n",
    "# This code draws the x and y axis as lines.\n",
    "plt.axhline(0, c='black', lw=0.5)\n",
    "plt.axvline(0, c='black', lw=0.5)\n",
    "plt.xlim(-3,3)\n",
    "plt.ylim(-4,4)\n",
    "\n",
    "# Add your code here.\n",
    "plt.quiver(0, 0, 2, 3, angles='xy', scale_units='xy', scale=1, color='blue')\n",
    "plt.quiver(0, 0, -2, -3, angles='xy', scale_units='xy', scale=1, color='blue')\n",
    "plt.quiver(0, 0, 1, 1, angles='xy', scale_units='xy', scale=1, color='gold')\n",
    "plt.quiver(0, 0, 2, 2, angles='xy', scale_units='xy', scale=1, color='gold')\n",
    "\n",
    "plt.show()"
   ]
  },
  {
   "cell_type": "markdown",
   "metadata": {},
   "source": [
    "# 3. Vector Operations\n",
    "\n",
    "Like the rows in a matrix, vectors can be added and subtracted together. When we add or subtract vectors, elements in the same position are added or subtracted and a new vector is created. Here's an example of 2 vectors being added:\n",
    "\n",
    "$\\begin{bmatrix}\n",
    "3\\\\ \n",
    "1\n",
    "\\end{bmatrix} + \\begin{bmatrix}\n",
    "1\\\\ \n",
    "2\n",
    "\\end{bmatrix} = \n",
    "\\begin{bmatrix}\n",
    "4\\\\ \n",
    "3\n",
    "\\end{bmatrix}$\n",
    "\n",
    "To visualize vector addition, we need to connect the vectors together instead of having all of the vectors originate at (0,0). Here's what that looks like for the vector addition we just performed:\n",
    "\n",
    "![](vector_addition_one.svg)\n",
    "\n",
    "While the first vector starts at (0,0), the second vector starts at the point (3,1), where the first victor ended. If we add the resulting vector $\\begin{bmatrix} 4 \\\\  3 \\end{bmatrix}$, we can see how the addition ties together:\n",
    "\n",
    "![](vector_addition_two.svg)\n",
    "\n",
    "Note that we can only add or subtract vectors containing the same number of elements. Let's practice generating these vectors in matplotlib."
   ]
  },
  {
   "cell_type": "code",
   "execution_count": 8,
   "metadata": {
    "collapsed": false
   },
   "outputs": [
    {
     "data": {
      "image/png": "[encoded data removed]",
      "text/plain": [
       "<matplotlib.figure.Figure at 0x4fce588>"
      ]
     },
     "metadata": {},
     "output_type": "display_data"
    }
   ],
   "source": [
    "# This code draws the x and y axis as lines.\n",
    "plt.axhline(0, c='black', lw=0.5)\n",
    "plt.axvline(0, c='black', lw=0.5)\n",
    "plt.xlim(-4,4)\n",
    "plt.ylim(-1,4)\n",
    "\n",
    "# Add your code here.\n",
    "plt.quiver(0, 0, 3, 0, angles='xy', scale_units='xy', scale=1)\n",
    "plt.quiver(3, 0, 0, 3, angles='xy', scale_units='xy', scale=1)\n",
    "plt.quiver(0, 0, 3, 3, angles='xy', scale_units='xy', scale=1, color='green')\n",
    "\n",
    "plt.show()"
   ]
  },
  {
   "cell_type": "markdown",
   "metadata": {},
   "source": [
    "# 4. Scaling Vectors\n",
    "\n",
    "We can also scale vectors by multiplying or dividing by a scalar (a real number). When we do so, each element in the vector is multiplied or divided by the scalar:\n",
    "\n",
    "$3* \\begin{bmatrix}\n",
    "3\\\\\n",
    "1\n",
    "\\end{bmatrix} =\n",
    "\\begin{bmatrix}\n",
    "9\\\\\n",
    "3\n",
    "\\end{bmatrix}$\n",
    "\n",
    "Between vector addition, vector subtraction, scalar multiplication, and scalar division, we can combine vectors in many different ways. Being able to combine vectors to create other vectors is a key idea in linear algebra. For example, we can combine the following vectors:\n",
    "\n",
    "$\\begin{bmatrix}\n",
    "3\\\\ \n",
    "1\n",
    "\\end{bmatrix}\\begin{bmatrix}\n",
    "1\\\\ \n",
    "0\n",
    "\\end{bmatrix}$\n",
    "\n",
    "using vector operations to try to obtain a another specific vector:\n",
    "\n",
    "$\\begin{bmatrix}\n",
    "3\\\\ \n",
    "1\n",
    "\\end{bmatrix}+ 3*\\begin{bmatrix}\n",
    "1\\\\ \n",
    "0\n",
    "\\end{bmatrix} = \n",
    "\\begin{bmatrix}\n",
    "6\\\\ \n",
    "1\n",
    "\\end{bmatrix}$\n"
   ]
  },
  {
   "cell_type": "code",
   "execution_count": 11,
   "metadata": {
    "collapsed": false
   },
   "outputs": [
    {
     "data": {
      "image/png": "[encoded data removed]",
      "text/plain": [
       "<matplotlib.figure.Figure at 0x872d470>"
      ]
     },
     "metadata": {},
     "output_type": "display_data"
    }
   ],
   "source": [
    "# This code draws the x and y axis as lines.\n",
    "plt.axhline(0, c='black', lw=0.5)\n",
    "plt.axvline(0, c='black', lw=0.5)\n",
    "plt.xlim(0,10)\n",
    "plt.ylim(0,5)\n",
    "\n",
    "# Add your code here.\n",
    "plt.quiver(0, 0, 3, 1, angles='xy', scale_units='xy', scale=1, color='blue')\n",
    "plt.quiver(0, 0, 6, 2, angles='xy', scale_units='xy', scale=1, color='green')\n",
    "plt.quiver(0, 0, 9, 3, angles='xy', scale_units='xy', scale=1, color='orange')\n",
    "\n",
    "plt.show()"
   ]
  },
  {
   "cell_type": "markdown",
   "metadata": {},
   "source": [
    "# 5. Vectors in Numpy\n",
    "\n",
    "Now that we've gained some visual intuition for how vectors work, let's see how we can compute using vectors in NumPy. In the last mission, we learned how to use the numpy.asarray() function to represent a matrix:\n",
    "\n",
    "    matrix_one = np.asarray([\n",
    "        [30, -1, -1000],\n",
    "        [50, -1, -100]  \n",
    "    ], dtype=np.float32)\n",
    "\n",
    "    array([[   30.,    -1., -1000.],\n",
    "           [   50.,    -1.,  -100.]], dtype=float32)\n",
    "\n",
    "To represent vectors in NumPy, we use the same function but we only specify a single value in each row. The following code creates a NumPy ndarray representation of the vector $\\begin{bmatrix} 1 \\\\ 2 \\\\ 1 \\end{bmatrix}$:\n",
    "\n",
    "    vector_one = np.asarray([\n",
    "        [1],\n",
    "        [2],\n",
    "        [1]\n",
    "    ], dtype=np.float32)\n",
    "\n",
    "As expected, we can use the + and the - operators to perform vector addition and subtraction. In addition, we can use the * operator to multiply a vector by a scalar quantity.\n",
    "\n",
    "    vector_two = 2*vector_one + 0.5*vector_one"
   ]
  },
  {
   "cell_type": "code",
   "execution_count": 13,
   "metadata": {
    "collapsed": false
   },
   "outputs": [
    {
     "data": {
      "text/plain": [
       "array([[ 17.],\n",
       "       [  4.],\n",
       "       [  7.]], dtype=float32)"
      ]
     },
     "execution_count": 13,
     "metadata": {},
     "output_type": "execute_result"
    }
   ],
   "source": [
    "import numpy as np\n",
    "\n",
    "vector_one = np.asarray([\n",
    "    [1],\n",
    "    [2],\n",
    "    [1]\n",
    "], dtype=np.float32)\n",
    "vector_two = np.asarray([\n",
    "    [3],\n",
    "    [0],\n",
    "    [1]\n",
    "], dtype=np.float32)\n",
    "\n",
    "vector_linear_combination = 2*vector_one + 5*vector_two\n",
    "vector_linear_combination"
   ]
  },
  {
   "cell_type": "markdown",
   "metadata": {},
   "source": [
    "# 6. Dot Product\n",
    "\n",
    "The last critical vector operation is the dot product. Dot product is similar to multiplication, but involves multiplying the elements in the vectors in a specific way. Both of these vectors need to contain the same number of elements, a requirement the other operations we've learned so far have as well. To compute the dot product, we need to sum the products of the 2 values in each position in each vector:\n",
    "\n",
    "$\\vec{a} * \\vec{b} = \\sum_{i=1}^{n} a_i b_i = a_1b_1 + a_2b_2 + ... + a_nb_n$\n",
    "\n",
    "Let's see what this looks like visually:\n",
    "\n",
    "![](dot_product.svg)\n",
    "\n",
    "Unlike the other vector operations, the result of a dot product is a scalar value, not a vector. While we won't take advantage of the dot product right away, it'll be critical in the next mission when we learn how to multiply a matrix and a vector together.\n",
    "\n",
    "To compute the dot product between 2 vectors, we need to use the numpy.dot() function. This function accepts 2 NumPy ndarray objects as the 2 required parameters. The main quirk is that one of the two vectors need to be represented as a row vector while the other a column vector:\n",
    "\n",
    "    vector_dp = np.dot(vector_one[:,0], vector_two)"
   ]
  },
  {
   "cell_type": "code",
   "execution_count": 15,
   "metadata": {
    "collapsed": false
   },
   "outputs": [
    {
     "name": "stdout",
     "output_type": "stream",
     "text": [
      "[ 4.]\n"
     ]
    }
   ],
   "source": [
    "vector_one = np.asarray([\n",
    "    [1],\n",
    "    [2],\n",
    "    [1]\n",
    "], dtype=np.float32)\n",
    "\n",
    "vector_two = np.asarray([\n",
    "    [3],\n",
    "    [0],\n",
    "    [1]\n",
    "], dtype=np.float32)\n",
    "\n",
    "dot_product = np.dot(vector_one[:,0], vector_two)\n",
    "print(dot_product)"
   ]
  },
  {
   "cell_type": "markdown",
   "metadata": {},
   "source": [
    "# 7. Linear Combination\n",
    "\n",
    "So far, we've learned that we can multiply vectors by a scalar value and combine vectors using vector addition and vector subtraction. Using these operations, we can determine if a certain vector can be obtained by combining other vectors. For example, we may want to know if we can combine the vectors $\\begin{bmatrix} 3\\\\ 1 \\end{bmatrix}$  and $\\begin{bmatrix} 1\\\\ 2 \\end{bmatrix}$ to obtain $\\begin{bmatrix} 4\\\\ -2 \\end{bmatrix}$.\n",
    "\n",
    "Here's what our problem looks like mathematically:\n",
    "\n",
    "$c_1 \\begin{bmatrix} 3\\\\ 1 \\end{bmatrix} + c_2 \\begin{bmatrix} 1\\\\ 2 \\end{bmatrix}  = \\begin{bmatrix} 4\\\\ -2 \\end{bmatrix}$\n",
    "\n",
    "In the above formula, c1 and c2 represent constant variables. We're interested in knowing if there is a c1 and a c2 where this equation is true. **Said another way, we're looking for a solution to this equation.** Here's what that problem looks like visually, assuming only integer values for the constants:\n",
    "\n",
    "![](linear_combination.svg)\n",
    "\n",
    "Being able to scale vectors using scalar multiplication then adding or subtracting these scaled vectors is known as linear combination. This concept is crucial to being able to apply linear algebra to solve useful problems. **Using the concept of linear combination, we can rephrase our problem to the following: Is [4 −2] a linear combination of the vectors [1 2] and [3 1]?\n",
    "\n",
    "Here's a visualization which shows the solution:\n",
    "\n",
    "$c_1 \\begin{bmatrix} 3\\\\ 1 \\end{bmatrix} + c_2 \\begin{bmatrix} 1\\\\ 2 \\end{bmatrix}  = \\begin{bmatrix} 4\\\\ -2 \\end{bmatrix}$\n",
    "![](linear_combination_solution.svg)"
   ]
  },
  {
   "cell_type": "code",
   "execution_count": 18,
   "metadata": {
    "collapsed": false
   },
   "outputs": [
    {
     "data": {
      "text/plain": [
       "array([[ 4.],\n",
       "       [-2.]], dtype=float32)"
      ]
     },
     "execution_count": 18,
     "metadata": {},
     "output_type": "execute_result"
    }
   ],
   "source": [
    "v = np.asarray([\n",
    "    [3],\n",
    "    [1]\n",
    "], dtype=np.float32)\n",
    "\n",
    "w = np.asarray([\n",
    "    [1],\n",
    "    [2]\n",
    "], dtype=np.float32)\n",
    "\n",
    "end_point = 2*v - 2*w\n",
    "\n",
    "end_point"
   ]
  },
  {
   "cell_type": "markdown",
   "metadata": {},
   "source": [
    "# 8. Linear Combination and Vectors\n",
    "\n",
    "Let's circle back to our optimal salary problem from the previous mission. We represented the first offer using the linear function y=500+30x and the second offer using the linear function y=100+50x. We rewrote these functions in general form. Here's what the first function looks like in general form:\n",
    "\n",
    "30x−y=−1000\n",
    "\n",
    "Here's what the second function looks like in general form:\n",
    "\n",
    "50x−y=−100\n",
    "\n",
    "To represent both linear functions in a system, we used the following augmented matrix:\n",
    "\n",
    "$\\left[\\begin{array}{rr|r}\n",
    "30 & -1 & -1000 \\\\ \n",
    "50 & -1 & -100\n",
    "\\end{array}\\right]$\n",
    "\n",
    "**We can now link this augmented matrix to the linear combination of vectors idea we just discussed.**\n",
    "\n",
    "We want to know if $\\begin{bmatrix} -1000\\\\ -100 \\end{bmatrix}$ is a linear combination of the vectors $\\begin{bmatrix} -1000\\\\ -100 \\end{bmatrix}$ and $\\begin{bmatrix} -1000\\\\ -100 \\end{bmatrix}$. To find the solution to this system, we need to find the constants x and y where the following equation is true:\n",
    "\n",
    "$x \\begin{bmatrix} 30\\\\ 50 \\end{bmatrix} + y \\begin{bmatrix} -1\\\\ -1 \\end{bmatrix} = \\begin{bmatrix} -1000\\\\ -100 \\end{bmatrix}$\n",
    "\n",
    "In the last mission, we solved the augmented matrix by using row operations to obtain the following form:\n",
    "\n",
    "$\\left[\\begin{array}{rr|r}\n",
    "1 & 0 & x\\\\ \n",
    "0 & 1 & y\n",
    "\\end{array}\\right]$\n"
   ]
  },
  {
   "cell_type": "markdown",
   "metadata": {},
   "source": [
    "# 9. The Matrix Equation\n",
    "\n",
    "The last key concept we'll briefly introduce in this mission is the matrix equation. The matrix equation is the representation of a linear system using only matrices and vectors. Here's the augmented matrix we started out with:\n",
    "\n",
    "$\\left[\\begin{array}{rr|r}\n",
    "30 & -1 & -1000 \\\\ \n",
    "50 & -1 & -100\n",
    "\\end{array}\\right]$\n",
    "\n",
    "This augmented matrix is a shorthand representation for the matrix equation:\n",
    "\n",
    "$\\left[\\begin{array}{rr|r}\n",
    "30 & -1 \\\\ \n",
    "50 & -1 \n",
    "\\end{array}\\right] \\begin{bmatrix} x\\\\ y \\end{bmatrix} =  \\begin{bmatrix} -1000\\\\ -100 \\end{bmatrix}$\n",
    "\n",
    "On the left side, we're multiplying a matrix containing the coefficients with the vector containing the variables. The right side contains the constant values. This separation of coefficients and variables from the constants should be familiar. This is exactly what we did in the general form as well!\n",
    "\n",
    "It's common practice to use x1, x2,...xn instead of x and y to represent the individual values in the solution vector.\n",
    "\n",
    "$\\left[\\begin{array}{rr|r}\n",
    "30 & -1 \\\\ \n",
    "50 & -1 \n",
    "\\end{array}\\right] \\begin{bmatrix} x_1\\\\ x_2 \\end{bmatrix} =  \\begin{bmatrix} -1000\\\\ -100 \\end{bmatrix}$\n",
    "\n",
    "This allows us to work with vectors with any number of elements (instead of just 26, for the number of letters in the English alphabet). We can now introduce the arithmetic representation of the matrix equation:\n",
    "\n",
    "$A\\vec{x} = \\vec{b}$\n",
    "\n",
    "where A represents the coefficient matrix, x→ represents the solution vector, and b→ represents the constants. Note that b→ can't be a vector containing all zeroes, also known as the zero factor and represented using 0→.\n",
    "\n",
    "Before we can work with this form of the system, we need to learn about the following topics in the next mission:\n",
    "\n",
    "- the rules that describe how matrices can be combined\n",
    "- how to multipy a matrix with a vector\n",
    "- how to calculate the solution vector x without using Gaussian elimination."
   ]
  },
  {
   "cell_type": "markdown",
   "metadata": {},
   "source": [
    "# 10. Conclusion\n",
    "\n",
    "In this mission, we built some geometric intuition for vectors and linked the augmented matrix representation of a linear system with the linear combination of vectors representation."
   ]
  }
 ],
 "metadata": {
  "kernelspec": {
   "display_name": "Python 3",
   "language": "python",
   "name": "python3"
  },
  "language_info": {
   "codemirror_mode": {
    "name": "ipython",
    "version": 3
   },
   "file_extension": ".py",
   "mimetype": "text/x-python",
   "name": "python",
   "nbconvert_exporter": "python",
   "pygments_lexer": "ipython3",
   "version": "3.6.0"
  }
 },
 "nbformat": 4,
 "nbformat_minor": 2
}
