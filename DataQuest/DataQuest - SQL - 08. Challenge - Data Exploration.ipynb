{
 "cells": [
  {
   "cell_type": "markdown",
   "metadata": {},
   "source": [
    "# 1. Intro\n",
    "In this challenge, you'll practice calculating summary statistics in SQL while exploring data from factbook.db. Recall that factbook.db contains information about all of the countries in the world. You'll work with the facts table, where each row represents a single country. Here are the descriptions for some of the columns:\n",
    "\n",
    "- name - The name of the country\n",
    "- area - The total land and sea area of the country\n",
    "- population - The country's population\n",
    "- birth_rate - The country's birth rate\n",
    "- created_at - The date the record was created\n",
    "- updated_at - The date the record was updated\n",
    "\n",
    "In this challenge, you'll use the population values for each country to predict the populations for the following year. First, you'll need to explore the data and look for any quality issues.\n",
    "\n",
    "\n",
    "**Instructions**\n",
    "- In SQL, calculate the means of the population, population_growth, birth_rate, and death_rate columns.\n",
    "- Assign the mean of the population column to pop_avg.\n",
    "- Assign the mean of the population_growth column to pop_growth_avg.\n",
    "- Assign the mean of the birth_rate column to birth_rate_avg.\n",
    "- Assign the mean of the death_rate column to death_rate_avg."
   ]
  },
  {
   "cell_type": "code",
   "execution_count": 17,
   "metadata": {
    "collapsed": true
   },
   "outputs": [],
   "source": [
    "#first import mikes custom function woooooooot!!!\n",
    "#create fetchall function\n",
    "import sqlite3\n",
    "def fetchall(q_x,db):\n",
    "    conn = sqlite3.connect(db)\n",
    "    names = []\n",
    "    [names.append(name[0]) for name in conn.execute(q_x).description]\n",
    "    print(names,'\\n')\n",
    "    for row in conn.execute(q_x).fetchall():\n",
    "        print(row)"
   ]
  },
  {
   "cell_type": "code",
   "execution_count": 19,
   "metadata": {},
   "outputs": [
    {
     "name": "stdout",
     "output_type": "stream",
     "text": [
      "['avg(population)', 'avg(population_growth)', 'avg(birth_rate)', 'avg(death_rate)'] \n",
      "\n",
      "(62094928.32231405, 1.2009745762711865, 19.32855263157894, 7.8212719298245625)\n"
     ]
    }
   ],
   "source": [
    "import sqlite3\n",
    "conn = sqlite3.connect(\"factbook.db\")\n",
    "averages = \"select avg(population), avg(population_growth), avg(birth_rate), avg(death_rate) from facts;\"\n",
    "avg_results = conn.execute(averages).fetchall()\n",
    "pop_avg = avg_results[0][0]\n",
    "pop_growth_avg = avg_results[0][1]\n",
    "birth_rate_avg = avg_results[0][2]\n",
    "death_rate_avg = avg_results[0][3]\n",
    "\n",
    "fetchall(averages,\"factbook.db\")"
   ]
  },
  {
   "cell_type": "markdown",
   "metadata": {},
   "source": [
    "# 2. Find Ranges\n",
    "\n",
    "While the averages give you some sense of the values in these columns, you should also calculate the ranges so you know what their lower and upper bounds are. This will also allow you to look for outliers.\n",
    "\n",
    "**Instructions**\n",
    "\n",
    "Calculate the minimum and maximum values for the columns from the previous screen:\n",
    "- Assign the minimum of the population column to pop_min.\n",
    "- Assign the maximum of the population column to pop_max.\n",
    "- Assign the minimum of the population_growth column to pop_growth_min.\n",
    "- Assign the maximum of the population_growth column to pop_growth_max.\n",
    "- Assign the minimum of the birth_rate column to birth_rate_min.\n",
    "- Assign the maximum of the birth_rate column to birth_rate_max.\n",
    "- Assign the minimum of the death_rate column to death_rate_min.\n",
    "- Assign the maximum of the death_rate column to death_rate_max.\n",
    "\n",
    "You can observe these values using print statements, or the variables display below the output box."
   ]
  },
  {
   "cell_type": "code",
   "execution_count": 9,
   "metadata": {},
   "outputs": [
    {
     "name": "stdout",
     "output_type": "stream",
     "text": [
      "[(0, 0.0, 6.65, 1.53)]\n",
      "[(7256490011, 4.02, 45.45, 14.89)]\n"
     ]
    }
   ],
   "source": [
    "averages = \"select avg(population), avg(population_growth), avg(birth_rate), avg(death_rate), avg(migration_rate) from facts;\"\n",
    "avg_results = conn.execute(averages).fetchall()\n",
    "pop_avg = avg_results[0][0]\n",
    "pop_growth_avg = avg_results[0][1]\n",
    "birth_rate_avg = avg_results[0][2]\n",
    "death_rate_avg = avg_results[0][3]\n",
    "mig_rate_avg = avg_results[0][4]\n",
    "\n",
    "minimums = \"select min(population), min(population_growth), min(birth_rate), min(death_rate) from facts;\"\n",
    "maximums = \"select max(population), max(population_growth), max(birth_rate), max(death_rate) from facts;\"\n",
    "min_results = conn.execute(minimums).fetchall()\n",
    "max_results = conn.execute(maximums).fetchall()\n",
    "\n",
    "# population column\n",
    "pop_min = min_results[0][0]\n",
    "pop_max = max_results[0][0]\n",
    "# population_growth column\n",
    "pop_growth_min = min_results[0][1]\n",
    "pop_growth_max = max_results[0][1]\n",
    "# birth_rate column\n",
    "birth_rate_min = min_results[0][2]\n",
    "birth_rate_max = max_results[0][2]\n",
    "# death_rate column\n",
    "death_rate_min = min_results[0][3]\n",
    "death_rate_max = max_results[0][3]\n",
    "\n",
    "print(min_results)\n",
    "print(max_results)"
   ]
  },
  {
   "cell_type": "markdown",
   "metadata": {},
   "source": [
    "# 3. Filter values\n",
    "\n",
    "If you observed the values on the previous screen, you may have noticed the outliers. The max for population is 7,256,490,011, while the minimum is 0. We know that China, the most populated country in the world, has less than 2 billion people. The max value for the population column is over 7 billion, however. The minimum value for the population column is also problematic, because no country has 0 people.\n",
    "\n",
    "These quirks exist because the database contains rows for entities that aren't countries. There's a row representing the entire world, for example (hence the 7 billion population), and some rows representing oceanic areas (hence the population of 0).\n",
    "\n",
    "**Instructions**\n",
    "\n",
    "Write a single query that returns the following minimum and maximum values for countries where population is less than 2 billion and population is greater than 0:\n",
    "\n",
    "- Assign the minimum of the population column to pop_min.\n",
    "- Assign the maximum of the population column to pop_max.\n",
    "- Assign the minimum of the population_growth column to pop_growth_min.\n",
    "- Assign the maximum of the population_growth column to pop_growth_max.\n",
    "- Assign the minimum of the birth_rate column to birth_rate_min.\n",
    "- Assign the maximum of the birth_rate column to birth_rate_max.\n",
    "- Assign the minimum of the death_rate column to death_rate_min.\n",
    "- Assign the maximum of the death_rate column to death_rate_max."
   ]
  },
  {
   "cell_type": "code",
   "execution_count": 12,
   "metadata": {},
   "outputs": [
    {
     "name": "stdout",
     "output_type": "stream",
     "text": [
      "[(48, 1367485388, 0.0, 4.02, 6.65, 45.45, 1.53, 14.89)]\n"
     ]
    }
   ],
   "source": [
    "min_and_max = '''\n",
    "select min(population), max(population), min(population_growth), max(population_growth),\n",
    "min(birth_rate), max(birth_rate), min(death_rate), max(death_rate)\n",
    "from facts where population > 0 and population < 2000000000;\n",
    "'''\n",
    "results = conn.execute(min_and_max).fetchall()\n",
    "print(results)\n",
    "\n",
    "# population column\n",
    "pop_min = results[0][0]\n",
    "pop_max = results[0][1]\n",
    "# population_growth column\n",
    "pop_growth_min = results[0][2]\n",
    "pop_growth_max = results[0][3]\n",
    "# birth_rate column\n",
    "birth_rate_min = results[0][4]\n",
    "birth_rate_max = results[0][5]\n",
    "# death_rate column\n",
    "death_rate_min = results[0][6]\n",
    "death_rate_max = results[0][7]"
   ]
  },
  {
   "cell_type": "markdown",
   "metadata": {},
   "source": [
    "# 4. Predict Future Population Growth\n",
    "\n",
    "These measures seem to align more with reality. Now let's predict next year's population for each country using the following formula:\n",
    "\n",
    "    projected_population = population + (population * (population_growth/100))\n",
    "We need to divide by 100 because the values in population_growth are percentage values (e.g. 2.32) instead of proportional values (e.g. 0.0232).\n",
    "\n",
    "**Instructions**\n",
    "\n",
    "Use SQL arithmetic to return the projected population values using the above formula and the following parameters:\n",
    "- Round the values to the nearest whole number (population can't contain a fractional value).\n",
    "- Filter out any rows with NULL as the value for either population or population_growth.\n",
    "- Restrict the query to countries with a population that's less than 7 billion and greater than 0.\n",
    "- Assign the resulting projections to projected_population."
   ]
  },
  {
   "cell_type": "code",
   "execution_count": 14,
   "metadata": {},
   "outputs": [
    {
     "name": "stdout",
     "output_type": "stream",
     "text": [
      "[(33319835.0,), (3038366.0,), (40269742.0,), (85683.0,), (20170938.0,), (93582.0,), (43835803.0,), (3060967.0,), (22994450.0,), (8713211.0,)]\n"
     ]
    }
   ],
   "source": [
    "import sqlite3\n",
    "conn = sqlite3.connect(\"factbook.db\")\n",
    "projected_population_query = '''\n",
    "select round(population + population * (population_growth/100), 0) from facts\n",
    "where population > 0 and population < 7000000000 \n",
    "and population is not null and population_growth is not null;\n",
    "'''\n",
    "\n",
    "projected_population = conn.execute(projected_population_query).fetchall()\n",
    "\n",
    "print(projected_population[0:10])"
   ]
  },
  {
   "cell_type": "markdown",
   "metadata": {},
   "source": [
    "# 5. Explore Projected Population\n",
    "To understand how global population would shift under the projections, calculate the minimum, maximum, and average values.\n",
    "\n",
    "**Instructions**\n",
    "\n",
    "Write a single query that returns:\n",
    "- the minimum of the projected population values, and assigns it to pop_proj_min.\n",
    "- the maximum of the projected population values, and assigns it to pop_proj_max.\n",
    "- the average of the projected population values, and assigns it to pop_proj_avg.\n",
    "\n",
    "Be sure to:\n",
    "- Round all fractional values to the nearest whole number.\n",
    "- Filter out any rows with NULL as the value for either population or population_growth.\n",
    "- Restrict the query to countries with a population of less than 7 billion and greater than 0.\n",
    "- Use print statements or the variables display below the output box to observe these values."
   ]
  },
  {
   "cell_type": "code",
   "execution_count": 16,
   "metadata": {},
   "outputs": [
    {
     "name": "stdout",
     "output_type": "stream",
     "text": [
      "Projected Population, Minimum:  48.0\n",
      "Projected Population, Maximum:  1373639072.0\n",
      "Projected Population, Average:  33405469.0\n"
     ]
    }
   ],
   "source": [
    "proj_pop_query = '''\n",
    "select round(min(population + population * (population_growth/100)), 0), \n",
    "round(max(population + population * (population_growth/100)), 0), \n",
    "round(avg(population + population * (population_growth/100)), 0)\n",
    "from facts \n",
    "where population > 0 and population < 7000000000 and \n",
    "population is not null and population_growth is not null;\n",
    "'''\n",
    "\n",
    "proj_results = conn.execute(proj_pop_query).fetchall()\n",
    "\n",
    "pop_proj_min = proj_results[0][0]\n",
    "pop_proj_max = proj_results[0][1]\n",
    "pop_proj_avg = proj_results[0][2]\n",
    "\n",
    "print(\"Projected Population,\", \"Minimum: \", pop_proj_min)\n",
    "print(\"Projected Population,\", \"Maximum: \", pop_proj_max)\n",
    "print(\"Projected Population,\", \"Average: \", pop_proj_avg)"
   ]
  },
  {
   "cell_type": "markdown",
   "metadata": {},
   "source": [
    "# 6. Next Steps\n",
    "\n",
    "In this challenge, you calculated summary statistics to understand the data better, and then projected the following year's population for each country using SQL arithmetic. In the next mission, you'll learn about group summary techniques for segmenting data in your queries.\n"
   ]
  }
 ],
 "metadata": {
  "kernelspec": {
   "display_name": "Python 3",
   "language": "python",
   "name": "python3"
  },
  "language_info": {
   "codemirror_mode": {
    "name": "ipython",
    "version": 3
   },
   "file_extension": ".py",
   "mimetype": "text/x-python",
   "name": "python",
   "nbconvert_exporter": "python",
   "pygments_lexer": "ipython3",
   "version": "3.6.3"
  }
 },
 "nbformat": 4,
 "nbformat_minor": 2
}
