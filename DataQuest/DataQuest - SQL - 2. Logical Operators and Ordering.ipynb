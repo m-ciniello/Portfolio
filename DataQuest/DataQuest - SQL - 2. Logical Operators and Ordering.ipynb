{
 "cells": [
  {
   "cell_type": "markdown",
   "metadata": {},
   "source": [
    "# 1. Introduction to Logical Operators\n",
    "In the previous mission, we covered the basics of databases, SQL, and the SELECT statement. In this mission, we'll explore how to express more complex filtering criteria. We'll continue to work with the data set, recent-grads.csv, which we've loaded into the table recent_grads. Here's a preview:\n",
    "\n",
    "![](Picture3.png)\n",
    "\n",
    "We learned about SQL's comparison operators in the last lesson:\n",
    "\n",
    "- Less than: <\n",
    "- Less than or equal to: <=\n",
    "- Greater than: >\n",
    "- Greater than or equal to: >=\n",
    "- Equal to: =\n",
    "- Not equal to: !=\n",
    "\n",
    "These were useful for expressing our filtering criteria, or condition, in the WHERE statement. But what if we want to use multiple filtering criteria to specify the data we want from the database?\n",
    "\n",
    "Logical operators are keywords we can use to combine filtering criteria and express more specific conditions. Here are the two basic logical operators we use most often:\n",
    "\n",
    "- OR (returns either Condition1 or Condition2)\n",
    "- AND (returns both Condition1 and Condition2)"
   ]
  },
  {
   "cell_type": "markdown",
   "metadata": {},
   "source": [
    "# 2. Returning Multiple Conditions With AND\n",
    "The following psuedo-code will help you conceptualize how we use the AND statement with a WHERE statement:\n",
    "\n",
    "    SELECT [column1, column2,...] FROM [table1]\n",
    "    WHERE [condition1] AND [condition2]\n",
    "Now we can write a SQL query that returns all of the female-majority majors with more than 10000 employed graduates.\n",
    "\n",
    "Let's see what this query looks like:\n",
    "\n",
    "    SELECT Major,ShareWomen,Employed FROM recent_grads \n",
    "    WHERE ShareWomen>0.5 AND Employed>10000;\n",
    "We want the database to return all of the rows where both conditions are true:\n",
    "\n",
    "1. ShareWomen > 0.5\n",
    "2. Employed > 10000\n",
    "\n",
    "**Instructions**\n",
    "\n",
    "- Run the query above, which returns all of the female-majority majors with more than 10000 employed graduates.\n",
    "- Use the LIMIT statement to return just the first 10 results."
   ]
  },
  {
   "cell_type": "code",
   "execution_count": 6,
   "metadata": {},
   "outputs": [
    {
     "name": "stdout",
     "output_type": "stream",
     "text": [
      "('COMPUTER SCIENCE', 0.578766338, 102087)\n",
      "('NURSING', 0.896018988, 180903)\n",
      "('COMPUTER AND INFORMATION SYSTEMS', 0.7077185020000001, 28459)\n",
      "('INTERNATIONAL RELATIONS', 0.632986838, 21190)\n",
      "('AGRICULTURE PRODUCTION AND MANAGEMENT', 0.59420765, 12323)\n",
      "('CHEMISTRY', 0.5051405379999999, 48535)\n",
      "('BUSINESS MANAGEMENT AND ADMINISTRATION', 0.580948004, 276234)\n",
      "('BIOCHEMICAL SCIENCES', 0.515406449, 25678)\n",
      "('HUMAN RESOURCES AND PERSONNEL MANAGEMENT', 0.672161443, 20760)\n",
      "('MISCELLANEOUS HEALTH MEDICAL PROFESSIONS', 0.702020202, 10076)\n"
     ]
    }
   ],
   "source": [
    "import sqlite3\n",
    "jobs = sqlite3.connect('jobs.db')\n",
    "c = jobs.cursor()\n",
    "\n",
    "for row in c.execute('''SELECT Major,ShareWomen,Employed \n",
    "FROM recent_grads \n",
    "WHERE ShareWomen>0.5 AND Employed>10000 \n",
    "LIMIT 10;'''):\n",
    "    print(row)"
   ]
  },
  {
   "cell_type": "markdown",
   "metadata": {},
   "source": [
    "# 3. Returning One of Several Conditions With OR\n",
    "\n",
    "We used the AND operator to specify that our filter needs to pass two Boolean conditions. Both of the conditions had to evaluate to True for the record to appear in the result set. If we wanted to specify a filter that meets either of the conditions instead, we would use the OR operator.\n",
    "\n",
    "    SELECT [column1, column2,...] FROM [table1]\n",
    "    WHERE [condition1] OR [condition2]\n",
    "\n",
    "We'll dive straight into a practice problem because we use the OR and AND operators in similar ways.\n",
    "\n",
    "**Instructions**\n",
    "\n",
    "Write a SQL query that returns the first 20 majors that either:\n",
    "- have a Median salary greater than or equal to 10,000, or\n",
    "- have less than or equal to 1,000 Unemployed people\n",
    "\n",
    "We only want to include the following columns in the results, and in this order:\n",
    "- Major\n",
    "- Median\n",
    "- Unemployed"
   ]
  },
  {
   "cell_type": "code",
   "execution_count": 10,
   "metadata": {},
   "outputs": [
    {
     "name": "stdout",
     "output_type": "stream",
     "text": [
      "('PETROLEUM ENGINEERING', 110000, 37)\n",
      "('MINING AND MINERAL ENGINEERING', 75000, 85)\n",
      "('METALLURGICAL ENGINEERING', 73000, 16)\n",
      "('NAVAL ARCHITECTURE AND MARINE ENGINEERING', 70000, 40)\n",
      "('CHEMICAL ENGINEERING', 65000, 1672)\n",
      "('NUCLEAR ENGINEERING', 65000, 400)\n",
      "('ACTUARIAL SCIENCE', 62000, 308)\n",
      "('ASTRONOMY AND ASTROPHYSICS', 62000, 33)\n",
      "('MECHANICAL ENGINEERING', 60000, 4650)\n",
      "('ELECTRICAL ENGINEERING', 60000, 3895)\n",
      "('COMPUTER ENGINEERING', 60000, 2275)\n",
      "('AEROSPACE ENGINEERING', 60000, 794)\n",
      "('BIOMEDICAL ENGINEERING', 60000, 1019)\n",
      "('MATERIALS SCIENCE', 60000, 78)\n",
      "('ENGINEERING MECHANICS PHYSICS AND SCIENCE', 58000, 23)\n",
      "('BIOLOGICAL ENGINEERING', 57100, 589)\n",
      "('INDUSTRIAL AND MANUFACTURING ENGINEERING', 57000, 699)\n",
      "('GENERAL ENGINEERING', 56000, 2859)\n",
      "('ARCHITECTURAL ENGINEERING', 54000, 170)\n",
      "('COURT REPORTING', 54000, 11)\n"
     ]
    }
   ],
   "source": [
    "def print_sql(sql_command):\n",
    "    for row in c.execute(sql_command):\n",
    "        print(row)  \n",
    "        \n",
    "x='''SELECT Major,Median,Unemployed FROM recent_grads WHERE Median >= 10000 OR Unemployed <= 1000 LIMIT 20;'''\n",
    "\n",
    "print_sql(x)"
   ]
  },
  {
   "cell_type": "markdown",
   "metadata": {},
   "source": [
    "# 4. Grouping Operators With Parentheses\n",
    "\n",
    "There's a certain class of questions that we can't answer using only the techniques we've learned so far. For example, if we wanted to write a query that returned all Engineering majors that either had mostly female graduates or an unemployment rate below 5.1%, we would need to use parentheses to express this more complex logic.\n",
    "\n",
    "The three raw conditions we'll need are:\n",
    "\n",
    "    Major_category = 'Engineering'\n",
    "    ShareWomen >= 0.5\n",
    "    Unemployment_rate < 0.051\n",
    "\n",
    "What the SQL query looks like using parantheses:\n",
    "\n",
    "    select Major, Major_category, ShareWomen, Unemployment_rate\n",
    "    from recent_grads\n",
    "    where (Major_category = 'Engineering') and (ShareWomen > 0.5 or Unemployment_rate < 0.051);\n",
    "\n",
    "The first thing you may notice is that we didn't capitalize any of the operators or statements in the query. SQL's built-in keywords are case-insensitive, which means we don't have to capitalize operators like AND or statements like SELECT.\n",
    "\n",
    "The second thing you may notice is how we enclosed the logic we wanted to be evaluated together in parentheses. This is very similar to how we group mathematical calculations together in a particular order. The parentheses makes it explictly clear to the database that we want all of the rows where both of the expressions in the statements evaluate to True:\n",
    "\n",
    "    (Major_category = 'Engineering' and ShareWomen > 0.5) -> True or False\n",
    "    (ShareWomen > 0.5 or Unemployment_rate < 0.051) -> True or False\n",
    "\n",
    "If we had written the where statement without any parentheses, the database would guess what our intentions are, and actually execute the following query instead:\n",
    "\n",
    "    where (Major_category = 'Engineering' and ShareWomen > 0.5) or (Unemployment_rate < 0.051)\n",
    "    \n",
    "Leaving the parentheses out implies that we want the calculation to happen from left to right in the order in which the logic is written, and wouldn't return us the data we want. Now let's run our intended query and see the results!\n",
    "\n",
    "**Instructions**\n",
    "- Run the query we explored above, which returns all Engineering majors that:\n",
    "    - either had mostly women graduates\n",
    "    - or had an unemployment rate below 5.1%, which was the rate in August 2015\n",
    "- We're interested in returning the Major, Major_category, ShareWomen, and Unemployment_rate columns."
   ]
  },
  {
   "cell_type": "code",
   "execution_count": 12,
   "metadata": {},
   "outputs": [
    {
     "name": "stdout",
     "output_type": "stream",
     "text": [
      "('PETROLEUM ENGINEERING', 'Engineering', 0.120564344, 0.018380527)\n",
      "('METALLURGICAL ENGINEERING', 'Engineering', 0.153037383, 0.024096386)\n",
      "('NAVAL ARCHITECTURE AND MARINE ENGINEERING', 'Engineering', 0.107313196, 0.050125313)\n",
      "('MATERIALS SCIENCE', 'Engineering', 0.310820285, 0.023042836)\n",
      "('ENGINEERING MECHANICS PHYSICS AND SCIENCE', 'Engineering', 0.183985189, 0.006334343)\n",
      "('INDUSTRIAL AND MANUFACTURING ENGINEERING', 'Engineering', 0.34347321799999997, 0.042875544)\n",
      "('MATERIALS ENGINEERING AND MATERIALS SCIENCE', 'Engineering', 0.292607004, 0.027788805)\n",
      "('ENVIRONMENTAL ENGINEERING', 'Engineering', 0.558548009, 0.093588575)\n",
      "('INDUSTRIAL PRODUCTION TECHNOLOGIES', 'Engineering', 0.75047259, 0.028308097)\n",
      "('ENGINEERING AND INDUSTRIAL MANAGEMENT', 'Engineering', 0.174122505, 0.03365166)\n"
     ]
    }
   ],
   "source": [
    "sql='''select Major, Major_category, ShareWomen, Unemployment_rate\n",
    "from recent_grads\n",
    "where (Major_category = 'Engineering') and (ShareWomen > 0.5 or Unemployment_rate < 0.051);'''\n",
    "\n",
    "print_sql(sql)"
   ]
  },
  {
   "cell_type": "markdown",
   "metadata": {},
   "source": [
    "# 5. Practice Grouping Operators\n",
    "\n",
    "In this step, you'll practice grouping operators to express more complex logic.\n",
    "\n",
    "**Instructions**\n",
    "\n",
    "Find all majors that meet all of the following criteria:\n",
    "- Major_category of Business or Arts or Health\n",
    "- Employed students greater than 20,000 or Unemployment_rate below 5.1%\n",
    "\n",
    "We're only interested in the following columns (in the following order):\n",
    "- Major\n",
    "- Major_category\n",
    "- Employed\n",
    "- Unemployment_rate\n",
    "\n",
    "Return all of the results (don't apply a limit)."
   ]
  },
  {
   "cell_type": "code",
   "execution_count": 15,
   "metadata": {},
   "outputs": [
    {
     "name": "stdout",
     "output_type": "stream",
     "text": [
      "('OPERATIONS LOGISTICS AND E-COMMERCE', 'Business', 10027, 0.047858702999999995)\n",
      "('NURSING', 'Health', 180903, 0.04486272400000001)\n",
      "('FINANCE', 'Business', 145696, 0.060686356)\n",
      "('ACCOUNTING', 'Business', 165527, 0.069749014)\n",
      "('MEDICAL TECHNOLOGIES TECHNICIANS', 'Health', 13150, 0.03698279)\n",
      "('MEDICAL ASSISTING SERVICES', 'Health', 9168, 0.042506527)\n",
      "('GENERAL BUSINESS', 'Business', 190183, 0.072861468)\n",
      "('BUSINESS MANAGEMENT AND ADMINISTRATION', 'Business', 276234, 0.07221834099999999)\n",
      "('MARKETING AND MARKETING RESEARCH', 'Business', 178862, 0.061215064000000007)\n",
      "('HUMAN RESOURCES AND PERSONNEL MANAGEMENT', 'Business', 20760, 0.059569649)\n",
      "('COMMERCIAL ART AND GRAPHIC DESIGN', 'Arts', 83483, 0.096797577)\n",
      "('TREATMENT THERAPY PROFESSIONS', 'Health', 37861, 0.059821207)\n",
      "('HOSPITALITY MANAGEMENT', 'Business', 36728, 0.061169193)\n",
      "('GENERAL MEDICAL AND HEALTH SERVICES', 'Health', 24406, 0.082101621)\n",
      "('FILM VIDEO AND PHOTOGRAPHIC ARTS', 'Arts', 31433, 0.10577224)\n",
      "('MUSIC', 'Arts', 47662, 0.075959674)\n",
      "('FINE ARTS', 'Arts', 59679, 0.084186296)\n",
      "('COMMUNICATION DISORDERS SCIENCES AND SERVICES', 'Health', 29763, 0.047583999999999994)\n",
      "('DRAMA AND THEATER ARTS', 'Arts', 36165, 0.07754113)\n"
     ]
    }
   ],
   "source": [
    "x='''select Major, Major_category, Employed, Unemployment_rate\n",
    "from recent_grads\n",
    "where (Major_category = 'Business' or Major_category = 'Arts' or Major_category = 'Health') \n",
    "and (Employed > 20000 or Unemployment_rate < 0.051);'''\n",
    "\n",
    "print_sql(x)"
   ]
  },
  {
   "cell_type": "markdown",
   "metadata": {},
   "source": [
    "# 6. Order Results With ORDER BY\n",
    "\n",
    "The database has been ordering all of our results by the Rank column, because that's how the original data set ordered the data. This may not make sense for all queries, though. SQL comes with an ORDER BY statement that allows us to specify how we want the database to order our results. To use the ORDER BYstatement, we need to specify the column we want to order the results by, and whether we want to order them in ascending (low to high) or descending order.\n",
    "\n",
    "    SELECT [column1, column2,...] FROM [table1]\n",
    "    WHERE [conditions]..\n",
    "    ORDER BY column1 [ASC or DESC]\n",
    "\n",
    "We use ASC to order from low to high, and DESC to order from high to low. SQL uses the standard methods of ordering -- alphabetically for text fields and numerically for numeric fields. This means that if we order by a text field in descending order, the results will be in reverse alphabetical order.\n",
    "\n",
    "The following code selects the Employed column, orders it in ascending order (low to high), and limits the results to the first 10:\n",
    "\n",
    "    select Employed\n",
    "    from recent_grads\n",
    "    order by Employed asc\n",
    "    limit 10;\n",
    "    \n",
    "This query returns the lowest 10 values in the Employed column. First, it puts the values in Employed in ascending order, then returns the first 10 values under the new ordering.\n",
    "\n",
    "**Instructions**\n",
    "\n",
    "- Return the first 10 values in the Major column in reverse alphabetical order."
   ]
  },
  {
   "cell_type": "code",
   "execution_count": 17,
   "metadata": {},
   "outputs": [
    {
     "name": "stdout",
     "output_type": "stream",
     "text": [
      "('ZOOLOGY',)\n",
      "('VISUAL AND PERFORMING ARTS',)\n",
      "('UNITED STATES HISTORY',)\n",
      "('TREATMENT THERAPY PROFESSIONS',)\n",
      "('TRANSPORTATION SCIENCES AND TECHNOLOGIES',)\n",
      "('THEOLOGY AND RELIGIOUS VOCATIONS',)\n",
      "('TEACHER EDUCATION: MULTIPLE LEVELS',)\n",
      "('STUDIO ARTS',)\n",
      "('STATISTICS AND DECISION SCIENCE',)\n",
      "('SPECIAL NEEDS EDUCATION',)\n"
     ]
    }
   ],
   "source": [
    "x='''select Major\n",
    "from recent_grads\n",
    "order by Major desc\n",
    "limit 10;'''\n",
    "\n",
    "print_sql(x)"
   ]
  },
  {
   "cell_type": "markdown",
   "metadata": {},
   "source": [
    "# 7. Order Results Based on Multiple Columns\n",
    "\n",
    "SQL also allows us to specify multiple columns in the ORDER BY statement. If multiple rows have the same values in one column, for example, we can order by that column first, then by a different column. You may have done something similar with a Microsoft Excel spreadsheet.\n",
    "\n",
    "Here's what the psuedocode for this looks like:\n",
    "\n",
    "    select [column1, column2..]\n",
    "    from table_name\n",
    "    order by column1 (asc or desc), column2 (asc or desc)\n",
    "    \n",
    "Ordering by multiple columns is especially useful when working with people's names, because databases often have separate columns for first and last names. We can specify that we want to order or alphabetize query results by Last Name and First Name. After alphabetizing all last names, the database will alphabetize all rows that have the same values for Last Name by First Name.\n",
    "\n",
    "    Last Name\tFirst Name\n",
    "    Khan\tSal\n",
    "    Khan\tTony\n",
    "    Prescot\tPete\n",
    "    Prescot\tRuss\n",
    "\n",
    "Now it's your turn!\n",
    "\n",
    "**Instructions**\n",
    "\n",
    "Write a query that orders the majors by Major in ascending order, then by Median salary in descending order. We're interested in selecting only these columns, in the following order:\n",
    "- Major_category\n",
    "- Median\n",
    "- Major\n",
    "Limit the query to just the first 20 results."
   ]
  },
  {
   "cell_type": "code",
   "execution_count": 22,
   "metadata": {},
   "outputs": [
    {
     "name": "stdout",
     "output_type": "stream",
     "text": [
      "('Business', 45000, 'ACCOUNTING')\n",
      "('Business', 62000, 'ACTUARIAL SCIENCE')\n",
      "('Communications & Journalism', 35000, 'ADVERTISING AND PUBLIC RELATIONS')\n",
      "('Engineering', 60000, 'AEROSPACE ENGINEERING')\n",
      "('Agriculture & Natural Resources', 40000, 'AGRICULTURAL ECONOMICS')\n",
      "('Agriculture & Natural Resources', 40000, 'AGRICULTURE PRODUCTION AND MANAGEMENT')\n",
      "('Agriculture & Natural Resources', 30000, 'ANIMAL SCIENCES')\n",
      "('Humanities & Liberal Arts', 28000, 'ANTHROPOLOGY AND ARCHEOLOGY')\n",
      "('Computers & Mathematics', 45000, 'APPLIED MATHEMATICS')\n",
      "('Engineering', 54000, 'ARCHITECTURAL ENGINEERING')\n"
     ]
    }
   ],
   "source": [
    "x='''select Major_category, Median, Major\n",
    "from recent_grads\n",
    "order by Major asc, Median desc\n",
    "limit 10;'''\n",
    "\n",
    "print_sql(x)"
   ]
  },
  {
   "cell_type": "markdown",
   "metadata": {},
   "source": [
    "# 8. Next Steps\n",
    "This lesson gave you some practice with writing and running SQL queries. The next mission in this course is a challenge that will give you an opportunity to apply what you've learned so far."
   ]
  }
 ],
 "metadata": {
  "kernelspec": {
   "display_name": "Python 3",
   "language": "python",
   "name": "python3"
  },
  "language_info": {
   "codemirror_mode": {
    "name": "ipython",
    "version": 3
   },
   "file_extension": ".py",
   "mimetype": "text/x-python",
   "name": "python",
   "nbconvert_exporter": "python",
   "pygments_lexer": "ipython3",
   "version": "3.6.3"
  }
 },
 "nbformat": 4,
 "nbformat_minor": 2
}
