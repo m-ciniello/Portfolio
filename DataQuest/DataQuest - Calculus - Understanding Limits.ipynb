{
 "cells": [
  {
   "cell_type": "markdown",
   "metadata": {},
   "source": [
    "# 1. Introduction To Limits\n",
    "At the end of the last mission, we fixed a first point on our curve, drew a secant line between that first point and another second point, and observed what happened when we moved the second point closer to the first point along the curve. **The larger the interval between the 2 points on the x-axis, the more the steepness of the secant line diverged from the steepness of the curve. The closer the interval, the more the secant line started to match the steepness at the first point on the curve.**\n",
    "\n",
    "In this mission, we'll formalize the idea of slope further and learn how to calculate the slope for nonlinear equations at any given point. As you go through the rest of this course, we strongly recommend following the math we present using pencil and paper. We'll start by introducing some mathematical notation that formalizes the observation we made at the end of the last mission. If we try to state the observation by plugging in values to the slope equation, we'll run into the division by zero problem:\n",
    "\n",
    "$m = \\frac{f(x_2) - f(x_1)}{x_2 - x_1} = 0 / 0$\n",
    "\n",
    "Even though the slope is undefined when x1 and x2 are equivalent, we still want to be able to state and reason about what value the slope approaches as x2 approaches x1. To do that, we need to reframe the problem as a limit. **A limit desribes the value a function approaches when the input variable to the function approaches a specific value.** In our case, the input variable is x2 and our function is $m = \\frac{f(x_2) - f(x_1)}{x_2 - x_1}$. The following mathematical notation formalizes the statement \"As x2 approaches 3, the slope between x1 and x2 approaches −3\" using a limit:\n",
    "\n",
    "$\\lim_{x_2 \\to 3} \\frac{f(x_2) - f(x_1)}{x_2 - x_1} = -3$\n",
    "\n",
    "limx2→3 is another way of saying \"As x2 approaches 3\". Because we fixed x1 to 3, we can replace x1 with 3 in the function:\n",
    "\n",
    "$\\lim_{x_2 \\to 3} \\frac{f(x_2) - f(3)}{x_2 - 3} =  \\lim_{x_2 \\to 3} \\frac{f(x_2) + 1}{x_2 - 3} = -3$\n",
    "\n",
    "We still need to prove that this limit actually does equal −3, which we'll spend the rest of this mission exploring."
   ]
  },
  {
   "cell_type": "markdown",
   "metadata": {},
   "source": [
    "# 2. Defined Vs. Undefined Limits\n",
    "\n",
    "There are 2 kinds of limits -- **defined limits** and **undefined limits**. As you can probably guess, the limit we looked at in the last screen was an undefined limit because plugging in 3 for x2 results in an undefined value. A defined limit can be evaluated just be substituting the value into the limit.\n",
    "\n",
    "Let's start by understanding how defined limits work. Whenever the resulting value of a limit is defined at the value the input variable approaches, we say that limit is defined. In the last mission, we generated a table of values that displayed the slopes of the secant lines between closer and closer points to x1=3:\n",
    "\n",
    "| x2 | x1 | m |\n",
    "|------|------|------|\n",
    "|2.9\t|3|\t-2.9|\n",
    "|2.99\t|3|\t-2.99|\n",
    "|2.999\t|3|\t-2.999|\n",
    "|3.01\t|3|\t-3.01|\n",
    "|3.001\t|3|\t-3.001|\n",
    "|3.0001\t|3|\t-3.0001|\n",
    "\n",
    "To calculate each of these slopes, we plugged in both x1 and x2 values into the slope equation. Here's the calculation for the slope of the secant line between the points at x1=3 and x2=2.9 where $f(x) = -(x^2) + 3x - 1$:\n",
    "\n",
    "$m = \\frac{f(2.9) - f(3)}{2.9 - 3} = -2.9$\n",
    "\n",
    "We can actually rewrite each of these as defined limits. For example, the following defined limit describes the slope of the secant line between the same 2 points points:\n",
    "\n",
    "$\\lim_{x_2 \\to 2.9} \\frac{f(x_2) - f(x_1)}{x_2 - x_1}$\n",
    "\n",
    "Since we've fixed x1 to the value 3, we can replace x1 with 3 and f(x1) with −1:\n",
    "\n",
    "$\\lim_{x_2 \\to 2.9} \\frac{f(x_2) - (-1)}{x_2 - 3}$\n",
    "\n",
    "To finish solving the limit, we can use direct substition and plug in 2.9 for x2 into the limit. This is because the limit is defined at the specific value (2.9) that the input variable approaches (x2). When we can replace the input variable with the value it approaches in the limit, the problem is converted to a regular arithmetic problem:\n",
    "\n",
    "$\\frac{f(2.9) - (-1)}{2.9 - 3} = -2.9$\n",
    "\n",
    "Hopefully this process has shed some light on how we can solve undefined limits like the one we posed in the first screen. **By rewriting and converting an undefined limit to a defined limit, we can solve the limit using direct substitution and standard arithmetic.**\n",
    "\n",
    "Before diving into how to convert an undefined limit to a defined limit, let's explore how to compute limits using Python to verify our work."
   ]
  },
  {
   "cell_type": "markdown",
   "metadata": {},
   "source": [
    "# 3. Introduction To SymPy\n",
    "The SymPy library has a suite of functions that let us calculate limits. The syntax for SymPy closely follows mathematical notation. To start, we need to import the library and use sympy.symbols() declare the variables we want to be treated as symbols for SymPy to parse:\n",
    "\n",
    "    >> import sympy\n",
    "    >> x,y = sympy.symbols('x y')\n",
    "    \n",
    "In the last mission, we plotted a function by generating many x values (and assigning to x), transforming those x values to y values (assigned to y) using Python arithmetic operators, and using matplotlib to plot both lists:\n",
    "\n",
    "\n",
    "    >> x = np.linspace(0, 3, 100)\n",
    "    >> y = -1*(x**2) + x*3 - 1\n",
    "    >> plt.plot(x,y)\n",
    "    \n",
    "In SymPy, the workflow is different and the Python variables we use don't directly map to specific values. In SymPy, Python variables map directly to variables in math. We express a mathematical function as a transformation of the Python variable. When we called sympy.symbols() and passed in x, x points to a special SymPy object (not a list):\n",
    "\n",
    "\n",
    "    >> type(x)\n",
    "    sympy.core.symbol.Symbo\n",
    "\n",
    "We then need to express the mathematical function in SymPy. We use standard Python arithmetic operators for this:\n",
    "\n",
    "    >> y = x**2 + 3*x\n",
    "    \n",
    "Instructions: \n",
    "\n",
    "- Import SymPy and declare x and y as SymPy symbols.\n",
    "- Try expressing y=x2+1 using the ^ character instead of **. Display y using the print() function. What's the result?\n",
    "- What happens when you run y = 3(x) in Python?"
   ]
  },
  {
   "cell_type": "code",
   "execution_count": 10,
   "metadata": {
    "collapsed": false
   },
   "outputs": [
    {
     "name": "stdout",
     "output_type": "stream",
     "text": [
      "Not(x)\n"
     ]
    }
   ],
   "source": [
    "import sympy\n",
    "x,y = sympy.symbols('x y')\n",
    "y=x^2 + 1\n",
    "\n",
    "print(y)\n"
   ]
  },
  {
   "cell_type": "markdown",
   "metadata": {},
   "source": [
    "# 4. Limits using SymPy\n",
    "\n",
    "**Learn**\n",
    "After we've defined the variables and the mathematical function in SymPy, we use the sympy.limit() function to calculate the limit. This function takes in 3 parameters:\n",
    "\n",
    "- the function we're taking the limit for\n",
    "- the input variable\n",
    "- the value the input variable approaches\n",
    "\n",
    "In this screen and the next few screens, we'll work with some new limit problems to understand the basic ideas. Let's say we wanted to solve the following defined limit:\n",
    "\n",
    "$\\lim_{x \\to 1} x^2 + 1$\n",
    "\n",
    "For this problem, the input varialbe is x and the limit criteria is limx→1. Here's how to express that in SymPy:\n",
    "    \n",
    "    limit_one = sympy.limit(x**2 +1, x, 1)\n",
    "\n",
    "Let's practice calculating limits using SymPy.\n",
    "\n",
    "**Instructions**\n",
    "\n",
    "Use SymPy to confirm that $\\lim_{x_2 \\to 2.9} \\frac{f(x_2) - (-1)}{x_2 - 3} = -2.9$. You'll need to plug in x2=2.9 into f(x)=−(x2)+3x−1 before passing in the limit function to sympy.limit().\n",
    "Assign the result of the limit calculation to limit_one and display it using the print() function."
   ]
  },
  {
   "cell_type": "code",
   "execution_count": 15,
   "metadata": {
    "collapsed": false
   },
   "outputs": [
    {
     "name": "stdout",
     "output_type": "stream",
     "text": [
      "-2.89999999999999\n"
     ]
    }
   ],
   "source": [
    "import sympy\n",
    "x2,y = sympy.symbols('x2 y')\n",
    "\n",
    "limit_one = sympy.limit((-x2**2 +3*x2-1+1)/(x2-3) , x2, 2.9)\n",
    "print(limit_one)"
   ]
  },
  {
   "cell_type": "markdown",
   "metadata": {},
   "source": [
    "# 5. Properties of Limits\n",
    "\n",
    "**Learn**\n",
    "SymPy returned −2.9 as the slope of the secant line, which matches our calculation using the slope formula. Before we can convert undefined limits to defined limits, we need to first understand some of the properties of limits. Using these properties, we can rework undefined limits to defined limits and solve them. Here's the first property:\n",
    "\n",
    "$\\lim_{x \\to a} [f(x) + g(x)] = \\lim_{x \\to a} f(x) + \\lim_{x \\to a} g(x)$\n",
    "\n",
    "This property allows us to break up limits with terms that are being summed into their individual components. This also holds true for subtraction:\n",
    "\n",
    "$\\lim_{x \\to a} [f(x) - g(x)] = \\lim_{x \\to a} f(x) - \\lim_{x \\to a} g(x)$\n",
    "\n",
    "We can apply these rules to break up the following limit into smaller components:\n",
    "\n",
    "$\\lim_{x \\to 1} [3x^2 + 3x - 3]$\n",
    "\n",
    "*Even though this is a **defined limit** and we can solve it using direct substition, it's a good example for understanding how to apply these properties. By applying the property we just learned, the equation breaks down into:*\n",
    "\n",
    "$\\lim_{x \\to 1} [3x^2] + \\lim_{x \\to 1} [3x] - \\lim_{x \\to 1} [3]$\n",
    "\n",
    "Now lets plug in x=1 to each of these limit terms.\n",
    "\n",
    "3+3−3=3\n",
    "While we won't dive into the proofs for these limit properties in this mission, you can read more about them here. Let's use SymPy to confirm this result.\n",
    "\n",
    "**Instructions**\n",
    "\n",
    "Use SymPy to calculate $\\lim_{x \\to 1} [3x^2 + 3x - 3]$.\n",
    "Assign the result to limit_two and displa"
   ]
  },
  {
   "cell_type": "code",
   "execution_count": 24,
   "metadata": {
    "collapsed": false
   },
   "outputs": [
    {
     "name": "stdout",
     "output_type": "stream",
     "text": [
      "3\n"
     ]
    }
   ],
   "source": [
    "import sympy\n",
    "x,y = sympy.symbols('x y')\n",
    "\n",
    "limit = 1\n",
    "\n",
    "limit_one = sympy.limit((3*(x**2)) + (3*x) - 3, x, limit)\n",
    "print(limit_one)"
   ]
  },
  {
   "cell_type": "markdown",
   "metadata": {},
   "source": [
    "# 6. Properties of Limits Continued...\n",
    "**Learn**\n",
    "\n",
    "The second property allows us to break up terms that are being multiplied by a constant:\n",
    "\n",
    "$\\lim_{x \\to a} [cf(x)] = c \\lim_{x \\to a} f(x)$\n",
    "\n",
    "Here's the limit from the last screen before we performed direct substitution:\n",
    "\n",
    "$\\lim_{x \\to 1} [3x^2] + \\lim_{x \\to 1} [3x] - \\lim_{x \\to 1} [3]$\n",
    "\n",
    "If we apply the limit property from this screen, the limit terms transform into:\n",
    "\n",
    "$3 \\lim_{x \\to 1} [x^2] + 3 \\lim_{x \\to 1} [x] - 3 \\lim_{x \\to 1} [1]$\n",
    "\n",
    "If we use direct substitution, we'll get the same answer as the last screen: 3+3−3=3\n",
    "\n",
    "As you become more familiar with these properties, you'll be able to apply multiple properties at once and convert the following limit:\n",
    "\n",
    "$\\lim_{x \\to 1} [3x^2 + 3x - 3]$\n",
    "\n",
    "To the simplified form immediately:\n",
    "\n",
    "$3 \\lim_{x \\to 1} [x^2] + 3 \\lim_{x \\to 1} [x] - 3 \\lim_{x \\to 1} [1]$\n",
    "\n",
    "**Instructions**\n",
    "\n",
    "Use the limit properties you just learned to solve the following limit: $\\lim_{x \\to -1} [x^3 + 2x^2 - 10x]$\n",
    "Calculate it by hand first then by using SymPy.\n",
    "Assign the result to limit_three and display using the print() function."
   ]
  },
  {
   "cell_type": "code",
   "execution_count": 26,
   "metadata": {
    "collapsed": false
   },
   "outputs": [
    {
     "name": "stdout",
     "output_type": "stream",
     "text": [
      "11\n"
     ]
    }
   ],
   "source": [
    "import sympy\n",
    "x,y = sympy.symbols('x y')\n",
    "y = x**3 + 2*(x**2) - x*10\n",
    "limit_three = sympy.limit(y, x, -1)\n",
    "print(limit_three)"
   ]
  },
  {
   "cell_type": "markdown",
   "metadata": {},
   "source": [
    "# 7. Undefined to Defined Limit\n",
    "**Learn**\n",
    "To wrap up this mission, let's convert the original undefined limit that calculated the slope at x=3 into a defined limit:\n",
    "\n",
    "$\\lim_{x_2 \\to 3} \\frac{f(x_2) + 1}{x_2 - 3} =$\n",
    "\n",
    "Because f(x)=−(x2)+3x−1, let's expand f(x2).\n",
    "\n",
    "$\\lim_{x_2 \\to 3} \\frac{-x_2^2+3x_2 -1 + 1}{x_2 - 3}$\n",
    "\n",
    "We can simplify this to:\n",
    "\n",
    "$\\lim_{x_2 \\to 3} \\frac{-x_2^2+3x_2 }{x_2 - 3}$\n",
    "\n",
    "We still can't use direct substitution to solve this limit because of the denominator term. We need a way to cancel the denominator or convert it into a form that lets us plug in 3 for x2. If we factor out x2 on the numerator, you'll notice something interesting:\n",
    "\n",
    "$\\lim_{x_2 \\to 3} \\frac{x_2(-x_2 + 3) }{x_2 - 3}$\n",
    "\n",
    "If we factor out −1 as well, we can cancel x2−3 on the denominator with the same term on the numerator:\n",
    "\n",
    "$\\lim_{x_2 \\to 3} \\frac{-x_2(x_2 - 3) }{x_2 - 3}$\n",
    "\n",
    "This simplifies to:\n",
    "\n",
    "$\\lim_{x_2 \\to 3} -x_2$\n",
    "\n",
    "Now we can use direct substition to arrive at −3. In this case, we didn't need to use the properties of limits that we explored in this mission. In the next mission, we'll learn how to derive the general function that tells us the slope at any point on the curve and we'll need to use these properties then! For now, let's confirm the work we just did by hand using SymPy.\n",
    "Instructions\n",
    "Use SymPy to solve the limit: limx2→3f(x2)+1x2−3\n",
    "Assign the result to limit_four.\n",
    "Get Help\n",
    "Get a hint\n",
    "See the answer\n",
    "Discuss this lesson\n",
    "Message Us"
   ]
  },
  {
   "cell_type": "code",
   "execution_count": 29,
   "metadata": {
    "collapsed": false
   },
   "outputs": [
    {
     "name": "stdout",
     "output_type": "stream",
     "text": [
      "-3\n"
     ]
    }
   ],
   "source": [
    "import sympy\n",
    "x2, y = sympy.symbols('x2 y')\n",
    "y = (-x2**2 +3*x2 -1 + 1)/(x2 - 3)\n",
    "limit_four = sympy.limit(y, x2, 3)\n",
    "print(limit_four)"
   ]
  },
  {
   "cell_type": "markdown",
   "metadata": {},
   "source": [
    "# Conclusion\n",
    "In this mission, we learned how to calculate the slope of the tangent line at a specific point using limits. In the next mission, we'll learn about the derivative, which is a function that describes how the slope varies at different points on our target function."
   ]
  }
 ],
 "metadata": {
  "kernelspec": {
   "display_name": "Python 3",
   "language": "python",
   "name": "python3"
  },
  "language_info": {
   "codemirror_mode": {
    "name": "ipython",
    "version": 3
   },
   "file_extension": ".py",
   "mimetype": "text/x-python",
   "name": "python",
   "nbconvert_exporter": "python",
   "pygments_lexer": "ipython3",
   "version": "3.6.0"
  }
 },
 "nbformat": 4,
 "nbformat_minor": 2
}
