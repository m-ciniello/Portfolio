{
 "cells": [
  {
   "cell_type": "markdown",
   "metadata": {},
   "source": [
    "# 1. Overview of Linear Algebra\n",
    "**Learn**\n",
    "\n",
    "In the last course, we explored the framework of calculus and used it to:\n",
    "\n",
    "- understand the slope of linear functions\n",
    "- understand the derivative (slope as a function) of nonlinear functions\n",
    "- find extreme values in nonlinear functions\n",
    "- While we learned the basics of slope through linear functions, we primarily focused on nonlinear functions in the last course.\n",
    "\n",
    "In this course, we'll focus on understanding linear functions. Specifically, we'll explore the framework of linear algebra, which provides a way to represent and understand the solutions to systems of linear equations. A system of linear equations consists of multiple, related functions with a common set of variables. The word linear equation is often used interchangeably with linear function. Many real world processes can be modeled using using multiple, related linear equations. We'll start by exploring a concrete example of a linear system, another word for system of linear equations, before we dive further into linear algebra.\n",
    "\n",
    "**Optimal Salary Problem**\n",
    "\n",
    "Let's say we have to pick between 2 different job offers. The first job offer has a base weekly salary of 500 dollars and pays 30 dollars an hour. We can represent this offer as y=500+30x, where y represents dollars earned that week and x represents hours worked that week. The second job offer has a base weekly salary of 100 dollars and pays 50 dollars an hour. We can represent this offer as y=100+50x, where y also represents dollars earned that week and x also represents hours worked that week.\n",
    "\n",
    "We want to understand which job offer is better. If we know exactly the amount of money we'd like to make each week (y), we can substitute that value into both equations and solve for x to identify which job will require us to work less hours. If we know exactly the number of hours we want to work each week (x), we can substitute that value into both equations and solve for y to identify which job will make us more money for the same amount of hours worked.\n",
    "\n",
    "**Instead, if we want to understand:**\n",
    "\n",
    "- At what number of hours worked can we expect to make the same amount of money at either job?\n",
    "- How many hours do we have to work to make more money at the first job than the second job?\n",
    "\n",
    "To answer the first question, we need to find the x value where both the y values are equivalent. Once we know where they intersect, we can easily find out the answer to the second question.\n",
    "\n",
    "Let's start by visualizing both of these equations on a plot and gaining a visual intuition for where they intersect.\n",
    "\n",
    "**Instructions**\n",
    "\n",
    "- Use numpy.linspace() to generate 1000, evenly spaced values between 0 and 50 and assign to x.\n",
    "- Transform x using the equation y=30x+1000 and assign the result to y1.\n",
    "- Transform x using the equation y=50x+100 and assign the result to y2.\n",
    "- Generate 2 line plots on the same subplot:\n",
    " - One with x on the x-axis and y1 on the y-axis. Set the line color to \"orange\".\n",
    " - One with x on the x-axis and y2 on the y-axis. Set the line color to \"blue\".\n",
    "- Skip selecting a value range for the x and y axes, and instead let matplotlib automatically select based on the data."
   ]
  },
  {
   "cell_type": "code",
   "execution_count": 3,
   "metadata": {
    "collapsed": false
   },
   "outputs": [
    {
     "data": {
      "image/png": "[encoded data removed]",
      "text/plain": [
       "<matplotlib.figure.Figure at 0x873e438>"
      ]
     },
     "metadata": {},
     "output_type": "display_data"
    }
   ],
   "source": [
    "import numpy as np\n",
    "import matplotlib.pyplot as plt\n",
    "x = np.linspace(0, 50, 1000)\n",
    "y1 = 30*x + 1000\n",
    "y2 = 50*x + 100\n",
    "\n",
    "plt.plot(x, y1, c='orange')\n",
    "plt.plot(x, y2, c='blue')\n",
    "plt.show()"
   ]
  },
  {
   "cell_type": "markdown",
   "metadata": {},
   "source": [
    "# 2. Solving Linear Systems by Elimination\n",
    "**Learn**\n",
    "From the plot we generated in the last screen, we can tell that both functions intersect at somewhere near the point (45,2200).\n",
    "\n",
    "This point where both equations intersect is known as a **solution to the system**, because substituting for x and y into both functions in the system makes both of them true. Said another way, **plugging in the x value of the solution into both functions yields the same y value.**\n",
    "\n",
    "Let's explore how to solve this system by hand. Because both functions share the same variables, we can represent one of the variables, say y, in terms of the other variable and solve for the x value. Then, we can substitute this x value into either equation to determine the y value. **This process is known as solving by elimination or the elimination method.** Let's walkthrough how to apply this process to our system.\n",
    "\n",
    "First, we'll substitute y in the second function with the first function:\n",
    "![](solve_elimination_1.svg)\n",
    "\n",
    "Note that order isn't important and we could have also substituted y in the first function with the second function. Now that we know that x=45, we can substitute this into either equation to determine y.\n",
    "\n",
    "![](solve_elimination_2.svg)\n",
    "\n",
    "The solution to our system is (45,2350). This means that if we work exactly 45 hours a week, we'll make the same amount of money at either job: 2350.\n",
    "\n",
    "**While we can solve a linear system like this by hand using arithmetic, we can't use the same technique to solve much more complex systems. Many real world systems are modeled using many more than 2 variables and functions and solving by hand is unfeasible.**\n",
    "\n",
    "**Those types of systems can be solved using linear algebra using a variation of arithmetic elimination called Gaussian elimination.** We'll walkthrough how to perform Gaussian elimination in the rest of this mission to find a solution to our linear system."
   ]
  },
  {
   "cell_type": "markdown",
   "metadata": {},
   "source": [
    "# 3. Representing Functions in General Form\n",
    "**Learn**\n",
    "\n",
    "Linear algebra provides a way to represent a linear system compactly, known as a matrix, and a set of rules for manipulating that representation, also known as an algebra. A matrix uses rows and columns to represent only the coefficients in a linear system and it's similar to the way data is represented in a spreadsheet or a dataframe. Before we can represent our system in a matrix, we need to rearrange each of our functions into the general form.\n",
    "\n",
    "In the last course, we primarily explored linear functions in point-slope form:\n",
    "\n",
    "y=mx+b\n",
    "\n",
    "In linear algebra, we usually represent linear functions in the general form:\n",
    "\n",
    "Ax+By=c\n",
    "\n",
    "In the general form, the variables and their coefficients are on the left side, while the constant term is on the right side. We can switch from point-slope form to the general form by rearranging the terms:\n",
    "\n",
    "mx−y=−b\n",
    "\n",
    "Here's what the first function looks like in general form:\n",
    "\n",
    "30x−y=−1000\n",
    "\n",
    "Here's what the second function looks like in general form:\n",
    "\n",
    "50x−y=−100\n",
    "\n",
    "To represent both linear functions in a system, we use an augmented matrix:\n",
    "\n",
    "$\\left[\\begin{array}{rr|r}\n",
    "30 & -1 & -1000 \\\\ \n",
    "50 & -1 & -100\n",
    "\\end{array}\\right]$\n",
    "\n",
    "In an augmented matrix, the coefficients from the left sides of the functions are on the left side of the bar (|), while the constants from the right sides of the functions are on the right side. An augmented matrix allows us to represent a linear system using just the real number coefficients and constants.\n",
    "\n",
    "Here's a summary of the 3 different representations of the linear system we just discussed:\n",
    "\n",
    "![](equation_to_matrix.svg)\n",
    "In the next screen, we'll walkthrough how to represent this augmented matrix in NumPy. In later screens, we'll learn the rules of matrix manipulation and how to apply them to arrive at the system's solution."
   ]
  },
  {
   "cell_type": "markdown",
   "metadata": {},
   "source": [
    "# 4. Representing Augmented Matrix in Numpy\n",
    "**Learn**\n",
    "To represent an augmented matrix, we can use the numpy.asarray() function and pass in each row as a list, from the top row to the bottom row. The following code represents a 2 row by 3 column matrix containing all 0's:\n",
    "\n",
    "    matrix_one = np.asarray([\n",
    "        [0, 0, 0],\n",
    "        [0, 0, 0]  \n",
    "    ])\n",
    "\n",
    "Because we'll be performing addition, subtraction, multiplication, and division operations using the values in this matrix, we need to set the type to float32 to preserve precision.\n",
    "\n",
    "    matrix_one = np.asarray([\n",
    "        [30, -1, -1000],\n",
    "        [50, -1, -100]  \n",
    "    ], dtype=np.float32)\n",
    "\n",
    "We'll dive more into those operations in the next screen."
   ]
  },
  {
   "cell_type": "markdown",
   "metadata": {},
   "source": [
    "# 5. Matrix Representation of the Solution\n",
    "\n",
    "The important question now is, how do we arrive at the same solution we did earlier in the mission by arithmetic? Earlier in the mission, we used arithmetic to calculate the solution to the system and represented it as a coordinate pair: (45,2350). Here's how we represent the solution when we're working with the matrix representation:\n",
    "\n",
    "$\\left[\\begin{array}{rr|r}\n",
    "1 & 0 & 45 \\\\ \n",
    "0 & 1 & 2350\n",
    "\\end{array}\\right]$\n",
    "\n",
    "When we convert this matrix back into equations in the standard form, you'll notice that this corresponds to the same solution:\n",
    "\n",
    "![](matrix_to_equation.svg)\n",
    "\n",
    "To solve a linear system, we need to perform a series of transformations to try to evolve the matrix into this form (where the solution is presented). Not all linear systems have solutions, however, and we'll explore this in further detail throughout this course."
   ]
  },
  {
   "cell_type": "markdown",
   "metadata": {},
   "source": [
    "# 6. Row Operations\n",
    "\n",
    "To preserve the relationships in the linear system, we can only use the following row operations:\n",
    "\n",
    "![](matrix_row_operations.svg)\n",
    "\n",
    "While these may seem new, these row operations are the same allowed operations we can perform when the functions are in equation form. Before we dive into how to solve our linear system using these row operations, let's practice performing these transformations in NumPy.\n",
    "\n",
    "To swap 2 rows in a NumPy ndarray object, we assign the row to be replaced with the new row:\n",
    "\n",
    "    matrix =  np.asarray([\n",
    "        [1, 3],\n",
    "        [50, 2],\n",
    "        [60, 4]\n",
    "    ], dtype=np.float32)\n",
    "    \n",
    "    # Swap the second row (at index value 1) and the third row (at index value 2).\n",
    "    matrix[1] = matrix[2]\n",
    "\n",
    "To multiply a row by a nonzero constant, we select the row, use the * operator to multiply all of the values by a scalar value, and then assign the transformed row back:\n",
    "    # Multipy the second row by 2.\n",
    "    matrix[1] = 2*matrix[1]\n",
    "\n",
    "To add one row to another row, we need to add both rows then assign it back to row we want to overwrite:\n",
    "\n",
    "    # Add the second row to the first row\n",
    "    matrix[1] = matrix[1] + matrix[2]\n",
    "\n",
    "Lastly, we can combine and chain these rules to perform more complex row transformations:\n",
    "\n",
    "    matrix[1] = 0.5*matrix[2] + matrix[1] + matrix[3]\n",
    "\n",
    "Note that you can't multiply or divide rows."
   ]
  },
  {
   "cell_type": "code",
   "execution_count": 10,
   "metadata": {
    "collapsed": false
   },
   "outputs": [
    {
     "data": {
      "text/plain": [
       "array([[  1.,   3.],\n",
       "       [ 50.,   2.],\n",
       "       [ 60.,   4.]], dtype=float32)"
      ]
     },
     "execution_count": 10,
     "metadata": {},
     "output_type": "execute_result"
    }
   ],
   "source": [
    "import numpy as np\n",
    "\n",
    "matrix =  np.asarray([\n",
    "    [1, 3],\n",
    "    [50, 2],\n",
    "    [60, 4]\n",
    "], dtype=np.float32)\n",
    "\n",
    "matrix"
   ]
  },
  {
   "cell_type": "code",
   "execution_count": 13,
   "metadata": {
    "collapsed": false
   },
   "outputs": [
    {
     "data": {
      "text/plain": [
       "array([[  1.,   3.],\n",
       "       [ 60.,   4.],\n",
       "       [ 60.,   4.]], dtype=float32)"
      ]
     },
     "execution_count": 13,
     "metadata": {},
     "output_type": "execute_result"
    }
   ],
   "source": [
    "matrix[1]=matrix[2]\n",
    "matrix"
   ]
  },
  {
   "cell_type": "code",
   "execution_count": 18,
   "metadata": {
    "collapsed": false
   },
   "outputs": [
    {
     "data": {
      "text/plain": [
       "array([[  1.23456791e-02,   3.70370373e-02],\n",
       "       [  1.80000000e+02,   1.20000000e+01],\n",
       "       [  6.00000000e+01,   4.00000000e+00]], dtype=float32)"
      ]
     },
     "execution_count": 18,
     "metadata": {},
     "output_type": "execute_result"
    }
   ],
   "source": [
    "matrix[0]=matrix[0]/3\n",
    "matrix[1]=matrix[1]+matrix[2]\n",
    "matrix"
   ]
  },
  {
   "cell_type": "markdown",
   "metadata": {},
   "source": [
    "# 7. Simplifiying Matrix to Echelon Form\n",
    "\n",
    "To find the solutions of a matrix, there are 2 main steps we need to take. The first step is to rearrange the matrix into echelon form. In this form, the values on the diagonal locations are all equal to 1 and the values below the diagonal are all equal to 0.\n",
    "\n",
    "$\\left[\\begin{array}{rr|r}\n",
    "1 & ? & ? \\\\ \n",
    "0 & 1 & ?\n",
    "\\end{array}\\right]$\n",
    "\n",
    "First let's divide the first row by 30 so that the diagonal value on the first row becomes 1:\n",
    "\n",
    "![](echelon_one.svg)\n",
    "\n",
    "Then, let's subtract 50 times the first row from the second row:\n",
    "\n",
    "![](echelon_two.svg)\n",
    "\n",
    "We'll leave it to you to perform the last transform to get the matrix into echelon form."
   ]
  },
  {
   "cell_type": "code",
   "execution_count": 37,
   "metadata": {
    "collapsed": false
   },
   "outputs": [
    {
     "data": {
      "text/plain": [
       "array([[  1.00000000e+00,  -3.33333351e-02,  -3.33333321e+01],\n",
       "       [  0.00000000e+00,   1.00000000e+00,   2.35000000e+03]], dtype=float32)"
      ]
     },
     "execution_count": 37,
     "metadata": {},
     "output_type": "execute_result"
    }
   ],
   "source": [
    "matrix =  np.asarray([\n",
    "    [1, -1/30,-1000/30],\n",
    "    [0, 20/30,47000/30]\n",
    "], dtype=np.float32)\n",
    "\n",
    "matrix[1]=matrix[1]*3/2\n",
    "matrix"
   ]
  },
  {
   "cell_type": "markdown",
   "metadata": {},
   "source": [
    "# 8. Row Reduced Echelon Form\n",
    "The second step is to rearrange the matrix into row reduced echelon form. This is the form that we mentioned earlier where the solution is exposed to us:\n",
    "\n",
    "$\\left[\\begin{array}{rr|r}\n",
    "1 & 0 & ? \\\\ \n",
    "0 & 1 & ?\n",
    "\\end{array}\\right]$\n",
    "\n",
    "The two question marks (?), which we still need to determine, represent the x and y values that solve our system. In the last step, we brought the matrix one transformation away from row reduced echelon form:\n",
    "\n",
    "Echelon Three\n",
    "\n",
    "The only step that's left is to zero out the second value in the first row. We'll leave that to you to finish."
   ]
  },
  {
   "cell_type": "code",
   "execution_count": 46,
   "metadata": {
    "collapsed": false
   },
   "outputs": [
    {
     "name": "stdout",
     "output_type": "stream",
     "text": [
      "[[  1.00000000e+00   0.00000000e+00   4.50000038e+01]\n",
      " [  0.00000000e+00   1.00000000e+00   2.35000000e+03]]\n"
     ]
    }
   ],
   "source": [
    "matrix_three = np.asarray([\n",
    "    [1, -1/30, -1000/30],\n",
    "    [0, 1, 2350]  \n",
    "], dtype=np.float32)\n",
    "matrix_three[0] += matrix_three[1]/30\n",
    "print(matrix_three)"
   ]
  },
  {
   "cell_type": "markdown",
   "metadata": {},
   "source": [
    "# 9. Next Steps\n",
    "\n",
    "In most real world situations, the dependent variable y is connected to multiple independent variables, not just a single one x. To represent those functions, we'll need to work with a different version of the general form:\n",
    "\n",
    "$a_1x_1 + a_2x_2 + a_3x_3 + ... + a_nx_n = c$\n",
    "\n",
    "In this form, a1...an are the coefficients and c is a constant value.\n",
    "\n",
    "![](higher_order_system.svg)\n",
    "\n",
    "If we have a system with more than 3 variables, we can't visualize it easily. In addition, performing Gaussian elimination becomes much more painful to do as well. In the next few missions, we'll develop more of the theory and geometric intuition behind linear algebra and build on that to solve these higher order linear systems."
   ]
  }
 ],
 "metadata": {
  "kernelspec": {
   "display_name": "Python 3",
   "language": "python",
   "name": "python3"
  },
  "language_info": {
   "codemirror_mode": {
    "name": "ipython",
    "version": 3
   },
   "file_extension": ".py",
   "mimetype": "text/x-python",
   "name": "python",
   "nbconvert_exporter": "python",
   "pygments_lexer": "ipython3",
   "version": "3.6.0"
  }
 },
 "nbformat": 4,
 "nbformat_minor": 2
}
