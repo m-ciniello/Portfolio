{
 "cells": [
  {
   "cell_type": "markdown",
   "metadata": {},
   "source": [
    "# 1. Problem Definition\n",
    "\n",
    "Air BNB problem:\n",
    "As a host, if we try to charge above market price for a living space we'd like to rent, then renters will select more affordable alternatives which are similar to ours.. If we set our nightly rent price too low, we'll miss out on potential revenue.\n",
    "\n",
    "One strategy we could use is to:\n",
    "\n",
    "- find a few listings that are similar to ours,\n",
    "- average the listed price for the ones most similar to ours,\n",
    "- set our listing price to this calculated average price.\n",
    "\n",
    "The process of discovering patterns in existing data to make a prediction is called machine learning. In our case, we want to use data on local listings to predict the optimal price for us to set. In this mission, we'll explore a specific machine learning technique called k-nearest neighbors, which mirrors the strategy we just described. Before we dive further into machine learning and k-nearest neighbors, let's get familiar with the dataset we'll be working with."
   ]
  },
  {
   "cell_type": "markdown",
   "metadata": {},
   "source": [
    "# 2. Intro to the Data\n",
    "While AirBnB doesn't release any data on the listings in their marketplace, a separate group named Inside AirBnB has extracted data on a sample of the listings for many of the major cities on the website. In this post, we'll be working with their dataset from October 3, 2015 on the listings from Washington, D.C., the capital of the United States. Here's a direct link to that dataset. Each row in the dataset is a specific listing that's available for renting on AirBnB in the Washington, D.C. area\n",
    "\n",
    "To make the dataset less cumbersome to work with, we've removed many of the columns in the original dataset and renamed the file to dc_airbnb.csv. Here are the columns we kept:\n",
    "\n",
    "- host_response_rate: the response rate of the host\n",
    "- host_acceptance_rate: number of requests to the host that convert to rentals\n",
    "- host_listings_count: number of other listings the host has\n",
    "- latitude: latitude dimension of the geographic coordinates\n",
    "- longitude: longitude part of the coordinates\n",
    "- city: the city the living space resides\n",
    "- zipcode: the zip code the living space resides\n",
    "- state: the state the living space resides\n",
    "- accommodates: the number of guests the rental can accommodate\n",
    "- room_type: the type of living space (Private room, Shared room or Entire home/apt\n",
    "- bedrooms: number of bedrooms included in the rental\n",
    "- bathrooms: number of bathrooms included in the rental\n",
    "- beds: number of beds included in the rental\n",
    "- price: nightly price for the rental\n",
    "- cleaning_fee: additional fee used for cleaning the living space after the guest leaves\n",
    "- security_deposit: refundable security deposit, in case of damages\n",
    "- minimum_nights: minimum number of nights a guest can stay for the rental\n",
    "- maximum_nights: maximum number of nights a guest can stay for the rental\n",
    "- number_of_reviews: number of reviews that previous guests have left\n",
    "\n",
    "Let's read the dataset into Pandas and become more familiar with it."
   ]
  },
  {
   "cell_type": "code",
   "execution_count": 63,
   "metadata": {
    "collapsed": false
   },
   "outputs": [
    {
     "name": "stdout",
     "output_type": "stream",
     "text": [
      "Index(['host_response_rate', 'host_acceptance_rate', 'host_listings_count',\n",
      "       'accommodates', 'room_type', 'bedrooms', 'bathrooms', 'beds', 'price',\n",
      "       'cleaning_fee', 'security_deposit', 'minimum_nights', 'maximum_nights',\n",
      "       'number_of_reviews', 'latitude', 'longitude', 'city', 'zipcode',\n",
      "       'state'],\n",
      "      dtype='object') \n",
      " \n",
      " (3723, 19) \n",
      " \n",
      "   host_response_rate host_acceptance_rate  host_listings_count  accommodates  \\\n",
      "0                92%                  91%                   26             4   \n",
      "1                90%                 100%                    1             6   \n",
      "2                90%                 100%                    2             1   \n",
      "3               100%                  NaN                    1             2   \n",
      "4                92%                  67%                    1             4   \n",
      "\n",
      "         room_type  bedrooms  bathrooms  beds     price cleaning_fee  \\\n",
      "0  Entire home/apt       1.0        1.0   2.0  $160.00      $115.00    \n",
      "1  Entire home/apt       3.0        3.0   3.0  $350.00      $100.00    \n",
      "2     Private room       1.0        2.0   1.0   $50.00           NaN   \n",
      "3     Private room       1.0        1.0   1.0   $95.00           NaN   \n",
      "4  Entire home/apt       1.0        1.0   1.0   $50.00       $15.00    \n",
      "\n",
      "  security_deposit  minimum_nights  maximum_nights  number_of_reviews  \\\n",
      "0         $100.00                1            1125                  0   \n",
      "1              NaN               2              30                 65   \n",
      "2              NaN               2            1125                  1   \n",
      "3              NaN               1            1125                  0   \n",
      "4         $450.00                7            1125                  0   \n",
      "\n",
      "    latitude  longitude           city zipcode state  \n",
      "0  38.890046 -77.002808     Washington   20003    DC  \n",
      "1  38.880413 -76.990485     Washington   20003    DC  \n",
      "2  38.955291 -76.986006    Hyattsville   20782    MD  \n",
      "3  38.872134 -77.019639     Washington   20024    DC  \n",
      "4  38.996382 -77.041541  Silver Spring   20910    MD  \n"
     ]
    }
   ],
   "source": [
    "import pandas as pd\n",
    "dc_listings = pd.read_csv('dc_airbnb.csv')\n",
    "print(dc_listings.columns, '\\n','\\n', dc_listings.shape, '\\n','\\n', dc_listings.head())"
   ]
  },
  {
   "cell_type": "markdown",
   "metadata": {},
   "source": [
    "# 3. K-Nearest Neighbors\n",
    "\n",
    "Here's the strategy we wanted to use:\n",
    "\n",
    "- Find a few similar listings.\n",
    "- Calculate the average nightly rental price of these listings.\n",
    "- Set the average price as the price for our listing.\n",
    "\n",
    "The k-nearest neighbors algorithm is similar to this strategy. Here's an overview:\n",
    "![title](knn_infographic.png)\n",
    "\n",
    "There are 2 things we need to unpack in more detail:\n",
    "- the similarity metric\n",
    "- how to choose the k value\n",
    "\n",
    "In this mission, we'll define what similarity metric we're going to use. Then, we'll implement the k-nearest neighbors algorithm and use it to suggest a price for a new, unpriced listing. We'll use a k value of 5 in this mission. In later missions, we'll learn how to evaluate how good the suggested prices are, how to choose the optimal k value, and more."
   ]
  },
  {
   "cell_type": "markdown",
   "metadata": {},
   "source": [
    "# 4. Euclidean Distance\n",
    "\n",
    "The similarity metric works by comparing a fixed set of numerical features, another word for attributes, between 2 observations, or living spaces in our case. When trying to predict a continuous value, like price, the main similarity metric that's used is Euclidean distance. Here's the general formula for Euclidean distance:\n",
    "\n",
    "$$d = \\sqrt{(q_1-p_1)^2 + (q_2-p_2)^2 + \\cdots + (q_n-p_n)^2}$$\n",
    "\n",
    "where q1 to qn represent the feature values for one observation and p1 to pn represent the feature values for the other observation. Here's a diagram that breaks down the Euclidean distance between the first 2 observations in the dataset using only the host_listings_count, accommodates, bedrooms, bathrooms, and beds columns:\n",
    "\n",
    "![Title](euclidean_distance_five_features.png)\n",
    "\n",
    "In this mission, we'll use just one feature in this mission to keep things simple as you become familiar with the machine learning workflow. Since we're only using one feature, this is known as the univariate case. The square root and the squared power cancel and the formula simplifies to:\n",
    "\n",
    "$$d = | q_1 - p_1 |$$\n",
    "\n",
    "The living space that we want to rent can accommodate 3 people. Let's first calculate the distance, using just the accommodates feature, between the first living space in the dataset and our own."
   ]
  },
  {
   "cell_type": "code",
   "execution_count": 64,
   "metadata": {
    "collapsed": false
   },
   "outputs": [
    {
     "name": "stdout",
     "output_type": "stream",
     "text": [
      "1\n"
     ]
    }
   ],
   "source": [
    "import numpy as np\n",
    "our_acc_value = 3\n",
    "first_living_space_value = dc_listings.iloc[0]['accommodates']\n",
    "first_distance = np.abs(first_living_space_value - our_acc_value)\n",
    "print(first_distance)"
   ]
  },
  {
   "cell_type": "markdown",
   "metadata": {},
   "source": [
    "# 5. Calculate Distance for All Observations\n",
    "The Euclidean distance between the first row in the dc_listings Dataframe and our own living space is 1. How do we know if this is high or low? If you look at the Euclidean distance equation itself, the lowest value you can achieve is 0. This happens when the value for the feature is exactly the same for both observations you're comparing. If p1=q1, then d=|q1−p1| which results in d=0. The closer to 0 the distance the more similar the living spaces are.\n",
    "\n",
    "Let's try calcualting  the Euclidean distance between each living space in the dataset and a living space that accommodates 3 people (the number of people our listing accommodates):"
   ]
  },
  {
   "cell_type": "code",
   "execution_count": 65,
   "metadata": {
    "collapsed": false
   },
   "outputs": [
    {
     "name": "stdout",
     "output_type": "stream",
     "text": [
      "1     2294\n",
      "2      503\n",
      "0      461\n",
      "3      279\n",
      "5       73\n",
      "4       35\n",
      "7       22\n",
      "6       17\n",
      "9       12\n",
      "13       8\n",
      "8        7\n",
      "12       6\n",
      "11       4\n",
      "10       2\n",
      "Name: distance, dtype: int64\n"
     ]
    }
   ],
   "source": [
    "#heres one way\n",
    "#dc_listings['distance'] = [abs(x-3) for x in dc_listings.accommodates]    \n",
    "\n",
    "#or heres another!\n",
    "new_listing = 3\n",
    "dc_listings['distance'] = dc_listings['accommodates'].apply(lambda x: np.abs(x-new_listing))\n",
    "print(dc_listings['distance'].value_counts())\n",
    "\n",
    "    "
   ]
  },
  {
   "cell_type": "markdown",
   "metadata": {},
   "source": [
    "# 6. Randomizing and Sorting\n",
    "It looks like there are quite a few, 461 to be precise, living spaces that can accommodate 3 people just like ours. This means the 5 \"nearest neighbors\" we select after sorting all will have a distance value of 0. If we sort by the distance column and then just select the first 5 living spaces, we would be biasing the result to the ordering of the dataset.\n",
    "\n",
    "Let's instead randomize the ordering of the dataset and then sort the Dataframe by the distance column. This way, all of the living spaces with the same number of bedrooms will still be at the top of the Dataframe but will be in random order across the first 461 rows. We've already done the first step of setting the random seed, so we can perform answer checking on our end."
   ]
  },
  {
   "cell_type": "code",
   "execution_count": 66,
   "metadata": {
    "collapsed": false
   },
   "outputs": [
    {
     "name": "stdout",
     "output_type": "stream",
     "text": [
      "577     $185.00 \n",
      "2166    $180.00 \n",
      "3631    $175.00 \n",
      "71      $128.00 \n",
      "1011    $115.00 \n",
      "380     $219.00 \n",
      "943     $125.00 \n",
      "3107    $250.00 \n",
      "1499     $94.00 \n",
      "625     $150.00 \n",
      "Name: price, dtype: object\n"
     ]
    }
   ],
   "source": [
    "import numpy as np\n",
    "np.random.seed(1)\n",
    "\n",
    "rand_order = np.random.permutation(len(dc_listings))\n",
    "dc_listings = dc_listings.loc[rand_order]\n",
    "dc_listings = dc_listings.sort_values('distance')\n",
    "print(dc_listings.iloc[0:10]['price'])"
   ]
  },
  {
   "cell_type": "markdown",
   "metadata": {},
   "source": [
    "# 7. Average Price\n",
    "\n",
    "Before we can select the 5 most similar living spaces and compute the average price, we need to clean the price column. Right now, the price column contains comma characters (,) and dollar sign characters and is formatted as a text column instead of a numeric one. We need to remove these values and convert the entire column to the float datatype. Then, we can calculate the average price"
   ]
  },
  {
   "cell_type": "code",
   "execution_count": 67,
   "metadata": {
    "collapsed": false
   },
   "outputs": [],
   "source": [
    "no_commas = dc_listings['price'].str.replace(',','')\n",
    "no_dolla_sign = no_commas.str.replace('$','').astype('float')\n",
    "dc_listings.price = no_dolla_sign"
   ]
  },
  {
   "cell_type": "code",
   "execution_count": 72,
   "metadata": {
    "collapsed": false
   },
   "outputs": [
    {
     "data": {
      "text/plain": [
       "156.6"
      ]
     },
     "execution_count": 72,
     "metadata": {},
     "output_type": "execute_result"
    }
   ],
   "source": [
    "mean_price = dc_listings.price[0:5].mean()\n",
    "mean_price"
   ]
  },
  {
   "cell_type": "markdown",
   "metadata": {},
   "source": [
    "# 8. Function to Make Predictions\n",
    "Congrats! You've just made your first prediction! Based on the average price of other listings that accommdate 3 people, we should charge 156.6 dollars per night for a guest to stay at our living space. In the next mission, we'll dive into evaluating how good of a prediction this is.\n",
    "\n",
    "Let's write a more general function that can suggest the optimal price for other values of the accommodates column. The dc_listings Dataframe has information specific to our living space, e.g. the distance column. To save you time, we've reset the dc_listings Dataframe to a clean slate and only kept the data cleaning and randomization we did since those weren't unique to the prediction we were making for our living space."
   ]
  },
  {
   "cell_type": "code",
   "execution_count": 85,
   "metadata": {
    "collapsed": false
   },
   "outputs": [
    {
     "name": "stdout",
     "output_type": "stream",
     "text": [
      "68.0\n",
      "112.8\n",
      "124.8\n"
     ]
    }
   ],
   "source": [
    "# Brought along the changes we made to the `dc_listings` Dataframe.\n",
    "import numpy as np\n",
    "np.random.seed(1)\n",
    "dc_listings = pd.read_csv('dc_airbnb.csv')\n",
    "stripped_commas = dc_listings['price'].str.replace(',', '')\n",
    "stripped_dollars = stripped_commas.str.replace('$', '')\n",
    "dc_listings['price'] = stripped_dollars.astype('float')\n",
    "dc_listings = dc_listings.loc[np.random.permutation(len(dc_listings))]\n",
    "\n",
    "def predict_price(new_listing,k):\n",
    "    temp_df = dc_listings\n",
    "    temp_df['distance'] = temp_df['accommodates'].apply(lambda x: np.abs(x - new_listing))\n",
    "    temp_df = temp_df.sort_values('distance')\n",
    "    nearest_neighbors = temp_df.iloc[0:k]['price']\n",
    "    predicted_price = nearest_neighbors.mean()\n",
    "    return(predicted_price)\n",
    "\n",
    "acc_one = predict_price(1,5)\n",
    "acc_two = predict_price(2,5)\n",
    "acc_four = predict_price(4,5)\n",
    "print(acc_one)\n",
    "print(acc_two)\n",
    "print(acc_four)"
   ]
  }
 ],
 "metadata": {
  "kernelspec": {
   "display_name": "Python 3",
   "language": "python",
   "name": "python3"
  },
  "language_info": {
   "codemirror_mode": {
    "name": "ipython",
    "version": 3
   },
   "file_extension": ".py",
   "mimetype": "text/x-python",
   "name": "python",
   "nbconvert_exporter": "python",
   "pygments_lexer": "ipython3",
   "version": "3.6.0"
  }
 },
 "nbformat": 4,
 "nbformat_minor": 2
}
