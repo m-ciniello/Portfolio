{
 "cells": [
  {
   "cell_type": "markdown",
   "metadata": {},
   "source": [
    "# 1. Intro to Databases and SQL\n",
    "\n",
    "In previous missions, we worked with data sets stored in a single file, which was usually a CSV file. While CSV files are easy to interface with, they have a lot of limitations. It's difficult to load large CSV files into a computer's memory, which is where tools like pandas work with data. CSV files also fall short when it comes to providing security for production applications (imagine if companies like Google or Facebook used CSV files to store and access data).\n",
    "\n",
    "In addition, CSV files are optimized for static representation. If your data changes quickly, which is true for most technology companies, then you'll need to adopt a different method.\n",
    "\n",
    "A database is a repository designed for storing, querying, and processing data. Databases store the data we want, and expose an interface for interacting with it. Most technology companies use databases to structure the data they generate and query specific subsets of it later on in order to answer questions or make updates.\n",
    "\n",
    "Database systems come with administrative software for configuring settings, controlling security and access, and generating reports. They also include a language for interfacing with the database.\n",
    "\n",
    "In this course, we'll be focusing on a language called SQL, or Structured Query Language. We use SQL to query, update, and modify the data in a database.\n",
    "\n",
    "SQL is the most common language for working with databases, and an important tool in any data professional's toolkit. While SQL is a language, it's quite different from languages like Python or R. Its creators built it specifically for querying and interacting with databases, so it won't have much of the functionality you can expect in traditional programming languages. Because SQL is a declarative language, the user focuses on expressing what he or she wants, and the computer focuses on figuring out how to perform the computation.\n",
    "\n",
    "Before diving into SQL syntax, we'll introduce a few database concepts so you're aware of how databases represent data, and why SQL makes it easy to work with that data."
   ]
  },
  {
   "cell_type": "markdown",
   "metadata": {},
   "source": [
    "# 2. Querying Databases with SQL\n",
    "\n",
    "Writing a SQL query is the primary way to interact with a database. A SQL query has to adhere to a defined structure and vocabulary that we use to specify what we want the database to do. The SQL language has a set of general statements that we combine with specific logic to express the intent of our query.\n",
    "\n",
    "The first and most basic statement in SQL is a SELECT statement. To specify that we want to return 10 specific columns for all of the rows in a certain table, we use the SELECT keyword, along with the names of the 10 columns. We use a SELECT statement whenever we want to return specific data from the database without editing or modifying it.\n",
    "\n",
    "Let's explore the basic syntax for the SELECT statement.\n",
    "\n",
    "    SELECT [columnA, columnB, ...]\n",
    "    FROM tableName;\n",
    "    \n",
    "The SQL syntax reads more like English than a programming language like Python. The database converts our query to lower-level logic and returns the results to us. Now let's see what an actual SQL query looks like. The following query selects the Rank and Major columns from the table recent_grads, which represents the information from recent-grads.csv as a table in the database:\n",
    "\n",
    "    SELECT Rank,Major\n",
    "    FROM recent_grads;\n",
    "    \n",
    "The semicolon (;) at the end of the query is required because it specifies where the query ends. This allow us to write a query on one line, or over multiple lines."
   ]
  },
  {
   "cell_type": "markdown",
   "metadata": {},
   "source": [
    "# 3. Querying a SQLite Database\n",
    "We'll be working with SQLite, a lightweight database that's ideal for exploring and learning SQL. We'll explore how SQLite works under the hood in a later mission. For now, we've taken care of setting up and populating the database for our next exercise.\n",
    "\n",
    "Writing and running SQL queries in our interface is similar to writing and running Python code. Write the query in the code cell, and then click Check to execute the query against the database. SQLite returns the results as a list of lists, where each inner list represents the values in a row. If you write multiple queries in a code cell, SQLite will only display the last query's results.\n",
    "\n",
    "Here's a preview of the results that SQLite returns:\n",
    "\n",
    "    [[1, \"PETROLEUM ENGINEERING\"], [2, \"MINING AND MINERAL ENGINEERING\"], [3, \"METALLURGICAL ENGINEERING\"], [4, \"NAVAL ARCHITECTURE AND MARINE ENGINEERING\"], [5, \"CHEMICAL ENGINEERING\"],..."
   ]
  },
  {
   "cell_type": "markdown",
   "metadata": {},
   "source": [
    "# 3. Specifying Column Order for Our Results\n",
    "SQL allows us to specify the column order for the results in the SELECT statement. Try swapping the order of the columns we specified in the previous query, and click Check to see the results.\n",
    "\n",
    "    SELECT Major,Rank FROM recent_grads;\n",
    "    \n",
    "When we used Major,Rank instead of Rank,Major in the SELECT statement from the previous step, the first value in each list in our results was the major, while the second value was the rank.\n",
    "\n",
    "    SELECT Rank,Major_code,Major,Major_category,Total FROM recent_grads;"
   ]
  },
  {
   "cell_type": "markdown",
   "metadata": {},
   "source": [
    "# 4. Fileritng With the WHERE statement\n",
    "\n",
    "So far, we've been writing queries that return all of the rows from the table, but only specific columns. If we wanted to figure out which majors had more female graduates than male graduates (where ShareWomen is larger than 0.5), we would need a way to constrain the rows the query returns.\n",
    "\n",
    "To filter rows by specific criteria, we need to use the WHERE statement. The WHERE statement requires three things:\n",
    "\n",
    "- The column we want the database to filter on: ShareWomen\n",
    "- A comparison operator that specifies how we want to compare a value in a column: >\n",
    "- The value we want the database to compare each value to: 0.5\n",
    "\n",
    "In the query below, we:\n",
    "\n",
    "- Use SELECT to specify the column filtering criteria: Major and ShareWomen\n",
    "- Use FROM to specify the table we want to query: recent_grads\n",
    "- Use WHERE to specify the row filtering criteria: ShareWomen > 0.5\n",
    "\n",
    "    SELECT Major,ShareWomen\n",
    "    FROM recent_grads\n",
    "    WHERE ShareWomen > 0.5;\n",
    "\n",
    "Here are the comparison operators we can use:\n",
    "\n",
    "- Less than: <\n",
    "- Less than or equal to: <=\n",
    "- Greater than: >\n",
    "- Greater than or equal to: >=\n",
    "- Equal to: =\n",
    "- Not equal to: !=\n",
    "\n",
    "The comparison value after the operator must be either text or a number, depending on the field. Because ShareWomen is a numeric column, we don't need to enclose the number 0.5 in quotes. **Finally, most database systems require that the SELECT and FROM statements come first, before any WHERE or other statements.**\n",
    "\n",
    "    SELECT Major,ShareWomen FROM recent_grads WHERE ShareWomen>0.5;\n",
    "    \n",
    "    SELECT Major,Employed FROM recent_grads WHERE Employed > 10000;"
   ]
  },
  {
   "cell_type": "markdown",
   "metadata": {},
   "source": [
    "# 5. Limiting the Number of Results\n",
    "\n",
    "Many queries return a large number of results, which can be cumbersome to work with. SQL comes with a statement called LIMIT that allows us to specify how many results we'd like the database to return as an integer value.\n",
    "\n",
    "The following query returns the first five values in the Major column:\n",
    "\n",
    "    SELECT Major FROM recent_grads LIMIT 5;\n",
    "\n",
    "Here's the result of that query:\n",
    "\n",
    "    [[\"PETROLEUM ENGINEERING\"], [\"MINING AND MINERAL ENGINEERING\"], [\"METALLURGICAL ENGINEERING\"], [\"NAVAL ARCHITECTURE AND MARINE ENGINEERING\"], [\"CHEMICAL ENGINEERING\"]]"
   ]
  },
  {
   "cell_type": "code",
   "execution_count": 4,
   "metadata": {
    "collapsed": true
   },
   "outputs": [],
   "source": [
    "import sqlite3\n",
    "jobs = sqlite3.connect('jobs.db')"
   ]
  },
  {
   "cell_type": "code",
   "execution_count": 20,
   "metadata": {},
   "outputs": [
    {
     "name": "stdout",
     "output_type": "stream",
     "text": [
      "('PETROLEUM ENGINEERING',)\n",
      "('MINING AND MINERAL ENGINEERING',)\n",
      "('METALLURGICAL ENGINEERING',)\n",
      "('NAVAL ARCHITECTURE AND MARINE ENGINEERING',)\n",
      "('CHEMICAL ENGINEERING',)\n"
     ]
    }
   ],
   "source": [
    "c = jobs.cursor()\n",
    "for row in c.execute('''SELECT Major FROM recent_grads LIMIT 5;'''):\n",
    "    print(row)"
   ]
  },
  {
   "cell_type": "markdown",
   "metadata": {},
   "source": [
    " # 6. Practice: Selecting Columns with Select\n",
    " \n",
    "When we used Major,Rank instead of Rank,Major in the SELECT statement from the previous step, the first value in each list in our results was the major, while the second value was the rank.\n",
    "\n",
    "Now it's your turn to write a SQL query from scratch.\n",
    "\n",
    "**Instructions**\n",
    "\n",
    "Write a query that returns the following five columns from recent_grads, in the same order:\n",
    "- Rank\n",
    "- Major_code\n",
    "- Major\n",
    "- Major_category\n",
    "- Total"
   ]
  },
  {
   "cell_type": "code",
   "execution_count": 26,
   "metadata": {},
   "outputs": [
    {
     "name": "stdout",
     "output_type": "stream",
     "text": [
      "(1, 2419, 'PETROLEUM ENGINEERING', 'Engineering', 2339)\n",
      "(2, 2416, 'MINING AND MINERAL ENGINEERING', 'Engineering', 756)\n",
      "(3, 2415, 'METALLURGICAL ENGINEERING', 'Engineering', 856)\n",
      "(4, 2417, 'NAVAL ARCHITECTURE AND MARINE ENGINEERING', 'Engineering', 1258)\n",
      "(5, 2405, 'CHEMICAL ENGINEERING', 'Engineering', 32260)\n",
      "(6, 2418, 'NUCLEAR ENGINEERING', 'Engineering', 2573)\n",
      "(7, 6202, 'ACTUARIAL SCIENCE', 'Business', 3777)\n",
      "(8, 5001, 'ASTRONOMY AND ASTROPHYSICS', 'Physical Sciences', 1792)\n",
      "(9, 2414, 'MECHANICAL ENGINEERING', 'Engineering', 91227)\n",
      "(10, 2408, 'ELECTRICAL ENGINEERING', 'Engineering', 81527)\n",
      "(11, 2407, 'COMPUTER ENGINEERING', 'Engineering', 41542)\n",
      "(12, 2401, 'AEROSPACE ENGINEERING', 'Engineering', 15058)\n",
      "(13, 2404, 'BIOMEDICAL ENGINEERING', 'Engineering', 14955)\n",
      "(14, 5008, 'MATERIALS SCIENCE', 'Engineering', 4279)\n",
      "(15, 2409, 'ENGINEERING MECHANICS PHYSICS AND SCIENCE', 'Engineering', 4321)\n",
      "(16, 2402, 'BIOLOGICAL ENGINEERING', 'Engineering', 8925)\n",
      "(17, 2412, 'INDUSTRIAL AND MANUFACTURING ENGINEERING', 'Engineering', 18968)\n",
      "(18, 2400, 'GENERAL ENGINEERING', 'Engineering', 61152)\n",
      "(19, 2403, 'ARCHITECTURAL ENGINEERING', 'Engineering', 2825)\n",
      "(20, 3201, 'COURT REPORTING', 'Law & Public Policy', 1148)\n",
      "(21, 2102, 'COMPUTER SCIENCE', 'Computers & Mathematics', 128319)\n",
      "(22, 1104, 'FOOD SCIENCE', 'Agriculture & Natural Resources', 4361)\n",
      "(23, 2502, 'ELECTRICAL ENGINEERING TECHNOLOGY', 'Engineering', 11565)\n",
      "(24, 2413, 'MATERIALS ENGINEERING AND MATERIALS SCIENCE', 'Engineering', 2993)\n",
      "(25, 6212, 'MANAGEMENT INFORMATION SYSTEMS AND STATISTICS', 'Business', 18713)\n",
      "(26, 2406, 'CIVIL ENGINEERING', 'Engineering', 53153)\n",
      "(27, 5601, 'CONSTRUCTION SERVICES', 'Industrial Arts & Consumer Services', 18498)\n",
      "(28, 6204, 'OPERATIONS LOGISTICS AND E-COMMERCE', 'Business', 11732)\n",
      "(29, 2499, 'MISCELLANEOUS ENGINEERING', 'Engineering', 9133)\n",
      "(30, 5402, 'PUBLIC POLICY', 'Law & Public Policy', 5978)\n",
      "(31, 2410, 'ENVIRONMENTAL ENGINEERING', 'Engineering', 4047)\n",
      "(32, 2500, 'ENGINEERING TECHNOLOGIES', 'Engineering', 3600)\n",
      "(33, 6099, 'MISCELLANEOUS FINE ARTS', 'Arts', 3340)\n",
      "(34, 2411, 'GEOLOGICAL AND GEOPHYSICAL ENGINEERING', 'Engineering', 720)\n",
      "(35, 6107, 'NURSING', 'Health', 209394)\n",
      "(36, 6207, 'FINANCE', 'Business', 174506)\n",
      "(37, 5501, 'ECONOMICS', 'Social Science', 139247)\n",
      "(38, 6205, 'BUSINESS ECONOMICS', 'Business', 13302)\n",
      "(39, 2503, 'INDUSTRIAL PRODUCTION TECHNOLOGIES', 'Engineering', 4631)\n",
      "(40, 5102, 'NUCLEAR, INDUSTRIAL RADIOLOGY, AND BIOLOGICAL TECHNOLOGIES', 'Physical Sciences', 2116)\n",
      "(41, 6201, 'ACCOUNTING', 'Business', 198633)\n",
      "(42, 3700, 'MATHEMATICS', 'Computers & Mathematics', 72397)\n",
      "(43, 2100, 'COMPUTER AND INFORMATION SYSTEMS', 'Computers & Mathematics', 36698)\n",
      "(44, 5007, 'PHYSICS', 'Physical Sciences', 32142)\n",
      "(45, 6105, 'MEDICAL TECHNOLOGIES TECHNICIANS', 'Health', 15914)\n",
      "(46, 2105, 'INFORMATION SCIENCES', 'Computers & Mathematics', 11913)\n",
      "(47, 3702, 'STATISTICS AND DECISION SCIENCE', 'Computers & Mathematics', 6251)\n",
      "(48, 3701, 'APPLIED MATHEMATICS', 'Computers & Mathematics', 4939)\n",
      "(49, 3607, 'PHARMACOLOGY', 'Biology & Life Science', 1762)\n",
      "(50, 5006, 'OCEANOGRAPHY', 'Physical Sciences', 2418)\n",
      "(51, 2501, 'ENGINEERING AND INDUSTRIAL MANAGEMENT', 'Engineering', 2906)\n",
      "(52, 6104, 'MEDICAL ASSISTING SERVICES', 'Health', 11123)\n",
      "(53, 4005, 'MATHEMATICS AND COMPUTER SCIENCE', 'Computers & Mathematics', 609)\n",
      "(54, 2101, 'COMPUTER PROGRAMMING AND DATA PROCESSING', 'Computers & Mathematics', 4168)\n",
      "(55, 4006, 'COGNITIVE SCIENCE AND BIOPSYCHOLOGY', 'Biology & Life Science', 3831)\n",
      "(56, 2303, 'SCHOOL STUDENT COUNSELING', 'Education', 818)\n",
      "(57, 5505, 'INTERNATIONAL RELATIONS', 'Social Science', 28187)\n",
      "(58, 6200, 'GENERAL BUSINESS', 'Business', 234590)\n",
      "(59, 1401, 'ARCHITECTURE', 'Engineering', 46420)\n",
      "(60, 6210, 'INTERNATIONAL BUSINESS', 'Business', 25894)\n",
      "(61, 6108, 'PHARMACY PHARMACEUTICAL SCIENCES AND ADMINISTRATION', 'Health', 23551)\n",
      "(62, 3603, 'MOLECULAR BIOLOGY', 'Biology & Life Science', 18300)\n",
      "(63, 6299, 'MISCELLANEOUS BUSINESS & MEDICAL ADMINISTRATION', 'Business', 17947)\n",
      "(64, 1101, 'AGRICULTURE PRODUCTION AND MANAGEMENT', 'Agriculture & Natural Resources', 14240)\n",
      "(65, 1100, 'GENERAL AGRICULTURE', 'Agriculture & Natural Resources', 10399)\n",
      "(66, 2599, 'MISCELLANEOUS ENGINEERING TECHNOLOGIES', 'Engineering', 8804)\n",
      "(67, 2504, 'MECHANICAL ENGINEERING RELATED TECHNOLOGIES', 'Engineering', 4790)\n",
      "(68, 3605, 'GENETICS', 'Biology & Life Science', 3635)\n",
      "(69, 5599, 'MISCELLANEOUS SOCIAL SCIENCES', 'Social Science', 3283)\n",
      "(70, 6403, 'UNITED STATES HISTORY', 'Humanities & Liberal Arts', 3079)\n",
      "(71, 5205, 'INDUSTRIAL AND ORGANIZATIONAL PSYCHOLOGY', 'Psychology & Social Work', 3014)\n",
      "(72, 1102, 'AGRICULTURAL ECONOMICS', 'Agriculture & Natural Resources', 2439)\n",
      "(73, 5000, 'PHYSICAL SCIENCES', 'Physical Sciences', 1436)\n",
      "(74, 3801, 'MILITARY TECHNOLOGIES', 'Industrial Arts & Consumer Services', 124)\n",
      "(75, 5003, 'CHEMISTRY', 'Physical Sciences', 66530)\n",
      "(76, 5701, 'ELECTRICAL, MECHANICAL, AND PRECISION TECHNOLOGIES AND PRODUCTION', 'Industrial Arts & Consumer Services', 2435)\n",
      "(77, 6203, 'BUSINESS MANAGEMENT AND ADMINISTRATION', 'Business', 329927)\n",
      "(78, 6206, 'MARKETING AND MARKETING RESEARCH', 'Business', 205211)\n",
      "(79, 5506, 'POLITICAL SCIENCE AND GOVERNMENT', 'Social Science', 182621)\n",
      "(80, 5504, 'GEOGRAPHY', 'Social Science', 18480)\n",
      "(81, 3606, 'MICROBIOLOGY', 'Biology & Life Science', 15232)\n",
      "(82, 2106, 'COMPUTER ADMINISTRATION MANAGEMENT AND SECURITY', 'Computers & Mathematics', 8066)\n",
      "(83, 3601, 'BIOCHEMICAL SCIENCES', 'Biology & Life Science', 39107)\n",
      "(84, 3602, 'BOTANY', 'Biology & Life Science', 1329)\n",
      "(85, 2107, 'COMPUTER NETWORKING AND TELECOMMUNICATIONS', 'Computers & Mathematics', 7613)\n",
      "(86, 5004, 'GEOLOGY AND EARTH SCIENCE', 'Physical Sciences', 10972)\n",
      "(87, 6209, 'HUMAN RESOURCES AND PERSONNEL MANAGEMENT', 'Business', 24497)\n",
      "(88, 3202, 'PRE-LAW AND LEGAL STUDIES', 'Law & Public Policy', 13528)\n",
      "(89, 6199, 'MISCELLANEOUS HEALTH MEDICAL PROFESSIONS', 'Health', 13386)\n",
      "(90, 5401, 'PUBLIC ADMINISTRATION', 'Law & Public Policy', 5629)\n",
      "(91, 5005, 'GEOSCIENCES', 'Physical Sciences', 1978)\n",
      "(92, 5206, 'SOCIAL PSYCHOLOGY', 'Psychology & Social Work', 1386)\n",
      "(93, 1301, 'ENVIRONMENTAL SCIENCE', 'Biology & Life Science', 25965)\n",
      "(94, 1901, 'COMMUNICATIONS', 'Communications & Journalism', 213996)\n",
      "(95, 5301, 'CRIMINAL JUSTICE AND FIRE PROTECTION', 'Law & Public Policy', 152824)\n",
      "(96, 6004, 'COMMERCIAL ART AND GRAPHIC DESIGN', 'Arts', 103480)\n",
      "(97, 1902, 'JOURNALISM', 'Communications & Journalism', 72619)\n",
      "(98, 5098, 'MULTI-DISCIPLINARY OR GENERAL SCIENCE', 'Physical Sciences', 62052)\n",
      "(99, 1904, 'ADVERTISING AND PUBLIC RELATIONS', 'Communications & Journalism', 53162)\n",
      "(100, 1501, 'AREA ETHNIC AND CIVILIZATION STUDIES', 'Humanities & Liberal Arts', 31195)\n",
      "(101, 2310, 'SPECIAL NEEDS EDUCATION', 'Education', 28739)\n",
      "(102, 3608, 'PHYSIOLOGY', 'Biology & Life Science', 22060)\n",
      "(103, 5503, 'CRIMINOLOGY', 'Social Science', 19879)\n",
      "(104, 4002, 'NUTRITION SCIENCES', 'Health', 18909)\n",
      "(105, 6103, 'HEALTH AND MEDICAL ADMINISTRATIVE SERVICES', 'Health', 18109)\n",
      "(106, 2001, 'COMMUNICATION TECHNOLOGIES', 'Computers & Mathematics', 18035)\n",
      "(107, 5901, 'TRANSPORTATION SCIENCES AND TECHNOLOGIES', 'Industrial Arts & Consumer Services', 15150)\n",
      "(108, 1303, 'NATURAL RESOURCES MANAGEMENT', 'Agriculture & Natural Resources', 13773)\n",
      "(109, 3611, 'NEUROSCIENCE', 'Biology & Life Science', 13663)\n",
      "(110, 4000, 'MULTI/INTERDISCIPLINARY STUDIES', 'Interdisciplinary', 12296)\n",
      "(111, 5002, 'ATMOSPHERIC SCIENCES AND METEOROLOGY', 'Physical Sciences', 4043)\n",
      "(112, 1302, 'FORESTRY', 'Agriculture & Natural Resources', 3607)\n",
      "(113, 1106, 'SOIL SCIENCE', 'Agriculture & Natural Resources', 685)\n",
      "(114, 2300, 'GENERAL EDUCATION', 'Education', 143718)\n",
      "(115, 6402, 'HISTORY', 'Humanities & Liberal Arts', 141951)\n",
      "(116, 2602, 'FRENCH GERMAN LATIN AND OTHER COMMON FOREIGN LANGUAGE STUDIES', 'Humanities & Liberal Arts', 48246)\n",
      "(117, 4001, 'INTERCULTURAL AND INTERNATIONAL STUDIES', 'Humanities & Liberal Arts', 24650)\n",
      "(118, 2311, 'SOCIAL SCIENCE OR HISTORY TEACHER EDUCATION', 'Education', 20198)\n",
      "(119, 6110, 'COMMUNITY AND PUBLIC HEALTH', 'Health', 19735)\n",
      "(120, 2305, 'MATHEMATICS TEACHER EDUCATION', 'Education', 14237)\n",
      "(121, 2301, 'EDUCATIONAL ADMINISTRATION AND SUPERVISION', 'Education', 804)\n",
      "(122, 6106, 'HEALTH AND MEDICAL PREPARATORY PROGRAMS', 'Health', 12740)\n",
      "(123, 3699, 'MISCELLANEOUS BIOLOGY', 'Biology & Life Science', 10706)\n",
      "(124, 3600, 'BIOLOGY', 'Biology & Life Science', 280709)\n",
      "(125, 5507, 'SOCIOLOGY', 'Social Science', 115433)\n",
      "(126, 1903, 'MASS MEDIA', 'Communications & Journalism', 52824)\n",
      "(127, 6109, 'TREATMENT THERAPY PROFESSIONS', 'Health', 48491)\n",
      "(128, 6211, 'HOSPITALITY MANAGEMENT', 'Business', 43647)\n",
      "(129, 2313, 'LANGUAGE AND DRAMA EDUCATION', 'Education', 30471)\n",
      "(130, 2601, 'LINGUISTICS AND COMPARATIVE LANGUAGE AND LITERATURE', 'Humanities & Liberal Arts', 16601)\n",
      "(131, 2399, 'MISCELLANEOUS EDUCATION', 'Education', 10150)\n",
      "(132, 4007, 'INTERDISCIPLINARY SOCIAL SCIENCES', 'Social Science', 9916)\n",
      "(133, 3604, 'ECOLOGY', 'Biology & Life Science', 9154)\n",
      "(134, 2309, 'SECONDARY TEACHER EDUCATION', 'Education', 17125)\n",
      "(135, 6100, 'GENERAL MEDICAL AND HEALTH SERVICES', 'Health', 33599)\n",
      "(136, 4801, 'PHILOSOPHY AND RELIGIOUS STUDIES', 'Humanities & Liberal Arts', 54814)\n",
      "(137, 2314, 'ART AND MUSIC EDUCATION', 'Education', 34181)\n",
      "(138, 3301, 'ENGLISH LANGUAGE AND LITERATURE', 'Humanities & Liberal Arts', 194673)\n",
      "(139, 2304, 'ELEMENTARY EDUCATION', 'Education', 170862)\n",
      "(140, 4101, 'PHYSICAL FITNESS PARKS RECREATION AND LEISURE', 'Industrial Arts & Consumer Services', 125074)\n",
      "(141, 3401, 'LIBERAL ARTS', 'Humanities & Liberal Arts', 71369)\n",
      "(142, 6005, 'FILM VIDEO AND PHOTOGRAPHIC ARTS', 'Arts', 38761)\n",
      "(143, 5500, 'GENERAL SOCIAL SCIENCES', 'Social Science', 12920)\n",
      "(144, 1105, 'PLANT SCIENCE AND AGRONOMY', 'Agriculture & Natural Resources', 7416)\n",
      "(145, 2308, 'SCIENCE AND COMPUTER TEACHER EDUCATION', 'Education', 6483)\n",
      "(146, 5200, 'PSYCHOLOGY', 'Psychology & Social Work', 393735)\n",
      "(147, 6002, 'MUSIC', 'Arts', 60633)\n",
      "(148, 2306, 'PHYSICAL AND HEALTH EDUCATION TEACHING', 'Education', 28213)\n",
      "(149, 6006, 'ART HISTORY AND CRITICISM', 'Humanities & Liberal Arts', 21030)\n",
      "(150, 6000, 'FINE ARTS', 'Arts', 74440)\n",
      "(151, 2901, 'FAMILY AND CONSUMER SCIENCES', 'Industrial Arts & Consumer Services', 58001)\n",
      "(152, 5404, 'SOCIAL WORK', 'Psychology & Social Work', 53552)\n",
      "(153, 1103, 'ANIMAL SCIENCES', 'Agriculture & Natural Resources', 21573)\n",
      "(154, 6003, 'VISUAL AND PERFORMING ARTS', 'Arts', 16250)\n",
      "(155, 2312, 'TEACHER EDUCATION: MULTIPLE LEVELS', 'Education', 14443)\n",
      "(156, 5299, 'MISCELLANEOUS PSYCHOLOGY', 'Psychology & Social Work', 9628)\n",
      "(157, 5403, 'HUMAN SERVICES AND COMMUNITY ORGANIZATION', 'Psychology & Social Work', 9374)\n",
      "(158, 3402, 'HUMANITIES', 'Humanities & Liberal Arts', 6652)\n",
      "(159, 4901, 'THEOLOGY AND RELIGIOUS VOCATIONS', 'Humanities & Liberal Arts', 30207)\n",
      "(160, 6007, 'STUDIO ARTS', 'Arts', 16977)\n",
      "(161, 2201, 'COSMETOLOGY SERVICES AND CULINARY ARTS', 'Industrial Arts & Consumer Services', 10510)\n",
      "(162, 1199, 'MISCELLANEOUS AGRICULTURE', 'Agriculture & Natural Resources', 1488)\n",
      "(163, 5502, 'ANTHROPOLOGY AND ARCHEOLOGY', 'Humanities & Liberal Arts', 38844)\n",
      "(164, 6102, 'COMMUNICATION DISORDERS SCIENCES AND SERVICES', 'Health', 38279)\n",
      "(165, 2307, 'EARLY CHILDHOOD EDUCATION', 'Education', 37589)\n",
      "(166, 2603, 'OTHER FOREIGN LANGUAGES', 'Humanities & Liberal Arts', 11204)\n",
      "(167, 6001, 'DRAMA AND THEATER ARTS', 'Arts', 43249)\n",
      "(168, 3302, 'COMPOSITION AND RHETORIC', 'Humanities & Liberal Arts', 18953)\n",
      "(169, 3609, 'ZOOLOGY', 'Biology & Life Science', 8409)\n",
      "(170, 5201, 'EDUCATIONAL PSYCHOLOGY', 'Psychology & Social Work', 2854)\n",
      "(171, 5202, 'CLINICAL PSYCHOLOGY', 'Psychology & Social Work', 2838)\n",
      "(172, 5203, 'COUNSELING PSYCHOLOGY', 'Psychology & Social Work', 4626)\n",
      "(173, 3501, 'LIBRARY SCIENCE', 'Education', 1098)\n"
     ]
    },
    {
     "data": {
      "text/plain": [
       "(('Rank', None, None, None, None, None, None),\n",
       " ('Major_code', None, None, None, None, None, None),\n",
       " ('Major', None, None, None, None, None, None),\n",
       " ('Major_category', None, None, None, None, None, None),\n",
       " ('Total', None, None, None, None, None, None))"
      ]
     },
     "execution_count": 26,
     "metadata": {},
     "output_type": "execute_result"
    }
   ],
   "source": [
    "for row in c.execute('''SELECT Rank,Major_code,Major,Major_category,Total\n",
    "FROM recent_grads;'''):\n",
    "    print(row)\n",
    "c.description"
   ]
  },
  {
   "cell_type": "markdown",
   "metadata": {},
   "source": [
    "# 7. Filtering With the WHERE Statement\n",
    "\n",
    "So far, we've been writing queries that return all of the rows from the table, but only specific columns. If we wanted to figure out which majors had more female graduates than male graduates (where ShareWomen is larger than 0.5), we would need a way to constrain the rows the query returns.\n",
    "\n",
    "To filter rows by specific criteria, we need to use the WHERE statement. The WHERE statement requires three things:\n",
    "\n",
    "- The column we want the database to filter on: ShareWomen\n",
    "- A comparison operator that specifies how we want to compare a value in a column: >\n",
    "- The value we want the database to compare each value to: 0.5\n",
    "\n",
    "In the query below, we:\n",
    "\n",
    "- Use SELECT to specify the column filtering criteria: Major and ShareWomen\n",
    "- Use FROM to specify the table we want to query: recent_grads\n",
    "- Use WHERE to specify the row filtering criteria: ShareWomen > 0.5\n",
    "\n",
    "    SELECT Major,ShareWomen\n",
    "    FROM recent_grads\n",
    "    WHERE ShareWomen > 0.5;\n",
    "\n",
    "Here are the comparison operators we can use:\n",
    "\n",
    "- Less than: <\n",
    "- Less than or equal to: <=\n",
    "- Greater than: >\n",
    "- Greater than or equal to: >=\n",
    "- Equal to: =\n",
    "- Not equal to: !=\n",
    "\n",
    "The comparison value after the operator must be either text or a number, depending on the field. Because ShareWomen is a numeric column, we don't need to enclose the number 0.5 in quotes. **Finally, most database systems require that the SELECT and FROM statements come first, before any WHERE or other statements.**\n",
    "\n",
    "**Instructions**\n",
    "\n",
    "Run the query we explored above that returns the Major and ShareWomen values for all rows where ShareWomen exceeded 0.5.\n",
    "- Ensure that all of the values for ShareWomen (the second value in each inner list) are greater than 0.5."
   ]
  },
  {
   "cell_type": "code",
   "execution_count": 29,
   "metadata": {},
   "outputs": [
    {
     "name": "stdout",
     "output_type": "stream",
     "text": [
      "('ACTUARIAL SCIENCE', 0.535714286)\n",
      "('COMPUTER SCIENCE', 0.578766338)\n",
      "('ENVIRONMENTAL ENGINEERING', 0.558548009)\n",
      "('NURSING', 0.896018988)\n",
      "('INDUSTRIAL PRODUCTION TECHNOLOGIES', 0.75047259)\n"
     ]
    },
    {
     "data": {
      "text/plain": [
       "(('Major', None, None, None, None, None, None),\n",
       " ('ShareWomen', None, None, None, None, None, None))"
      ]
     },
     "execution_count": 29,
     "metadata": {},
     "output_type": "execute_result"
    }
   ],
   "source": [
    "for row in c.execute('''SELECT Major,ShareWomen\n",
    "FROM recent_grads\n",
    "WHERE ShareWomen>0.5\n",
    "LIMIT 5'''):\n",
    "    print(row)\n",
    "c.description"
   ]
  },
  {
   "cell_type": "markdown",
   "metadata": {},
   "source": [
    "# 8. Practice: Filtering with WHERE statements\n",
    "\n",
    "Now it's your turn to write a SQL query that uses the WHERE statement to filter the results.\n",
    "\n",
    "**Instructions**\n",
    "\n",
    "Write a SQL query that returns all majors with more than 10000 employed graduates.\n",
    "- In the SELECT statement, specify that we only want the values from the Major and Employed columns (in that order)."
   ]
  },
  {
   "cell_type": "code",
   "execution_count": 32,
   "metadata": {},
   "outputs": [
    {
     "name": "stdout",
     "output_type": "stream",
     "text": [
      "('CHEMICAL ENGINEERING', 25694)\n",
      "('MECHANICAL ENGINEERING', 76442)\n",
      "('ELECTRICAL ENGINEERING', 61928)\n",
      "('COMPUTER ENGINEERING', 32506)\n",
      "('AEROSPACE ENGINEERING', 11391)\n"
     ]
    }
   ],
   "source": [
    "for row in c.execute('''SELECT Major,Employed \n",
    "FROM recent_grads\n",
    "WHERE Employed>10000\n",
    "LIMIT 5'''):\n",
    "    print(row)"
   ]
  },
  {
   "cell_type": "markdown",
   "metadata": {},
   "source": [
    "# 9. Limiting the Number of Results\n",
    "\n",
    "Many queries return a large number of results, which can be cumbersome to work with. SQL comes with a statement called LIMIT that allows us to specify how many results we'd like the database to return as an integer value.\n",
    "\n",
    "The following query returns the first five values in the Major column:\n",
    "\n",
    "    SELECT Major FROM recent_grads LIMIT 5;\n",
    "Here's the result of that query:\n",
    "\n",
    "    [[\"PETROLEUM ENGINEERING\"], [\"MINING AND MINERAL ENGINEERING\"], [\"METALLURGICAL ENGINEERING\"], [\"NAVAL ARCHITECTURE AND MARINE ENGINEERING\"], [\"CHEMICAL ENGINEERING\"]]\n",
    "\n",
    "**Instructions**\n",
    "Write a query that returns:\n",
    "- The Major column\n",
    "- Where Employed exceeds 10000\n",
    "- Only the first 10 results"
   ]
  },
  {
   "cell_type": "code",
   "execution_count": 34,
   "metadata": {},
   "outputs": [
    {
     "name": "stdout",
     "output_type": "stream",
     "text": [
      "('CHEMICAL ENGINEERING', 25694)\n",
      "('MECHANICAL ENGINEERING', 76442)\n",
      "('ELECTRICAL ENGINEERING', 61928)\n",
      "('COMPUTER ENGINEERING', 32506)\n",
      "('AEROSPACE ENGINEERING', 11391)\n"
     ]
    }
   ],
   "source": [
    "for row in c.execute('''SELECT Major,Employed \n",
    "FROM recent_grads\n",
    "WHERE Employed>10000\n",
    "LIMIT 5'''):\n",
    "    print(row)"
   ]
  },
  {
   "cell_type": "markdown",
   "metadata": {},
   "source": [
    "# 10. Next Steps\n",
    "We've covered the basics of databases and SQL syntax in this lesson, and learned that SQL is an expressive language for working with data. In the next lesson, we'll learn how to combine multiple filtering criteria together to express more complex logic in SQL."
   ]
  }
 ],
 "metadata": {
  "kernelspec": {
   "display_name": "Python 3",
   "language": "python",
   "name": "python3"
  },
  "language_info": {
   "codemirror_mode": {
    "name": "ipython",
    "version": 3
   },
   "file_extension": ".py",
   "mimetype": "text/x-python",
   "name": "python",
   "nbconvert_exporter": "python",
   "pygments_lexer": "ipython3",
   "version": "3.6.3"
  }
 },
 "nbformat": 4,
 "nbformat_minor": 2
}
