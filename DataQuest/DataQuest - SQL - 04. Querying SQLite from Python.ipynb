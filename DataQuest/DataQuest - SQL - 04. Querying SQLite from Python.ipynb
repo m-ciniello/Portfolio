{
 "cells": [
  {
   "cell_type": "markdown",
   "metadata": {},
   "source": [
    "# 1. Overview\n",
    "\n",
    "In past missions, we focused on exploring the SQL syntax for retrieving data from a database. In this mission, we'll explore how to interact with a SQLite database in Python so you can start to incorporate databases into your data science workflow.\n",
    "\n",
    "SQLite is a database that doesn't require a standalone server; it stores the entire database as a file on disk. This makes it ideal for working with larger data sets that can fit on disk but not in memory.\n",
    "\n",
    "The pandas library loads the entire data set we're working with into memory, making SQLite a compelling alternative for working with data sets larger than 8 gigabytes (which is roughly the amount of memory modern computers contain). The fact that we can contain an entire database in a single file makes them easy to share; some data sets are available online as SQLite database files (using the extension .db).\n",
    "\n",
    "We can interact with a SQLite database in two main ways:\n",
    "\n",
    "- Through the SQLite Python module\n",
    "- Through the SQLite shell\n",
    "\n",
    "In this mission, we'll focus on learning how to use the SQLite Python module to interact with the database. We'll work with the SQLite shell in the guided project that comes after this mission."
   ]
  },
  {
   "cell_type": "markdown",
   "metadata": {},
   "source": [
    "# 2. Introduction to the Data\n",
    "We'll continue to work with the American Community Survey data on college majors and job outcomes. Here's a preview of recent-grads.csv, the data set we'll be working with:\n",
    "![](Picture3.png)\n",
    "\n",
    "We've loaded a subset of the data into a table named recent_grads in a database. The subset contains the 2010-2012 data for recent college grads only. The full table has many more columns (21 to be specific) than the ones displayed above. You can find more details on them at FiveThirtyEight's Github repo.\n",
    "\n",
    "Here are the descriptions for the columns in the preview:\n",
    "\n",
    "- Rank - The major's rank by median earnings\n",
    "- Major_code - The major's code or ID\n",
    "- Major - The name of the major\n",
    "- Major_category - The broader category the major belongs to\n",
    "- Total - The total number of people who studied the major\n",
    "- Sample_size - The sample size (unweighted) of graduates with full time jobs\n",
    "- Men - The number of male graduates\n",
    "- Women - The number of female graduates\n",
    "- ShareWomen - Women as a proportion of the total number of graduates (a number ranging from 0 to 1)\n",
    "- Employed - The number of employed graduates"
   ]
  },
  {
   "cell_type": "markdown",
   "metadata": {},
   "source": [
    "# 3. Connecting to the Database\n",
    "\n",
    "Python 2.5 and up come with the sqlite module, which means we don't need to install any separate libraries to get started. Specifically, we'll be working with the sqlite3 Python module, which was developed to work with SQLite version 3.\n",
    "\n",
    "We can import it into our environment using this command:\n",
    "\n",
    "    import sqlite3\n",
    "Once we've imported the module, we connect to the database we want to query using the connect() function. This function requires a single parameter, which is the database we want to connect to. Because the database we're working with exists as a file on disk, we need to pass in the file name.\n",
    "\n",
    "The connect() function returns a Connection instance, which maintains the connection to the database we want to work with. *When we're connected to a database, SQLite locks the database file and prevents any other processes from connecting to the database simultaneously.* <font color = red> The SQLite team made this design decision to keep the database lightweight, and avoid the complexity that arises when multiple processes interact with the same database. </font>\n",
    "\n",
    "\n",
    "**Instructions**\n",
    "\n",
    "- Import the sqlite3 library into the environment.\n",
    "- Then, use the sqlite3.connect() function to connect to jobs.db, and assign the Connection instance it returns to conn."
   ]
  },
  {
   "cell_type": "code",
   "execution_count": 2,
   "metadata": {
    "collapsed": true
   },
   "outputs": [],
   "source": [
    "import sqlite3\n",
    "conn = sqlite3.connect('jobs.db')"
   ]
  },
  {
   "cell_type": "markdown",
   "metadata": {},
   "source": [
    "# 4. Introduction Cursors Objects and Tuples\n",
    "\n",
    "Before we can execute a query, we need to express our SQL query as a string. While we use the Connection class to represent the database we're working with, we use the Cursor class to:\n",
    "\n",
    "- Run a query against the database\n",
    "- Parse the results from the database\n",
    "- Convert the results to native Python objects\n",
    "- Store the results within the Cursor instance as a local variable\n",
    "\n",
    "After running a query and converting the results to a list of tuples, the Cursor instance stores the list as a local variable. Before diving into the syntax of querying the database, let's learn more about tuples."
   ]
  },
  {
   "cell_type": "markdown",
   "metadata": {},
   "source": [
    "# 5. Working with Sequences of Values as Tuples\n",
    "\n",
    "A tuple is a core data structure that Python uses to represent a sequence of values, similar to a list. Unlike lists, tuples are immutable, which means we can't modify existing ones. Python represents each row in the results set as a tuple.\n",
    "\n",
    "To create an empty tuple, assign a pair of empty parentheses to a variable:\n",
    "\n",
    "    t = ()\n",
    "Python indexes Tuples from 0 to n-1, just like it does with lists. We access the values in a tuple using bracket notation.\n",
    "\n",
    "    t = ('Apple', 'Banana')\n",
    "    apple = t[0] \n",
    "    banana = t[1]\n",
    "\n",
    "<font color = red>Tuples are faster than lists, so they're helpful with larger databases and larger results sets.</font>\n",
    "\n",
    "Next, let's dive into how to use the Cursor instance to query the database."
   ]
  },
  {
   "cell_type": "markdown",
   "metadata": {},
   "source": [
    "# 6. Creating a Cursor and Running a Query\n",
    "\n",
    "We need to use the Connection instance method cursor() to return a Cursor instance corresponding to the database we want to query.\n",
    "\n",
    "    cursor = conn.cursor()\n",
    "\n",
    "In the following code block, we:\n",
    "\n",
    "- Write a basic select query that will return all of the values from the recent_grads table, and store this query as a string named query\n",
    "- Use the Cursor method execute() to run the query against our database\n",
    "- Return the full results set and store it as results\n",
    "- Print the first three tuples in the list results\n",
    "\n",
    "        # SQL Query as a string\n",
    "        query = \"select * from recent_grads;\"\n",
    "        # Execute the query, convert the results to tuples, and store as a local variable\n",
    "        cursor.execute(query)\n",
    "        # Fetch the full results set as a list of tuples\n",
    "        results = cursor.fetchall()\n",
    "        # Display the first three results\n",
    "        print(results[0:3])\n",
    "\n",
    "Now it's your turn!\n",
    "\n",
    "**Instructions**\n",
    "\n",
    "- Write a query that returns all of the values in the Major column from the recent_grads table.\n",
    "- Store the full results set (a list of tuples) in majors.\n",
    "- Then, print the first three tuples in majors."
   ]
  },
  {
   "cell_type": "code",
   "execution_count": 5,
   "metadata": {
    "collapsed": false
   },
   "outputs": [
    {
     "name": "stdout",
     "output_type": "stream",
     "text": [
      "[('PETROLEUM ENGINEERING',), ('MINING AND MINERAL ENGINEERING',), ('METALLURGICAL ENGINEERING',)]\n"
     ]
    }
   ],
   "source": [
    "import sqlite3\n",
    "conn = sqlite3.connect(\"jobs.db\")\n",
    "cursor = conn.cursor()\n",
    "\n",
    "query = \"select major from recent_grads;\"\n",
    "majors = cursor.execute(query).fetchall()\n",
    "print(majors[0:3])"
   ]
  },
  {
   "cell_type": "markdown",
   "metadata": {},
   "source": [
    "# 7. Execute as a Shortcut for Running a Query\n",
    "\n",
    "So far, we've been running queries by creating a Cursor instance, and then calling the execute method on the instance. The SQLite library actually allows us to skip creating a Cursor altogether by using the execute method within the Connection object itself. SQLite will create a Cursor instance for us under the hood and our query run against the database, but this shortcut allows us to skip a step. Here's what the code looks like:\n",
    "\n",
    "    conn = sqlite3.connect(\"jobs.db\")\n",
    "    query = \"select * from recent_grads;\"\n",
    "    conn.execute(query).fetchall()\n",
    "\n",
    "Notice that we didn't explicitly create a separate Cursor instance ourselves in this code example.\n",
    "\n",
    "Now let's learn how to fetch a specific number of results after we run a query."
   ]
  },
  {
   "cell_type": "markdown",
   "metadata": {},
   "source": [
    "# 8. Fetching a Specific Number of Results\n",
    "To make it easier to work with large results sets, the Cursor class allows us to control the number of results we want to retrieve at any given time. To return a single result (as a tuple), we use the Cursor method fetchone(). To return n results, we use the Cursor method fetchmany().\n",
    "\n",
    "**Each Cursor instance contains an internal counter that updates every time we retrieve results. When we call the fetchone() method, the Cursor instance will return a single result, and then increment its internal counter by 1. This means that if we call fetchone() again, the Cursor instance will actually return the second tuple in the results set (and increment by 1 again).**\n",
    "\n",
    "The fetchmany() method takes in an integer (n) and returns the corresponding results, starting from the current position. It then increments the Cursor instance's counter by n. In the following code, we return the first two results using the fetchone() method, then the next five results using the fetchmany() method.\n",
    "\n",
    "    first_result = cursor.fetchone()\n",
    "    second_result = cursor.fetchone()\n",
    "    next_five_results = cursor.fetchmany(5)\n",
    "\n",
    "**Instructions**\n",
    "- Write and run a query that returns the Major and Major_category columns from recent_grads.\n",
    "- Then, fetch the first five results and store them as five_results."
   ]
  },
  {
   "cell_type": "code",
   "execution_count": 30,
   "metadata": {
    "collapsed": false
   },
   "outputs": [
    {
     "name": "stdout",
     "output_type": "stream",
     "text": [
      "[('PETROLEUM ENGINEERING', 'Engineering'), ('MINING AND MINERAL ENGINEERING', 'Engineering'), ('METALLURGICAL ENGINEERING', 'Engineering'), ('NAVAL ARCHITECTURE AND MARINE ENGINEERING', 'Engineering'), ('CHEMICAL ENGINEERING', 'Engineering')]\n",
      "\n",
      " [('NUCLEAR ENGINEERING', 'Engineering'), ('ACTUARIAL SCIENCE', 'Business'), ('ASTRONOMY AND ASTROPHYSICS', 'Physical Sciences'), ('MECHANICAL ENGINEERING', 'Engineering'), ('ELECTRICAL ENGINEERING', 'Engineering')]\n"
     ]
    }
   ],
   "source": [
    "import sqlite3\n",
    "conn = sqlite3.connect(\"jobs.db\")\n",
    "cursor = conn.cursor()\n",
    "query = \"select Major,Major_category from recent_grads;\"\n",
    "cursor.execute(query)\n",
    "\n",
    "#print first five results\n",
    "five_results = cursor.fetchmany(5)\n",
    "print(five_results)\n",
    "\n",
    "#print NEXT five results\n",
    "five_results = cursor.fetchmany(5)\n",
    "print('\\n',five_results)"
   ]
  },
  {
   "cell_type": "markdown",
   "metadata": {},
   "source": [
    "# MC SIDENOTE: USE pd.read_sql_query. SHIT IS DOPE!"
   ]
  },
  {
   "cell_type": "code",
   "execution_count": 45,
   "metadata": {
    "collapsed": false
   },
   "outputs": [
    {
     "data": {
      "text/html": [
       "<div>\n",
       "<table border=\"1\" class=\"dataframe\">\n",
       "  <thead>\n",
       "    <tr style=\"text-align: right;\">\n",
       "      <th></th>\n",
       "      <th>Major</th>\n",
       "      <th>Major_category</th>\n",
       "    </tr>\n",
       "  </thead>\n",
       "  <tbody>\n",
       "    <tr>\n",
       "      <th>0</th>\n",
       "      <td>MISCELLANEOUS FINE ARTS</td>\n",
       "      <td>Arts</td>\n",
       "    </tr>\n",
       "    <tr>\n",
       "      <th>1</th>\n",
       "      <td>COMMERCIAL ART AND GRAPHIC DESIGN</td>\n",
       "      <td>Arts</td>\n",
       "    </tr>\n",
       "    <tr>\n",
       "      <th>2</th>\n",
       "      <td>FILM VIDEO AND PHOTOGRAPHIC ARTS</td>\n",
       "      <td>Arts</td>\n",
       "    </tr>\n",
       "    <tr>\n",
       "      <th>3</th>\n",
       "      <td>MUSIC</td>\n",
       "      <td>Arts</td>\n",
       "    </tr>\n",
       "    <tr>\n",
       "      <th>4</th>\n",
       "      <td>FINE ARTS</td>\n",
       "      <td>Arts</td>\n",
       "    </tr>\n",
       "    <tr>\n",
       "      <th>5</th>\n",
       "      <td>VISUAL AND PERFORMING ARTS</td>\n",
       "      <td>Arts</td>\n",
       "    </tr>\n",
       "    <tr>\n",
       "      <th>6</th>\n",
       "      <td>STUDIO ARTS</td>\n",
       "      <td>Arts</td>\n",
       "    </tr>\n",
       "    <tr>\n",
       "      <th>7</th>\n",
       "      <td>DRAMA AND THEATER ARTS</td>\n",
       "      <td>Arts</td>\n",
       "    </tr>\n",
       "  </tbody>\n",
       "</table>\n",
       "</div>"
      ],
      "text/plain": [
       "                               Major Major_category\n",
       "0            MISCELLANEOUS FINE ARTS           Arts\n",
       "1  COMMERCIAL ART AND GRAPHIC DESIGN           Arts\n",
       "2   FILM VIDEO AND PHOTOGRAPHIC ARTS           Arts\n",
       "3                              MUSIC           Arts\n",
       "4                          FINE ARTS           Arts\n",
       "5         VISUAL AND PERFORMING ARTS           Arts\n",
       "6                        STUDIO ARTS           Arts\n",
       "7             DRAMA AND THEATER ARTS           Arts"
      ]
     },
     "execution_count": 45,
     "metadata": {},
     "output_type": "execute_result"
    }
   ],
   "source": [
    "import pandas as pd\n",
    "import sqlite3\n",
    "conn = sqlite3.connect(\"jobs.db\")\n",
    "query = \"SELECT Major,Major_category from recent_grads WHERE Major_category='Arts';\"\n",
    "\n",
    "pd.read_sql_query(query,con=conn)\n",
    "\n",
    "#(sql, con, index_col=None, coerce_float=True, params=None, parse_dates=None, chunksize=None)"
   ]
  },
  {
   "cell_type": "markdown",
   "metadata": {},
   "source": [
    "# 9. Closing the Database Connection\n",
    "\n",
    "Because SQLite restricts access to the database file when we're connected to a database, we need to close the connection when we're done working with it. Closing the connection allows other processes to access the database, which is important when you're in a production environment and working with other team members.\n",
    "\n",
    "To close a connection to a database, use the Connection instance method close(). When we're working with multiple databases and multiple Connection instances, we want to make sure we call the close() method on the correct instance. **After closing the connection, attempting to query the database using any linked Cursor instances will return the following error:**\n",
    "\n",
    "    ProgrammingError: Cannot operate on a closed database.\n",
    "\n",
    "**Instructions**\n",
    "\n",
    "- Close the connection to the database using the Connection instance method close()."
   ]
  },
  {
   "cell_type": "code",
   "execution_count": 16,
   "metadata": {
    "collapsed": true
   },
   "outputs": [],
   "source": [
    "conn = sqlite3.connect(\"jobs.db\")\n",
    "conn.close()"
   ]
  },
  {
   "cell_type": "markdown",
   "metadata": {},
   "source": [
    "# 10. Practice\n",
    "\n",
    "Now let's practice the entire workflow we've learned so far, from start to finish.\n",
    "\n",
    "**Instructions**\n",
    "\n",
    "- Connect to the database jobs2.db, which contains the same data as jobs.db.\n",
    "- Write and execute a query that returns all of the majors (Major) in reverse alphabetical order (Z to A).\n",
    "- Assign the full result set to reverse_alphabetical.\n",
    "- Finally, close the connection to the database."
   ]
  },
  {
   "cell_type": "code",
   "execution_count": 22,
   "metadata": {
    "collapsed": false
   },
   "outputs": [
    {
     "name": "stdout",
     "output_type": "stream",
     "text": [
      "[('ZOOLOGY',), ('VISUAL AND PERFORMING ARTS',), ('UNITED STATES HISTORY',), ('TREATMENT THERAPY PROFESSIONS',), ('TRANSPORTATION SCIENCES AND TECHNOLOGIES',), ('THEOLOGY AND RELIGIOUS VOCATIONS',), ('TEACHER EDUCATION: MULTIPLE LEVELS',), ('STUDIO ARTS',), ('STATISTICS AND DECISION SCIENCE',), ('SPECIAL NEEDS EDUCATION',)]\n"
     ]
    }
   ],
   "source": [
    "conn = sqlite3.connect(\"jobs3.db\")\n",
    "query = \"select Major from recent_grads order by Major desc;\"\n",
    "reverse_alphabetical = conn.cursor().execute(query).fetchall()\n",
    "print(reverse_alphabetical[0:10])\n",
    "conn.close()"
   ]
  },
  {
   "cell_type": "markdown",
   "metadata": {},
   "source": [
    "# 11. Next Steps\n",
    "In this mission, we learned how to query a SQLite database from the Python module (the IPython shell). Next up, we'll walk through how to use the SQLite shell in a guided project. The two shells are similar; we can write and run commands interactively in both of them.\n"
   ]
  }
 ],
 "metadata": {
  "kernelspec": {
   "display_name": "Python 3",
   "language": "python",
   "name": "python3"
  },
  "language_info": {
   "codemirror_mode": {
    "name": "ipython",
    "version": 3
   },
   "file_extension": ".py",
   "mimetype": "text/x-python",
   "name": "python",
   "nbconvert_exporter": "python",
   "pygments_lexer": "ipython3",
   "version": "3.6.0"
  }
 },
 "nbformat": 4,
 "nbformat_minor": 2
}
