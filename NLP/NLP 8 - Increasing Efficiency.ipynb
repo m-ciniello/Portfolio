{
 "cells": [
  {
   "cell_type": "markdown",
   "metadata": {},
   "source": [
    "# Section 8. Increasing Model Efficiency\n",
    "\n",
    "- Last lecture, we looked at making our bigrams language more more efficient by limiting the number of parameters we used.\n",
    "- Surprisingly, our nnet model was faster, due to few weight params\n",
    "- this lecture we can go EVEN FASTER using numpy indexing tricks\n",
    "\n",
    "### Inefficiency\n",
    "- In previous model, for every new sentence (batch) we need to create a one-hot-encoded representation of it\n",
    "    - For a sentence of length N, we generate 2 matrices of size **N x V**\n",
    "- if V=10,000 then we create 10,000 times more data than we started with!!!\n",
    "\n",
    "### Matrix multiplication with onehot \n",
    "- if we multiply the following vector and matrix (vec.dot(mat)), we get the second row of the matrix. The row that is return is determined by the position of the 1 in the one hot vector. \n",
    "![](pictures/nlp_8_matmul.jpg)\n"
   ]
  },
  {
   "cell_type": "code",
   "execution_count": 3,
   "metadata": {},
   "outputs": [
    {
     "data": {
      "text/plain": [
       "array([4, 5, 6])"
      ]
     },
     "execution_count": 3,
     "metadata": {},
     "output_type": "execute_result"
    }
   ],
   "source": [
    "import numpy as np\n",
    "w_mat = np.arange(1,10).reshape(3,3)\n",
    "oneh_vec = np.array([0,1,0])\n",
    "\n",
    "oneh_vec.dot(w_mat)"
   ]
  },
  {
   "cell_type": "markdown",
   "metadata": {},
   "source": [
    "### Whats the pattern?\n",
    "- if my input word  (numerical representation) is k\n",
    "- then one-hot vector contains 0s and 1 at index k\n",
    "- then multiplying the one-hot vector by weight matrix is the **the same as selected the kth row of the weight matrix!**\n",
    "\n",
    "So basically, these two code snipets are equivalent:\n",
    "\n",
    "      #OLD\n",
    "      one_hot = get_one_hot(k)\n",
    "      one_hot.dot(W)\n",
    "      \n",
    "      #NEW\n",
    "      W[k]\n",
    "      \n",
    "- The second method is also MUCH faster and takes up LESS memory.\n",
    "- For a sentence of N length, containing word indexes, we can use that directly instead of create an N x V one-hot matrix. \n",
    "- For v=10000 we get a savings of 10000 times!\n",
    "\n",
    "### Numpy indexing\n",
    "- I can do W[k] because k is an integer, and thats easy\n",
    "- by how do we do this for full sentences with multiple word indexes?\n",
    "- How can we do the equivalent of *one_hot_inputs.dot(W)*?\n",
    "- Luckily, **numpy actually supports indexing an array with a list of indexes**\n",
    "- Eg. W[[0,0]] returns a 2xD array with the row at index 0 and the row at index 1\n",
    "- W[Inputs] returns a NxD matrix where N = sentence length\n",
    "    - this is the same thing I would have gotten from doing one_hot_inputs.dot(W)\n",
    "    \n",
    "if:\n",
    "\n",
    "        one_hot_inputs.shape == (N,V)\n",
    "        W.shape == (V,D)\n",
    "\n",
    "then:\n",
    "    \n",
    "        one_hot_inputs.dot(W).shape == (N,D)"
   ]
  },
  {
   "cell_type": "code",
   "execution_count": 4,
   "metadata": {},
   "outputs": [
    {
     "name": "stdout",
     "output_type": "stream",
     "text": [
      "w_mat\n",
      " [[ 0  1  2  3  4  5  6]\n",
      " [ 7  8  9 10 11 12 13]\n",
      " [14 15 16 17 18 19 20]\n",
      " [21 22 23 24 25 26 27]\n",
      " [28 29 30 31 32 33 34]]\n"
     ]
    },
    {
     "data": {
      "text/plain": [
       "array([ 2,  3, 13])"
      ]
     },
     "execution_count": 4,
     "metadata": {},
     "output_type": "execute_result"
    }
   ],
   "source": [
    "#weight matrix for 5 words\n",
    "w_mat = np.arange(0,35).reshape(5,7)\n",
    "print('w_mat\\n', w_mat)\n",
    "\n",
    "#numpy indexing\n",
    "w_mat[[0,0,1],[2,3,6]]"
   ]
  },
  {
   "cell_type": "code",
   "execution_count": 5,
   "metadata": {},
   "outputs": [
    {
     "name": "stdout",
     "output_type": "stream",
     "text": [
      "Select weight indeces using the 'sent' variable.\n",
      "No need for one-hot encoding of sent variable!\n",
      "[2 4 3 0 2 1 4]\n",
      "\n"
     ]
    },
    {
     "data": {
      "text/plain": [
       "array([[14, 15, 16, 17, 18, 19, 20],\n",
       "       [28, 29, 30, 31, 32, 33, 34],\n",
       "       [21, 22, 23, 24, 25, 26, 27],\n",
       "       [ 0,  1,  2,  3,  4,  5,  6],\n",
       "       [14, 15, 16, 17, 18, 19, 20],\n",
       "       [ 7,  8,  9, 10, 11, 12, 13],\n",
       "       [28, 29, 30, 31, 32, 33, 34]])"
      ]
     },
     "execution_count": 5,
     "metadata": {},
     "output_type": "execute_result"
    }
   ],
   "source": [
    "#sentence with 5 setneces, in corpus vocab of 7\n",
    "sent = np.array([2,4,3,0,2,1,4])\n",
    "print(\"Select weight indeces using the 'sent' variable.\")\n",
    "print('No need for one-hot encoding of sent variable!')\n",
    "print(sent)\n",
    "print()\n",
    "w_mat[sent]"
   ]
  },
  {
   "cell_type": "markdown",
   "metadata": {},
   "source": [
    "### Apply this trick everywhere\n",
    "\n",
    "For predictions:\n",
    "    \n",
    "    hidden = np.tanh(W1[inputs])\n",
    "    predictions = softmax(hidden.dot(W2))\n",
    "    \n",
    "### Calculating Cost\n",
    "\n",
    "- Most of these terms are 0 because anything  x 0 = 0\n",
    "\n",
    "OLD:\n",
    "    \n",
    "    one_hot_targets * log(predictions)\n",
    "\n",
    "NEW:\n",
    "    \n",
    "    log(predictions[np.arange(N), targets])\n",
    "    \n",
    "- In the new code, 'targets' is a list of integers (that refer to word in vocab)... we select non-zero entries!\n",
    "\n",
    "![](pictures/nlp_7_nnetcost.jpg)\n"
   ]
  },
  {
   "cell_type": "markdown",
   "metadata": {},
   "source": [
    "### Update W2\n",
    "\n",
    "- Our original update works as follows:\n",
    "    \n",
    "    W2 = W2 - lr * hidden.T.dot(predictions - targets)\n",
    "\n",
    "- HOWEVER, we can't do this anymore! **Because targets is now a list of integers reflecting wordindex vals... instead of NxV matrix**\n",
    "- We can no longer subtract these because target is no longer NXV\n",
    "\n",
    "**Use the double indexing trick:**\n",
    "- We are mostly subtracting zeros\n",
    "\n",
    "\n",
    "    W2 = w2 - lr * hidden.T.dot(predictions - onehot_targets)\n",
    "\n",
    "- we really only need to subtract 1 from where target is, like this:\n",
    "\n",
    "\n",
    "    doutput = predictions\n",
    "    doutput[np.arange(N), targets] -=1\n",
    "    \n",
    "### Update W1\n",
    "- Remember, we only need to update the weights corresponding to words in our batch (sentence). \n",
    "    - \"Recall: we only need to update the part of W1 that corresponds to the input word\"\n",
    "- However, we will have multiple input words, and occasionally the same input word twice!\n",
    "- **Solution:** pretend we are doing stochastic gradient descent and update one word at a time\n",
    "    - this is not ideal because we like vectorization more than we like for loops (loops are slow)\n",
    "    \n",
    "    \n",
    "    i=0\n",
    "    for input_row in inputs:\n",
    "        W1[input_row] = W1[input_row] - lr * dhidden[i]\n",
    "        i += 1\n",
    "- In general, you see that the reason we have to use the loop at all, is because the integer used to index W1 is different from the integer used to index dhidden. "
   ]
  },
  {
   "cell_type": "markdown",
   "metadata": {},
   "source": [
    "# Let's write some code!\n",
    "\n",
    "We are generally going to be copying a lot of code from the past lecture so we will import that below."
   ]
  },
  {
   "cell_type": "markdown",
   "metadata": {},
   "source": [
    "# 1. Import old code"
   ]
  },
  {
   "cell_type": "code",
   "execution_count": 6,
   "metadata": {
    "collapsed": true
   },
   "outputs": [],
   "source": [
    "import numpy as np\n",
    "import matplotlib.pyplot as plt\n",
    "import random\n",
    "from datetime import datetime\n",
    "import os\n",
    "import sys\n",
    "from nltk.corpus import brown\n",
    "import nltk\n",
    "import operator\n",
    "\n",
    "#GET SENTENCES FROM BROWN CORPUS\n",
    "def get_sentences():\n",
    "    # returns 57340 of the Brown corpus\n",
    "    # each sentence is represented as a list of individual string tokens\n",
    "    return brown.sents()\n",
    "test = get_sentences()\n",
    "\n",
    "#SENTANCES TO INDEX REPRESENTATION\n",
    "def get_sentences_with_word2idx(print_v=False):\n",
    "    #initialize sentences and index\n",
    "    sentences = get_sentences()\n",
    "    indexed_sentences = []\n",
    "    i = 2\n",
    "    #initialize start/end tags\n",
    "    #capitalized so wont get confused with actual words in corpus\n",
    "    word2idx = {'START': 0, 'END': 1}\n",
    "    \n",
    "    #loop through all sentances, add unique words to index\n",
    "    for sentence in sentences:\n",
    "        indexed_sentence = []\n",
    "        for token in sentence:\n",
    "            token = token.lower()\n",
    "            if token not in word2idx:\n",
    "                word2idx[token] = i\n",
    "                i += 1\n",
    "            #convert each sentance to index map\n",
    "            indexed_sentence.append(word2idx[token])\n",
    "        indexed_sentences.append(indexed_sentence)\n",
    "\n",
    "    if print_v:\n",
    "        print(\"Vocab size:\", i)\n",
    "    return indexed_sentences, word2idx\n",
    "\n",
    "#SENTANCES TO INDEX REPRESENTATION WITH LIMITED VOCAB\n",
    "KEEP_WORDS = set([\n",
    "  'king', 'man', 'queen', 'woman',\n",
    "  'italy', 'rome', 'france', 'paris',\n",
    "  'london', 'britain', 'england',\n",
    "])\n",
    "\n",
    "def get_sentences_with_word2idx_limit_vocab(n_vocab=2000, keep_words=KEEP_WORDS, print_v=False):\n",
    "    #initialize sentences and index\n",
    "    sentences = get_sentences()\n",
    "    indexed_sentences = []\n",
    "    i = 2\n",
    "    #initialize start/end tags\n",
    "    #capitalized so wont get confused with actual words in corpus\n",
    "    word2idx = {'START': 0, 'END': 1}\n",
    "    idx2word = ['START', 'END']\n",
    "    \n",
    "    #Set start tokens to inf so they dont get removed when sorting by count\n",
    "    word_idx_count = {\n",
    "    0: float('inf'),\n",
    "    1: float('inf'),\n",
    "    }\n",
    "    \n",
    "    #Count each word \n",
    "    for sentence in sentences:\n",
    "        indexed_sentence = []\n",
    "        for token in sentence:\n",
    "            token = token.lower()\n",
    "            if token not in word2idx:\n",
    "                idx2word.append(token)\n",
    "                word2idx[token] = i\n",
    "                i += 1\n",
    "            # keep track of counts for later sorting\n",
    "            idx = word2idx[token]\n",
    "            word_idx_count[idx] = word_idx_count.get(idx, 0) + 1\n",
    "\n",
    "            indexed_sentence.append(idx)\n",
    "        indexed_sentences.append(indexed_sentence)\n",
    "\n",
    "    # restrict vocab size\n",
    "    # set all the words I want to keep to infinity\n",
    "    # so that they are included when I pick the most\n",
    "    for word in keep_words:\n",
    "        word_idx_count[word2idx[word]] = float('inf')\n",
    "    #tell sorted funciton to use 2nd item to sort\n",
    "    sorted_word_idx_count = sorted(word_idx_count.items(), key=operator.itemgetter(1), reverse=True)\n",
    "    word2idx_small = {}\n",
    "    new_idx = 0\n",
    "    #create new dictionary from old dict\n",
    "    idx_new_idx_map = {}\n",
    "    for idx, count in sorted_word_idx_count[:n_vocab]:\n",
    "        word = idx2word[idx]\n",
    "        if print_v:\n",
    "            print(word, count)\n",
    "        word2idx_small[word] = new_idx\n",
    "        idx_new_idx_map[idx] = new_idx\n",
    "        new_idx += 1\n",
    "    # let 'unknown' be the last token\n",
    "    # replcae all infrequent words are replaced with 'UNKOWN\"\n",
    "    word2idx_small['UNKNOWN'] = new_idx \n",
    "    unknown = new_idx\n",
    "    \n",
    "    # sanit check to make sure all words wanted to keep are still there\n",
    "    assert('START' in word2idx_small)\n",
    "    assert('END' in word2idx_small)\n",
    "    for word in keep_words:\n",
    "        assert(word in word2idx_small)\n",
    "\n",
    "    # map old idx to new idx\n",
    "    sentences_small = []\n",
    "    for sentence in indexed_sentences:\n",
    "        if len(sentence) > 1:\n",
    "            new_sentence = [idx_new_idx_map[idx] if idx in idx_new_idx_map else unknown for idx in sentence]\n",
    "            sentences_small.append(new_sentence)\n",
    "\n",
    "    return sentences_small, word2idx_small\n",
    "\n",
    "def get_bigrams_probs(sentences, V, start_idx, end_idx, smoothing=1):\n",
    "    # initialize bigram_probs with size vocab * vocab\n",
    "    # set all values as 1s and multiple mby smoothing (this will ensure minimum values is 1*smoothing value)\n",
    "    bigram_probs = np.ones((V, V)) * smoothing\n",
    "    for sentence in sentences:\n",
    "        for i in range(len(sentence)):\n",
    "            # begining word... add 1 to col row[0] (previous word) and col[i] (current word)\n",
    "            # we loop through sentence items because they are in indexed format, so we can use values as indeces\n",
    "            if i==0:\n",
    "                bigram_probs[start_idx, sentence[i]] += 1\n",
    "            else: #middle word\n",
    "                bigram_probs[sentence[i-1], sentence[i]] += 1\n",
    "            # if we're at the final word\n",
    "            # we update the bigram for last -> current, AND current -> END token\n",
    "            if i == len(sentence) - 1: # END word\n",
    "                bigram_probs[sentence[i], end_idx] += 1\n",
    "    # normalize the counts along the rows to get probabilities\n",
    "    bigram_probs /= bigram_probs.sum(axis=1, keepdims=True)\n",
    "    return bigram_probs\n",
    "\n",
    "def softmax(a):\n",
    "    a = a - a.max()\n",
    "    exp_a = np.exp(a)\n",
    "    return exp_a / exp_a.sum(axis=1, keepdims=True)\n",
    "\n",
    "def smoothed_loss(x, decay=0.99):\n",
    "    y = np.zeros(len(x))\n",
    "    last = 0\n",
    "    for t in range(len(x)):\n",
    "        z = decay * last + (1-decay) * x[t]\n",
    "        y[t] = z / (1 - decay ** (t+1))\n",
    "        last = z\n",
    "    return y"
   ]
  },
  {
   "cell_type": "code",
   "execution_count": 7,
   "metadata": {},
   "outputs": [
    {
     "name": "stdout",
     "output_type": "stream",
     "text": [
      "Vocab length:  5001\n",
      "Start index:  0\n",
      "End index:  1\n",
      "Bigram probs: (5, 5001)\n"
     ]
    }
   ],
   "source": [
    "#import data\n",
    "sentences, word2idx = get_sentences_with_word2idx_limit_vocab(5000)\n",
    "\n",
    "#extract dimensions\n",
    "V = len(word2idx)\n",
    "start_idx = word2idx['START']\n",
    "end_idx = word2idx['END']\n",
    "bigram_probs = get_bigrams_probs(sentences, V, start_idx, end_idx, smoothing=0.1)\n",
    "print('Vocab length: ', V)\n",
    "print('Start index: ', start_idx)\n",
    "print('End index: ', end_idx)\n",
    "print('Bigram probs:',bigram_probs[0:5].shape)\n",
    "\n",
    "# what is the loss if we set W = log(bigram_probs)?\n",
    "W_bigram = np.log(bigram_probs)\n"
   ]
  },
  {
   "cell_type": "markdown",
   "metadata": {},
   "source": [
    "# 2. Train and run neural net model"
   ]
  },
  {
   "cell_type": "code",
   "execution_count": 8,
   "metadata": {},
   "outputs": [
    {
     "name": "stdout",
     "output_type": "stream",
     "text": [
      "epoch: 0 sentence: 0/57013\n",
      "epoch: 0 sentence: 100/57013\n",
      "epoch: 0 sentence: 200/57013\n",
      "epoch: 0 sentence: 300/57013\n",
      "epoch: 0 sentence: 400/57013\n",
      "epoch: 0 sentence: 500/57013\n",
      "epoch: 0 sentence: 600/57013\n",
      "epoch: 0 sentence: 700/57013\n",
      "epoch: 0 sentence: 800/57013\n",
      "epoch: 0 sentence: 900/57013\n",
      "epoch: 0 sentence: 1000/57013\n",
      "epoch: 0 sentence: 1100/57013\n",
      "epoch: 0 sentence: 1200/57013\n",
      "epoch: 0 sentence: 1300/57013\n",
      "epoch: 0 sentence: 1400/57013\n",
      "epoch: 0 sentence: 1500/57013\n",
      "epoch: 0 sentence: 1600/57013\n",
      "epoch: 0 sentence: 1700/57013\n",
      "epoch: 0 sentence: 1800/57013\n",
      "epoch: 0 sentence: 1900/57013\n",
      "epoch: 0 sentence: 2000/57013\n",
      "epoch: 0 sentence: 2100/57013\n",
      "epoch: 0 sentence: 2200/57013\n",
      "epoch: 0 sentence: 2300/57013\n",
      "epoch: 0 sentence: 2400/57013\n",
      "epoch: 0 sentence: 2500/57013\n",
      "epoch: 0 sentence: 2600/57013\n",
      "epoch: 0 sentence: 2700/57013\n",
      "epoch: 0 sentence: 2800/57013\n",
      "epoch: 0 sentence: 2900/57013\n",
      "epoch: 0 sentence: 3000/57013\n",
      "epoch: 0 sentence: 3100/57013\n",
      "epoch: 0 sentence: 3200/57013\n",
      "epoch: 0 sentence: 3300/57013\n",
      "epoch: 0 sentence: 3400/57013\n",
      "epoch: 0 sentence: 3500/57013\n",
      "epoch: 0 sentence: 3600/57013\n",
      "epoch: 0 sentence: 3700/57013\n",
      "epoch: 0 sentence: 3800/57013\n",
      "epoch: 0 sentence: 3900/57013\n",
      "epoch: 0 sentence: 4000/57013\n",
      "epoch: 0 sentence: 4100/57013\n",
      "epoch: 0 sentence: 4200/57013\n",
      "epoch: 0 sentence: 4300/57013\n",
      "epoch: 0 sentence: 4400/57013\n",
      "epoch: 0 sentence: 4500/57013\n",
      "epoch: 0 sentence: 4600/57013\n",
      "epoch: 0 sentence: 4700/57013\n",
      "epoch: 0 sentence: 4800/57013\n",
      "epoch: 0 sentence: 4900/57013\n",
      "epoch: 0 sentence: 5000/57013\n",
      "epoch: 0 sentence: 5100/57013\n",
      "epoch: 0 sentence: 5200/57013\n",
      "epoch: 0 sentence: 5300/57013\n",
      "epoch: 0 sentence: 5400/57013\n",
      "epoch: 0 sentence: 5500/57013\n",
      "epoch: 0 sentence: 5600/57013\n",
      "epoch: 0 sentence: 5700/57013\n",
      "epoch: 0 sentence: 5800/57013\n",
      "epoch: 0 sentence: 5900/57013\n",
      "epoch: 0 sentence: 6000/57013\n",
      "epoch: 0 sentence: 6100/57013\n",
      "epoch: 0 sentence: 6200/57013\n",
      "epoch: 0 sentence: 6300/57013\n",
      "epoch: 0 sentence: 6400/57013\n",
      "epoch: 0 sentence: 6500/57013\n",
      "epoch: 0 sentence: 6600/57013\n",
      "epoch: 0 sentence: 6700/57013\n",
      "epoch: 0 sentence: 6800/57013\n",
      "epoch: 0 sentence: 6900/57013\n",
      "epoch: 0 sentence: 7000/57013\n",
      "epoch: 0 sentence: 7100/57013\n",
      "epoch: 0 sentence: 7200/57013\n",
      "epoch: 0 sentence: 7300/57013\n",
      "epoch: 0 sentence: 7400/57013\n",
      "epoch: 0 sentence: 7500/57013\n",
      "epoch: 0 sentence: 7600/57013\n",
      "epoch: 0 sentence: 7700/57013\n",
      "epoch: 0 sentence: 7800/57013\n",
      "epoch: 0 sentence: 7900/57013\n",
      "epoch: 0 sentence: 8000/57013\n",
      "epoch: 0 sentence: 8100/57013\n",
      "epoch: 0 sentence: 8200/57013\n",
      "epoch: 0 sentence: 8300/57013\n",
      "epoch: 0 sentence: 8400/57013\n",
      "epoch: 0 sentence: 8500/57013\n",
      "epoch: 0 sentence: 8600/57013\n",
      "epoch: 0 sentence: 8700/57013\n",
      "epoch: 0 sentence: 8800/57013\n",
      "epoch: 0 sentence: 8900/57013\n",
      "epoch: 0 sentence: 9000/57013\n",
      "epoch: 0 sentence: 9100/57013\n",
      "epoch: 0 sentence: 9200/57013\n",
      "epoch: 0 sentence: 9300/57013\n",
      "epoch: 0 sentence: 9400/57013\n",
      "epoch: 0 sentence: 9500/57013\n",
      "epoch: 0 sentence: 9600/57013\n",
      "epoch: 0 sentence: 9700/57013\n",
      "epoch: 0 sentence: 9800/57013\n",
      "epoch: 0 sentence: 9900/57013\n",
      "Elapsed training time: 0:02:48.979793\n"
     ]
    }
   ],
   "source": [
    "# train a shallow neural network model\n",
    "# D is hidden layer which compresses the data to from size V to D\n",
    "D = 100 \n",
    "#initialize random weights\n",
    "W1 = np.random.randn(V,D) / np.sqrt(V)\n",
    "W2 = np.random.randn(D,V) / np.sqrt(D)\n",
    "\n",
    "losses = []\n",
    "bigram_losses = []\n",
    "epochs = 1\n",
    "lr = 1e-2\n",
    "\n",
    "t0 = datetime.now()\n",
    "for epoch in range(epochs):\n",
    "    #randomize sentences\n",
    "    random.shuffle(sentences)\n",
    "    \n",
    "    j = 0 #keep track of iterations\n",
    "    # remember, we treat each sentence kind of like a minibatch, which is why we get such wild variations in loss\n",
    "    #only take 10k sentences\n",
    "    for sentence in sentences[0:10000]:\n",
    "        sentence = [start_idx] + sentence + [end_idx]\n",
    "        n = len(sentence)\n",
    "        \n",
    "        #USE NUMPY INDEXING TRICK TO EXTRACT INDEX AND TARGETS\n",
    "        inputs = sentence[:n-1]  \n",
    "        targets = sentence[1:]\n",
    "        \n",
    "        #USE NUMPY INDEXING TO GET PREDICTIONS\n",
    "        hidden = np.tanh(W1[inputs])\n",
    "        predictions = softmax(hidden.dot(W2))\n",
    "        \n",
    "        # keep track of the loss\n",
    "        loss = -np.sum(np.log(predictions[np.arange(n - 1), targets])) / (n - 1)\n",
    "        losses.append(loss)\n",
    "\n",
    "        # do a gradient descent step\n",
    "        # do it after loss since the calculation of doutput will overwrite predictions\n",
    "        # we don't want to make a copy because it would be slow\n",
    "        doutput = predictions # N x V\n",
    "        doutput[np.arange(n - 1), targets] -= 1\n",
    "        W2 = W2 - lr * hidden.T.dot(doutput) # (D x N) (N x V)\n",
    "        dhidden = doutput.dot(W2.T) * (1 - hidden * hidden) # (N x V) (V x D) * (N x D)\n",
    "        # # for reference:\n",
    "        # # original: W1 = W1 - lr * inputs.T.dot(dhidden) # VxN NxD --> VxD\n",
    "\n",
    "        # test this\n",
    "        #ONLY UPDATE WEIGHTS IN SENTENCE\n",
    "        i = 0\n",
    "        for w in inputs: # don't include end token\n",
    "            W1[w] = W1[w] - lr * dhidden[i]\n",
    "        i += 1\n",
    "\n",
    "        \n",
    "        # vs this\n",
    "        # oh_inputs = np.zeros((n - 1, V))\n",
    "        # oh_inputs[np.arange(n - 1), sentence[:n-1]] = 1\n",
    "        # W1 = W1 - lr * oh_inputs.T.dot(dhidden)\n",
    "\n",
    "        # keep track of the bigram loss\n",
    "        # only do it for the first epoch to avoid redundancy\n",
    "        if epoch == 0:\n",
    "            bigram_predictions = softmax(W_bigram[inputs])\n",
    "            bigram_loss = -np.sum(np.log(bigram_predictions[np.arange(n - 1), targets])) / (n - 1)\n",
    "            bigram_losses.append(bigram_loss)\n",
    "\n",
    "        if j % 100 == 0:\n",
    "            print(\"epoch:\", epoch, \"sentence: {}/{}\".format(j, len(sentences),\"loss:\",loss))\n",
    "        j+=1\n",
    "\n",
    "print('Elapsed training time:', datetime.now() - t0)"
   ]
  },
  {
   "cell_type": "markdown",
   "metadata": {},
   "source": [
    "# 3. Visualize data"
   ]
  },
  {
   "cell_type": "code",
   "execution_count": 9,
   "metadata": {},
   "outputs": [
    {
     "data": {
      "image/png": "[encoded data removed]",
      "text/plain": [
       "<matplotlib.figure.Figure at 0x17d62159d30>"
      ]
     },
     "metadata": {},
     "output_type": "display_data"
    }
   ],
   "source": [
    "#plot losses to make sure model is working right\n",
    "plt.plot(losses)\n",
    "plt.show()"
   ]
  },
  {
   "cell_type": "code",
   "execution_count": 11,
   "metadata": {},
   "outputs": [
    {
     "name": "stdout",
     "output_type": "stream",
     "text": [
      "avg_bigram_loss: 4.50508030519\n"
     ]
    },
    {
     "data": {
      "image/png": "[encoded data removed]",
      "text/plain": [
       "<matplotlib.figure.Figure at 0x17d62175278>"
      ]
     },
     "metadata": {},
     "output_type": "display_data"
    }
   ],
   "source": [
    "# plot a horizontal line for the bigram loss\n",
    "avg_bigram_loss = np.mean(bigram_losses)\n",
    "print(\"avg_bigram_loss:\", avg_bigram_loss)\n",
    "plt.axhline(y=avg_bigram_loss, color='r', linestyle='-')\n",
    "\n",
    "plt.plot(smoothed_loss(losses))\n",
    "plt.show()"
   ]
  },
  {
   "cell_type": "markdown",
   "metadata": {},
   "source": [
    "# Conclusion\n",
    "\n",
    "The model is WAY faster (due to the numpy indexing tricks). Also, only updating W1 for relevent words was also super helpful. So instead of updating ALL W1 each iteration, we only update the relevent words in the batch (sentence). "
   ]
  }
 ],
 "metadata": {
  "kernelspec": {
   "display_name": "Python 3",
   "language": "python",
   "name": "python3"
  },
  "language_info": {
   "codemirror_mode": {
    "name": "ipython",
    "version": 3
   },
   "file_extension": ".py",
   "mimetype": "text/x-python",
   "name": "python",
   "nbconvert_exporter": "python",
   "pygments_lexer": "ipython3",
   "version": "3.6.3"
  }
 },
 "nbformat": 4,
 "nbformat_minor": 2
}
