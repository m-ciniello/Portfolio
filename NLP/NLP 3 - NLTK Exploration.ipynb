{
 "cells": [
  {
   "cell_type": "markdown",
   "metadata": {},
   "source": [
    "# Section 3. NLTK Exploration"
   ]
  },
  {
   "cell_type": "markdown",
   "metadata": {},
   "source": [
    "### POS tagging\n",
    "\n",
    "- CC\t - coordinating conjunction:\tand\n",
    "- CD\t - cardinal number:\t1, third\n",
    "- DT\t - determiner:\tthe\n",
    "- EX\t - existential: there\tthere is\n",
    "- FW\t - foreign word:\tles\n",
    "- IN\t - preposition, subordinating conjunction:\tin, of, like\n",
    "- IN/that\t - that as subordinator:\tthat\n",
    "- JJ\t - adjective:\tgreen\n",
    "- JJR\t - adjective, comparative:\tgreener\n",
    "- JJS\t - adjective, superlative:\tgreenest\n",
    "- LS\t - list marker:\t1)\n",
    "- MD\t - modal:\tcould, will\n",
    "- NN - \tnoun, singular or mass:\ttable\n",
    "- NNS - noun plural:\ttables\n",
    "- NP - \tproper noun, singular:\tJohn\n",
    "\n",
    "For a full list of POS tags, go here: https://www.sketchengine.eu/penn-treebank-tagset/"
   ]
  },
  {
   "cell_type": "code",
   "execution_count": 1,
   "metadata": {},
   "outputs": [
    {
     "data": {
      "text/plain": [
       "[('machine', 'NN'),\n",
       " ('learning', 'NN'),\n",
       " ('is', 'VBZ'),\n",
       " ('dope,', 'JJ'),\n",
       " ('and', 'CC'),\n",
       " ('mike', 'NN'),\n",
       " ('is', 'VBZ'),\n",
       " ('great!', 'JJ')]"
      ]
     },
     "execution_count": 1,
     "metadata": {},
     "output_type": "execute_result"
    }
   ],
   "source": [
    "import nltk\n",
    "tokenize = lambda x: x.lower().split()\n",
    "nltk.pos_tag(tokenize(\"Machine learning is dope, and Mike is great!\"))"
   ]
  },
  {
   "cell_type": "code",
   "execution_count": 8,
   "metadata": {},
   "outputs": [
    {
     "data": {
      "text/plain": [
       "['hey', 'there', 'my', 'name', 'is', 'mike']"
      ]
     },
     "execution_count": 8,
     "metadata": {},
     "output_type": "execute_result"
    }
   ],
   "source": [
    "sent = \"hey there my name is mike\".split()\n",
    "sent"
   ]
  },
  {
   "cell_type": "code",
   "execution_count": 4,
   "metadata": {},
   "outputs": [],
   "source": [
    "x=\"mikes string\""
   ]
  },
  {
   "cell_type": "code",
   "execution_count": 5,
   "metadata": {
    "collapsed": true
   },
   "outputs": [],
   "source": [
    "?x"
   ]
  },
  {
   "cell_type": "markdown",
   "metadata": {},
   "source": [
    "### Stemming and Lemmatization\n",
    "\n",
    "- reduce word to its base form\n",
    "- plural like 'dogs' gets reduce to 'dog', 'jumping' gets reduced to 'jump'\n",
    "- Stemming is a more basic version of this taks... gnerally it just lops of the last bit of a word, as shown below.\n",
    "- NLTK has a bunch of stemers... we will use nltk PorterStemmer here."
   ]
  },
  {
   "cell_type": "code",
   "execution_count": 4,
   "metadata": {},
   "outputs": [
    {
     "name": "stdout",
     "output_type": "stream",
     "text": [
      "Stemmer:  wolv\n",
      "Lemmatize:  wolf\n"
     ]
    }
   ],
   "source": [
    "stemmer = nltk.PorterStemmer()\n",
    "lemmatizer = nltk.WordNetLemmatizer()\n",
    "\n",
    "word = \"wolves\"\n",
    "\n",
    "print(\"Stemmer: \",stemmer.stem(word))\n",
    "print(\"Lemmatize: \", lemmatizer.lemmatize(word))"
   ]
  },
  {
   "cell_type": "markdown",
   "metadata": {},
   "source": [
    "### Named Entity Recognition\n",
    "- essentially tagging names and places!"
   ]
  },
  {
   "cell_type": "code",
   "execution_count": 5,
   "metadata": {},
   "outputs": [
    {
     "data": {
      "text/plain": [
       "'Mike is the coolest person on earth. Seriously. He is like the Stephen Hawking of Data Science.'"
      ]
     },
     "execution_count": 5,
     "metadata": {},
     "output_type": "execute_result"
    }
   ],
   "source": [
    "sentence = \"Mike is the coolest person on earth. Seriously. He is like the Stephen Hawking of Data Science.\"\n",
    "sentence"
   ]
  },
  {
   "cell_type": "code",
   "execution_count": 7,
   "metadata": {},
   "outputs": [
    {
     "data": {
      "text/plain": [
       "[('mike', 'NN'),\n",
       " ('is', 'VBZ'),\n",
       " ('the', 'DT'),\n",
       " ('coolest', 'JJS'),\n",
       " ('person', 'NN'),\n",
       " ('on', 'IN'),\n",
       " ('earth.', 'NN'),\n",
       " ('seriously.', 'NN'),\n",
       " ('he', 'PRP'),\n",
       " ('is', 'VBZ'),\n",
       " ('like', 'IN'),\n",
       " ('the', 'DT'),\n",
       " ('stephen', 'NN'),\n",
       " ('hawking', 'NN'),\n",
       " ('of', 'IN'),\n",
       " ('data', 'NNS'),\n",
       " ('science.', 'NNS')]"
      ]
     },
     "execution_count": 7,
     "metadata": {},
     "output_type": "execute_result"
    }
   ],
   "source": [
    "tags = nltk.pos_tag(tokenize(sentence))\n",
    "tags"
   ]
  },
  {
   "cell_type": "markdown",
   "metadata": {},
   "source": [
    "### NOTE: We had some trouble printing out the nltk.ne_chunk tree... So we have to use the __repr__() call to print the variable... See this post for more details: \n",
    "https://stackoverflow.com/questions/39007755/cant-find-ghostscript-in-nltk/39028327#39028327"
   ]
  },
  {
   "cell_type": "code",
   "execution_count": 17,
   "metadata": {},
   "outputs": [
    {
     "data": {
      "text/plain": [
       "\"Tree('S', [('mike', 'NN'), ('is', 'VBZ'), ('the', 'DT'), ('coolest', 'JJS'), ('person', 'NN'), ('on', 'IN'), ('earth.', 'NN'), ('seriously.', 'NN'), ('he', 'PRP'), ('is', 'VBZ'), ('like', 'IN'), ('the', 'DT'), ('stephen', 'NN'), ('hawking', 'NN'), ('of', 'IN'), ('data', 'NNS'), ('science.', 'NNS')])\""
      ]
     },
     "execution_count": 17,
     "metadata": {},
     "output_type": "execute_result"
    }
   ],
   "source": [
    "tree = nltk.ne_chunk(tags)\n",
    "tree.__repr__()"
   ]
  },
  {
   "cell_type": "code",
   "execution_count": 19,
   "metadata": {},
   "outputs": [
    {
     "data": {
      "text/plain": [
       "\"Tree('S', [('steve', 'NN'), ('jobs', 'NNS'), ('was', 'VBD'), ('the', 'DT'), ('ceo', 'NN'), ('of', 'IN'), ('apple', 'NN')])\""
      ]
     },
     "execution_count": 19,
     "metadata": {},
     "output_type": "execute_result"
    }
   ],
   "source": [
    "s2 = \"Steve Jobs was the CEO of Apple\"\n",
    "\n",
    "tags2 = nltk.pos_tag(tokenize(s2))\n",
    "tree = nltk.ne_chunk(tags2)\n",
    "tree.__repr__()"
   ]
  }
 ],
 "metadata": {
  "kernelspec": {
   "display_name": "Python 3",
   "language": "python",
   "name": "python3"
  },
  "language_info": {
   "codemirror_mode": {
    "name": "ipython",
    "version": 3
   },
   "file_extension": ".py",
   "mimetype": "text/x-python",
   "name": "python",
   "nbconvert_exporter": "python",
   "pygments_lexer": "ipython3",
   "version": "3.6.3"
  }
 },
 "nbformat": 4,
 "nbformat_minor": 2
}
