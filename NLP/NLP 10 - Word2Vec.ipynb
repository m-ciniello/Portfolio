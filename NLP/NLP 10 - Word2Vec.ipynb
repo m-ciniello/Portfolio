{
 "cells": [
  {
   "cell_type": "markdown",
   "metadata": {},
   "source": [
    "# Section 10. word2vec\n",
    "\n",
    "## 1. Overview\n",
    "\n",
    "### What is word2vec\n",
    "- Word2Vec is used for learning word embeddings - somewhere we will start with a VxD matrix, and transform it to a VxD2 matrix (D2 would be the number of reduced dimensions specified for the word embedding)\n",
    "- Word2vec takes care of two things:\n",
    "    - Converts high dimensional vector (size V) into low dimensional vector (lets say, 200)\n",
    "    - Maintains the word context (meaning) by using **one of two algorithms:**\n",
    "        1. Continuous Bag-of-Words (CBOW): predicts one word based on the surrounding words (it takes a window sized context as an observation)\n",
    "        2. Skip-gram model: It takes one word as an input and tries to predict the surrounding (neighboring) words.\n",
    "\n",
    "### Building up word2vec: 2 options\n",
    "- We will start by building a simple bigrams model (next word prediction), this is simply a markov model because each word is conly conditioned on one previous value\n",
    "- We will then alter our simple bigram model by adding CBOW, and then by adding skip-gram (**NOTE these are two different models so we will look at them independently**)\n",
    "- The final models will look something like this:\n",
    "\n",
    "![](pictures/NLP_10_word2vec.png)"
   ]
  },
  {
   "cell_type": "markdown",
   "metadata": {},
   "source": [
    "## 2. Start with a Bigram Model\n",
    "\n",
    "- To start, we will build a simple neural bigram model (essentially a markov model).\n",
    "- What does the model look like:\n",
    "    - We have a VxD input to hidden matrix, \n",
    "    - 1 hidden layer\n",
    "    - DxV output layer\n",
    "- to train this model, we still just use what we already know:\n",
    "    - one target word per training session (set output to 'next word'), \n",
    "    - perform softmax, cross-entropy, gradient descent, the usual!\n",
    "- We will have a single hidden layer with **NO NON-LINEAR FUNCTION.** The value just passes through. This is essentially just a linear mapping from previous word to next word. \n",
    "\n",
    "![](pictures/NLP_10_bigrams.PNG)\n",
    "\n",
    "#### Simple example:\n",
    "Since there isn't any non-linearity (no non-linear activation function), this is really just a linear model\n",
    "- y = softmax(W^2 \\* W^1 \\* X) \n",
    "- This is pretty much logistic regression!!! WHy dont we just use that?!? We wouldnt need gradient descent and that could save time maybe?!?!\n",
    "- in fact, this model is kind of like a mariage between logisitic regression and markov models\n",
    "- The V x V matrix (W2 * W1) is a Markov matrix! Each row is the probabilitiy of the next word\n",
    "- You can pretty much use the maximum liklehood function, with add one smoothing, to solve this equation\n",
    "\n",
    "Lets take 2 sentences:\n",
    "- \"I love dogs\"\n",
    "- \"I love cats\n",
    "- V = 4: [i, love, dogs, cats]"
   ]
  },
  {
   "cell_type": "code",
   "execution_count": 1,
   "metadata": {},
   "outputs": [
    {
     "name": "stdout",
     "output_type": "stream",
     "text": [
      "['i', 'love', 'dogs', 'cats']\n",
      "[[ 0.   1.   0.   0. ]\n",
      " [ 0.   0.   0.5  0.5]\n",
      " [ 0.   0.   0.   0. ]\n",
      " [ 0.   0.   0.   0. ]]\n"
     ]
    }
   ],
   "source": [
    "import numpy as np\n",
    "vocab =['i', 'love', 'dogs', 'cats'] \n",
    "\n",
    "#last two rows are 0 because no words come after 'dogs' or 'cats'\n",
    "markov_mat = np.array([[0,1,0,0],\n",
    "                       [0,0,0.5,0.5],\n",
    "                       [0,0,0,0],\n",
    "                       [0,0,0,0]])\n",
    "print(vocab)\n",
    "print(markov_mat)"
   ]
  },
  {
   "cell_type": "code",
   "execution_count": 10,
   "metadata": {},
   "outputs": [
    {
     "data": {
      "text/plain": [
       "array([4, 2, 3, 3, 3])"
      ]
     },
     "execution_count": 10,
     "metadata": {},
     "output_type": "execute_result"
    }
   ],
   "source": [
    "import numpy as np\n",
    "np.random.choice([1,2,3,4],5,[0.1,0.1,0.1,0.6])sam"
   ]
  },
  {
   "cell_type": "markdown",
   "metadata": {},
   "source": [
    "- This model is only SIMILAR to logistic regression. \n",
    "    - if you multiply W1 by W2 you get a VXV matrix\n",
    "- So how is it different?\n",
    "    - Well if we directly use logistic regression our weights would be:\n",
    "        - V=2000, 2000\\*2000 = 4 million weights\n",
    "    - Useing the neural bigram model with D=100 (hidden layer size):\n",
    "        - V=2000, size(W2) + size(W1) = 2000\\*100 + 2000\\*100 = 400k\n",
    "\n",
    "**As you can see, our bigram model has 10x less weights!!! We learned this from our earlier bigram work... it turns out that our neural network actually trains faster than the logisitc regression, and it is precisely beacause D helps us significantly reduce the number of weights!!!**\n",
    "\n",
    "        "
   ]
  },
  {
   "cell_type": "markdown",
   "metadata": {},
   "source": [
    "## 3. Bigram model with CBOW\n",
    "- CBOW (continuous bag of words) will be our first modification to our simple bigram model\n",
    "- CBOW basically adds context so can better predict a word given surrounding words (rather than just using the previous word)\n",
    "- We will use a context size of 5-10 words (10 left + 10 right)\n",
    "- How do we modify our neural net to use CBOW?\n",
    "    - Just add more inputs to the neural network! Input becomes fat but output becomes same side. \n",
    "    - We use the **same weight everywhere on the left FOR EVERY INPUT (ie every one-hot word)**, but words are one-hot encoded (so only 1 row from W goes into the hidden layer).\n",
    "        - So each (one-hot word \\* weight) just results in a single weight vector FOR EVERY WORD getting fed into the hidden layer (so this isn't necessarily shared weights)\n",
    "- Now what happens at the hidden layer?\n",
    "    - Well if we have 10 input vectors, then we will have 10 D dimenstional vectors at the hidden layer, and we somehow have to match that to a DxV output matrix to get the output.\n",
    "        - what we do with CBOW is just take the average of those vectors\n",
    "        - Sum them up, divide by 10, and now we have 1 D dimensional vector to be passed along to output\n",
    "\n",
    "![](pictures/NLP_10_cbow1.png)"
   ]
  },
  {
   "cell_type": "markdown",
   "metadata": {},
   "source": [
    "## 4. Bigram model with skip-gram\n",
    "- CBOW and skip-gram are the 2 main methods of incorporating context with word2vec\n",
    "- skip-gram is the opposite of CBOW\n",
    "    - CBOW = use context to predict middle word\n",
    "    - skip-gram = use middle word to predict context\n",
    "- In skipgram, the input remains the same, and the output gets fat!\n",
    "- Notice that it is now the output weight that is repeated on the right hand side (see pictutre below). \n",
    "\n",
    "\n",
    "- OK! So we know that softmax is for predicting ONE class onle. Meaning that out of V words, softmax chooses 1 (chooses option with highest probabilitiy)\n",
    "- But now we are telling the neural net to predict 10 words from a single hidden layer?!?\n",
    "- We will go into this more later... but for now, know this:\n",
    "    - **Cost = sum up individual cross-entropies as usual (joint probabilitiy)**\n",
    "    - As if they were each different bigram samples\n",
    "    - In other words, create more 'bigrams' by 'skipping' the words in between\n",
    "    \n",
    "![](pictures/NLP_10_skipgram1.png)\n",
    "\n",
    "\n",
    "### REMEMBER, its the hidden layer weights that will become our word embedding vectors!\n",
    "\n",
    "![](pictures/NLP_10_word2vec2.png)\n"
   ]
  },
  {
   "cell_type": "markdown",
   "metadata": {},
   "source": [
    "## 5. Negative sampling (Skip gram)\n",
    "\n",
    "- We need a way to reduce the number of weights... because with massive vocabs it will simply be too cumbersome. \n",
    "- So... If we have K words in the CONTEXT, then there are K TARGETS. There will be K(V-1) words that are NOT the target (if we used softmax)\n",
    "- A LOT of times is spent to make words not the target... so heres the basic idea:\n",
    "    - **NEGATIVE SAMPLING: Throw away most of the non-target words (not in the context) from the cost function since its almost the size of the entire vocab**. \n",
    "- So we don't need to tell the neural network that all V-1 words are not the target all the time, we only need to do this SOME of the time. \n",
    "- We sample words from a set of words not in the context - \"negative samples\"\n",
    "- Choose a small amount (ie. 10)\n",
    "\n",
    "#### How to choose samples?\n",
    "- Typically we sample from the uniform distribution, or a function of the word frequency / its probability of appearing, p(w) = count(w)/total\n",
    "- We call this sampling distribution Pn(W)\n",
    "- Research has shown that if we take the initial distribution and raise it to the power of 0.75, that works even better!\n",
    "- Why? well, if a word appears a lot in a corpus, but its not in the context, we want to get away from it.\n",
    "- Word probabilities have a long tail distribution (many words appear very infrequently), so we balance this by raising it to the power of 0.75 (give infrequent words a better chance of being selected)\n",
    "\n",
    "#### New cost function\n",
    "- So now we have a way of generating negative samples, rather than using EVERY word thats not the target\n",
    "- But now we can't use cross entropy with softmax\n",
    "- Instead we use the equation word below.\n",
    "- NOTE that we take the negative log of the context terms (because we want to maximize the probability of these words showing up, and the negative of a log is a positive... Also as the prob increases, log(prob) decreases (which is what we want as we are trying to minimize the cost function)!!!\n",
    "\n",
    "![](pictures/NLP_10_word2vec3.1.png)\n",
    "\n",
    "#### Differentiate\n",
    "\n",
    "![](pictures/NLP_10_word2vec4.1.png)\n",
    "\n",
    "#### Strangeness\n",
    "![](pictures/NLP_10_word2vec5.1.png)"
   ]
  },
  {
   "cell_type": "markdown",
   "metadata": {},
   "source": [
    "# 6. Take a step back... \n",
    "\n",
    "Stolen from: https://www.quora.com/What-are-the-continuous-bag-of-words-and-skip-gram-architectures \n",
    "\n",
    "For clarification, here is a good description of what we've learned so far:\n",
    "\n",
    "- Both architectures [CBOW and skip-gram] describe how the neural network \"learns\" the underlying word representations for each word. **Since learning word representations is essentially unsupervised, you need some way to \"create\" labels to train the model.** Skip-gram and CBOW are two ways of creating the \"task\" for the neural network -- you can think of this as the output layer of the neural network, where we create \"labels\" for the given input (which depends on the architecture).\n",
    "\n",
    "For both descriptions below, we assume that the current word in a sentence is wi.\n",
    "\n",
    "- **CBOW:** The input to the model could be [wi−2, wi−1, wi+1, wi+2] (this is the context), the preceding and following words of the current word we are at. The output of the neural network will be wi. Hence you can think of the task as **\"predicting the word given its context\"**. Note that the number of words we use depends on your setting for the window size.\n",
    "    \n",
    "    \n",
    "- **Skip-gram:** The input to the model is wi, and the output could be [wi−1, wi−2, wi+1, wi+2]. So the task here is **\"predicting the context given a word\"**.  \n",
    "    - **Defining the random window size:** When you define the window size parameter, you ONLY CONFIGURE THE MAX WINDOW SIZE. The actual window size is randomly chosen between 1 (the minimum window) and max size for each training sample. This results in words directly next to the target word ALWAYS showing up in context, and words with maximum distance (maximum window size) showing up with probability of 1/c (where c is context size).\n",
    "    - **Negative Sampling:** In addition, more distant words are given less weight by randomly sampling them.\n",
    "\n",
    "According to Mikolov:\n",
    "- Skip-gram: works well with small amount of the training data, represents well even rare words or phrases.\n",
    "- CBOW: several times faster to train than the skip-gram, slightly better accuracy for the frequent words\n",
    "- This can get even a bit more complicated if you consider that there are two different ways how to train the models: the normalized hierarchical softmax, and the un-normalized negative sampling. Both work quite differently.\n",
    "\n",
    "which makes sense since with skip gram, you can create a lot more training instances from limited amount of data, and for CBOW, you will need more since you are conditioning on context, which can get exponentially huge."
   ]
  },
  {
   "cell_type": "markdown",
   "metadata": {},
   "source": [
    "# Lets write some Code!"
   ]
  },
  {
   "cell_type": "markdown",
   "metadata": {},
   "source": [
    "# 1. Import packages"
   ]
  },
  {
   "cell_type": "code",
   "execution_count": 85,
   "metadata": {
    "collapsed": true
   },
   "outputs": [],
   "source": [
    "import json\n",
    "import numpy as np\n",
    "import theano\n",
    "import theano.tensor as T\n",
    "import matplotlib.pyplot as plt\n",
    "from sklearn.utils import shuffle\n",
    "from datetime import datetime\n",
    "from nltk.corpus import brown\n",
    "import operator\n",
    "import os\n",
    "import sys\n",
    "import matplotlib.pyplot as plt"
   ]
  },
  {
   "cell_type": "markdown",
   "metadata": {},
   "source": [
    "# 2. Import old code"
   ]
  },
  {
   "cell_type": "code",
   "execution_count": 114,
   "metadata": {
    "collapsed": true
   },
   "outputs": [],
   "source": [
    "#GET SENTENCES FROM BROWN CORPUS\n",
    "def get_sentences():\n",
    "    # returns 57340 of the Brown corpus\n",
    "    # each sentence is represented as a list of individual string tokens\n",
    "    return brown.sents()\n",
    "test = get_sentences()\n",
    "\n",
    "#SENTANCES TO INDEX REPRESENTATION WITH LIMITED VOCAB\n",
    "KEEP_WORDS = set([\n",
    "  'king', 'man', 'queen', 'woman',\n",
    "  'italy', 'rome', 'france', 'paris',\n",
    "  'london', 'britain', 'england',\n",
    "])\n",
    "\n",
    "def get_sentences_with_word2idx_limit_vocab(n_vocab=2000, n_sent=None, keep_words=None, print_v=False):\n",
    "    #initialize sentences and index\n",
    "    sentences = get_sentences()\n",
    "    if n_sent:\n",
    "        idx = np.random.choice(len(sentences),n_sent, replace=False)\n",
    "        sentences=[sentences[x] for x in idx]\n",
    "    \n",
    "    indexed_sentences = []\n",
    "    i = 2\n",
    "    #initialize start/end tags\n",
    "    #capitalized so wont get confused with actual words in corpus\n",
    "    word2idx = {'START': 0, 'END': 1}\n",
    "    idx2word = ['START', 'END']\n",
    "    \n",
    "    #Set start tokens to inf so they dont get removed when sorting by count\n",
    "    word_idx_count = {0: float('inf'), 1: float('inf')}\n",
    "    \n",
    "    #Count each word \n",
    "    for sentence in sentences:\n",
    "        indexed_sentence = []\n",
    "        for token in sentence:\n",
    "            token = token.lower()\n",
    "            if token not in word2idx:\n",
    "                idx2word.append(token)\n",
    "                word2idx[token] = i\n",
    "                i += 1\n",
    "            # keep track of counts for later sorting\n",
    "            idx = word2idx[token]\n",
    "            word_idx_count[idx] = word_idx_count.get(idx, 0) + 1\n",
    "\n",
    "            indexed_sentence.append(idx)\n",
    "        indexed_sentences.append(indexed_sentence)\n",
    "\n",
    "    # restrict vocab size\n",
    "    # set all the words I want to keep to infinity\n",
    "    # so that they are included when I pick the most\n",
    "    if keep_words:\n",
    "        for word in keep_words:\n",
    "            word_idx_count[word2idx[word]] = float('inf')\n",
    "    #tell sorted funciton to use 2nd item to sort\n",
    "    sorted_word_idx_count = sorted(word_idx_count.items(), key=operator.itemgetter(1), reverse=True)\n",
    "    word2idx_small = {}\n",
    "    new_idx = 0\n",
    "    #create new dictionary from old dict\n",
    "    idx_new_idx_map = {}\n",
    "    for idx, count in sorted_word_idx_count[:n_vocab]:\n",
    "        word = idx2word[idx]\n",
    "        if print_v:\n",
    "            print(word, count)\n",
    "        word2idx_small[word] = new_idx\n",
    "        idx_new_idx_map[idx] = new_idx\n",
    "        new_idx += 1\n",
    "    # let 'unknown' be the last token\n",
    "    # replcae all infrequent words are replaced with 'UNKOWN\"\n",
    "    word2idx_small['UNKNOWN'] = new_idx \n",
    "    unknown = new_idx\n",
    "    \n",
    "    # sanit check to make sure all words wanted to keep are still there\n",
    "    assert('START' in word2idx_small)\n",
    "    assert('END' in word2idx_small)\n",
    "    if keep_words:\n",
    "        for word in keep_words:\n",
    "            assert(word in word2idx_small)\n",
    "\n",
    "    # map old idx to new idx\n",
    "    sentences_small = []\n",
    "    for sentence in indexed_sentences:\n",
    "        if len(sentence) > 1:\n",
    "            new_sentence = [idx_new_idx_map[idx] if idx in idx_new_idx_map else unknown for idx in sentence]\n",
    "            sentences_small.append(new_sentence)\n",
    "\n",
    "    return sentences_small, word2idx_small\n",
    "\n",
    "#create the find_analogies function\n",
    "def find_analogies(w1, w2, w3, We, word2idx):\n",
    "    king = We[word2idx[w1]]\n",
    "    man = We[word2idx[w2]]\n",
    "    woman = We[word2idx[w3]]\n",
    "    v0 = king - man + woman\n",
    "\n",
    "    def dist1(a, b):\n",
    "        return np.linalg.norm(a - b)\n",
    "    def dist2(a, b):\n",
    "        return 1 - a.dot(b) / (np.linalg.norm(a) * np.linalg.norm(b))\n",
    "\n",
    "    for dist, name in [(dist1, 'Euclidean'), (dist2, 'cosine')]:\n",
    "        min_dist = float('inf')\n",
    "        best_word = ''\n",
    "        for word, idx in word2idx.items():\n",
    "            if word not in (w1, w2, w3):\n",
    "                v1 = We[idx]\n",
    "                d = dist(v0, v1)\n",
    "                if d < min_dist:\n",
    "                    min_dist = d\n",
    "                    best_word = word\n",
    "        print(\"closest match by\", name, \"distance:\", best_word)\n",
    "        print(w1, \"-\", w2, \"=\", best_word, \"-\", w3)"
   ]
  },
  {
   "cell_type": "markdown",
   "metadata": {},
   "source": [
    "# 3. Create sigmoid and init_weights functions\n",
    "- NOTE: we will put these into the model class afterwards so we dont have to run this cell before."
   ]
  },
  {
   "cell_type": "code",
   "execution_count": 16,
   "metadata": {},
   "outputs": [
    {
     "data": {
      "image/png": "[encoded data removed]",
      "text/plain": [
       "<matplotlib.figure.Figure at 0x1ed44357208>"
      ]
     },
     "metadata": {},
     "output_type": "display_data"
    }
   ],
   "source": [
    "def sigmoid(x):\n",
    "    return 1 / (1+np.exp(-x))\n",
    "\n",
    "plt.plot([sigmoid(x) for x in np.arange(-10,10,0.001)])\n",
    "plt.show()"
   ]
  },
  {
   "cell_type": "code",
   "execution_count": 38,
   "metadata": {},
   "outputs": [
    {
     "data": {
      "image/png": "[encoded data removed]",
      "text/plain": [
       "<matplotlib.figure.Figure at 0x1ed49fcd5c0>"
      ]
     },
     "metadata": {},
     "output_type": "display_data"
    },
    {
     "data": {
      "image/png": "[encoded data removed]",
      "text/plain": [
       "<matplotlib.figure.Figure at 0x1ed4a05db00>"
      ]
     },
     "metadata": {},
     "output_type": "display_data"
    }
   ],
   "source": [
    "def init_weights(shape):\n",
    "    return np.random.randn(*shape).astype(np.float32) / np.sqrt(sum(shape))\n",
    "\n",
    "#rand gives you normal distribution with std of 1.. aprox?\n",
    "rand_data = np.random.randn(10000)\n",
    "plt.hist(rand_data)\n",
    "plt.show()\n",
    "\n",
    "#dividing be sqrt of shape just makes weights smaller\n",
    "shape=(1000,1000)\n",
    "plt.hist(rand_data/np.sqrt(sum(shape)))\n",
    "plt.show()"
   ]
  },
  {
   "cell_type": "markdown",
   "metadata": {},
   "source": [
    "# 4. Create w2v_model class"
   ]
  },
  {
   "cell_type": "code",
   "execution_count": 198,
   "metadata": {},
   "outputs": [],
   "source": [
    "class w2v_model:\n",
    "    def __init__(self, h_size, v_size, context_size):\n",
    "        self.h_size = h_size #hidden layer / embedding dimension\n",
    "        self.v_size = v_size #total vocab size\n",
    "        self.context_size = context_size #num of context words\n",
    "    \n",
    "    # Include functions defined above\n",
    "    def _model_sigmoid(self, x):\n",
    "        return 1 / (1+np.exp(-x))\n",
    "    def _init_model_weights(self, shape):\n",
    "        return np.random.randn(*shape).astype(np.float32) / np.sqrt(sum(shape))\n",
    "    \n",
    "    # Create private function to get word probabilitiy\n",
    "    # Calculate Pn(w) - probabilitiy distribution for negative sampling\n",
    "    # Basically just the word probabilitiy ^ 3/4\n",
    "    def _get_word_probs(self, X):\n",
    "        # 1. GET WORD FREQUENCY FOR EACH WORD IN ENTIRE CORPUS\n",
    "        word_freq = {}\n",
    "        word_count = sum(len(x) for x in X)\n",
    "        for x in X:\n",
    "            for xj in x:\n",
    "                if xj not in word_freq:\n",
    "                    word_freq[xj] = 0\n",
    "                word_freq[xj] += 1\n",
    "        # 2. GET ADJUSTED WORD PROBABILITY DISYTRIBUTION.\n",
    "        # Raise normal probability to power of 0.75 to make infrequent words more likely to be picked\n",
    "        self.word_probs = np.zeros(self.v_size)\n",
    "        for j in range(2, self.v_size): #ignore 0 and 1 (start/end tokens)\n",
    "            self.word_probs[j] = (word_freq[j] / float(word_count)) ** 0.75\n",
    "        \n",
    "        # 3. MAKE SURE ALL WORDS HAVE ABOVE 0 PROBABILITY\n",
    "        assert(np.all(self.word_probs[2:]>0))\n",
    "        return self.word_probs\n",
    "    \n",
    "    # Extract negative sample words\n",
    "    def _get_negative_samples(self, context, num_neg_samples):\n",
    "        # 1. EXCLUDE CURRENT CONTEXT WORDS (make prob 0)\n",
    "        saved = {}\n",
    "        for context_idx in context:\n",
    "            # First save the probability to restore later\n",
    "            saved[context_idx] = self.word_probs[context_idx]\n",
    "            # Now make the probability 0\n",
    "            self.word_probs[context_idx] = 0\n",
    "        # 2. EXTRACT NEGATIVE SAMPLES\n",
    "        # Use replace=False to get all unique values\n",
    "        neg_samples = np.random.choice(range(self.v_size),\n",
    "                                       size = num_neg_samples,\n",
    "                                       replace = False,\n",
    "                                       p = self.word_probs / np.sum(self.word_probs)) #adjust word_probs to reflect removal of target words\n",
    "        # 3. ADD BACK CURRENT TARGET WORDS TO self.word_probs\n",
    "        for j, orig_prob in saved.items():\n",
    "            self.word_probs[j] = orig_prob\n",
    "        # 4. MAKE SURE ALL WORDS HAVE ABOVE 0 PROBABILITY\n",
    "        assert(np.all(self.word_probs[2:]>0))\n",
    "        return neg_samples\n",
    "    \n",
    "    # Fit the model!\n",
    "    def fit(self, X, num_neg_samples=10, learning_rate=1e-4, momentum=0.99, reg=0.1, epochs=10, plot_data=True):\n",
    "        # 1. SET PARAMS\n",
    "        N = len(X)\n",
    "        V = self.v_size\n",
    "        D = self.h_size\n",
    "        # 2. GET WORD PROBS (self.attribute defined within the function)\n",
    "        self._get_word_probs(X)\n",
    "        # 3. INITIALIZE WEIGHTS AND MOMENTUM CHANGES\n",
    "        self.W1 = self._init_model_weights((V,D))\n",
    "        self.W2 = self._init_model_weights((D,V))\n",
    "        dW1 = np.zeros(self.W1.shape) #used for updated weights during gradient descent\n",
    "        dW2 = np.zeros(self.W2.shape) #used for updated weights during gradient descent\n",
    "        # 4. RUN MODEL\n",
    "        sample_indices = range(N)\n",
    "        cost_per_epoch = []\n",
    "        cost_per_batch = []\n",
    "        for i in range(epochs):\n",
    "            t0 = datetime.now()\n",
    "            sample_indices = shuffle(sample_indices) #randomize order of sentences\n",
    "            costs_single_epoch = []\n",
    "            for i2 in range(N): #for each sentence...\n",
    "                x = X[sample_indices[i2]] #one sentence / batch\n",
    "                \n",
    "                # SKIP SENTENCE IF TOO SHORT (ie now large enough for context)\n",
    "                if len(x) < (2*self.context_size+1):\n",
    "                    continue #'continue' will revert to previous loop\n",
    "                                \n",
    "                # SELECT RANDOM WORD IN SENT FOR TARGET, SELECT THAT WORD IN WIEIGHT MATRIX\n",
    "                sent_len = len(x)\n",
    "                target_word_idx = np.random.choice(sent_len)\n",
    "                W1_select = self.W1[x[target_word_idx],:] #should be a (1,D) matrix\n",
    "                \n",
    "                # DEFINE START, END, AND CONTEXT\n",
    "                start = max(0, target_word_idx - self.context_size)\n",
    "                end = min(sent_len, target_word_idx + self.context_size + 1) #add plus one so its inclusive!\n",
    "                context = np.concatenate([x[start:target_word_idx], x[target_word_idx+1:end]]) #exclude target word\n",
    "                context = np.array(list(set(context)), dtype=np.int32) # NOTE: Context can contain duplicates (E.g. \"<UNKOWN> <UNKOWN> cats and dogs\")\n",
    "                \n",
    "                # POSITIVE DOT PRODUCT CALCULATION \n",
    "                # Result should be (1,context) matrix)\n",
    "                # Linear activation (tho I guess NO activation...) so you can just do W1.dot(W2)\n",
    "                W2_select = self.W2[:,context] #should be a (D, context) matrix\n",
    "                posA = W1_select.dot(W2_select)\n",
    "                pos_pY = self._model_sigmoid(posA)\n",
    "                \n",
    "                # NEGATIVE DOT PRODUCT CALCULATION\n",
    "                # Result should be (1,neg_samples) matrix)\n",
    "                neg_samples = self._get_negative_samples(context, num_neg_samples)\n",
    "                W2_select = self.W2[:,neg_samples] #should be a (D, neg_samples) matrix\n",
    "                negA = W1_select.dot(W2_select)\n",
    "                neg_pY = self._model_sigmoid(-negA)\n",
    "                \n",
    "                # CALCULATE COST\n",
    "                cost = -np.log(pos_pY).sum() - np.log(neg_pY).sum()\n",
    "                cost_normalized = cost/(num_neg_samples+len(context)) #normalize the cost for length\n",
    "                cost_per_batch.append(cost_normalized)\n",
    "                costs_single_epoch.append(cost_normalized)\n",
    "                \n",
    "                # UPDATE OUTPUT WEIGHTS (W2)\n",
    "                # t=1 if context, t=0 if negative_samps (see the gradient formulas!)\n",
    "                pos_err = pos_pY - 1\n",
    "                neg_err = 1 - neg_pY\n",
    "                dW2[:, context] = momentum*dW2[:,context] - learning_rate*(np.outer(W1_select, pos_err) + reg*self.W2[:,context])\n",
    "                dW2[:, neg_samples] = momentum*dW2[:,neg_samples] - learning_rate*(np.outer(W1_select, neg_err) + reg*self.W2[:,neg_samples])\n",
    "                self.W2[:,context] += dW2[:,context]\n",
    "                self.W2[:, neg_samples] += dW2[:, neg_samples]\n",
    "                \n",
    "                # UPDATE INPUT WEIGHTS\n",
    "                gradW1 = pos_err.dot(self.W2[:, context].T) + neg_err.dot(self.W2[:, neg_samples].T)\n",
    "                dW1[x[target_word_idx],:] = momentum*dW1[x[target_word_idx],:] - learning_rate*(gradW1 + reg*self.W1[x[target_word_idx],:])\n",
    "                self.W1[x[target_word_idx],:] += dW1[x[target_word_idx],:]\n",
    "                \n",
    "                # PRINT RESULTS\n",
    "                if i2  % 5000 == 0:\n",
    "                    print(\"Epoch: {0}, Doc: {1}, Cost: {2}\".format(i, i2, cost_normalized))\n",
    "            \n",
    "            # APPEND COST PER EPOCH\n",
    "            epoch_mean = np.mean(costs_single_epoch)\n",
    "            cost_per_epoch.append(epoch_mean)\n",
    "            \n",
    "            # PRINT RUNTIME\n",
    "            print(\"Epoch runtime: {}\\nEpoch cost: {}\".format(datetime.now() - t0, epoch_mean))\n",
    "\n",
    "        # PLOT DATA\n",
    "        if plot_data:\n",
    "            plt.plot(cost_per_batch)\n",
    "            plt.title(\"All batch costs\")\n",
    "            plt.show()\n",
    "            plt.plot(cost_per_epoch)\n",
    "            plt.title(\"All epoch costs\")\n",
    "            plt.show()\n",
    "        \n",
    "        # SAVE MODEL USING np.savez\n",
    "        def save(self, filename):\n",
    "            arrays = [self.W1, self.W2]\n",
    "            np.savez(filename, *arrays)   "
   ]
  },
  {
   "cell_type": "markdown",
   "metadata": {},
   "source": [
    "# 5. Extract data"
   ]
  },
  {
   "cell_type": "code",
   "execution_count": 199,
   "metadata": {},
   "outputs": [
    {
     "name": "stdout",
     "output_type": "stream",
     "text": [
      "Sentences:  19889\n",
      "Vocab:  10001\n"
     ]
    }
   ],
   "source": [
    "sentences, word2idx = get_sentences_with_word2idx_limit_vocab(n_vocab=10000, n_sent=20000)\n",
    "V=len(word2idx)\n",
    "print('Sentences: ',len(sentences))\n",
    "print('Vocab: ',V)"
   ]
  },
  {
   "cell_type": "markdown",
   "metadata": {},
   "source": [
    "# 6. Test out the model!\n",
    "Word embeddings will be trash, but we want to make sure it is atleast running!"
   ]
  },
  {
   "cell_type": "code",
   "execution_count": 200,
   "metadata": {},
   "outputs": [
    {
     "name": "stdout",
     "output_type": "stream",
     "text": [
      "Epoch: 0, Doc: 0, Cost: 0.6931338906288147\n",
      "Epoch: 0, Doc: 5000, Cost: 0.6931207444932725\n",
      "Epoch: 0, Doc: 10000, Cost: 0.6931262969970703\n",
      "Epoch: 0, Doc: 15000, Cost: 0.6930629328677529\n",
      "Epoch runtime: 0:00:30.331703\n",
      "Epoch cost: 0.6931399593790246\n",
      "Epoch: 1, Doc: 0, Cost: 0.6931395212809245\n",
      "Epoch: 1, Doc: 5000, Cost: 0.6925421357154846\n",
      "Epoch: 1, Doc: 10000, Cost: 0.6931401421042049\n",
      "Epoch runtime: 0:00:30.833839\n",
      "Epoch cost: 0.6926305739465092\n",
      "Epoch: 2, Doc: 0, Cost: 0.6929059028625488\n",
      "Epoch: 2, Doc: 5000, Cost: 0.6931503931681315\n",
      "Epoch: 2, Doc: 10000, Cost: 0.6937103867530823\n",
      "Epoch: 2, Doc: 15000, Cost: 0.6528512636820475\n",
      "Epoch runtime: 0:00:28.576168\n",
      "Epoch cost: 0.6884375594566878\n",
      "Epoch: 3, Doc: 0, Cost: 0.6999445597330729\n",
      "Epoch: 3, Doc: 5000, Cost: 0.6925846548641429\n",
      "Epoch: 3, Doc: 10000, Cost: 0.6931924819946289\n",
      "Epoch: 3, Doc: 15000, Cost: 0.6823043823242188\n",
      "Epoch runtime: 0:00:28.909493\n",
      "Epoch cost: 0.6851106723739254\n",
      "Epoch: 4, Doc: 5000, Cost: 0.6931370183041221\n",
      "Epoch: 4, Doc: 10000, Cost: 0.6547774314880371\n",
      "Epoch runtime: 0:00:28.965150\n",
      "Epoch cost: 0.6834213452700919\n",
      "Epoch: 5, Doc: 0, Cost: 0.6587098121643067\n",
      "Epoch: 5, Doc: 5000, Cost: 0.6704505284627279\n",
      "Epoch: 5, Doc: 10000, Cost: 0.6672583685980903\n",
      "Epoch: 5, Doc: 15000, Cost: 0.6704293251037597\n",
      "Epoch runtime: 0:00:28.817212\n",
      "Epoch cost: 0.6818555803028395\n",
      "Epoch: 6, Doc: 5000, Cost: 0.692626953125\n",
      "Epoch: 6, Doc: 10000, Cost: 0.659816541169819\n",
      "Epoch: 6, Doc: 15000, Cost: 0.686458428700765\n",
      "Epoch runtime: 0:00:32.296730\n",
      "Epoch cost: 0.680175537732649\n",
      "Epoch: 7, Doc: 0, Cost: 0.6753428459167481\n",
      "Epoch: 7, Doc: 10000, Cost: 0.6942868232727051\n",
      "Epoch runtime: 0:00:30.226475\n",
      "Epoch cost: 0.6790234174994004\n",
      "Epoch: 8, Doc: 0, Cost: 0.6901392685739618\n",
      "Epoch: 8, Doc: 10000, Cost: 0.6096399531644934\n",
      "Epoch runtime: 0:00:31.392021\n",
      "Epoch cost: 0.6780119568529255\n",
      "Epoch: 9, Doc: 5000, Cost: 0.6659924983978271\n",
      "Epoch: 9, Doc: 10000, Cost: 0.6511800130208333\n",
      "Epoch: 9, Doc: 15000, Cost: 0.578521167530733\n",
      "Epoch runtime: 0:00:26.738919\n",
      "Epoch cost: 0.6761013301945001\n"
     ]
    },
    {
     "data": {
      "image/png": "[encoded data removed]",
      "text/plain": [
       "<matplotlib.figure.Figure at 0x1ed49e97588>"
      ]
     },
     "metadata": {},
     "output_type": "display_data"
    },
    {
     "data": {
      "image/png": "[encoded data removed]",
      "text/plain": [
       "<matplotlib.figure.Figure at 0x1ed49e6dc88>"
      ]
     },
     "metadata": {},
     "output_type": "display_data"
    }
   ],
   "source": [
    "model = w2v_model(h_size=10, v_size=V, context_size=5)\n",
    "model.fit(sentences, num_neg_samples=10, learning_rate=1e-4, momentum=0.99, reg=0.1, epochs=10, plot_data=True)"
   ]
  },
  {
   "cell_type": "markdown",
   "metadata": {},
   "source": [
    "# 7. Import pre-trained word embeddings\n",
    "\n",
    "What you could do is save your own word embeddings (the crappy ones you trianed above), but they suck, and training good ones from scratch requires a lot of data and time... SO, we will use the pre-trained embeddings (trained using theano, which we wont use, as we will do a tensor flow implementation later). But for good measure, here is how you save the embeddings:\n",
    "    \n",
    "    # Super easy!\n",
    "    model.save('w2v_model.npz')\n",
    "    \n",
    "Now, lets load the old embeddings and try to some word analogies."
   ]
  },
  {
   "cell_type": "code",
   "execution_count": 216,
   "metadata": {},
   "outputs": [],
   "source": [
    "# Set gitrepo path\n",
    "path = \"C:\\\\Users\\\\mciniello\\\\Desktop\\\\Python\\\\NLP\\\\LazyProgrammer\\\\LazyProgrammerGitRepos\\\\nlp_class2\"\n",
    "\n",
    "# Load pretrained embeddings\n",
    "npz = np.load(os.path.join(path,'w2v_model.npz'))\n",
    "W1 = npz['arr_0']\n",
    "W2 = npz['arr_1']\n",
    "\n",
    "# Load word2idx used for training\n",
    "with open(os.path.join(path,'w2v_word2idx.json')) as f:\n",
    "    word2idx = json.load(f)"
   ]
  },
  {
   "cell_type": "markdown",
   "metadata": {},
   "source": [
    "# 8. Join W1 and W2 to create word embeddings\n",
    "There are two ways to concat W1 and W2 to create word embedding:\n",
    "\n",
    "1) Concatenate:\n",
    "\n",
    "\n",
    "    We = np.hstack([W1, W2.T])\n",
    "    print(\"We.shape:\", We.shape)\n",
    "    assert(V == We.shape[0])\n",
    "\n",
    "2) Average:\n",
    "\n",
    "\n",
    "    We = (W1 + W2.T) / 2\n",
    "    \n",
    "We will use concat here."
   ]
  },
  {
   "cell_type": "code",
   "execution_count": 215,
   "metadata": {},
   "outputs": [
    {
     "name": "stdout",
     "output_type": "stream",
     "text": [
      "Original shapes:  (2001, 10) (10, 2001)\n",
      "Stacked shape:  (2001, 20)\n",
      "Average shape:  (2001, 10)\n"
     ]
    }
   ],
   "source": [
    "We_stacked = np.hstack([W1, W2.T])\n",
    "We_average = (W1+W2.T)/2\n",
    "\n",
    "print(\"Original shapes: \", W1.shape, W2.shape)\n",
    "print(\"Stacked shape: \", We_stacked.shape)\n",
    "print(\"Average shape: \", We_average.shape)\n"
   ]
  },
  {
   "cell_type": "markdown",
   "metadata": {},
   "source": [
    "# 9. Find anologies"
   ]
  },
  {
   "cell_type": "code",
   "execution_count": 220,
   "metadata": {
    "collapsed": true
   },
   "outputs": [],
   "source": [
    "def find_analogies(w1, w2, w3, concat=True, word2idx=word2idx, W1=W1, W2=W2):\n",
    "    V = len(word2idx)\n",
    "\n",
    "    if concat:\n",
    "        We = np.hstack([W1, W2.T])\n",
    "        assert(V == We.shape[0])\n",
    "    else:\n",
    "        We = (W1 + W2.T) / 2\n",
    "\n",
    "    _find_analogies(w1, w2, w3, We, word2idx)"
   ]
  },
  {
   "cell_type": "code",
   "execution_count": 221,
   "metadata": {},
   "outputs": [
    {
     "name": "stdout",
     "output_type": "stream",
     "text": [
      "closest match by Euclidean distance: canadian\n",
      "king - man = canadian - woman\n",
      "closest match by cosine distance: atlantic\n",
      "king - man = atlantic - woman\n",
      "closest match by Euclidean distance: european\n",
      "france - paris = european - london\n",
      "closest match by cosine distance: throughout\n",
      "france - paris = throughout - london\n",
      "closest match by Euclidean distance: following\n",
      "france - paris = following - rome\n",
      "closest match by cosine distance: general\n",
      "france - paris = general - rome\n",
      "closest match by Euclidean distance: permanent\n",
      "paris - france = permanent - italy\n",
      "closest match by cosine distance: alloys\n",
      "paris - france = alloys - italy\n"
     ]
    }
   ],
   "source": [
    "find_analogies('king', 'man', 'woman')\n",
    "find_analogies('france', 'paris', 'london')\n",
    "find_analogies('france', 'paris', 'rome')\n",
    "find_analogies('paris', 'france', 'italy')"
   ]
  }
 ],
 "metadata": {
  "kernelspec": {
   "display_name": "Python 3",
   "language": "python",
   "name": "python3"
  },
  "language_info": {
   "codemirror_mode": {
    "name": "ipython",
    "version": 3
   },
   "file_extension": ".py",
   "mimetype": "text/x-python",
   "name": "python",
   "nbconvert_exporter": "python",
   "pygments_lexer": "ipython3",
   "version": "3.6.6"
  }
 },
 "nbformat": 4,
 "nbformat_minor": 2
}
