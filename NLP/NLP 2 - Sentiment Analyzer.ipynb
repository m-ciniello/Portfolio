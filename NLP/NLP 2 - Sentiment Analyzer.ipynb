{
 "cells": [
  {
   "cell_type": "markdown",
   "metadata": {},
   "source": [
    "# Section 2. Sentiment Analysis"
   ]
  },
  {
   "cell_type": "markdown",
   "metadata": {},
   "source": [
    "## 1. Logistic Regression review\n",
    "Start with some feature vector x.\n",
    "- $w^T x = 0$ (the line itself... this is the hyperplane that splits the classes!!!)\n",
    "- $w^T x > 0$ (assign to a positive class)\n",
    "- $w^T x < 0$ (assign to a negative class)\n",
    "\n",
    "$\\sum_{d=1}^{D} w_dx_d = w^T x$ \n",
    "\n",
    "- This is pretty much the same as a single neuron, as each input gets multiplied by its corresponding weight, and the resulting products get added together!\n",
    "\n",
    "### Sigmoid function\n",
    "With a logisitc regression, we pass the output of the $w^T x$ into the sigmoid funciton to get an output between 0 and 1.\n",
    "\n",
    "$\\sigma(x)=\\frac{1}{1+exp^{-x}}$\n",
    "\n",
    "The probability that y is 1 (binary class) given x inputs is equal to the dot product of weights and inputs passed through the sigmoid funciton:\n",
    "\n",
    "$p(y=1|x) = \\sigma(w^T x)$\n",
    "\n",
    "Sigmoid turns aboslute numbers into probabilities between 0 and 1:\n",
    "\n",
    "$w^T x > 0 \\rightarrow \\sigma(w^T x) > 0.5$\n",
    "\n",
    "$w^T x < 0 \\rightarrow \\sigma(w^T x) < 0.5$ \n",
    "\n",
    "### Examples\n",
    "\n",
    "#### Example 1\n",
    "\n",
    "- x = [1,1], w = [2,0]\n",
    "- x.dot(w) = 2\n",
    "- sigmoid(x.dot(w)) = 0.88\n",
    "- 88% certain that this is a class 1\n",
    "\n",
    "*Note that the output is unaffected by the second component of x. This is because a weight of 0 tells you the corresponding input feature has NO predictive ability.*\n",
    "\n",
    "#### Example 2\n",
    "\n",
    "- x = [1,1], w = [0.5,0]\n",
    "- x.dot(w) = 0.5\n",
    "- sigmoid(x.dot(w)) = 0.62\n",
    "- 62% certain this is a class 1\n",
    "\n",
    "*Larger magnitude weights correspond to more important features in terms of predictive abilitiy.*\n",
    "\n",
    "#### Example 3\n",
    "\n",
    "- x = [1,1], w = [0.5,-1]\n",
    "- x.dot(w) = -0.5\n",
    "- sigmoid(x.dot(w)) = 0.38\n",
    "- 62% certain this is a class 1\n",
    "\n",
    "*Larger negative weight has more influence on the output.*"
   ]
  },
  {
   "cell_type": "markdown",
   "metadata": {},
   "source": [
    "## 2. Tokenization\n",
    "\n",
    "- This is not just using .split(\" \").\n",
    "- Have to deal with contractions (Don't = do not)\n",
    "- Extra punctuation and symbols\n",
    "- most of what you need to do can be done with nltk.tokenize.word_tokenize\n",
    "\n",
    "### Custom tokenizer\n",
    "- sometimes we want to write out own tokenizer\n",
    "- remove stopwords like 'the', 'a', 'it'\n",
    "- remove number and single letter tokens\n",
    "- can be application specific (specific to your dataset)"
   ]
  },
  {
   "cell_type": "markdown",
   "metadata": {},
   "source": [
    "## 3. Tokens to Vectors\n",
    "- you could use sklearn\n",
    "- however we will be using our own method!!!\n",
    "\n",
    "**Binary bag of words:**\n",
    "- if a word appears in a sentence, then that word gets a 1 in the feature vector\n",
    "- otherwise 0\n",
    "- doesnt matter how many times the word appears - appearing at least once gets you the same result\n",
    "- since all feature vectors must be the same size, *AND they need to be able to represent every sentence in our dataset*, then the size of the feature vector must equal size of vocabulary... **ie n features must equal number of unique words in ALL instances**\n",
    "- V is usually used to represent size of vocab\n",
    "\n",
    "**The Bag of Words Feature Vector:**\n",
    "- We need to know which words to map to which location in th vector\n",
    "- For this we have a dictionary or map:\n",
    "    - Key: word\n",
    "    - value: a unique integer from 0 to V-1 (this tells us the index location in the vector)\n",
    "    \n",
    "**Problem with COUNT bag of words (term frequency):**\n",
    "- For sentiment analysis, you generally want to use RAW COUNTS isntead\n",
    "- However the problem with using counts is that really long sentences become REALLY long arrows (in the vector space).\n",
    "- In other words, longer sentences (with more words) will skew the data\n",
    "- So, what you want to do instead is **NORMALIZE each count vector by the total # of words in each document, which turns each element in the vector to a proportion**\n",
    "- **THIS IS SUPER IMPORTANT FOR LOGISTIC REGRESSION (OR REALLY ANY ML TASK)**, MAINLY BECAUSE SIGMOID APPROACHES 1 VERRRRY QUICKLY (ANYTHING 10 OR ABOVE WILL BE SUPER CLOSE TO 1).... SO YOU GOTTA NORMALIZE!\n",
    "\n",
    "### As we can see below, everything above 2.5 or below -2.5 is squeezed closed to abs(1)... sooo you gotta normalize when doing a logistic regression! This goes true for most ML tasks. "
   ]
  },
  {
   "cell_type": "code",
   "execution_count": 2,
   "metadata": {},
   "outputs": [
    {
     "data": {
      "image/png": "[encoded data removed]",
      "text/plain": [
       "<Figure size 432x288 with 1 Axes>"
      ]
     },
     "metadata": {
      "needs_background": "light"
     },
     "output_type": "display_data"
    }
   ],
   "source": [
    "import math\n",
    "import numpy as np\n",
    "import matplotlib.pyplot as plt\n",
    "x = np.array(range(-10, 10))\n",
    "\n",
    "def sigmoid(x):\n",
    "    return 1 / (1+np.exp(-x))\n",
    "sigmoid(x)\n",
    "\n",
    "plt.plot(x,sigmoid(x))\n",
    "plt.show()"
   ]
  },
  {
   "cell_type": "markdown",
   "metadata": {},
   "source": [
    "## 4. Building a Sentiment Analyzer"
   ]
  },
  {
   "cell_type": "markdown",
   "metadata": {},
   "source": [
    "### Load Data"
   ]
  },
  {
   "cell_type": "code",
   "execution_count": 7,
   "metadata": {
    "scrolled": false
   },
   "outputs": [],
   "source": [
    "import nltk\n",
    "import numpy as np\n",
    "from nltk.stem import WordNetLemmatizer\n",
    "from sklearn.linear_model import LogisticRegression\n",
    "from sklearn.ensemble import RandomForestClassifier\n",
    "from bs4 import BeautifulSoup\n",
    "\n",
    "#this turns words like Cat's into cat.\n",
    "wordnet_lemmatizer = WordNetLemmatizer()\n",
    "\n",
    "# from http://www.lextek.com/manuals/onix/stopwords1.html\n",
    "# this is a premade list of usual stopwords\n",
    "# these typically have low predictive value...\n",
    "stopwords = set(w.rstrip() for w in open('data/stopwords.txt'))\n",
    "\n",
    "# you could also use NLTK stop words source as follows:\n",
    "#from nltk.corpus import stopwords\n",
    "#stopwords.words('enlgish')"
   ]
  },
  {
   "cell_type": "code",
   "execution_count": 11,
   "metadata": {},
   "outputs": [],
   "source": [
    "# load the reviews\n",
    "# data courtesy of http://www.cs.jhu.edu/~mdredze/datasets/sentiment/index2.html\n",
    "positive_reviews = BeautifulSoup(open('data/positive.review').read(),'lxml')\n",
    "positive_reviews = positive_reviews.findAll('review_text')\n",
    "\n",
    "negative_reviews = BeautifulSoup(open('data/negative.review').read(), 'lxml')\n",
    "negative_reviews = negative_reviews.findAll('review_text')"
   ]
  },
  {
   "cell_type": "code",
   "execution_count": 14,
   "metadata": {},
   "outputs": [
    {
     "name": "stdout",
     "output_type": "stream",
     "text": [
      "[<review_text>\n",
      "I purchased this unit due to frequent blackouts in my area and 2 power supplies going bad.  It will run my cable modem, router, PC, and LCD monitor for 5 minutes.  This is more than enough time to save work and shut down.   Equally important, I know that my electronics are receiving clean power.\n",
      "\n",
      "I feel that this investment is minor compared to the loss of valuable data or the failure of equipment due to a power spike or an irregular power supply.\n",
      "\n",
      "As always, Amazon had it to me in &lt;2 business days\n",
      "</review_text>, <review_text>\n",
      "I ordered 3 APC Back-UPS ES 500s on the recommendation of an employee of mine who used to work at APC. I've had them for about a month now without any problems. They've functioned properly through a few unexpected power interruptions. I'll gladly order more if the need arises.\n",
      "\n",
      "Pros:\n",
      " - Large plug spacing, good for power adapters\n",
      " - Simple design\n",
      " - Long cord\n",
      "\n",
      "Cons:\n",
      " - No line conditioning (usually an expensive option\n",
      "</review_text>]\n"
     ]
    },
    {
     "data": {
      "text/plain": [
       "1000"
      ]
     },
     "execution_count": 14,
     "metadata": {},
     "output_type": "execute_result"
    }
   ],
   "source": [
    "print(positive_reviews[0:2])\n",
    "len(positive_reviews)"
   ]
  },
  {
   "cell_type": "code",
   "execution_count": 17,
   "metadata": {},
   "outputs": [
    {
     "name": "stdout",
     "output_type": "stream",
     "text": [
      "[<review_text>\n",
      "cons\n",
      "tips extremely easy on carpet and if you have a lot of cds stacked at the top\n",
      "\n",
      "poorly designed, it is a vertical cd rack that doesnt have individual slots for cds, so if you want a cd from the bottom of a stack you have basically pull the whole stack to get to it\n",
      "\n",
      "putting it together was a pain, the one i bought i had to break a piece of metal just to fit it in its guide holes.\n",
      "\n",
      "again..poorly designed... doesnt even fit cds that well, there are gaps, and the cd casses are loose fitting\n",
      "\n",
      "pros\n",
      "..........\n",
      "i guess it can hold a lot of cds....\n",
      "</review_text>, <review_text>\n",
      "It's a nice look, but it tips over very easily. It is not steady on a rug surface dispite what the picture on the box shows. My advice is if you need a CD rack that holds a lot of CD's? Save your money and invest in something nicer and more sturdy\n",
      "</review_text>]\n"
     ]
    },
    {
     "data": {
      "text/plain": [
       "1000"
      ]
     },
     "execution_count": 17,
     "metadata": {},
     "output_type": "execute_result"
    }
   ],
   "source": [
    "print(negative_reviews[0:2])\n",
    "len(negative_reviews)"
   ]
  },
  {
   "cell_type": "markdown",
   "metadata": {},
   "source": [
    "### Adjust for class imbalance\n",
    "\n",
    "##### Note: the site appears to have updated the data, and there are no more class imbalances! So dont run the code below...\n",
    "    #Option 1: take a random sample so we have balanced classes\n",
    "    np.random.shuffle(positive_reviews)\n",
    "    positive_reviews = positive_reviews[:len(negative_reviews)]\n",
    "\n",
    "    #Option 2: Oversample the negative reviews\n",
    "    diff = len(positive_reviews) - len(negative_reviews)\n",
    "    idxs = np.random.choice(len(negative_reviews), size=diff)\n",
    "    extra = [negative_reviews[i] for i in idxs]\n",
    "    negative_reviews += extra"
   ]
  },
  {
   "cell_type": "markdown",
   "metadata": {},
   "source": [
    "### Tokenize\n",
    "\n",
    "First we will trey to use NLTKs tokenizer. However you will notice that is doesnt downcase so 'It' != 'it'. Thats not good! \n",
    "\n",
    "Also you really don't even want to include the word 'it'... its a stop word, and not of much use to us. It would probably only add noise to the model! Soooo after we use NLTK we will build are own tokenize function!"
   ]
  },
  {
   "cell_type": "code",
   "execution_count": 20,
   "metadata": {
    "scrolled": true
   },
   "outputs": [
    {
     "data": {
      "text/plain": [
       "{',',\n",
       " '.',\n",
       " '2',\n",
       " '5',\n",
       " '<',\n",
       " 'Amazon',\n",
       " 'As',\n",
       " 'Equally',\n",
       " 'I',\n",
       " 'It',\n",
       " 'LCD',\n",
       " 'PC',\n",
       " 'This',\n",
       " 'a',\n",
       " 'always',\n",
       " 'an',\n",
       " 'and',\n",
       " 'are',\n",
       " 'area',\n",
       " 'bad',\n",
       " 'blackouts',\n",
       " 'business',\n",
       " 'cable',\n",
       " 'clean',\n",
       " 'compared',\n",
       " 'data',\n",
       " 'days',\n",
       " 'down',\n",
       " 'due',\n",
       " 'electronics',\n",
       " 'enough',\n",
       " 'equipment',\n",
       " 'failure',\n",
       " 'feel',\n",
       " 'for',\n",
       " 'frequent',\n",
       " 'going',\n",
       " 'had',\n",
       " 'important',\n",
       " 'in',\n",
       " 'investment',\n",
       " 'irregular',\n",
       " 'is',\n",
       " 'it',\n",
       " 'know',\n",
       " 'loss',\n",
       " 'me',\n",
       " 'minor',\n",
       " 'minutes',\n",
       " 'modem',\n",
       " 'monitor',\n",
       " 'more',\n",
       " 'my',\n",
       " 'of',\n",
       " 'or',\n",
       " 'power',\n",
       " 'purchased',\n",
       " 'receiving',\n",
       " 'router',\n",
       " 'run',\n",
       " 'save',\n",
       " 'shut',\n",
       " 'spike',\n",
       " 'supplies',\n",
       " 'supply',\n",
       " 'than',\n",
       " 'that',\n",
       " 'the',\n",
       " 'this',\n",
       " 'time',\n",
       " 'to',\n",
       " 'unit',\n",
       " 'valuable',\n",
       " 'will',\n",
       " 'work'}"
      ]
     },
     "execution_count": 20,
     "metadata": {},
     "output_type": "execute_result"
    }
   ],
   "source": [
    "#tokenize with NLTK\n",
    "#notice how it keeps \"it\" and \"IT\"\n",
    "t = positive_reviews[0].text\n",
    "set(nltk.tokenize.word_tokenize(t)) "
   ]
  },
  {
   "cell_type": "code",
   "execution_count": 21,
   "metadata": {
    "scrolled": true
   },
   "outputs": [
    {
     "data": {
      "text/plain": [
       "['purchased',\n",
       " 'this',\n",
       " 'unit',\n",
       " 'due',\n",
       " 'frequent',\n",
       " 'blackout',\n",
       " 'power',\n",
       " 'supply',\n",
       " 'bad',\n",
       " 'run',\n",
       " 'cable',\n",
       " 'modem',\n",
       " 'router',\n",
       " 'lcd',\n",
       " 'monitor',\n",
       " 'minute',\n",
       " 'this',\n",
       " 'time',\n",
       " 'save',\n",
       " 'shut',\n",
       " 'equally',\n",
       " 'electronics',\n",
       " 'receiving',\n",
       " 'clean',\n",
       " 'power',\n",
       " 'feel',\n",
       " 'this',\n",
       " 'investment',\n",
       " 'minor',\n",
       " 'compared',\n",
       " 'loss',\n",
       " 'valuable',\n",
       " 'data',\n",
       " 'failure',\n",
       " 'equipment',\n",
       " 'due',\n",
       " 'power',\n",
       " 'spike',\n",
       " 'irregular',\n",
       " 'power',\n",
       " 'supply',\n",
       " 'amazon',\n",
       " 'business',\n",
       " 'day']"
      ]
     },
     "execution_count": 21,
     "metadata": {},
     "output_type": "execute_result"
    }
   ],
   "source": [
    "#lets create a custom tokenize funciton (leveraging nltk)\n",
    "def mikes_tokenizer(s):\n",
    "    s = s.lower() #downcase\n",
    "    tokens = nltk.tokenize.word_tokenize(s) #split s into word tokens\n",
    "    tokens = [t for t in tokens if len(t)>2] #remove short words as they probably have low predictive quality\n",
    "    tokens = [wordnet_lemmatizer.lemmatize(t) for t in tokens] #puts words (like contractions) into base form\n",
    "    tokens = [t for t in tokens if t not in stopwords] #get rid of dem stopwords yo!\n",
    "    return tokens\n",
    "\n",
    "mikes_tokenizer(t)"
   ]
  },
  {
   "cell_type": "markdown",
   "metadata": {},
   "source": [
    "### Word to Index Map\n",
    "\n",
    "Lets create a word-to-index map so that we can create our word frequency vectors later. Lets also save the tokenized versions so we dont have to tokenize again later.\n",
    "\n",
    "Note that for the word map, we first tokenize each document, loop through all the words, and add the word to the map dictionary (adding the word only if it is not yet in the dictionary, this ensures we get an index of unique words)"
   ]
  },
  {
   "cell_type": "code",
   "execution_count": 22,
   "metadata": {
    "collapsed": true
   },
   "outputs": [],
   "source": [
    "#initialize\n",
    "word_index_map = {}\n",
    "current_index = 0\n",
    "positive_tokenized = []\n",
    "negative_tokenized = []\n",
    "\n",
    "for review in positive_reviews:\n",
    "    tokens = mikes_tokenizer(review.text)\n",
    "    positive_tokenized.append(tokens)\n",
    "    for token in tokens:\n",
    "        if token not in word_index_map:\n",
    "            word_index_map[token] = current_index\n",
    "            current_index += 1\n",
    "\n",
    "for review in negative_reviews:\n",
    "    tokens = mikes_tokenizer(review.text)\n",
    "    negative_tokenized.append(tokens)\n",
    "    for token in tokens:\n",
    "        if token not in word_index_map:\n",
    "            word_index_map[token] = current_index\n",
    "            current_index += 1"
   ]
  },
  {
   "cell_type": "code",
   "execution_count": 23,
   "metadata": {},
   "outputs": [
    {
     "data": {
      "text/plain": [
       "11078"
      ]
     },
     "execution_count": 23,
     "metadata": {},
     "output_type": "execute_result"
    }
   ],
   "source": [
    "len(word_index_map)"
   ]
  },
  {
   "cell_type": "markdown",
   "metadata": {},
   "source": [
    "### Create input matrices"
   ]
  },
  {
   "cell_type": "code",
   "execution_count": 24,
   "metadata": {},
   "outputs": [
    {
     "data": {
      "text/plain": [
       "array([0.02272727, 0.06818182, 0.02272727, ..., 0.        , 0.        ,\n",
       "       1.        ])"
      ]
     },
     "execution_count": 24,
     "metadata": {},
     "output_type": "execute_result"
    }
   ],
   "source": [
    "def tokens_to_vector(tokens, label):\n",
    "    x = np.zeros(len(word_index_map)+1) #last element is for label\n",
    "    for t in tokens:\n",
    "        i = word_index_map[t]\n",
    "        x[i] += 1\n",
    "    x = x / x.sum() #normalize it before setting the label\n",
    "    x[-1] = label #set the label\n",
    "    return x\n",
    "\n",
    "tokens_to_vector(positive_tokenized[0], 1)"
   ]
  },
  {
   "cell_type": "code",
   "execution_count": 25,
   "metadata": {},
   "outputs": [
    {
     "data": {
      "text/plain": [
       "(2000, 11079)"
      ]
     },
     "execution_count": 25,
     "metadata": {},
     "output_type": "execute_result"
    }
   ],
   "source": [
    "#get length of all instances together\n",
    "N = len(positive_tokenized) + len(negative_tokenized)\n",
    "#put the instances together so we can shuffle them more easily\n",
    "\n",
    "data = np.zeros((N, len(word_index_map)+1))\n",
    "i = 0\n",
    "for tokens in positive_tokenized:\n",
    "    xy = tokens_to_vector(tokens,1)\n",
    "    data[i,:] = xy\n",
    "    i += 1\n",
    "\n",
    "for tokens in negative_tokenized:\n",
    "    xy = tokens_to_vector(tokens,0)\n",
    "    data[i,:] = xy\n",
    "    i += 1\n",
    "\n",
    "data.shape"
   ]
  },
  {
   "cell_type": "code",
   "execution_count": 26,
   "metadata": {
    "collapsed": true
   },
   "outputs": [],
   "source": [
    "#shuffle data and create train test splits!\n",
    "np.random.shuffle(data)\n",
    "X = data[:,:-1]\n",
    "y = data[:,-1]\n",
    "\n",
    "X_train = X[:-100,]\n",
    "y_train = y[:-100,]\n",
    "X_test = X[-100:,]\n",
    "y_test = y[-100:,]"
   ]
  },
  {
   "cell_type": "code",
   "execution_count": 27,
   "metadata": {},
   "outputs": [
    {
     "name": "stderr",
     "output_type": "stream",
     "text": [
      "C:\\Users\\mciniello\\AppData\\Local\\Continuum\\anaconda3\\envs\\tf_env\\lib\\site-packages\\sklearn\\linear_model\\logistic.py:433: FutureWarning: Default solver will be changed to 'lbfgs' in 0.22. Specify a solver to silence this warning.\n",
      "  FutureWarning)\n",
      "C:\\Users\\mciniello\\AppData\\Local\\Continuum\\anaconda3\\envs\\tf_env\\lib\\site-packages\\sklearn\\ensemble\\forest.py:246: FutureWarning: The default value of n_estimators will change from 10 in version 0.20 to 100 in 0.22.\n",
      "  \"10 in version 0.20 to 100 in 0.22.\", FutureWarning)\n"
     ]
    },
    {
     "name": "stdout",
     "output_type": "stream",
     "text": [
      "Logistic Regression model accuracy: 0.74\n",
      "Random Forest model accuracy: 0.74\n"
     ]
    }
   ],
   "source": [
    "#build a logistic regression model!\n",
    "lr_model = LogisticRegression()\n",
    "lr_model.fit(X_train, y_train)\n",
    "print(\"Logistic Regression model accuracy:\", lr_model.score(X_test, y_test))\n",
    "\n",
    "#build a random forest model!\n",
    "rf_model = RandomForestClassifier()\n",
    "rf_model.fit(X_train, y_train)\n",
    "print(\"Random Forest model accuracy:\", rf_model.score(X_test, y_test))"
   ]
  },
  {
   "cell_type": "code",
   "execution_count": 28,
   "metadata": {},
   "outputs": [
    {
     "name": "stdout",
     "output_type": "stream",
     "text": [
      "(1, 11078)\n"
     ]
    },
    {
     "data": {
      "image/png": "[encoded data removed]",
      "text/plain": [
       "<Figure size 432x288 with 1 Axes>"
      ]
     },
     "metadata": {
      "needs_background": "light"
     },
     "output_type": "display_data"
    }
   ],
   "source": [
    "#lets look at the logistic regression weights of the words\n",
    "#this will help us find the most important words for this predictor\n",
    "print(lr_model.coef_.shape)\n",
    "\n",
    "plt.hist(lr_model.coef_[0], range=(-0.25,0.25), bins=100)\n",
    "plt.show()"
   ]
  },
  {
   "cell_type": "code",
   "execution_count": 29,
   "metadata": {},
   "outputs": [
    {
     "data": {
      "text/plain": [
       "{'month': -0.8308978404073868,\n",
       " \"n't\": -1.9967793443415716,\n",
       " 'item': -0.963774184305869,\n",
       " 'wa': -1.7716706291161686,\n",
       " 'money': -1.110057087149993,\n",
       " 'buy': -0.9096837870362605,\n",
       " 'doe': -1.1921434831360513,\n",
       " 'support': -0.8819036041762232,\n",
       " 'returned': -0.8150971252448324,\n",
       " 'poor': -0.8016260293204787,\n",
       " 'then': -1.1413942994706288,\n",
       " 'tried': -0.8034127295300082,\n",
       " 'return': -1.2124963282742895,\n",
       " 'waste': -1.019238021697776}"
      ]
     },
     "execution_count": 29,
     "metadata": {},
     "output_type": "execute_result"
    }
   ],
   "source": [
    "#words associated with bad reviews \n",
    "word_index_weights = {}\n",
    "threshold_high = -0.75\n",
    "threshold_low = -2.5\n",
    "for word, index in word_index_map.items():\n",
    "    weight = lr_model.coef_[0][index]\n",
    "    if (weight < threshold_high) and (weight > threshold_low):\n",
    "        word_index_weights[word] = weight  \n",
    "word_index_weights"
   ]
  },
  {
   "cell_type": "code",
   "execution_count": 30,
   "metadata": {},
   "outputs": [
    {
     "data": {
      "text/plain": [
       "{\"'ve\": 0.856243345075673,\n",
       " 'sound': 0.974533464700213,\n",
       " 'you': 0.9604589675104138,\n",
       " 'easy': 1.6615696255287813,\n",
       " 'quality': 1.417141215504284,\n",
       " 'perfect': 1.0047165596703336,\n",
       " 'fast': 0.905623165529749,\n",
       " 'memory': 0.9523414831354218,\n",
       " 'highly': 0.9785862268027192,\n",
       " 'little': 0.892228011349714,\n",
       " 'excellent': 1.315957065814149,\n",
       " 'love': 1.0778929252574783,\n",
       " 'speaker': 0.8548613068941959}"
      ]
     },
     "execution_count": 30,
     "metadata": {},
     "output_type": "execute_result"
    }
   ],
   "source": [
    "#words associated with good reviews \n",
    "word_index_weights = {}\n",
    "threshold_high = 2.5\n",
    "threshold_low = 0.75\n",
    "for word, index in word_index_map.items():\n",
    "    weight = lr_model.coef_[0][index]\n",
    "    if (weight < threshold_high) and (weight > threshold_low):\n",
    "        word_index_weights[word] = weight  \n",
    "word_index_weights"
   ]
  }
 ],
 "metadata": {
  "kernelspec": {
   "display_name": "Python 3",
   "language": "python",
   "name": "python3"
  },
  "language_info": {
   "codemirror_mode": {
    "name": "ipython",
    "version": 3
   },
   "file_extension": ".py",
   "mimetype": "text/x-python",
   "name": "python",
   "nbconvert_exporter": "python",
   "pygments_lexer": "ipython3",
   "version": "3.6.6"
  }
 },
 "nbformat": 4,
 "nbformat_minor": 2
}
