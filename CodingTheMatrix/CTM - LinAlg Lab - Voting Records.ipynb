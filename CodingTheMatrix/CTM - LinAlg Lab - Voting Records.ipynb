{
 "cells": [
  {
   "cell_type": "markdown",
   "metadata": {},
   "source": [
    "# Linear Algebra Lab: Voting Records"
   ]
  },
  {
   "cell_type": "markdown",
   "metadata": {},
   "source": [
    "In this lab, we will represent a US senator’s voting record as a vector over R, and will use\n",
    "dot-products to compare voting records. For this lab, we will just use a list to represent a\n",
    "vector."
   ]
  },
  {
   "cell_type": "markdown",
   "metadata": {},
   "source": [
    "### Load data"
   ]
  },
  {
   "cell_type": "code",
   "execution_count": 121,
   "metadata": {},
   "outputs": [
    {
     "data": {
      "text/plain": [
       "'Akaka D HI -1 -1 1 1 1 -1 -1 1 1 1 1 1 1 1 -1 1 1 1 -1 1 1 1 1 1 -1 1 -1 -1 1 1 1 1 1 1 0 0 1 -1 -1 1 -1 1 -1 1 1 -1\\n'"
      ]
     },
     "execution_count": 121,
     "metadata": {},
     "output_type": "execute_result"
    }
   ],
   "source": [
    "#load file\n",
    "file = open('US_Senate_voting_data_109.txt')\n",
    "mylist = list(file)\n",
    "mylist[0]"
   ]
  },
  {
   "cell_type": "code",
   "execution_count": 122,
   "metadata": {
    "scrolled": true
   },
   "outputs": [
    {
     "name": "stdout",
     "output_type": "stream",
     "text": [
      "dict_keys(['Akaka', 'Alexander', 'Allard', 'Allen', 'Baucus', 'Bayh', 'Bennett', 'Biden', 'Bingaman', 'Bond', 'Boxer', 'Brownback', 'Bunning', 'Burns', 'Burr', 'Byrd', 'Cantwell', 'Carper', 'Chafee', 'Chambliss', 'Clinton', 'Coburn', 'Cochran', 'Coleman', 'Collins', 'Conrad', 'Cornyn', 'Craig', 'Crapo', 'Dayton', 'DeMint', 'DeWine', 'Dodd', 'Dole', 'Domenici', 'Dorgan', 'Durbin', 'Ensign', 'Enzi', 'Feingold', 'Feinstein', 'Frist', 'Graham', 'Grassley', 'Gregg', 'Hagel', 'Harkin', 'Hatch', 'Hutchison', 'Inhofe', 'Inouye', 'Isakson', 'Jeffords', 'Johnson', 'Kennedy', 'Kerry', 'Kohl', 'Kyl', 'Landrieu', 'Lautenberg', 'Leahy', 'Levin', 'Lieberman', 'Lincoln', 'Lott', 'Lugar', 'Martinez', 'McCain', 'McConnell', 'Mikulski', 'Murkowski', 'Murray', 'Nelson1', 'Nelson2', 'Obama', 'Pryor', 'Reed', 'Reid', 'Roberts', 'Rockefeller', 'Salazar', 'Santorum', 'Sarbanes', 'Schumer', 'Sessions', 'Shelby', 'Smith', 'Snowe', 'Specter', 'Stabenow', 'Stevens', 'Sununu', 'Talent', 'Thomas', 'Thune', 'Vitter', 'Voinovich', 'Warner', 'Wyden'])\n"
     ]
    }
   ],
   "source": [
    "#split data and store in dictionary!\n",
    "import numpy as np\n",
    "\n",
    "def create_voting_dict(strlist):\n",
    "    votes = {}\n",
    "    for line in strlist:\n",
    "        split = line.split(\" \")\n",
    "        votes[split[0]] = [int(x) for x in split[3:]]\n",
    "    return votes\n",
    "\n",
    "votes = create_voting_dict(mylist)\n",
    "print(votes.keys())"
   ]
  },
  {
   "cell_type": "markdown",
   "metadata": {},
   "source": [
    "### Policy Comparison"
   ]
  },
  {
   "cell_type": "markdown",
   "metadata": {},
   "source": [
    "***2.12.3: Write a procedure most similar(sen, voting dict) that, given the name\n",
    "of a senator and a dictionary mapping senator names to lists representing voting records,\n",
    "returns the name of the senator whose political mindset is most like the input senator\n",
    "(excluding, of course, the input senator him/herself).***"
   ]
  },
  {
   "cell_type": "code",
   "execution_count": 123,
   "metadata": {},
   "outputs": [
    {
     "data": {
      "text/plain": [
       "14"
      ]
     },
     "execution_count": 123,
     "metadata": {},
     "output_type": "execute_result"
    }
   ],
   "source": [
    "def policy_compare(sen_a, sen_b, voting_dict):\n",
    "    return sum([a*b for (a, b) in zip(voting_dict[sen_a], voting_dict[sen_b])])\n",
    "\n",
    "policy_compare('Akaka', 'McConnell', votes)"
   ]
  },
  {
   "cell_type": "markdown",
   "metadata": {},
   "source": [
    "***Task 2.12.3: Write a procedure most similar(sen, voting dict) that, given the name\n",
    "of a senator and a dictionary mapping senator names to lists representing voting records,\n",
    "returns the name of the senator whose political mindset is most like the input senator\n",
    "(excluding, of course, the input senator him/herself).***"
   ]
  },
  {
   "cell_type": "code",
   "execution_count": 124,
   "metadata": {},
   "outputs": [
    {
     "data": {
      "text/plain": [
       "'Domenici'"
      ]
     },
     "execution_count": 124,
     "metadata": {},
     "output_type": "execute_result"
    }
   ],
   "source": [
    "def most_similar(sen, voting_dict):\n",
    "    diff = set([sen])\n",
    "    comps = list(set(voting_dict.keys()).difference(diff))\n",
    "    scores = [policy_compare(sen, comp, voting_dict) for comp in comps]\n",
    "    max_index = scores.index(max(scores))\n",
    "    return comps[max_index]\n",
    "\n",
    "most_similar('McConnell',votes)"
   ]
  },
  {
   "cell_type": "markdown",
   "metadata": {},
   "source": [
    "***Task 2.12.4: Write a very similar procedure least similar(sen, voting dict) that\n",
    "returns the name of the senator whose voting record agrees the least with the senator whose\n",
    "name is sen.***\n"
   ]
  },
  {
   "cell_type": "code",
   "execution_count": 125,
   "metadata": {},
   "outputs": [
    {
     "data": {
      "text/plain": [
       "'Feingold'"
      ]
     },
     "execution_count": 125,
     "metadata": {},
     "output_type": "execute_result"
    }
   ],
   "source": [
    "def least_similar(sen, voting_dict):\n",
    "    diff = set([sen])\n",
    "    comps = list(set(voting_dict.keys()).difference(diff))\n",
    "    scores = [policy_compare(sen, comp, voting_dict) for comp in comps]\n",
    "    min_index = scores.index(min(scores))\n",
    "    return comps[min_index]\n",
    "\n",
    "least_similar('McConnell',votes)"
   ]
  },
  {
   "cell_type": "markdown",
   "metadata": {},
   "source": [
    "***Task 2.12.5: Use these procedures to figure out which senator is most like Rhode Island\n",
    "legend Lincoln Chafee. Then use these procedures to see who disagrees most with Pennsylvania’s\n",
    "Rick Santorum. Give their names.***"
   ]
  },
  {
   "cell_type": "code",
   "execution_count": 126,
   "metadata": {},
   "outputs": [
    {
     "data": {
      "text/plain": [
       "'Jeffords'"
      ]
     },
     "execution_count": 126,
     "metadata": {},
     "output_type": "execute_result"
    }
   ],
   "source": [
    "most_similar('Chafee', votes)"
   ]
  },
  {
   "cell_type": "code",
   "execution_count": 127,
   "metadata": {},
   "outputs": [
    {
     "data": {
      "text/plain": [
       "'Feingold'"
      ]
     },
     "execution_count": 127,
     "metadata": {},
     "output_type": "execute_result"
    }
   ],
   "source": [
    "least_similar('Santorum', votes)"
   ]
  },
  {
   "cell_type": "markdown",
   "metadata": {},
   "source": [
    "***Task 2.12.6: How similar are the voting records of the two senators from your favorite\n",
    "state?***"
   ]
  },
  {
   "cell_type": "code",
   "execution_count": 128,
   "metadata": {},
   "outputs": [
    {
     "name": "stdout",
     "output_type": "stream",
     "text": [
      "Sarbanes\n",
      "Sununu\n"
     ]
    }
   ],
   "source": [
    "print(most_similar('Biden', votes))\n",
    "print(least_similar('Biden', votes))"
   ]
  },
  {
   "cell_type": "markdown",
   "metadata": {},
   "source": [
    "### Not You Average Democrat"
   ]
  },
  {
   "cell_type": "markdown",
   "metadata": {},
   "source": [
    "***Task 2.12.7: Write a procedure find average similarity(sen, sen set, voting dict)\n",
    "that, given the name sen of a senator, compares that senator’s voting record to the voting\n",
    "records of all senators whose names are in sen set, computing a dot-product for each, and\n",
    "then returns the average dot-product.***\n",
    "\n",
    "***Use your procedure to compute which senator has the greatest average similarity with\n",
    "the set of Democrats (you can extract this set from the input file).***"
   ]
  },
  {
   "cell_type": "code",
   "execution_count": 129,
   "metadata": {},
   "outputs": [
    {
     "data": {
      "text/plain": [
       "18.333333333333332"
      ]
     },
     "execution_count": 129,
     "metadata": {},
     "output_type": "execute_result"
    }
   ],
   "source": [
    "def find_average_similarity(sen, sen_set, voting_dict):\n",
    "    sens = sen_set.difference(set([sen]))\n",
    "    l=[policy_compare(sen, sen_comp, voting_dict) for sen_comp in sens]\n",
    "    return sum(l)/len(l)\n",
    "    \n",
    "sen_set = {'Feingold', 'Feinstein', 'Frist', 'Graham', 'Grassley', 'Gregg'}\n",
    "find_average_similarity('Akaka', sen_set, votes)"
   ]
  },
  {
   "cell_type": "code",
   "execution_count": 130,
   "metadata": {},
   "outputs": [
    {
     "data": {
      "text/plain": [
       "'Biden'"
      ]
     },
     "execution_count": 130,
     "metadata": {},
     "output_type": "execute_result"
    }
   ],
   "source": [
    "#extract dems\n",
    "dems = set([row.split(\" \")[0] for row in mylist if row.split(\" \")[1]=='D'])\n",
    "\n",
    "#find senator most simlar to average democrat\n",
    "all_sens = list(votes.keys())\n",
    "most_average_dem = all_sens[np.argmax([find_average_similarity(sen, dems, votes) for sen in all_sens])]\n",
    "\n",
    "most_average_dem"
   ]
  },
  {
   "cell_type": "markdown",
   "metadata": {},
   "source": [
    "***Task 2.12.8: Write a procedure find average record(sen set, voting dict) that, given a set of names of senators, finds the average voting record. That is:***\n",
    "- perform vector addition on the lists representing their voting records, and then divide the sum by the number of vectors. The result should be a vector.\n",
    "- Use this procedure to compute the average voting record for the set of Democrats, and assign the result to the variable average Democrat record. \n",
    "- Next find which senator’s voting record is most similar to the average Democrat voting record. Did you get the same result as in Task 2.12.7? Can you explain?\n",
    "\n",
    "<font color=red>In the last task, you had to compare each senator’s record to the voting record of each\n",
    "Democrat senator. If you were doing the same computation with, say, the movie preferences\n",
    "of all Netflix subscribers, it would take far too long to be practical.\n",
    "Next we see that there is a computational shortcut, ***based on an algebraic property of\n",
    "the dot-product: the distributive property:***\n",
    "(v1 + v2) · x = v1 · x + v2 · x</font>\n",
    "\n"
   ]
  },
  {
   "cell_type": "markdown",
   "metadata": {},
   "source": [
    "<font color=red size=6> The single star * unpacks the sequence/collection into positional arguments, so you can do this:</font>"
   ]
  },
  {
   "cell_type": "code",
   "execution_count": 131,
   "metadata": {
    "scrolled": true
   },
   "outputs": [
    {
     "data": {
      "text/plain": [
       "[-0.16279069767441862,\n",
       " -0.23255813953488372,\n",
       " 1.0,\n",
       " 0.8372093023255814,\n",
       " 0.9767441860465116,\n",
       " -0.13953488372093023,\n",
       " -0.9534883720930233,\n",
       " 0.813953488372093,\n",
       " 0.9767441860465116,\n",
       " 0.9767441860465116,\n",
       " 0.9069767441860465,\n",
       " 0.7674418604651163,\n",
       " 0.6744186046511628,\n",
       " 0.9767441860465116,\n",
       " -0.5116279069767442,\n",
       " 0.9302325581395349,\n",
       " 0.9534883720930233,\n",
       " 0.9767441860465116,\n",
       " -0.3953488372093023,\n",
       " 0.9767441860465116,\n",
       " 1.0,\n",
       " 1.0,\n",
       " 1.0,\n",
       " 0.9534883720930233,\n",
       " -0.4883720930232558,\n",
       " 1.0,\n",
       " -0.32558139534883723,\n",
       " -0.06976744186046512,\n",
       " 0.9767441860465116,\n",
       " 0.8604651162790697,\n",
       " 0.9767441860465116,\n",
       " 0.9767441860465116,\n",
       " 1.0,\n",
       " 1.0,\n",
       " 0.9767441860465116,\n",
       " -0.3488372093023256,\n",
       " 0.9767441860465116,\n",
       " -0.4883720930232558,\n",
       " 0.23255813953488372,\n",
       " 0.8837209302325582,\n",
       " 0.4418604651162791,\n",
       " 0.9069767441860465,\n",
       " -0.9069767441860465,\n",
       " 1.0,\n",
       " 0.9069767441860465,\n",
       " -0.3023255813953488]"
      ]
     },
     "execution_count": 131,
     "metadata": {},
     "output_type": "execute_result"
    }
   ],
   "source": [
    "def find_average_record(sen_set, voting_dict):\n",
    "    l = [voting_dict[sen] for sen in sen_set]\n",
    "    z = list(zip(*l))\n",
    "    return [sum(a)/len(a) for a in z]\n",
    "\n",
    "x = {'Boxer','Biden','Akaka'}\n",
    "    \n",
    "democrat_record = find_average_record(dems, votes)\n",
    "democrat_record\n"
   ]
  },
  {
   "cell_type": "code",
   "execution_count": 132,
   "metadata": {},
   "outputs": [
    {
     "data": {
      "text/plain": [
       "'Biden'"
      ]
     },
     "execution_count": 132,
     "metadata": {},
     "output_type": "execute_result"
    }
   ],
   "source": [
    "votes_2 = votes.copy()\n",
    "votes_2['average_dem'] = democrat_record\n",
    "most_similar('average_dem', votes_2)"
   ]
  },
  {
   "cell_type": "markdown",
   "metadata": {},
   "source": [
    "##### Wooohooo it worked! Both funcitons are giving me Biden."
   ]
  },
  {
   "cell_type": "markdown",
   "metadata": {},
   "source": [
    "### Bitter Rivals"
   ]
  },
  {
   "cell_type": "markdown",
   "metadata": {},
   "source": [
    "***Task 2.12.9: Write a procedure bitter rivals(voting dict) to find which two senators\n",
    "disagree the most.\n",
    "This task again requires comparing each pair of voting records. Can this be done faster than\n",
    "the obvious way? There is a slightly more efficient algorithm, using fast matrix multiplication.\n",
    "We will study matrix multiplication later, although we won’t cover the theoretically fast\n",
    "algorithms.***"
   ]
  },
  {
   "cell_type": "code",
   "execution_count": 133,
   "metadata": {
    "scrolled": true
   },
   "outputs": [
    {
     "name": "stdout",
     "output_type": "stream",
     "text": [
      "(99, 46)\n",
      "(46, 99)\n",
      "99\n"
     ]
    }
   ],
   "source": [
    "#build function using just slow way (vector multiplcation)\n",
    "import pandas as pd\n",
    "votes_df = pd.DataFrame(votes)\n",
    "votes_mat = votes_df.as_matrix()\n",
    "sen_names =  list(votes.keys())\n",
    "\n",
    "print(votes_mat.T.shape)\n",
    "print(votes_mat.shape)\n",
    "print(len(sen_names))"
   ]
  },
  {
   "cell_type": "markdown",
   "metadata": {},
   "source": [
    "<font color = red> Note when multiplying matrices, you want to have the first matrix in the form such that the axis you are interested in in the rows. So for instance, we are interested in getting the sum product of senators voting record with another senator, we first transpose the matrix so that each row represents a single senator. Then we multiply by a single senator in its orignal format. This will give us a series of column vectors representing the sum product of each senator vs the senator you were comparing against.</font>"
   ]
  },
  {
   "cell_type": "code",
   "execution_count": 134,
   "metadata": {},
   "outputs": [
    {
     "data": {
      "text/plain": [
       "array([[44, 11, 10, ..., 18, 16, 34],\n",
       "       [11, 45, 43, ..., 35, 41, 17],\n",
       "       [10, 43, 46, ..., 38, 40, 16],\n",
       "       ..., \n",
       "       [18, 35, 38, ..., 46, 40, 24],\n",
       "       [16, 41, 40, ..., 40, 46, 22],\n",
       "       [34, 17, 16, ..., 24, 22, 46]], dtype=int64)"
      ]
     },
     "execution_count": 134,
     "metadata": {},
     "output_type": "execute_result"
    }
   ],
   "source": [
    "comp_all = votes_mat.T.dot(votes_mat)\n",
    "comp_all"
   ]
  },
  {
   "cell_type": "code",
   "execution_count": 135,
   "metadata": {},
   "outputs": [
    {
     "data": {
      "text/plain": [
       "array([[ 0, 11, 10, ..., 18, 16, 34],\n",
       "       [11,  0, 43, ..., 35, 41, 17],\n",
       "       [10, 43,  0, ..., 38, 40, 16],\n",
       "       ..., \n",
       "       [18, 35, 38, ...,  0, 40, 24],\n",
       "       [16, 41, 40, ..., 40,  0, 22],\n",
       "       [34, 17, 16, ..., 24, 22,  0]], dtype=int64)"
      ]
     },
     "execution_count": 135,
     "metadata": {},
     "output_type": "execute_result"
    }
   ],
   "source": [
    "np.fill_diagonal(comp_all,0)\n",
    "comp_all"
   ]
  },
  {
   "cell_type": "markdown",
   "metadata": {},
   "source": [
    "Ok, lets see if this makes sense. Use the policy compare function to compare Akaka, the first senator in the list, to each other senator. **This should equal the first COLUMN of the new comparison matrix**."
   ]
  },
  {
   "cell_type": "code",
   "execution_count": 136,
   "metadata": {
    "scrolled": true
   },
   "outputs": [
    {
     "name": "stdout",
     "output_type": "stream",
     "text": [
      "[44, 11, 10, 12, 28, 31, 15, 38, 35, 12, 39, 12, 8, 16, 16, 31, 30, 22, 30, 10]\n",
      "[0, 11, 10, 12, 28, 31, 15, 38, 35, 12, 39, 12, 8, 16, 16, 31, 30, 22, 30, 10]\n"
     ]
    }
   ],
   "source": [
    "Akaka_comp = [policy_compare('Akaka', sen, votes) for sen in votes.keys()]\n",
    "\n",
    "print(Akaka_comp[0:20])\n",
    "print(list(comp_all[0:20,0]))"
   ]
  },
  {
   "cell_type": "markdown",
   "metadata": {},
   "source": [
    "#### OMG IT WORKED!!! Now lets test it out!"
   ]
  },
  {
   "cell_type": "code",
   "execution_count": 137,
   "metadata": {},
   "outputs": [
    {
     "data": {
      "text/plain": [
       "-3"
      ]
     },
     "execution_count": 137,
     "metadata": {},
     "output_type": "execute_result"
    }
   ],
   "source": [
    "#first test it out\n",
    "comp_min = comp_all.min() #find min value\n",
    "comp_min"
   ]
  },
  {
   "cell_type": "code",
   "execution_count": 138,
   "metadata": {},
   "outputs": [
    {
     "data": {
      "text/plain": [
       "(39, 49)"
      ]
     },
     "execution_count": 138,
     "metadata": {},
     "output_type": "execute_result"
    }
   ],
   "source": [
    "list(zip(*np.where(comp_all == comp_min)))[0] # find min value coordinates"
   ]
  },
  {
   "cell_type": "code",
   "execution_count": 139,
   "metadata": {},
   "outputs": [
    {
     "name": "stdout",
     "output_type": "stream",
     "text": [
      "Feingold Inhofe\n"
     ]
    }
   ],
   "source": [
    "print(sen_names[39], sen_names[49]) #get the senator names!"
   ]
  },
  {
   "cell_type": "code",
   "execution_count": 140,
   "metadata": {},
   "outputs": [
    {
     "data": {
      "text/plain": [
       "-3"
      ]
     },
     "execution_count": 140,
     "metadata": {},
     "output_type": "execute_result"
    }
   ],
   "source": [
    "policy_compare('Feingold', 'Inhofe', votes) #test out the comparison to make sure it works!!!"
   ]
  },
  {
   "cell_type": "markdown",
   "metadata": {},
   "source": [
    "#### Neat! It works, lets write the procedure now!"
   ]
  },
  {
   "cell_type": "code",
   "execution_count": 141,
   "metadata": {},
   "outputs": [
    {
     "data": {
      "text/plain": [
       "('Feingold', 'Inhofe')"
      ]
     },
     "execution_count": 141,
     "metadata": {},
     "output_type": "execute_result"
    }
   ],
   "source": [
    "def bitter_rivals(voting_dict):\n",
    "    df = pd.DataFrame(voting_dict)\n",
    "    mat = df.as_matrix()\n",
    "    sen_names =  list(voting_dict.keys())\n",
    "    comps_mat = mat.T.dot(mat)\n",
    "    comp_min = comps_mat.min()\n",
    "    min_index = list(zip(*np.where(comps_mat == comp_min)))[0]\n",
    "    return sen_names[min_index[0]], sen_names[min_index[1]]\n",
    "\n",
    "bitter_rivals(votes)"
   ]
  },
  {
   "cell_type": "code",
   "execution_count": 142,
   "metadata": {},
   "outputs": [
    {
     "data": {
      "text/plain": [
       "('Allard', 'Chambliss')"
      ]
     },
     "execution_count": 142,
     "metadata": {},
     "output_type": "execute_result"
    }
   ],
   "source": [
    "def best_friends(voting_dict):\n",
    "    df = pd.DataFrame(voting_dict)\n",
    "    mat = df.as_matrix()\n",
    "    sen_names =  list(voting_dict.keys())\n",
    "    comps_mat = mat.T.dot(mat)\n",
    "    np.fill_diagonal(comps_mat,0) #IMPORTANT! Fill diagonals with zeros, otherwise max will return the same senators names\n",
    "    comp_max = comps_mat.max()\n",
    "    max_index = list(zip(*np.where(comps_mat == comp_max)))[0]\n",
    "    return sen_names[max_index[0]], sen_names[max_index[1]]\n",
    "\n",
    "best_friends(votes)"
   ]
  },
  {
   "cell_type": "markdown",
   "metadata": {},
   "source": [
    "# Submission Stencil"
   ]
  },
  {
   "cell_type": "code",
   "execution_count": 143,
   "metadata": {
    "collapsed": true
   },
   "outputs": [],
   "source": [
    "# version code 80e56511a793+\n",
    "# Please fill out this stencil and submit using the provided submission script.\n",
    "\n",
    "# Be sure that the file voting_record_dump109.txt is in the matrix/ directory.\n",
    "\n",
    "\n",
    "## 1: (Task 2.12.1) Create Voting Dict\n",
    "def create_voting_dict(strlist):\n",
    "    \"\"\"\n",
    "    Input: a list of strings.  Each string represents the voting record of a senator.\n",
    "           The string consists of \n",
    "              - the senator's last name, \n",
    "              - a letter indicating the senator's party,\n",
    "              - a couple of letters indicating the senator's home state, and\n",
    "              - a sequence of numbers (0's, 1's, and negative 1's) indicating the senator's\n",
    "                votes on bills\n",
    "              all separated by spaces.\n",
    "    Output: A dictionary that maps the last name of a senator\n",
    "            to a list of numbers representing the senator's voting record.\n",
    "    Example: \n",
    "        >>> vd = create_voting_dict(['Kennedy D MA -1 -1 1 1', 'Snowe R ME 1 1 1 1'])\n",
    "        >>> vd == {'Snowe': [1, 1, 1, 1], 'Kennedy': [-1, -1, 1, 1]}\n",
    "        True\n",
    "\n",
    "    You can use the .split() method to split each string in the\n",
    "    strlist into a list; the first element of the list will be the senator's\n",
    "    name, the second will be his/her party affiliation (R or D), the\n",
    "    third will be his/her home state, and the remaining elements of\n",
    "    the list will be that senator's voting record on a collection of bills.\n",
    "\n",
    "    You can use the built-in procedure int() to convert a string\n",
    "    representation of an integer (e.g. '1') to the actual integer\n",
    "    (e.g. 1).\n",
    "\n",
    "    The lists for each senator should preserve the order listed in voting data.\n",
    "    In case you're feeling clever, this can be done in one line.\n",
    "    \"\"\"\n",
    "    import numpy as np\n",
    "    import pandas as pd\n",
    "    \n",
    "    votes = {}\n",
    "    for line in strlist:\n",
    "        split = line.split(\" \")\n",
    "        votes[split[0]] = np.array([int(x) for x in split[3:]])\n",
    "    return votes\n",
    "\n",
    "\n",
    "\n",
    "## 2: (Task 2.12.2) Policy Compare\n",
    "def policy_compare(sen_a, sen_b, voting_dict):\n",
    "    \"\"\"\n",
    "    Input: last names of sen_a and sen_b, and a voting dictionary mapping senator\n",
    "           names to lists representing their voting records.\n",
    "    Output: the dot-product (as a number) representing the degree of similarity\n",
    "            between two senators' voting policies\n",
    "    Example:\n",
    "        >>> voting_dict = {'Fox-Epstein':[-1,-1,-1,1],'Ravella':[1,1,1,1]}\n",
    "        >>> policy_compare('Fox-Epstein','Ravella', voting_dict)\n",
    "        -2\n",
    "    \n",
    "    The code should correct compute dot-product even if the numbers are not all in {0,1,-1}.\n",
    "        >>> policy_compare('A', 'B', {'A':[100,10,1], 'B':[2,5,3]})\n",
    "        253\n",
    "        \n",
    "    You should definitely try to write this in one line.\n",
    "    \"\"\"\n",
    "    return sum(voting_dict[sen_a] * voting_dict[sen_b])\n",
    "\n",
    "\n",
    "\n",
    "## 3: (Task 2.12.3) Most Similar\n",
    "def most_similar(sen, voting_dict):\n",
    "    \"\"\"\n",
    "    Input: the last name of a senator, and a dictionary mapping senator names\n",
    "           to lists representing their voting records.\n",
    "    Output: the last name of the senator whose political mindset is most\n",
    "            like the input senator (excluding, of course, the input senator\n",
    "            him/herself). Resolve ties arbitrarily.\n",
    "    Example:\n",
    "        >>> vd = {'Klein': [1,1,1], 'Fox-Epstein': [1,-1,0], 'Ravella': [-1,0,0]}\n",
    "        >>> most_similar('Klein', vd)\n",
    "        'Fox-Epstein'\n",
    "        >>> vd == {'Klein': [1,1,1], 'Fox-Epstein': [1,-1,0], 'Ravella': [-1,0,0]}\n",
    "        True\n",
    "        >>> vd = {'a': [1,1,1,0], 'b': [1,-1,0,0], 'c': [-1,0,0,0], 'd': [-1,0,0,1], 'e': [1, 0, 0,0]}\n",
    "        >>> most_similar('c', vd)\n",
    "        'd'\n",
    "\n",
    "    Note that you can (and are encouraged to) re-use your policy_compare procedure.\n",
    "    \"\"\"\n",
    "    \n",
    "    diff = set([sen])\n",
    "    comps = list(set(voting_dict.keys()).difference(diff))\n",
    "    scores = [policy_compare(sen, comp, voting_dict) for comp in comps]\n",
    "    return comps[np.argmax(scores)]\n",
    "\n",
    "\n",
    "\n",
    "## 4: (Task 2.12.4) Least Similar\n",
    "def least_similar(sen, voting_dict):\n",
    "    \"\"\"\n",
    "    Input: the last name of a senator, and a dictionary mapping senator names\n",
    "           to lists representing their voting records.\n",
    "    Output: the last name of the senator whose political mindset is least like the input\n",
    "            senator.\n",
    "    Example:\n",
    "        >>> vd = {'a': [1,1,1], 'b': [1,-1,0], 'c': [-1,0,0]}\n",
    "        >>> least_similar('a', vd)\n",
    "        'c'\n",
    "        >>> vd == {'a': [1,1,1], 'b': [1,-1,0], 'c': [-1,0,0]}\n",
    "        True\n",
    "        >>> vd = {'a': [-1,0,0], 'b': [1,0,0], 'c': [-1,1,0], 'd': [-1,1,1]}\n",
    "        >>> least_similar('c', vd)\n",
    "        'b'\n",
    "    \"\"\"\n",
    "    diff = set([sen])\n",
    "    comps = list(set(voting_dict.keys()).difference(diff))\n",
    "    scores = [policy_compare(sen, comp, voting_dict) for comp in comps]\n",
    "    return comps[np.argmin(scores)]\n",
    "\n",
    "\n",
    "\n",
    "## 5: (Task 2.12.5) Chafee, Santorum\n",
    "most_like_chafee    = ''\n",
    "least_like_santorum = '' \n",
    "\n",
    "\n",
    "\n",
    "## 6: (Task 2.12.7) Most Average Democrat\n",
    "def find_average_similarity(sen, sen_set, voting_dict):\n",
    "    \"\"\"\n",
    "    Input: the name of a senator, a set of senator names, and a voting dictionary.\n",
    "    Output: the average dot-product between sen and those in sen_set.\n",
    "    Example:\n",
    "        >>> vd = {'Klein':[1,1,1], 'Fox-Epstein':[1,-1,0], 'Ravella':[-1,0,0], 'Oyakawa':[-1,-1,-1], 'Loery':[0,1,1]}\n",
    "        >>> sens = {'Fox-Epstein','Ravella','Oyakawa','Loery'}\n",
    "        >>> find_average_similarity('Klein', sens, vd)\n",
    "        -0.5\n",
    "        >>> sens == {'Fox-Epstein','Ravella', 'Oyakawa', 'Loery'}\n",
    "        True\n",
    "        >>> vd == {'Klein':[1,1,1], 'Fox-Epstein':[1,-1,0], 'Ravella':[-1,0,0], 'Oyakawa':[-1,-1,-1], 'Loery':[0,1,1]}\n",
    "        True\n",
    "    \"\"\"\n",
    "    sens = sen_set.difference(set([sen]))\n",
    "    return np.average([policy_compare(sen, sen_comp, voting_dict) for sen_comp in sens])\n",
    "\n",
    "\n",
    "most_average_Democrat = 'Biden' # give the last name (or code that computes the last name)\n",
    "\n",
    "\n",
    "\n",
    "## 7: (Task 2.12.8) Average Record\n",
    "def find_average_record(sen_set, voting_dict):\n",
    "    \"\"\"\n",
    "    Input: a set of last names, a voting dictionary\n",
    "    Output: a vector containing the average components of the voting records\n",
    "            of the senators in the input set\n",
    "    Example: \n",
    "        >>> voting_dict = {'Klein': [-1,0,1], 'Fox-Epstein': [-1,-1,-1], 'Ravella': [0,0,1]}\n",
    "        >>> senators = {'Fox-Epstein','Ravella'}\n",
    "        >>> find_average_record(senators, voting_dict)\n",
    "        [-0.5, -0.5, 0.0]\n",
    "        >>> voting_dict == {'Klein': [-1,0,1], 'Fox-Epstein': [-1,-1,-1], 'Ravella': [0,0,1]}\n",
    "        True\n",
    "        >>> senators\n",
    "        {'Fox-Epstein','Ravella'}\n",
    "        >>> d = {'c': [-1,-1,0], 'b': [0,1,1], 'a': [0,1,1], 'e': [-1,-1,1], 'd': [-1,1,1]}\n",
    "        >>> find_average_record({'a','c','e'}, d)\n",
    "        [-0.6666666666666666, -0.3333333333333333, 0.6666666666666666]\n",
    "        >>> find_average_record({'a','c','e','b'}, d)\n",
    "        [-0.5, 0.0, 0.75]\n",
    "        >>> find_average_record({'a'}, d)\n",
    "        [0.0, 1.0, 1.0]\n",
    "    \"\"\"\n",
    "    vec_sum = np.zeros(len(list(voting_dict.values())[0]))\n",
    "    for sen in sen_set:\n",
    "        vec_sum += voting_dict[sen]\n",
    "    avg_votes = vec_sum / len(sen_set) \n",
    "    return avg_votes\n",
    "\n",
    "average_Democrat_record = [-0.1627907 , -0.23255814,  1.        ,  0.8372093 ,  0.97674419,\n",
    "       -0.13953488, -0.95348837,  0.81395349,  0.97674419,  0.97674419,\n",
    "        0.90697674,  0.76744186,  0.6744186 ,  0.97674419, -0.51162791,\n",
    "        0.93023256,  0.95348837,  0.97674419, -0.39534884,  0.97674419,\n",
    "        1.        ,  1.        ,  1.        ,  0.95348837, -0.48837209,\n",
    "        1.        , -0.3255814 , -0.06976744,  0.97674419,  0.86046512,\n",
    "        0.97674419,  0.97674419,  1.        ,  1.        ,  0.97674419,\n",
    "       -0.34883721,  0.97674419, -0.48837209,  0.23255814,  0.88372093,\n",
    "        0.44186047,  0.90697674, -0.90697674,  1.        ,  0.90697674,\n",
    "       -0.30232558]\n",
    "\n",
    "\n",
    "\n",
    "## 8: (Task 2.12.9) Bitter Rivals\n",
    "def bitter_rivals(voting_dict):\n",
    "    \"\"\"\n",
    "    Input: a dictionary mapping senator names to lists representing\n",
    "           their voting records\n",
    "    Output: a tuple containing the two senators who most strongly\n",
    "            disagree with one another.\n",
    "    Example: \n",
    "        >>> voting_dict = {'Klein':[-1,0,1], 'Fox-Epstein':[-1,-1,-1], 'Ravella':[0,0,1], 'Oyakawa':[1,1,1], 'Loery':[1,1,0]}\n",
    "        >>> br = bitter_rivals(voting_dict)\n",
    "        >>> br == ('Fox-Epstein', 'Oyakawa') or br == ('Oyakawa', 'Fox-Epstein')\n",
    "        True\n",
    "    \"\"\"\n",
    "    df = pd.DataFrame(voting_dict)\n",
    "    mat = df.as_matrix()\n",
    "    sen_names =  list(voting_dict.keys())\n",
    "    comps_mat = mat.T.dot(mat)\n",
    "    comp_min = comps_mat.min()\n",
    "    min_index = list(zip(*np.where(comps_mat == comp_min)))[0]\n",
    "    return (sen_names[min_index[0]], sen_names[min_index[1]])\n",
    "\n"
   ]
  }
 ],
 "metadata": {
  "kernelspec": {
   "display_name": "Python 3",
   "language": "python",
   "name": "python3"
  },
  "language_info": {
   "codemirror_mode": {
    "name": "ipython",
    "version": 3
   },
   "file_extension": ".py",
   "mimetype": "text/x-python",
   "name": "python",
   "nbconvert_exporter": "python",
   "pygments_lexer": "ipython3",
   "version": "3.6.3"
  }
 },
 "nbformat": 4,
 "nbformat_minor": 2
}
