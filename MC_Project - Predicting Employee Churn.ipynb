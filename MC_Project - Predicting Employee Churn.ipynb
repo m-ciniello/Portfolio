{
 "cells": [
  {
   "cell_type": "markdown",
   "metadata": {},
   "source": [
    "# Predicting Employee Churn\n",
    "The purpose of this analysis is to predict when an employee will leave the company, based on standard metrics like employee satisfaction, vacation time, etc. \n",
    "After some quick exploratory analysis and data cleaning, we will toss a bunch of ML algorithms at the data and try to make some predictions!\n"
   ]
  },
  {
   "cell_type": "markdown",
   "metadata": {},
   "source": [
    "# 1. Import Data"
   ]
  },
  {
   "cell_type": "code",
   "execution_count": 27,
   "metadata": {},
   "outputs": [
    {
     "name": "stdout",
     "output_type": "stream",
     "text": [
      "<class 'pandas.core.frame.DataFrame'>\n",
      "RangeIndex: 14999 entries, 0 to 14998\n",
      "Data columns (total 10 columns):\n",
      "satisfaction            14999 non-null float64\n",
      "evaluation              14999 non-null float64\n",
      "number_of_projects      14999 non-null int64\n",
      "average_montly_hours    14999 non-null int64\n",
      "time_spend_company      14999 non-null int64\n",
      "work_accident           14999 non-null int64\n",
      "churn                   14999 non-null int64\n",
      "promotion               14999 non-null int64\n",
      "department              14999 non-null object\n",
      "salary                  14999 non-null object\n",
      "dtypes: float64(2), int64(6), object(2)\n",
      "memory usage: 1.1+ MB\n"
     ]
    }
   ],
   "source": [
    "import pandas as pd\n",
    "data = pd.read_csv(\"turnover.csv\")\n",
    "data.info()"
   ]
  },
  {
   "cell_type": "code",
   "execution_count": 14,
   "metadata": {},
   "outputs": [
    {
     "data": {
      "text/html": [
       "<div>\n",
       "<style scoped>\n",
       "    .dataframe tbody tr th:only-of-type {\n",
       "        vertical-align: middle;\n",
       "    }\n",
       "\n",
       "    .dataframe tbody tr th {\n",
       "        vertical-align: top;\n",
       "    }\n",
       "\n",
       "    .dataframe thead th {\n",
       "        text-align: right;\n",
       "    }\n",
       "</style>\n",
       "<table border=\"1\" class=\"dataframe\">\n",
       "  <thead>\n",
       "    <tr style=\"text-align: right;\">\n",
       "      <th></th>\n",
       "      <th>satisfaction</th>\n",
       "      <th>evaluation</th>\n",
       "      <th>number_of_projects</th>\n",
       "      <th>average_montly_hours</th>\n",
       "      <th>time_spend_company</th>\n",
       "      <th>work_accident</th>\n",
       "      <th>churn</th>\n",
       "      <th>promotion</th>\n",
       "      <th>department</th>\n",
       "      <th>salary</th>\n",
       "    </tr>\n",
       "  </thead>\n",
       "  <tbody>\n",
       "    <tr>\n",
       "      <th>0</th>\n",
       "      <td>0.38</td>\n",
       "      <td>0.53</td>\n",
       "      <td>2</td>\n",
       "      <td>157</td>\n",
       "      <td>3</td>\n",
       "      <td>0</td>\n",
       "      <td>1</td>\n",
       "      <td>0</td>\n",
       "      <td>sales</td>\n",
       "      <td>low</td>\n",
       "    </tr>\n",
       "    <tr>\n",
       "      <th>1</th>\n",
       "      <td>0.80</td>\n",
       "      <td>0.86</td>\n",
       "      <td>5</td>\n",
       "      <td>262</td>\n",
       "      <td>6</td>\n",
       "      <td>0</td>\n",
       "      <td>1</td>\n",
       "      <td>0</td>\n",
       "      <td>sales</td>\n",
       "      <td>medium</td>\n",
       "    </tr>\n",
       "    <tr>\n",
       "      <th>2</th>\n",
       "      <td>0.11</td>\n",
       "      <td>0.88</td>\n",
       "      <td>7</td>\n",
       "      <td>272</td>\n",
       "      <td>4</td>\n",
       "      <td>0</td>\n",
       "      <td>1</td>\n",
       "      <td>0</td>\n",
       "      <td>sales</td>\n",
       "      <td>medium</td>\n",
       "    </tr>\n",
       "    <tr>\n",
       "      <th>3</th>\n",
       "      <td>0.72</td>\n",
       "      <td>0.87</td>\n",
       "      <td>5</td>\n",
       "      <td>223</td>\n",
       "      <td>5</td>\n",
       "      <td>0</td>\n",
       "      <td>1</td>\n",
       "      <td>0</td>\n",
       "      <td>sales</td>\n",
       "      <td>low</td>\n",
       "    </tr>\n",
       "    <tr>\n",
       "      <th>4</th>\n",
       "      <td>0.37</td>\n",
       "      <td>0.52</td>\n",
       "      <td>2</td>\n",
       "      <td>159</td>\n",
       "      <td>3</td>\n",
       "      <td>0</td>\n",
       "      <td>1</td>\n",
       "      <td>0</td>\n",
       "      <td>sales</td>\n",
       "      <td>low</td>\n",
       "    </tr>\n",
       "  </tbody>\n",
       "</table>\n",
       "</div>"
      ],
      "text/plain": [
       "   satisfaction  evaluation  number_of_projects  average_montly_hours  \\\n",
       "0          0.38        0.53                   2                   157   \n",
       "1          0.80        0.86                   5                   262   \n",
       "2          0.11        0.88                   7                   272   \n",
       "3          0.72        0.87                   5                   223   \n",
       "4          0.37        0.52                   2                   159   \n",
       "\n",
       "   time_spend_company  work_accident  churn  promotion department  salary  \n",
       "0                   3              0      1          0      sales     low  \n",
       "1                   6              0      1          0      sales  medium  \n",
       "2                   4              0      1          0      sales  medium  \n",
       "3                   5              0      1          0      sales     low  \n",
       "4                   3              0      1          0      sales     low  "
      ]
     },
     "execution_count": 14,
     "metadata": {},
     "output_type": "execute_result"
    }
   ],
   "source": [
    "data.head()"
   ]
  },
  {
   "cell_type": "markdown",
   "metadata": {},
   "source": [
    "# 2. Transform Categorical Variables\n",
    "#### FYI: Here are some useful 'category' methods\n",
    "```\n",
    " s.cat.categories\n",
    " s.cat.categories = list('abc')\n",
    " s.cat.rename_categories(list('cab'))\n",
    " s.cat.reorder_categories(list('cab'))\n",
    " s.cat.add_categories(['d','e'])\n",
    " s.cat.remove_categories(['d'])\n",
    " s.cat.remove_unused_categories()\n",
    " s.cat.set_categories(list('abcde'))\n",
    " s.cat.as_ordered()\n",
    " s.cat.as_unordered() ```"
   ]
  },
  {
   "cell_type": "code",
   "execution_count": 15,
   "metadata": {},
   "outputs": [
    {
     "name": "stdout",
     "output_type": "stream",
     "text": [
      "['low' 'medium' 'high']\n",
      "['sales' 'accounting' 'hr' 'technical' 'support' 'management' 'IT'\n",
      " 'product_mng' 'marketing' 'RandD']\n"
     ]
    }
   ],
   "source": [
    "print(data.salary.unique())\n",
    "print(data.department.unique())"
   ]
  },
  {
   "cell_type": "markdown",
   "metadata": {},
   "source": [
    "### Salary column"
   ]
  },
  {
   "cell_type": "code",
   "execution_count": 28,
   "metadata": {},
   "outputs": [
    {
     "data": {
      "text/plain": [
       "0    0\n",
       "1    1\n",
       "2    1\n",
       "3    0\n",
       "4    0\n",
       "Name: salary, dtype: int8"
      ]
     },
     "execution_count": 28,
     "metadata": {},
     "output_type": "execute_result"
    }
   ],
   "source": [
    "# Change the type of the \"salary\" column to categorical\n",
    "data.salary = data.salary.astype('category')\n",
    "\n",
    "# Provide the correct order of categories\n",
    "data.salary = data.salary.cat.reorder_categories(['low', 'medium', 'high'])\n",
    "\n",
    "# Encode categories\n",
    "data.salary = data.salary.cat.codes\n",
    "data.salary[0:5]"
   ]
  },
  {
   "cell_type": "markdown",
   "metadata": {},
   "source": [
    "### Department column\n",
    "\n",
    "#### PROTIP: Avoid the dummy trap!\n",
    "- A dummy trap is a situation where different dummy variables convey the same information. In this case, if an employee is, say, from the accounting department (i.e. value in the accounting column is 1), then you're certain that s/he is not from any other department (values everywhere else are 0). Thus, you could actually learn about his/her department by looking at all the other departments.\n",
    "- For that reason, **whenever n dummies are created (in your case, 10), only n - 1 (in your case, 9) of them are enough, and the n-th column's information is already included.**\n",
    "- Therefore, you will get rid of the old department column, drop one of the department dummies to avoid dummy trap, and then the two DataFrames."
   ]
  },
  {
   "cell_type": "code",
   "execution_count": 31,
   "metadata": {},
   "outputs": [
    {
     "data": {
      "text/html": [
       "<div>\n",
       "<style scoped>\n",
       "    .dataframe tbody tr th:only-of-type {\n",
       "        vertical-align: middle;\n",
       "    }\n",
       "\n",
       "    .dataframe tbody tr th {\n",
       "        vertical-align: top;\n",
       "    }\n",
       "\n",
       "    .dataframe thead th {\n",
       "        text-align: right;\n",
       "    }\n",
       "</style>\n",
       "<table border=\"1\" class=\"dataframe\">\n",
       "  <thead>\n",
       "    <tr style=\"text-align: right;\">\n",
       "      <th></th>\n",
       "      <th>satisfaction</th>\n",
       "      <th>evaluation</th>\n",
       "      <th>number_of_projects</th>\n",
       "      <th>average_montly_hours</th>\n",
       "      <th>time_spend_company</th>\n",
       "      <th>work_accident</th>\n",
       "      <th>churn</th>\n",
       "      <th>promotion</th>\n",
       "      <th>salary</th>\n",
       "      <th>IT</th>\n",
       "      <th>RandD</th>\n",
       "      <th>hr</th>\n",
       "      <th>management</th>\n",
       "      <th>marketing</th>\n",
       "      <th>product_mng</th>\n",
       "      <th>sales</th>\n",
       "      <th>support</th>\n",
       "      <th>technical</th>\n",
       "    </tr>\n",
       "  </thead>\n",
       "  <tbody>\n",
       "    <tr>\n",
       "      <th>0</th>\n",
       "      <td>0.38</td>\n",
       "      <td>0.53</td>\n",
       "      <td>2</td>\n",
       "      <td>157</td>\n",
       "      <td>3</td>\n",
       "      <td>0</td>\n",
       "      <td>1</td>\n",
       "      <td>0</td>\n",
       "      <td>0</td>\n",
       "      <td>0</td>\n",
       "      <td>0</td>\n",
       "      <td>0</td>\n",
       "      <td>0</td>\n",
       "      <td>0</td>\n",
       "      <td>0</td>\n",
       "      <td>1</td>\n",
       "      <td>0</td>\n",
       "      <td>0</td>\n",
       "    </tr>\n",
       "    <tr>\n",
       "      <th>1</th>\n",
       "      <td>0.80</td>\n",
       "      <td>0.86</td>\n",
       "      <td>5</td>\n",
       "      <td>262</td>\n",
       "      <td>6</td>\n",
       "      <td>0</td>\n",
       "      <td>1</td>\n",
       "      <td>0</td>\n",
       "      <td>1</td>\n",
       "      <td>0</td>\n",
       "      <td>0</td>\n",
       "      <td>0</td>\n",
       "      <td>0</td>\n",
       "      <td>0</td>\n",
       "      <td>0</td>\n",
       "      <td>1</td>\n",
       "      <td>0</td>\n",
       "      <td>0</td>\n",
       "    </tr>\n",
       "    <tr>\n",
       "      <th>2</th>\n",
       "      <td>0.11</td>\n",
       "      <td>0.88</td>\n",
       "      <td>7</td>\n",
       "      <td>272</td>\n",
       "      <td>4</td>\n",
       "      <td>0</td>\n",
       "      <td>1</td>\n",
       "      <td>0</td>\n",
       "      <td>1</td>\n",
       "      <td>0</td>\n",
       "      <td>0</td>\n",
       "      <td>0</td>\n",
       "      <td>0</td>\n",
       "      <td>0</td>\n",
       "      <td>0</td>\n",
       "      <td>1</td>\n",
       "      <td>0</td>\n",
       "      <td>0</td>\n",
       "    </tr>\n",
       "    <tr>\n",
       "      <th>3</th>\n",
       "      <td>0.72</td>\n",
       "      <td>0.87</td>\n",
       "      <td>5</td>\n",
       "      <td>223</td>\n",
       "      <td>5</td>\n",
       "      <td>0</td>\n",
       "      <td>1</td>\n",
       "      <td>0</td>\n",
       "      <td>0</td>\n",
       "      <td>0</td>\n",
       "      <td>0</td>\n",
       "      <td>0</td>\n",
       "      <td>0</td>\n",
       "      <td>0</td>\n",
       "      <td>0</td>\n",
       "      <td>1</td>\n",
       "      <td>0</td>\n",
       "      <td>0</td>\n",
       "    </tr>\n",
       "    <tr>\n",
       "      <th>4</th>\n",
       "      <td>0.37</td>\n",
       "      <td>0.52</td>\n",
       "      <td>2</td>\n",
       "      <td>159</td>\n",
       "      <td>3</td>\n",
       "      <td>0</td>\n",
       "      <td>1</td>\n",
       "      <td>0</td>\n",
       "      <td>0</td>\n",
       "      <td>0</td>\n",
       "      <td>0</td>\n",
       "      <td>0</td>\n",
       "      <td>0</td>\n",
       "      <td>0</td>\n",
       "      <td>0</td>\n",
       "      <td>1</td>\n",
       "      <td>0</td>\n",
       "      <td>0</td>\n",
       "    </tr>\n",
       "  </tbody>\n",
       "</table>\n",
       "</div>"
      ],
      "text/plain": [
       "   satisfaction  evaluation  number_of_projects  average_montly_hours  \\\n",
       "0          0.38        0.53                   2                   157   \n",
       "1          0.80        0.86                   5                   262   \n",
       "2          0.11        0.88                   7                   272   \n",
       "3          0.72        0.87                   5                   223   \n",
       "4          0.37        0.52                   2                   159   \n",
       "\n",
       "   time_spend_company  work_accident  churn  promotion  salary  IT  RandD  hr  \\\n",
       "0                   3              0      1          0       0   0      0   0   \n",
       "1                   6              0      1          0       1   0      0   0   \n",
       "2                   4              0      1          0       1   0      0   0   \n",
       "3                   5              0      1          0       0   0      0   0   \n",
       "4                   3              0      1          0       0   0      0   0   \n",
       "\n",
       "   management  marketing  product_mng  sales  support  technical  \n",
       "0           0          0            0      1        0          0  \n",
       "1           0          0            0      1        0          0  \n",
       "2           0          0            0      1        0          0  \n",
       "3           0          0            0      1        0          0  \n",
       "4           0          0            0      1        0          0  "
      ]
     },
     "execution_count": 31,
     "metadata": {},
     "output_type": "execute_result"
    }
   ],
   "source": [
    "# Get dummies and save them inside a new DataFrame\n",
    "departments = pd.get_dummies(data.department)\n",
    "\n",
    "# Drop the \"accounting\" column to avoid \"dummy trap\"\n",
    "departments = departments.drop(\"accounting\", axis=1)\n",
    "\n",
    "# Drop the old column \"department\" as you don't need it anymore\n",
    "data = data.drop(\"department\", axis=1)\n",
    "\n",
    "# Join the new dataframe \"departments\" to your employee dataset: done\n",
    "data = data.join(departments)\n",
    "data.head()"
   ]
  },
  {
   "cell_type": "markdown",
   "metadata": {},
   "source": [
    "# 3. Descriptive Statistics"
   ]
  },
  {
   "cell_type": "code",
   "execution_count": 32,
   "metadata": {},
   "outputs": [
    {
     "name": "stdout",
     "output_type": "stream",
     "text": [
      "0    11428\n",
      "1     3571\n",
      "Name: churn, dtype: int64\n",
      "0    76.191746\n",
      "1    23.808254\n",
      "Name: churn, dtype: float64\n"
     ]
    }
   ],
   "source": [
    "# Get the total number of observations and save it as the number of employees\n",
    "n_employees = len(data)\n",
    "\n",
    "# Print the number of employees who left/stayed\n",
    "print(data.churn.value_counts())\n",
    "\n",
    "# Print the percentage of employees who left/stayed\n",
    "print(data.churn.value_counts()/n_employees*100)"
   ]
  },
  {
   "cell_type": "code",
   "execution_count": 60,
   "metadata": {},
   "outputs": [
    {
     "data": {
      "image/png": "[encoded data removed]",
      "text/plain": [
       "<matplotlib.figure.Figure at 0x19a584203c8>"
      ]
     },
     "metadata": {},
     "output_type": "display_data"
    }
   ],
   "source": [
    "import seaborn as sb\n",
    "import matplotlib.pyplot as plt\n",
    "corr_matrix = data.corr()\n",
    "plt.figure(figsize=(15,10))\n",
    "sb.heatmap(corr_matrix, cbar=True, annot=True, fmt='.2f')\n",
    "plt.show()"
   ]
  },
  {
   "cell_type": "markdown",
   "metadata": {},
   "source": [
    "# 4. Build the model"
   ]
  },
  {
   "cell_type": "markdown",
   "metadata": {},
   "source": [
    "### Seperate Train/Test data"
   ]
  },
  {
   "cell_type": "code",
   "execution_count": 252,
   "metadata": {},
   "outputs": [
    {
     "name": "stdout",
     "output_type": "stream",
     "text": [
      "(11249, 17)\n",
      "(11249,)\n",
      "0.238065605832\n",
      "0.238133333333\n"
     ]
    }
   ],
   "source": [
    "# Set the target and features\n",
    "# Choose the dependent variable column (churn) and set it as target\n",
    "y = data.churn\n",
    "\n",
    "# Drop column churn and set everything else as features\n",
    "X = data.drop(\"churn\",axis=1)\n",
    "\n",
    "# Import the function for splitting dataset into train and test\n",
    "from sklearn.model_selection import train_test_split\n",
    "\n",
    "# Use that function to create the splits both for target and for features\n",
    "# Set the test sample to be 25% of your observations\n",
    "X_train, X_test, y_train, y_test = train_test_split(X, y, test_size=0.25, random_state=42, stratify=y)\n",
    "print(X_train.shape)\n",
    "print(y_train.shape)\n",
    "\n",
    "# Ensure stratification worked so classes are qual in train and test sets\n",
    "print(y_train.sum()/y_train.shape[0])\n",
    "print(y_test.sum()/y_test.shape[0])"
   ]
  },
  {
   "cell_type": "markdown",
   "metadata": {},
   "source": [
    "### Try single DT"
   ]
  },
  {
   "cell_type": "markdown",
   "metadata": {},
   "source": [
    "`DecisionTreeClassifier(criterion='gini', splitter='best', max_depth=None, min_samples_split=2, min_samples_leaf=1, min_weight_fraction_leaf=0.0, max_features=None, random_state=None, max_leaf_nodes=None, min_impurity_decrease=0.0, min_impurity_split=None, class_weight=None, presort=False)`"
   ]
  },
  {
   "cell_type": "code",
   "execution_count": 101,
   "metadata": {},
   "outputs": [
    {
     "name": "stdout",
     "output_type": "stream",
     "text": [
      "Accuracy: 0.972266666667\n"
     ]
    },
    {
     "data": {
      "text/html": [
       "<div>\n",
       "<style scoped>\n",
       "    .dataframe tbody tr th:only-of-type {\n",
       "        vertical-align: middle;\n",
       "    }\n",
       "\n",
       "    .dataframe tbody tr th {\n",
       "        vertical-align: top;\n",
       "    }\n",
       "\n",
       "    .dataframe thead th {\n",
       "        text-align: right;\n",
       "    }\n",
       "</style>\n",
       "<table border=\"1\" class=\"dataframe\">\n",
       "  <thead>\n",
       "    <tr style=\"text-align: right;\">\n",
       "      <th></th>\n",
       "      <th>Features</th>\n",
       "      <th>Importance</th>\n",
       "    </tr>\n",
       "  </thead>\n",
       "  <tbody>\n",
       "    <tr>\n",
       "      <th>0</th>\n",
       "      <td>satisfaction</td>\n",
       "      <td>0.499958</td>\n",
       "    </tr>\n",
       "    <tr>\n",
       "      <th>1</th>\n",
       "      <td>evaluation</td>\n",
       "      <td>0.153005</td>\n",
       "    </tr>\n",
       "    <tr>\n",
       "      <th>4</th>\n",
       "      <td>time_spend_company</td>\n",
       "      <td>0.139567</td>\n",
       "    </tr>\n",
       "    <tr>\n",
       "      <th>2</th>\n",
       "      <td>number_of_projects</td>\n",
       "      <td>0.098877</td>\n",
       "    </tr>\n",
       "    <tr>\n",
       "      <th>3</th>\n",
       "      <td>average_montly_hours</td>\n",
       "      <td>0.088262</td>\n",
       "    </tr>\n",
       "  </tbody>\n",
       "</table>\n",
       "</div>"
      ],
      "text/plain": [
       "               Features  Importance\n",
       "0          satisfaction    0.499958\n",
       "1            evaluation    0.153005\n",
       "4    time_spend_company    0.139567\n",
       "2    number_of_projects    0.098877\n",
       "3  average_montly_hours    0.088262"
      ]
     },
     "execution_count": 101,
     "metadata": {},
     "output_type": "execute_result"
    }
   ],
   "source": [
    "from sklearn.tree import DecisionTreeClassifier\n",
    "from sklearn.tree import export_graphviz\n",
    "from sklearn.externals.six import StringIO  \n",
    "from IPython.display import Image  \n",
    "import pydotplus\n",
    "\n",
    "# first try a single DecisionTree\n",
    "model = DecisionTreeClassifier(random_state=42)\n",
    "model.fit(X_train, y_train)\n",
    "\n",
    "print(\"Accuracy:\", model.score(X_test, y_test))\n",
    "\n",
    "# Put the content of 'tree.dot' into http://webgraphviz.com/ to generate DecisionTree diagram... not that useful though\n",
    "export_graphviz(model,'tree.dot')\n",
    "\n",
    "pd.DataFrame({'Features':X.columns, 'Importance': model.feature_importances_}).sort_values('Importance', ascending=False)[0:5]"
   ]
  },
  {
   "cell_type": "markdown",
   "metadata": {},
   "source": [
    "### Try RandomForest"
   ]
  },
  {
   "cell_type": "markdown",
   "metadata": {},
   "source": [
    "`RandomForestClassifier(n_estimators=10, criterion='gini', max_depth=None, min_samples_split=2, min_samples_leaf=1, min_weight_fraction_leaf=0.0, max_features='auto', max_leaf_nodes=None, min_impurity_decrease=0.0, min_impurity_split=None, bootstrap=True, oob_score=False, n_jobs=1, random_state=None, verbose=0, warm_start=False, class_weight=None)`"
   ]
  },
  {
   "cell_type": "code",
   "execution_count": 102,
   "metadata": {},
   "outputs": [
    {
     "name": "stdout",
     "output_type": "stream",
     "text": [
      "Accuracy: 0.986933333333\n"
     ]
    },
    {
     "data": {
      "text/html": [
       "<div>\n",
       "<style scoped>\n",
       "    .dataframe tbody tr th:only-of-type {\n",
       "        vertical-align: middle;\n",
       "    }\n",
       "\n",
       "    .dataframe tbody tr th {\n",
       "        vertical-align: top;\n",
       "    }\n",
       "\n",
       "    .dataframe thead th {\n",
       "        text-align: right;\n",
       "    }\n",
       "</style>\n",
       "<table border=\"1\" class=\"dataframe\">\n",
       "  <thead>\n",
       "    <tr style=\"text-align: right;\">\n",
       "      <th></th>\n",
       "      <th>Features</th>\n",
       "      <th>Importance</th>\n",
       "    </tr>\n",
       "  </thead>\n",
       "  <tbody>\n",
       "    <tr>\n",
       "      <th>0</th>\n",
       "      <td>satisfaction</td>\n",
       "      <td>0.309970</td>\n",
       "    </tr>\n",
       "    <tr>\n",
       "      <th>4</th>\n",
       "      <td>time_spend_company</td>\n",
       "      <td>0.192297</td>\n",
       "    </tr>\n",
       "    <tr>\n",
       "      <th>3</th>\n",
       "      <td>average_montly_hours</td>\n",
       "      <td>0.174615</td>\n",
       "    </tr>\n",
       "    <tr>\n",
       "      <th>2</th>\n",
       "      <td>number_of_projects</td>\n",
       "      <td>0.172700</td>\n",
       "    </tr>\n",
       "    <tr>\n",
       "      <th>1</th>\n",
       "      <td>evaluation</td>\n",
       "      <td>0.109611</td>\n",
       "    </tr>\n",
       "  </tbody>\n",
       "</table>\n",
       "</div>"
      ],
      "text/plain": [
       "               Features  Importance\n",
       "0          satisfaction    0.309970\n",
       "4    time_spend_company    0.192297\n",
       "3  average_montly_hours    0.174615\n",
       "2    number_of_projects    0.172700\n",
       "1            evaluation    0.109611"
      ]
     },
     "execution_count": 102,
     "metadata": {},
     "output_type": "execute_result"
    }
   ],
   "source": [
    "# First try a random forest\n",
    "from sklearn.ensemble import RandomForestClassifier\n",
    "model = RandomForestClassifier(random_state=42)\n",
    "model.fit(X_train, y_train)\n",
    "print(\"Accuracy:\", model.score(X_test, y_test))\n",
    "pd.DataFrame({'Features':X.columns, 'Importance': model.feature_importances_}).sort_values('Importance', ascending=False)[0:5]"
   ]
  },
  {
   "cell_type": "markdown",
   "metadata": {},
   "source": [
    "### Try Voting Classifer"
   ]
  },
  {
   "cell_type": "markdown",
   "metadata": {},
   "source": [
    "`VotingClassifier(estimators, voting='hard', weights=None, n_jobs=1, flatten_transform=None)`"
   ]
  },
  {
   "cell_type": "code",
   "execution_count": 293,
   "metadata": {},
   "outputs": [
    {
     "name": "stdout",
     "output_type": "stream",
     "text": [
      "Accuracy: 0.974133333333\n"
     ]
    }
   ],
   "source": [
    "import scipy as sp\n",
    "from sklearn.ensemble import RandomForestClassifier\n",
    "from sklearn.ensemble import VotingClassifier\n",
    "from sklearn.tree import DecisionTreeClassifier\n",
    "from sklearn.model_selection import RandomizedSearchCV\n",
    "\n",
    "clf1 = DecisionTreeClassifier()\n",
    "clf2 = RandomForestClassifier(random_state=1)\n",
    "clf_vote = VotingClassifier(estimators=[('dt', clf1), ('rf', clf2)], voting='soft')\n",
    "\n",
    "params = {'dt__max_depth': sp.stats.randint(3,10), 'rf__max_depth':sp.stats.randint(3,10), \n",
    "          'dt__min_samples_leaf': sp.stats.randint(10,200), 'rf__min_samples_leaf':sp.stats.randint(2,200)}\n",
    "\n",
    "rnd_search = RandomizedSearchCV(clf_vote, param_distributions=params,\n",
    "                                n_iter=10, return_train_score=True)\n",
    "\n",
    "rnd_search.fit(X_train, y_train)\n",
    "print(\"Accuracy:\", rnd_search.score(X_test, y_test))"
   ]
  },
  {
   "cell_type": "markdown",
   "metadata": {},
   "source": [
    "# 5. Tune RandomForest Model with RandomizedSearchCV\n",
    "```\n",
    "RandomizedSearchCV(estimator, param_distributions, n_iter=10, scoring=None, fit_params=None, n_jobs=1, iid=True, refit=True, cv=None, verbose=0, pre_dispatch='2*n_jobs', random_state=None, error_score='raise', return_train_score='warn')\n",
    "```"
   ]
  },
  {
   "cell_type": "code",
   "execution_count": 332,
   "metadata": {},
   "outputs": [
    {
     "name": "stdout",
     "output_type": "stream",
     "text": [
      "Accuracy: 0.987229260679\n",
      "Best params: {'class_weight': None, 'max_depth': 10, 'min_samples_leaf': 14}\n"
     ]
    }
   ],
   "source": [
    "from sklearn.model_selection import RandomizedSearchCV\n",
    "import scipy as sp\n",
    "\n",
    "# Set estimator\n",
    "model = RandomForestClassifier(random_state=42, criterion='gini', max_features='auto', n_estimators=50)\n",
    "# Set param grid\n",
    "params = {'max_depth':sp.stats.randint(4,15),\n",
    "          'min_samples_leaf': sp.stats.randint(10,200), \n",
    "          'class_weight':['balanced', None]}\n",
    "\n",
    "# Set RSCV, MAKE SURE TO USE ROC SCORNG\n",
    "rnd_search = RandomizedSearchCV(estimator=model, \n",
    "                   param_distributions=params, \n",
    "                   n_iter=50, \n",
    "                   scoring='roc_auc', \n",
    "                   cv=3,\n",
    "                   refit=True,\n",
    "                    return_train_score=True)\n",
    "\n",
    "# Run model\n",
    "rnd_search.fit(X_train, y_train)\n",
    "print(\"Accuracy:\", rnd_search.score(X_test, y_test))\n",
    "print(\"Best params:\", rnd_search.best_params_)"
   ]
  },
  {
   "cell_type": "code",
   "execution_count": 317,
   "metadata": {},
   "outputs": [
    {
     "data": {
      "text/html": [
       "<div>\n",
       "<style scoped>\n",
       "    .dataframe tbody tr th:only-of-type {\n",
       "        vertical-align: middle;\n",
       "    }\n",
       "\n",
       "    .dataframe tbody tr th {\n",
       "        vertical-align: top;\n",
       "    }\n",
       "\n",
       "    .dataframe thead th {\n",
       "        text-align: right;\n",
       "    }\n",
       "</style>\n",
       "<table border=\"1\" class=\"dataframe\">\n",
       "  <thead>\n",
       "    <tr style=\"text-align: right;\">\n",
       "      <th></th>\n",
       "      <th>mean_test_score</th>\n",
       "      <th>std_test_score</th>\n",
       "      <th>mean_train_score</th>\n",
       "      <th>std_train_score</th>\n",
       "      <th>param_max_depth</th>\n",
       "      <th>param_min_samples_leaf</th>\n",
       "      <th>param_class_weight</th>\n",
       "    </tr>\n",
       "  </thead>\n",
       "  <tbody>\n",
       "    <tr>\n",
       "      <th>0</th>\n",
       "      <td>0.985719</td>\n",
       "      <td>0.002451</td>\n",
       "      <td>0.991680</td>\n",
       "      <td>0.000203</td>\n",
       "      <td>13</td>\n",
       "      <td>19</td>\n",
       "      <td>None</td>\n",
       "    </tr>\n",
       "    <tr>\n",
       "      <th>1</th>\n",
       "      <td>0.985204</td>\n",
       "      <td>0.002463</td>\n",
       "      <td>0.991480</td>\n",
       "      <td>0.000531</td>\n",
       "      <td>11</td>\n",
       "      <td>25</td>\n",
       "      <td>balanced</td>\n",
       "    </tr>\n",
       "    <tr>\n",
       "      <th>2</th>\n",
       "      <td>0.983757</td>\n",
       "      <td>0.002558</td>\n",
       "      <td>0.989704</td>\n",
       "      <td>0.000239</td>\n",
       "      <td>10</td>\n",
       "      <td>21</td>\n",
       "      <td>None</td>\n",
       "    </tr>\n",
       "    <tr>\n",
       "      <th>3</th>\n",
       "      <td>0.982740</td>\n",
       "      <td>0.002327</td>\n",
       "      <td>0.988336</td>\n",
       "      <td>0.000425</td>\n",
       "      <td>10</td>\n",
       "      <td>26</td>\n",
       "      <td>None</td>\n",
       "    </tr>\n",
       "    <tr>\n",
       "      <th>4</th>\n",
       "      <td>0.980986</td>\n",
       "      <td>0.002156</td>\n",
       "      <td>0.984566</td>\n",
       "      <td>0.000795</td>\n",
       "      <td>7</td>\n",
       "      <td>21</td>\n",
       "      <td>None</td>\n",
       "    </tr>\n",
       "    <tr>\n",
       "      <th>5</th>\n",
       "      <td>0.980792</td>\n",
       "      <td>0.002676</td>\n",
       "      <td>0.984424</td>\n",
       "      <td>0.000623</td>\n",
       "      <td>14</td>\n",
       "      <td>64</td>\n",
       "      <td>balanced</td>\n",
       "    </tr>\n",
       "    <tr>\n",
       "      <th>6</th>\n",
       "      <td>0.979835</td>\n",
       "      <td>0.002910</td>\n",
       "      <td>0.983232</td>\n",
       "      <td>0.000896</td>\n",
       "      <td>10</td>\n",
       "      <td>73</td>\n",
       "      <td>balanced</td>\n",
       "    </tr>\n",
       "    <tr>\n",
       "      <th>7</th>\n",
       "      <td>0.979658</td>\n",
       "      <td>0.001134</td>\n",
       "      <td>0.983707</td>\n",
       "      <td>0.001081</td>\n",
       "      <td>6</td>\n",
       "      <td>11</td>\n",
       "      <td>None</td>\n",
       "    </tr>\n",
       "    <tr>\n",
       "      <th>8</th>\n",
       "      <td>0.979201</td>\n",
       "      <td>0.002923</td>\n",
       "      <td>0.982187</td>\n",
       "      <td>0.000505</td>\n",
       "      <td>8</td>\n",
       "      <td>73</td>\n",
       "      <td>balanced</td>\n",
       "    </tr>\n",
       "    <tr>\n",
       "      <th>9</th>\n",
       "      <td>0.978680</td>\n",
       "      <td>0.002797</td>\n",
       "      <td>0.980866</td>\n",
       "      <td>0.000732</td>\n",
       "      <td>7</td>\n",
       "      <td>62</td>\n",
       "      <td>None</td>\n",
       "    </tr>\n",
       "  </tbody>\n",
       "</table>\n",
       "</div>"
      ],
      "text/plain": [
       "   mean_test_score  std_test_score  mean_train_score  std_train_score  \\\n",
       "0         0.985719        0.002451          0.991680         0.000203   \n",
       "1         0.985204        0.002463          0.991480         0.000531   \n",
       "2         0.983757        0.002558          0.989704         0.000239   \n",
       "3         0.982740        0.002327          0.988336         0.000425   \n",
       "4         0.980986        0.002156          0.984566         0.000795   \n",
       "5         0.980792        0.002676          0.984424         0.000623   \n",
       "6         0.979835        0.002910          0.983232         0.000896   \n",
       "7         0.979658        0.001134          0.983707         0.001081   \n",
       "8         0.979201        0.002923          0.982187         0.000505   \n",
       "9         0.978680        0.002797          0.980866         0.000732   \n",
       "\n",
       "  param_max_depth param_min_samples_leaf param_class_weight  \n",
       "0              13                     19               None  \n",
       "1              11                     25           balanced  \n",
       "2              10                     21               None  \n",
       "3              10                     26               None  \n",
       "4               7                     21               None  \n",
       "5              14                     64           balanced  \n",
       "6              10                     73           balanced  \n",
       "7               6                     11               None  \n",
       "8               8                     73           balanced  \n",
       "9               7                     62               None  "
      ]
     },
     "execution_count": 317,
     "metadata": {},
     "output_type": "execute_result"
    }
   ],
   "source": [
    "score_cols = ['mean_test_score', 'std_test_score', 'mean_train_score', 'std_train_score', 'param_max_depth', 'param_min_samples_leaf', 'param_class_weight']\n",
    "\n",
    "pd.DataFrame(rnd_search.cv_results_).sort_values('mean_test_score', ascending=False)[score_cols].reset_index(drop=True)[0:10]"
   ]
  },
  {
   "cell_type": "markdown",
   "metadata": {},
   "source": [
    "# 6. Evaluate Model\n",
    "\n",
    "#### PRO TIP: Choose your evaluation metric based on your business objective\n",
    "- If target is leavers, focus in False Negative (FN): Priority is on identifying people at risk of leaving\n",
    "    - Recall = TP / (TP+FN) = % of correct predictions amoung true 1s (leavers)\n",
    "    - Focused on false negatives\n",
    "    - Lower FN, higher recall\n",
    "- If target is staying, focus on False Positive (FP): Prioirty is identifying people who are likely to stay\n",
    "    - Specificity = TN / (TN+FP) = % of correct predictions among true 0s (stayers)\n",
    "    - Lower FP, higher specificity score\n",
    "- Even if your target is 'leavers', you may also want to use the Precision Score:\n",
    "    - Precision = TP / (TP+FP) = % of true 1s (leavers) among those predicted to leave\n",
    "    - Focused on false positives\n",
    "    - Lower FP, higher Recall\n",
    "    - So if you have a Precision of 94%, then of your predicted 1s, only 94% were correct\n",
    "\n",
    "#### Remember:\n",
    "- Recall: Focused on False Negatives (how many positives you missed)\n",
    "- Precision: Focused on False Positives (how many predicted positves are wrong)"
   ]
  },
  {
   "cell_type": "code",
   "execution_count": 333,
   "metadata": {},
   "outputs": [
    {
     "name": "stdout",
     "output_type": "stream",
     "text": [
      "Accuracy: 0.975733333333\n",
      "Precision: 0.987834549878\n",
      "Recall: 0.909294512878\n",
      "\n",
      "Model identifies 90.929% of 'leavers'\n"
     ]
    }
   ],
   "source": [
    "from sklearn.metrics import precision_score\n",
    "from sklearn.metrics import accuracy_score\n",
    "from sklearn.metrics import recall_score\n",
    "from sklearn.metrics import confusion_matrix\n",
    "\n",
    "# Assign best_estimator_ from RandomSearchCV to model variable\n",
    "model = rnd_search.best_estimator_\n",
    "\n",
    "# Get model predictions\n",
    "y_hat = model.predict(X_test)\n",
    "\n",
    "# Print metrics\n",
    "print(\"Accuracy:\" , accuracy_score(y_test, y_hat))\n",
    "print(\"Precision:\" , precision_score(y_test, y_hat))\n",
    "print(\"Recall:\" , recall_score(y_test, y_hat))\n",
    "pd.DataFrame(confusion_matrix(y_test, y_hat),columns=['Stay','leave'], index=['Stay','leave'])\n",
    "print()\n",
    "print(\"Model identifies {:.3%} of 'leavers'\".format(recall_score(y_test, y_hat)))"
   ]
  },
  {
   "cell_type": "markdown",
   "metadata": {},
   "source": [
    "### Calculate the ROC\n",
    "- While recall score is important for measuring the percentage of positive cases you capture, it can put too much weight on the number of False Negatives. On the other hand, precision is concentrated on the number of False Positives\n",
    "- For example, if you built a model that **simply predicted 100% employee churn**:\n",
    "    - your FN would be 0, because you didn't predict any 0s, and therefore didnt incorrecyl classify any observations as negative\n",
    "    - Your FP would be super high, because you classifed EVERYTHING as positive\n",
    "    - **Recall score would be 100%** (because you captured all of the positive cases by default)\n",
    "    - **Precision score would be low**, because of the you have tons of false positives\n"
   ]
  },
  {
   "cell_type": "code",
   "execution_count": 319,
   "metadata": {},
   "outputs": [
    {
     "data": {
      "image/png": "[encoded data removed]",
      "text/plain": [
       "<matplotlib.figure.Figure at 0x19a58fef320>"
      ]
     },
     "metadata": {},
     "output_type": "display_data"
    }
   ],
   "source": [
    "from sklearn.metrics import roc_curve\n",
    "from sklearn.metrics import roc_auc_score\n",
    "fpr,tpr, thresholds = roc_curve(y_test, y_hat)\n",
    "\n",
    "def plot_roc_curve(fpr,tpr,lw, label=None):\n",
    "    plt.plot(fpr,tpr,linewidth=lw,label=label)\n",
    "    plt.plot([0,1],[0,1],'o--')\n",
    "    plt.axis([0,1,0,1])\n",
    "    plt.xlabel('False Positive Rate')\n",
    "    plt.ylabel('True Positive Rate')\n",
    "    plt.title(\"ROC AUC Score: \" + str(roc_auc_score(y_test,y_hat)))\n",
    "plot_roc_curve(fpr, tpr,lw=2)\n",
    "plt.show()"
   ]
  },
  {
   "cell_type": "markdown",
   "metadata": {},
   "source": [
    "# 7. Extract Feature Importances and Retrain Best RF Model\n",
    "- Feature importance for decision trees is calculated as the relative decrease in Gini due to the select feature (they may also be calculated using the average tree depth of a feature, as usually features lower in the tree are less important)\n",
    "- Importances are scaled up to sum to 100%, so the high percentage, the higher the importance\n"
   ]
  },
  {
   "cell_type": "code",
   "execution_count": 334,
   "metadata": {},
   "outputs": [
    {
     "name": "stdout",
     "output_type": "stream",
     "text": [
      "               features  importance\n",
      "0          satisfaction    0.337467\n",
      "4    time_spend_company    0.201247\n",
      "2    number_of_projects    0.190811\n",
      "3  average_montly_hours    0.132675\n",
      "1            evaluation    0.116380\n"
     ]
    }
   ],
   "source": [
    "# Extract feature importances\n",
    "feat_import = pd.DataFrame({'features':X.columns, 'importance': model.feature_importances_}).sort_values('importance', ascending=False)\n",
    "print(feat_import[0:5])\n",
    "\n",
    "# Extract meaningful features\n",
    "selected_feats = feat_import['features'][feat_import['importance']>0.01]"
   ]
  },
  {
   "cell_type": "code",
   "execution_count": 342,
   "metadata": {},
   "outputs": [
    {
     "name": "stdout",
     "output_type": "stream",
     "text": [
      "Accuracy: 0.9736\n",
      "Precision: 0.976019184652\n",
      "Recall: 0.911534154535\n",
      "Final auc_roc score: 0.953841981013\n",
      "Model identifies 91.153% of 'leavers'\n"
     ]
    }
   ],
   "source": [
    "# Retrain best model\n",
    "model2 = RandomForestClassifier(max_depth=13, min_samples_leaf=19, class_weight=None, n_estimators=10)\n",
    "model2.fit(X_train[selected_feats], y_train)\n",
    "y_hat = model2.predict(X_test[selected_feats])\n",
    "\n",
    "print(\"Accuracy:\" , accuracy_score(y_test, y_hat))\n",
    "print(\"Precision:\" , precision_score(y_test, y_hat))\n",
    "print(\"Recall:\" , recall_score(y_test, y_hat))\n",
    "print(\"Final auc_roc score:\" , roc_auc_score(y_test, predict2))\n",
    "\n",
    "print(\"Model identifies {:.3%} of 'leavers'\".format(recall_score(y_test, y_hat)))"
   ]
  },
  {
   "cell_type": "markdown",
   "metadata": {},
   "source": [
    "### Wooohooo! Our final model, with only 5 features slightly outperforms the models with 17 features! And it will probably train and predict faster in production piplines. "
   ]
  }
 ],
 "metadata": {
  "kernelspec": {
   "display_name": "Python 3",
   "language": "python",
   "name": "python3"
  },
  "language_info": {
   "codemirror_mode": {
    "name": "ipython",
    "version": 3
   },
   "file_extension": ".py",
   "mimetype": "text/x-python",
   "name": "python",
   "nbconvert_exporter": "python",
   "pygments_lexer": "ipython3",
   "version": "3.6.3"
  }
 },
 "nbformat": 4,
 "nbformat_minor": 2
}
