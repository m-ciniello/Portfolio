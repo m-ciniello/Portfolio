{
 "cells": [
  {
   "cell_type": "markdown",
   "metadata": {},
   "source": [
    "# Assignment 2: Monty Hall Problem\n",
    "Michael Ciniello\n",
    "qq201129"
   ]
  },
  {
   "cell_type": "code",
   "execution_count": 1,
   "metadata": {},
   "outputs": [
    {
     "name": "stdout",
     "output_type": "stream",
     "text": [
      "count    1000.000000\n",
      "mean        0.333853\n",
      "std         0.014606\n",
      "min         0.281000\n",
      "25%         0.324000\n",
      "50%         0.335000\n",
      "75%         0.344000\n",
      "max         0.383000\n",
      "Name: wins_ps, dtype: float64\n"
     ]
    },
    {
     "data": {
      "image/png": "[encoded data removed]",
      "text/plain": [
       "<matplotlib.figure.Figure at 0x8911080>"
      ]
     },
     "metadata": {},
     "output_type": "display_data"
    }
   ],
   "source": [
    "#import packages\n",
    "import numpy as np\n",
    "import matplotlib.pyplot as plt\n",
    "import pandas as pd\n",
    "\n",
    "#simulate select same door!\n",
    "win_percentage = []\n",
    "for sim in range(0,1000):\n",
    "    same_door = []\n",
    "    for i in range(0,1000):\n",
    "        #set up, 3 doors and 1 random car!\n",
    "        doors = [1,2,3]\n",
    "        car = np.random.randint(1,4)\n",
    "\n",
    "        #choose a door!\n",
    "        first_choice = np.random.randint(1,4)\n",
    "\n",
    "        #monty selects a door to open (other than my first choice)\n",
    "        if car == first_choice:\n",
    "            doors.remove(first_choice)\n",
    "        else:\n",
    "            doors.remove(first_choice)\n",
    "            doors.remove(car)\n",
    "        montys_pick = np.random.choice(doors)\n",
    "\n",
    "        #pick the same door\n",
    "        if first_choice == car:\n",
    "            same_door.append('Win')\n",
    "        else:\n",
    "            same_door.append('Loss')\n",
    "    df = pd.DataFrame({'wins':same_door})\n",
    "    win_percentage.append(df.wins.value_counts()[1]/len(df))\n",
    "\n",
    "df = pd.DataFrame({'wins_ps':win_percentage})\n",
    "print(df.wins_ps.describe())\n",
    "\n",
    "plt.hist(win_percentage,bins=20)\n",
    "plt.title('Distribution of Win Percentages')\n",
    "plt.xlabel('Win Percentage')\n",
    "plt.ylabel('Frequency')\n",
    "plt.grid(True)\n",
    "plt.show()"
   ]
  },
  {
   "cell_type": "markdown",
   "metadata": {},
   "source": [
    "It looks like, on average, we have about a 33% chance of winning if we stick with the door we initially selected. This makes sense because the door intially had a 1/3 chance of being the right one while the other 2 doors had a collective chance of 2/3. Ruling out the door Monty selects means that the remaining door has a 2/3 chance of having the car behind it!"
   ]
  }
 ],
 "metadata": {
  "kernelspec": {
   "display_name": "Python 3",
   "language": "python",
   "name": "python3"
  },
  "language_info": {
   "codemirror_mode": {
    "name": "ipython",
    "version": 3
   },
   "file_extension": ".py",
   "mimetype": "text/x-python",
   "name": "python",
   "nbconvert_exporter": "python",
   "pygments_lexer": "ipython3",
   "version": "3.6.3"
  }
 },
 "nbformat": 4,
 "nbformat_minor": 2
}
