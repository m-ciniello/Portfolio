{
 "cells": [
  {
   "cell_type": "markdown",
   "metadata": {},
   "source": [
    "# Assignment #1\n",
    "Michael Ciniello,\n",
    "Utor ID: qq201128 "
   ]
  },
  {
   "cell_type": "markdown",
   "metadata": {},
   "source": [
    "# Step 1: Import data\n",
    "1. check working directory\n",
    "2. move data to directory\n",
    "3. import data with pandas read_csv"
   ]
  },
  {
   "cell_type": "code",
   "execution_count": 3,
   "metadata": {},
   "outputs": [
    {
     "name": "stdout",
     "output_type": "stream",
     "text": [
      "C:\\Users\\mciniello\\Desktop\\Data Science Fundementals\\Statistics Class\\Assignments\n"
     ]
    }
   ],
   "source": [
    "# Check the working directory\n",
    "import os\n",
    "print(os.getcwd())"
   ]
  },
  {
   "cell_type": "code",
   "execution_count": 9,
   "metadata": {},
   "outputs": [
    {
     "name": "stdout",
     "output_type": "stream",
     "text": [
      "<class 'pandas.core.frame.DataFrame'>\n",
      "RangeIndex: 43 entries, 0 to 42\n",
      "Data columns (total 2 columns):\n",
      "Response     43 non-null int64\n",
      "Treatment    43 non-null object\n",
      "dtypes: int64(1), object(1)\n",
      "memory usage: 768.0+ bytes\n",
      "None\n"
     ]
    }
   ],
   "source": [
    "# Data has been saved in the approate folder. Time to upload!\n",
    "import pandas as pd\n",
    "import glob\n",
    "\n",
    "# Write gob pattern because I always forget how to spell mosquito (and there is only one CSV file)\n",
    "pattern = '*.csv'\n",
    "\n",
    "# Save all file matches: csv_files\n",
    "csv_files = glob.glob(pattern)\n",
    "file = csv_files[0]\n",
    "\n",
    "#upload\n",
    "data = pd.read_csv(file,header=0)\n",
    "print(data.info())\n"
   ]
  },
  {
   "cell_type": "markdown",
   "metadata": {},
   "source": [
    "# Step 2: Investigate Data\n",
    "1. Get value counts to understand size of each group\n",
    "2. Run .describe() on each group"
   ]
  },
  {
   "cell_type": "code",
   "execution_count": 10,
   "metadata": {},
   "outputs": [
    {
     "name": "stdout",
     "output_type": "stream",
     "text": [
      "Beer     25\n",
      "Water    18\n",
      "Name: Treatment, dtype: int64\n",
      "            beer      water\n",
      "count  25.000000  18.000000\n",
      "mean   23.600000  19.222222\n",
      "std     4.133199   3.671120\n",
      "min    17.000000  12.000000\n",
      "25%    20.000000  16.500000\n",
      "50%    24.000000  20.000000\n",
      "75%    27.000000  22.000000\n",
      "max    31.000000  24.000000\n"
     ]
    },
    {
     "data": {
      "image/png": "[encoded data removed]",
      "text/plain": [
       "<matplotlib.figure.Figure at 0x8e0c668>"
      ]
     },
     "metadata": {},
     "output_type": "display_data"
    }
   ],
   "source": [
    "#Check value counts and means for each treatment\n",
    "print(data.Treatment.value_counts())\n",
    "\n",
    "#Create separate data sets\n",
    "beer=data[data['Treatment']=='Beer'] \n",
    "water=data[data['Treatment']=='Water']\n",
    "beer_water = [beer['Response'],water['Response']]\n",
    "\n",
    "#Check out stats for beer vs water treatments (is there a better way to do this? .pivot()?)\n",
    "beer_stats=beer.describe() \n",
    "water_stats=water.describe()\n",
    "stats=pd.concat([beer_stats,water_stats],axis=1)\n",
    "stats.columns = ['beer','water']\n",
    "print(stats)\n",
    "\n",
    "#create box plot \n",
    "import matplotlib.pyplot as plt\n",
    "fig = plt.figure()\n",
    "fig.suptitle('Mosquitos Experiment', fontsize=14, fontweight='bold')\n",
    "ax = fig.add_subplot(111)\n",
    "ax.boxplot(beer_water,labels= ['beer','water'])\n",
    "\n",
    "ax.set_title('Beer vs Water')\n",
    "ax.set_xlabel('Treatment vs Control')\n",
    "ax.set_ylabel('No. of Mosquitos')\n",
    "\n",
    "plt.show()\n"
   ]
  },
  {
   "cell_type": "markdown",
   "metadata": {},
   "source": [
    "It appears that the 'beer' group has a higher mean, max, and min values. The interquartile range is also higher. This suggests that beer consumption does indeed increase a perons attractiveness to mosquitos. "
   ]
  },
  {
   "cell_type": "markdown",
   "metadata": {},
   "source": [
    "# Step 3: Randomize data and take samples\n",
    "1. import random\n",
    "2. create loop that takes randomizes list of response data\n",
    "3. create separate beer and water list. get the means, and subtract!"
   ]
  },
  {
   "cell_type": "code",
   "execution_count": 6,
   "metadata": {},
   "outputs": [],
   "source": [
    "import random\n",
    "\n",
    "all_difs = []\n",
    "for i in range(0,10000):\n",
    "    response_rand = random.sample(list(data['Response']),len(data['Response']))\n",
    "    \n",
    "    beer_rand = response_rand[0:25]\n",
    "    water_rand = response_rand[25:]\n",
    "    beer_avg = sum(beer_rand)/len(beer_rand)\n",
    "    water_avg = sum(water_rand)/len(water_rand)\n",
    "    avg_dif = beer_avg - water_avg\n",
    "    \n",
    "    all_difs.append(avg_dif)\n",
    "\n",
    "all_difs[0:10]\n",
    "all_difs_avg = sum(all_difs)/len(all_difs)"
   ]
  },
  {
   "cell_type": "markdown",
   "metadata": {},
   "source": [
    "# Step 4: Plot the data and calculate significance!\n",
    "1. import matplotlib.pyplot\n",
    "2. histogram!\n",
    "3. If it looks like a normal dist, calculate the significance"
   ]
  },
  {
   "cell_type": "code",
   "execution_count": 7,
   "metadata": {},
   "outputs": [
    {
     "data": {
      "image/png": "[encoded data removed]",
      "text/plain": [
       "<matplotlib.figure.Figure at 0x9aafdd8>"
      ]
     },
     "metadata": {},
     "output_type": "display_data"
    }
   ],
   "source": [
    "import matplotlib.pyplot as plt\n",
    "plt.hist(all_difs,30)\n",
    "plt.show()"
   ]
  },
  {
   "cell_type": "code",
   "execution_count": 8,
   "metadata": {},
   "outputs": [
    {
     "name": "stdout",
     "output_type": "stream",
     "text": [
      "Original Mean Difference:  4.37777777778\n",
      "Average Mean Difference from 10,000 random samples:  -0.00842288888889\n",
      "Significance:  0.0006\n"
     ]
    }
   ],
   "source": [
    "#calculate significance\n",
    "orig_meandif = stats.loc['mean','beer'] - stats.loc['mean','water']\n",
    "num_obs_higher = [x for x in all_difs if x >= orig_meandif]\n",
    "signif = len(num_obs_higher) / len(all_difs)\n",
    "print('Original Mean Difference: ',orig_meandif)\n",
    "print('Average Mean Difference from 10,000 random samples: ', sum(all_difs)/len(all_difs))\n",
    "print('Significance: ', signif)"
   ]
  },
  {
   "cell_type": "markdown",
   "metadata": {},
   "source": [
    "# Conclusion\n",
    "The original average difference of 4.37 is statistically significant (in 10,000 random samples, less than 1% had an average difference that was equal to or higher than the 4.37)\n",
    "\n",
    "We can reject the Null Hypothesis. Beer seems to attract mosquitos!\n"
   ]
  }
 ],
 "metadata": {
  "kernelspec": {
   "display_name": "Python 3",
   "language": "python",
   "name": "python3"
  },
  "language_info": {
   "codemirror_mode": {
    "name": "ipython",
    "version": 3
   },
   "file_extension": ".py",
   "mimetype": "text/x-python",
   "name": "python",
   "nbconvert_exporter": "python",
   "pygments_lexer": "ipython3",
   "version": "3.6.3"
  }
 },
 "nbformat": 4,
 "nbformat_minor": 2
}
