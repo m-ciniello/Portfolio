{
 "cells": [
  {
   "cell_type": "markdown",
   "metadata": {},
   "source": [
    "# Notes on Classification\n",
    "\n",
    "From Chapter 3 of Hands-On Machine Learning textbook by Aurelien Geron. "
   ]
  },
  {
   "cell_type": "code",
   "execution_count": 76,
   "metadata": {
    "collapsed": true
   },
   "outputs": [],
   "source": [
    "from sklearn.datasets import fetch_mldata\n",
    "mnist = fetch_mldata('MNIST original')\n",
    "mnist\n",
    "\n",
    "import numpy as np\n",
    "np.random.seed(42) #for reproducting code!"
   ]
  },
  {
   "cell_type": "markdown",
   "metadata": {
    "collapsed": true
   },
   "source": [
    "Datasets loaded by Scikit-Learn generally have a similar dictionary structure including:\n",
    "- A DESCR key describing the dataset\n",
    "- A data key containing an array with one row per instance and one column per feature\n",
    "- A target key containing an array with the labels"
   ]
  },
  {
   "cell_type": "code",
   "execution_count": 77,
   "metadata": {},
   "outputs": [
    {
     "data": {
      "text/plain": [
       "(70000, 784)"
      ]
     },
     "execution_count": 77,
     "metadata": {},
     "output_type": "execute_result"
    }
   ],
   "source": [
    "X, y = mnist['data'], mnist['target']\n",
    "X.shape"
   ]
  },
  {
   "cell_type": "code",
   "execution_count": 78,
   "metadata": {},
   "outputs": [
    {
     "data": {
      "text/plain": [
       "(70000,)"
      ]
     },
     "execution_count": 78,
     "metadata": {},
     "output_type": "execute_result"
    }
   ],
   "source": [
    "y.shape"
   ]
  },
  {
   "cell_type": "markdown",
   "metadata": {},
   "source": [
    "There are 70,000 images, and each image has 784 features. This is because each image is 28×28 pixels, and each feature simply represents one pixel’s intensity, from 0 (white) to 255 (black)."
   ]
  },
  {
   "cell_type": "code",
   "execution_count": 79,
   "metadata": {},
   "outputs": [
    {
     "name": "stdout",
     "output_type": "stream",
     "text": [
      "[[0 0 0 0 0 0 0 0 0 0 0 0 0 0 0 0 0 0 0 0 0 0 0 0 0 0 0 0]\n",
      " [0 0 0 0 0 0 0 0 0 0 0 0 0 0 0 0 0 0 0 0 0 0 0 0 0 0 0 0]\n",
      " [0 0 0 0 0 0 0 0 0 0 0 0 0 0 0 0 0 0 0 0 0 0 0 0 0 0 0 0]\n",
      " [0 0 0 0 0 0 0 0 0 0 0 0 0 0 0 0 0 0 0 0 0 0 0 0 0 0 0 0]\n",
      " [0 0 0 0 0 0 0 0 0 0 0 0 0 0 0 0 0 0 0 0 0 0 0 0 0 0 0 0]]\n"
     ]
    },
    {
     "data": {
      "image/png": "[encoded data removed]",
      "text/plain": [
       "<matplotlib.figure.Figure at 0x2b50090dac8>"
      ]
     },
     "metadata": {},
     "output_type": "display_data"
    },
    {
     "name": "stdout",
     "output_type": "stream",
     "text": [
      "Label:  5.0\n"
     ]
    }
   ],
   "source": [
    "%matplotlib inline\n",
    "import matplotlib\n",
    "import matplotlib.pyplot as plt\n",
    "\n",
    "some_digit = X[36000]\n",
    "some_digit_image = some_digit.reshape(28,28)\n",
    "print(some_digit_image[0:5])\n",
    "\n",
    "plt.imshow(some_digit_image, cmap=matplotlib.cm.binary,\n",
    "          interpolation=\"nearest\")\n",
    "plt.axis(\"off\")\n",
    "plt.show()\n",
    "\n",
    "#Neat, its a five!!!!! This is what the label says too.\n",
    "print(\"Label: \",y[36000])"
   ]
  },
  {
   "cell_type": "markdown",
   "metadata": {},
   "source": [
    "# Create a test set!\n",
    "You should always create a test set and set it aside before inspecting the data closely. The\n",
    "MNIST dataset is actually already split into a training set (the first 60,000 images) and a test set (the\n",
    "last 10,000 images)"
   ]
  },
  {
   "cell_type": "code",
   "execution_count": 80,
   "metadata": {
    "collapsed": true
   },
   "outputs": [],
   "source": [
    "X_train, X_test, y_train, y_test = X[:60000], X[60000:], y[:60000], y[60000:]"
   ]
  },
  {
   "cell_type": "markdown",
   "metadata": {},
   "source": [
    "Let’s also shuffle the training set; this will guarantee that all cross-validation folds will be similar\n",
    "(you don’t want one fold to be missing some digits). Moreover, some learning algorithms are\n",
    "sensitive to the order of the training instances, and they perform poorly if they get many similar\n",
    "instances in a row. Shuffling the dataset ensures that this won’t happen"
   ]
  },
  {
   "cell_type": "code",
   "execution_count": 81,
   "metadata": {
    "collapsed": true
   },
   "outputs": [],
   "source": [
    "import numpy as np\n",
    "\n",
    "shuffle_index = np.random.permutation(60000)\n",
    "X_train, y_train = X_train[shuffle_index], y_train[shuffle_index]"
   ]
  },
  {
   "cell_type": "code",
   "execution_count": 82,
   "metadata": {},
   "outputs": [
    {
     "data": {
      "text/plain": [
       "array([ 1.,  6.,  6., ...,  0.,  2.,  9.])"
      ]
     },
     "execution_count": 82,
     "metadata": {},
     "output_type": "execute_result"
    }
   ],
   "source": [
    "y_train"
   ]
  },
  {
   "cell_type": "markdown",
   "metadata": {},
   "source": [
    "# Train a binary classifier!\n",
    "Let’s simplify the problem for now and only try to identify one digit — for example, the number 5.\n",
    "This “5-detector” will be an example of a binary classifier, capable of distinguishing between just\n",
    "two classes, 5 and not-5. Let’s create the target vectors for this classification task:"
   ]
  },
  {
   "cell_type": "code",
   "execution_count": 83,
   "metadata": {
    "collapsed": true
   },
   "outputs": [],
   "source": [
    "y_train_5 = (y_train == 5) # True for all 5s, False for all other digits.\n",
    "y_test_5 = (y_test == 5)"
   ]
  },
  {
   "cell_type": "code",
   "execution_count": 84,
   "metadata": {},
   "outputs": [
    {
     "data": {
      "text/plain": [
       "array([False, False, False, ..., False, False, False], dtype=bool)"
      ]
     },
     "execution_count": 84,
     "metadata": {},
     "output_type": "execute_result"
    }
   ],
   "source": [
    "y_train_5"
   ]
  },
  {
   "cell_type": "markdown",
   "metadata": {},
   "source": [
    "Okay, now let’s pick a classifier and train it. A good place to start is with a Stochastic Gradient\n",
    "Descent (SGD) classifier, using Scikit-Learn’s SGDClassifier class. This classifier has the\n",
    "advantage of being capable of handling very large datasets efficiently. This is in part because SGD\n",
    "deals with training instances independently, one at a time (which also makes SGD well suited for\n",
    "online learning), as we will see later."
   ]
  },
  {
   "cell_type": "code",
   "execution_count": 85,
   "metadata": {},
   "outputs": [
    {
     "data": {
      "text/plain": [
       "SGDClassifier(alpha=0.0001, average=False, class_weight=None, epsilon=0.1,\n",
       "       eta0=0.0, fit_intercept=True, l1_ratio=0.15,\n",
       "       learning_rate='optimal', loss='hinge', max_iter=1000, n_iter=None,\n",
       "       n_jobs=1, penalty='l2', power_t=0.5, random_state=42, shuffle=True,\n",
       "       tol=0.001, verbose=0, warm_start=False)"
      ]
     },
     "execution_count": 85,
     "metadata": {},
     "output_type": "execute_result"
    }
   ],
   "source": [
    "from sklearn.linear_model import SGDClassifier\n",
    "sgd_clf = SGDClassifier(random_state=42, max_iter=1000, tol=1e-3) #for reproducible results\n",
    "sgd_clf.fit(X_train, y_train_5)"
   ]
  },
  {
   "cell_type": "code",
   "execution_count": 86,
   "metadata": {},
   "outputs": [
    {
     "data": {
      "text/plain": [
       "array([ True], dtype=bool)"
      ]
     },
     "execution_count": 86,
     "metadata": {},
     "output_type": "execute_result"
    }
   ],
   "source": [
    "sgd_clf.predict([some_digit])"
   ]
  },
  {
   "cell_type": "markdown",
   "metadata": {},
   "source": [
    "Looks like it guesses true in this case, so it seems to predict correctly for this instance at least! Wooohooo!"
   ]
  },
  {
   "cell_type": "markdown",
   "metadata": {},
   "source": [
    "# Performance Measures\n",
    "Evaluating a classifier is often significantly trickier than evaluating a regressor, so we will spend a\n",
    "large part of this chapter on this topic. There are many performance measures available, so grab\n",
    "another coffee and get ready to learn many new concepts and acronyms!"
   ]
  },
  {
   "cell_type": "markdown",
   "metadata": {},
   "source": [
    "# Measuing Accuracy Using Cross-Validation\n",
    "A good way to evaluate a model is to use cross-validation. \n",
    "\n",
    "Occasionally you will need more control over the cross-validation process than what cross_val_score() and similar functions\n",
    "provide. In these cases, you can implement cross-validation yourself; it is actually fairly straightforward. The following code does\n",
    "roughly the same thing as the preceding cross_val_score() code, and prints the same result:"
   ]
  },
  {
   "cell_type": "code",
   "execution_count": 87,
   "metadata": {},
   "outputs": [
    {
     "name": "stdout",
     "output_type": "stream",
     "text": [
      "0.96735\n",
      "0.9519\n",
      "0.94085\n"
     ]
    }
   ],
   "source": [
    "from sklearn.model_selection import StratifiedKFold\n",
    "from sklearn.base import clone\n",
    "\n",
    "skfolds = StratifiedKFold(n_splits=3, random_state=42)\n",
    "\n",
    "for train_index, test_index in skfolds.split(X_train, y_train_5):\n",
    "    clone_clf = clone(sgd_clf)\n",
    "    X_train_folds = X_train[train_index]\n",
    "    y_train_folds = (y_train_5[train_index])\n",
    "    X_test_fold = X_train[test_index]\n",
    "    y_test_fold = (y_train_5[test_index])\n",
    "    clone_clf.fit(X_train_folds, y_train_folds)\n",
    "    y_pred = clone_clf.predict(X_test_fold)\n",
    "    n_correct = sum(y_pred == y_test_fold)\n",
    "    print(n_correct / len(y_pred)) # prints 0.9502, 0.96565 and 0.96495\n"
   ]
  },
  {
   "cell_type": "markdown",
   "metadata": {},
   "source": [
    "# cross_val_score\n",
    "Let’s use the cross_val_score() function to evaluate your SGDClassifier model using K-fold\n",
    "cross-validation, with three folds. Remember that K-fold cross-validation means splitting the training\n",
    "set into K-folds (in this case, three), then making predictions and evaluating them on each fold using a\n",
    "model trained on the remaining folds\n"
   ]
  },
  {
   "cell_type": "code",
   "execution_count": 88,
   "metadata": {},
   "outputs": [
    {
     "data": {
      "text/plain": [
       "array([ 0.96735,  0.9519 ,  0.94085])"
      ]
     },
     "execution_count": 88,
     "metadata": {},
     "output_type": "execute_result"
    }
   ],
   "source": [
    "from sklearn.model_selection import cross_val_score\n",
    "cross_val_score(sgd_clf, X_train, y_train_5, scoring=\"accuracy\", cv=3)"
   ]
  },
  {
   "cell_type": "markdown",
   "metadata": {},
   "source": [
    "90% accuracy! Great no?!?! Not so fast buster!!!! Lets create a reallllly bad classifier that predicts 0 for everything, and see how it performs."
   ]
  },
  {
   "cell_type": "code",
   "execution_count": 89,
   "metadata": {
    "collapsed": true
   },
   "outputs": [],
   "source": [
    "from sklearn.base import BaseEstimator\n",
    "\n",
    "class Never5Classifier(BaseEstimator):\n",
    "    def fit(self, X, y=None):\n",
    "        pass\n",
    "    def predict(self, X):\n",
    "        return np.zeros((len(X),1),dtype=bool)"
   ]
  },
  {
   "cell_type": "code",
   "execution_count": 90,
   "metadata": {},
   "outputs": [
    {
     "data": {
      "text/plain": [
       "array([ 0.909  ,  0.90715,  0.9128 ])"
      ]
     },
     "execution_count": 90,
     "metadata": {},
     "output_type": "execute_result"
    }
   ],
   "source": [
    "never_5_clf = Never5Classifier()\n",
    "cross_val_score(never_5_clf, X_train, y_train_5, cv=3, scoring=\"accuracy\")"
   ]
  },
  {
   "cell_type": "markdown",
   "metadata": {},
   "source": [
    "That’s right, it has over 90% accuracy! This is simply because only about 10% of the images are 5s,\n",
    "so if you always guess that an image is not a 5, you will be right about 90% of the time. **This demonstrates why accuracy is generally not the preferred performance measure for classifiers,\n",
    "especially when you are dealing with skewed datasets (i.e., when some classes are much more\n",
    "frequent than others).**"
   ]
  },
  {
   "cell_type": "markdown",
   "metadata": {},
   "source": [
    "# Confusion Matrix\n",
    "A much better way to evaluate a classifier is to look at a confusion matrix. General idea is to count the number of times instances of Class A are classified as Class B. For example, if you want to know the number of times the classifier confused an image of a 5 with a 3 you would look in the 5th row and 3rd column of the matrix. \n",
    "\n",
    "To compute the confusion matrix, you first need to have a set of predictions, so they can be compared\n",
    "to the actual targets. You could make predictions on the test set, but let’s keep it untouched for now\n",
    "(remember that you want to use the test set only at the very end of your project, once you have a\n",
    "classifier that you are ready to launch). Instead, you can use the cross_val_predict() function.\n",
    "\n",
    "Just like the cross_val_score() function, cross_val_predict() performs K-fold crossvalidation,\n",
    "but instead of returning the evaluation scores, it returns the predictions made on each test\n",
    "fold. This means that you get a clean prediction for each instance in the training set **(“clean” meaning\n",
    "that the prediction is made by a model that never saw the data during training).**"
   ]
  },
  {
   "cell_type": "code",
   "execution_count": 91,
   "metadata": {
    "collapsed": true
   },
   "outputs": [],
   "source": [
    "from sklearn.model_selection import cross_val_predict\n",
    "y_train_pred = cross_val_predict(sgd_clf, X_train, y_train_5, cv=3, )"
   ]
  },
  {
   "cell_type": "markdown",
   "metadata": {},
   "source": [
    "Now you can get the confusion matrix using the confusion_matrix() function!"
   ]
  },
  {
   "cell_type": "code",
   "execution_count": 92,
   "metadata": {},
   "outputs": [
    {
     "data": {
      "text/plain": [
       "array([[53207,  1372],\n",
       "       [ 1426,  3995]], dtype=int64)"
      ]
     },
     "execution_count": 92,
     "metadata": {},
     "output_type": "execute_result"
    }
   ],
   "source": [
    "from sklearn.metrics import confusion_matrix\n",
    "confusion_matrix(y_train_5, y_train_pred)"
   ]
  },
  {
   "cell_type": "code",
   "execution_count": 93,
   "metadata": {},
   "outputs": [
    {
     "data": {
      "text/plain": [
       "array([[54579,     0],\n",
       "       [    0,  5421]], dtype=int64)"
      ]
     },
     "execution_count": 93,
     "metadata": {},
     "output_type": "execute_result"
    }
   ],
   "source": [
    "y_train_perfect_predictions = y_train_5\n",
    "confusion_matrix(y_train_5, y_train_perfect_predictions)\n",
    "\n",
    "#So you see, false negative and false positive are both zero!"
   ]
  },
  {
   "cell_type": "markdown",
   "metadata": {},
   "source": [
    "# Precision and Recall\n",
    "Precision: Out of all of the positives you identified, what percentage is correct.\n",
    "\n",
    "Recall: Out of all TRUE positives, how many did you correctly identify"
   ]
  },
  {
   "cell_type": "code",
   "execution_count": 94,
   "metadata": {},
   "outputs": [
    {
     "name": "stdout",
     "output_type": "stream",
     "text": [
      "Precision Score:  0.744363704118\n",
      "Recall Score:  0.736948902417\n"
     ]
    }
   ],
   "source": [
    "from sklearn.metrics import precision_score, recall_score\n",
    "print(\"Precision Score: \", precision_score(y_train_5, y_train_pred))\n",
    "print(\"Recall Score: \", recall_score(y_train_5, y_train_pred))"
   ]
  },
  {
   "cell_type": "markdown",
   "metadata": {},
   "source": [
    "# F1 Score and Harmonic Mean\n",
    "Now your 5-detector does not look as shiny as it did when you looked at its accuracy. When it claims\n",
    "an image represents a 5, it is correct only 77% of the time. Moreover, it only detects 79% of the 5s.\n",
    "It is often convenient to combine precision and recall into a single metric called the F1 score, in\n",
    "particular if you need a simple way to compare two classifiers. **The F1 score is the harmonic mean of\n",
    "precision and recall. Whereas the regular mean treats all values equally, the harmonic\n",
    "mean gives much more weight to low values.**"
   ]
  },
  {
   "cell_type": "code",
   "execution_count": 95,
   "metadata": {},
   "outputs": [
    {
     "data": {
      "text/plain": [
       "0.74063774564330742"
      ]
     },
     "execution_count": 95,
     "metadata": {},
     "output_type": "execute_result"
    }
   ],
   "source": [
    "from sklearn.metrics import f1_score\n",
    "f1_score(y_train_5, y_train_pred)"
   ]
  },
  {
   "cell_type": "markdown",
   "metadata": {},
   "source": [
    "# Precision/Recall Tradeoff\n",
    "\n",
    "The F1 score favors classifiers that have similar precision and recall. This is not always what you\n",
    "want: in some contexts you mostly care about precision, and in other contexts you really care about\n",
    "recall. For example, if you trained a classifier to detect videos that are safe for kids, you would\n",
    "probably prefer a classifier that rejects many good videos (low recall) but keeps only safe ones (high\n",
    "precision), rather than a classifier that has a much higher recall but lets a few really bad videos show\n",
    "up in your product (in such cases, you may even want to add a human pipeline to check the\n",
    "classifier’s video selection). On the other hand, suppose you train a classifier to detect shoplifters on\n",
    "surveillance images: it is probably fine if your classifier has only 30% precision as long as it has\n",
    "99% recall (sure, the security guards will get a few false alerts, but almost all shoplifters will get\n",
    "caught).\n",
    "\n",
    "**Unfortunately, you can’t have it both ways: increasing precision reduces recall, and vice versa. This\n",
    "is called the precision/recall tradeoff.**\n",
    "\n",
    "To understand this tradeoff, let’s look at how the SGDClassifier makes its classification decisions.\n",
    "For each instance, it computes a score based on a **decision function**, and if that score is greater than a\n",
    "threshold, it assigns the instance to the positive class, or else it assigns it to the negative class.\n",
    "\n",
    "**Scikit-Learn does not let you set the threshold directly, but it does give you access to the decision\n",
    "scores that it uses to make predictions. Instead of calling the classifier’s predict() method, you can\n",
    "call its decision_function() method, which returns a score for each instance, and then make\n",
    "predictions based on those scores using any threshold you want:**\n",
    "\n",
    "\n",
    "\n",
    "\n"
   ]
  },
  {
   "cell_type": "code",
   "execution_count": 96,
   "metadata": {},
   "outputs": [
    {
     "data": {
      "text/plain": [
       "array([ 2687.95095208])"
      ]
     },
     "execution_count": 96,
     "metadata": {},
     "output_type": "execute_result"
    }
   ],
   "source": [
    "y_scores = sgd_clf.decision_function([some_digit])\n",
    "y_scores"
   ]
  },
  {
   "cell_type": "markdown",
   "metadata": {},
   "source": [
    "**The SGDClassifier uses a threshold equal to 0, so the previous code returns the same result as the\n",
    "predict() method (i.e., True). The image actually represents a 5, and the\n",
    "classifier detects it when the threshold is 0, but it misses it when the threshold is increased to\n",
    "200,000 (or anything above 161,855).**\n",
    "\n",
    "**So how can you decide which threshold to use?** For this you will first need to get the scores of all\n",
    "instances in the training set using the cross_val_predict() function again, but this time specifying\n",
    "that you want it to return decision scores instead of predictions:"
   ]
  },
  {
   "cell_type": "code",
   "execution_count": 97,
   "metadata": {},
   "outputs": [
    {
     "data": {
      "text/plain": [
       "array([ -54618.08233307, -343642.55320077, -109163.23578929,\n",
       "        -80945.26127425,  -71234.41584769])"
      ]
     },
     "execution_count": 97,
     "metadata": {},
     "output_type": "execute_result"
    }
   ],
   "source": [
    "y_scores = cross_val_predict(sgd_clf,X_train,y_train_5,cv=3,method=\"decision_function\")\n",
    "y_scores[0:5]"
   ]
  },
  {
   "cell_type": "markdown",
   "metadata": {},
   "source": [
    "# Plotting the Prec/Rec Graph\n",
    "**Now with these scores you can compute precision and recall for all possible thresholds using the\n",
    "precision_recall_curve() function:**"
   ]
  },
  {
   "cell_type": "code",
   "execution_count": 98,
   "metadata": {},
   "outputs": [
    {
     "data": {
      "text/plain": [
       "array([-429511.31331228, -428354.08248403, -426231.78114509,\n",
       "       -423369.12658032, -415498.40808604])"
      ]
     },
     "execution_count": 98,
     "metadata": {},
     "output_type": "execute_result"
    }
   ],
   "source": [
    "from sklearn.metrics import precision_recall_curve\n",
    "precisions, recalls, thresholds = precision_recall_curve(y_train_5, y_scores)\n",
    "thresholds[0:5]"
   ]
  },
  {
   "cell_type": "code",
   "execution_count": 99,
   "metadata": {},
   "outputs": [
    {
     "data": {
      "image/png": "[encoded data removed]",
      "text/plain": [
       "<matplotlib.figure.Figure at 0x2b500004048>"
      ]
     },
     "metadata": {},
     "output_type": "display_data"
    }
   ],
   "source": [
    "def plot_precision_recall_vs_threshold(precisions, recalls, thresholds):\n",
    "    plt.plot(thresholds, precisions[:-1], \"b--\", label=\"Precision\")\n",
    "    plt.plot(thresholds, recalls[:-1], \"g-\", label=\"Recall\")\n",
    "    plt.xlabel(\"Threshold\")\n",
    "    plt.legend(loc=\"upper left\")\n",
    "    plt.ylim([0, 1])\n",
    "plot_precision_recall_vs_threshold(precisions, recalls, thresholds)\n",
    "plt.show()"
   ]
  },
  {
   "cell_type": "code",
   "execution_count": 100,
   "metadata": {},
   "outputs": [
    {
     "data": {
      "image/png": "[encoded data removed]",
      "text/plain": [
       "<matplotlib.figure.Figure at 0x2b54c612ba8>"
      ]
     },
     "metadata": {},
     "output_type": "display_data"
    }
   ],
   "source": [
    "def plot_precision_recall_vs_threshold(precisions, recalls, thresholds):\n",
    "    plt.plot(recalls[:-1], precisions[:-1],\"b--\", label=\"Precision\")\n",
    "    plt.plot([1,0],[0,1],\"y--\") #not sure if this is good to do for this graph, it looks cooL!\n",
    "    plt.axis([0,1,0,1])\n",
    "    plt.xlabel(\"Recall\")\n",
    "    plt.title(\"Precision/Recall Tradeoff Plot\")\n",
    "    plt.ylim([0, 1])\n",
    "plot_precision_recall_vs_threshold(precisions, recalls, thresholds)\n",
    "plt.show()"
   ]
  },
  {
   "cell_type": "markdown",
   "metadata": {},
   "source": [
    "<font color=red> Now you can simply select the threshold value that gives you the best precision/recall tradeoff for\n",
    "your task. Another way to select a good precision/recall tradeoff is to plot precision directly against\n",
    "recal. </font>"
   ]
  },
  {
   "cell_type": "markdown",
   "metadata": {},
   "source": [
    "# Pro tip:\n",
    "\n",
    "It is fairly easy to create a classifier with virtually any precision you want: just set a high enough threshold and you're done! NOT SO FAST DUMBO!!! A high precision classifer is not very useful if recall is too low. \n",
    "\n",
    "<font color=red> If someone says \"lets reach 99% recision\" you should ask, \"at what recall?\"</font>"
   ]
  },
  {
   "cell_type": "markdown",
   "metadata": {},
   "source": [
    "# The ROC Curve\n",
    "The receiver operating characteristic curve (ROC) is another common tool used with binary classifiers. Its similar to the precision/recall curve, but instead of plotting precision versus recall, the ROC plots the:\n",
    "- true positive rate (TPR) (another name for recall) vs \n",
    "- the false positive rate (FPR).\n",
    "\n",
    "The FPR is the ratio of negative instances that are incorrectly classified as positive. **It is equal\n",
    "to one minus the true negative rate**, which is the ratio of negative instances that are correctly classified as negative. **The TNR is also called specificity.** \n",
    "\n",
    "<font color=red> Hence the ROC curve plots sensitivity\n",
    "(recall) versus (1 – specificity).\n",
    "To plot the ROC curve, you first need to compute the TPR and FPR for various threshold values,\n",
    "using the roc_curve() function:</font>"
   ]
  },
  {
   "cell_type": "code",
   "execution_count": 101,
   "metadata": {},
   "outputs": [
    {
     "data": {
      "image/png": "[encoded data removed]",
      "text/plain": [
       "<matplotlib.figure.Figure at 0x2b5539be438>"
      ]
     },
     "metadata": {},
     "output_type": "display_data"
    }
   ],
   "source": [
    "from sklearn.metrics import roc_curve\n",
    "\n",
    "fpr,tpr, thresholds = roc_curve(y_train_5, y_scores)\n",
    "\n",
    "def plot_roc_curve(fpr,tpr,lw, label=None):\n",
    "    plt.plot(fpr,tpr,linewidth=lw,label=label)\n",
    "    plt.plot([0,1],[0,1],'o--') #r-- creates an orange line. Neat!\n",
    "    plt.axis([0,1,0,1])\n",
    "    plt.xlabel('False Positive Rate')\n",
    "    plt.ylabel('True Positive Rate')\n",
    "plot_roc_curve(fpr, tpr,lw=2)\n",
    "plt.show()"
   ]
  },
  {
   "cell_type": "markdown",
   "metadata": {},
   "source": [
    "Once again, there is a tradeoff: higher recall (TPR), the higher the false positive rate will be (FPR). The orange dotted line represents the ROC curve of a purel random classifier; **a good classifier stays as far away from that line as possible (toward the top left hand corner).**\n",
    "\n",
    "<font color=red> One way to compare classifiers is to measure the area under the curve (AUC). **A perfect classifier\n",
    "will have a ROC AUC equal to 1, whereas a purely random classifier will have a ROC AUC equal to\n",
    "0.5.</font>"
   ]
  },
  {
   "cell_type": "code",
   "execution_count": 102,
   "metadata": {},
   "outputs": [
    {
     "data": {
      "text/plain": [
       "0.95129282922595781"
      ]
     },
     "execution_count": 102,
     "metadata": {},
     "output_type": "execute_result"
    }
   ],
   "source": [
    "from sklearn.metrics import roc_auc_score\n",
    "roc_auc_score(y_train_5,y_scores)"
   ]
  },
  {
   "cell_type": "markdown",
   "metadata": {},
   "source": [
    "# PRO TIP:\n",
    "Since the ROC curve is so similar to the precision/recall (or PR) curve, you may wonder how to decide which one to use.\n",
    "As a rule of thumb, you should prefer the PR curve whenever the positive class is rare or when you care more about the\n",
    "false positives than the false negatives, and the ROC curve otherwise. **For example, looking at the previous ROC curve\n",
    "(and the ROC AUC score), you may think that the classifier is really good. But this is mostly because there are few\n",
    "positives (5s) compared to the negatives (non-5s).**<font color=blue> In contrast, the PR curve makes it clear that the classifier has room for\n",
    "improvement (the curve could be closer to the top-right corner).</font>"
   ]
  },
  {
   "cell_type": "markdown",
   "metadata": {},
   "source": [
    "# RandomForestClassifier\n",
    "Let’s train a RandomForestClassifier and compare its ROC curve and ROC AUC score to the\n",
    "SGDClassifier. First, you need to get scores for each instance in the training set. **But due to the way\n",
    "it works, the RandomForestClassifier class does not have a\n",
    "decision_function() method. Instead it has a predict_proba() method. Scikit-Learn classifiers\n",
    "generally have one or the other.** The predict_proba() method returns an array containing a row per\n",
    "instance and a column per class, each containing the probability that the given instance belongs to the\n",
    "given class (e.g., 70% chance that the image represents a 5)\n"
   ]
  },
  {
   "cell_type": "code",
   "execution_count": 103,
   "metadata": {},
   "outputs": [
    {
     "name": "stdout",
     "output_type": "stream",
     "text": [
      "[[ 1.   0. ]\n",
      " [ 0.9  0.1]\n",
      " [ 1.   0. ]\n",
      " [ 1.   0. ]\n",
      " [ 1.   0. ]]\n",
      "[False False False False False]\n"
     ]
    }
   ],
   "source": [
    "from sklearn.ensemble import RandomForestClassifier\n",
    "forest_clf = RandomForestClassifier(random_state=42)\n",
    "y_probas_forest = cross_val_predict(forest_clf, X_train, y_train_5, cv=3,\n",
    "                                   method='predict_proba')\n",
    "\n",
    "y_predicts_forest = cross_val_predict(forest_clf, X_train, y_train_5, cv=3)\n",
    "\n",
    "print(y_probas_forest[0:5])\n",
    "print(y_predicts_forest[0:5])"
   ]
  },
  {
   "cell_type": "code",
   "execution_count": 104,
   "metadata": {
    "collapsed": true
   },
   "outputs": [],
   "source": [
    "y_scores_forest = y_probas_forest[:, 1] # score = proba of positive class\n",
    "fpr_forest, tpr_forest, thresholds_forest = roc_curve(y_train_5,y_scores_forest)"
   ]
  },
  {
   "cell_type": "code",
   "execution_count": 105,
   "metadata": {
    "scrolled": true
   },
   "outputs": [
    {
     "data": {
      "image/png": "[encoded data removed]",
      "text/plain": [
       "<matplotlib.figure.Figure at 0x2b5009122e8>"
      ]
     },
     "metadata": {},
     "output_type": "display_data"
    },
    {
     "name": "stdout",
     "output_type": "stream",
     "text": [
      "ROC Score:  0.9931243366\n",
      "Precision Score:  0.985297344744\n",
      "Recall Score:  0.828260468548\n"
     ]
    }
   ],
   "source": [
    "plt.plot(fpr, tpr, \"b:\", linewidth=4,label=\"SGD\")\n",
    "plot_roc_curve(fpr_forest, tpr_forest,lw=4,label=\"Random Forest\")\n",
    "plt.legend(loc=\"lower right\")\n",
    "plt.show()\n",
    "\n",
    "from sklearn.metrics import precision_score, recall_score\n",
    "print(\"ROC Score: \", roc_auc_score(y_train_5, y_scores_forest))\n",
    "print(\"Precision Score: \", precision_score(y_train_5, y_predicts_forest))\n",
    "print(\"Recall Score: \", recall_score(y_train_5, y_predicts_forest))"
   ]
  },
  {
   "cell_type": "markdown",
   "metadata": {},
   "source": [
    "Whoa the RFC really kicks ass for this task! Even better than the SGD classifier! Neat! \n",
    "\n",
    "**Sooo its important to remember that the ROC score is kind of a blend of the thresholds and results. While the Precision and Recall scores are a straight measure of the predictions and the actuals using the default threshold. They require different inputs, as you see in the code above. **\n",
    "- ROC Score requires actuals and probabilities\n",
    "- Precision/Recall requires actuals and predictions (1 or 0)"
   ]
  },
  {
   "cell_type": "markdown",
   "metadata": {},
   "source": [
    "# Multiclass Classification\n",
    "\n",
    "These algorithms fall into two main categories:\n",
    "1. Some algorithms (such as Random Forest classifiers or naive Bayes classifiers) are capable of handling multiple classes directly. \n",
    "2. Others (such as Support Vector Machine classifiers or Linear\n",
    "classifiers) are strictly binary classifiers. However, there are various strategies that you can use to perform multiclass classification using multiple binary classifiers.\n",
    "\n",
    "In regards to the second option, there are a few approaches:\n",
    "\n",
    "**ONE VS ALL:** one way to create a system that can classify the digit images into 10 classes (from 0 to\n",
    "9) is to train 10 binary classifiers, one for each digit (a 0-detector, a 1-detector, a 2-detector, and so\n",
    "on). Then when you want to classify an image, you get the decision score from each classifier for that\n",
    "image and you select the class whose classifier outputs the highest score. This is called the oneversus-\n",
    "all (OvA) strategy (also called one-versus-the-rest). **THIS IS PREFERED FOR MOST BINARY CLASSIFICATION ALGOS**\n",
    "\n",
    "**ONE VS ONE**: Another strategy is to train a binary classifier for every pair of digits: one to distinguish 0s and 1s,\n",
    "another to distinguish 0s and 2s, another for 1s and 2s, and so on. This is called the one-versus-one\n",
    "(OvO) strategy. If there are N classes, you need to train N × (N – 1) / 2 classifiers. For the MNIST\n",
    "problem, this means training 45 binary classifiers!\n",
    "\n",
    "<font color=red size=4>SKlearn detects when you try to use a binary classifier algo for a multiclass task, and it automatically runs OvA (except for SVM classifiers which is usede OvO.).</font>"
   ]
  },
  {
   "cell_type": "code",
   "execution_count": 116,
   "metadata": {},
   "outputs": [
    {
     "name": "stdout",
     "output_type": "stream",
     "text": [
      "[ 5.]\n"
     ]
    },
    {
     "data": {
      "text/plain": [
       "array([[ -39554.50120878, -131473.18772541,  -48613.51252381,\n",
       "           -216.17646426,  -94992.13611376,    2687.95095208,\n",
       "        -116986.02309052,  -65779.59263147,  -57036.59225425,\n",
       "         -56624.74228734]])"
      ]
     },
     "execution_count": 116,
     "metadata": {},
     "output_type": "execute_result"
    }
   ],
   "source": [
    "sgd_clf.fit(X_train,y_train)\n",
    "print(sgd_clf.predict([some_digit]))\n",
    "\n",
    "some_digit_scores = sgd_clf.decision_function([some_digit])\n",
    "some_digit_scores"
   ]
  },
  {
   "cell_type": "markdown",
   "metadata": {},
   "source": [
    "Neat! It seems to work and predict correctly when training with ALL the 10 classes in y_train. **Under the hood, Scikit-Learn actually trained 10 binary classifiers, got their decision scores for the image, and selected the class with the high score.** Amazing."
   ]
  },
  {
   "cell_type": "markdown",
   "metadata": {},
   "source": [
    "# PRO TIP:\n",
    "\n",
    "When a classifier is trained, it stores the list of its target classes in its 'classes' attribute, ordered by value. See below:"
   ]
  },
  {
   "cell_type": "code",
   "execution_count": 117,
   "metadata": {},
   "outputs": [
    {
     "data": {
      "text/plain": [
       "array([ 0.,  1.,  2.,  3.,  4.,  5.,  6.,  7.,  8.,  9.])"
      ]
     },
     "execution_count": 117,
     "metadata": {},
     "output_type": "execute_result"
    }
   ],
   "source": [
    "sgd_clf.classes_"
   ]
  },
  {
   "cell_type": "markdown",
   "metadata": {},
   "source": [
    "**If you do want to force SKLearn to use one-versus-one or one-versus-all, you can use the OneVsOneClassifier or OneVsRestClassifier class. ** Simply create an instance and pass a binary classifer to its constructure. For instance:"
   ]
  },
  {
   "cell_type": "code",
   "execution_count": 118,
   "metadata": {},
   "outputs": [
    {
     "name": "stdout",
     "output_type": "stream",
     "text": [
      "Prediction on some digit:  [ 5.]\n",
      "Num. Estimators:  45\n"
     ]
    }
   ],
   "source": [
    "from sklearn.multiclass import OneVsOneClassifier\n",
    "ovo_clf = OneVsOneClassifier(SGDClassifier(random_state=42, max_iter=1000, tol=1e-3))\n",
    "ovo_clf.fit(X_train, y_train)\n",
    "print('Prediction on some digit: ',ovo_clf.predict([some_digit]))\n",
    "print('Num. Estimators: ',len(ovo_clf.estimators_))"
   ]
  },
  {
   "cell_type": "markdown",
   "metadata": {},
   "source": [
    "Training a RandomForestClassifier is even easy, as you do not have to run OvA or OvO because Random Forest Classifiers can directly classify instances into multiple classes. **You can use predict_proba() to get the list of probabilities that the classifier assigned to each instance.**"
   ]
  },
  {
   "cell_type": "code",
   "execution_count": 110,
   "metadata": {},
   "outputs": [
    {
     "data": {
      "text/plain": [
       "array([ 5.])"
      ]
     },
     "execution_count": 110,
     "metadata": {},
     "output_type": "execute_result"
    }
   ],
   "source": [
    "from sklearn.ensemble import RandomForestClassifier\n",
    "\n",
    "forest_clf = RandomForestClassifier(random_state=42)\n",
    "forest_clf.fit(X_train, y_train)\n",
    "forest_clf.predict([some_digit])"
   ]
  },
  {
   "cell_type": "code",
   "execution_count": 119,
   "metadata": {},
   "outputs": [
    {
     "data": {
      "text/plain": [
       "array([[ 0.1,  0. ,  0. ,  0.1,  0. ,  0.8,  0. ,  0. ,  0. ,  0. ]])"
      ]
     },
     "execution_count": 119,
     "metadata": {},
     "output_type": "execute_result"
    }
   ],
   "source": [
    "forest_clf.predict_proba([some_digit])"
   ]
  },
  {
   "cell_type": "markdown",
   "metadata": {},
   "source": [
    "Let's take a look at how the random forest classifer performs!"
   ]
  },
  {
   "cell_type": "code",
   "execution_count": 122,
   "metadata": {},
   "outputs": [
    {
     "name": "stdout",
     "output_type": "stream",
     "text": [
      "RF scores:  [ 0.94041192  0.93879694  0.93949092]\n",
      "SGD scores:  [ 0.88872226  0.88659433  0.84577687]\n"
     ]
    }
   ],
   "source": [
    "print(\"RF scores: \", cross_val_score(forest_clf,X_train,y_train, cv=3,scoring='accuracy'))\n",
    "print(\"SGD scores: \", cross_val_score(sgd_clf,X_train,y_train, cv=3, scoring='accuracy'))"
   ]
  },
  {
   "cell_type": "markdown",
   "metadata": {},
   "source": [
    "# Feature Scaling\n",
    "\n",
    "Looks like we got above 80% for the SGD on all folds. Thats pretty good. A totally random classifier would only predict the right number about 10% of the time, so 80% is obviously a good first step. But theres room for improvement, first lets do feature scaling!!! There are a few options here:\n",
    "\n",
    "- **Min-max scaling (normalization):** values are shifted and rescaled so that they end up ranging from 0 to 1. We do this by subtracting the min value and by the max minus min. Scikitlearn provides a MinMaxScaler for this. it also has a 'feature_range' hyper parameter so u can change the range if you don't want 0-1. \n",
    "- **Standardization:** This is quite different from normalization. First it subtracts the mean value *(so standardized values always have a zero mean)*, and then it divides by the variance so that the resulting distribution has a unit variance. Unlike min-max scaling, standardization does not bound the values to a specific range, which may be a problem for some algos (eg. neural nets often expect an input to range from 0-1).  \n",
    "\n",
    "**Key: Standardization is much less affected by outliers. If we had a median income in our housing data of 100 (by mistake), min-max scaling would then crush all other values from 0-15 down to 0-0.15, wheras standadization would not be much affected. Scikit-Learn provides a StandardScaler transormer for standardization. **\n",
    "\n",
    "Lets do some features scaling on our data and see if it improves the SGDClassifier model we just made. "
   ]
  },
  {
   "cell_type": "code",
   "execution_count": 113,
   "metadata": {},
   "outputs": [
    {
     "data": {
      "text/plain": [
       "array([[ 0.,  0.,  0., ...,  0.,  0.,  0.],\n",
       "       [ 0.,  0.,  0., ...,  0.,  0.,  0.],\n",
       "       [ 0.,  0.,  0., ...,  0.,  0.,  0.],\n",
       "       [ 0.,  0.,  0., ...,  0.,  0.,  0.],\n",
       "       [ 0.,  0.,  0., ...,  0.,  0.,  0.]])"
      ]
     },
     "execution_count": 113,
     "metadata": {},
     "output_type": "execute_result"
    }
   ],
   "source": [
    "from sklearn.preprocessing import StandardScaler\n",
    "scaler = StandardScaler()\n",
    "X_train_scaled = scaler.fit_transform(X_train.astype(np.float64))\n",
    "X_train_scaled[0:5]"
   ]
  },
  {
   "cell_type": "code",
   "execution_count": 124,
   "metadata": {},
   "outputs": [
    {
     "name": "stdout",
     "output_type": "stream",
     "text": [
      "RF scores:  [ 0.94041192  0.93894695  0.93929089]\n",
      "SGD scores:  [ 0.90116977  0.90104505  0.90003501]\n"
     ]
    }
   ],
   "source": [
    "print(\"RF scores: \", cross_val_score(forest_clf,X_train_scaled,y_train, cv=3,scoring='accuracy'))\n",
    "print(\"SGD scores: \", cross_val_score(sgd_clf,X_train_scaled,y_train, cv=3, scoring='accuracy'))"
   ]
  },
  {
   "cell_type": "markdown",
   "metadata": {},
   "source": [
    "Woooohoooo over 90% on each fold for the SGD! Simply scaling the features improves out model by approximately 10%. Sick!!!\n",
    "\n",
    "\n",
    "\n",
    "<p> <font color=red> HOWEVER, not the scores did not really improve AT ALL for the random forest model. This is because scaling features doesnt really affect the algorithm. More on this later!</font> </p>"
   ]
  },
  {
   "cell_type": "markdown",
   "metadata": {},
   "source": [
    "# Error Analysis\n",
    "\n",
    "So, if this were a real project, you would now follow the steps in the Machine Learning project checklist, including exploring data preparation options, trying multiple models, shortlising the best ones and fine tuning their hyper parameters using GridSearchCV, and automating as much as possible. To recap, there are eight main steps:\n",
    "\n",
    "1. Frame the problem and look at the big picture.\n",
    "2. Get the data.\n",
    "3. Explore the data to gain insights.\n",
    "4. Prepare the data to better expose the underlying data patterns to Machine Learning algorithms.\n",
    "5. Explore many different models and short-list the best ones.\n",
    "6. Fine-tune your models and combine them into a great solution.\n",
    "7. Present your solution.\n",
    "8. Launch, monitor, and maintain your system."
   ]
  },
  {
   "cell_type": "markdown",
   "metadata": {},
   "source": [
    "HOWEVER, here we will assume that we have found a promising model and we now want to find ways to improve it! **One way to do this is to analyze the types of errors it makes. First step is to look at the confusion matrix.**"
   ]
  },
  {
   "cell_type": "code",
   "execution_count": 120,
   "metadata": {},
   "outputs": [
    {
     "name": "stdout",
     "output_type": "stream",
     "text": [
      "First ten:  [ 1.  6.  6.  1.  1.  8.  2.  2.  1.  8.]\n"
     ]
    },
    {
     "data": {
      "text/plain": [
       "array([[5592,    0,   16,    9,   10,   44,   37,    6,  208,    1],\n",
       "       [   0, 6423,   42,   21,    3,   40,    4,    9,  191,    9],\n",
       "       [  24,   25, 5264,   91,   72,   26,   65,   40,  342,    9],\n",
       "       [  30,   22,  113, 5255,    2,  202,   27,   45,  370,   65],\n",
       "       [  10,   18,   39,   11, 5242,   10,   39,   20,  297,  156],\n",
       "       [  31,   22,   25,  163,   52, 4465,   76,   22,  510,   55],\n",
       "       [  27,   19,   44,    2,   41,   93, 5558,    4,  130,    0],\n",
       "       [  22,   13,   56,   21,   49,   12,    5, 5717,  167,  203],\n",
       "       [  19,   66,   38,  106,    2,  120,   29,   10, 5419,   42],\n",
       "       [  23,   21,   31,   60,  124,   35,    1,  183,  361, 5110]], dtype=int64)"
      ]
     },
     "execution_count": 120,
     "metadata": {},
     "output_type": "execute_result"
    }
   ],
   "source": [
    "from sklearn.metrics import confusion_matrix\n",
    "\n",
    "y_train_pred = cross_val_predict(sgd_clf, X_train_scaled, y_train, cv=3)\n",
    "print('First ten: ',y_train_pred[0:10])\n",
    "\n",
    "conf_mx = confusion_matrix(y_train, y_train_pred)\n",
    "conf_mx"
   ]
  },
  {
   "cell_type": "markdown",
   "metadata": {},
   "source": [
    "<font color = red size=5> Hmmm that is a lot of numbers! It is probably more useful to visualize this data somewhow. You can do this with Matplotlib's matshow() funciton:</font>"
   ]
  },
  {
   "cell_type": "code",
   "execution_count": 125,
   "metadata": {},
   "outputs": [
    {
     "data": {
      "image/png": "[encoded data removed]",
      "text/plain": [
       "<matplotlib.figure.Figure at 0x2b5009245c0>"
      ]
     },
     "metadata": {},
     "output_type": "display_data"
    }
   ],
   "source": [
    "plt.matshow(conf_mx, cmap = plt.cm.gray)\n",
    "plt.show()"
   ]
  },
  {
   "cell_type": "markdown",
   "metadata": {},
   "source": [
    "Nice! This looks pretty good, since most images are on the main diagonal (which means correct classifications!).** The 5s look slightly darker than the other digits, which could mean that they were fewer images of the 5s in the data set, or the classifier does NOT perform as well on 5s as it does on other digits.** We can verify both of these.\n",
    "\n",
    "Lets now focus the plot on the errors: \n",
    "1. *First, you need to divide each value in the confusion matrix by the number of images in the corresponding class*, **so you can compare error rates instead of absolute number of errors (which would make abundant classes look unfairly bad). **\n",
    "2. <font color = blue> Then we fill the diagonal with zeros to keep ONLY the errors</font>"
   ]
  },
  {
   "cell_type": "code",
   "execution_count": 138,
   "metadata": {},
   "outputs": [
    {
     "name": "stdout",
     "output_type": "stream",
     "text": [
      "[[ 0.944  0.     0.003  0.002  0.002  0.007  0.006  0.001  0.035  0.   ]\n",
      " [ 0.     0.953  0.006  0.003  0.     0.006  0.001  0.001  0.028  0.001]\n",
      " [ 0.004  0.004  0.884  0.015  0.012  0.004  0.011  0.007  0.057  0.002]\n",
      " [ 0.005  0.004  0.018  0.857  0.     0.033  0.004  0.007  0.06   0.011]\n",
      " [ 0.002  0.003  0.007  0.002  0.897  0.002  0.007  0.003  0.051  0.027]\n",
      " [ 0.006  0.004  0.005  0.03   0.01   0.824  0.014  0.004  0.094  0.01 ]\n",
      " [ 0.005  0.003  0.007  0.     0.007  0.016  0.939  0.001  0.022  0.   ]\n",
      " [ 0.004  0.002  0.009  0.003  0.008  0.002  0.001  0.913  0.027  0.032]\n",
      " [ 0.003  0.011  0.006  0.018  0.     0.021  0.005  0.002  0.926  0.007]\n",
      " [ 0.004  0.004  0.005  0.01   0.021  0.006  0.     0.031  0.061  0.859]]\n"
     ]
    }
   ],
   "source": [
    "# step 1\n",
    "row_sums = conf_mx.sum(axis=1, keepdims=True)\n",
    "norm_conf_mx = conf_mx / row_sums\n",
    "print(np.around(norm_conf_mx, decimals=3))"
   ]
  },
  {
   "cell_type": "code",
   "execution_count": 140,
   "metadata": {},
   "outputs": [
    {
     "data": {
      "image/png": "[encoded data removed]",
      "text/plain": [
       "<matplotlib.figure.Figure at 0x2b54c681f98>"
      ]
     },
     "metadata": {},
     "output_type": "display_data"
    }
   ],
   "source": [
    "# step 2\n",
    "np.fill_diagonal(norm_conf_mx,0) #fill diagonal with zeros to highlight other differences\n",
    "plt.matshow(norm_conf_mx, cmap=plt.cm.gray)\n",
    "plt.show()"
   ]
  },
  {
   "cell_type": "markdown",
   "metadata": {},
   "source": [
    "Neat! Now we can clearly see where the biggest errors are. White mean high numbers, so they are the highest numbers. **Remember the ROWS represent actual classes, while COLUMNS represent predicted classes.** \n",
    "- The columns for 8 and 9 are quite bright, which tells you many images are misclassified as 8 or 9. \n",
    "- Similarily the rows for classes 8 and 9 are also quite bright, telling you that 8s and 9s are often confused with other digits. \n",
    "- Conversly some rows are pretty dark, such as row 1. meaning that most 1s are classified correctly. \n",
    "- Notice that that erors are not perfeclty symmetrical; for example there are mroe 5s misclassified as 8s than the reverse.\n",
    "\n",
    "<font color=red> Analyzing confusing matrix can often give you insihgts on ways to improve your classifier. Looking at this ploit, it seems that your efforts should be spent on improving classifications of 8s and 9s, as wel, as well as fixing the specific 3/5 confusion. For example:</font>\n",
    "- you could try to gather more training data for these digits.\n",
    "- or you could engineer new features that would help the classifier:\n",
    "    - for example writing an algorithm to count the number of closed loops (eg. 8 has two, 6 has one, 5 has none). \n",
    "- Or you could preprocess the imagines (eg using Scikit-Image, Pillow, or OpenCV) to make some patterns stand out more, such as closed loops. "
   ]
  },
  {
   "cell_type": "markdown",
   "metadata": {},
   "source": [
    "# Analyzing indidivual errors\n",
    "\n",
    "Analyzing individual errors can also be a good way to gain insights on errors, but its often more difficult. For example, lets plot 3s and 5s."
   ]
  },
  {
   "cell_type": "code",
   "execution_count": 141,
   "metadata": {
    "collapsed": true
   },
   "outputs": [],
   "source": [
    "# set up plot_digit and plot_digits functions\n",
    "\n",
    "def plot_digit(data):\n",
    "    image = data.reshape(28, 28)\n",
    "    plt.imshow(image, cmap = matplotlib.cm.binary,\n",
    "               interpolation=\"nearest\")\n",
    "    plt.axis(\"off\")\n",
    "    \n",
    "def plot_digits(instances, images_per_row=10, **options):\n",
    "    size = 28\n",
    "    images_per_row = min(len(instances), images_per_row)\n",
    "    images = [instance.reshape(size,size) for instance in instances]\n",
    "    n_rows = (len(instances) - 1) // images_per_row + 1\n",
    "    row_images = []\n",
    "    n_empty = n_rows * images_per_row - len(instances)\n",
    "    images.append(np.zeros((size, size * n_empty)))\n",
    "    for row in range(n_rows):\n",
    "        rimages = images[row * images_per_row : (row + 1) * images_per_row]\n",
    "        row_images.append(np.concatenate(rimages, axis=1))\n",
    "    image = np.concatenate(row_images, axis=0)\n",
    "    plt.imshow(image, cmap = matplotlib.cm.binary, **options)\n",
    "    plt.axis(\"off\")"
   ]
  },
  {
   "cell_type": "code",
   "execution_count": 142,
   "metadata": {},
   "outputs": [
    {
     "data": {
      "image/png": "[encoded data removed]",
      "text/plain": [
       "<matplotlib.figure.Figure at 0x2b54c6e93c8>"
      ]
     },
     "metadata": {},
     "output_type": "display_data"
    }
   ],
   "source": [
    "cl_a, cl_b = 3, 5\n",
    "X_aa = X_train[(y_train == cl_a) & (y_train_pred == cl_a)]\n",
    "X_ab = X_train[(y_train == cl_a) & (y_train_pred == cl_b)]\n",
    "X_ba = X_train[(y_train == cl_b) & (y_train_pred == cl_a)]\n",
    "X_bb = X_train[(y_train == cl_b) & (y_train_pred == cl_b)]\n",
    "plt.figure(figsize=(8,8))\n",
    "\n",
    "plt.subplot(221); plot_digits(X_aa[:25], images_per_row=5)\n",
    "plt.title('Correct: Classified as 3')\n",
    "plt.subplot(222); plot_digits(X_ab[:25], images_per_row=5)\n",
    "plt.title('Incorrect: Classified as 5')\n",
    "plt.subplot(223); plot_digits(X_ba[:25], images_per_row=5)\n",
    "plt.title('Incorrect: Classified 3s')\n",
    "plt.subplot(224); plot_digits(X_bb[:25], images_per_row=5)\n",
    "plt.title('Correct: Classified as 5s')\n",
    "plt.show()\n",
    "\n",
    "#Note, not sure if I got these titles right!"
   ]
  },
  {
   "cell_type": "markdown",
   "metadata": {},
   "source": [
    "**The 5x5 blocks on the left show digits classified as 3s, and the two blocks on the right show images classified as 5s.**  Some fo the digits that the classifier gets wrong (in the bottom left and top right blocks) are so badly written even human eyes couldnt guess. However most classified images seem like obvious errors to us, and its hard to understand why the classifier made the mistakes it did. \n",
    "\n",
    "***But remember that our brain is a fantastic pattern recognition system, and our visual system does a lot of complex preprocessing before any information reaches our consciousness, so the fact that it feels simple does not mean that it is. ***\n",
    "\n",
    "<Font color=red size=5>The reason is that we used a simple SGDClassifier, which is a linear model. All it does it assign a weight per class to each pixel, and when it sees a new image it just sums up the weigted pixel intensites to get a score for each class. So since 3s and 5s differ only by a few pixels, this model will easily confuse them.</font>\n",
    "\n",
    "The main difference between 3s and 5s is the position of the small line that joins the top line to the bottom arc. In other words, this classifier is quite sensitive to image shifting and rotation. So one way to reduce the 3/5 confusion would be to preprocess the images to ensure that they are all well centered and not too rotated. This will probably help reduce errors. \n"
   ]
  },
  {
   "cell_type": "markdown",
   "metadata": {},
   "source": [
    "# Multilabel Classification\n",
    "Until now each instance has always been assigned to just one class. In some cases you may want your ouput to have multiple classes for each instance!!! For consider a face-recognition classifier: what if you want to classifier to recognize multiple poeple in the picture?\n",
    "\n",
    "We won't get into face recognition just yet, but lets look at a simple example, just for illustration purposes:"
   ]
  },
  {
   "cell_type": "code",
   "execution_count": 143,
   "metadata": {},
   "outputs": [
    {
     "data": {
      "text/plain": [
       "array([[False,  True],\n",
       "       [False, False],\n",
       "       [False, False],\n",
       "       ..., \n",
       "       [False, False],\n",
       "       [False, False],\n",
       "       [ True,  True]], dtype=bool)"
      ]
     },
     "execution_count": 143,
     "metadata": {},
     "output_type": "execute_result"
    }
   ],
   "source": [
    "from sklearn.neighbors import KNeighborsClassifier\n",
    "\n",
    "y_train_large = (y_train >= 7)\n",
    "y_train_odd = (y_train % 2 ==1)\n",
    "y_multilabel = np.c_[y_train_large, y_train_odd] #create multiclass matrix\n",
    "y_multilabel"
   ]
  },
  {
   "cell_type": "code",
   "execution_count": 144,
   "metadata": {},
   "outputs": [
    {
     "data": {
      "text/plain": [
       "KNeighborsClassifier(algorithm='auto', leaf_size=30, metric='minkowski',\n",
       "           metric_params=None, n_jobs=1, n_neighbors=5, p=2,\n",
       "           weights='uniform')"
      ]
     },
     "execution_count": 144,
     "metadata": {},
     "output_type": "execute_result"
    }
   ],
   "source": [
    "knn_clf = KNeighborsClassifier()\n",
    "knn_clf.fit(X_train, y_multilabel)"
   ]
  },
  {
   "cell_type": "markdown",
   "metadata": {},
   "source": [
    "Thi code creates a **y_mulilable array, containing two target labels** for each image: the first indicates whether or not eh digit is large (7,8,9) and the second indicates whether or not it is odd. The next bit creates a KNeightborsClassifier instance **(which supports multilabel classification, BUT NOT ALL CLASSIFIERS DO), and we train the model using the multiple targets array!**"
   ]
  },
  {
   "cell_type": "code",
   "execution_count": 145,
   "metadata": {},
   "outputs": [
    {
     "data": {
      "text/plain": [
       "array([[False,  True]], dtype=bool)"
      ]
     },
     "execution_count": 145,
     "metadata": {},
     "output_type": "execute_result"
    }
   ],
   "source": [
    "knn_clf.predict([some_digit])"
   ]
  },
  {
   "cell_type": "markdown",
   "metadata": {},
   "source": [
    "Woohooo its right! 5 is indeed non large (False) and odd (True). \n",
    "\n",
    "There are many ways to evaluate a multilabel classifie, but selecting the right metric really depends on your project. One approach is to measure the F1 score for each individual label, then simply compute the average score. \n",
    "\n",
    "This assumes that all labels are important, which may not be true. For example, if you have many pictures of Alice than Bob or Charline, you may want to give more weight to the classifiers score on pictures of Alice. \n",
    "- Weighted classes: one way to address this is to give each label a weight equal to its *support* (ie. the number of instances with that target label). To do this, simple set *average=\"weighted\"* in the preceding code.\n",
    "\n",
    "**Warning:** *the following cell may take a very long time (possibly hours depending on your hardware). I think this is because KNN uses all the data and is therefore super slow!!! Whats the name for this kind of model again?*"
   ]
  },
  {
   "cell_type": "code",
   "execution_count": 146,
   "metadata": {
    "collapsed": true
   },
   "outputs": [],
   "source": [
    "#y_train_knn_pred = cross_val_predict(knn_clf, X_train,y_multilabel, cv=3)\n",
    "#f1_score(y_multilabel, y_train_knn_pred, average='macro')"
   ]
  },
  {
   "cell_type": "markdown",
   "metadata": {},
   "source": [
    "# Multioutput Classification\n",
    "\n",
    "Last type of classificaiton we cover in this chapter is multioutput-multiclass classification. It is simply a generalization of the multilabel classification where each label can be multiclass (ie. it can have more than two possible values). \n",
    "\n",
    "To illustrate, lets build a sustem thta removes noise from images. It will take as input a noisy digit image, and it will (hopefully) output a clean digit image, respresented as an array of pixel intensities, just like the MNIST images. Notice that the classifier's output is multilabel (one label per pixel) and each label can have multiple vales (pixel intensity ranges from 0 to 255). It is this an example of a multiouput classificaiton system. \n",
    "\n",
    "**NOTE: The line between classification and regression is sometimes blurry, such as in this example. Arguably, predicting pixel\n",
    "intensity is more akin to regression than to classification. Moreover, multioutput systems are not limited to classification\n",
    "tasks; you could even have a system that outputs multiple labels per instance, including both class labels and value labels.**\n",
    "\n",
    "Let’s start by creating the training and test sets by taking the MNIST images and adding noise to their\n",
    "pixel intensities using NumPy’s randint() function. The target images will be the original images:"
   ]
  },
  {
   "cell_type": "code",
   "execution_count": 147,
   "metadata": {
    "collapsed": true
   },
   "outputs": [],
   "source": [
    "noise = np.random.randint(0, 100, (len(X_train), 784))\n",
    "X_train_mod = X_train + noise\n",
    "noise = np.random.randint(0, 100, (len(X_test), 784))\n",
    "X_test_mod = X_test + noise\n",
    "\n",
    "# Now we set the y variable to the original observation! \n",
    "y_train_mod = X_train\n",
    "y_test_mod = X_test"
   ]
  },
  {
   "cell_type": "markdown",
   "metadata": {},
   "source": [
    "Let’s take a peek at an image from the test set (yes, we’re snooping on the test data, so you should be\n",
    "frowning right now).\n",
    "\n",
    "On the left is the noisy input image, and on the right is the clean target image. **Now let’s train the\n",
    "classifier and make it clean this image:**"
   ]
  },
  {
   "cell_type": "code",
   "execution_count": 148,
   "metadata": {},
   "outputs": [
    {
     "data": {
      "image/png": "[encoded data removed]",
      "text/plain": [
       "<matplotlib.figure.Figure at 0x2b50005da90>"
      ]
     },
     "metadata": {},
     "output_type": "display_data"
    }
   ],
   "source": [
    "some_index = 5500\n",
    "plt.subplot(121); plot_digit(X_test_mod[some_index])\n",
    "plt.subplot(122); plot_digit(y_test_mod[some_index])\n",
    "plt.show()"
   ]
  },
  {
   "cell_type": "code",
   "execution_count": 149,
   "metadata": {},
   "outputs": [
    {
     "data": {
      "image/png": "[encoded data removed]",
      "text/plain": [
       "<matplotlib.figure.Figure at 0x2b50089e550>"
      ]
     },
     "metadata": {},
     "output_type": "display_data"
    }
   ],
   "source": [
    "knn_clf.fit(X_train_mod, y_train_mod)\n",
    "clean_digit = knn_clf.predict([X_test_mod[some_index]])\n",
    "plot_digit(clean_digit)"
   ]
  },
  {
   "cell_type": "markdown",
   "metadata": {},
   "source": [
    "Looks close enough to the target! This concludes our tour of classification. Hopefully you should now\n",
    "know how to select good metrics for classification tasks, pick the appropriate precision/recall\n",
    "tradeoff, compare classifiers, and more generally build good classification systems for a variety of\n",
    "tasks."
   ]
  }
 ],
 "metadata": {
  "kernelspec": {
   "display_name": "Python 3",
   "language": "python",
   "name": "python3"
  },
  "language_info": {
   "codemirror_mode": {
    "name": "ipython",
    "version": 3
   },
   "file_extension": ".py",
   "mimetype": "text/x-python",
   "name": "python",
   "nbconvert_exporter": "python",
   "pygments_lexer": "ipython3",
   "version": "3.6.3"
  }
 },
 "nbformat": 4,
 "nbformat_minor": 2
}
