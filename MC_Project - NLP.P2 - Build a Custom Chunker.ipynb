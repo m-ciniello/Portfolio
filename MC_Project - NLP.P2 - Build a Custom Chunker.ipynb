{
 "cells": [
  {
   "cell_type": "markdown",
   "metadata": {},
   "source": [
    "# NLP for Hackers - Part 3 - Build a Custom Chunker\n",
    "\n",
    "Notes from the fantastic book 'NLP for Hackers' by George-Bogdan Ivanov\n"
   ]
  },
  {
   "cell_type": "markdown",
   "metadata": {},
   "source": [
    "# 1. Chunker (Shallow Parsing) Basics\n",
    "\n",
    "Chunking, or **Shallow Parsing**, adds more structure on top of a Part-Of-Speech annotated text. The result of chunking is a **grouping of consecutive words that serve a single role.**\n",
    "\n",
    "![](images/nlpforhackers_chunker.jpg)\n",
    "\n",
    "Just with POS tags, as we saw in the last notebook, Chunking has it's own set of tags. Above you see:\n",
    "- NP: Noun Phrase\n",
    "- VP: Verb Phrase\n",
    "- PP: Prepositional Phrase\n",
    "\n",
    "There’s also **normal parsing, called deep parsing,** which has as a result an entire syntax tree. As you can probably guess, **Deep Parsing is a much more complex task, more prone to errors and much slower than simple chunking.** Obviously, it really depends on the situation and deciding which tool would best solve the task should be made on a case-by-case basis. \n",
    "\n",
    "Let’s see how shallow and deep parsers compare:\n",
    "\n",
    "**Shallow parser:**\n",
    "```\n",
    "(S\n",
    "    (NP The/DT quick/JJ brown/NN fox/NN)\n",
    "    (VP jumps/VBZ)\n",
    "    (PP over/IN)\n",
    "    (NP the/DT lazy/JJ dog/NN)\n",
    "./.)\n",
    "```\n",
    "\n",
    "**Deep parser:**\n",
    "\n",
    "```\n",
    "(S\n",
    "    (NP The/DT quick/JJ brown/JJ fox/NN)\n",
    "    (VP jumps/VBZ\n",
    "        (PP over/IN\n",
    "            (NP the/DT lazy/JJ dog/NN)))\n",
    "(. .))\n",
    "```\n",
    "\n",
    "We can use `nltk.ne_chunk` to visualize shallow parse trees. The ne_chunk method is simply applying a pre trained chunker that is installed with nlkt. It can be implemented as follows:"
   ]
  },
  {
   "cell_type": "code",
   "execution_count": 11,
   "metadata": {
    "collapsed": true
   },
   "outputs": [],
   "source": [
    "# We have to first add the ghost script to our environment so nltk.tree works properly\n",
    "# More details here https://www.ghostscript.com/download/gsdnld.html\n",
    "import os\n",
    "path_to_gs = \"C:\\\\Program Files\\\\gs\\\\gs9.24\\\\bin\"\n",
    "os.environ['PATH'] += os.pathsep + path_to_gs"
   ]
  },
  {
   "cell_type": "code",
   "execution_count": 12,
   "metadata": {},
   "outputs": [
    {
     "data": {
      "text/plain": [
       "[('The', 'DT'),\n",
       " ('Quick', 'NNP'),\n",
       " ('Brown', 'NNP'),\n",
       " ('Fox', 'NNP'),\n",
       " ('jumps', 'VBZ'),\n",
       " ('over', 'IN'),\n",
       " ('the', 'DT'),\n",
       " ('Lazy', 'NNP'),\n",
       " ('Dog', 'NNP'),\n",
       " ('.', '.')]"
      ]
     },
     "execution_count": 12,
     "metadata": {},
     "output_type": "execute_result"
    }
   ],
   "source": [
    "# Get tagged tokens\n",
    "import nltk\n",
    "sentence = \"\"\"The Quick Brown Fox jumps over the Lazy Dog.\"\"\"\n",
    "tokens = nltk.word_tokenize(sentence)\n",
    "tagged_tokens = nltk.pos_tag(tokens)\n",
    "tagged_tokens"
   ]
  },
  {
   "cell_type": "code",
   "execution_count": 13,
   "metadata": {},
   "outputs": [
    {
     "name": "stdout",
     "output_type": "stream",
     "text": [
      "(S\n",
      "  The/DT\n",
      "  (ORGANIZATION Quick/NNP Brown/NNP Fox/NNP)\n",
      "  jumps/VBZ\n",
      "  over/IN\n",
      "  the/DT\n",
      "  (ORGANIZATION Lazy/NNP Dog/NNP)\n",
      "  ./.)\n"
     ]
    },
    {
     "data": {
      "image/png": "[encoded data removed]",
      "text/plain": [
       "Tree('S', [('The', 'DT'), Tree('ORGANIZATION', [('Quick', 'NNP'), ('Brown', 'NNP'), ('Fox', 'NNP')]), ('jumps', 'VBZ'), ('over', 'IN'), ('the', 'DT'), Tree('ORGANIZATION', [('Lazy', 'NNP'), ('Dog', 'NNP')]), ('.', '.')])"
      ]
     },
     "metadata": {},
     "output_type": "display_data"
    }
   ],
   "source": [
    "from IPython.display import display\n",
    "#Use pretrained ne_chunk model\n",
    "ner_annotated_tree = nltk.ne_chunk(tagged_tokens)\n",
    "print(ner_annotated_tree)\n",
    "display(ner_annotated_tree) # NOTE this isnt working for some reaosn..."
   ]
  },
  {
   "cell_type": "markdown",
   "metadata": {},
   "source": [
    "# 2. Under the hood: IOB Tagging\n",
    "\n",
    "Shallow parsing is a pretty easy task and is **similar to Part-of-Speech tagging**. In fact, it can be **reduced to a tagging problem.** To understand how it works, we need to learn a new tagging technique, called **IOB Tagging (or BIO Tagging).** \n",
    "\n",
    "IOB Tagging is useful especially for **annotating multi-word (or consecutive words) sequences.** As you probably noticed in the previous example, some tokens are grouped under a single label representing such a grouping. Here’s how the IOB tags\n",
    "look:\n",
    "\n",
    "- `B-<CHUNK_TYPE>` : for the word from the Beginning of the chunk\n",
    "- `I-<CHUNK_TYPE>` : for words Inside the chunk\n",
    "- `O` : Outside any chunk\n",
    "\n",
    "To reiterate, the `B-<CHUNK_TYPE>` marks the beginning of a chunk CHUNK_TYPE and the `I-<CHUNK_TYPE>` marks that we’re inside of a chunk CHUNK_TYPE. The O marks that we’re outside of any type of chunk. \n",
    "\n",
    "Here’s how our sample sentence looks like when presented in IOB tagged form:\n",
    "\n",
    "```\n",
    "[('The', 'DT', 'B-NP'),\n",
    "('quick', 'JJ', 'I-NP'),\n",
    "('brown', 'NN', 'I-NP'),\n",
    "('fox', 'NN', 'I-NP'),\n",
    "('jumps', 'VBZ', 'B-VP'),\n",
    "('over', 'IN', 'B-PP'),\n",
    "('the', 'DT', 'B-NP'),\n",
    "('lazy', 'JJ', 'I-NP'),\n",
    "('dog', 'NN', 'I-NP'),\n",
    "('.', '.', 'O')]\n",
    "```\n",
    "\n",
    "NLTK also has a chunking corpus, CoNLL Dataset, which we will explore now!"
   ]
  },
  {
   "cell_type": "code",
   "execution_count": 14,
   "metadata": {},
   "outputs": [
    {
     "name": "stdout",
     "output_type": "stream",
     "text": [
      "10948\n"
     ]
    },
    {
     "data": {
      "text/plain": [
       "[Tree('S', [Tree('NP', [('Confidence', 'NN')]), Tree('PP', [('in', 'IN')]), Tree('NP', [('the', 'DT'), ('pound', 'NN')]), Tree('VP', [('is', 'VBZ'), ('widely', 'RB'), ('expected', 'VBN'), ('to', 'TO'), ('take', 'VB')]), Tree('NP', [('another', 'DT'), ('sharp', 'JJ'), ('dive', 'NN')]), ('if', 'IN'), Tree('NP', [('trade', 'NN'), ('figures', 'NNS')]), Tree('PP', [('for', 'IN')]), Tree('NP', [('September', 'NNP')]), (',', ','), ('due', 'JJ'), Tree('PP', [('for', 'IN')]), Tree('NP', [('release', 'NN')]), Tree('NP', [('tomorrow', 'NN')]), (',', ','), Tree('VP', [('fail', 'VB'), ('to', 'TO'), ('show', 'VB')]), Tree('NP', [('a', 'DT'), ('substantial', 'JJ'), ('improvement', 'NN')]), Tree('PP', [('from', 'IN')]), Tree('NP', [('July', 'NNP'), ('and', 'CC'), ('August', 'NNP')]), Tree('NP', [(\"'s\", 'POS'), ('near-record', 'JJ'), ('deficits', 'NNS')]), ('.', '.')])]"
      ]
     },
     "execution_count": 14,
     "metadata": {},
     "output_type": "execute_result"
    }
   ],
   "source": [
    "from nltk.corpus import conll2000\n",
    "\n",
    "# Import data in tree format\n",
    "tree_sent = conll2000.chunked_sents()\n",
    "print(len(tree_sent))\n",
    "tree_sent[0:1]"
   ]
  },
  {
   "cell_type": "code",
   "execution_count": 15,
   "metadata": {},
   "outputs": [
    {
     "name": "stdout",
     "output_type": "stream",
     "text": [
      "166433\n"
     ]
    },
    {
     "data": {
      "text/plain": [
       "[Tree('NP', [('Confidence', 'NN')]),\n",
       " Tree('PP', [('in', 'IN')]),\n",
       " Tree('NP', [('the', 'DT'), ('pound', 'NN')]),\n",
       " Tree('VP', [('is', 'VBZ'), ('widely', 'RB'), ('expected', 'VBN'), ('to', 'TO'), ('take', 'VB')]),\n",
       " Tree('NP', [('another', 'DT'), ('sharp', 'JJ'), ('dive', 'NN')]),\n",
       " ('if', 'IN'),\n",
       " Tree('NP', [('trade', 'NN'), ('figures', 'NNS')]),\n",
       " Tree('PP', [('for', 'IN')]),\n",
       " Tree('NP', [('September', 'NNP')]),\n",
       " (',', ',')]"
      ]
     },
     "execution_count": 15,
     "metadata": {},
     "output_type": "execute_result"
    }
   ],
   "source": [
    "# Import data \n",
    "tree_words = conll2000.chunked_words()\n",
    "print(len(tree_words))\n",
    "tree_words[0:10]"
   ]
  },
  {
   "cell_type": "markdown",
   "metadata": {},
   "source": [
    "### Converting between nltk.trees and IOB tripliets\n",
    "As you can notice, in NLTK the default way of representing Shallow Parses is with **nltk.Tree.** We can transform the chunked sentence (represented as a nltk.Tree) to IOB tagged triplets using NLTKs `tree2conlltags` function, and revert back to a tree format using the `tree2conlltags` function:"
   ]
  },
  {
   "cell_type": "code",
   "execution_count": 16,
   "metadata": {},
   "outputs": [
    {
     "data": {
      "text/plain": [
       "[('Confidence', 'NN', 'B-NP'),\n",
       " ('in', 'IN', 'B-PP'),\n",
       " ('the', 'DT', 'B-NP'),\n",
       " ('pound', 'NN', 'I-NP'),\n",
       " ('is', 'VBZ', 'B-VP'),\n",
       " ('widely', 'RB', 'I-VP'),\n",
       " ('expected', 'VBN', 'I-VP'),\n",
       " ('to', 'TO', 'I-VP'),\n",
       " ('take', 'VB', 'I-VP'),\n",
       " ('another', 'DT', 'B-NP'),\n",
       " ('sharp', 'JJ', 'I-NP'),\n",
       " ('dive', 'NN', 'I-NP'),\n",
       " ('if', 'IN', 'O'),\n",
       " ('trade', 'NN', 'B-NP'),\n",
       " ('figures', 'NNS', 'I-NP')]"
      ]
     },
     "execution_count": 16,
     "metadata": {},
     "output_type": "execute_result"
    }
   ],
   "source": [
    "# Convert tree to iob tags\n",
    "from nltk.chunk import tree2conlltags\n",
    "iob = tree2conlltags(tree_sent[0])\n",
    "iob[0:15]"
   ]
  },
  {
   "cell_type": "code",
   "execution_count": 17,
   "metadata": {},
   "outputs": [
    {
     "name": "stdout",
     "output_type": "stream",
     "text": [
      "(S\n",
      "  (NP Confidence/NN)\n",
      "  (PP in/IN)\n",
      "  (NP the/DT pound/NN)\n",
      "  (VP is/VBZ widely/RB expected/VBN to/TO take/VB)\n",
      "  (NP another/DT sharp/JJ dive/NN)\n",
      "  if/IN\n",
      "  (NP trade/NN figures/NNS)\n",
      "  (PP for/IN)\n",
      "  (NP September/NNP)\n",
      "  ,/,\n",
      "  due/JJ\n",
      "  (PP for/IN)\n",
      "  (NP release/NN)\n",
      "  (NP tomorrow/NN)\n",
      "  ,/,\n",
      "  (VP fail/VB to/TO show/VB)\n",
      "  (NP a/DT substantial/JJ improvement/NN)\n",
      "  (PP from/IN)\n",
      "  (NP July/NNP and/CC August/NNP)\n",
      "  (NP 's/POS near-record/JJ deficits/NNS)\n",
      "  ./.)\n"
     ]
    }
   ],
   "source": [
    "# Convert IOB tags to tree\n",
    "from nltk.chunk import conlltags2tree\n",
    "tree = conlltags2tree(iob)\n",
    "print(tree)"
   ]
  },
  {
   "cell_type": "markdown",
   "metadata": {},
   "source": [
    "# 3. Implementing the Chunk Parser\n",
    "\n",
    "The base class for implementing chunkers in NLTK is called `nltk.ChunkParserI`. Let’s extend that class and wrap inside it the ClassifierBasedTaggerBatchTrained we built in the previous chapter."
   ]
  },
  {
   "cell_type": "code",
   "execution_count": 18,
   "metadata": {
    "collapsed": true
   },
   "outputs": [],
   "source": [
    "# Input-Output function\n",
    "def print_io(function, input_, args=None, input_idx=0):\n",
    "    \"\"\"Function to quickly print inputs and outputs of a function:\n",
    "        function: function to run\n",
    "        input_: input to funciton\n",
    "        args: list of args to be fed into function\n",
    "        input_idx: index of input_ in the args list (defaults to zero)\"\"\"    \n",
    "    if args:\n",
    "        args.insert(input_idx, input_)\n",
    "        output = function(*args)\n",
    "    else:\n",
    "        output = function(input_)\n",
    "    func_name = function.__name__\n",
    "    print(\"{} INPUT:\\n\".format(func_name), input_)\n",
    "    print(\"\\n{} OUTPUT:\\n\".format(func_name),output)"
   ]
  },
  {
   "cell_type": "markdown",
   "metadata": {},
   "source": [
    "## 3.1 Build custome tree-to-tags functions \n",
    "\n",
    "Simple functions for converting triple tags to ((word,pos),chunk) format. This will be useful later on."
   ]
  },
  {
   "cell_type": "code",
   "execution_count": 19,
   "metadata": {},
   "outputs": [
    {
     "name": "stdout",
     "output_type": "stream",
     "text": [
      "triplets2tagged_pairs INPUT:\n",
      " [('Confidence', 'NN', 'B-NP'), ('in', 'IN', 'B-PP'), ('the', 'DT', 'B-NP'), ('pound', 'NN', 'I-NP'), ('is', 'VBZ', 'B-VP'), ('widely', 'RB', 'I-VP'), ('expected', 'VBN', 'I-VP'), ('to', 'TO', 'I-VP'), ('take', 'VB', 'I-VP'), ('another', 'DT', 'B-NP'), ('sharp', 'JJ', 'I-NP'), ('dive', 'NN', 'I-NP'), ('if', 'IN', 'O'), ('trade', 'NN', 'B-NP'), ('figures', 'NNS', 'I-NP'), ('for', 'IN', 'B-PP'), ('September', 'NNP', 'B-NP'), (',', ',', 'O'), ('due', 'JJ', 'O'), ('for', 'IN', 'B-PP'), ('release', 'NN', 'B-NP'), ('tomorrow', 'NN', 'B-NP'), (',', ',', 'O'), ('fail', 'VB', 'B-VP'), ('to', 'TO', 'I-VP'), ('show', 'VB', 'I-VP'), ('a', 'DT', 'B-NP'), ('substantial', 'JJ', 'I-NP'), ('improvement', 'NN', 'I-NP'), ('from', 'IN', 'B-PP'), ('July', 'NNP', 'B-NP'), ('and', 'CC', 'I-NP'), ('August', 'NNP', 'I-NP'), (\"'s\", 'POS', 'B-NP'), ('near-record', 'JJ', 'I-NP'), ('deficits', 'NNS', 'I-NP'), ('.', '.', 'O')]\n",
      "\n",
      "triplets2tagged_pairs OUTPUT:\n",
      " [(('Confidence', 'NN'), 'B-NP'), (('in', 'IN'), 'B-PP'), (('the', 'DT'), 'B-NP'), (('pound', 'NN'), 'I-NP'), (('is', 'VBZ'), 'B-VP'), (('widely', 'RB'), 'I-VP'), (('expected', 'VBN'), 'I-VP'), (('to', 'TO'), 'I-VP'), (('take', 'VB'), 'I-VP'), (('another', 'DT'), 'B-NP'), (('sharp', 'JJ'), 'I-NP'), (('dive', 'NN'), 'I-NP'), (('if', 'IN'), 'O'), (('trade', 'NN'), 'B-NP'), (('figures', 'NNS'), 'I-NP'), (('for', 'IN'), 'B-PP'), (('September', 'NNP'), 'B-NP'), ((',', ','), 'O'), (('due', 'JJ'), 'O'), (('for', 'IN'), 'B-PP'), (('release', 'NN'), 'B-NP'), (('tomorrow', 'NN'), 'B-NP'), ((',', ','), 'O'), (('fail', 'VB'), 'B-VP'), (('to', 'TO'), 'I-VP'), (('show', 'VB'), 'I-VP'), (('a', 'DT'), 'B-NP'), (('substantial', 'JJ'), 'I-NP'), (('improvement', 'NN'), 'I-NP'), (('from', 'IN'), 'B-PP'), (('July', 'NNP'), 'B-NP'), (('and', 'CC'), 'I-NP'), (('August', 'NNP'), 'I-NP'), ((\"'s\", 'POS'), 'B-NP'), (('near-record', 'JJ'), 'I-NP'), (('deficits', 'NNS'), 'I-NP'), (('.', '.'), 'O')]\n"
     ]
    }
   ],
   "source": [
    "def triplets2tagged_pairs(iob_sent):\n",
    "    \"\"\"\n",
    "    Transform the triplets to tagged pairs:\n",
    "    [(word1, pos1, iob1), (word2, pos2, iob2), ...] ->\n",
    "    [((word1, pos1), iob1), ((word2, pos2), iob2),...]\n",
    "    \"\"\"\n",
    "    return [((word, pos), chunk) for word, pos, chunk in iob_sent]\n",
    "\n",
    "def tagged_pairs2triplets(iob_sent):\n",
    "    \"\"\"\n",
    "    Transform the triplets to tagged pairs:\n",
    "    [((word1, pos1), iob1), ((word2, pos2), iob2),...] ->\n",
    "    [(word1, pos1, iob1), (word2, pos2, iob2), ...]\n",
    "    \"\"\"\n",
    "    return [(word, pos, chunk) for (word, pos), chunk in iob_sent]\n",
    "\n",
    "print_io(triplets2tagged_pairs, iob)"
   ]
  },
  {
   "cell_type": "markdown",
   "metadata": {},
   "source": [
    "## 3.2 Chunk Feature Detector\n",
    "\n",
    "Just like we did for the POS features, we need to create a function to extract IOB features. Note that nltk has its own chunk feature detector, accessed through via `nltk.chunk.named_entity import NEChunkParserTagger`, however as per usual, we are going to build our own from scratch! Just for funsies. "
   ]
  },
  {
   "cell_type": "code",
   "execution_count": 20,
   "metadata": {
    "collapsed": true
   },
   "outputs": [],
   "source": [
    "from nltk.stem.snowball import SnowballStemmer\n",
    "import re\n",
    "stemmer = SnowballStemmer('english')\n",
    "\n",
    "# Bring the shape function back in!\n",
    "def shape(word):\n",
    "    if re.match('[0-9]+(\\.[0-9]*)?|[0-9]*\\.[0-9]+$', word):\n",
    "        return 'number'\n",
    "    elif re.match('\\W+$', word):\n",
    "        return 'punct'\n",
    "    elif re.match('[A-Z][a-z]+$', word):\n",
    "        return 'capitalized'\n",
    "    elif re.match('[A-Z]+$', word):\n",
    "        return 'uppercase'\n",
    "    elif re.match('[a-z]+$', word):\n",
    "        return 'lowercase'\n",
    "    elif re.match('[A-Z][a-z]+[A-Z][a-z]+[A-Za-z]*$', word):\n",
    "        return 'camelcase'\n",
    "    elif re.match('[A-Za-z]+$', word):\n",
    "        return 'mixedcase'\n",
    "    elif re.match('__.+__$', word):\n",
    "        return 'wildcard'\n",
    "    elif re.match('[A-Za-z0-9]+\\.$', word):\n",
    "        return 'ending-dot'\n",
    "    elif re.match('[A-Za-z0-9]+\\.[A-Za-z0-9\\.]+\\.$', word):\n",
    "        return 'abbreviation'\n",
    "    elif re.match('[A-Za-z0-9]+\\-[A-Za-z0-9\\-]+.*$', word):\n",
    "        return 'contains-hyphen'\n",
    "    return 'other'\n",
    "\n",
    "def chunk_features(sentence, index, history, print_results=False):\n",
    "    \"\"\"\n",
    "    `sentence` = a POS-tagged sentence [(w1, t1), ...]\n",
    "    `index` = the index of the token we want to extract features for\n",
    "    `history` = the previous predicted IOB tags\n",
    "    \"\"\"\n",
    "    # Pad the sequence with placeholders\n",
    "    sentence = ([('__START2__', '__START2__'), ('__START1__', '__START1__')] + # APPEND START SENTENCE/TAGS\n",
    "              list(sentence) +\n",
    "              [('__END1__', '__END1__'), ('__END2__', '__END2__')]) # APPEND END SENTENCE/TAGS\n",
    "    history = ['__START2__', '__START1__'] + list(history)\n",
    "    # shift the index with 2, to accommodate the padding\n",
    "    index += 2\n",
    "    word, pos = sentence[index]\n",
    "    prevword, prevpos = sentence[index - 1]\n",
    "    prevprevword, prevprevpos = sentence[index - 2]\n",
    "    nextword, nextpos = sentence[index + 1]\n",
    "    nextnextword, nextnextpos = sentence[index + 2]\n",
    "    word_shape = shape(word)\n",
    "    features = {'word': word, \n",
    "            'lemma': stemmer.stem(word), \n",
    "            'shape': word_shape,\n",
    "            'pos': pos, \n",
    "            'next-word': nextword, \n",
    "            'next-pos': nextpos,\n",
    "            'next-next-word': nextnextword,\n",
    "            'nextnextpos': nextnextpos,\n",
    "            'prev-word': prevword,\n",
    "            'prev-pos': prevpos,\n",
    "            'prev-prev-word': prevprevword,\n",
    "            'prev-prev-pos': prevprevpos,\n",
    "            # Historical features\n",
    "            'prev-chunk': history[-1],\n",
    "            'prev-prev-chunk': history[-2]}\n",
    "    return features"
   ]
  },
  {
   "cell_type": "code",
   "execution_count": 21,
   "metadata": {},
   "outputs": [
    {
     "name": "stdout",
     "output_type": "stream",
     "text": [
      "chunk_features INPUT:\n",
      " (('Confidence', 'NN'), ('in', 'IN'), ('the', 'DT'), ('pound', 'NN'), ('is', 'VBZ'))\n",
      "\n",
      "chunk_features OUTPUT:\n",
      " {'word': 'Confidence', 'lemma': 'confid', 'shape': 'capitalized', 'pos': 'NN', 'next-word': 'in', 'next-pos': 'IN', 'next-next-word': 'the', 'nextnextpos': 'DT', 'prev-word': '__START1__', 'prev-pos': '__START1__', 'prev-prev-word': '__START2__', 'prev-prev-pos': '__START2__', 'prev-chunk': '__START1__', 'prev-prev-chunk': '__START2__'}\n"
     ]
    }
   ],
   "source": [
    "# Extract a single \n",
    "tagged_pairs = triplets2tagged_pairs(tree2conlltags(tree_sent[0]))\n",
    "pos, chunks = zip(*tagged_pairs)\n",
    "print_io(chunk_features, input_=pos[0:5], args=[0,[]], input_idx=0)"
   ]
  },
  {
   "cell_type": "markdown",
   "metadata": {},
   "source": [
    "## 3.3 Build the tagging classifier\n",
    "\n",
    "Since this is still just a tagging exercise, we can use the re-use our tagger from the previous exercise. Recall that the wrapper has the following steps:\n",
    "1. Convert dataset to necessary format\n",
    "2. Vectorizez the dataset (either with DictVectorizer or FeatureHasher)\n",
    "3. Fit the model (partial fit if you are using FeatureHasher)\n",
    "4. Predict and evaluate (to be run after model has been fitted)\n",
    "\n",
    "We will create a new function called `Mikes_Chunk_Tagger`, and we wrap it around `Mikes_POS_Tagger` so we don't have to write all the code again. However we have coppied and pasted the original pos tagger below for a refresher."
   ]
  },
  {
   "cell_type": "code",
   "execution_count": 25,
   "metadata": {},
   "outputs": [
    {
     "data": {
      "text/plain": [
       "['_extract_all_labels',\n",
       " '_tags_to_dataset',\n",
       " '_vectorize',\n",
       " 'accuracy',\n",
       " 'evaluate',\n",
       " 'fit',\n",
       " 'partial_fit',\n",
       " 'tag',\n",
       " 'tag_sents']"
      ]
     },
     "execution_count": 25,
     "metadata": {},
     "output_type": "execute_result"
    }
   ],
   "source": [
    "from NLP_custom import Mikes_POS_Tagger\n",
    "[method for method in dir(Mikes_POS_Tagger) if not(method.startswith(\"__\"))]"
   ]
  },
  {
   "cell_type": "code",
   "execution_count": 44,
   "metadata": {
    "collapsed": true
   },
   "outputs": [],
   "source": [
    "from time import time\n",
    "import itertools\n",
    "import nltk\n",
    "from nltk.tag.util import untag\n",
    "from sklearn.feature_extraction import FeatureHasher\n",
    "from sklearn.linear_model import SGDClassifier\n",
    "from sklearn.feature_extraction import DictVectorizer\n",
    "from nltk.chunk import tree2conlltags\n",
    "from itertools import chain\n",
    "\n",
    "class Mikes_Chunk_Parser(Mikes_POS_Tagger):\n",
    "    def triplets2tagged_pairs(self, iob_sent):\n",
    "        \"\"\"\n",
    "        Transform the triplets to tagged pairs:\n",
    "        [(word1, pos1, iob1), (word2, pos2, iob2), ...] ->\n",
    "        [((word1, pos1), iob1), ((word2, pos2), iob2),...]\n",
    "        \"\"\"\n",
    "        return [((word, pos), chunk) for word, pos, chunk in iob_sent]\n",
    "\n",
    "    def trees2tagged_pairs(self, trees):\n",
    "        \"\"\"\n",
    "        Transform nltk.trees to tuples (word, pos_tag, iob_tag)\n",
    "        \"\"\"\n",
    "        # Use nltk.tree2conlltags to transform trees into triple suples (word, pos_tag, IOB_tag)\n",
    "        chunked_sentences = [tree2conlltags(sent) for sent in trees]\n",
    "        # Use custom util function to transform tuples to format: ((word, pos_tag),IOB_tag)\n",
    "        return [self.triplets2tagged_pairs(sent) for sent in chunked_sentences]\n",
    "    \n",
    "    def _tags_to_dataset(self, trees):\n",
    "        \"\"\"\n",
    "        Helper function:\n",
    "          Take in train data (tree sentences) and return feature dict (pre-vectorized dataset)\n",
    "        \"\"\"\n",
    "        chunked_sentences = self.trees2tagged_pairs(trees)\n",
    "        # Initialize empty featursets list\n",
    "        classifier_corpus = []\n",
    "        for sentence in chunked_sentences:\n",
    "            # Initialize empty history list (will be updated as loop through each word in sent)\n",
    "            history = []\n",
    "            # Use zip(* ) to zip tokens & tags into two separate lists\n",
    "            sentence_tokens, sentence_tags = zip(*sentence)\n",
    "            # Loop through each word in sentence\n",
    "            # Duplicate words are kept because contexts (prev/post words) may differ\n",
    "            for index in range(len(sentence)):\n",
    "                # Use the feature detector (eg. pos_features) initialized with the class\n",
    "                featureset = self.feature_detector(sentence_tokens, index, history)\n",
    "                # Update featursets list with tuple (featureset, tag)\n",
    "                classifier_corpus.append((featureset, sentence_tags[index]))\n",
    "                # Update history for next index word\n",
    "                history.append(sentence_tags[index])\n",
    "        return classifier_corpus\n",
    "    \n",
    "    def evaluate(self, test_set, verbose=None):\n",
    "        \"\"\"\n",
    "        Evaluation function:\n",
    "          Returns 'accuracy' metric using sklearn built-in 'score' method.\n",
    "        \"\"\"\n",
    "        t0=time()\n",
    "        test_set = self.trees2tagged_pairs(test_set)\n",
    "        untagged_sents = [untag(sent) for sent in test_set]\n",
    "        retagged_sents = self.tag_sents(untagged_sents)\n",
    "        preds = list(chain(*retagged_sents))\n",
    "        actual = list(chain(*test_set))\n",
    "        score = self.accuracy(actual, preds)\n",
    "        if verbose:\n",
    "            print(\"Accuracy: {}, Eval Runtime: {:.2f}\".format(score, time()-t0))\n",
    "        return score"
   ]
  },
  {
   "cell_type": "code",
   "execution_count": 27,
   "metadata": {},
   "outputs": [
    {
     "data": {
      "text/plain": [
       "10948"
      ]
     },
     "execution_count": 27,
     "metadata": {},
     "output_type": "execute_result"
    }
   ],
   "source": [
    "len(conll2000.chunked_sents())"
   ]
  },
  {
   "cell_type": "code",
   "execution_count": 31,
   "metadata": {},
   "outputs": [
    {
     "name": "stdout",
     "output_type": "stream",
     "text": [
      "Commencing feature extraction...\n",
      "Training model on features set size (213155, 105880)\n",
      "\n",
      "Training complete. Total runtime: 16.64 sec\n"
     ]
    },
    {
     "data": {
      "text/plain": [
       "0.9495962915406211"
      ]
     },
     "execution_count": 31,
     "metadata": {},
     "output_type": "execute_result"
    }
   ],
   "source": [
    "parser = Mikes_Chunk_Parser(feature_detector=chunk_features, sparse=True)\n",
    "parser.fit(conll2000.chunked_sents()[0:9000])\n",
    "parser.evaluate(conll2000.chunked_sents()[9000:])"
   ]
  },
  {
   "cell_type": "code",
   "execution_count": 43,
   "metadata": {},
   "outputs": [
    {
     "data": {
      "text/plain": [
       "[(('The', 'DT'), 'B-NP'),\n",
       " (('quick', 'JJ'), 'I-NP'),\n",
       " (('brown', 'NN'), 'I-NP'),\n",
       " (('fox', 'NN'), 'I-NP'),\n",
       " (('jumps', 'VBZ'), 'B-VP'),\n",
       " (('over', 'IN'), 'B-PP'),\n",
       " (('the', 'DT'), 'B-NP'),\n",
       " (('lazy', 'JJ'), 'I-NP'),\n",
       " (('dog', 'NN'), 'I-NP'),\n",
       " (('.', '.'), 'O')]"
      ]
     },
     "execution_count": 43,
     "metadata": {},
     "output_type": "execute_result"
    }
   ],
   "source": [
    "test_sent  = \"The quick brown fox jumps over the lazy dog.\"\n",
    "test_tokens = nltk.word_tokenize(test_sent)\n",
    "test_tagged = nltk.pos_tag(test_tokens)\n",
    "test_parsed = parser.tag(test_tagged)\n",
    "test_parsed"
   ]
  }
 ],
 "metadata": {
  "kernelspec": {
   "display_name": "Python 3",
   "language": "python",
   "name": "python3"
  },
  "language_info": {
   "codemirror_mode": {
    "name": "ipython",
    "version": 3
   },
   "file_extension": ".py",
   "mimetype": "text/x-python",
   "name": "python",
   "nbconvert_exporter": "python",
   "pygments_lexer": "ipython3",
   "version": "3.6.6"
  }
 },
 "nbformat": 4,
 "nbformat_minor": 2
}
