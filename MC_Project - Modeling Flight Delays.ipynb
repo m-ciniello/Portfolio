{
 "cells": [
  {
   "cell_type": "markdown",
   "metadata": {},
   "source": [
    "# Final Project\n",
    "\n",
    "<font color=blue> **Proposal: Develop model that predicts Origin Airport (varialbe 17) based on other vriables** </font>\n",
    "\n",
    "A little about the dataset:\n",
    "http://stat-computing.org/dataexpo/2009/the-data.html\n",
    "\n",
    "The data comes originally from RITA where it is described in detail. You can download the data there, or from the bzipped csv files listed below. These files have derivable variables removed, are packaged in yearly chunks and have been more heavily compressed than the originals.\n",
    "\n",
    "Variable descriptions\n",
    "Name\tDescription\n",
    "1.\tYear - \t1987-2008\n",
    "2. Month - \t1-12\n",
    "3.\tDayofMonth -\t1-31\n",
    "4.\tDayOfWeek -\t1 (Monday) - 7 (Sunday)\n",
    "5.\tDepTime -\tactual departure time (local, hhmm)\n",
    "6.\tCRSDepTime -\tscheduled departure time (local, hhmm)\n",
    "7.\tArrTime -\tactual arrival time (local, hhmm)\n",
    "8.\tCRSArrTime -\tscheduled arrival time (local, hhmm)\n",
    "9.\tUniqueCarrier -\tunique carrier code\n",
    "10.\tFlightNum -\tflight number\n",
    "11.\tTailNum -\tplane tail number\n",
    "12.\tActualElapsedTime -\tin minutes\n",
    "13.\tCRSElapsedTime -\tin minutes\n",
    "14.\tAirTime -\tin minutes\n",
    "15.\tArrDelay -\tarrival delay, in minutes\n",
    "16.\tDepDelay -\tdeparture delay, in minutes\n",
    "17.\tOrigin -\torigin IATA airport code\n",
    "18.\tDest -\tdestination IATA airport code\n",
    "19.\tDistance -\tin miles\n",
    "20.\tTaxiIn -\ttaxi in time, in minutes\n",
    "21.\tTaxiOut -\ttaxi out time in minutes\n",
    "22.\tCancelled -\twas the flight cancelled?\n",
    "23.\tCancellationCode -\treason for cancellation (A = carrier, B = weather, C = NAS, D = security)\n",
    "24.\tDiverted -\t1 = yes, 0 = no\n",
    "25.\tCarrierDelay -\tin minutes\n",
    "26.\tWeatherDelay -\tin minutes\n",
    "27.\tNASDelay -\tin minutes\n",
    "28.\tSecurityDelay -\tin minutes\n",
    "29. LateAircraftDelay -\tin minutes"
   ]
  },
  {
   "cell_type": "markdown",
   "metadata": {},
   "source": [
    "### SET DIRECTORIES / IMPORT LIBRARIES"
   ]
  },
  {
   "cell_type": "code",
   "execution_count": 61,
   "metadata": {
    "collapsed": true
   },
   "outputs": [],
   "source": [
    "dir_wd = 'C:\\\\Users\\\\mciniello\\\\Desktop\\\\Data Science Fundementals\\\\Big Data\\\\Final Project'\n",
    "dir_datasets = 'C:\\\\Users\\\\mciniello\\\\Desktop\\\\datasets'"
   ]
  },
  {
   "cell_type": "code",
   "execution_count": 155,
   "metadata": {
    "collapsed": true
   },
   "outputs": [],
   "source": [
    "#import necessary modeules\n",
    "import os\n",
    "import pandas as pd\n",
    "import numpy as np\n",
    "import matplotlib.pyplot as plt\n",
    "from datetime import datetime\n",
    "from IPython.display import display\n",
    "import urllib\n",
    "import bz2\n",
    "from sklearn.base import BaseEstimator, TransformerMixin\n",
    "import random\n",
    "from sklearn.model_selection import train_test_split\n",
    "from sklearn.preprocessing import Imputer\n",
    "from sklearn.pipeline import Pipeline\n",
    "from sklearn.metrics import mean_squared_error\n",
    "from sklearn.linear_model import ElasticNet\n",
    "from sklearn.linear_model import LinearRegression\n",
    "from sklearn.ensemble import RandomForestRegressor\n",
    "\n",
    "# print all variables as jupyter outputs (even if not at end of kernel)\n",
    "from IPython.core.interactiveshell import InteractiveShell\n",
    "InteractiveShell.ast_node_interactivity = \"all\"\n",
    "\n",
    "#set display settings\n",
    "pd.set_option('display.max_columns', None)\n",
    "pd.set_option('display.max_columns', None)\n",
    "\n",
    "#for clearing outputs (useful for using 'verbose=10' then print results)\n",
    "from IPython.display import clear_output\n",
    "\n",
    "#display\n",
    "import time\n",
    "import re"
   ]
  },
  {
   "cell_type": "markdown",
   "metadata": {},
   "source": [
    "# 1. Scrape data, unzip, delete zip files"
   ]
  },
  {
   "cell_type": "code",
   "execution_count": 63,
   "metadata": {},
   "outputs": [
    {
     "name": "stdout",
     "output_type": "stream",
     "text": [
      "Data already downloaded!\n"
     ]
    }
   ],
   "source": [
    "root_1 = \"http://stat-computing.org/dataexpo/2009/\"\n",
    "root_2 = \".csv.bz2\"\n",
    "\n",
    "def fetch_data(year):\n",
    "    if len(os.listdir(dir_datasets))>20:\n",
    "        return \"Data already downloaded!\"\n",
    "    else:\n",
    "        year = year\n",
    "        URL = root_1 + str(year) + root_2\n",
    "        data_name = os.path.join(dir_datasets,str(year)+root_2)\n",
    "\n",
    "        urllib.request.urlretrieve(URL,data_name) #fetch and store data\n",
    "        zipfile = bz2.BZ2File(data_name) # open the file\n",
    "\n",
    "        data = zipfile.read() # get the decompressed data\n",
    "        newfilepath = data_name[:-4] # assuming the filepath ends with .bz2\n",
    "        open(newfilepath, 'wb').write(data) # write a uncompressed file\n",
    "\n",
    "        zipfile.close() #cloze zip file\n",
    "        os.remove(data_name) #delete zipfile\n",
    "        print('File download complete: '+ str(year))   \n",
    "\n",
    "for i in range(1987,2008+1):\n",
    "    if fetch_data(i) == \"Data already downloaded!\":\n",
    "        print(\"Data already downloaded!\")\n",
    "        break\n",
    "    else:\n",
    "        fetch_data(i)"
   ]
  },
  {
   "cell_type": "markdown",
   "metadata": {},
   "source": [
    "# 2. Import csv files into dict and stack dataframes\n",
    "\n",
    "- NOTE: Select 5k rows from each CSV file. \n",
    "- We should probably try to do a stratifed sample, so we can keep the class imbalance. However that would require loading all of the data and taking a measure of frequency of ALL of the classes, and we simply dont have the computing power for that.\n",
    "- Import the list_airports.csv file and merge it to the previous dataset so we can get information on airport names and states"
   ]
  },
  {
   "cell_type": "code",
   "execution_count": 64,
   "metadata": {
    "collapsed": true
   },
   "outputs": [],
   "source": [
    "def import_csvs(first_year, num_files, sample_size, filepath):       \n",
    "    if (first_year + num_files) > 2009:\n",
    "        print(\"TOO MANY FILES!!!\")\n",
    "        return None \n",
    "    else:\n",
    "        data_dict={} \n",
    "        for n in range(0,num_files):\n",
    "            year=first_year+n\n",
    "            file = os.path.join(filepath,str(year)+'.csv')\n",
    "            n = sum(1 for line in open(file)) - 1 #the '-1' excludes header in total num of rows\n",
    "            s = sample_size #desired sample size\n",
    "            rows_to_skip = random.sample(range(1,n+1), n-s)        \n",
    "            try:\n",
    "                df = pd.read_csv(file,skiprows=rows_to_skip)\n",
    "            except:\n",
    "                print(\"Oops! UTF-8 doesnt work on year \" + str(year) + '... going to try Latin-1 encoding' )\n",
    "                df = pd.read_csv(file,skiprows=rows_to_skip, encoding='Latin-1')\n",
    "            data_dict[year] = df\n",
    "            print('File import complete: '+ str(year))\n",
    "        return data_dict"
   ]
  },
  {
   "cell_type": "code",
   "execution_count": 130,
   "metadata": {},
   "outputs": [
    {
     "name": "stdout",
     "output_type": "stream",
     "text": [
      "Data already saved! Loaded as 'df'\n"
     ]
    },
    {
     "name": "stderr",
     "output_type": "stream",
     "text": [
      "C:\\Users\\mciniello\\AppData\\Local\\Continuum\\Anaconda3\\envs\\py36\\lib\\site-packages\\IPython\\core\\interactiveshell.py:2698: DtypeWarning: Columns (11,23) have mixed types. Specify dtype option on import or set low_memory=False.\n",
      "  interactivity=interactivity, compiler=compiler, result=result)\n"
     ]
    }
   ],
   "source": [
    "flights_smaple_path = os.path.join(dir_wd,'flights_sample.csv')\n",
    "\n",
    "if os.path.exists(flights_smaple_path):\n",
    "    print(\"Data already saved! Loaded as 'df'\")\n",
    "    df = pd.read_csv(flights_smaple_path).iloc[:,1:]\n",
    "    pass\n",
    "else:\n",
    "    data_dict = import_csvs(1987,22,10000, filepath=dir_datasets)\n",
    "    #create concatenated dataframe\n",
    "    df = pd.concat(data_dict.values(), ignore_index=True)\n",
    "    print(df.shape)\n",
    "    #save to excel\n",
    "    df.to_csv(flights_smaple_path, encoding='utf-8')\n",
    "    #check to see if all file sizes and columns matche\n",
    "    print(\"Begining data load tests:\")\n",
    "    rows = []\n",
    "    for key in data_dict.keys():\n",
    "        rows.append(data_dict[key].shape[0])\n",
    "        print(data_dict[key].shape)\n",
    "\n",
    "    total_rows = sum(rows)\n",
    "    print('Final DF should have: '+ str(total_rows) + ' rows','\\n')\n",
    "\n",
    "    #check to see if all column names match\n",
    "    col_names = data_dict[1987].columns\n",
    "    for key in data_dict.keys():\n",
    "        if (col_names == data_dict[key].columns).all():\n",
    "            print(str(key)+' cols match!')\n",
    "        else:\n",
    "            print(str(key)+' is about to mess you day up')"
   ]
  },
  {
   "cell_type": "code",
   "execution_count": 131,
   "metadata": {},
   "outputs": [
    {
     "data": {
      "text/plain": [
       "(220000, 29)"
      ]
     },
     "execution_count": 131,
     "metadata": {},
     "output_type": "execute_result"
    },
    {
     "data": {
      "text/plain": [
       "Index(['Year', 'Month', 'DayofMonth', 'DayOfWeek', 'DepTime', 'CRSDepTime',\n",
       "       'ArrTime', 'CRSArrTime', 'UniqueCarrier', 'FlightNum', 'TailNum',\n",
       "       'ActualElapsedTime', 'CRSElapsedTime', 'AirTime', 'ArrDelay',\n",
       "       'DepDelay', 'Origin', 'Dest', 'Distance', 'TaxiIn', 'TaxiOut',\n",
       "       'Cancelled', 'CancellationCode', 'Diverted', 'CarrierDelay',\n",
       "       'WeatherDelay', 'NASDelay', 'SecurityDelay', 'LateAircraftDelay'],\n",
       "      dtype='object')"
      ]
     },
     "execution_count": 131,
     "metadata": {},
     "output_type": "execute_result"
    }
   ],
   "source": [
    "df.shape\n",
    "df.columns"
   ]
  },
  {
   "cell_type": "markdown",
   "metadata": {},
   "source": [
    "#### Merge data with List of Airports"
   ]
  },
  {
   "cell_type": "code",
   "execution_count": 132,
   "metadata": {},
   "outputs": [
    {
     "data": {
      "text/plain": [
       "(3376, 7)"
      ]
     },
     "execution_count": 132,
     "metadata": {},
     "output_type": "execute_result"
    },
    {
     "data": {
      "text/html": [
       "<div>\n",
       "<style>\n",
       "    .dataframe thead tr:only-child th {\n",
       "        text-align: right;\n",
       "    }\n",
       "\n",
       "    .dataframe thead th {\n",
       "        text-align: left;\n",
       "    }\n",
       "\n",
       "    .dataframe tbody tr th {\n",
       "        vertical-align: top;\n",
       "    }\n",
       "</style>\n",
       "<table border=\"1\" class=\"dataframe\">\n",
       "  <thead>\n",
       "    <tr style=\"text-align: right;\">\n",
       "      <th></th>\n",
       "      <th>iata</th>\n",
       "      <th>airport</th>\n",
       "      <th>city</th>\n",
       "      <th>state</th>\n",
       "      <th>country</th>\n",
       "      <th>lat</th>\n",
       "      <th>long</th>\n",
       "    </tr>\n",
       "  </thead>\n",
       "  <tbody>\n",
       "    <tr>\n",
       "      <th>0</th>\n",
       "      <td>00M</td>\n",
       "      <td>Thigpen</td>\n",
       "      <td>Bay Springs</td>\n",
       "      <td>MS</td>\n",
       "      <td>USA</td>\n",
       "      <td>31.953765</td>\n",
       "      <td>-89.234505</td>\n",
       "    </tr>\n",
       "    <tr>\n",
       "      <th>1</th>\n",
       "      <td>00R</td>\n",
       "      <td>Livingston Municipal</td>\n",
       "      <td>Livingston</td>\n",
       "      <td>TX</td>\n",
       "      <td>USA</td>\n",
       "      <td>30.685861</td>\n",
       "      <td>-95.017928</td>\n",
       "    </tr>\n",
       "    <tr>\n",
       "      <th>2</th>\n",
       "      <td>00V</td>\n",
       "      <td>Meadow Lake</td>\n",
       "      <td>Colorado Springs</td>\n",
       "      <td>CO</td>\n",
       "      <td>USA</td>\n",
       "      <td>38.945749</td>\n",
       "      <td>-104.569893</td>\n",
       "    </tr>\n",
       "    <tr>\n",
       "      <th>3</th>\n",
       "      <td>01G</td>\n",
       "      <td>Perry-Warsaw</td>\n",
       "      <td>Perry</td>\n",
       "      <td>NY</td>\n",
       "      <td>USA</td>\n",
       "      <td>42.741347</td>\n",
       "      <td>-78.052081</td>\n",
       "    </tr>\n",
       "    <tr>\n",
       "      <th>4</th>\n",
       "      <td>01J</td>\n",
       "      <td>Hilliard Airpark</td>\n",
       "      <td>Hilliard</td>\n",
       "      <td>FL</td>\n",
       "      <td>USA</td>\n",
       "      <td>30.688012</td>\n",
       "      <td>-81.905944</td>\n",
       "    </tr>\n",
       "  </tbody>\n",
       "</table>\n",
       "</div>"
      ],
      "text/plain": [
       "  iata               airport              city state country        lat  \\\n",
       "0  00M              Thigpen        Bay Springs    MS     USA  31.953765   \n",
       "1  00R  Livingston Municipal        Livingston    TX     USA  30.685861   \n",
       "2  00V           Meadow Lake  Colorado Springs    CO     USA  38.945749   \n",
       "3  01G          Perry-Warsaw             Perry    NY     USA  42.741347   \n",
       "4  01J      Hilliard Airpark          Hilliard    FL     USA  30.688012   \n",
       "\n",
       "         long  \n",
       "0  -89.234505  \n",
       "1  -95.017928  \n",
       "2 -104.569893  \n",
       "3  -78.052081  \n",
       "4  -81.905944  "
      ]
     },
     "execution_count": 132,
     "metadata": {},
     "output_type": "execute_result"
    }
   ],
   "source": [
    "list_airports = pd.read_csv('List_airports.csv')\n",
    "list_airports.shape\n",
    "list_airports.head()"
   ]
  },
  {
   "cell_type": "code",
   "execution_count": 133,
   "metadata": {},
   "outputs": [
    {
     "name": "stdout",
     "output_type": "stream",
     "text": [
      "Original df shape:  (220000, 29)\n",
      "Megred df shape:  (220000, 43)\n"
     ]
    },
    {
     "data": {
      "text/html": [
       "<div>\n",
       "<style>\n",
       "    .dataframe thead tr:only-child th {\n",
       "        text-align: right;\n",
       "    }\n",
       "\n",
       "    .dataframe thead th {\n",
       "        text-align: left;\n",
       "    }\n",
       "\n",
       "    .dataframe tbody tr th {\n",
       "        vertical-align: top;\n",
       "    }\n",
       "</style>\n",
       "<table border=\"1\" class=\"dataframe\">\n",
       "  <thead>\n",
       "    <tr style=\"text-align: right;\">\n",
       "      <th></th>\n",
       "      <th>Year</th>\n",
       "      <th>Month</th>\n",
       "      <th>DayofMonth</th>\n",
       "      <th>DayOfWeek</th>\n",
       "      <th>DepTime</th>\n",
       "      <th>CRSDepTime</th>\n",
       "      <th>ArrTime</th>\n",
       "      <th>CRSArrTime</th>\n",
       "      <th>UniqueCarrier</th>\n",
       "      <th>FlightNum</th>\n",
       "      <th>TailNum</th>\n",
       "      <th>ActualElapsedTime</th>\n",
       "      <th>CRSElapsedTime</th>\n",
       "      <th>AirTime</th>\n",
       "      <th>ArrDelay</th>\n",
       "      <th>DepDelay</th>\n",
       "      <th>Origin</th>\n",
       "      <th>Dest</th>\n",
       "      <th>Distance</th>\n",
       "      <th>TaxiIn</th>\n",
       "      <th>TaxiOut</th>\n",
       "      <th>Cancelled</th>\n",
       "      <th>CancellationCode</th>\n",
       "      <th>Diverted</th>\n",
       "      <th>CarrierDelay</th>\n",
       "      <th>WeatherDelay</th>\n",
       "      <th>NASDelay</th>\n",
       "      <th>SecurityDelay</th>\n",
       "      <th>LateAircraftDelay</th>\n",
       "      <th>iata_orig</th>\n",
       "      <th>airport_orig</th>\n",
       "      <th>city_orig</th>\n",
       "      <th>state_orig</th>\n",
       "      <th>country_orig</th>\n",
       "      <th>lat_orig</th>\n",
       "      <th>long_orig</th>\n",
       "      <th>iata_dest</th>\n",
       "      <th>airport_dest</th>\n",
       "      <th>city_dest</th>\n",
       "      <th>state_dest</th>\n",
       "      <th>country_dest</th>\n",
       "      <th>lat_dest</th>\n",
       "      <th>long_dest</th>\n",
       "    </tr>\n",
       "  </thead>\n",
       "  <tbody>\n",
       "    <tr>\n",
       "      <th>0</th>\n",
       "      <td>1987</td>\n",
       "      <td>10</td>\n",
       "      <td>21</td>\n",
       "      <td>3</td>\n",
       "      <td>644.0</td>\n",
       "      <td>645</td>\n",
       "      <td>808.0</td>\n",
       "      <td>804</td>\n",
       "      <td>PS</td>\n",
       "      <td>1471</td>\n",
       "      <td>NaN</td>\n",
       "      <td>84.0</td>\n",
       "      <td>79.0</td>\n",
       "      <td>NaN</td>\n",
       "      <td>4.0</td>\n",
       "      <td>-1.0</td>\n",
       "      <td>SAN</td>\n",
       "      <td>OAK</td>\n",
       "      <td>446.0</td>\n",
       "      <td>NaN</td>\n",
       "      <td>NaN</td>\n",
       "      <td>0</td>\n",
       "      <td>NaN</td>\n",
       "      <td>0</td>\n",
       "      <td>NaN</td>\n",
       "      <td>NaN</td>\n",
       "      <td>NaN</td>\n",
       "      <td>NaN</td>\n",
       "      <td>NaN</td>\n",
       "      <td>SAN</td>\n",
       "      <td>San Diego International-Lindbergh</td>\n",
       "      <td>San Diego</td>\n",
       "      <td>CA</td>\n",
       "      <td>USA</td>\n",
       "      <td>32.733556</td>\n",
       "      <td>-117.189657</td>\n",
       "      <td>OAK</td>\n",
       "      <td>Metropolitan Oakland International</td>\n",
       "      <td>Oakland</td>\n",
       "      <td>CA</td>\n",
       "      <td>USA</td>\n",
       "      <td>37.721291</td>\n",
       "      <td>-122.220717</td>\n",
       "    </tr>\n",
       "    <tr>\n",
       "      <th>1</th>\n",
       "      <td>1987</td>\n",
       "      <td>10</td>\n",
       "      <td>21</td>\n",
       "      <td>3</td>\n",
       "      <td>1029.0</td>\n",
       "      <td>1029</td>\n",
       "      <td>1140.0</td>\n",
       "      <td>1144</td>\n",
       "      <td>PS</td>\n",
       "      <td>1475</td>\n",
       "      <td>NaN</td>\n",
       "      <td>71.0</td>\n",
       "      <td>75.0</td>\n",
       "      <td>NaN</td>\n",
       "      <td>-4.0</td>\n",
       "      <td>0.0</td>\n",
       "      <td>SAN</td>\n",
       "      <td>OAK</td>\n",
       "      <td>446.0</td>\n",
       "      <td>NaN</td>\n",
       "      <td>NaN</td>\n",
       "      <td>0</td>\n",
       "      <td>NaN</td>\n",
       "      <td>0</td>\n",
       "      <td>NaN</td>\n",
       "      <td>NaN</td>\n",
       "      <td>NaN</td>\n",
       "      <td>NaN</td>\n",
       "      <td>NaN</td>\n",
       "      <td>SAN</td>\n",
       "      <td>San Diego International-Lindbergh</td>\n",
       "      <td>San Diego</td>\n",
       "      <td>CA</td>\n",
       "      <td>USA</td>\n",
       "      <td>32.733556</td>\n",
       "      <td>-117.189657</td>\n",
       "      <td>OAK</td>\n",
       "      <td>Metropolitan Oakland International</td>\n",
       "      <td>Oakland</td>\n",
       "      <td>CA</td>\n",
       "      <td>USA</td>\n",
       "      <td>37.721291</td>\n",
       "      <td>-122.220717</td>\n",
       "    </tr>\n",
       "    <tr>\n",
       "      <th>2</th>\n",
       "      <td>1987</td>\n",
       "      <td>10</td>\n",
       "      <td>7</td>\n",
       "      <td>3</td>\n",
       "      <td>1951.0</td>\n",
       "      <td>1951</td>\n",
       "      <td>2129.0</td>\n",
       "      <td>2118</td>\n",
       "      <td>AA</td>\n",
       "      <td>2359</td>\n",
       "      <td>NaN</td>\n",
       "      <td>98.0</td>\n",
       "      <td>87.0</td>\n",
       "      <td>NaN</td>\n",
       "      <td>11.0</td>\n",
       "      <td>0.0</td>\n",
       "      <td>SAN</td>\n",
       "      <td>OAK</td>\n",
       "      <td>446.0</td>\n",
       "      <td>NaN</td>\n",
       "      <td>NaN</td>\n",
       "      <td>0</td>\n",
       "      <td>NaN</td>\n",
       "      <td>0</td>\n",
       "      <td>NaN</td>\n",
       "      <td>NaN</td>\n",
       "      <td>NaN</td>\n",
       "      <td>NaN</td>\n",
       "      <td>NaN</td>\n",
       "      <td>SAN</td>\n",
       "      <td>San Diego International-Lindbergh</td>\n",
       "      <td>San Diego</td>\n",
       "      <td>CA</td>\n",
       "      <td>USA</td>\n",
       "      <td>32.733556</td>\n",
       "      <td>-117.189657</td>\n",
       "      <td>OAK</td>\n",
       "      <td>Metropolitan Oakland International</td>\n",
       "      <td>Oakland</td>\n",
       "      <td>CA</td>\n",
       "      <td>USA</td>\n",
       "      <td>37.721291</td>\n",
       "      <td>-122.220717</td>\n",
       "    </tr>\n",
       "    <tr>\n",
       "      <th>3</th>\n",
       "      <td>1987</td>\n",
       "      <td>11</td>\n",
       "      <td>13</td>\n",
       "      <td>5</td>\n",
       "      <td>634.0</td>\n",
       "      <td>635</td>\n",
       "      <td>800.0</td>\n",
       "      <td>758</td>\n",
       "      <td>PS</td>\n",
       "      <td>1471</td>\n",
       "      <td>NaN</td>\n",
       "      <td>86.0</td>\n",
       "      <td>83.0</td>\n",
       "      <td>NaN</td>\n",
       "      <td>2.0</td>\n",
       "      <td>-1.0</td>\n",
       "      <td>SAN</td>\n",
       "      <td>OAK</td>\n",
       "      <td>446.0</td>\n",
       "      <td>NaN</td>\n",
       "      <td>NaN</td>\n",
       "      <td>0</td>\n",
       "      <td>NaN</td>\n",
       "      <td>0</td>\n",
       "      <td>NaN</td>\n",
       "      <td>NaN</td>\n",
       "      <td>NaN</td>\n",
       "      <td>NaN</td>\n",
       "      <td>NaN</td>\n",
       "      <td>SAN</td>\n",
       "      <td>San Diego International-Lindbergh</td>\n",
       "      <td>San Diego</td>\n",
       "      <td>CA</td>\n",
       "      <td>USA</td>\n",
       "      <td>32.733556</td>\n",
       "      <td>-117.189657</td>\n",
       "      <td>OAK</td>\n",
       "      <td>Metropolitan Oakland International</td>\n",
       "      <td>Oakland</td>\n",
       "      <td>CA</td>\n",
       "      <td>USA</td>\n",
       "      <td>37.721291</td>\n",
       "      <td>-122.220717</td>\n",
       "    </tr>\n",
       "    <tr>\n",
       "      <th>4</th>\n",
       "      <td>1987</td>\n",
       "      <td>12</td>\n",
       "      <td>23</td>\n",
       "      <td>3</td>\n",
       "      <td>1042.0</td>\n",
       "      <td>1040</td>\n",
       "      <td>1214.0</td>\n",
       "      <td>1201</td>\n",
       "      <td>PS</td>\n",
       "      <td>1475</td>\n",
       "      <td>NaN</td>\n",
       "      <td>92.0</td>\n",
       "      <td>81.0</td>\n",
       "      <td>NaN</td>\n",
       "      <td>13.0</td>\n",
       "      <td>2.0</td>\n",
       "      <td>SAN</td>\n",
       "      <td>OAK</td>\n",
       "      <td>446.0</td>\n",
       "      <td>NaN</td>\n",
       "      <td>NaN</td>\n",
       "      <td>0</td>\n",
       "      <td>NaN</td>\n",
       "      <td>0</td>\n",
       "      <td>NaN</td>\n",
       "      <td>NaN</td>\n",
       "      <td>NaN</td>\n",
       "      <td>NaN</td>\n",
       "      <td>NaN</td>\n",
       "      <td>SAN</td>\n",
       "      <td>San Diego International-Lindbergh</td>\n",
       "      <td>San Diego</td>\n",
       "      <td>CA</td>\n",
       "      <td>USA</td>\n",
       "      <td>32.733556</td>\n",
       "      <td>-117.189657</td>\n",
       "      <td>OAK</td>\n",
       "      <td>Metropolitan Oakland International</td>\n",
       "      <td>Oakland</td>\n",
       "      <td>CA</td>\n",
       "      <td>USA</td>\n",
       "      <td>37.721291</td>\n",
       "      <td>-122.220717</td>\n",
       "    </tr>\n",
       "  </tbody>\n",
       "</table>\n",
       "</div>"
      ],
      "text/plain": [
       "   Year  Month  DayofMonth  DayOfWeek  DepTime  CRSDepTime  ArrTime  \\\n",
       "0  1987     10          21          3    644.0         645    808.0   \n",
       "1  1987     10          21          3   1029.0        1029   1140.0   \n",
       "2  1987     10           7          3   1951.0        1951   2129.0   \n",
       "3  1987     11          13          5    634.0         635    800.0   \n",
       "4  1987     12          23          3   1042.0        1040   1214.0   \n",
       "\n",
       "   CRSArrTime UniqueCarrier  FlightNum TailNum  ActualElapsedTime  \\\n",
       "0         804            PS       1471     NaN               84.0   \n",
       "1        1144            PS       1475     NaN               71.0   \n",
       "2        2118            AA       2359     NaN               98.0   \n",
       "3         758            PS       1471     NaN               86.0   \n",
       "4        1201            PS       1475     NaN               92.0   \n",
       "\n",
       "   CRSElapsedTime  AirTime  ArrDelay  DepDelay Origin Dest  Distance  TaxiIn  \\\n",
       "0            79.0      NaN       4.0      -1.0    SAN  OAK     446.0     NaN   \n",
       "1            75.0      NaN      -4.0       0.0    SAN  OAK     446.0     NaN   \n",
       "2            87.0      NaN      11.0       0.0    SAN  OAK     446.0     NaN   \n",
       "3            83.0      NaN       2.0      -1.0    SAN  OAK     446.0     NaN   \n",
       "4            81.0      NaN      13.0       2.0    SAN  OAK     446.0     NaN   \n",
       "\n",
       "   TaxiOut  Cancelled CancellationCode  Diverted  CarrierDelay  WeatherDelay  \\\n",
       "0      NaN          0              NaN         0           NaN           NaN   \n",
       "1      NaN          0              NaN         0           NaN           NaN   \n",
       "2      NaN          0              NaN         0           NaN           NaN   \n",
       "3      NaN          0              NaN         0           NaN           NaN   \n",
       "4      NaN          0              NaN         0           NaN           NaN   \n",
       "\n",
       "   NASDelay  SecurityDelay  LateAircraftDelay iata_orig  \\\n",
       "0       NaN            NaN                NaN       SAN   \n",
       "1       NaN            NaN                NaN       SAN   \n",
       "2       NaN            NaN                NaN       SAN   \n",
       "3       NaN            NaN                NaN       SAN   \n",
       "4       NaN            NaN                NaN       SAN   \n",
       "\n",
       "                         airport_orig  city_orig state_orig country_orig  \\\n",
       "0  San Diego International-Lindbergh   San Diego         CA          USA   \n",
       "1  San Diego International-Lindbergh   San Diego         CA          USA   \n",
       "2  San Diego International-Lindbergh   San Diego         CA          USA   \n",
       "3  San Diego International-Lindbergh   San Diego         CA          USA   \n",
       "4  San Diego International-Lindbergh   San Diego         CA          USA   \n",
       "\n",
       "    lat_orig   long_orig iata_dest                        airport_dest  \\\n",
       "0  32.733556 -117.189657       OAK  Metropolitan Oakland International   \n",
       "1  32.733556 -117.189657       OAK  Metropolitan Oakland International   \n",
       "2  32.733556 -117.189657       OAK  Metropolitan Oakland International   \n",
       "3  32.733556 -117.189657       OAK  Metropolitan Oakland International   \n",
       "4  32.733556 -117.189657       OAK  Metropolitan Oakland International   \n",
       "\n",
       "  city_dest state_dest country_dest   lat_dest   long_dest  \n",
       "0   Oakland         CA          USA  37.721291 -122.220717  \n",
       "1   Oakland         CA          USA  37.721291 -122.220717  \n",
       "2   Oakland         CA          USA  37.721291 -122.220717  \n",
       "3   Oakland         CA          USA  37.721291 -122.220717  \n",
       "4   Oakland         CA          USA  37.721291 -122.220717  "
      ]
     },
     "execution_count": 133,
     "metadata": {},
     "output_type": "execute_result"
    }
   ],
   "source": [
    "print('Original df shape: ', df.shape)\n",
    "\n",
    "#Add Origin State\n",
    "df_merge = df.merge(list_airports, left_on=\"Origin\",right_on=\"iata\",)\n",
    "#Add Destination state\n",
    "df_merge = df_merge.merge(list_airports, left_on=\"Dest\",right_on=\"iata\", suffixes=('_orig','_dest'))\n",
    "print('Megred df shape: ', df_merge.shape)\n",
    "\n",
    "df_merge.head()"
   ]
  },
  {
   "cell_type": "markdown",
   "metadata": {},
   "source": [
    "# 3. Explore data"
   ]
  },
  {
   "cell_type": "code",
   "execution_count": 69,
   "metadata": {},
   "outputs": [
    {
     "data": {
      "text/html": [
       "<div>\n",
       "<style>\n",
       "    .dataframe thead tr:only-child th {\n",
       "        text-align: right;\n",
       "    }\n",
       "\n",
       "    .dataframe thead th {\n",
       "        text-align: left;\n",
       "    }\n",
       "\n",
       "    .dataframe tbody tr th {\n",
       "        vertical-align: top;\n",
       "    }\n",
       "</style>\n",
       "<table border=\"1\" class=\"dataframe\">\n",
       "  <thead>\n",
       "    <tr style=\"text-align: right;\">\n",
       "      <th></th>\n",
       "      <th>Year</th>\n",
       "      <th>Month</th>\n",
       "      <th>DayofMonth</th>\n",
       "      <th>DayOfWeek</th>\n",
       "      <th>DepTime</th>\n",
       "      <th>CRSDepTime</th>\n",
       "      <th>ArrTime</th>\n",
       "      <th>CRSArrTime</th>\n",
       "      <th>FlightNum</th>\n",
       "      <th>ActualElapsedTime</th>\n",
       "      <th>CRSElapsedTime</th>\n",
       "      <th>AirTime</th>\n",
       "      <th>ArrDelay</th>\n",
       "      <th>DepDelay</th>\n",
       "      <th>Distance</th>\n",
       "      <th>TaxiIn</th>\n",
       "      <th>TaxiOut</th>\n",
       "      <th>Cancelled</th>\n",
       "      <th>Diverted</th>\n",
       "      <th>CarrierDelay</th>\n",
       "      <th>WeatherDelay</th>\n",
       "      <th>NASDelay</th>\n",
       "      <th>SecurityDelay</th>\n",
       "      <th>LateAircraftDelay</th>\n",
       "      <th>lat_orig</th>\n",
       "      <th>long_orig</th>\n",
       "      <th>lat_dest</th>\n",
       "      <th>long_dest</th>\n",
       "    </tr>\n",
       "  </thead>\n",
       "  <tbody>\n",
       "    <tr>\n",
       "      <th>count</th>\n",
       "      <td>220000.000000</td>\n",
       "      <td>220000.000000</td>\n",
       "      <td>220000.000000</td>\n",
       "      <td>220000.000000</td>\n",
       "      <td>215964.000000</td>\n",
       "      <td>220000.000000</td>\n",
       "      <td>215448.000000</td>\n",
       "      <td>220000.000000</td>\n",
       "      <td>220000.000000</td>\n",
       "      <td>215441.000000</td>\n",
       "      <td>219948.000000</td>\n",
       "      <td>136676.000000</td>\n",
       "      <td>215441.000000</td>\n",
       "      <td>215964.000000</td>\n",
       "      <td>219596.000000</td>\n",
       "      <td>139798.000000</td>\n",
       "      <td>139822.000000</td>\n",
       "      <td>220000.000000</td>\n",
       "      <td>220000.000000</td>\n",
       "      <td>48133.000000</td>\n",
       "      <td>48133.000000</td>\n",
       "      <td>48133.000000</td>\n",
       "      <td>48133.000000</td>\n",
       "      <td>48133.000000</td>\n",
       "      <td>220000.000000</td>\n",
       "      <td>220000.000000</td>\n",
       "      <td>220000.000000</td>\n",
       "      <td>220000.000000</td>\n",
       "    </tr>\n",
       "    <tr>\n",
       "      <th>mean</th>\n",
       "      <td>1997.500000</td>\n",
       "      <td>6.715941</td>\n",
       "      <td>15.721959</td>\n",
       "      <td>3.931764</td>\n",
       "      <td>1350.307639</td>\n",
       "      <td>1335.971695</td>\n",
       "      <td>1494.705479</td>\n",
       "      <td>1490.626695</td>\n",
       "      <td>1272.672477</td>\n",
       "      <td>118.910565</td>\n",
       "      <td>119.692532</td>\n",
       "      <td>102.816903</td>\n",
       "      <td>7.035393</td>\n",
       "      <td>7.985674</td>\n",
       "      <td>695.203874</td>\n",
       "      <td>6.345048</td>\n",
       "      <td>15.136166</td>\n",
       "      <td>0.018345</td>\n",
       "      <td>0.002377</td>\n",
       "      <td>3.535662</td>\n",
       "      <td>0.799348</td>\n",
       "      <td>4.105167</td>\n",
       "      <td>0.027382</td>\n",
       "      <td>4.792782</td>\n",
       "      <td>37.086268</td>\n",
       "      <td>-93.855364</td>\n",
       "      <td>37.092247</td>\n",
       "      <td>-93.875347</td>\n",
       "    </tr>\n",
       "    <tr>\n",
       "      <th>std</th>\n",
       "      <td>6.344303</td>\n",
       "      <td>3.483515</td>\n",
       "      <td>8.798874</td>\n",
       "      <td>1.993970</td>\n",
       "      <td>476.688748</td>\n",
       "      <td>476.674507</td>\n",
       "      <td>497.996470</td>\n",
       "      <td>494.011953</td>\n",
       "      <td>1307.040174</td>\n",
       "      <td>68.206275</td>\n",
       "      <td>67.758832</td>\n",
       "      <td>70.266305</td>\n",
       "      <td>29.961508</td>\n",
       "      <td>27.033153</td>\n",
       "      <td>548.296794</td>\n",
       "      <td>20.034718</td>\n",
       "      <td>10.756121</td>\n",
       "      <td>0.134198</td>\n",
       "      <td>0.048699</td>\n",
       "      <td>19.690704</td>\n",
       "      <td>9.703803</td>\n",
       "      <td>16.762670</td>\n",
       "      <td>1.275858</td>\n",
       "      <td>20.624679</td>\n",
       "      <td>5.589727</td>\n",
       "      <td>17.147586</td>\n",
       "      <td>5.583612</td>\n",
       "      <td>17.097967</td>\n",
       "    </tr>\n",
       "    <tr>\n",
       "      <th>min</th>\n",
       "      <td>1987.000000</td>\n",
       "      <td>1.000000</td>\n",
       "      <td>1.000000</td>\n",
       "      <td>1.000000</td>\n",
       "      <td>1.000000</td>\n",
       "      <td>0.000000</td>\n",
       "      <td>1.000000</td>\n",
       "      <td>0.000000</td>\n",
       "      <td>1.000000</td>\n",
       "      <td>14.000000</td>\n",
       "      <td>-32.000000</td>\n",
       "      <td>-1440.000000</td>\n",
       "      <td>-835.000000</td>\n",
       "      <td>-70.000000</td>\n",
       "      <td>11.000000</td>\n",
       "      <td>0.000000</td>\n",
       "      <td>0.000000</td>\n",
       "      <td>0.000000</td>\n",
       "      <td>0.000000</td>\n",
       "      <td>0.000000</td>\n",
       "      <td>0.000000</td>\n",
       "      <td>0.000000</td>\n",
       "      <td>0.000000</td>\n",
       "      <td>0.000000</td>\n",
       "      <td>7.367222</td>\n",
       "      <td>-176.646031</td>\n",
       "      <td>7.367222</td>\n",
       "      <td>-176.646031</td>\n",
       "    </tr>\n",
       "    <tr>\n",
       "      <th>25%</th>\n",
       "      <td>1992.000000</td>\n",
       "      <td>4.000000</td>\n",
       "      <td>8.000000</td>\n",
       "      <td>2.000000</td>\n",
       "      <td>935.000000</td>\n",
       "      <td>930.000000</td>\n",
       "      <td>1117.000000</td>\n",
       "      <td>1115.000000</td>\n",
       "      <td>436.000000</td>\n",
       "      <td>69.000000</td>\n",
       "      <td>70.000000</td>\n",
       "      <td>54.000000</td>\n",
       "      <td>-7.000000</td>\n",
       "      <td>-2.000000</td>\n",
       "      <td>304.000000</td>\n",
       "      <td>4.000000</td>\n",
       "      <td>10.000000</td>\n",
       "      <td>0.000000</td>\n",
       "      <td>0.000000</td>\n",
       "      <td>0.000000</td>\n",
       "      <td>0.000000</td>\n",
       "      <td>0.000000</td>\n",
       "      <td>0.000000</td>\n",
       "      <td>0.000000</td>\n",
       "      <td>33.562943</td>\n",
       "      <td>-104.700250</td>\n",
       "      <td>33.562943</td>\n",
       "      <td>-104.667002</td>\n",
       "    </tr>\n",
       "    <tr>\n",
       "      <th>50%</th>\n",
       "      <td>1997.500000</td>\n",
       "      <td>7.000000</td>\n",
       "      <td>16.000000</td>\n",
       "      <td>4.000000</td>\n",
       "      <td>1335.000000</td>\n",
       "      <td>1330.000000</td>\n",
       "      <td>1523.000000</td>\n",
       "      <td>1521.000000</td>\n",
       "      <td>885.000000</td>\n",
       "      <td>100.000000</td>\n",
       "      <td>101.000000</td>\n",
       "      <td>84.000000</td>\n",
       "      <td>0.000000</td>\n",
       "      <td>0.000000</td>\n",
       "      <td>533.000000</td>\n",
       "      <td>5.000000</td>\n",
       "      <td>13.000000</td>\n",
       "      <td>0.000000</td>\n",
       "      <td>0.000000</td>\n",
       "      <td>0.000000</td>\n",
       "      <td>0.000000</td>\n",
       "      <td>0.000000</td>\n",
       "      <td>0.000000</td>\n",
       "      <td>0.000000</td>\n",
       "      <td>37.619002</td>\n",
       "      <td>-87.904464</td>\n",
       "      <td>37.649959</td>\n",
       "      <td>-87.904464</td>\n",
       "    </tr>\n",
       "    <tr>\n",
       "      <th>75%</th>\n",
       "      <td>2003.000000</td>\n",
       "      <td>10.000000</td>\n",
       "      <td>23.000000</td>\n",
       "      <td>6.000000</td>\n",
       "      <td>1738.000000</td>\n",
       "      <td>1730.000000</td>\n",
       "      <td>1918.000000</td>\n",
       "      <td>1913.000000</td>\n",
       "      <td>1631.000000</td>\n",
       "      <td>150.000000</td>\n",
       "      <td>151.000000</td>\n",
       "      <td>133.000000</td>\n",
       "      <td>11.000000</td>\n",
       "      <td>6.000000</td>\n",
       "      <td>931.000000</td>\n",
       "      <td>7.000000</td>\n",
       "      <td>18.000000</td>\n",
       "      <td>0.000000</td>\n",
       "      <td>0.000000</td>\n",
       "      <td>0.000000</td>\n",
       "      <td>0.000000</td>\n",
       "      <td>0.000000</td>\n",
       "      <td>0.000000</td>\n",
       "      <td>0.000000</td>\n",
       "      <td>40.788388</td>\n",
       "      <td>-80.943126</td>\n",
       "      <td>40.777243</td>\n",
       "      <td>-80.943126</td>\n",
       "    </tr>\n",
       "    <tr>\n",
       "      <th>max</th>\n",
       "      <td>2008.000000</td>\n",
       "      <td>12.000000</td>\n",
       "      <td>31.000000</td>\n",
       "      <td>7.000000</td>\n",
       "      <td>2628.000000</td>\n",
       "      <td>2359.000000</td>\n",
       "      <td>2706.000000</td>\n",
       "      <td>2400.000000</td>\n",
       "      <td>9580.000000</td>\n",
       "      <td>662.000000</td>\n",
       "      <td>660.000000</td>\n",
       "      <td>1139.000000</td>\n",
       "      <td>1182.000000</td>\n",
       "      <td>1435.000000</td>\n",
       "      <td>4962.000000</td>\n",
       "      <td>1450.000000</td>\n",
       "      <td>302.000000</td>\n",
       "      <td>1.000000</td>\n",
       "      <td>1.000000</td>\n",
       "      <td>1182.000000</td>\n",
       "      <td>751.000000</td>\n",
       "      <td>914.000000</td>\n",
       "      <td>206.000000</td>\n",
       "      <td>1016.000000</td>\n",
       "      <td>71.285448</td>\n",
       "      <td>145.621384</td>\n",
       "      <td>71.285448</td>\n",
       "      <td>145.621384</td>\n",
       "    </tr>\n",
       "  </tbody>\n",
       "</table>\n",
       "</div>"
      ],
      "text/plain": [
       "                Year          Month     DayofMonth      DayOfWeek  \\\n",
       "count  220000.000000  220000.000000  220000.000000  220000.000000   \n",
       "mean     1997.500000       6.715941      15.721959       3.931764   \n",
       "std         6.344303       3.483515       8.798874       1.993970   \n",
       "min      1987.000000       1.000000       1.000000       1.000000   \n",
       "25%      1992.000000       4.000000       8.000000       2.000000   \n",
       "50%      1997.500000       7.000000      16.000000       4.000000   \n",
       "75%      2003.000000      10.000000      23.000000       6.000000   \n",
       "max      2008.000000      12.000000      31.000000       7.000000   \n",
       "\n",
       "             DepTime     CRSDepTime        ArrTime     CRSArrTime  \\\n",
       "count  215964.000000  220000.000000  215448.000000  220000.000000   \n",
       "mean     1350.307639    1335.971695    1494.705479    1490.626695   \n",
       "std       476.688748     476.674507     497.996470     494.011953   \n",
       "min         1.000000       0.000000       1.000000       0.000000   \n",
       "25%       935.000000     930.000000    1117.000000    1115.000000   \n",
       "50%      1335.000000    1330.000000    1523.000000    1521.000000   \n",
       "75%      1738.000000    1730.000000    1918.000000    1913.000000   \n",
       "max      2628.000000    2359.000000    2706.000000    2400.000000   \n",
       "\n",
       "           FlightNum  ActualElapsedTime  CRSElapsedTime        AirTime  \\\n",
       "count  220000.000000      215441.000000   219948.000000  136676.000000   \n",
       "mean     1272.672477         118.910565      119.692532     102.816903   \n",
       "std      1307.040174          68.206275       67.758832      70.266305   \n",
       "min         1.000000          14.000000      -32.000000   -1440.000000   \n",
       "25%       436.000000          69.000000       70.000000      54.000000   \n",
       "50%       885.000000         100.000000      101.000000      84.000000   \n",
       "75%      1631.000000         150.000000      151.000000     133.000000   \n",
       "max      9580.000000         662.000000      660.000000    1139.000000   \n",
       "\n",
       "            ArrDelay       DepDelay       Distance         TaxiIn  \\\n",
       "count  215441.000000  215964.000000  219596.000000  139798.000000   \n",
       "mean        7.035393       7.985674     695.203874       6.345048   \n",
       "std        29.961508      27.033153     548.296794      20.034718   \n",
       "min      -835.000000     -70.000000      11.000000       0.000000   \n",
       "25%        -7.000000      -2.000000     304.000000       4.000000   \n",
       "50%         0.000000       0.000000     533.000000       5.000000   \n",
       "75%        11.000000       6.000000     931.000000       7.000000   \n",
       "max      1182.000000    1435.000000    4962.000000    1450.000000   \n",
       "\n",
       "             TaxiOut      Cancelled       Diverted  CarrierDelay  \\\n",
       "count  139822.000000  220000.000000  220000.000000  48133.000000   \n",
       "mean       15.136166       0.018345       0.002377      3.535662   \n",
       "std        10.756121       0.134198       0.048699     19.690704   \n",
       "min         0.000000       0.000000       0.000000      0.000000   \n",
       "25%        10.000000       0.000000       0.000000      0.000000   \n",
       "50%        13.000000       0.000000       0.000000      0.000000   \n",
       "75%        18.000000       0.000000       0.000000      0.000000   \n",
       "max       302.000000       1.000000       1.000000   1182.000000   \n",
       "\n",
       "       WeatherDelay      NASDelay  SecurityDelay  LateAircraftDelay  \\\n",
       "count  48133.000000  48133.000000   48133.000000       48133.000000   \n",
       "mean       0.799348      4.105167       0.027382           4.792782   \n",
       "std        9.703803     16.762670       1.275858          20.624679   \n",
       "min        0.000000      0.000000       0.000000           0.000000   \n",
       "25%        0.000000      0.000000       0.000000           0.000000   \n",
       "50%        0.000000      0.000000       0.000000           0.000000   \n",
       "75%        0.000000      0.000000       0.000000           0.000000   \n",
       "max      751.000000    914.000000     206.000000        1016.000000   \n",
       "\n",
       "            lat_orig      long_orig       lat_dest      long_dest  \n",
       "count  220000.000000  220000.000000  220000.000000  220000.000000  \n",
       "mean       37.086268     -93.855364      37.092247     -93.875347  \n",
       "std         5.589727      17.147586       5.583612      17.097967  \n",
       "min         7.367222    -176.646031       7.367222    -176.646031  \n",
       "25%        33.562943    -104.700250      33.562943    -104.667002  \n",
       "50%        37.619002     -87.904464      37.649959     -87.904464  \n",
       "75%        40.788388     -80.943126      40.777243     -80.943126  \n",
       "max        71.285448     145.621384      71.285448     145.621384  "
      ]
     },
     "execution_count": 69,
     "metadata": {},
     "output_type": "execute_result"
    }
   ],
   "source": [
    "df_merge.describe()"
   ]
  },
  {
   "cell_type": "code",
   "execution_count": 70,
   "metadata": {
    "scrolled": true
   },
   "outputs": [
    {
     "name": "stderr",
     "output_type": "stream",
     "text": [
      "C:\\Users\\mciniello\\AppData\\Local\\Continuum\\Anaconda3\\envs\\py36\\lib\\site-packages\\numpy\\lib\\function_base.py:748: RuntimeWarning: invalid value encountered in greater_equal\n",
      "  keep = (tmp_a >= mn)\n",
      "C:\\Users\\mciniello\\AppData\\Local\\Continuum\\Anaconda3\\envs\\py36\\lib\\site-packages\\numpy\\lib\\function_base.py:749: RuntimeWarning: invalid value encountered in less_equal\n",
      "  keep &= (tmp_a <= mx)\n"
     ]
    },
    {
     "data": {
      "text/plain": [
       "(array([  0.00000000e+00,   1.00000000e+00,   0.00000000e+00,\n",
       "          0.00000000e+00,   0.00000000e+00,   0.00000000e+00,\n",
       "          0.00000000e+00,   0.00000000e+00,   1.00000000e+00,\n",
       "          0.00000000e+00,   0.00000000e+00,   1.00000000e+00,\n",
       "          2.00000000e+00,   3.00000000e+00,   2.00000000e+00,\n",
       "          4.00000000e+00,   6.00000000e+00,   8.00000000e+00,\n",
       "          1.10000000e+01,   7.00000000e+00,   1.60000000e+01,\n",
       "          3.00000000e+01,   5.10000000e+01,   5.60000000e+01,\n",
       "          3.70000000e+01,   1.16000000e+02,   1.72000000e+02,\n",
       "          2.30000000e+02,   2.86000000e+02,   2.40000000e+02,\n",
       "          5.93000000e+02,   7.88000000e+02,   1.16200000e+03,\n",
       "          1.65900000e+03,   9.71000000e+02,   2.68500000e+03,\n",
       "          3.80000000e+03,   5.24600000e+03,   6.62900000e+03,\n",
       "          4.02300000e+03,   1.00520000e+04,   1.14390000e+04,\n",
       "          1.31420000e+04,   1.57130000e+04,   7.63100000e+03,\n",
       "          1.44320000e+04,   1.54850000e+04,   1.22020000e+04,\n",
       "          1.09700000e+04,   4.43700000e+03,   8.39700000e+03,\n",
       "          7.42500000e+03,   5.97100000e+03,   5.37200000e+03,\n",
       "          2.40000000e+03,   3.79800000e+03,   3.37800000e+03,\n",
       "          3.03700000e+03,   2.53000000e+03,   1.11100000e+03,\n",
       "          2.10600000e+03,   1.87300000e+03,   1.75600000e+03,\n",
       "          1.42400000e+03,   6.44000000e+02,   1.30400000e+03,\n",
       "          1.12800000e+03,   1.03900000e+03,   1.00600000e+03,\n",
       "          4.45000000e+02,   8.26000000e+02,   7.83000000e+02,\n",
       "          7.07000000e+02,   6.41000000e+02,   2.92000000e+02,\n",
       "          5.79000000e+02,   5.60000000e+02,   4.97000000e+02,\n",
       "          4.80000000e+02,   2.54000000e+02,   4.09000000e+02,\n",
       "          3.84000000e+02,   4.31000000e+02,   3.72000000e+02,\n",
       "          1.56000000e+02,   3.51000000e+02,   2.85000000e+02,\n",
       "          2.94000000e+02,   3.30000000e+02,   1.26000000e+02,\n",
       "          2.74000000e+02,   2.17000000e+02,   2.37000000e+02,\n",
       "          2.17000000e+02,   1.13000000e+02,   2.22000000e+02,\n",
       "          2.25000000e+02,   1.74000000e+02,   1.81000000e+02,\n",
       "          1.61000000e+02]),\n",
       " array([-83. , -81.2, -79.4, -77.6, -75.8, -74. , -72.2, -70.4, -68.6,\n",
       "        -66.8, -65. , -63.2, -61.4, -59.6, -57.8, -56. , -54.2, -52.4,\n",
       "        -50.6, -48.8, -47. , -45.2, -43.4, -41.6, -39.8, -38. , -36.2,\n",
       "        -34.4, -32.6, -30.8, -29. , -27.2, -25.4, -23.6, -21.8, -20. ,\n",
       "        -18.2, -16.4, -14.6, -12.8, -11. ,  -9.2,  -7.4,  -5.6,  -3.8,\n",
       "         -2. ,  -0.2,   1.6,   3.4,   5.2,   7. ,   8.8,  10.6,  12.4,\n",
       "         14.2,  16. ,  17.8,  19.6,  21.4,  23.2,  25. ,  26.8,  28.6,\n",
       "         30.4,  32.2,  34. ,  35.8,  37.6,  39.4,  41.2,  43. ,  44.8,\n",
       "         46.6,  48.4,  50.2,  52. ,  53.8,  55.6,  57.4,  59.2,  61. ,\n",
       "         62.8,  64.6,  66.4,  68.2,  70. ,  71.8,  73.6,  75.4,  77.2,\n",
       "         79. ,  80.8,  82.6,  84.4,  86.2,  88. ,  89.8,  91.6,  93.4,\n",
       "         95.2,  97. ]),\n",
       " <a list of 100 Patch objects>)"
      ]
     },
     "execution_count": 70,
     "metadata": {},
     "output_type": "execute_result"
    },
    {
     "data": {
      "image/png": "[encoded data removed]",
      "text/plain": [
       "<matplotlib.figure.Figure at 0x85155f8>"
      ]
     },
     "metadata": {},
     "output_type": "display_data"
    }
   ],
   "source": [
    "#show only data within 3 standard deviations of the mean\n",
    "plt.hist(x=df_merge['ArrDelay'],range=(7-(30*3),7+(30*3)), bins=100)\n",
    "plt.show()"
   ]
  },
  {
   "cell_type": "code",
   "execution_count": 71,
   "metadata": {
    "scrolled": true
   },
   "outputs": [
    {
     "data": {
      "text/plain": [
       "(220000, 43)"
      ]
     },
     "execution_count": 71,
     "metadata": {},
     "output_type": "execute_result"
    },
    {
     "name": "stdout",
     "output_type": "stream",
     "text": [
      "<class 'pandas.core.frame.DataFrame'>\n",
      "Int64Index: 220000 entries, 0 to 219999\n",
      "Data columns (total 43 columns):\n",
      "Year                 220000 non-null int64\n",
      "Month                220000 non-null int64\n",
      "DayofMonth           220000 non-null int64\n",
      "DayOfWeek            220000 non-null int64\n",
      "DepTime              215964 non-null float64\n",
      "CRSDepTime           220000 non-null int64\n",
      "ArrTime              215448 non-null float64\n",
      "CRSArrTime           220000 non-null int64\n",
      "UniqueCarrier        220000 non-null object\n",
      "FlightNum            220000 non-null int64\n",
      "TailNum              139780 non-null object\n",
      "ActualElapsedTime    215441 non-null float64\n",
      "CRSElapsedTime       219948 non-null float64\n",
      "AirTime              136676 non-null float64\n",
      "ArrDelay             215441 non-null float64\n",
      "DepDelay             215964 non-null float64\n",
      "Origin               220000 non-null object\n",
      "Dest                 220000 non-null object\n",
      "Distance             219596 non-null float64\n",
      "TaxiIn               139798 non-null float64\n",
      "TaxiOut              139822 non-null float64\n",
      "Cancelled            220000 non-null int64\n",
      "CancellationCode     1057 non-null object\n",
      "Diverted             220000 non-null int64\n",
      "CarrierDelay         48133 non-null float64\n",
      "WeatherDelay         48133 non-null float64\n",
      "NASDelay             48133 non-null float64\n",
      "SecurityDelay        48133 non-null float64\n",
      "LateAircraftDelay    48133 non-null float64\n",
      "iata_orig            220000 non-null object\n",
      "airport_orig         220000 non-null object\n",
      "city_orig            219933 non-null object\n",
      "state_orig           219933 non-null object\n",
      "country_orig         220000 non-null object\n",
      "lat_orig             220000 non-null float64\n",
      "long_orig            220000 non-null float64\n",
      "iata_dest            220000 non-null object\n",
      "airport_dest         220000 non-null object\n",
      "city_dest            219940 non-null object\n",
      "state_dest           219940 non-null object\n",
      "country_dest         220000 non-null object\n",
      "lat_dest             220000 non-null float64\n",
      "long_dest            220000 non-null float64\n",
      "dtypes: float64(19), int64(9), object(15)\n",
      "memory usage: 73.9+ MB\n"
     ]
    }
   ],
   "source": [
    "df_merge.shape\n",
    "df_merge.info()"
   ]
  },
  {
   "cell_type": "markdown",
   "metadata": {},
   "source": [
    "# 4. Feature selection and extraction"
   ]
  },
  {
   "cell_type": "markdown",
   "metadata": {},
   "source": [
    "### Categorical Variables"
   ]
  },
  {
   "cell_type": "code",
   "execution_count": 134,
   "metadata": {},
   "outputs": [
    {
     "data": {
      "text/plain": [
       "['UniqueCarrier',\n",
       " 'TailNum',\n",
       " 'Origin',\n",
       " 'Dest',\n",
       " 'CancellationCode',\n",
       " 'iata_orig',\n",
       " 'airport_orig',\n",
       " 'city_orig',\n",
       " 'state_orig',\n",
       " 'country_orig',\n",
       " 'iata_dest',\n",
       " 'airport_dest',\n",
       " 'city_dest',\n",
       " 'state_dest',\n",
       " 'country_dest']"
      ]
     },
     "execution_count": 134,
     "metadata": {},
     "output_type": "execute_result"
    }
   ],
   "source": [
    "#model1_feats = list(set(cols_notnull).intersection(cols_numeric))\n",
    "cols_cat = df_merge.columns[df_merge.dtypes == 'object'].tolist()\n",
    "cols_cat"
   ]
  },
  {
   "cell_type": "markdown",
   "metadata": {},
   "source": [
    "Ok, we can get rid of a few here:\n",
    "- remove variables that dont add informaiton (TailNum)\n",
    "- remove variables that duplicate info:\n",
    "    - remove city_org, city_dest, airport_org, airport_dest\n",
    "    - also remove original Orgign and Dest columns, as we will use the lat long values"
   ]
  },
  {
   "cell_type": "code",
   "execution_count": 135,
   "metadata": {},
   "outputs": [
    {
     "data": {
      "text/plain": [
       "['state_orig', 'UniqueCarrier', 'state_dest']"
      ]
     },
     "execution_count": 135,
     "metadata": {},
     "output_type": "execute_result"
    }
   ],
   "source": [
    "cols_cat_remove = ['iata_orig',\n",
    "                   'city_orig',\n",
    "                   'TailNum',\n",
    "                   'Origin',\n",
    "                   'Dest',\n",
    "                   'country_dest',\n",
    "                   'airport_dest',\n",
    "                   'iata_dest',\n",
    "                   'airport_orig',\n",
    "                   'CancellationCode',\n",
    "                   'country_orig',\n",
    "                   'city_dest']\n",
    "cols_cat_final = list(set(cols_cat).difference(cols_cat_remove))\n",
    "cols_cat_final"
   ]
  },
  {
   "cell_type": "code",
   "execution_count": 136,
   "metadata": {},
   "outputs": [
    {
     "name": "stdout",
     "output_type": "stream",
     "text": [
      "<class 'pandas.core.frame.DataFrame'>\n",
      "Int64Index: 220000 entries, 0 to 219999\n",
      "Data columns (total 3 columns):\n",
      "state_orig       219933 non-null object\n",
      "UniqueCarrier    220000 non-null object\n",
      "state_dest       219940 non-null object\n",
      "dtypes: object(3)\n",
      "memory usage: 6.7+ MB\n"
     ]
    }
   ],
   "source": [
    "df_merge[cols_cat_final].info()"
   ]
  },
  {
   "cell_type": "code",
   "execution_count": 137,
   "metadata": {},
   "outputs": [
    {
     "data": {
      "text/plain": [
       "0          8.066667\n",
       "1         11.733333\n",
       "2         21.300000\n",
       "3          7.966667\n",
       "4         12.016667\n",
       "5         12.416667\n",
       "6         14.583333\n",
       "7         22.666667\n",
       "8         22.733333\n",
       "9         14.933333\n",
       "10        22.350000\n",
       "11         7.900000\n",
       "12        20.350000\n",
       "13        18.750000\n",
       "14        22.283333\n",
       "15        13.833333\n",
       "16         8.833333\n",
       "17         9.000000\n",
       "18        16.750000\n",
       "19        10.500000\n",
       "20        16.500000\n",
       "21        22.850000\n",
       "22        16.666667\n",
       "23        19.233333\n",
       "24        21.166667\n",
       "25        10.416667\n",
       "26        16.666667\n",
       "27        12.416667\n",
       "28        22.250000\n",
       "29        14.750000\n",
       "            ...    \n",
       "219970    19.166667\n",
       "219971     9.433333\n",
       "219972    10.500000\n",
       "219973    20.416667\n",
       "219974    10.200000\n",
       "219975    13.583333\n",
       "219976     6.666667\n",
       "219977     7.166667\n",
       "219978     7.166667\n",
       "219979    16.833333\n",
       "219980     6.666667\n",
       "219981     9.083333\n",
       "219982     7.166667\n",
       "219983     9.166667\n",
       "219984     6.500000\n",
       "219985     7.166667\n",
       "219986     7.250000\n",
       "219987    19.250000\n",
       "219988     7.666667\n",
       "219989     6.250000\n",
       "219990    16.666667\n",
       "219991    18.916667\n",
       "219992     6.916667\n",
       "219993    19.333333\n",
       "219994     7.083333\n",
       "219995     6.833333\n",
       "219996    18.666667\n",
       "219997    15.083333\n",
       "219998    12.750000\n",
       "219999    13.283333\n",
       "Name: CRSArrTime, Length: 220000, dtype: float64"
      ]
     },
     "execution_count": 137,
     "metadata": {},
     "output_type": "execute_result"
    }
   ],
   "source": [
    "df_merge['CRSArrTime'].apply(str_to_hrs)"
   ]
  },
  {
   "cell_type": "markdown",
   "metadata": {},
   "source": [
    "### Numerical Variables\n",
    "\n",
    "- delete all features that leak information (ie, are recoreded after flight has landed)\n",
    "- remove date variables (which need to be converted to numerical features)"
   ]
  },
  {
   "cell_type": "code",
   "execution_count": 138,
   "metadata": {},
   "outputs": [
    {
     "name": "stdout",
     "output_type": "stream",
     "text": [
      "<class 'pandas.core.frame.DataFrame'>\n",
      "Int64Index: 220000 entries, 0 to 219999\n",
      "Data columns (total 28 columns):\n",
      "Year                 220000 non-null int64\n",
      "Month                220000 non-null int64\n",
      "DayofMonth           220000 non-null int64\n",
      "DayOfWeek            220000 non-null int64\n",
      "DepTime              215964 non-null float64\n",
      "CRSDepTime           220000 non-null int64\n",
      "ArrTime              215448 non-null float64\n",
      "CRSArrTime           220000 non-null int64\n",
      "FlightNum            220000 non-null int64\n",
      "ActualElapsedTime    215441 non-null float64\n",
      "CRSElapsedTime       219948 non-null float64\n",
      "AirTime              136676 non-null float64\n",
      "ArrDelay             215441 non-null float64\n",
      "DepDelay             215964 non-null float64\n",
      "Distance             219596 non-null float64\n",
      "TaxiIn               139798 non-null float64\n",
      "TaxiOut              139822 non-null float64\n",
      "Cancelled            220000 non-null int64\n",
      "Diverted             220000 non-null int64\n",
      "CarrierDelay         48133 non-null float64\n",
      "WeatherDelay         48133 non-null float64\n",
      "NASDelay             48133 non-null float64\n",
      "SecurityDelay        48133 non-null float64\n",
      "LateAircraftDelay    48133 non-null float64\n",
      "lat_orig             220000 non-null float64\n",
      "long_orig            220000 non-null float64\n",
      "lat_dest             220000 non-null float64\n",
      "long_dest            220000 non-null float64\n",
      "dtypes: float64(19), int64(9)\n",
      "memory usage: 58.7 MB\n"
     ]
    }
   ],
   "source": [
    "#model1_feats = list(set(cols_notnull).intersection(cols_numeric))\n",
    "cols_num = df_merge.columns[df_merge.dtypes != 'object'].tolist()\n",
    "df_merge[cols_num].info()"
   ]
  },
  {
   "cell_type": "code",
   "execution_count": 139,
   "metadata": {},
   "outputs": [
    {
     "name": "stdout",
     "output_type": "stream",
     "text": [
      "<class 'pandas.core.frame.DataFrame'>\n",
      "Int64Index: 220000 entries, 0 to 219999\n",
      "Data columns (total 11 columns):\n",
      "long_orig         220000 non-null float64\n",
      "lat_orig          220000 non-null float64\n",
      "long_dest         220000 non-null float64\n",
      "Year              220000 non-null int64\n",
      "Month             220000 non-null int64\n",
      "DayOfWeek         220000 non-null int64\n",
      "CRSElapsedTime    219948 non-null float64\n",
      "Distance          219596 non-null float64\n",
      "DayofMonth        220000 non-null int64\n",
      "ArrDelay          215441 non-null float64\n",
      "lat_dest          220000 non-null float64\n",
      "dtypes: float64(7), int64(4)\n",
      "memory usage: 30.1 MB\n"
     ]
    }
   ],
   "source": [
    "cols_num_remove=['DepTime',\n",
    " 'ArrTime',\n",
    " 'FlightNum',\n",
    "'CRSDepTime',\n",
    "'CRSArrTime',             \n",
    " 'ActualElapsedTime',\n",
    " 'AirTime',\n",
    " 'DepDelay',\n",
    " 'TaxiIn',\n",
    " 'TaxiOut',\n",
    " 'Cancelled',\n",
    " 'Diverted',\n",
    " 'CarrierDelay',\n",
    " 'WeatherDelay',\n",
    " 'NASDelay',\n",
    " 'SecurityDelay',\n",
    " 'LateAircraftDelay']\n",
    "cols_num_final = list(set(cols_num).difference(cols_num_remove))\n",
    "\n",
    "df_merge[cols_num_final].info()"
   ]
  },
  {
   "cell_type": "markdown",
   "metadata": {},
   "source": [
    "### Date Variables"
   ]
  },
  {
   "cell_type": "code",
   "execution_count": 140,
   "metadata": {},
   "outputs": [
    {
     "name": "stdout",
     "output_type": "stream",
     "text": [
      "<class 'pandas.core.frame.DataFrame'>\n",
      "Int64Index: 220000 entries, 0 to 219999\n",
      "Data columns (total 2 columns):\n",
      "CRSArrTime    220000 non-null int64\n",
      "CRSDepTime    220000 non-null int64\n",
      "dtypes: int64(2)\n",
      "memory usage: 15.0 MB\n"
     ]
    }
   ],
   "source": [
    "cols_date_final = ['CRSArrTime','CRSDepTime']\n",
    "df_merge[cols_date_final].info()"
   ]
  },
  {
   "cell_type": "markdown",
   "metadata": {},
   "source": [
    "# 5. Build Cleansing Pipeline"
   ]
  },
  {
   "cell_type": "markdown",
   "metadata": {},
   "source": [
    "1. Delete rows with cancelld or diverted flights\n",
    "2. Select data frame/delete nulls based on cols_cat_final + cols_num_final + cols_dates_final\n",
    "3. Add dep/arr state match column\n",
    "4. Categorical transormation, drop original columns\n",
    "5. Dates transormation, drop original columns\n",
    "6. Convert to matrix (Make target col the last column)"
   ]
  },
  {
   "cell_type": "code",
   "execution_count": 141,
   "metadata": {
    "scrolled": true
   },
   "outputs": [
    {
     "data": {
      "text/plain": [
       "(220000, 43)"
      ]
     },
     "execution_count": 141,
     "metadata": {},
     "output_type": "execute_result"
    }
   ],
   "source": [
    "df_merge.shape"
   ]
  },
  {
   "cell_type": "markdown",
   "metadata": {},
   "source": [
    "#### A. Delete rows with cancelled or diverted flights"
   ]
  },
  {
   "cell_type": "code",
   "execution_count": 80,
   "metadata": {},
   "outputs": [
    {
     "data": {
      "text/plain": [
       "(215441, 43)"
      ]
     },
     "execution_count": 80,
     "metadata": {},
     "output_type": "execute_result"
    }
   ],
   "source": [
    "#create transformer to delete rows\n",
    "class Delete_Cancelled_Diverted(BaseEstimator, TransformerMixin):\n",
    "    def __init__(self):\n",
    "        None\n",
    "    def fit(self, X, y=None):\n",
    "        return self\n",
    "    def transform(self, X):\n",
    "        X_clean = X[(X.Cancelled == 0) & (X.Diverted == 0)]\n",
    "        return X_clean\n",
    "\n",
    "pl_1 = Delete_Cancelled_Diverted()\n",
    "df_trans_1 = pl_1.transform(df_merge)\n",
    "df_trans_1.shape"
   ]
  },
  {
   "cell_type": "markdown",
   "metadata": {},
   "source": [
    "#### B. Select Features (including target) and remove nulls"
   ]
  },
  {
   "cell_type": "code",
   "execution_count": 81,
   "metadata": {},
   "outputs": [
    {
     "data": {
      "text/plain": [
       "(214923, 16)"
      ]
     },
     "execution_count": 81,
     "metadata": {},
     "output_type": "execute_result"
    }
   ],
   "source": [
    "# Create transformer to select subset of data\n",
    "class Select_Remove_Nulls(BaseEstimator, TransformerMixin):\n",
    "    def __init__(self, attribute_names):\n",
    "        self.attribute_names = attribute_names\n",
    "    def fit(self, X, y=None):\n",
    "        return self\n",
    "    def transform(self, X):\n",
    "        X_clean = X.loc[:,self.attribute_names]\n",
    "        X_clean = X_clean.dropna()\n",
    "        return X_clean  \n",
    "\n",
    "#test transformer\n",
    "rows = df_trans_1.shape[0]\n",
    "features_final = cols_cat_final + cols_num_final + cols_date_final\n",
    "\n",
    "pl_2 = Select_Remove_Nulls(attribute_names=features_final)\n",
    "df_trans_2 = pl_2.transform(df_trans_1)\n",
    "df_trans_2.shape"
   ]
  },
  {
   "cell_type": "markdown",
   "metadata": {},
   "source": [
    "#### C. Intra/Inter state feature"
   ]
  },
  {
   "cell_type": "code",
   "execution_count": 82,
   "metadata": {},
   "outputs": [
    {
     "data": {
      "text/plain": [
       "(214923, 17)"
      ]
     },
     "execution_count": 82,
     "metadata": {},
     "output_type": "execute_result"
    }
   ],
   "source": [
    "#create transformer to delete rows\n",
    "class IntraStateComp(BaseEstimator, TransformerMixin):\n",
    "    def __init__(self):\n",
    "        None\n",
    "    def fit(self, X, y=None):\n",
    "        return self\n",
    "    def transform(self, X):\n",
    "        X['intra_state_comp'] = (X['state_orig'] == X['state_dest'])*1\n",
    "        return X\n",
    "\n",
    "pl_3 = IntraStateComp()\n",
    "df_trans_3 = pl_3.transform(df_trans_2)\n",
    "df_trans_3.shape"
   ]
  },
  {
   "cell_type": "code",
   "execution_count": null,
   "metadata": {
    "collapsed": true
   },
   "outputs": [],
   "source": [
    "\n",
    "  X['intra_state'] = (X['orig'] == X['dest'])*1\n"
   ]
  },
  {
   "cell_type": "markdown",
   "metadata": {},
   "source": [
    "#### D. Categorical Transformation"
   ]
  },
  {
   "cell_type": "code",
   "execution_count": 83,
   "metadata": {},
   "outputs": [
    {
     "data": {
      "text/plain": [
       "(214923, 149)"
      ]
     },
     "execution_count": 83,
     "metadata": {},
     "output_type": "execute_result"
    }
   ],
   "source": [
    "# Create transformer to select subset of data\n",
    "class CategoricalTrans(BaseEstimator, TransformerMixin):\n",
    "    def __init__(self, attribute_names):\n",
    "        self.attribute_names = attribute_names\n",
    "    def fit(self, X, y=None):\n",
    "        return self\n",
    "    def transform(self, X):\n",
    "        for col in self.attribute_names:\n",
    "            X = pd.concat([X, pd.get_dummies(X[col],prefix=col)],axis=1)\n",
    "        X = X.drop(self.attribute_names,axis=1)\n",
    "        return X  \n",
    "    \n",
    "final_pipeline = Pipeline([\n",
    "('CatEncoder', CategoricalTrans(cols_cat_final)),\n",
    "('df_tomatrix',Xy_to_matrix(target))\n",
    "]) \n",
    "\n",
    "pl_4 = CategoricalTrans(attribute_names=cols_cat_final)\n",
    "df_trans_4 = pl_4.transform(df_trans_3)\n",
    "df_trans_4.shape"
   ]
  },
  {
   "cell_type": "markdown",
   "metadata": {},
   "source": [
    "#### E. Dates Transformation"
   ]
  },
  {
   "cell_type": "code",
   "execution_count": 84,
   "metadata": {},
   "outputs": [
    {
     "data": {
      "text/plain": [
       "(214923, 149)"
      ]
     },
     "execution_count": 84,
     "metadata": {},
     "output_type": "execute_result"
    }
   ],
   "source": [
    "# Create transformer to convert departure and arrival times to hours\n",
    "def str_to_hrs(x):\n",
    "    x=str(int(x))\n",
    "    if x == '2400':\n",
    "        x = '2359'\n",
    "    if len(x)<3:\n",
    "        x_dt = datetime.strptime(str(x),'%M')\n",
    "    else:\n",
    "        x_dt = datetime.strptime(str(x),'%H%M')\n",
    "    return x_dt.hour + (x_dt.minute/60)\n",
    "\n",
    "class FloatHourAdder(BaseEstimator, TransformerMixin):\n",
    "    def __init__(self,attribute_names):\n",
    "        self.attribute_names = attribute_names\n",
    "    def fit(self, X, y=None):\n",
    "        return self # nothing to do here!\n",
    "    def transform(self, X, y=None): #no y required as we are just cleaning features\n",
    "        for col in self.attribute_names:\n",
    "            X['%s_HOUR_CLEAN'%(col)] = X[col].apply(str_to_hrs)\n",
    "        X=X.drop(self.attribute_names, axis=1) #drop original columns\n",
    "        return X\n",
    "    \n",
    "pl_5 = FloatHourAdder(cols_date_final)\n",
    "df_trans_5 = pl_5.transform(df_trans_4)\n",
    "df_trans_5.shape"
   ]
  },
  {
   "cell_type": "markdown",
   "metadata": {},
   "source": [
    "#### F. to_matrix Transformation"
   ]
  },
  {
   "cell_type": "code",
   "execution_count": 85,
   "metadata": {},
   "outputs": [
    {
     "data": {
      "text/plain": [
       "(214923, 148)"
      ]
     },
     "execution_count": 85,
     "metadata": {},
     "output_type": "execute_result"
    },
    {
     "data": {
      "text/plain": [
       "(214923,)"
      ]
     },
     "execution_count": 85,
     "metadata": {},
     "output_type": "execute_result"
    }
   ],
   "source": [
    "# Create transformer to select subset of data\n",
    "class Xy_to_matrix(BaseEstimator, TransformerMixin):\n",
    "    def __init__(self, target):\n",
    "        self.target = target\n",
    "    def fit(self, X, y=None):\n",
    "        return self\n",
    "    def transform(self, X):\n",
    "        y = X[target].as_matrix()\n",
    "        X = X.drop(target,axis=1).as_matrix()\n",
    "        return X, y  \n",
    "\n",
    "#test transformer\n",
    "target =  'ArrDelay'\n",
    "\n",
    "pl_6 = Xy_to_matrix(target)\n",
    "df_X, df_y = pl_6.transform(df_trans_5)\n",
    "df_X.shape\n",
    "df_y.shape"
   ]
  },
  {
   "cell_type": "markdown",
   "metadata": {},
   "source": [
    "# 6. Run Pipeline / Model Prep"
   ]
  },
  {
   "cell_type": "markdown",
   "metadata": {},
   "source": [
    "#### 1. Cleansing Pipeline (both train and test)\n",
    "- a. Delete rows with cancelld or diverted flights\n",
    "- b. Select data frame/delete nulls based on cols_cat_final + cols_num_final + cols_dates_final\n",
    "- c. Add dep/arr state match column\n",
    "- d. Categorical transormation, drop original columns\n",
    "- e. Dates transormation, drop original columns\n",
    "- f. Convert to matrix (Make target col the last column)\n",
    "\n",
    "#### 2. Split/shuflle into test train\n",
    "- a. Create df_train, df_test (both include X AND y)\n",
    "\n",
    "#### 3. Run models: 10 models for both Linear Regression, RandomForestRegression\n",
    "- Test size 10% to 100% of training data. \n",
    "- Test accuracy on each model\n",
    "- Record training times and accuracies"
   ]
  },
  {
   "cell_type": "markdown",
   "metadata": {},
   "source": [
    "#### 1. Cleansing Pipeline (both train and test)"
   ]
  },
  {
   "cell_type": "code",
   "execution_count": 142,
   "metadata": {},
   "outputs": [
    {
     "name": "stdout",
     "output_type": "stream",
     "text": [
      "Pre-cleanse features: \n",
      "\n",
      "Categorical cols:  ['state_orig', 'UniqueCarrier', 'state_dest']\n",
      "Date cols:  ['CRSArrTime', 'CRSDepTime']\n",
      "Numerical cols (including target):  ['long_orig', 'lat_orig', 'long_dest', 'Year', 'Month', 'DayOfWeek', 'CRSElapsedTime', 'Distance', 'DayofMonth', 'ArrDelay', 'lat_dest']\n",
      "Total number of features:  16\n"
     ]
    }
   ],
   "source": [
    "print('Pre-cleanse features:','\\n')\n",
    "print('Categorical cols: ', cols_cat_final)\n",
    "print('Date cols: ', cols_date_final)\n",
    "print('Numerical cols (including target): ', cols_num_final)\n",
    "features_final = cols_cat_final + cols_num_final + cols_date_final\n",
    "print('Total number of features: ', len(features_final))      "
   ]
  },
  {
   "cell_type": "code",
   "execution_count": 87,
   "metadata": {},
   "outputs": [
    {
     "data": {
      "text/plain": [
       "['state_orig',\n",
       " 'UniqueCarrier',\n",
       " 'state_dest',\n",
       " 'long_orig',\n",
       " 'lat_orig',\n",
       " 'long_dest',\n",
       " 'Year',\n",
       " 'Month',\n",
       " 'DayOfWeek',\n",
       " 'CRSElapsedTime',\n",
       " 'Distance',\n",
       " 'DayofMonth',\n",
       " 'ArrDelay',\n",
       " 'lat_dest',\n",
       " 'CRSArrTime',\n",
       " 'CRSDepTime']"
      ]
     },
     "execution_count": 87,
     "metadata": {},
     "output_type": "execute_result"
    }
   ],
   "source": [
    "features_final"
   ]
  },
  {
   "cell_type": "code",
   "execution_count": 145,
   "metadata": {
    "collapsed": true
   },
   "outputs": [],
   "source": [
    "final_pipeline = Pipeline([\n",
    "    ('canc_divt',Delete_Cancelled_Diverted()),\n",
    "    ('FeatSelect',Select_Remove_Nulls(features_final)),\n",
    "    ('dep_arr_match', IntraStateComp()),\n",
    "    ('CatEncoder', CategoricalTrans(cols_cat_final)),\n",
    "    ('DatesFix', FloatHourAdder(cols_date_final)),\n",
    "    ('df_tomatrix',Xy_to_matrix(target))\n",
    "    ])    "
   ]
  },
  {
   "cell_type": "code",
   "execution_count": 146,
   "metadata": {
    "collapsed": true
   },
   "outputs": [],
   "source": [
    "X_clean, y_clean = final_pipeline.fit_transform(df_merge)"
   ]
  },
  {
   "cell_type": "markdown",
   "metadata": {},
   "source": [
    "#### 2. Split/shuflle into test train"
   ]
  },
  {
   "cell_type": "code",
   "execution_count": 147,
   "metadata": {},
   "outputs": [
    {
     "name": "stdout",
     "output_type": "stream",
     "text": [
      "X_train shape:  (171938, 148)\n",
      "X_test shape:  (42985, 148)\n",
      "y_train shape:  (171938,)\n",
      "y_test shape:  (42985,)\n"
     ]
    }
   ],
   "source": [
    "X_train, X_test, y_train, y_test = train_test_split(X_clean, \n",
    "                                                    y_clean, \n",
    "                                                    test_size=0.2, \n",
    "                                                    random_state=42, \n",
    "                                                    shuffle=True)\n",
    "\n",
    "print('X_train shape: ' ,X_train.shape)\n",
    "print('X_test shape: ' ,X_test.shape)\n",
    "print('y_train shape: ' ,y_train.shape)\n",
    "print('y_test shape: ' ,y_test.shape)"
   ]
  },
  {
   "cell_type": "code",
   "execution_count": 90,
   "metadata": {},
   "outputs": [
    {
     "data": {
      "text/plain": [
       "(171938, 149)"
      ]
     },
     "execution_count": 90,
     "metadata": {},
     "output_type": "execute_result"
    },
    {
     "data": {
      "text/plain": [
       "(42985, 149)"
      ]
     },
     "execution_count": 90,
     "metadata": {},
     "output_type": "execute_result"
    },
    {
     "data": {
      "text/plain": [
       "(171938, 1)"
      ]
     },
     "execution_count": 90,
     "metadata": {},
     "output_type": "execute_result"
    },
    {
     "data": {
      "text/plain": [
       "(42985, 1)"
      ]
     },
     "execution_count": 90,
     "metadata": {},
     "output_type": "execute_result"
    }
   ],
   "source": [
    "X_train_df = pd.DataFrame(X_train)\n",
    "X_test_df = pd.DataFrame(X_test)\n",
    "y_train_df = pd.DataFrame(y_train)\n",
    "y_test_df = pd.DataFrame(y_test)\n",
    "\n",
    "X_train_df.shape\n",
    "X_test_df.shape\n",
    "y_train_df.shape\n",
    "y_test_df.shape"
   ]
  },
  {
   "cell_type": "markdown",
   "metadata": {},
   "source": [
    "#move to csvs on disk\n",
    "os.getcwd()\n",
    "X_train_df.to_csv('X_train')\n",
    "X_test_df.to_csv('X_test')\n",
    "y_train_df.to_csv('y_train')\n",
    "y_test_df.to_csv('y_test')"
   ]
  },
  {
   "cell_type": "markdown",
   "metadata": {},
   "source": [
    "#### 3. Run models: 10 models for both Linear Regression, RandomForestRegression"
   ]
  },
  {
   "cell_type": "code",
   "execution_count": 158,
   "metadata": {
    "collapsed": true
   },
   "outputs": [],
   "source": [
    "def run_model(X_train, X_test, y_train, y_test, model, num_models=10, left_axis=[30,31], right_axis=[0,10]):\n",
    "    #get sample sizes\n",
    "    n_rows_samp = X_train.shape[0]/num_models \n",
    "    samp_size = []\n",
    "\n",
    "    for i in range(1,num_models+1):\n",
    "        samp_size.append(int(n_rows_samp * i))\n",
    "    #get rmses and runtimes\n",
    "    rmses = []\n",
    "    runtimes = []\n",
    "    for k, n in enumerate(samp_size):\n",
    "        t1 = time.time()\n",
    "        model.fit(X_train[0:n], y_train[0:n])\n",
    "        preds = model.predict(X_test)\n",
    "        t2 = time.time()\n",
    "        rmse = np.sqrt(mean_squared_error(y_test,preds))\n",
    "        rmses.append(rmse)\n",
    "        runtime = t2-t1\n",
    "        runtimes.append(runtime)\n",
    "        print('Model run ' + str(k) + ' complete: runtime = ' + str(runtime) + ', rmse = ' + str(rmse))\n",
    "    #plot rmses\n",
    "    fig, ax1 = plt.subplots()\n",
    "    ax1.plot(samp_size, rmses, 'b-')\n",
    "    ax1.set_xlabel('Sample Size (rows)')\n",
    "    ax1.set_ylabel('RMSE (Minutes Delayed)', color='b')\n",
    "    \n",
    "    ax1.tick_params('y', colors='b')\n",
    "    #plot runtimes\n",
    "    ax2 = ax1.twinx()\n",
    "    ax2.plot(samp_size, runtimes, 'r-')\n",
    "    ax2.set_ylabel('Runtime (seconds)', color='r')\n",
    "    \n",
    "    ax2.tick_params('y', colors='r')\n",
    "    plt.title(re.findall('[A-Z]+[a-z]+[A-Z]+[a-z]+',str(model))[0],fontsize=20)\n",
    "    fig.tight_layout()\n",
    "    ax1.set_ylim(left_axis)\n",
    "    ax2.set_ylim(right_axis)\n",
    "    plt.show()\n",
    "    print('Average RMSE: ', np.average(rmses))\n",
    "    print('Average Runtime: ', np.average(runtimes))\n",
    "    return rmses, runtimes, samp_size"
   ]
  },
  {
   "cell_type": "code",
   "execution_count": 159,
   "metadata": {},
   "outputs": [
    {
     "name": "stdout",
     "output_type": "stream",
     "text": [
      "Model run 0 complete: runtime = 0.1640000343322754, rmse = 30.3506646626\n",
      "Model run 1 complete: runtime = 0.4030001163482666, rmse = 30.2659982046\n",
      "Model run 2 complete: runtime = 0.6340000629425049, rmse = 30.2458773403\n",
      "Model run 3 complete: runtime = 0.8420000076293945, rmse = 30.2470528756\n",
      "Model run 4 complete: runtime = 0.9699997901916504, rmse = 30.2368939738\n",
      "Model run 5 complete: runtime = 1.2710001468658447, rmse = 30.2367779797\n",
      "Model run 6 complete: runtime = 1.2869999408721924, rmse = 30.2323815348\n",
      "Model run 7 complete: runtime = 1.4920001029968262, rmse = 30.2259720632\n",
      "Model run 8 complete: runtime = 1.6559998989105225, rmse = 30.2228111175\n",
      "Model run 9 complete: runtime = 1.9510002136230469, rmse = 30.2205852155\n"
     ]
    },
    {
     "data": {
      "image/png": "[encoded data removed]",
      "text/plain": [
       "<matplotlib.figure.Figure at 0xda93c50>"
      ]
     },
     "metadata": {},
     "output_type": "display_data"
    },
    {
     "name": "stdout",
     "output_type": "stream",
     "text": [
      "Average RMSE:  30.2485014968\n",
      "Average Runtime:  1.06700003147\n"
     ]
    }
   ],
   "source": [
    "# Linear Model\n",
    "lr_rmses, lr_runtimes, samp_size = run_model(X_train, X_test, y_train, y_test, \n",
    "                                             LinearRegression())"
   ]
  },
  {
   "cell_type": "code",
   "execution_count": 153,
   "metadata": {},
   "outputs": [
    {
     "name": "stdout",
     "output_type": "stream",
     "text": [
      "Model run 0 complete: runtime = 2.7972798347473145, rmse = 30.2961296183\n",
      "Model run 1 complete: runtime = 5.076507568359375, rmse = 30.2832825618\n",
      "Model run 2 complete: runtime = 8.578857660293579, rmse = 30.2820964221\n",
      "Model run 3 complete: runtime = 11.634163618087769, rmse = 30.2828554082\n",
      "Model run 4 complete: runtime = 13.977397680282593, rmse = 30.2824567777\n",
      "Model run 5 complete: runtime = 16.475647449493408, rmse = 30.2797802899\n",
      "Model run 6 complete: runtime = 19.851985216140747, rmse = 30.2795156017\n",
      "Model run 7 complete: runtime = 23.82038164138794, rmse = 30.2794043633\n",
      "Model run 8 complete: runtime = 28.429842710494995, rmse = 30.2791344901\n",
      "Model run 9 complete: runtime = 33.486348390579224, rmse = 30.2796865649\n"
     ]
    },
    {
     "data": {
      "image/png": "[encoded data removed]",
      "text/plain": [
       "<matplotlib.figure.Figure at 0xfbdaa58>"
      ]
     },
     "metadata": {},
     "output_type": "display_data"
    },
    {
     "name": "stdout",
     "output_type": "stream",
     "text": [
      "Average RMSE:  30.2824342098\n",
      "Average Runtime:  16.412841177\n"
     ]
    }
   ],
   "source": [
    "# ElasticNet Model\n",
    "en_rmses, en_runtimes, samp_size = run_model(X_train, X_test, y_train, y_test, \n",
    "                                             ElasticNet(alpha=0.1, l1_ratio=0.1, random_state=42), \n",
    "                                             right_axis=[0,40])"
   ]
  },
  {
   "cell_type": "code",
   "execution_count": 156,
   "metadata": {},
   "outputs": [
    {
     "name": "stdout",
     "output_type": "stream",
     "text": [
      "Model run 0 complete: runtime = 18.189818620681763, rmse = 30.8942791407\n",
      "Model run 1 complete: runtime = 43.66036558151245, rmse = 30.4204800531\n",
      "Model run 2 complete: runtime = 74.26242542266846, rmse = 30.2298206069\n",
      "Model run 3 complete: runtime = 109.43194222450256, rmse = 30.2909779001\n",
      "Model run 4 complete: runtime = 134.66646528244019, rmse = 30.2044455515\n",
      "Model run 5 complete: runtime = 173.68336653709412, rmse = 30.2989660492\n",
      "Model run 6 complete: runtime = 197.85469269752502, rmse = 30.1908331235\n",
      "Model run 7 complete: runtime = 241.726824760437, rmse = 30.1019693968\n",
      "Model run 8 complete: runtime = 283.2382230758667, rmse = 30.1026348626\n",
      "Model run 9 complete: runtime = 309.7449998855591, rmse = 30.0652037924\n"
     ]
    },
    {
     "data": {
      "image/png": "[encoded data removed]",
      "text/plain": [
       "<matplotlib.figure.Figure at 0xf7367f0>"
      ]
     },
     "metadata": {},
     "output_type": "display_data"
    },
    {
     "name": "stdout",
     "output_type": "stream",
     "text": [
      "Average RMSE:  30.2799610477\n",
      "Average Runtime:  158.645912409\n"
     ]
    }
   ],
   "source": [
    "# RandomForest Model\n",
    "rf_rmses, rf_runtimes, samp_size = run_model(X_train, X_test, y_train, y_test, \n",
    "                                             RandomForestRegressor(n_estimators=100, max_depth=10),\n",
    "                                             left_axis=[30,31],\n",
    "                                             right_axis=[0,300])"
   ]
  }
 ],
 "metadata": {
  "kernelspec": {
   "display_name": "Python 3",
   "language": "python",
   "name": "python3"
  },
  "language_info": {
   "codemirror_mode": {
    "name": "ipython",
    "version": 3
   },
   "file_extension": ".py",
   "mimetype": "text/x-python",
   "name": "python",
   "nbconvert_exporter": "python",
   "pygments_lexer": "ipython3",
   "version": "3.6.3"
  }
 },
 "nbformat": 4,
 "nbformat_minor": 2
}
